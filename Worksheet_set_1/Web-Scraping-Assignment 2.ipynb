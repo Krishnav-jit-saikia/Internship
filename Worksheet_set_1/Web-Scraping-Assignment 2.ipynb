{
 "cells": [
  {
   "cell_type": "code",
   "execution_count": 498,
   "id": "22b96a5e",
   "metadata": {},
   "outputs": [],
   "source": [
    "import selenium\n",
    "import pandas as pd\n",
    "from selenium import webdriver\n",
    "import warnings\n",
    "warnings.filterwarnings('ignore')\n",
    "from selenium.webdriver.common.by import By\n",
    "import time"
   ]
  },
  {
   "cell_type": "markdown",
   "id": "ac92c2fd",
   "metadata": {},
   "source": [
    "# Question - 1"
   ]
  },
  {
   "cell_type": "markdown",
   "id": "e8824d3a",
   "metadata": {},
   "source": [
    "1.Write a python program to scrape data for “Data Analyst” Job position in “Bangalore” location. You\n",
    "have to scrape the job-title, job-location, company_name, experience_required. You have to scrape first 10\n",
    "jobs data.\n",
    "This task will be done in following steps:\n",
    "1. First get the webpage https://www.shine.com/\n",
    "2. Enter “Data Analyst” in “Job title, Skills” field and enter “Bangalore” in “enter the location” field.\n",
    "3. Then click the searchbutton.\n",
    "4. Then scrape the data for the first 10 jobs results you get.\n",
    "5. Finally create a dataframe of the scraped data."
   ]
  },
  {
   "cell_type": "markdown",
   "id": "fc4134f2",
   "metadata": {},
   "source": [
    "# Answer ;"
   ]
  },
  {
   "cell_type": "code",
   "execution_count": 2,
   "id": "cfde8279",
   "metadata": {},
   "outputs": [],
   "source": [
    "driver1 = webdriver.Chrome()"
   ]
  },
  {
   "cell_type": "code",
   "execution_count": 3,
   "id": "fa5a1e82",
   "metadata": {},
   "outputs": [],
   "source": [
    "driver1.get('https://www.shine.com/')"
   ]
  },
  {
   "cell_type": "code",
   "execution_count": 7,
   "id": "80279559",
   "metadata": {},
   "outputs": [],
   "source": [
    "Jobs = driver1.find_element(By.CLASS_NAME,\"mobileBottomNav_mfnJobs__z85Dv\")\n",
    "Jobs.click()"
   ]
  },
  {
   "cell_type": "code",
   "execution_count": 10,
   "id": "e0232af8",
   "metadata": {},
   "outputs": [],
   "source": [
    "Job_title = driver1.find_element(By.XPATH,'/html/body/div[1]/div[1]/div/div/div[1]/div[1]/div/div[2]/div/div/form/div/div[1]/ul/li[1]/div/input')\n",
    "Job_title.send_keys('Data Analyst')"
   ]
  },
  {
   "cell_type": "code",
   "execution_count": 12,
   "id": "d4ca281f",
   "metadata": {},
   "outputs": [],
   "source": [
    "Locations = driver1.find_element(By.XPATH , '/html/body/div[1]/div[1]/div/div/div[1]/div[1]/div/div[2]/div/div/form/div/div[1]/ul/li[2]/div/input')\n",
    "Locations.send_keys('Bangalore')"
   ]
  },
  {
   "cell_type": "code",
   "execution_count": 14,
   "id": "ef988b6f",
   "metadata": {},
   "outputs": [],
   "source": [
    "search = driver1.find_element(By.CLASS_NAME,\"searchForm_btnWrap_advance__VYBHN\")\n",
    "search.click()"
   ]
  },
  {
   "cell_type": "code",
   "execution_count": 31,
   "id": "6ad44687",
   "metadata": {},
   "outputs": [],
   "source": [
    "Job_titles1 = []"
   ]
  },
  {
   "cell_type": "code",
   "execution_count": 51,
   "id": "e79b13cd",
   "metadata": {},
   "outputs": [],
   "source": [
    "titles = driver1.find_elements(By.XPATH,'/html/body/div[1]/div[1]/div[4]/div/div[2]/div[1]/div/div[1]/div[10]/div[1]/div[1]/h2')\n",
    "for i in titles :\n",
    "    Job_titles1.append(i.text)"
   ]
  },
  {
   "cell_type": "code",
   "execution_count": 52,
   "id": "da00d724",
   "metadata": {},
   "outputs": [
    {
     "data": {
      "text/plain": [
       "['Lead Data Analyst',\n",
       " 'Data Analyst',\n",
       " 'Vacancy For Data Analyst',\n",
       " 'Clinical Data Analyst',\n",
       " 'Data Modeler data',\n",
       " 'Data Modeller',\n",
       " 'Data Modeler Bangalore',\n",
       " 'Data Modeler',\n",
       " 'Clinical Data Analyst',\n",
       " 'Data Analyst Hiring Fresher and Experience']"
      ]
     },
     "execution_count": 52,
     "metadata": {},
     "output_type": "execute_result"
    }
   ],
   "source": [
    "Job_titles1"
   ]
  },
  {
   "cell_type": "code",
   "execution_count": 75,
   "id": "fc9eb358",
   "metadata": {},
   "outputs": [],
   "source": [
    "job_locatios1 = []"
   ]
  },
  {
   "cell_type": "code",
   "execution_count": 96,
   "id": "78660c43",
   "metadata": {},
   "outputs": [],
   "source": [
    "locations = driver1.find_elements(By.XPATH,'/html/body/div[1]/div[1]/div[4]/div/div[2]/div[1]/div/div[1]/div[10]/div[1]/div[1]/div[3]/div[2]')\n",
    "for i in locations:\n",
    "    job_locatios1.append(i.text)"
   ]
  },
  {
   "cell_type": "code",
   "execution_count": 97,
   "id": "e6b3cce4",
   "metadata": {},
   "outputs": [
    {
     "data": {
      "text/plain": [
       "['Bangalore',\n",
       " 'Bangalore\\n+3',\n",
       " 'Bangalore\\n+14',\n",
       " 'Bangalore\\n+6',\n",
       " 'Bangalore',\n",
       " 'Bangalore',\n",
       " 'Bangalore',\n",
       " 'Bangalore',\n",
       " 'Bangalore\\n+4',\n",
       " 'Bangalore\\n+13']"
      ]
     },
     "execution_count": 97,
     "metadata": {},
     "output_type": "execute_result"
    }
   ],
   "source": [
    "job_locatios1"
   ]
  },
  {
   "cell_type": "code",
   "execution_count": 101,
   "id": "85b641cf",
   "metadata": {},
   "outputs": [],
   "source": [
    "company_names1 = []"
   ]
  },
  {
   "cell_type": "code",
   "execution_count": 103,
   "id": "9889c52a",
   "metadata": {},
   "outputs": [],
   "source": [
    "names = driver1.find_elements(By.CLASS_NAME,\"jobCard_jobCard_cName__mYnow\")\n",
    "for i in names :\n",
    "    company_names1.append(i.text)"
   ]
  },
  {
   "cell_type": "code",
   "execution_count": 105,
   "id": "f998821a",
   "metadata": {},
   "outputs": [
    {
     "data": {
      "text/plain": [
       "['ara resources private limited',\n",
       " 'diraa hr services hiring for mncs',\n",
       " 'yogita staffing solution',\n",
       " 'techno endura',\n",
       " 'boyen haddin consulting and technol...',\n",
       " 'boyen haddin consulting and technol...',\n",
       " 'boyen haddin consulting and technol...',\n",
       " 'boyen haddin consulting and technol...',\n",
       " 'quiscon biotech',\n",
       " 'kavya interprises',\n",
       " 'kavya interprises',\n",
       " 'ltimindtree limited',\n",
       " 'kavya interprises',\n",
       " 'fondstaff private limited',\n",
       " 'ltimindtree limited',\n",
       " 'techno endura',\n",
       " 'boyen haddin consulting and technol...',\n",
       " 'yogita staffing solution',\n",
       " 'vaishnavi services',\n",
       " 'rianshi developers private limited',\n",
       " 'quiscon biotech',\n",
       " 'pick bright hr solution',\n",
       " 'infosys limited',\n",
       " 'aereo',\n",
       " 'varite india private limited',\n",
       " 'techno endura',\n",
       " 'future solution centre',\n",
       " 'boyen haddin consulting and technol...',\n",
       " 'global solutions..',\n",
       " 'boyen haddin consulting and technol...',\n",
       " 'boyen haddin consulting and technol...',\n",
       " 'md shakeel ahamed hiring for mnc',\n",
       " 'techno endura',\n",
       " 'yogita staffing solution',\n",
       " 'global solutions..',\n",
       " 'acme services private limited',\n",
       " 'ltimindtree limited',\n",
       " 'neostats',\n",
       " 'boyen haddin consulting and technol...',\n",
       " 'boyen haddin consulting and technol...']"
      ]
     },
     "execution_count": 105,
     "metadata": {},
     "output_type": "execute_result"
    }
   ],
   "source": [
    "company_names1"
   ]
  },
  {
   "cell_type": "code",
   "execution_count": 106,
   "id": "5ffe1aa1",
   "metadata": {},
   "outputs": [],
   "source": [
    "comapny_name = company_names1[:10]"
   ]
  },
  {
   "cell_type": "code",
   "execution_count": 108,
   "id": "8d08a6a5",
   "metadata": {},
   "outputs": [
    {
     "data": {
      "text/plain": [
       "['ara resources private limited',\n",
       " 'diraa hr services hiring for mncs',\n",
       " 'yogita staffing solution',\n",
       " 'techno endura',\n",
       " 'boyen haddin consulting and technol...',\n",
       " 'boyen haddin consulting and technol...',\n",
       " 'boyen haddin consulting and technol...',\n",
       " 'boyen haddin consulting and technol...',\n",
       " 'quiscon biotech',\n",
       " 'kavya interprises']"
      ]
     },
     "execution_count": 108,
     "metadata": {},
     "output_type": "execute_result"
    }
   ],
   "source": [
    "comapny_name"
   ]
  },
  {
   "cell_type": "code",
   "execution_count": 111,
   "id": "4e683f81",
   "metadata": {},
   "outputs": [],
   "source": [
    "experiece_requirments1 = []"
   ]
  },
  {
   "cell_type": "code",
   "execution_count": 132,
   "id": "4b5eeab1",
   "metadata": {},
   "outputs": [],
   "source": [
    "requirments = driver1.find_elements(By.XPATH, \"/html/body/div[1]/div[1]/div[4]/div/div[2]/div[1]/div/div[1]/div[10]/div[1]/div[1]/div[3]/div[1]\")\n",
    "for i in requirments :\n",
    "    experiece_requirments1.append(i.text)\n",
    "    "
   ]
  },
  {
   "cell_type": "code",
   "execution_count": 133,
   "id": "8c48ab8c",
   "metadata": {},
   "outputs": [
    {
     "data": {
      "text/plain": [
       "['4 to 9 Yrs',\n",
       " '0 to 1 Yr',\n",
       " '0 to 3 Yrs',\n",
       " '0 to 1 Yr',\n",
       " '3 to 6 Yrs',\n",
       " '3 to 6 Yrs',\n",
       " '3 to 6 Yrs',\n",
       " '3 to 6 Yrs',\n",
       " '0 to 2 Yrs',\n",
       " '0 to 4 Yrs']"
      ]
     },
     "execution_count": 133,
     "metadata": {},
     "output_type": "execute_result"
    }
   ],
   "source": [
    "experiece_requirments1"
   ]
  },
  {
   "cell_type": "code",
   "execution_count": 98,
   "id": "0f786b84",
   "metadata": {},
   "outputs": [],
   "source": [
    "import pandas as pd"
   ]
  },
  {
   "cell_type": "code",
   "execution_count": 134,
   "id": "a5aead04",
   "metadata": {},
   "outputs": [],
   "source": [
    "df1 = pd.DataFrame({'Job titles':Job_titles1 , 'Job locations':job_locatios1 , 'Company names': comapny_name , 'Experience requirments': experiece_requirments1})"
   ]
  },
  {
   "cell_type": "markdown",
   "id": "ee4ae93f",
   "metadata": {},
   "source": [
    "# DataFrame of Q.1"
   ]
  },
  {
   "cell_type": "code",
   "execution_count": 136,
   "id": "f46c6a52",
   "metadata": {
    "scrolled": true
   },
   "outputs": [
    {
     "data": {
      "text/html": [
       "<div>\n",
       "<style scoped>\n",
       "    .dataframe tbody tr th:only-of-type {\n",
       "        vertical-align: middle;\n",
       "    }\n",
       "\n",
       "    .dataframe tbody tr th {\n",
       "        vertical-align: top;\n",
       "    }\n",
       "\n",
       "    .dataframe thead th {\n",
       "        text-align: right;\n",
       "    }\n",
       "</style>\n",
       "<table border=\"1\" class=\"dataframe\">\n",
       "  <thead>\n",
       "    <tr style=\"text-align: right;\">\n",
       "      <th></th>\n",
       "      <th>Job titles</th>\n",
       "      <th>Job locations</th>\n",
       "      <th>Company names</th>\n",
       "      <th>Experience requirments</th>\n",
       "    </tr>\n",
       "  </thead>\n",
       "  <tbody>\n",
       "    <tr>\n",
       "      <th>0</th>\n",
       "      <td>Lead Data Analyst</td>\n",
       "      <td>Bangalore</td>\n",
       "      <td>ara resources private limited</td>\n",
       "      <td>4 to 9 Yrs</td>\n",
       "    </tr>\n",
       "    <tr>\n",
       "      <th>1</th>\n",
       "      <td>Data Analyst</td>\n",
       "      <td>Bangalore\\n+3</td>\n",
       "      <td>diraa hr services hiring for mncs</td>\n",
       "      <td>0 to 1 Yr</td>\n",
       "    </tr>\n",
       "    <tr>\n",
       "      <th>2</th>\n",
       "      <td>Vacancy For Data Analyst</td>\n",
       "      <td>Bangalore\\n+14</td>\n",
       "      <td>yogita staffing solution</td>\n",
       "      <td>0 to 3 Yrs</td>\n",
       "    </tr>\n",
       "    <tr>\n",
       "      <th>3</th>\n",
       "      <td>Clinical Data Analyst</td>\n",
       "      <td>Bangalore\\n+6</td>\n",
       "      <td>techno endura</td>\n",
       "      <td>0 to 1 Yr</td>\n",
       "    </tr>\n",
       "    <tr>\n",
       "      <th>4</th>\n",
       "      <td>Data Modeler data</td>\n",
       "      <td>Bangalore</td>\n",
       "      <td>boyen haddin consulting and technol...</td>\n",
       "      <td>3 to 6 Yrs</td>\n",
       "    </tr>\n",
       "    <tr>\n",
       "      <th>5</th>\n",
       "      <td>Data Modeller</td>\n",
       "      <td>Bangalore</td>\n",
       "      <td>boyen haddin consulting and technol...</td>\n",
       "      <td>3 to 6 Yrs</td>\n",
       "    </tr>\n",
       "    <tr>\n",
       "      <th>6</th>\n",
       "      <td>Data Modeler Bangalore</td>\n",
       "      <td>Bangalore</td>\n",
       "      <td>boyen haddin consulting and technol...</td>\n",
       "      <td>3 to 6 Yrs</td>\n",
       "    </tr>\n",
       "    <tr>\n",
       "      <th>7</th>\n",
       "      <td>Data Modeler</td>\n",
       "      <td>Bangalore</td>\n",
       "      <td>boyen haddin consulting and technol...</td>\n",
       "      <td>3 to 6 Yrs</td>\n",
       "    </tr>\n",
       "    <tr>\n",
       "      <th>8</th>\n",
       "      <td>Clinical Data Analyst</td>\n",
       "      <td>Bangalore\\n+4</td>\n",
       "      <td>quiscon biotech</td>\n",
       "      <td>0 to 2 Yrs</td>\n",
       "    </tr>\n",
       "    <tr>\n",
       "      <th>9</th>\n",
       "      <td>Data Analyst Hiring Fresher and Experience</td>\n",
       "      <td>Bangalore\\n+13</td>\n",
       "      <td>kavya interprises</td>\n",
       "      <td>0 to 4 Yrs</td>\n",
       "    </tr>\n",
       "  </tbody>\n",
       "</table>\n",
       "</div>"
      ],
      "text/plain": [
       "                                   Job titles   Job locations  \\\n",
       "0                           Lead Data Analyst       Bangalore   \n",
       "1                                Data Analyst   Bangalore\\n+3   \n",
       "2                    Vacancy For Data Analyst  Bangalore\\n+14   \n",
       "3                       Clinical Data Analyst   Bangalore\\n+6   \n",
       "4                           Data Modeler data       Bangalore   \n",
       "5                               Data Modeller       Bangalore   \n",
       "6                      Data Modeler Bangalore       Bangalore   \n",
       "7                                Data Modeler       Bangalore   \n",
       "8                       Clinical Data Analyst   Bangalore\\n+4   \n",
       "9  Data Analyst Hiring Fresher and Experience  Bangalore\\n+13   \n",
       "\n",
       "                            Company names Experience requirments  \n",
       "0           ara resources private limited             4 to 9 Yrs  \n",
       "1       diraa hr services hiring for mncs              0 to 1 Yr  \n",
       "2                yogita staffing solution             0 to 3 Yrs  \n",
       "3                           techno endura              0 to 1 Yr  \n",
       "4  boyen haddin consulting and technol...             3 to 6 Yrs  \n",
       "5  boyen haddin consulting and technol...             3 to 6 Yrs  \n",
       "6  boyen haddin consulting and technol...             3 to 6 Yrs  \n",
       "7  boyen haddin consulting and technol...             3 to 6 Yrs  \n",
       "8                         quiscon biotech             0 to 2 Yrs  \n",
       "9                       kavya interprises             0 to 4 Yrs  "
      ]
     },
     "execution_count": 136,
     "metadata": {},
     "output_type": "execute_result"
    }
   ],
   "source": [
    "df1"
   ]
  },
  {
   "cell_type": "markdown",
   "id": "c41e5f7d",
   "metadata": {},
   "source": [
    "# Question - 2"
   ]
  },
  {
   "cell_type": "markdown",
   "id": "abd2b44f",
   "metadata": {},
   "source": [
    "Q2:Write a python program to scrape data for “Data Scientist” Job position in“Bangalore” location. You\n",
    "have to scrape the job-title, job-location, company_name. You have to scrape first 10 jobs data.\n",
    "This task will be done in following steps:\n",
    "1. First get the webpage https://www.shine.com/\n",
    "2. Enter “Data Scientist” in “Job title, Skills” field and enter “Bangalore” in “enter thelocation” field.\n",
    "3. Then click the search button.\n",
    "4. Then scrape the data for the first 10 jobs results you get.\n",
    "5. Finally create a dataframe of the scraped data."
   ]
  },
  {
   "cell_type": "markdown",
   "id": "f0489e39",
   "metadata": {},
   "source": [
    "# Answer ;"
   ]
  },
  {
   "cell_type": "code",
   "execution_count": 139,
   "id": "09448d1c",
   "metadata": {},
   "outputs": [],
   "source": [
    "#1\n",
    "driver2 = webdriver.Chrome()\n",
    "driver2.get('https://www.shine.com/')"
   ]
  },
  {
   "cell_type": "code",
   "execution_count": 140,
   "id": "9c5bc998",
   "metadata": {},
   "outputs": [],
   "source": [
    "Jobs2 = driver2.find_element(By.CLASS_NAME,\"mobileBottomNav_mfnJobs__z85Dv\")\n",
    "Jobs2.click()"
   ]
  },
  {
   "cell_type": "code",
   "execution_count": 141,
   "id": "ddb332af",
   "metadata": {},
   "outputs": [],
   "source": [
    "Job_title2 = driver2.find_element(By.XPATH,'/html/body/div/div[1]/div/div/div[1]/div[1]/div/div[2]/div/div/form/div/div[1]/ul/li[1]/div/input')\n",
    "Job_title2.send_keys('Data Scientist')\n",
    "Locations2 = driver2.find_element(By.XPATH ,'/html/body/div/div[1]/div/div/div[1]/div[1]/div/div[2]/div/div/form/div/div[1]/ul/li[2]/div/input')\n",
    "Locations2.send_keys('Bangalore')"
   ]
  },
  {
   "cell_type": "code",
   "execution_count": 142,
   "id": "8d61457f",
   "metadata": {},
   "outputs": [],
   "source": [
    "search2 = driver2.find_element(By.CLASS_NAME,\"searchForm_btnWrap_advance__VYBHN\")\n",
    "search2.click()"
   ]
  },
  {
   "cell_type": "code",
   "execution_count": 147,
   "id": "321d2b37",
   "metadata": {},
   "outputs": [],
   "source": [
    "Job_titles2 = []\n",
    "Job_locations2 = []\n",
    "company_names2 = []"
   ]
  },
  {
   "cell_type": "code",
   "execution_count": 166,
   "id": "df891185",
   "metadata": {},
   "outputs": [],
   "source": [
    "titles2 = driver2.find_elements(By.XPATH,'/html/body/div[1]/div[1]/div[4]/div/div[2]/div[1]/div/div[1]/div[10]/div[1]/div[1]/h2/a')\n",
    "for i in titles2 :\n",
    "    Job_titles2.append(i.text)"
   ]
  },
  {
   "cell_type": "code",
   "execution_count": 167,
   "id": "3a8160b4",
   "metadata": {},
   "outputs": [
    {
     "data": {
      "text/plain": [
       "['Data Scientist',\n",
       " 'Data Scientist',\n",
       " 'Lead Data Scientist/ Principal Data Scientist',\n",
       " 'Senior Data Scientist',\n",
       " 'Vacancy For Data Scientist Fresher and Experience',\n",
       " 'Lead Data Scientist',\n",
       " 'Data Scientist',\n",
       " 'Data Scientist Urgent Vacancy',\n",
       " 'Data Scientist',\n",
       " 'Pharma Data Scientist']"
      ]
     },
     "execution_count": 167,
     "metadata": {},
     "output_type": "execute_result"
    }
   ],
   "source": [
    "Job_titles2"
   ]
  },
  {
   "cell_type": "code",
   "execution_count": 187,
   "id": "d9ab6ea0",
   "metadata": {},
   "outputs": [],
   "source": [
    "locations2 = driver2.find_elements(By.XPATH,'/html/body/div[1]/div[1]/div[4]/div/div[2]/div[1]/div/div[1]/div[10]/div[1]/div[1]/div[3]/div[2]')\n",
    "for i in locations2 :\n",
    "    Job_locations2.append(i.text)"
   ]
  },
  {
   "cell_type": "code",
   "execution_count": 188,
   "id": "daf25a13",
   "metadata": {},
   "outputs": [
    {
     "data": {
      "text/plain": [
       "['Bangalore\\n+4',\n",
       " 'Bangalore',\n",
       " 'Bangalore\\n+1',\n",
       " 'Bangalore\\n+1',\n",
       " 'Bangalore\\n+14',\n",
       " 'Bangalore\\n+1',\n",
       " 'Bangalore\\n+7',\n",
       " 'Bangalore\\n+14',\n",
       " 'Bangalore\\n+2',\n",
       " 'Bangalore\\n+4']"
      ]
     },
     "execution_count": 188,
     "metadata": {},
     "output_type": "execute_result"
    }
   ],
   "source": [
    "Job_locations2"
   ]
  },
  {
   "cell_type": "code",
   "execution_count": 189,
   "id": "a99d8601",
   "metadata": {},
   "outputs": [],
   "source": [
    "name2 = driver2.find_elements(By.CLASS_NAME,\"jobCard_jobCard_cName__mYnow\")\n",
    "for i in name2 :\n",
    "    company_names2.append(i.text)"
   ]
  },
  {
   "cell_type": "code",
   "execution_count": 192,
   "id": "bd6128a9",
   "metadata": {},
   "outputs": [
    {
     "data": {
      "text/plain": [
       "['acme services private limited',\n",
       " 'ltimindtree limited',\n",
       " 'fractal',\n",
       " 'neostats',\n",
       " 'yogita staffing solution',\n",
       " 'aereo',\n",
       " 'people staffing solutions',\n",
       " 'yogita staffing solution',\n",
       " 'diraa hr services',\n",
       " 'quiscon biotech']"
      ]
     },
     "execution_count": 192,
     "metadata": {},
     "output_type": "execute_result"
    }
   ],
   "source": [
    "company_names = company_names2[:10]\n",
    "company_names"
   ]
  },
  {
   "cell_type": "code",
   "execution_count": 193,
   "id": "0474c478",
   "metadata": {},
   "outputs": [],
   "source": [
    "df2 = pd.DataFrame({'Job Titles': Job_titles2 , 'Job Locations': Job_locations2 , 'Company names': company_names})"
   ]
  },
  {
   "cell_type": "markdown",
   "id": "86ca8dc5",
   "metadata": {},
   "source": [
    "# DataFrame of Q.2"
   ]
  },
  {
   "cell_type": "code",
   "execution_count": 194,
   "id": "5a22d14f",
   "metadata": {
    "scrolled": true
   },
   "outputs": [
    {
     "data": {
      "text/html": [
       "<div>\n",
       "<style scoped>\n",
       "    .dataframe tbody tr th:only-of-type {\n",
       "        vertical-align: middle;\n",
       "    }\n",
       "\n",
       "    .dataframe tbody tr th {\n",
       "        vertical-align: top;\n",
       "    }\n",
       "\n",
       "    .dataframe thead th {\n",
       "        text-align: right;\n",
       "    }\n",
       "</style>\n",
       "<table border=\"1\" class=\"dataframe\">\n",
       "  <thead>\n",
       "    <tr style=\"text-align: right;\">\n",
       "      <th></th>\n",
       "      <th>Job Titles</th>\n",
       "      <th>Job Locations</th>\n",
       "      <th>Company names</th>\n",
       "    </tr>\n",
       "  </thead>\n",
       "  <tbody>\n",
       "    <tr>\n",
       "      <th>0</th>\n",
       "      <td>Data Scientist</td>\n",
       "      <td>Bangalore\\n+4</td>\n",
       "      <td>acme services private limited</td>\n",
       "    </tr>\n",
       "    <tr>\n",
       "      <th>1</th>\n",
       "      <td>Data Scientist</td>\n",
       "      <td>Bangalore</td>\n",
       "      <td>ltimindtree limited</td>\n",
       "    </tr>\n",
       "    <tr>\n",
       "      <th>2</th>\n",
       "      <td>Lead Data Scientist/ Principal Data Scientist</td>\n",
       "      <td>Bangalore\\n+1</td>\n",
       "      <td>fractal</td>\n",
       "    </tr>\n",
       "    <tr>\n",
       "      <th>3</th>\n",
       "      <td>Senior Data Scientist</td>\n",
       "      <td>Bangalore\\n+1</td>\n",
       "      <td>neostats</td>\n",
       "    </tr>\n",
       "    <tr>\n",
       "      <th>4</th>\n",
       "      <td>Vacancy For Data Scientist Fresher and Experience</td>\n",
       "      <td>Bangalore\\n+14</td>\n",
       "      <td>yogita staffing solution</td>\n",
       "    </tr>\n",
       "    <tr>\n",
       "      <th>5</th>\n",
       "      <td>Lead Data Scientist</td>\n",
       "      <td>Bangalore\\n+1</td>\n",
       "      <td>aereo</td>\n",
       "    </tr>\n",
       "    <tr>\n",
       "      <th>6</th>\n",
       "      <td>Data Scientist</td>\n",
       "      <td>Bangalore\\n+7</td>\n",
       "      <td>people staffing solutions</td>\n",
       "    </tr>\n",
       "    <tr>\n",
       "      <th>7</th>\n",
       "      <td>Data Scientist Urgent Vacancy</td>\n",
       "      <td>Bangalore\\n+14</td>\n",
       "      <td>yogita staffing solution</td>\n",
       "    </tr>\n",
       "    <tr>\n",
       "      <th>8</th>\n",
       "      <td>Data Scientist</td>\n",
       "      <td>Bangalore\\n+2</td>\n",
       "      <td>diraa hr services</td>\n",
       "    </tr>\n",
       "    <tr>\n",
       "      <th>9</th>\n",
       "      <td>Pharma Data Scientist</td>\n",
       "      <td>Bangalore\\n+4</td>\n",
       "      <td>quiscon biotech</td>\n",
       "    </tr>\n",
       "  </tbody>\n",
       "</table>\n",
       "</div>"
      ],
      "text/plain": [
       "                                          Job Titles   Job Locations  \\\n",
       "0                                     Data Scientist   Bangalore\\n+4   \n",
       "1                                     Data Scientist       Bangalore   \n",
       "2      Lead Data Scientist/ Principal Data Scientist   Bangalore\\n+1   \n",
       "3                              Senior Data Scientist   Bangalore\\n+1   \n",
       "4  Vacancy For Data Scientist Fresher and Experience  Bangalore\\n+14   \n",
       "5                                Lead Data Scientist   Bangalore\\n+1   \n",
       "6                                     Data Scientist   Bangalore\\n+7   \n",
       "7                      Data Scientist Urgent Vacancy  Bangalore\\n+14   \n",
       "8                                     Data Scientist   Bangalore\\n+2   \n",
       "9                              Pharma Data Scientist   Bangalore\\n+4   \n",
       "\n",
       "                   Company names  \n",
       "0  acme services private limited  \n",
       "1            ltimindtree limited  \n",
       "2                        fractal  \n",
       "3                       neostats  \n",
       "4       yogita staffing solution  \n",
       "5                          aereo  \n",
       "6      people staffing solutions  \n",
       "7       yogita staffing solution  \n",
       "8              diraa hr services  \n",
       "9                quiscon biotech  "
      ]
     },
     "execution_count": 194,
     "metadata": {},
     "output_type": "execute_result"
    }
   ],
   "source": [
    "df2"
   ]
  },
  {
   "cell_type": "markdown",
   "id": "c8cdbaae",
   "metadata": {},
   "source": [
    "# Question - 4"
   ]
  },
  {
   "cell_type": "markdown",
   "id": "16657851",
   "metadata": {},
   "source": [
    "Q4: Scrape data of first 100 sunglasses listings on flipkart.com. You have to scrape four attributes:\n",
    "6. Brand\n",
    "7. ProductDescription\n",
    "8. Price\n",
    "The attributes which you have to scrape is ticked marked in the below image.\n",
    "To scrape the data you have to go through following steps:\n",
    "1. Go to Flipkart webpage by url :https://www.flipkart.com/\n",
    "2. Enter “sunglasses” in the search fieldwhere “search for products, brands and more” is written and\n",
    "click the search icon\n",
    "3. After that you will reach to the page having a lot of sunglasses. From this page you can scrap the\n",
    "required data as usual.\n",
    "4. After scraping data from the first page, go to the “Next” Button at the bottom other page , then\n",
    "click on it.\n",
    "5. Now scrape data from this page as usual\n",
    "6. Repeat this until you get data for 100sunglasses"
   ]
  },
  {
   "cell_type": "markdown",
   "id": "dbc07e0d",
   "metadata": {},
   "source": [
    "# Answer ;"
   ]
  },
  {
   "cell_type": "code",
   "execution_count": 217,
   "id": "831488b4",
   "metadata": {},
   "outputs": [],
   "source": [
    "driver4 = webdriver.Chrome()"
   ]
  },
  {
   "cell_type": "code",
   "execution_count": 218,
   "id": "f13da5b9",
   "metadata": {},
   "outputs": [],
   "source": [
    "driver4.get('https://www.flipkart.com/')"
   ]
  },
  {
   "cell_type": "code",
   "execution_count": 222,
   "id": "0aad0d93",
   "metadata": {},
   "outputs": [],
   "source": [
    "input4 = driver4.find_element(By.CLASS_NAME,\"Pke_EE\")\n",
    "input4.send_keys('sunglasses')"
   ]
  },
  {
   "cell_type": "code",
   "execution_count": 223,
   "id": "0191a1cf",
   "metadata": {},
   "outputs": [],
   "source": [
    "search4 = driver4.find_element(By.CLASS_NAME,\"_2iLD__\")\n",
    "search4.click()"
   ]
  },
  {
   "cell_type": "code",
   "execution_count": 224,
   "id": "b75cf5c3",
   "metadata": {},
   "outputs": [],
   "source": [
    "Brand1 = []\n",
    "ProductDescription = []\n",
    "Price = []"
   ]
  },
  {
   "cell_type": "code",
   "execution_count": 229,
   "id": "0766f2c6",
   "metadata": {},
   "outputs": [
    {
     "ename": "StaleElementReferenceException",
     "evalue": "Message: stale element reference: stale element not found\n  (Session info: chrome=120.0.6099.225); For documentation on this error, please visit: https://www.selenium.dev/documentation/webdriver/troubleshooting/errors#stale-element-reference-exception\nStacktrace:\n\tGetHandleVerifier [0x00007FF6A7C62142+3514994]\n\t(No symbol) [0x00007FF6A7880CE2]\n\t(No symbol) [0x00007FF6A77276AA]\n\t(No symbol) [0x00007FF6A772CFC0]\n\t(No symbol) [0x00007FF6A772F38F]\n\t(No symbol) [0x00007FF6A772F480]\n\t(No symbol) [0x00007FF6A776BB0E]\n\t(No symbol) [0x00007FF6A7795FEA]\n\t(No symbol) [0x00007FF6A77663B6]\n\t(No symbol) [0x00007FF6A7796490]\n\t(No symbol) [0x00007FF6A77B28F6]\n\t(No symbol) [0x00007FF6A7795D93]\n\t(No symbol) [0x00007FF6A7764BDC]\n\t(No symbol) [0x00007FF6A7765C64]\n\tGetHandleVerifier [0x00007FF6A7C8E16B+3695259]\n\tGetHandleVerifier [0x00007FF6A7CE6737+4057191]\n\tGetHandleVerifier [0x00007FF6A7CDE4E3+4023827]\n\tGetHandleVerifier [0x00007FF6A79B04F9+689705]\n\t(No symbol) [0x00007FF6A788C048]\n\t(No symbol) [0x00007FF6A7888044]\n\t(No symbol) [0x00007FF6A78881C9]\n\t(No symbol) [0x00007FF6A78788C4]\n\tBaseThreadInitThunk [0x00007FFFAF617344+20]\n\tRtlUserThreadStart [0x00007FFFB0B026B1+33]\n",
     "output_type": "error",
     "traceback": [
      "\u001b[1;31m---------------------------------------------------------------------------\u001b[0m",
      "\u001b[1;31mStaleElementReferenceException\u001b[0m            Traceback (most recent call last)",
      "Cell \u001b[1;32mIn[229], line 7\u001b[0m\n\u001b[0;32m      5\u001b[0m Brand_names \u001b[38;5;241m=\u001b[39m driver4\u001b[38;5;241m.\u001b[39mfind_elements(By\u001b[38;5;241m.\u001b[39mCLASS_NAME,\u001b[38;5;124m\"\u001b[39m\u001b[38;5;124m_2WkVRV\u001b[39m\u001b[38;5;124m\"\u001b[39m)\n\u001b[0;32m      6\u001b[0m \u001b[38;5;28;01mfor\u001b[39;00m i \u001b[38;5;129;01min\u001b[39;00m Brand_names:\n\u001b[1;32m----> 7\u001b[0m     Brand1\u001b[38;5;241m.\u001b[39mappend(i\u001b[38;5;241m.\u001b[39mtext)\n\u001b[0;32m      8\u001b[0m Product_names \u001b[38;5;241m=\u001b[39m driver4\u001b[38;5;241m.\u001b[39mfind_elements(By\u001b[38;5;241m.\u001b[39mCLASS_NAME,\u001b[38;5;124m\"\u001b[39m\u001b[38;5;124mIRpwTa\u001b[39m\u001b[38;5;124m\"\u001b[39m)\n\u001b[0;32m      9\u001b[0m \u001b[38;5;28;01mfor\u001b[39;00m i \u001b[38;5;129;01min\u001b[39;00m Product_names:\n",
      "File \u001b[1;32m~\\anaconda3\\Lib\\site-packages\\selenium\\webdriver\\remote\\webelement.py:90\u001b[0m, in \u001b[0;36mWebElement.text\u001b[1;34m(self)\u001b[0m\n\u001b[0;32m     87\u001b[0m \u001b[38;5;129m@property\u001b[39m\n\u001b[0;32m     88\u001b[0m \u001b[38;5;28;01mdef\u001b[39;00m \u001b[38;5;21mtext\u001b[39m(\u001b[38;5;28mself\u001b[39m) \u001b[38;5;241m-\u001b[39m\u001b[38;5;241m>\u001b[39m \u001b[38;5;28mstr\u001b[39m:\n\u001b[0;32m     89\u001b[0m \u001b[38;5;250m    \u001b[39m\u001b[38;5;124;03m\"\"\"The text of the element.\"\"\"\u001b[39;00m\n\u001b[1;32m---> 90\u001b[0m     \u001b[38;5;28;01mreturn\u001b[39;00m \u001b[38;5;28mself\u001b[39m\u001b[38;5;241m.\u001b[39m_execute(Command\u001b[38;5;241m.\u001b[39mGET_ELEMENT_TEXT)[\u001b[38;5;124m\"\u001b[39m\u001b[38;5;124mvalue\u001b[39m\u001b[38;5;124m\"\u001b[39m]\n",
      "File \u001b[1;32m~\\anaconda3\\Lib\\site-packages\\selenium\\webdriver\\remote\\webelement.py:395\u001b[0m, in \u001b[0;36mWebElement._execute\u001b[1;34m(self, command, params)\u001b[0m\n\u001b[0;32m    393\u001b[0m     params \u001b[38;5;241m=\u001b[39m {}\n\u001b[0;32m    394\u001b[0m params[\u001b[38;5;124m\"\u001b[39m\u001b[38;5;124mid\u001b[39m\u001b[38;5;124m\"\u001b[39m] \u001b[38;5;241m=\u001b[39m \u001b[38;5;28mself\u001b[39m\u001b[38;5;241m.\u001b[39m_id\n\u001b[1;32m--> 395\u001b[0m \u001b[38;5;28;01mreturn\u001b[39;00m \u001b[38;5;28mself\u001b[39m\u001b[38;5;241m.\u001b[39m_parent\u001b[38;5;241m.\u001b[39mexecute(command, params)\n",
      "File \u001b[1;32m~\\anaconda3\\Lib\\site-packages\\selenium\\webdriver\\remote\\webdriver.py:347\u001b[0m, in \u001b[0;36mWebDriver.execute\u001b[1;34m(self, driver_command, params)\u001b[0m\n\u001b[0;32m    345\u001b[0m response \u001b[38;5;241m=\u001b[39m \u001b[38;5;28mself\u001b[39m\u001b[38;5;241m.\u001b[39mcommand_executor\u001b[38;5;241m.\u001b[39mexecute(driver_command, params)\n\u001b[0;32m    346\u001b[0m \u001b[38;5;28;01mif\u001b[39;00m response:\n\u001b[1;32m--> 347\u001b[0m     \u001b[38;5;28mself\u001b[39m\u001b[38;5;241m.\u001b[39merror_handler\u001b[38;5;241m.\u001b[39mcheck_response(response)\n\u001b[0;32m    348\u001b[0m     response[\u001b[38;5;124m\"\u001b[39m\u001b[38;5;124mvalue\u001b[39m\u001b[38;5;124m\"\u001b[39m] \u001b[38;5;241m=\u001b[39m \u001b[38;5;28mself\u001b[39m\u001b[38;5;241m.\u001b[39m_unwrap_value(response\u001b[38;5;241m.\u001b[39mget(\u001b[38;5;124m\"\u001b[39m\u001b[38;5;124mvalue\u001b[39m\u001b[38;5;124m\"\u001b[39m, \u001b[38;5;28;01mNone\u001b[39;00m))\n\u001b[0;32m    349\u001b[0m     \u001b[38;5;28;01mreturn\u001b[39;00m response\n",
      "File \u001b[1;32m~\\anaconda3\\Lib\\site-packages\\selenium\\webdriver\\remote\\errorhandler.py:229\u001b[0m, in \u001b[0;36mErrorHandler.check_response\u001b[1;34m(self, response)\u001b[0m\n\u001b[0;32m    227\u001b[0m         alert_text \u001b[38;5;241m=\u001b[39m value[\u001b[38;5;124m\"\u001b[39m\u001b[38;5;124malert\u001b[39m\u001b[38;5;124m\"\u001b[39m]\u001b[38;5;241m.\u001b[39mget(\u001b[38;5;124m\"\u001b[39m\u001b[38;5;124mtext\u001b[39m\u001b[38;5;124m\"\u001b[39m)\n\u001b[0;32m    228\u001b[0m     \u001b[38;5;28;01mraise\u001b[39;00m exception_class(message, screen, stacktrace, alert_text)  \u001b[38;5;66;03m# type: ignore[call-arg]  # mypy is not smart enough here\u001b[39;00m\n\u001b[1;32m--> 229\u001b[0m \u001b[38;5;28;01mraise\u001b[39;00m exception_class(message, screen, stacktrace)\n",
      "\u001b[1;31mStaleElementReferenceException\u001b[0m: Message: stale element reference: stale element not found\n  (Session info: chrome=120.0.6099.225); For documentation on this error, please visit: https://www.selenium.dev/documentation/webdriver/troubleshooting/errors#stale-element-reference-exception\nStacktrace:\n\tGetHandleVerifier [0x00007FF6A7C62142+3514994]\n\t(No symbol) [0x00007FF6A7880CE2]\n\t(No symbol) [0x00007FF6A77276AA]\n\t(No symbol) [0x00007FF6A772CFC0]\n\t(No symbol) [0x00007FF6A772F38F]\n\t(No symbol) [0x00007FF6A772F480]\n\t(No symbol) [0x00007FF6A776BB0E]\n\t(No symbol) [0x00007FF6A7795FEA]\n\t(No symbol) [0x00007FF6A77663B6]\n\t(No symbol) [0x00007FF6A7796490]\n\t(No symbol) [0x00007FF6A77B28F6]\n\t(No symbol) [0x00007FF6A7795D93]\n\t(No symbol) [0x00007FF6A7764BDC]\n\t(No symbol) [0x00007FF6A7765C64]\n\tGetHandleVerifier [0x00007FF6A7C8E16B+3695259]\n\tGetHandleVerifier [0x00007FF6A7CE6737+4057191]\n\tGetHandleVerifier [0x00007FF6A7CDE4E3+4023827]\n\tGetHandleVerifier [0x00007FF6A79B04F9+689705]\n\t(No symbol) [0x00007FF6A788C048]\n\t(No symbol) [0x00007FF6A7888044]\n\t(No symbol) [0x00007FF6A78881C9]\n\t(No symbol) [0x00007FF6A78788C4]\n\tBaseThreadInitThunk [0x00007FFFAF617344+20]\n\tRtlUserThreadStart [0x00007FFFB0B026B1+33]\n"
     ]
    }
   ],
   "source": [
    "start = 0\n",
    "end = 3\n",
    "\n",
    "for page in range(start , end):\n",
    "    Brand_names = driver4.find_elements(By.CLASS_NAME,\"_2WkVRV\")\n",
    "    for i in Brand_names:\n",
    "        Brand1.append(i.text)\n",
    "    Product_names = driver4.find_elements(By.CLASS_NAME,\"IRpwTa\")\n",
    "    for i in Product_names:\n",
    "        ProductDescription.append(i.text)\n",
    "    Price_amount = driver4.find_elements(By.CLASS_NAME,\"_30jeq3\")\n",
    "    for i in Price_amount:\n",
    "        Price.append(i.text)\n",
    "    next_button =  driver4.find_element(By.CLASS_NAME,\"_1LKTO3\")\n",
    "    next_button.click()"
   ]
  },
  {
   "cell_type": "code",
   "execution_count": 233,
   "id": "1060fc31",
   "metadata": {},
   "outputs": [],
   "source": [
    "Brand = Brand1[:100]\n",
    "ProductDescription1 = ProductDescription[:100]\n",
    "Price1 = Price[:100]"
   ]
  },
  {
   "cell_type": "code",
   "execution_count": 234,
   "id": "187ea483",
   "metadata": {},
   "outputs": [],
   "source": [
    "import pandas as pd"
   ]
  },
  {
   "cell_type": "code",
   "execution_count": 235,
   "id": "bf139e1b",
   "metadata": {},
   "outputs": [],
   "source": [
    "df2 = pd.DataFrame({'Brand': Brand , 'Product Description':ProductDescription1 , 'Price' : Price1})"
   ]
  },
  {
   "cell_type": "markdown",
   "id": "5b72f08d",
   "metadata": {},
   "source": [
    "# DataFrame of Q.4"
   ]
  },
  {
   "cell_type": "code",
   "execution_count": 236,
   "id": "9e0ddffc",
   "metadata": {
    "scrolled": true
   },
   "outputs": [
    {
     "data": {
      "text/html": [
       "<div>\n",
       "<style scoped>\n",
       "    .dataframe tbody tr th:only-of-type {\n",
       "        vertical-align: middle;\n",
       "    }\n",
       "\n",
       "    .dataframe tbody tr th {\n",
       "        vertical-align: top;\n",
       "    }\n",
       "\n",
       "    .dataframe thead th {\n",
       "        text-align: right;\n",
       "    }\n",
       "</style>\n",
       "<table border=\"1\" class=\"dataframe\">\n",
       "  <thead>\n",
       "    <tr style=\"text-align: right;\">\n",
       "      <th></th>\n",
       "      <th>Brand</th>\n",
       "      <th>Product Description</th>\n",
       "      <th>Price</th>\n",
       "    </tr>\n",
       "  </thead>\n",
       "  <tbody>\n",
       "    <tr>\n",
       "      <th>0</th>\n",
       "      <td>VOYAGE</td>\n",
       "      <td>UV Protection Round Sunglasses (52)</td>\n",
       "      <td>₹698</td>\n",
       "    </tr>\n",
       "    <tr>\n",
       "      <th>1</th>\n",
       "      <td>OCHILA</td>\n",
       "      <td>UV Protection Aviator Sunglasses (58)</td>\n",
       "      <td>₹199</td>\n",
       "    </tr>\n",
       "    <tr>\n",
       "      <th>2</th>\n",
       "      <td>SRPM</td>\n",
       "      <td>UV Protection Wayfarer Sunglasses (50)</td>\n",
       "      <td>₹149</td>\n",
       "    </tr>\n",
       "    <tr>\n",
       "      <th>3</th>\n",
       "      <td>Elligator</td>\n",
       "      <td>UV Protection Retro Square Sunglasses (54)</td>\n",
       "      <td>₹149</td>\n",
       "    </tr>\n",
       "    <tr>\n",
       "      <th>4</th>\n",
       "      <td>ROADWAY</td>\n",
       "      <td>UV Protection Retro Square, Wayfarer, Sports S...</td>\n",
       "      <td>₹129</td>\n",
       "    </tr>\n",
       "    <tr>\n",
       "      <th>...</th>\n",
       "      <td>...</td>\n",
       "      <td>...</td>\n",
       "      <td>...</td>\n",
       "    </tr>\n",
       "    <tr>\n",
       "      <th>95</th>\n",
       "      <td>Elligator</td>\n",
       "      <td>UV Protection Wayfarer Sunglasses (53)</td>\n",
       "      <td>₹499</td>\n",
       "    </tr>\n",
       "    <tr>\n",
       "      <th>96</th>\n",
       "      <td>Elligator</td>\n",
       "      <td>UV Protection Retro Square Sunglasses (47)</td>\n",
       "      <td>₹229</td>\n",
       "    </tr>\n",
       "    <tr>\n",
       "      <th>97</th>\n",
       "      <td>hayden haiza</td>\n",
       "      <td>Polarized, UV Protection Wayfarer Sunglasses (49)</td>\n",
       "      <td>₹225</td>\n",
       "    </tr>\n",
       "    <tr>\n",
       "      <th>98</th>\n",
       "      <td>Lenskart Hustlr</td>\n",
       "      <td>UV Protection Retro Square Sunglasses (Free Size)</td>\n",
       "      <td>₹169</td>\n",
       "    </tr>\n",
       "    <tr>\n",
       "      <th>99</th>\n",
       "      <td>Rozti</td>\n",
       "      <td>UV Protection Butterfly Sunglasses (60)</td>\n",
       "      <td>₹523</td>\n",
       "    </tr>\n",
       "  </tbody>\n",
       "</table>\n",
       "<p>100 rows × 3 columns</p>\n",
       "</div>"
      ],
      "text/plain": [
       "              Brand                                Product Description Price\n",
       "0            VOYAGE                UV Protection Round Sunglasses (52)  ₹698\n",
       "1            OCHILA              UV Protection Aviator Sunglasses (58)  ₹199\n",
       "2              SRPM             UV Protection Wayfarer Sunglasses (50)  ₹149\n",
       "3         Elligator         UV Protection Retro Square Sunglasses (54)  ₹149\n",
       "4           ROADWAY  UV Protection Retro Square, Wayfarer, Sports S...  ₹129\n",
       "..              ...                                                ...   ...\n",
       "95        Elligator             UV Protection Wayfarer Sunglasses (53)  ₹499\n",
       "96        Elligator         UV Protection Retro Square Sunglasses (47)  ₹229\n",
       "97     hayden haiza  Polarized, UV Protection Wayfarer Sunglasses (49)  ₹225\n",
       "98  Lenskart Hustlr  UV Protection Retro Square Sunglasses (Free Size)  ₹169\n",
       "99            Rozti            UV Protection Butterfly Sunglasses (60)  ₹523\n",
       "\n",
       "[100 rows x 3 columns]"
      ]
     },
     "execution_count": 236,
     "metadata": {},
     "output_type": "execute_result"
    }
   ],
   "source": [
    "df2"
   ]
  },
  {
   "cell_type": "markdown",
   "id": "e50e41db",
   "metadata": {},
   "source": [
    "# Question - 5 "
   ]
  },
  {
   "cell_type": "markdown",
   "id": "c99c8c51",
   "metadata": {},
   "source": [
    "Q5: Scrape 100 reviews data from flipkart.com for iphone11 phone. You have to go the link:\n",
    "https://www.flipkart.com/apple-iphone-11-black-64-gb/product\u0002reviews/itm4e5041ba101fd?pid=MOBFWQ6BXGJCEYNY&lid=LSTMOBFWQ6BXGJCEYNYZXSHRJ&market\n",
    "place=FLIPKART\n",
    "As shown in the above page you have to scrape the tick marked attributes. These are:\n",
    "1. Rating\n",
    "2. Review summary\n",
    "3. Full review\n",
    "4. You have to scrape this data for first 100reviews."
   ]
  },
  {
   "cell_type": "markdown",
   "id": "6ffdc6fb",
   "metadata": {},
   "source": [
    "# Answer ;"
   ]
  },
  {
   "cell_type": "code",
   "execution_count": 282,
   "id": "13531c35",
   "metadata": {},
   "outputs": [],
   "source": [
    "driver5 = webdriver.Chrome()"
   ]
  },
  {
   "cell_type": "code",
   "execution_count": 283,
   "id": "2756a3ad",
   "metadata": {},
   "outputs": [],
   "source": [
    "driver5.get('https://www.flipkart.com/apple-iphone-11-black-64-gb/product\u0002reviews/itm4e5041ba101fd?pid=MOBFWQ6BXGJCEYNY&lid=LSTMOBFWQ6BXGJCEYNYZXSHRJ&market')"
   ]
  },
  {
   "cell_type": "code",
   "execution_count": 284,
   "id": "2e00aedd",
   "metadata": {},
   "outputs": [],
   "source": [
    "search = driver5.find_element(By.CLASS_NAME , 'button')\n",
    "search.click()"
   ]
  },
  {
   "cell_type": "code",
   "execution_count": 285,
   "id": "891fabe6",
   "metadata": {},
   "outputs": [],
   "source": [
    "search_products = driver5.find_element(By.CLASS_NAME,\"Pke_EE\")\n",
    "search_products.send_keys('iphone11')"
   ]
  },
  {
   "cell_type": "code",
   "execution_count": 286,
   "id": "953b6d68",
   "metadata": {},
   "outputs": [],
   "source": [
    "search2 = driver5.find_element(By.CLASS_NAME,'_2iLD__')\n",
    "search2.click()"
   ]
  },
  {
   "cell_type": "code",
   "execution_count": 292,
   "id": "068faa05",
   "metadata": {},
   "outputs": [],
   "source": [
    "search3 = driver5.find_element(By.XPATH,'/html/body/div/div/div[3]/div[1]/div[2]/div[3]/div/div/div/a/div[1]')\n",
    "search3.click()"
   ]
  },
  {
   "cell_type": "code",
   "execution_count": 337,
   "id": "d8878d4f",
   "metadata": {},
   "outputs": [],
   "source": [
    "Rating1 = []\n",
    "Review_summery1 = []\n",
    "Full_review1 = []\n",
    "numbers = []"
   ]
  },
  {
   "cell_type": "code",
   "execution_count": 373,
   "id": "fb041394",
   "metadata": {},
   "outputs": [
    {
     "ename": "StaleElementReferenceException",
     "evalue": "Message: stale element reference: stale element not found\n  (Session info: chrome=120.0.6099.225); For documentation on this error, please visit: https://www.selenium.dev/documentation/webdriver/troubleshooting/errors#stale-element-reference-exception\nStacktrace:\n\tGetHandleVerifier [0x00007FF6A7C62142+3514994]\n\t(No symbol) [0x00007FF6A7880CE2]\n\t(No symbol) [0x00007FF6A77276AA]\n\t(No symbol) [0x00007FF6A772CFC0]\n\t(No symbol) [0x00007FF6A772F38F]\n\t(No symbol) [0x00007FF6A772F480]\n\t(No symbol) [0x00007FF6A776BB0E]\n\t(No symbol) [0x00007FF6A7795FEA]\n\t(No symbol) [0x00007FF6A77663B6]\n\t(No symbol) [0x00007FF6A7796490]\n\t(No symbol) [0x00007FF6A77B28F6]\n\t(No symbol) [0x00007FF6A7795D93]\n\t(No symbol) [0x00007FF6A7764BDC]\n\t(No symbol) [0x00007FF6A7765C64]\n\tGetHandleVerifier [0x00007FF6A7C8E16B+3695259]\n\tGetHandleVerifier [0x00007FF6A7CE6737+4057191]\n\tGetHandleVerifier [0x00007FF6A7CDE4E3+4023827]\n\tGetHandleVerifier [0x00007FF6A79B04F9+689705]\n\t(No symbol) [0x00007FF6A788C048]\n\t(No symbol) [0x00007FF6A7888044]\n\t(No symbol) [0x00007FF6A78881C9]\n\t(No symbol) [0x00007FF6A78788C4]\n\tBaseThreadInitThunk [0x00007FFFAF617344+20]\n\tRtlUserThreadStart [0x00007FFFB0B026B1+33]\n",
     "output_type": "error",
     "traceback": [
      "\u001b[1;31m---------------------------------------------------------------------------\u001b[0m",
      "\u001b[1;31mStaleElementReferenceException\u001b[0m            Traceback (most recent call last)",
      "Cell \u001b[1;32mIn[373], line 11\u001b[0m\n\u001b[0;32m      9\u001b[0m Full_reviews \u001b[38;5;241m=\u001b[39m driver5\u001b[38;5;241m.\u001b[39mfind_elements(By\u001b[38;5;241m.\u001b[39mCLASS_NAME,\u001b[38;5;124m\"\u001b[39m\u001b[38;5;124mt-ZTKy\u001b[39m\u001b[38;5;124m\"\u001b[39m)\n\u001b[0;32m     10\u001b[0m \u001b[38;5;28;01mfor\u001b[39;00m i \u001b[38;5;129;01min\u001b[39;00m Full_reviews:\n\u001b[1;32m---> 11\u001b[0m     Full_review1\u001b[38;5;241m.\u001b[39mappend(i\u001b[38;5;241m.\u001b[39mtext)\n\u001b[0;32m     12\u001b[0m next_button1 \u001b[38;5;241m=\u001b[39m driver5\u001b[38;5;241m.\u001b[39mfind_element(By\u001b[38;5;241m.\u001b[39mCLASS_NAME,\u001b[38;5;124m\"\u001b[39m\u001b[38;5;124m_1LKTO3\u001b[39m\u001b[38;5;124m\"\u001b[39m)\n\u001b[0;32m     13\u001b[0m next_button1\u001b[38;5;241m.\u001b[39mclick()\n",
      "File \u001b[1;32m~\\anaconda3\\Lib\\site-packages\\selenium\\webdriver\\remote\\webelement.py:90\u001b[0m, in \u001b[0;36mWebElement.text\u001b[1;34m(self)\u001b[0m\n\u001b[0;32m     87\u001b[0m \u001b[38;5;129m@property\u001b[39m\n\u001b[0;32m     88\u001b[0m \u001b[38;5;28;01mdef\u001b[39;00m \u001b[38;5;21mtext\u001b[39m(\u001b[38;5;28mself\u001b[39m) \u001b[38;5;241m-\u001b[39m\u001b[38;5;241m>\u001b[39m \u001b[38;5;28mstr\u001b[39m:\n\u001b[0;32m     89\u001b[0m \u001b[38;5;250m    \u001b[39m\u001b[38;5;124;03m\"\"\"The text of the element.\"\"\"\u001b[39;00m\n\u001b[1;32m---> 90\u001b[0m     \u001b[38;5;28;01mreturn\u001b[39;00m \u001b[38;5;28mself\u001b[39m\u001b[38;5;241m.\u001b[39m_execute(Command\u001b[38;5;241m.\u001b[39mGET_ELEMENT_TEXT)[\u001b[38;5;124m\"\u001b[39m\u001b[38;5;124mvalue\u001b[39m\u001b[38;5;124m\"\u001b[39m]\n",
      "File \u001b[1;32m~\\anaconda3\\Lib\\site-packages\\selenium\\webdriver\\remote\\webelement.py:395\u001b[0m, in \u001b[0;36mWebElement._execute\u001b[1;34m(self, command, params)\u001b[0m\n\u001b[0;32m    393\u001b[0m     params \u001b[38;5;241m=\u001b[39m {}\n\u001b[0;32m    394\u001b[0m params[\u001b[38;5;124m\"\u001b[39m\u001b[38;5;124mid\u001b[39m\u001b[38;5;124m\"\u001b[39m] \u001b[38;5;241m=\u001b[39m \u001b[38;5;28mself\u001b[39m\u001b[38;5;241m.\u001b[39m_id\n\u001b[1;32m--> 395\u001b[0m \u001b[38;5;28;01mreturn\u001b[39;00m \u001b[38;5;28mself\u001b[39m\u001b[38;5;241m.\u001b[39m_parent\u001b[38;5;241m.\u001b[39mexecute(command, params)\n",
      "File \u001b[1;32m~\\anaconda3\\Lib\\site-packages\\selenium\\webdriver\\remote\\webdriver.py:347\u001b[0m, in \u001b[0;36mWebDriver.execute\u001b[1;34m(self, driver_command, params)\u001b[0m\n\u001b[0;32m    345\u001b[0m response \u001b[38;5;241m=\u001b[39m \u001b[38;5;28mself\u001b[39m\u001b[38;5;241m.\u001b[39mcommand_executor\u001b[38;5;241m.\u001b[39mexecute(driver_command, params)\n\u001b[0;32m    346\u001b[0m \u001b[38;5;28;01mif\u001b[39;00m response:\n\u001b[1;32m--> 347\u001b[0m     \u001b[38;5;28mself\u001b[39m\u001b[38;5;241m.\u001b[39merror_handler\u001b[38;5;241m.\u001b[39mcheck_response(response)\n\u001b[0;32m    348\u001b[0m     response[\u001b[38;5;124m\"\u001b[39m\u001b[38;5;124mvalue\u001b[39m\u001b[38;5;124m\"\u001b[39m] \u001b[38;5;241m=\u001b[39m \u001b[38;5;28mself\u001b[39m\u001b[38;5;241m.\u001b[39m_unwrap_value(response\u001b[38;5;241m.\u001b[39mget(\u001b[38;5;124m\"\u001b[39m\u001b[38;5;124mvalue\u001b[39m\u001b[38;5;124m\"\u001b[39m, \u001b[38;5;28;01mNone\u001b[39;00m))\n\u001b[0;32m    349\u001b[0m     \u001b[38;5;28;01mreturn\u001b[39;00m response\n",
      "File \u001b[1;32m~\\anaconda3\\Lib\\site-packages\\selenium\\webdriver\\remote\\errorhandler.py:229\u001b[0m, in \u001b[0;36mErrorHandler.check_response\u001b[1;34m(self, response)\u001b[0m\n\u001b[0;32m    227\u001b[0m         alert_text \u001b[38;5;241m=\u001b[39m value[\u001b[38;5;124m\"\u001b[39m\u001b[38;5;124malert\u001b[39m\u001b[38;5;124m\"\u001b[39m]\u001b[38;5;241m.\u001b[39mget(\u001b[38;5;124m\"\u001b[39m\u001b[38;5;124mtext\u001b[39m\u001b[38;5;124m\"\u001b[39m)\n\u001b[0;32m    228\u001b[0m     \u001b[38;5;28;01mraise\u001b[39;00m exception_class(message, screen, stacktrace, alert_text)  \u001b[38;5;66;03m# type: ignore[call-arg]  # mypy is not smart enough here\u001b[39;00m\n\u001b[1;32m--> 229\u001b[0m \u001b[38;5;28;01mraise\u001b[39;00m exception_class(message, screen, stacktrace)\n",
      "\u001b[1;31mStaleElementReferenceException\u001b[0m: Message: stale element reference: stale element not found\n  (Session info: chrome=120.0.6099.225); For documentation on this error, please visit: https://www.selenium.dev/documentation/webdriver/troubleshooting/errors#stale-element-reference-exception\nStacktrace:\n\tGetHandleVerifier [0x00007FF6A7C62142+3514994]\n\t(No symbol) [0x00007FF6A7880CE2]\n\t(No symbol) [0x00007FF6A77276AA]\n\t(No symbol) [0x00007FF6A772CFC0]\n\t(No symbol) [0x00007FF6A772F38F]\n\t(No symbol) [0x00007FF6A772F480]\n\t(No symbol) [0x00007FF6A776BB0E]\n\t(No symbol) [0x00007FF6A7795FEA]\n\t(No symbol) [0x00007FF6A77663B6]\n\t(No symbol) [0x00007FF6A7796490]\n\t(No symbol) [0x00007FF6A77B28F6]\n\t(No symbol) [0x00007FF6A7795D93]\n\t(No symbol) [0x00007FF6A7764BDC]\n\t(No symbol) [0x00007FF6A7765C64]\n\tGetHandleVerifier [0x00007FF6A7C8E16B+3695259]\n\tGetHandleVerifier [0x00007FF6A7CE6737+4057191]\n\tGetHandleVerifier [0x00007FF6A7CDE4E3+4023827]\n\tGetHandleVerifier [0x00007FF6A79B04F9+689705]\n\t(No symbol) [0x00007FF6A788C048]\n\t(No symbol) [0x00007FF6A7888044]\n\t(No symbol) [0x00007FF6A78881C9]\n\t(No symbol) [0x00007FF6A78788C4]\n\tBaseThreadInitThunk [0x00007FFFAF617344+20]\n\tRtlUserThreadStart [0x00007FFFB0B026B1+33]\n"
     ]
    }
   ],
   "source": [
    "start = 0\n",
    "end = 10\n",
    "\n",
    "for pages in range (start , end) :\n",
    "        \n",
    "    Review = driver5.find_elements(By.CLASS_NAME,\"_2-N8zT\")\n",
    "    for i in Review :\n",
    "        Review_summery1.append(i.text)\n",
    "    Full_reviews = driver5.find_elements(By.CLASS_NAME,\"t-ZTKy\")\n",
    "    for i in Full_reviews:\n",
    "        Full_review1.append(i.text)\n",
    "    next_button1 = driver5.find_element(By.CLASS_NAME,\"_1LKTO3\")\n",
    "    next_button1.click()\n",
    "\n",
    "        \n",
    "\n",
    "        \n",
    "        \n",
    "        "
   ]
  },
  {
   "cell_type": "code",
   "execution_count": 376,
   "id": "2aa8025b",
   "metadata": {},
   "outputs": [],
   "source": [
    "Review_summery = Review_summery1[:100]\n",
    "Full_review = Full_review1[:100]"
   ]
  },
  {
   "cell_type": "code",
   "execution_count": 377,
   "id": "027049fe",
   "metadata": {},
   "outputs": [],
   "source": [
    "df5 = pd.DataFrame({'Rivew summery': Review_summery , 'Full review': Full_review})"
   ]
  },
  {
   "cell_type": "markdown",
   "id": "68bc0e34",
   "metadata": {},
   "source": [
    "# DataFrame of Q.5"
   ]
  },
  {
   "cell_type": "code",
   "execution_count": 378,
   "id": "f4ef6db8",
   "metadata": {
    "scrolled": true
   },
   "outputs": [
    {
     "data": {
      "text/html": [
       "<div>\n",
       "<style scoped>\n",
       "    .dataframe tbody tr th:only-of-type {\n",
       "        vertical-align: middle;\n",
       "    }\n",
       "\n",
       "    .dataframe tbody tr th {\n",
       "        vertical-align: top;\n",
       "    }\n",
       "\n",
       "    .dataframe thead th {\n",
       "        text-align: right;\n",
       "    }\n",
       "</style>\n",
       "<table border=\"1\" class=\"dataframe\">\n",
       "  <thead>\n",
       "    <tr style=\"text-align: right;\">\n",
       "      <th></th>\n",
       "      <th>Rivew summery</th>\n",
       "      <th>Full review</th>\n",
       "    </tr>\n",
       "  </thead>\n",
       "  <tbody>\n",
       "    <tr>\n",
       "      <th>0</th>\n",
       "      <td>Worth every penny</td>\n",
       "      <td>Feeling awesome after getting the delivery of ...</td>\n",
       "    </tr>\n",
       "    <tr>\n",
       "      <th>1</th>\n",
       "      <td>Wonderful</td>\n",
       "      <td>Great choice if you looking for everyday use</td>\n",
       "    </tr>\n",
       "    <tr>\n",
       "      <th>2</th>\n",
       "      <td>Highly recommended</td>\n",
       "      <td>Battery - more or less 2 days\\nCamera - can no...</td>\n",
       "    </tr>\n",
       "    <tr>\n",
       "      <th>3</th>\n",
       "      <td>Perfect product!</td>\n",
       "      <td>Nice products thanks flkat</td>\n",
       "    </tr>\n",
       "    <tr>\n",
       "      <th>4</th>\n",
       "      <td>Wonderful</td>\n",
       "      <td>I bought during the big billion sale. It’s wor...</td>\n",
       "    </tr>\n",
       "    <tr>\n",
       "      <th>...</th>\n",
       "      <td>...</td>\n",
       "      <td>...</td>\n",
       "    </tr>\n",
       "    <tr>\n",
       "      <th>95</th>\n",
       "      <td>Worth every penny</td>\n",
       "      <td>Battery - more or less 2 days\\nCamera - can no...</td>\n",
       "    </tr>\n",
       "    <tr>\n",
       "      <th>96</th>\n",
       "      <td>Wonderful</td>\n",
       "      <td>Nice products thanks flkat</td>\n",
       "    </tr>\n",
       "    <tr>\n",
       "      <th>97</th>\n",
       "      <td>Highly recommended</td>\n",
       "      <td>I bought during the big billion sale. It’s wor...</td>\n",
       "    </tr>\n",
       "    <tr>\n",
       "      <th>98</th>\n",
       "      <td>Perfect product!</td>\n",
       "      <td>Awesome product ❤️❤️\\nThank you Flipkart</td>\n",
       "    </tr>\n",
       "    <tr>\n",
       "      <th>99</th>\n",
       "      <td>Wonderful</td>\n",
       "      <td>Feeling awesome after getting the delivery of ...</td>\n",
       "    </tr>\n",
       "  </tbody>\n",
       "</table>\n",
       "<p>100 rows × 2 columns</p>\n",
       "</div>"
      ],
      "text/plain": [
       "         Rivew summery                                        Full review\n",
       "0    Worth every penny  Feeling awesome after getting the delivery of ...\n",
       "1            Wonderful       Great choice if you looking for everyday use\n",
       "2   Highly recommended  Battery - more or less 2 days\\nCamera - can no...\n",
       "3     Perfect product!                         Nice products thanks flkat\n",
       "4            Wonderful  I bought during the big billion sale. It’s wor...\n",
       "..                 ...                                                ...\n",
       "95   Worth every penny  Battery - more or less 2 days\\nCamera - can no...\n",
       "96           Wonderful                         Nice products thanks flkat\n",
       "97  Highly recommended  I bought during the big billion sale. It’s wor...\n",
       "98    Perfect product!           Awesome product ❤️❤️\\nThank you Flipkart\n",
       "99           Wonderful  Feeling awesome after getting the delivery of ...\n",
       "\n",
       "[100 rows x 2 columns]"
      ]
     },
     "execution_count": 378,
     "metadata": {},
     "output_type": "execute_result"
    }
   ],
   "source": [
    "df5"
   ]
  },
  {
   "cell_type": "markdown",
   "id": "9ddfd0af",
   "metadata": {},
   "source": [
    "# Question - 6"
   ]
  },
  {
   "cell_type": "markdown",
   "id": "4ceed819",
   "metadata": {},
   "source": [
    "Q6: Scrape data forfirst 100 sneakers you find whenyou visit flipkart.com and search for “sneakers” inthe\n",
    "search field.\n",
    "You have to scrape 3 attributes of each sneaker:\n",
    "1. Brand\n",
    "2. ProductDescription\n",
    "3. Price\n",
    "As shown in the below image, you have to scrape the above attributes.\n"
   ]
  },
  {
   "cell_type": "markdown",
   "id": "c5f5f836",
   "metadata": {},
   "source": [
    "# Answer ;"
   ]
  },
  {
   "cell_type": "code",
   "execution_count": 379,
   "id": "5477c430",
   "metadata": {},
   "outputs": [],
   "source": [
    "driver6 = webdriver.Chrome()"
   ]
  },
  {
   "cell_type": "code",
   "execution_count": 380,
   "id": "daf99aa7",
   "metadata": {},
   "outputs": [],
   "source": [
    "driver6.get('https://www.flipkart.com/apple-iphone-11-black-64-gb/product\u0002reviews/itm4e5041ba101fd?pid=MOBFWQ6BXGJCEYNY&lid=LSTMOBFWQ6BXGJCEYNYZXSHRJ&market')"
   ]
  },
  {
   "cell_type": "code",
   "execution_count": 382,
   "id": "be642b80",
   "metadata": {},
   "outputs": [],
   "source": [
    "search = driver6.find_element(By.CLASS_NAME , 'button')\n",
    "search.click()"
   ]
  },
  {
   "cell_type": "code",
   "execution_count": 383,
   "id": "b2ceec48",
   "metadata": {},
   "outputs": [],
   "source": [
    "search_products = driver6.find_element(By.CLASS_NAME,\"Pke_EE\")\n",
    "search_products.send_keys('sneakers')"
   ]
  },
  {
   "cell_type": "code",
   "execution_count": 384,
   "id": "343760cb",
   "metadata": {},
   "outputs": [],
   "source": [
    "search2 = driver6.find_element(By.CLASS_NAME,'_2iLD__')\n",
    "search2.click()"
   ]
  },
  {
   "cell_type": "code",
   "execution_count": 385,
   "id": "f36cecb6",
   "metadata": {},
   "outputs": [],
   "source": [
    "Brand2 = []\n",
    "ProductDescription2 = []\n",
    "Price2 = []"
   ]
  },
  {
   "cell_type": "code",
   "execution_count": 401,
   "id": "8e56599f",
   "metadata": {},
   "outputs": [
    {
     "ename": "StaleElementReferenceException",
     "evalue": "Message: stale element reference: stale element not found\n  (Session info: chrome=120.0.6099.225); For documentation on this error, please visit: https://www.selenium.dev/documentation/webdriver/troubleshooting/errors#stale-element-reference-exception\nStacktrace:\n\tGetHandleVerifier [0x00007FF6A7C62142+3514994]\n\t(No symbol) [0x00007FF6A7880CE2]\n\t(No symbol) [0x00007FF6A77276AA]\n\t(No symbol) [0x00007FF6A772CFC0]\n\t(No symbol) [0x00007FF6A772F38F]\n\t(No symbol) [0x00007FF6A772F480]\n\t(No symbol) [0x00007FF6A776BB0E]\n\t(No symbol) [0x00007FF6A7795FEA]\n\t(No symbol) [0x00007FF6A77663B6]\n\t(No symbol) [0x00007FF6A7796490]\n\t(No symbol) [0x00007FF6A77B28F6]\n\t(No symbol) [0x00007FF6A7795D93]\n\t(No symbol) [0x00007FF6A7764BDC]\n\t(No symbol) [0x00007FF6A7765C64]\n\tGetHandleVerifier [0x00007FF6A7C8E16B+3695259]\n\tGetHandleVerifier [0x00007FF6A7CE6737+4057191]\n\tGetHandleVerifier [0x00007FF6A7CDE4E3+4023827]\n\tGetHandleVerifier [0x00007FF6A79B04F9+689705]\n\t(No symbol) [0x00007FF6A788C048]\n\t(No symbol) [0x00007FF6A7888044]\n\t(No symbol) [0x00007FF6A78881C9]\n\t(No symbol) [0x00007FF6A78788C4]\n\tBaseThreadInitThunk [0x00007FFFAF617344+20]\n\tRtlUserThreadStart [0x00007FFFB0B026B1+33]\n",
     "output_type": "error",
     "traceback": [
      "\u001b[1;31m---------------------------------------------------------------------------\u001b[0m",
      "\u001b[1;31mStaleElementReferenceException\u001b[0m            Traceback (most recent call last)",
      "Cell \u001b[1;32mIn[401], line 7\u001b[0m\n\u001b[0;32m      5\u001b[0m Brand_names \u001b[38;5;241m=\u001b[39m driver6\u001b[38;5;241m.\u001b[39mfind_elements(By\u001b[38;5;241m.\u001b[39mCLASS_NAME,\u001b[38;5;124m\"\u001b[39m\u001b[38;5;124m_2WkVRV\u001b[39m\u001b[38;5;124m\"\u001b[39m)\n\u001b[0;32m      6\u001b[0m \u001b[38;5;28;01mfor\u001b[39;00m i \u001b[38;5;129;01min\u001b[39;00m Brand_names:\n\u001b[1;32m----> 7\u001b[0m     Brand2\u001b[38;5;241m.\u001b[39mappend(i\u001b[38;5;241m.\u001b[39mtext)\n\u001b[0;32m      8\u001b[0m Product_names \u001b[38;5;241m=\u001b[39m driver6\u001b[38;5;241m.\u001b[39mfind_elements(By\u001b[38;5;241m.\u001b[39mCLASS_NAME,\u001b[38;5;124m\"\u001b[39m\u001b[38;5;124mIRpwTa\u001b[39m\u001b[38;5;124m\"\u001b[39m)\n\u001b[0;32m      9\u001b[0m \u001b[38;5;28;01mfor\u001b[39;00m i \u001b[38;5;129;01min\u001b[39;00m Product_names:\n",
      "File \u001b[1;32m~\\anaconda3\\Lib\\site-packages\\selenium\\webdriver\\remote\\webelement.py:90\u001b[0m, in \u001b[0;36mWebElement.text\u001b[1;34m(self)\u001b[0m\n\u001b[0;32m     87\u001b[0m \u001b[38;5;129m@property\u001b[39m\n\u001b[0;32m     88\u001b[0m \u001b[38;5;28;01mdef\u001b[39;00m \u001b[38;5;21mtext\u001b[39m(\u001b[38;5;28mself\u001b[39m) \u001b[38;5;241m-\u001b[39m\u001b[38;5;241m>\u001b[39m \u001b[38;5;28mstr\u001b[39m:\n\u001b[0;32m     89\u001b[0m \u001b[38;5;250m    \u001b[39m\u001b[38;5;124;03m\"\"\"The text of the element.\"\"\"\u001b[39;00m\n\u001b[1;32m---> 90\u001b[0m     \u001b[38;5;28;01mreturn\u001b[39;00m \u001b[38;5;28mself\u001b[39m\u001b[38;5;241m.\u001b[39m_execute(Command\u001b[38;5;241m.\u001b[39mGET_ELEMENT_TEXT)[\u001b[38;5;124m\"\u001b[39m\u001b[38;5;124mvalue\u001b[39m\u001b[38;5;124m\"\u001b[39m]\n",
      "File \u001b[1;32m~\\anaconda3\\Lib\\site-packages\\selenium\\webdriver\\remote\\webelement.py:395\u001b[0m, in \u001b[0;36mWebElement._execute\u001b[1;34m(self, command, params)\u001b[0m\n\u001b[0;32m    393\u001b[0m     params \u001b[38;5;241m=\u001b[39m {}\n\u001b[0;32m    394\u001b[0m params[\u001b[38;5;124m\"\u001b[39m\u001b[38;5;124mid\u001b[39m\u001b[38;5;124m\"\u001b[39m] \u001b[38;5;241m=\u001b[39m \u001b[38;5;28mself\u001b[39m\u001b[38;5;241m.\u001b[39m_id\n\u001b[1;32m--> 395\u001b[0m \u001b[38;5;28;01mreturn\u001b[39;00m \u001b[38;5;28mself\u001b[39m\u001b[38;5;241m.\u001b[39m_parent\u001b[38;5;241m.\u001b[39mexecute(command, params)\n",
      "File \u001b[1;32m~\\anaconda3\\Lib\\site-packages\\selenium\\webdriver\\remote\\webdriver.py:347\u001b[0m, in \u001b[0;36mWebDriver.execute\u001b[1;34m(self, driver_command, params)\u001b[0m\n\u001b[0;32m    345\u001b[0m response \u001b[38;5;241m=\u001b[39m \u001b[38;5;28mself\u001b[39m\u001b[38;5;241m.\u001b[39mcommand_executor\u001b[38;5;241m.\u001b[39mexecute(driver_command, params)\n\u001b[0;32m    346\u001b[0m \u001b[38;5;28;01mif\u001b[39;00m response:\n\u001b[1;32m--> 347\u001b[0m     \u001b[38;5;28mself\u001b[39m\u001b[38;5;241m.\u001b[39merror_handler\u001b[38;5;241m.\u001b[39mcheck_response(response)\n\u001b[0;32m    348\u001b[0m     response[\u001b[38;5;124m\"\u001b[39m\u001b[38;5;124mvalue\u001b[39m\u001b[38;5;124m\"\u001b[39m] \u001b[38;5;241m=\u001b[39m \u001b[38;5;28mself\u001b[39m\u001b[38;5;241m.\u001b[39m_unwrap_value(response\u001b[38;5;241m.\u001b[39mget(\u001b[38;5;124m\"\u001b[39m\u001b[38;5;124mvalue\u001b[39m\u001b[38;5;124m\"\u001b[39m, \u001b[38;5;28;01mNone\u001b[39;00m))\n\u001b[0;32m    349\u001b[0m     \u001b[38;5;28;01mreturn\u001b[39;00m response\n",
      "File \u001b[1;32m~\\anaconda3\\Lib\\site-packages\\selenium\\webdriver\\remote\\errorhandler.py:229\u001b[0m, in \u001b[0;36mErrorHandler.check_response\u001b[1;34m(self, response)\u001b[0m\n\u001b[0;32m    227\u001b[0m         alert_text \u001b[38;5;241m=\u001b[39m value[\u001b[38;5;124m\"\u001b[39m\u001b[38;5;124malert\u001b[39m\u001b[38;5;124m\"\u001b[39m]\u001b[38;5;241m.\u001b[39mget(\u001b[38;5;124m\"\u001b[39m\u001b[38;5;124mtext\u001b[39m\u001b[38;5;124m\"\u001b[39m)\n\u001b[0;32m    228\u001b[0m     \u001b[38;5;28;01mraise\u001b[39;00m exception_class(message, screen, stacktrace, alert_text)  \u001b[38;5;66;03m# type: ignore[call-arg]  # mypy is not smart enough here\u001b[39;00m\n\u001b[1;32m--> 229\u001b[0m \u001b[38;5;28;01mraise\u001b[39;00m exception_class(message, screen, stacktrace)\n",
      "\u001b[1;31mStaleElementReferenceException\u001b[0m: Message: stale element reference: stale element not found\n  (Session info: chrome=120.0.6099.225); For documentation on this error, please visit: https://www.selenium.dev/documentation/webdriver/troubleshooting/errors#stale-element-reference-exception\nStacktrace:\n\tGetHandleVerifier [0x00007FF6A7C62142+3514994]\n\t(No symbol) [0x00007FF6A7880CE2]\n\t(No symbol) [0x00007FF6A77276AA]\n\t(No symbol) [0x00007FF6A772CFC0]\n\t(No symbol) [0x00007FF6A772F38F]\n\t(No symbol) [0x00007FF6A772F480]\n\t(No symbol) [0x00007FF6A776BB0E]\n\t(No symbol) [0x00007FF6A7795FEA]\n\t(No symbol) [0x00007FF6A77663B6]\n\t(No symbol) [0x00007FF6A7796490]\n\t(No symbol) [0x00007FF6A77B28F6]\n\t(No symbol) [0x00007FF6A7795D93]\n\t(No symbol) [0x00007FF6A7764BDC]\n\t(No symbol) [0x00007FF6A7765C64]\n\tGetHandleVerifier [0x00007FF6A7C8E16B+3695259]\n\tGetHandleVerifier [0x00007FF6A7CE6737+4057191]\n\tGetHandleVerifier [0x00007FF6A7CDE4E3+4023827]\n\tGetHandleVerifier [0x00007FF6A79B04F9+689705]\n\t(No symbol) [0x00007FF6A788C048]\n\t(No symbol) [0x00007FF6A7888044]\n\t(No symbol) [0x00007FF6A78881C9]\n\t(No symbol) [0x00007FF6A78788C4]\n\tBaseThreadInitThunk [0x00007FFFAF617344+20]\n\tRtlUserThreadStart [0x00007FFFB0B026B1+33]\n"
     ]
    }
   ],
   "source": [
    "start = 0\n",
    "end = 4\n",
    "\n",
    "for page in range(start , end):\n",
    "    Brand_names = driver6.find_elements(By.CLASS_NAME,\"_2WkVRV\")\n",
    "    for i in Brand_names:\n",
    "        Brand2.append(i.text)\n",
    "    Product_names = driver6.find_elements(By.CLASS_NAME,\"IRpwTa\")\n",
    "    for i in Product_names:\n",
    "        ProductDescription2.append(i.text)\n",
    "    Price_amount = driver6.find_elements(By.CLASS_NAME,\"_30jeq3\")\n",
    "    for i in Price_amount:\n",
    "        Price2.append(i.text)\n",
    "    next_button =  driver6.find_element(By.CLASS_NAME,\"_1LKTO3\")\n",
    "    next_button.click()"
   ]
  },
  {
   "cell_type": "code",
   "execution_count": 405,
   "id": "3b7f4321",
   "metadata": {},
   "outputs": [],
   "source": [
    "Brand = Brand2[:100]\n",
    "ProductDescription = ProductDescription2[:100]\n",
    "Price = Price2[:100]"
   ]
  },
  {
   "cell_type": "code",
   "execution_count": 406,
   "id": "8c68439d",
   "metadata": {},
   "outputs": [],
   "source": [
    "df6 = pd.DataFrame({'Brand': Brand , 'Product Description':ProductDescription1 , 'Price' : Price})"
   ]
  },
  {
   "cell_type": "markdown",
   "id": "328da9af",
   "metadata": {},
   "source": [
    "# DataFrame of Q.6"
   ]
  },
  {
   "cell_type": "code",
   "execution_count": 407,
   "id": "a8cb73cb",
   "metadata": {
    "scrolled": true
   },
   "outputs": [
    {
     "data": {
      "text/html": [
       "<div>\n",
       "<style scoped>\n",
       "    .dataframe tbody tr th:only-of-type {\n",
       "        vertical-align: middle;\n",
       "    }\n",
       "\n",
       "    .dataframe tbody tr th {\n",
       "        vertical-align: top;\n",
       "    }\n",
       "\n",
       "    .dataframe thead th {\n",
       "        text-align: right;\n",
       "    }\n",
       "</style>\n",
       "<table border=\"1\" class=\"dataframe\">\n",
       "  <thead>\n",
       "    <tr style=\"text-align: right;\">\n",
       "      <th></th>\n",
       "      <th>Brand</th>\n",
       "      <th>Product Description</th>\n",
       "      <th>Price</th>\n",
       "    </tr>\n",
       "  </thead>\n",
       "  <tbody>\n",
       "    <tr>\n",
       "      <th>0</th>\n",
       "      <td>Footox</td>\n",
       "      <td>UV Protection Round Sunglasses (52)</td>\n",
       "      <td>₹317</td>\n",
       "    </tr>\n",
       "    <tr>\n",
       "      <th>1</th>\n",
       "      <td>Robbie jones</td>\n",
       "      <td>UV Protection Aviator Sunglasses (58)</td>\n",
       "      <td>₹449</td>\n",
       "    </tr>\n",
       "    <tr>\n",
       "      <th>2</th>\n",
       "      <td>URBANBOX</td>\n",
       "      <td>UV Protection Wayfarer Sunglasses (50)</td>\n",
       "      <td>₹299</td>\n",
       "    </tr>\n",
       "    <tr>\n",
       "      <th>3</th>\n",
       "      <td>BRUTON</td>\n",
       "      <td>UV Protection Retro Square Sunglasses (54)</td>\n",
       "      <td>₹299</td>\n",
       "    </tr>\n",
       "    <tr>\n",
       "      <th>4</th>\n",
       "      <td>Deals4you</td>\n",
       "      <td>UV Protection Retro Square, Wayfarer, Sports S...</td>\n",
       "      <td>₹399</td>\n",
       "    </tr>\n",
       "    <tr>\n",
       "      <th>...</th>\n",
       "      <td>...</td>\n",
       "      <td>...</td>\n",
       "      <td>...</td>\n",
       "    </tr>\n",
       "    <tr>\n",
       "      <th>95</th>\n",
       "      <td>Shozie</td>\n",
       "      <td>UV Protection Wayfarer Sunglasses (53)</td>\n",
       "      <td>₹386</td>\n",
       "    </tr>\n",
       "    <tr>\n",
       "      <th>96</th>\n",
       "      <td>WHITE WALKERS</td>\n",
       "      <td>UV Protection Retro Square Sunglasses (47)</td>\n",
       "      <td>₹469</td>\n",
       "    </tr>\n",
       "    <tr>\n",
       "      <th>97</th>\n",
       "      <td>RED TAPE</td>\n",
       "      <td>Polarized, UV Protection Wayfarer Sunglasses (49)</td>\n",
       "      <td>₹249</td>\n",
       "    </tr>\n",
       "    <tr>\n",
       "      <th>98</th>\n",
       "      <td>SCETTRO</td>\n",
       "      <td>UV Protection Retro Square Sunglasses (Free Size)</td>\n",
       "      <td>₹599</td>\n",
       "    </tr>\n",
       "    <tr>\n",
       "      <th>99</th>\n",
       "      <td>Golazo</td>\n",
       "      <td>UV Protection Butterfly Sunglasses (60)</td>\n",
       "      <td>₹1,709</td>\n",
       "    </tr>\n",
       "  </tbody>\n",
       "</table>\n",
       "<p>100 rows × 3 columns</p>\n",
       "</div>"
      ],
      "text/plain": [
       "            Brand                                Product Description   Price\n",
       "0          Footox                UV Protection Round Sunglasses (52)    ₹317\n",
       "1    Robbie jones              UV Protection Aviator Sunglasses (58)    ₹449\n",
       "2        URBANBOX             UV Protection Wayfarer Sunglasses (50)    ₹299\n",
       "3          BRUTON         UV Protection Retro Square Sunglasses (54)    ₹299\n",
       "4       Deals4you  UV Protection Retro Square, Wayfarer, Sports S...    ₹399\n",
       "..            ...                                                ...     ...\n",
       "95         Shozie             UV Protection Wayfarer Sunglasses (53)    ₹386\n",
       "96  WHITE WALKERS         UV Protection Retro Square Sunglasses (47)    ₹469\n",
       "97       RED TAPE  Polarized, UV Protection Wayfarer Sunglasses (49)    ₹249\n",
       "98        SCETTRO  UV Protection Retro Square Sunglasses (Free Size)    ₹599\n",
       "99         Golazo            UV Protection Butterfly Sunglasses (60)  ₹1,709\n",
       "\n",
       "[100 rows x 3 columns]"
      ]
     },
     "execution_count": 407,
     "metadata": {},
     "output_type": "execute_result"
    }
   ],
   "source": [
    "df6"
   ]
  },
  {
   "cell_type": "markdown",
   "id": "62dcf22a",
   "metadata": {},
   "source": [
    "# Question - 7"
   ]
  },
  {
   "cell_type": "markdown",
   "id": "d9b335b9",
   "metadata": {},
   "source": [
    "Q7: Go to webpage https://www.amazon.in/ Enter “Laptop” in the search field and then click the search icon. Then set CPU Type filter to “Intel Core i7” as shown in the below image: After setting the filters scrape first 10 laptops data. You have to scrape 3 attributes for each laptop:\n",
    "\n",
    "1.Title\n",
    "2.Ratings\n",
    "3.Price"
   ]
  },
  {
   "cell_type": "markdown",
   "id": "210bce86",
   "metadata": {},
   "source": [
    "# Answer ;"
   ]
  },
  {
   "cell_type": "code",
   "execution_count": 409,
   "id": "0fa3fdfe",
   "metadata": {},
   "outputs": [],
   "source": [
    "driver7 = webdriver.Chrome()"
   ]
  },
  {
   "cell_type": "code",
   "execution_count": 410,
   "id": "a3ea76b7",
   "metadata": {},
   "outputs": [],
   "source": [
    "driver7.get('https://www.amazon.in/')"
   ]
  },
  {
   "cell_type": "code",
   "execution_count": 411,
   "id": "ecd46cd5",
   "metadata": {},
   "outputs": [],
   "source": [
    "Input = driver7.find_element(By.XPATH, '/html/body/div[1]/header/div/div[1]/div[2]/div/form/div[2]/div[1]/input')\n",
    "Input.send_keys('Laptop')"
   ]
  },
  {
   "cell_type": "code",
   "execution_count": 412,
   "id": "4b2f0707",
   "metadata": {},
   "outputs": [],
   "source": [
    "Search = driver7.find_element(By.CLASS_NAME,\"nav-right\")\n",
    "Search.click()"
   ]
  },
  {
   "cell_type": "code",
   "execution_count": 413,
   "id": "7f241794",
   "metadata": {},
   "outputs": [],
   "source": [
    "CPU_Type = driver7.find_element(By.XPATH, '/html/body/div[1]/div[1]/div[1]/div[2]/div/div[3]/span/div[1]/div/div/div[5]/ul[19]/span/span[10]/li/span/a/span')\n",
    "CPU_Type.click()"
   ]
  },
  {
   "cell_type": "code",
   "execution_count": 414,
   "id": "d937bb58",
   "metadata": {},
   "outputs": [],
   "source": [
    "Title7 = []\n",
    "Price7 = []"
   ]
  },
  {
   "cell_type": "code",
   "execution_count": 436,
   "id": "610c721a",
   "metadata": {},
   "outputs": [],
   "source": [
    "titles = driver7.find_elements(By.XPATH,\"/html/body/div[1]/div[1]/div[1]/div[1]/div/span[1]/div[1]/div[12]/div/div/span/div/div/div/div[2]/div/div/div[1]/h2\")\n",
    "for i in titles :\n",
    "    Title7.append(i.text)"
   ]
  },
  {
   "cell_type": "code",
   "execution_count": 437,
   "id": "1101b744",
   "metadata": {},
   "outputs": [
    {
     "data": {
      "text/plain": [
       "['NBC 5S Intel Core i7 12th Gen 1255 Laptop (16 GB RAM 3200MHz/ 512 GB M.2 SATA SSD/Windows 11 Home) 15.6” 1080p,Dolby Atmos,Type C Port,Fingerprint Sensor, 38.5Wh Battery (Midnight Blue)',\n",
       " 'Galaxy Book3 Core i7 13th Gen 1355U - (16 GB/512 GB SSD/Windows 11 Home) Galaxy Book3 Thin and Light Laptop (15.6 Inch, Graphite, 1.58 Kg, with MS Office)',\n",
       " 'Modern 14, Intel 12th Gen. i7-1255U, 36CM FHD 60Hz Laptop (16GB/512GB NVMe SSD/Windows 11 Home/Intel Iris Xe Graphics/Classic Black/1.4Kg), C12M-459IN',\n",
       " 'Predator Helios 300 11th Gen Intel Core i9-11900H 15.6 inches FHD IPS Display Gaming Laptop (16GB/1TB SSD/Windows 11 Home/6GB Graphics/NVIDIA GeForce RTX 3060/300 Hz, Black, 2.3Kg) PH315-54',\n",
       " 'Pavilion 14 11th Gen Intel Core i7 16GB/1TB SSD 14 inches Laptop, FHD Micro-Edge Anti-Glare Display/Iris X\\x89 Graphics/Backlit KB/B&O Audio/Fingerprint Reader/Windows 11 Ready/1.41kg, 14-dv0058TU',\n",
       " 'IdeaPad Slim 3 Intel Core i7 12th Gen 15.6 inch (39.62cm) FHD Thin & Light Laptop (16GB/512GB SSD/Windows 11/Office 2021/3months Game Pass/Arctic Grey/1.63Kg), 82RK011EIN',\n",
       " 'TUF Gaming F15, 15.6\"(39.62 cms) FHD 144Hz, Intel Core i7-11800H 11th Gen, 4GB NVIDIA GeForce RTX 3050 Ti, Gaming Laptop (16GB/1TB SSD/Win 11/MSO/90WHrs Battery/Black/2.30 Kg), FX506HE-HN385WS',\n",
       " 'Travelmate Business Laptop Intel Core i7-11th Gen (Windows 11 Home/16 GB Ram/1TB SSD/Intel Iris Xe Graphics/14.0 IPS Display/Backlit Keyboard/Fingerprint Sensor) TMP214-53',\n",
       " 'Travelmate Business Laptop Intel Core i7-11th Gen (Windows 11 Home/16 GB Ram/1TB SSD/Intel Iris Xe Graphics/14.0 IPS Display/Backlit Keyboard/Fingerprint Sensor) TMP214-53',\n",
       " 'Omen 13th Gen Intel Core i7-13700HX,17.3 inch(43.9cm) QHD Gaming Laptop(16GB RAM/1TB SSD/NVIDIA GeForce RTX 4080 12GB Graphics/3ms Response Tim/Win 11/MSO/B&O/Alexa/Xbox Pass) 17-ck2008AX',\n",
       " 'Vivobook 15, Intel Core i7-12650H 12th Gen, 15.6\" (39.62 cm) FHD, Thin and Light Laptop (16GB/512GB/Win11/Office 2021/Blue/1.7 kg), X1502ZA-EJ741WS']"
      ]
     },
     "execution_count": 437,
     "metadata": {},
     "output_type": "execute_result"
    }
   ],
   "source": [
    "Title7"
   ]
  },
  {
   "cell_type": "code",
   "execution_count": 439,
   "id": "1d3b8bcb",
   "metadata": {},
   "outputs": [
    {
     "data": {
      "text/plain": [
       "'Travelmate Business Laptop Intel Core i7-11th Gen (Windows 11 Home/16 GB Ram/1TB SSD/Intel Iris Xe Graphics/14.0 IPS Display/Backlit Keyboard/Fingerprint Sensor) TMP214-53'"
      ]
     },
     "execution_count": 439,
     "metadata": {},
     "output_type": "execute_result"
    }
   ],
   "source": [
    "Title7.pop(8)"
   ]
  },
  {
   "cell_type": "code",
   "execution_count": 440,
   "id": "a0d00b5f",
   "metadata": {},
   "outputs": [
    {
     "data": {
      "text/plain": [
       "['NBC 5S Intel Core i7 12th Gen 1255 Laptop (16 GB RAM 3200MHz/ 512 GB M.2 SATA SSD/Windows 11 Home) 15.6” 1080p,Dolby Atmos,Type C Port,Fingerprint Sensor, 38.5Wh Battery (Midnight Blue)',\n",
       " 'Galaxy Book3 Core i7 13th Gen 1355U - (16 GB/512 GB SSD/Windows 11 Home) Galaxy Book3 Thin and Light Laptop (15.6 Inch, Graphite, 1.58 Kg, with MS Office)',\n",
       " 'Modern 14, Intel 12th Gen. i7-1255U, 36CM FHD 60Hz Laptop (16GB/512GB NVMe SSD/Windows 11 Home/Intel Iris Xe Graphics/Classic Black/1.4Kg), C12M-459IN',\n",
       " 'Predator Helios 300 11th Gen Intel Core i9-11900H 15.6 inches FHD IPS Display Gaming Laptop (16GB/1TB SSD/Windows 11 Home/6GB Graphics/NVIDIA GeForce RTX 3060/300 Hz, Black, 2.3Kg) PH315-54',\n",
       " 'Pavilion 14 11th Gen Intel Core i7 16GB/1TB SSD 14 inches Laptop, FHD Micro-Edge Anti-Glare Display/Iris X\\x89 Graphics/Backlit KB/B&O Audio/Fingerprint Reader/Windows 11 Ready/1.41kg, 14-dv0058TU',\n",
       " 'IdeaPad Slim 3 Intel Core i7 12th Gen 15.6 inch (39.62cm) FHD Thin & Light Laptop (16GB/512GB SSD/Windows 11/Office 2021/3months Game Pass/Arctic Grey/1.63Kg), 82RK011EIN',\n",
       " 'TUF Gaming F15, 15.6\"(39.62 cms) FHD 144Hz, Intel Core i7-11800H 11th Gen, 4GB NVIDIA GeForce RTX 3050 Ti, Gaming Laptop (16GB/1TB SSD/Win 11/MSO/90WHrs Battery/Black/2.30 Kg), FX506HE-HN385WS',\n",
       " 'Travelmate Business Laptop Intel Core i7-11th Gen (Windows 11 Home/16 GB Ram/1TB SSD/Intel Iris Xe Graphics/14.0 IPS Display/Backlit Keyboard/Fingerprint Sensor) TMP214-53',\n",
       " 'Omen 13th Gen Intel Core i7-13700HX,17.3 inch(43.9cm) QHD Gaming Laptop(16GB RAM/1TB SSD/NVIDIA GeForce RTX 4080 12GB Graphics/3ms Response Tim/Win 11/MSO/B&O/Alexa/Xbox Pass) 17-ck2008AX',\n",
       " 'Vivobook 15, Intel Core i7-12650H 12th Gen, 15.6\" (39.62 cm) FHD, Thin and Light Laptop (16GB/512GB/Win11/Office 2021/Blue/1.7 kg), X1502ZA-EJ741WS']"
      ]
     },
     "execution_count": 440,
     "metadata": {},
     "output_type": "execute_result"
    }
   ],
   "source": [
    "Title7"
   ]
  },
  {
   "cell_type": "code",
   "execution_count": 441,
   "id": "9ee83398",
   "metadata": {},
   "outputs": [
    {
     "name": "stdout",
     "output_type": "stream",
     "text": [
      "10\n"
     ]
    }
   ],
   "source": [
    "print(len(Title7))"
   ]
  },
  {
   "cell_type": "code",
   "execution_count": 447,
   "id": "cc2ebdbe",
   "metadata": {},
   "outputs": [],
   "source": [
    "price = driver7.find_elements(By.CLASS_NAME,\"a-price-whole\")\n",
    "for i in price :\n",
    "    Price7.append(i.text)"
   ]
  },
  {
   "cell_type": "code",
   "execution_count": 449,
   "id": "a36c2dad",
   "metadata": {},
   "outputs": [],
   "source": [
    "Price = Price7[:10]"
   ]
  },
  {
   "cell_type": "code",
   "execution_count": 453,
   "id": "43ab66e0",
   "metadata": {},
   "outputs": [
    {
     "data": {
      "text/plain": [
       "['52,990',\n",
       " '89,990',\n",
       " '54,990',\n",
       " '1,41,990',\n",
       " '84,899',\n",
       " '62,990',\n",
       " '77,990',\n",
       " '54,990',\n",
       " '2,59,499',\n",
       " '64,990']"
      ]
     },
     "execution_count": 453,
     "metadata": {},
     "output_type": "execute_result"
    }
   ],
   "source": [
    "Price"
   ]
  },
  {
   "cell_type": "markdown",
   "id": "53d313c1",
   "metadata": {},
   "source": [
    "# DataFrame of Q.7"
   ]
  },
  {
   "cell_type": "code",
   "execution_count": 454,
   "id": "222b151c",
   "metadata": {
    "scrolled": true
   },
   "outputs": [
    {
     "data": {
      "text/html": [
       "<div>\n",
       "<style scoped>\n",
       "    .dataframe tbody tr th:only-of-type {\n",
       "        vertical-align: middle;\n",
       "    }\n",
       "\n",
       "    .dataframe tbody tr th {\n",
       "        vertical-align: top;\n",
       "    }\n",
       "\n",
       "    .dataframe thead th {\n",
       "        text-align: right;\n",
       "    }\n",
       "</style>\n",
       "<table border=\"1\" class=\"dataframe\">\n",
       "  <thead>\n",
       "    <tr style=\"text-align: right;\">\n",
       "      <th></th>\n",
       "      <th>Title</th>\n",
       "      <th>Price</th>\n",
       "    </tr>\n",
       "  </thead>\n",
       "  <tbody>\n",
       "    <tr>\n",
       "      <th>0</th>\n",
       "      <td>NBC 5S Intel Core i7 12th Gen 1255 Laptop (16 ...</td>\n",
       "      <td>52,990</td>\n",
       "    </tr>\n",
       "    <tr>\n",
       "      <th>1</th>\n",
       "      <td>Galaxy Book3 Core i7 13th Gen 1355U - (16 GB/5...</td>\n",
       "      <td>89,990</td>\n",
       "    </tr>\n",
       "    <tr>\n",
       "      <th>2</th>\n",
       "      <td>Modern 14, Intel 12th Gen. i7-1255U, 36CM FHD ...</td>\n",
       "      <td>54,990</td>\n",
       "    </tr>\n",
       "    <tr>\n",
       "      <th>3</th>\n",
       "      <td>Predator Helios 300 11th Gen Intel Core i9-119...</td>\n",
       "      <td>1,41,990</td>\n",
       "    </tr>\n",
       "    <tr>\n",
       "      <th>4</th>\n",
       "      <td>Pavilion 14 11th Gen Intel Core i7 16GB/1TB SS...</td>\n",
       "      <td>84,899</td>\n",
       "    </tr>\n",
       "    <tr>\n",
       "      <th>5</th>\n",
       "      <td>IdeaPad Slim 3 Intel Core i7 12th Gen 15.6 inc...</td>\n",
       "      <td>62,990</td>\n",
       "    </tr>\n",
       "    <tr>\n",
       "      <th>6</th>\n",
       "      <td>TUF Gaming F15, 15.6\"(39.62 cms) FHD 144Hz, In...</td>\n",
       "      <td>77,990</td>\n",
       "    </tr>\n",
       "    <tr>\n",
       "      <th>7</th>\n",
       "      <td>Travelmate Business Laptop Intel Core i7-11th ...</td>\n",
       "      <td>54,990</td>\n",
       "    </tr>\n",
       "    <tr>\n",
       "      <th>8</th>\n",
       "      <td>Omen 13th Gen Intel Core i7-13700HX,17.3 inch(...</td>\n",
       "      <td>2,59,499</td>\n",
       "    </tr>\n",
       "    <tr>\n",
       "      <th>9</th>\n",
       "      <td>Vivobook 15, Intel Core i7-12650H 12th Gen, 15...</td>\n",
       "      <td>64,990</td>\n",
       "    </tr>\n",
       "  </tbody>\n",
       "</table>\n",
       "</div>"
      ],
      "text/plain": [
       "                                               Title     Price\n",
       "0  NBC 5S Intel Core i7 12th Gen 1255 Laptop (16 ...    52,990\n",
       "1  Galaxy Book3 Core i7 13th Gen 1355U - (16 GB/5...    89,990\n",
       "2  Modern 14, Intel 12th Gen. i7-1255U, 36CM FHD ...    54,990\n",
       "3  Predator Helios 300 11th Gen Intel Core i9-119...  1,41,990\n",
       "4  Pavilion 14 11th Gen Intel Core i7 16GB/1TB SS...    84,899\n",
       "5  IdeaPad Slim 3 Intel Core i7 12th Gen 15.6 inc...    62,990\n",
       "6  TUF Gaming F15, 15.6\"(39.62 cms) FHD 144Hz, In...    77,990\n",
       "7  Travelmate Business Laptop Intel Core i7-11th ...    54,990\n",
       "8  Omen 13th Gen Intel Core i7-13700HX,17.3 inch(...  2,59,499\n",
       "9  Vivobook 15, Intel Core i7-12650H 12th Gen, 15...    64,990"
      ]
     },
     "execution_count": 454,
     "metadata": {},
     "output_type": "execute_result"
    }
   ],
   "source": [
    "df7 = pd.DataFrame({'Title': Title7 , 'Price' : Price})\n",
    "df7"
   ]
  },
  {
   "cell_type": "markdown",
   "id": "7ae5baf5",
   "metadata": {},
   "source": [
    "# Question - 8"
   ]
  },
  {
   "cell_type": "markdown",
   "id": "feeb4ff4",
   "metadata": {},
   "source": [
    "Q8: Write a python program to scrape data for Top 1000 Quotes of All Time.\n",
    "The above task will be done in following steps:\n",
    "1. First get the webpagehttps://www.azquotes.com/\n",
    "2. Click on TopQuotes\n",
    "3. Than scrap a) Quote b) Author c) Type Of Quotes"
   ]
  },
  {
   "cell_type": "markdown",
   "id": "8deb3b5a",
   "metadata": {},
   "source": [
    "# Answer ;"
   ]
  },
  {
   "cell_type": "code",
   "execution_count": 455,
   "id": "3c86f8d3",
   "metadata": {},
   "outputs": [],
   "source": [
    "driver8 = webdriver.Chrome()"
   ]
  },
  {
   "cell_type": "code",
   "execution_count": 456,
   "id": "e9cf35f7",
   "metadata": {},
   "outputs": [],
   "source": [
    "driver8.get('https://www.azquotes.com/')"
   ]
  },
  {
   "cell_type": "code",
   "execution_count": 457,
   "id": "c9035ddc",
   "metadata": {},
   "outputs": [],
   "source": [
    "Top_quotes = driver8.find_element(By.XPATH,'/html/body/div[1]/div[1]/div[1]/div/div[3]/ul/li[5]/a')\n",
    "Top_quotes.click()"
   ]
  },
  {
   "cell_type": "code",
   "execution_count": 458,
   "id": "a0b3341f",
   "metadata": {},
   "outputs": [],
   "source": [
    "Quote8 = []\n",
    "Author8 = []\n",
    "Type_of_Quotes8 = []"
   ]
  },
  {
   "cell_type": "code",
   "execution_count": 491,
   "id": "1c34db9a",
   "metadata": {},
   "outputs": [
    {
     "ename": "ElementNotInteractableException",
     "evalue": "Message: element not interactable\n  (Session info: chrome=120.0.6099.225)\nStacktrace:\n\tGetHandleVerifier [0x00007FF6A7C62142+3514994]\n\t(No symbol) [0x00007FF6A7880CE2]\n\t(No symbol) [0x00007FF6A77274C3]\n\t(No symbol) [0x00007FF6A7772D29]\n\t(No symbol) [0x00007FF6A7766A0F]\n\t(No symbol) [0x00007FF6A7795FEA]\n\t(No symbol) [0x00007FF6A77663B6]\n\t(No symbol) [0x00007FF6A7796490]\n\t(No symbol) [0x00007FF6A77B28F6]\n\t(No symbol) [0x00007FF6A7795D93]\n\t(No symbol) [0x00007FF6A7764BDC]\n\t(No symbol) [0x00007FF6A7765C64]\n\tGetHandleVerifier [0x00007FF6A7C8E16B+3695259]\n\tGetHandleVerifier [0x00007FF6A7CE6737+4057191]\n\tGetHandleVerifier [0x00007FF6A7CDE4E3+4023827]\n\tGetHandleVerifier [0x00007FF6A79B04F9+689705]\n\t(No symbol) [0x00007FF6A788C048]\n\t(No symbol) [0x00007FF6A7888044]\n\t(No symbol) [0x00007FF6A78881C9]\n\t(No symbol) [0x00007FF6A78788C4]\n\tBaseThreadInitThunk [0x00007FFFAF617344+20]\n\tRtlUserThreadStart [0x00007FFFB0B026B1+33]\n",
     "output_type": "error",
     "traceback": [
      "\u001b[1;31m---------------------------------------------------------------------------\u001b[0m",
      "\u001b[1;31mElementNotInteractableException\u001b[0m           Traceback (most recent call last)",
      "Cell \u001b[1;32mIn[491], line 15\u001b[0m\n\u001b[0;32m     13\u001b[0m     Type_of_Quotes8\u001b[38;5;241m.\u001b[39mappend(i\u001b[38;5;241m.\u001b[39mtext)\n\u001b[0;32m     14\u001b[0m next_button \u001b[38;5;241m=\u001b[39m driver8\u001b[38;5;241m.\u001b[39mfind_element(By\u001b[38;5;241m.\u001b[39mXPATH,\u001b[38;5;124m'\u001b[39m\u001b[38;5;124m/html/body/div[1]/div[2]/div/div/div/div[1]/div/div[3]/li[12]\u001b[39m\u001b[38;5;124m'\u001b[39m)\n\u001b[1;32m---> 15\u001b[0m next_button\u001b[38;5;241m.\u001b[39mclick()\n",
      "File \u001b[1;32m~\\anaconda3\\Lib\\site-packages\\selenium\\webdriver\\remote\\webelement.py:94\u001b[0m, in \u001b[0;36mWebElement.click\u001b[1;34m(self)\u001b[0m\n\u001b[0;32m     92\u001b[0m \u001b[38;5;28;01mdef\u001b[39;00m \u001b[38;5;21mclick\u001b[39m(\u001b[38;5;28mself\u001b[39m) \u001b[38;5;241m-\u001b[39m\u001b[38;5;241m>\u001b[39m \u001b[38;5;28;01mNone\u001b[39;00m:\n\u001b[0;32m     93\u001b[0m \u001b[38;5;250m    \u001b[39m\u001b[38;5;124;03m\"\"\"Clicks the element.\"\"\"\u001b[39;00m\n\u001b[1;32m---> 94\u001b[0m     \u001b[38;5;28mself\u001b[39m\u001b[38;5;241m.\u001b[39m_execute(Command\u001b[38;5;241m.\u001b[39mCLICK_ELEMENT)\n",
      "File \u001b[1;32m~\\anaconda3\\Lib\\site-packages\\selenium\\webdriver\\remote\\webelement.py:395\u001b[0m, in \u001b[0;36mWebElement._execute\u001b[1;34m(self, command, params)\u001b[0m\n\u001b[0;32m    393\u001b[0m     params \u001b[38;5;241m=\u001b[39m {}\n\u001b[0;32m    394\u001b[0m params[\u001b[38;5;124m\"\u001b[39m\u001b[38;5;124mid\u001b[39m\u001b[38;5;124m\"\u001b[39m] \u001b[38;5;241m=\u001b[39m \u001b[38;5;28mself\u001b[39m\u001b[38;5;241m.\u001b[39m_id\n\u001b[1;32m--> 395\u001b[0m \u001b[38;5;28;01mreturn\u001b[39;00m \u001b[38;5;28mself\u001b[39m\u001b[38;5;241m.\u001b[39m_parent\u001b[38;5;241m.\u001b[39mexecute(command, params)\n",
      "File \u001b[1;32m~\\anaconda3\\Lib\\site-packages\\selenium\\webdriver\\remote\\webdriver.py:347\u001b[0m, in \u001b[0;36mWebDriver.execute\u001b[1;34m(self, driver_command, params)\u001b[0m\n\u001b[0;32m    345\u001b[0m response \u001b[38;5;241m=\u001b[39m \u001b[38;5;28mself\u001b[39m\u001b[38;5;241m.\u001b[39mcommand_executor\u001b[38;5;241m.\u001b[39mexecute(driver_command, params)\n\u001b[0;32m    346\u001b[0m \u001b[38;5;28;01mif\u001b[39;00m response:\n\u001b[1;32m--> 347\u001b[0m     \u001b[38;5;28mself\u001b[39m\u001b[38;5;241m.\u001b[39merror_handler\u001b[38;5;241m.\u001b[39mcheck_response(response)\n\u001b[0;32m    348\u001b[0m     response[\u001b[38;5;124m\"\u001b[39m\u001b[38;5;124mvalue\u001b[39m\u001b[38;5;124m\"\u001b[39m] \u001b[38;5;241m=\u001b[39m \u001b[38;5;28mself\u001b[39m\u001b[38;5;241m.\u001b[39m_unwrap_value(response\u001b[38;5;241m.\u001b[39mget(\u001b[38;5;124m\"\u001b[39m\u001b[38;5;124mvalue\u001b[39m\u001b[38;5;124m\"\u001b[39m, \u001b[38;5;28;01mNone\u001b[39;00m))\n\u001b[0;32m    349\u001b[0m     \u001b[38;5;28;01mreturn\u001b[39;00m response\n",
      "File \u001b[1;32m~\\anaconda3\\Lib\\site-packages\\selenium\\webdriver\\remote\\errorhandler.py:229\u001b[0m, in \u001b[0;36mErrorHandler.check_response\u001b[1;34m(self, response)\u001b[0m\n\u001b[0;32m    227\u001b[0m         alert_text \u001b[38;5;241m=\u001b[39m value[\u001b[38;5;124m\"\u001b[39m\u001b[38;5;124malert\u001b[39m\u001b[38;5;124m\"\u001b[39m]\u001b[38;5;241m.\u001b[39mget(\u001b[38;5;124m\"\u001b[39m\u001b[38;5;124mtext\u001b[39m\u001b[38;5;124m\"\u001b[39m)\n\u001b[0;32m    228\u001b[0m     \u001b[38;5;28;01mraise\u001b[39;00m exception_class(message, screen, stacktrace, alert_text)  \u001b[38;5;66;03m# type: ignore[call-arg]  # mypy is not smart enough here\u001b[39;00m\n\u001b[1;32m--> 229\u001b[0m \u001b[38;5;28;01mraise\u001b[39;00m exception_class(message, screen, stacktrace)\n",
      "\u001b[1;31mElementNotInteractableException\u001b[0m: Message: element not interactable\n  (Session info: chrome=120.0.6099.225)\nStacktrace:\n\tGetHandleVerifier [0x00007FF6A7C62142+3514994]\n\t(No symbol) [0x00007FF6A7880CE2]\n\t(No symbol) [0x00007FF6A77274C3]\n\t(No symbol) [0x00007FF6A7772D29]\n\t(No symbol) [0x00007FF6A7766A0F]\n\t(No symbol) [0x00007FF6A7795FEA]\n\t(No symbol) [0x00007FF6A77663B6]\n\t(No symbol) [0x00007FF6A7796490]\n\t(No symbol) [0x00007FF6A77B28F6]\n\t(No symbol) [0x00007FF6A7795D93]\n\t(No symbol) [0x00007FF6A7764BDC]\n\t(No symbol) [0x00007FF6A7765C64]\n\tGetHandleVerifier [0x00007FF6A7C8E16B+3695259]\n\tGetHandleVerifier [0x00007FF6A7CE6737+4057191]\n\tGetHandleVerifier [0x00007FF6A7CDE4E3+4023827]\n\tGetHandleVerifier [0x00007FF6A79B04F9+689705]\n\t(No symbol) [0x00007FF6A788C048]\n\t(No symbol) [0x00007FF6A7888044]\n\t(No symbol) [0x00007FF6A78881C9]\n\t(No symbol) [0x00007FF6A78788C4]\n\tBaseThreadInitThunk [0x00007FFFAF617344+20]\n\tRtlUserThreadStart [0x00007FFFB0B026B1+33]\n"
     ]
    }
   ],
   "source": [
    "start = 0\n",
    "end = 10\n",
    "\n",
    "for page in range(start, end):\n",
    "    Quote_names = driver8.find_elements(By.CLASS_NAME,\"title\")\n",
    "    for i in Quote_names:\n",
    "        Quote8.append(i.text)\n",
    "    Author_names = driver8.find_elements(By.CLASS_NAME,\"author\")\n",
    "    for i in Author_names :\n",
    "        Author8.append(i.text)\n",
    "    Type_quots = driver8.find_elements(By.CLASS_NAME,\"tags\")\n",
    "    for i in Type_quots :\n",
    "        Type_of_Quotes8.append(i.text)\n",
    "    next_button = driver8.find_element(By.XPATH,'/html/body/div[1]/div[2]/div/div/div/div[1]/div/div[3]/li[12]')\n",
    "    next_button.click()"
   ]
  },
  {
   "cell_type": "code",
   "execution_count": 495,
   "id": "c6897900",
   "metadata": {},
   "outputs": [],
   "source": [
    "Quote = Quote8[:1000]"
   ]
  },
  {
   "cell_type": "code",
   "execution_count": 496,
   "id": "fe7af8d0",
   "metadata": {},
   "outputs": [],
   "source": [
    "df8 = pd.DataFrame({'Quote': Quote , 'Author':Author8 , 'Type of Quote' :Type_of_Quotes8 })"
   ]
  },
  {
   "cell_type": "markdown",
   "id": "477c9eba",
   "metadata": {},
   "source": [
    "# DataFrame of Q.8"
   ]
  },
  {
   "cell_type": "code",
   "execution_count": 497,
   "id": "bd52bef4",
   "metadata": {
    "scrolled": true
   },
   "outputs": [
    {
     "data": {
      "text/html": [
       "<div>\n",
       "<style scoped>\n",
       "    .dataframe tbody tr th:only-of-type {\n",
       "        vertical-align: middle;\n",
       "    }\n",
       "\n",
       "    .dataframe tbody tr th {\n",
       "        vertical-align: top;\n",
       "    }\n",
       "\n",
       "    .dataframe thead th {\n",
       "        text-align: right;\n",
       "    }\n",
       "</style>\n",
       "<table border=\"1\" class=\"dataframe\">\n",
       "  <thead>\n",
       "    <tr style=\"text-align: right;\">\n",
       "      <th></th>\n",
       "      <th>Quote</th>\n",
       "      <th>Author</th>\n",
       "      <th>Type of Quote</th>\n",
       "    </tr>\n",
       "  </thead>\n",
       "  <tbody>\n",
       "    <tr>\n",
       "      <th>0</th>\n",
       "      <td></td>\n",
       "      <td>Michael Porter</td>\n",
       "      <td>Essence, Deep Thought, Transcendentalism</td>\n",
       "    </tr>\n",
       "    <tr>\n",
       "      <th>1</th>\n",
       "      <td>The essence of strategy is choosing what not t...</td>\n",
       "      <td>Golda Meir</td>\n",
       "      <td>Inspiration, Past, Trying</td>\n",
       "    </tr>\n",
       "    <tr>\n",
       "      <th>2</th>\n",
       "      <td>One cannot and must not try to erase the past ...</td>\n",
       "      <td>Theodore Roosevelt</td>\n",
       "      <td>Country, Peace, War</td>\n",
       "    </tr>\n",
       "    <tr>\n",
       "      <th>3</th>\n",
       "      <td>Patriotism means to stand by the country. It d...</td>\n",
       "      <td>Nelson Mandela</td>\n",
       "      <td>Inspirational, Motivational, Death</td>\n",
       "    </tr>\n",
       "    <tr>\n",
       "      <th>4</th>\n",
       "      <td>Death is something inevitable. When a man has ...</td>\n",
       "      <td>Erma Bombeck</td>\n",
       "      <td>4th Of July, Food, Patriotic</td>\n",
       "    </tr>\n",
       "    <tr>\n",
       "      <th>...</th>\n",
       "      <td>...</td>\n",
       "      <td>...</td>\n",
       "      <td>...</td>\n",
       "    </tr>\n",
       "    <tr>\n",
       "      <th>995</th>\n",
       "      <td>The size of your success is measured by the st...</td>\n",
       "      <td>Jim Rohn</td>\n",
       "      <td>Inspirational, Life, Motivational</td>\n",
       "    </tr>\n",
       "    <tr>\n",
       "      <th>996</th>\n",
       "      <td>The dog is a gentleman; I hope to go to his he...</td>\n",
       "      <td>Henry Ford</td>\n",
       "      <td>Inspirational, Motivational, Positive</td>\n",
       "    </tr>\n",
       "    <tr>\n",
       "      <th>997</th>\n",
       "      <td>Don't judge each day by the harvest you reap b...</td>\n",
       "      <td>Robin Williams</td>\n",
       "      <td>Love, Life, Lonely</td>\n",
       "    </tr>\n",
       "    <tr>\n",
       "      <th>998</th>\n",
       "      <td>I can be changed by what happens to me. But I ...</td>\n",
       "      <td>Margaret Walker</td>\n",
       "      <td>Love, Inspirational, Friendship</td>\n",
       "    </tr>\n",
       "    <tr>\n",
       "      <th>999</th>\n",
       "      <td>To acquire knowledge, one must study; but to a...</td>\n",
       "      <td>T. Harv Eker</td>\n",
       "      <td>Inspirational, Change, Inspiring</td>\n",
       "    </tr>\n",
       "  </tbody>\n",
       "</table>\n",
       "<p>1000 rows × 3 columns</p>\n",
       "</div>"
      ],
      "text/plain": [
       "                                                 Quote              Author  \\\n",
       "0                                                           Michael Porter   \n",
       "1    The essence of strategy is choosing what not t...          Golda Meir   \n",
       "2    One cannot and must not try to erase the past ...  Theodore Roosevelt   \n",
       "3    Patriotism means to stand by the country. It d...      Nelson Mandela   \n",
       "4    Death is something inevitable. When a man has ...        Erma Bombeck   \n",
       "..                                                 ...                 ...   \n",
       "995  The size of your success is measured by the st...            Jim Rohn   \n",
       "996  The dog is a gentleman; I hope to go to his he...          Henry Ford   \n",
       "997  Don't judge each day by the harvest you reap b...      Robin Williams   \n",
       "998  I can be changed by what happens to me. But I ...     Margaret Walker   \n",
       "999  To acquire knowledge, one must study; but to a...        T. Harv Eker   \n",
       "\n",
       "                                Type of Quote  \n",
       "0    Essence, Deep Thought, Transcendentalism  \n",
       "1                   Inspiration, Past, Trying  \n",
       "2                         Country, Peace, War  \n",
       "3          Inspirational, Motivational, Death  \n",
       "4                4th Of July, Food, Patriotic  \n",
       "..                                        ...  \n",
       "995         Inspirational, Life, Motivational  \n",
       "996     Inspirational, Motivational, Positive  \n",
       "997                        Love, Life, Lonely  \n",
       "998           Love, Inspirational, Friendship  \n",
       "999          Inspirational, Change, Inspiring  \n",
       "\n",
       "[1000 rows x 3 columns]"
      ]
     },
     "execution_count": 497,
     "metadata": {},
     "output_type": "execute_result"
    }
   ],
   "source": [
    "df8"
   ]
  },
  {
   "cell_type": "markdown",
   "id": "51b3636b",
   "metadata": {},
   "source": [
    "# Question - 9"
   ]
  },
  {
   "cell_type": "markdown",
   "id": "41e5244c",
   "metadata": {},
   "source": [
    "Q9: Write a python program to display list of respected former Prime Ministers of India(i.e. Name, Born-Dead,\n",
    "Term of office, Remarks) from https://www.jagranjosh.com/.\n",
    "This task will be done in following steps:\n",
    "1. First get the webpagehttps://www.jagranjosh.com/\n",
    "2. Then You have to click on the GK option\n",
    "3. Then click on the List of all Prime Ministers of India\n",
    "4. Then scrap the mentioned data and make theDataFrame"
   ]
  },
  {
   "cell_type": "markdown",
   "id": "f6841955",
   "metadata": {},
   "source": [
    "# Answer ;"
   ]
  },
  {
   "cell_type": "code",
   "execution_count": 499,
   "id": "17f7ad2c",
   "metadata": {},
   "outputs": [],
   "source": [
    "driver9 = webdriver.Chrome()"
   ]
  },
  {
   "cell_type": "code",
   "execution_count": 500,
   "id": "8c2114f5",
   "metadata": {},
   "outputs": [],
   "source": [
    "driver9.get('https://www.jagranjosh.com/')"
   ]
  },
  {
   "cell_type": "code",
   "execution_count": 501,
   "id": "de9c6d3c",
   "metadata": {},
   "outputs": [],
   "source": [
    "GK = driver9.find_element(By.XPATH,'/html/body/div/header/nav/div/div/div[3]/ul/li[3]/a')\n",
    "GK.click()"
   ]
  },
  {
   "cell_type": "code",
   "execution_count": 503,
   "id": "906cebcf",
   "metadata": {},
   "outputs": [],
   "source": [
    "Prime_ministers = driver9.find_element(By.XPATH,'/html/body/div[1]/div[8]/section[8]/div/ul/li[10]/a')\n",
    "Prime_ministers.click()"
   ]
  },
  {
   "cell_type": "code",
   "execution_count": 509,
   "id": "d530b5fa",
   "metadata": {},
   "outputs": [],
   "source": [
    "PMdata = []"
   ]
  },
  {
   "cell_type": "code",
   "execution_count": 515,
   "id": "738383cd",
   "metadata": {},
   "outputs": [],
   "source": [
    "pmdatas = driver9.find_elements(By.XPATH,'//div[@class=\"TableData\"]/table/tbody/tr')\n",
    "\n",
    "    "
   ]
  },
  {
   "cell_type": "code",
   "execution_count": 518,
   "id": "3631891f",
   "metadata": {},
   "outputs": [],
   "source": [
    "for datas in  pmdatas :\n",
    "    data = datas.text\n",
    "    PMdata.append(data)"
   ]
  },
  {
   "cell_type": "code",
   "execution_count": 519,
   "id": "55f95591",
   "metadata": {},
   "outputs": [
    {
     "data": {
      "text/plain": [
       "['S.N.\\nPM Name\\nBorn-Dead\\nTerm of office\\nRemark',\n",
       " '1.\\nJawahar Lal Nehru\\n(1889–1964)\\n15 August 1947 to 27 May 1964\\n16 years, 286 days\\nThe first prime minister of India and the longest-serving PM of India, the first to die in office.',\n",
       " '2.\\nGulzarilal Nanda (Acting)\\n(1898-1998)\\n27 May 1964 to 9 June 1964,\\n13 days\\nFirst acting PM of India',\n",
       " \"3.\\nLal Bahadur Shastri\\n(1904–1966)\\n9 June 1964 to 11 January 1966\\n1 year, 216 days\\nHe has given the slogan of 'Jai Jawan Jai Kisan' during the Indo-Pak war of 1965\",\n",
       " '4. \\nGulzari Lal Nanda  (Acting)\\n(1898-1998)\\n11 January 1966 to 24 January 1966\\n13 days\\n-',\n",
       " '5.\\nIndira Gandhi\\n(1917–1984)\\n24 January 1966 to 24 March 1977\\n11 years, 59 days\\nFirst female Prime Minister of India',\n",
       " '6.\\nMorarji Desai\\n(1896–1995)\\n24 March 1977 to  28 July 1979 \\n2 year, 126 days\\nOldest to become PM (81 years old) and first to resign from office',\n",
       " '7.\\nCharan Singh\\n(1902–1987)\\n28 July 1979 to 14 January 1980\\n170 days\\nOnly PM who did not face the Parliament',\n",
       " '8.\\nIndira Gandhi\\n(1917–1984)\\n14 January 1980 to 31 October 1984\\n4 years, 291 days\\nThe first lady who served as PM for the second term',\n",
       " '9.\\nRajiv Gandhi\\n(1944–1991)\\n31 October 1984 to 2 December 1989\\n5 years, 32 days\\nYoungest to become PM (40 years old)',\n",
       " '10.\\nV. P. Singh\\n(1931–2008)\\n2 December 1989 to 10 November 1990\\n343 days\\nFirst PM to step down after a vote of no confidence',\n",
       " '11.\\nChandra Shekhar\\n(1927–2007)\\n10 November 1990 to 21 June 1991\\n223 days\\nHe belongs to  Samajwadi Janata Party',\n",
       " '12.\\nP. V. Narasimha Rao\\n(1921–2004)\\n21 June 1991 to 16 May 1996\\n4 years, 330 days\\nFirst PM from South India',\n",
       " '13.\\nAtal Bihari Vajpayee\\n(1924- 2018)\\n16 May 1996 to 1 June 1996\\n16 days\\nPM for shortest tenure',\n",
       " '14.\\nH. D. Deve Gowda\\n(born 1933)\\n1 June 1996 to 21 April 1997\\n324 days\\nHe belongs to  Janata Dal',\n",
       " '15.\\nInder Kumar Gujral\\n(1919–2012)\\n21 April 1997 to 19 March 1998 \\n332 days\\n------',\n",
       " '16.\\nAtal Bihari Vajpayee\\n(1924-2018)\\n19 March 1998 to 22 May 2004 \\n6 years, 64 days\\n The first non-congress PM who completed a full term as PM',\n",
       " '17.\\nManmohan Singh\\n(born 1932)\\n22 May 2004 to 26 May 2014   \\n10 years, 4 days\\n First Sikh PM',\n",
       " '18.\\nNarendra Modi\\n(born 1950)\\n26 May 2014 - 2019\\n4th Prime Minister of India who served two consecutive tenures',\n",
       " '19.\\nNarendra Modi\\n(born 1950)\\n30 May 2019- Incumbent\\nFirst non-congress PM with two consecutive tenures',\n",
       " 'List of all Presidents of India List of Nicknames of Indian Prime Ministers',\n",
       " 'S.N.PM NameBorn-DeadTerm of officeRemark',\n",
       " '1.Jawahar Lal Nehru(1889–1964)15 August 1947 to 27 May 196416 years, 286 daysThe first prime minister of India and the longest-serving PM of India, the first to die in office.',\n",
       " '2.Gulzarilal Nanda (Acting)(1898-1998)27 May 1964 to 9 June 1964,13 daysFirst acting PM of India',\n",
       " \"3.Lal Bahadur Shastri(1904–1966)9 June 1964 to 11 January 19661 year, 216 daysHe has given the slogan of 'Jai Jawan Jai Kisan' during the Indo-Pak war of 1965\",\n",
       " '4. Gulzari Lal Nanda  (Acting)(1898-1998)11 January 1966 to 24 January 196613 days-',\n",
       " '5.Indira Gandhi(1917–1984)24 January 1966 to 24 March 197711 years, 59 daysFirst female Prime Minister of India',\n",
       " '6.Morarji Desai(1896–1995)24 March 1977 to  28 July 1979 2 year, 126 daysOldest to become PM (81 years old) and first to resign from office',\n",
       " '7.Charan Singh(1902–1987)28 July 1979 to 14 January 1980170 daysOnly PM who did not face the Parliament',\n",
       " '8.Indira Gandhi(1917–1984)14 January 1980 to 31 October 19844 years, 291 daysThe first lady who served as PM for the second term',\n",
       " '9.Rajiv Gandhi(1944–1991)31 October 1984 to 2 December 19895 years, 32 daysYoungest to become PM (40 years old)',\n",
       " '10.V. P. Singh(1931–2008)2 December 1989 to 10 November 1990343 daysFirst PM to step down after a vote of no confidence',\n",
       " '11.Chandra Shekhar(1927–2007)10 November 1990 to 21 June 1991223 daysHe belongs to  Samajwadi Janata Party',\n",
       " '12.P. V. Narasimha Rao(1921–2004)21 June 1991 to 16 May 19964 years, 330 daysFirst PM from South India',\n",
       " '13.Atal Bihari Vajpayee(1924- 2018)16 May 1996 to 1 June 199616 daysPM for shortest tenure',\n",
       " '14.H. D. Deve Gowda(born 1933)1 June 1996 to 21 April 1997324 daysHe belongs to  Janata Dal',\n",
       " '15.Inder Kumar Gujral(1919–2012)21 April 1997 to 19 March 1998 332 days------',\n",
       " '16.Atal Bihari Vajpayee(1924-2018)19 March 1998 to 22 May 2004 6 years, 64 days The first non-congress PM who completed a full term as PM',\n",
       " '17.Manmohan Singh(born 1932)22 May 2004 to 26 May 2014   10 years, 4 days First Sikh PM',\n",
       " '18.Narendra Modi(born 1950)26 May 2014 - 20194th Prime Minister of India who served two consecutive tenures',\n",
       " '19.Narendra Modi(born 1950)30 May 2019- IncumbentFirst non-congress PM with two consecutive tenures',\n",
       " 'List of all Presidents of India List of Nicknames of Indian Prime Ministers']"
      ]
     },
     "execution_count": 519,
     "metadata": {},
     "output_type": "execute_result"
    }
   ],
   "source": [
    "PMdata"
   ]
  },
  {
   "cell_type": "code",
   "execution_count": 535,
   "id": "d6c7dffa",
   "metadata": {},
   "outputs": [],
   "source": [
    "data_list = []\n",
    "for item in PMdata:\n",
    "    split_data = item.split(\"\\n\")\n",
    "    if len(split_data) > 5:  \n",
    "        data_list.append(split_data)\n",
    "    else:  \n",
    "        data_list.append(split_data + [\"\"] * (5 - len(split_data)))\n",
    "\n",
    "\n",
    "sn = [item[0] for item in data_list]\n",
    "pm_name = [item[1] for item in data_list]\n",
    "born_dead = [item[2] for item in data_list]\n",
    "term_of_office = [\n",
    "    \" \".join(item[3:5]) for item in data_list\n",
    "]  \n",
    "remarks = [\n",
    "    item[5] if len(item) >= 6 else \"\" for item in data_list\n",
    "]  \n"
   ]
  },
  {
   "cell_type": "code",
   "execution_count": 542,
   "id": "1dd56cbc",
   "metadata": {},
   "outputs": [],
   "source": [
    "S_N = sn[1:20]"
   ]
  },
  {
   "cell_type": "code",
   "execution_count": 544,
   "id": "5782bac1",
   "metadata": {},
   "outputs": [],
   "source": [
    "PM = pm_name[1:20]"
   ]
  },
  {
   "cell_type": "code",
   "execution_count": 546,
   "id": "952479d4",
   "metadata": {},
   "outputs": [],
   "source": [
    "BornDead = born_dead[1:20]"
   ]
  },
  {
   "cell_type": "code",
   "execution_count": 550,
   "id": "a0e99bd5",
   "metadata": {},
   "outputs": [],
   "source": [
    "tremOffice = term_of_office[1:20]"
   ]
  },
  {
   "cell_type": "code",
   "execution_count": 553,
   "id": "322b51f0",
   "metadata": {},
   "outputs": [],
   "source": [
    "remarkss = remarks[1:20]"
   ]
  },
  {
   "cell_type": "code",
   "execution_count": 555,
   "id": "a4b08894",
   "metadata": {},
   "outputs": [],
   "source": [
    "df9 = pd.DataFrame({'PM_name':PM , 'Born-Dead':BornDead , 'Term of Office': tremOffice , 'Remarks': remarkss})"
   ]
  },
  {
   "cell_type": "markdown",
   "id": "7c72eb10",
   "metadata": {},
   "source": [
    "# DataFrame of Q.9"
   ]
  },
  {
   "cell_type": "code",
   "execution_count": 556,
   "id": "faa2c230",
   "metadata": {
    "scrolled": true
   },
   "outputs": [
    {
     "data": {
      "text/html": [
       "<div>\n",
       "<style scoped>\n",
       "    .dataframe tbody tr th:only-of-type {\n",
       "        vertical-align: middle;\n",
       "    }\n",
       "\n",
       "    .dataframe tbody tr th {\n",
       "        vertical-align: top;\n",
       "    }\n",
       "\n",
       "    .dataframe thead th {\n",
       "        text-align: right;\n",
       "    }\n",
       "</style>\n",
       "<table border=\"1\" class=\"dataframe\">\n",
       "  <thead>\n",
       "    <tr style=\"text-align: right;\">\n",
       "      <th></th>\n",
       "      <th>PM_name</th>\n",
       "      <th>Born-Dead</th>\n",
       "      <th>Term of Office</th>\n",
       "      <th>Remarks</th>\n",
       "    </tr>\n",
       "  </thead>\n",
       "  <tbody>\n",
       "    <tr>\n",
       "      <th>0</th>\n",
       "      <td>Jawahar Lal Nehru</td>\n",
       "      <td>(1889–1964)</td>\n",
       "      <td>15 August 1947 to 27 May 1964 16 years, 286 days</td>\n",
       "      <td>The first prime minister of India and the long...</td>\n",
       "    </tr>\n",
       "    <tr>\n",
       "      <th>1</th>\n",
       "      <td>Gulzarilal Nanda (Acting)</td>\n",
       "      <td>(1898-1998)</td>\n",
       "      <td>27 May 1964 to 9 June 1964, 13 days</td>\n",
       "      <td>First acting PM of India</td>\n",
       "    </tr>\n",
       "    <tr>\n",
       "      <th>2</th>\n",
       "      <td>Lal Bahadur Shastri</td>\n",
       "      <td>(1904–1966)</td>\n",
       "      <td>9 June 1964 to 11 January 1966 1 year, 216 days</td>\n",
       "      <td>He has given the slogan of 'Jai Jawan Jai Kisa...</td>\n",
       "    </tr>\n",
       "    <tr>\n",
       "      <th>3</th>\n",
       "      <td>Gulzari Lal Nanda  (Acting)</td>\n",
       "      <td>(1898-1998)</td>\n",
       "      <td>11 January 1966 to 24 January 1966 13 days</td>\n",
       "      <td>-</td>\n",
       "    </tr>\n",
       "    <tr>\n",
       "      <th>4</th>\n",
       "      <td>Indira Gandhi</td>\n",
       "      <td>(1917–1984)</td>\n",
       "      <td>24 January 1966 to 24 March 1977 11 years, 59 ...</td>\n",
       "      <td>First female Prime Minister of India</td>\n",
       "    </tr>\n",
       "    <tr>\n",
       "      <th>5</th>\n",
       "      <td>Morarji Desai</td>\n",
       "      <td>(1896–1995)</td>\n",
       "      <td>24 March 1977 to  28 July 1979  2 year, 126 days</td>\n",
       "      <td>Oldest to become PM (81 years old) and first t...</td>\n",
       "    </tr>\n",
       "    <tr>\n",
       "      <th>6</th>\n",
       "      <td>Charan Singh</td>\n",
       "      <td>(1902–1987)</td>\n",
       "      <td>28 July 1979 to 14 January 1980 170 days</td>\n",
       "      <td>Only PM who did not face the Parliament</td>\n",
       "    </tr>\n",
       "    <tr>\n",
       "      <th>7</th>\n",
       "      <td>Indira Gandhi</td>\n",
       "      <td>(1917–1984)</td>\n",
       "      <td>14 January 1980 to 31 October 1984 4 years, 29...</td>\n",
       "      <td>The first lady who served as PM for the second...</td>\n",
       "    </tr>\n",
       "    <tr>\n",
       "      <th>8</th>\n",
       "      <td>Rajiv Gandhi</td>\n",
       "      <td>(1944–1991)</td>\n",
       "      <td>31 October 1984 to 2 December 1989 5 years, 32...</td>\n",
       "      <td>Youngest to become PM (40 years old)</td>\n",
       "    </tr>\n",
       "    <tr>\n",
       "      <th>9</th>\n",
       "      <td>V. P. Singh</td>\n",
       "      <td>(1931–2008)</td>\n",
       "      <td>2 December 1989 to 10 November 1990 343 days</td>\n",
       "      <td>First PM to step down after a vote of no confi...</td>\n",
       "    </tr>\n",
       "    <tr>\n",
       "      <th>10</th>\n",
       "      <td>Chandra Shekhar</td>\n",
       "      <td>(1927–2007)</td>\n",
       "      <td>10 November 1990 to 21 June 1991 223 days</td>\n",
       "      <td>He belongs to  Samajwadi Janata Party</td>\n",
       "    </tr>\n",
       "    <tr>\n",
       "      <th>11</th>\n",
       "      <td>P. V. Narasimha Rao</td>\n",
       "      <td>(1921–2004)</td>\n",
       "      <td>21 June 1991 to 16 May 1996 4 years, 330 days</td>\n",
       "      <td>First PM from South India</td>\n",
       "    </tr>\n",
       "    <tr>\n",
       "      <th>12</th>\n",
       "      <td>Atal Bihari Vajpayee</td>\n",
       "      <td>(1924- 2018)</td>\n",
       "      <td>16 May 1996 to 1 June 1996 16 days</td>\n",
       "      <td>PM for shortest tenure</td>\n",
       "    </tr>\n",
       "    <tr>\n",
       "      <th>13</th>\n",
       "      <td>H. D. Deve Gowda</td>\n",
       "      <td>(born 1933)</td>\n",
       "      <td>1 June 1996 to 21 April 1997 324 days</td>\n",
       "      <td>He belongs to  Janata Dal</td>\n",
       "    </tr>\n",
       "    <tr>\n",
       "      <th>14</th>\n",
       "      <td>Inder Kumar Gujral</td>\n",
       "      <td>(1919–2012)</td>\n",
       "      <td>21 April 1997 to 19 March 1998  332 days</td>\n",
       "      <td>------</td>\n",
       "    </tr>\n",
       "    <tr>\n",
       "      <th>15</th>\n",
       "      <td>Atal Bihari Vajpayee</td>\n",
       "      <td>(1924-2018)</td>\n",
       "      <td>19 March 1998 to 22 May 2004  6 years, 64 days</td>\n",
       "      <td>The first non-congress PM who completed a ful...</td>\n",
       "    </tr>\n",
       "    <tr>\n",
       "      <th>16</th>\n",
       "      <td>Manmohan Singh</td>\n",
       "      <td>(born 1932)</td>\n",
       "      <td>22 May 2004 to 26 May 2014    10 years, 4 days</td>\n",
       "      <td>First Sikh PM</td>\n",
       "    </tr>\n",
       "    <tr>\n",
       "      <th>17</th>\n",
       "      <td>Narendra Modi</td>\n",
       "      <td>(born 1950)</td>\n",
       "      <td>26 May 2014 - 2019 4th Prime Minister of India...</td>\n",
       "      <td></td>\n",
       "    </tr>\n",
       "    <tr>\n",
       "      <th>18</th>\n",
       "      <td>Narendra Modi</td>\n",
       "      <td>(born 1950)</td>\n",
       "      <td>30 May 2019- Incumbent First non-congress PM w...</td>\n",
       "      <td></td>\n",
       "    </tr>\n",
       "  </tbody>\n",
       "</table>\n",
       "</div>"
      ],
      "text/plain": [
       "                        PM_name     Born-Dead  \\\n",
       "0             Jawahar Lal Nehru   (1889–1964)   \n",
       "1     Gulzarilal Nanda (Acting)   (1898-1998)   \n",
       "2           Lal Bahadur Shastri   (1904–1966)   \n",
       "3   Gulzari Lal Nanda  (Acting)   (1898-1998)   \n",
       "4                 Indira Gandhi   (1917–1984)   \n",
       "5                 Morarji Desai   (1896–1995)   \n",
       "6                  Charan Singh   (1902–1987)   \n",
       "7                 Indira Gandhi   (1917–1984)   \n",
       "8                  Rajiv Gandhi   (1944–1991)   \n",
       "9                   V. P. Singh   (1931–2008)   \n",
       "10              Chandra Shekhar   (1927–2007)   \n",
       "11          P. V. Narasimha Rao   (1921–2004)   \n",
       "12         Atal Bihari Vajpayee  (1924- 2018)   \n",
       "13             H. D. Deve Gowda   (born 1933)   \n",
       "14           Inder Kumar Gujral   (1919–2012)   \n",
       "15         Atal Bihari Vajpayee   (1924-2018)   \n",
       "16               Manmohan Singh   (born 1932)   \n",
       "17                Narendra Modi   (born 1950)   \n",
       "18                Narendra Modi   (born 1950)   \n",
       "\n",
       "                                       Term of Office  \\\n",
       "0    15 August 1947 to 27 May 1964 16 years, 286 days   \n",
       "1                 27 May 1964 to 9 June 1964, 13 days   \n",
       "2     9 June 1964 to 11 January 1966 1 year, 216 days   \n",
       "3          11 January 1966 to 24 January 1966 13 days   \n",
       "4   24 January 1966 to 24 March 1977 11 years, 59 ...   \n",
       "5    24 March 1977 to  28 July 1979  2 year, 126 days   \n",
       "6            28 July 1979 to 14 January 1980 170 days   \n",
       "7   14 January 1980 to 31 October 1984 4 years, 29...   \n",
       "8   31 October 1984 to 2 December 1989 5 years, 32...   \n",
       "9        2 December 1989 to 10 November 1990 343 days   \n",
       "10          10 November 1990 to 21 June 1991 223 days   \n",
       "11      21 June 1991 to 16 May 1996 4 years, 330 days   \n",
       "12                 16 May 1996 to 1 June 1996 16 days   \n",
       "13              1 June 1996 to 21 April 1997 324 days   \n",
       "14           21 April 1997 to 19 March 1998  332 days   \n",
       "15     19 March 1998 to 22 May 2004  6 years, 64 days   \n",
       "16     22 May 2004 to 26 May 2014    10 years, 4 days   \n",
       "17  26 May 2014 - 2019 4th Prime Minister of India...   \n",
       "18  30 May 2019- Incumbent First non-congress PM w...   \n",
       "\n",
       "                                              Remarks  \n",
       "0   The first prime minister of India and the long...  \n",
       "1                            First acting PM of India  \n",
       "2   He has given the slogan of 'Jai Jawan Jai Kisa...  \n",
       "3                                                   -  \n",
       "4                First female Prime Minister of India  \n",
       "5   Oldest to become PM (81 years old) and first t...  \n",
       "6             Only PM who did not face the Parliament  \n",
       "7   The first lady who served as PM for the second...  \n",
       "8                Youngest to become PM (40 years old)  \n",
       "9   First PM to step down after a vote of no confi...  \n",
       "10              He belongs to  Samajwadi Janata Party  \n",
       "11                          First PM from South India  \n",
       "12                             PM for shortest tenure  \n",
       "13                          He belongs to  Janata Dal  \n",
       "14                                             ------  \n",
       "15   The first non-congress PM who completed a ful...  \n",
       "16                                      First Sikh PM  \n",
       "17                                                     \n",
       "18                                                     "
      ]
     },
     "execution_count": 556,
     "metadata": {},
     "output_type": "execute_result"
    }
   ],
   "source": [
    "df9"
   ]
  },
  {
   "cell_type": "markdown",
   "id": "debe1d2b",
   "metadata": {},
   "source": [
    "# Question - 10"
   ]
  },
  {
   "cell_type": "markdown",
   "id": "e037b21c",
   "metadata": {},
   "source": [
    "Q10: Write a python program to display list of 50 Most expensive cars in the world (i.e.\n",
    "Car name and Price) from https://www.motor1.com/\n",
    "This task will be done in following steps:\n",
    "1. First get the webpage https://www.motor1.com/\n",
    "2. Then You have to type in the search bar ’50 most expensive cars’\n",
    "3. Then click on 50 most expensive carsin the world..\n",
    "4. Then scrap the mentioned data and make the dataframe"
   ]
  },
  {
   "cell_type": "markdown",
   "id": "a3881d02",
   "metadata": {},
   "source": [
    "# Answer ;"
   ]
  },
  {
   "cell_type": "code",
   "execution_count": 561,
   "id": "5dc07f86",
   "metadata": {},
   "outputs": [],
   "source": [
    "driver10 = webdriver.Chrome()"
   ]
  },
  {
   "cell_type": "code",
   "execution_count": 562,
   "id": "f39ef6b1",
   "metadata": {},
   "outputs": [],
   "source": [
    "driver10.get('https://www.motor1.com/')"
   ]
  },
  {
   "cell_type": "code",
   "execution_count": 564,
   "id": "0a1d4758",
   "metadata": {},
   "outputs": [],
   "source": [
    "input_data = driver10.find_element(By.XPATH,'/html/body/div[10]/div[2]/div/div/div[3]/div/div/div/form/input')\n",
    "input_data.send_keys('50 most expensive cars')"
   ]
  },
  {
   "cell_type": "code",
   "execution_count": 567,
   "id": "f7be0408",
   "metadata": {},
   "outputs": [],
   "source": [
    "search = driver10.find_element(By.XPATH,\"/html/body/div[10]/div[2]/div/div/div[3]/div/div/div/form/button[1]\")\n",
    "search.click()"
   ]
  },
  {
   "cell_type": "code",
   "execution_count": 569,
   "id": "af02308f",
   "metadata": {},
   "outputs": [],
   "source": [
    "search1 = driver10.find_element(By.XPATH,'/html/body/div[10]/div[9]/div/div[1]/div/div/div[2]/div/div[1]')\n",
    "search1.click()"
   ]
  },
  {
   "cell_type": "code",
   "execution_count": 570,
   "id": "a2f420ae",
   "metadata": {},
   "outputs": [],
   "source": [
    "car_name = []\n",
    "price = []"
   ]
  },
  {
   "cell_type": "code",
   "execution_count": 572,
   "id": "88748045",
   "metadata": {},
   "outputs": [],
   "source": [
    "car_names = driver10.find_elements(By.CLASS_NAME,\"subheader\")\n",
    "for i in car_names :\n",
    "    car_name.append(i.text)"
   ]
  },
  {
   "cell_type": "code",
   "execution_count": 575,
   "id": "d31e83c2",
   "metadata": {},
   "outputs": [
    {
     "data": {
      "text/plain": [
       "'Most Expensive Cars In The World'"
      ]
     },
     "execution_count": 575,
     "metadata": {},
     "output_type": "execute_result"
    }
   ],
   "source": [
    "car_name.pop(50)"
   ]
  },
  {
   "cell_type": "code",
   "execution_count": 576,
   "id": "e2736053",
   "metadata": {},
   "outputs": [
    {
     "data": {
      "text/plain": [
       "['Aston Martin Valour',\n",
       " 'McLaren Elva',\n",
       " 'Czinger 21C',\n",
       " 'Ferrari Monza',\n",
       " 'Gordon Murray T.33',\n",
       " 'Koenigsegg Gemera',\n",
       " 'Zenvo TSR-S',\n",
       " 'Hennessey Venom F5',\n",
       " 'Bentley Bacalar',\n",
       " 'Hispano Suiza Carmen Boulogne',\n",
       " 'Bentley Mulliner Batur',\n",
       " 'Deus Vayanne',\n",
       " 'SSC Tuatara',\n",
       " 'Lotus Evija',\n",
       " 'Aston Martin Vulcan',\n",
       " 'Delage D12',\n",
       " 'Ferrari Daytona SP3',\n",
       " 'McLaren Speedtail',\n",
       " 'Rimac Nevera',\n",
       " 'Pagani Utopia',\n",
       " 'Pininfarina Battista',\n",
       " 'Gordon Murray T.50',\n",
       " 'Lamborghini Countach',\n",
       " 'Mercedes-AMG Project One',\n",
       " 'Zenvo Aurora',\n",
       " 'Aston Martin Victor',\n",
       " 'Hennessey Venom F5 Roadster',\n",
       " 'Koenigsegg Jesko',\n",
       " 'Aston Martin Valkyrie',\n",
       " 'W Motors Lykan Hypersport',\n",
       " 'McLaren Solus',\n",
       " 'Lamborghini Sian',\n",
       " 'Koenigsegg CC850',\n",
       " 'Bugatti Chiron Super Sport 300+',\n",
       " 'Lamborghini Veneno',\n",
       " 'Bugatti Bolide',\n",
       " 'Pininfarina B95 Speedster',\n",
       " 'Bugatti Mistral',\n",
       " 'Pagani Huayra Imola',\n",
       " 'Bugatti Divo',\n",
       " 'SP Automotive Chaos',\n",
       " 'Pagani Codalunga',\n",
       " '777 Hypercar',\n",
       " 'Mercedes-Maybach Exelero',\n",
       " 'Bugatti Centodieci',\n",
       " 'Bugatti Chiron Profilée',\n",
       " 'Rolls-Royce Sweptail',\n",
       " 'Bugatti La Voiture Noire',\n",
       " 'Rolls-Royce Boat Tail*',\n",
       " 'Rolls-Royce La Rose Noire Droptail']"
      ]
     },
     "execution_count": 576,
     "metadata": {},
     "output_type": "execute_result"
    }
   ],
   "source": [
    "car_name"
   ]
  },
  {
   "cell_type": "code",
   "execution_count": 601,
   "id": "8eac3e53",
   "metadata": {},
   "outputs": [],
   "source": [
    "reversed_car_name = car_name[::-1]"
   ]
  },
  {
   "cell_type": "code",
   "execution_count": 602,
   "id": "6f744518",
   "metadata": {},
   "outputs": [
    {
     "data": {
      "text/plain": [
       "['Rolls-Royce La Rose Noire Droptail',\n",
       " 'Rolls-Royce Boat Tail*',\n",
       " 'Bugatti La Voiture Noire',\n",
       " 'Rolls-Royce Sweptail',\n",
       " 'Bugatti Chiron Profilée',\n",
       " 'Bugatti Centodieci',\n",
       " 'Mercedes-Maybach Exelero',\n",
       " '777 Hypercar',\n",
       " 'Pagani Codalunga',\n",
       " 'SP Automotive Chaos',\n",
       " 'Bugatti Divo',\n",
       " 'Pagani Huayra Imola',\n",
       " 'Bugatti Mistral',\n",
       " 'Pininfarina B95 Speedster',\n",
       " 'Bugatti Bolide',\n",
       " 'Lamborghini Veneno',\n",
       " 'Bugatti Chiron Super Sport 300+',\n",
       " 'Koenigsegg CC850',\n",
       " 'Lamborghini Sian',\n",
       " 'McLaren Solus',\n",
       " 'W Motors Lykan Hypersport',\n",
       " 'Aston Martin Valkyrie',\n",
       " 'Koenigsegg Jesko',\n",
       " 'Hennessey Venom F5 Roadster',\n",
       " 'Aston Martin Victor',\n",
       " 'Zenvo Aurora',\n",
       " 'Mercedes-AMG Project One',\n",
       " 'Lamborghini Countach',\n",
       " 'Gordon Murray T.50',\n",
       " 'Pininfarina Battista',\n",
       " 'Pagani Utopia',\n",
       " 'Rimac Nevera',\n",
       " 'McLaren Speedtail',\n",
       " 'Ferrari Daytona SP3',\n",
       " 'Delage D12',\n",
       " 'Aston Martin Vulcan',\n",
       " 'Lotus Evija',\n",
       " 'SSC Tuatara',\n",
       " 'Deus Vayanne',\n",
       " 'Bentley Mulliner Batur',\n",
       " 'Hispano Suiza Carmen Boulogne',\n",
       " 'Bentley Bacalar',\n",
       " 'Hennessey Venom F5',\n",
       " 'Zenvo TSR-S',\n",
       " 'Koenigsegg Gemera',\n",
       " 'Gordon Murray T.33',\n",
       " 'Ferrari Monza',\n",
       " 'Czinger 21C',\n",
       " 'McLaren Elva',\n",
       " 'Aston Martin Valour']"
      ]
     },
     "execution_count": 602,
     "metadata": {},
     "output_type": "execute_result"
    }
   ],
   "source": [
    "reversed_car_name"
   ]
  },
  {
   "cell_type": "code",
   "execution_count": 603,
   "id": "3f6de91e",
   "metadata": {},
   "outputs": [],
   "source": [
    "df10 = pd.DataFrame({'Car names': reversed_car_name})"
   ]
  },
  {
   "cell_type": "markdown",
   "id": "154dc9e3",
   "metadata": {},
   "source": [
    "# DataFrame of Q.10"
   ]
  },
  {
   "cell_type": "code",
   "execution_count": 604,
   "id": "5341dc5c",
   "metadata": {},
   "outputs": [
    {
     "data": {
      "text/html": [
       "<div>\n",
       "<style scoped>\n",
       "    .dataframe tbody tr th:only-of-type {\n",
       "        vertical-align: middle;\n",
       "    }\n",
       "\n",
       "    .dataframe tbody tr th {\n",
       "        vertical-align: top;\n",
       "    }\n",
       "\n",
       "    .dataframe thead th {\n",
       "        text-align: right;\n",
       "    }\n",
       "</style>\n",
       "<table border=\"1\" class=\"dataframe\">\n",
       "  <thead>\n",
       "    <tr style=\"text-align: right;\">\n",
       "      <th></th>\n",
       "      <th>Car names</th>\n",
       "    </tr>\n",
       "  </thead>\n",
       "  <tbody>\n",
       "    <tr>\n",
       "      <th>0</th>\n",
       "      <td>Rolls-Royce La Rose Noire Droptail</td>\n",
       "    </tr>\n",
       "    <tr>\n",
       "      <th>1</th>\n",
       "      <td>Rolls-Royce Boat Tail*</td>\n",
       "    </tr>\n",
       "    <tr>\n",
       "      <th>2</th>\n",
       "      <td>Bugatti La Voiture Noire</td>\n",
       "    </tr>\n",
       "    <tr>\n",
       "      <th>3</th>\n",
       "      <td>Rolls-Royce Sweptail</td>\n",
       "    </tr>\n",
       "    <tr>\n",
       "      <th>4</th>\n",
       "      <td>Bugatti Chiron Profilée</td>\n",
       "    </tr>\n",
       "    <tr>\n",
       "      <th>5</th>\n",
       "      <td>Bugatti Centodieci</td>\n",
       "    </tr>\n",
       "    <tr>\n",
       "      <th>6</th>\n",
       "      <td>Mercedes-Maybach Exelero</td>\n",
       "    </tr>\n",
       "    <tr>\n",
       "      <th>7</th>\n",
       "      <td>777 Hypercar</td>\n",
       "    </tr>\n",
       "    <tr>\n",
       "      <th>8</th>\n",
       "      <td>Pagani Codalunga</td>\n",
       "    </tr>\n",
       "    <tr>\n",
       "      <th>9</th>\n",
       "      <td>SP Automotive Chaos</td>\n",
       "    </tr>\n",
       "    <tr>\n",
       "      <th>10</th>\n",
       "      <td>Bugatti Divo</td>\n",
       "    </tr>\n",
       "    <tr>\n",
       "      <th>11</th>\n",
       "      <td>Pagani Huayra Imola</td>\n",
       "    </tr>\n",
       "    <tr>\n",
       "      <th>12</th>\n",
       "      <td>Bugatti Mistral</td>\n",
       "    </tr>\n",
       "    <tr>\n",
       "      <th>13</th>\n",
       "      <td>Pininfarina B95 Speedster</td>\n",
       "    </tr>\n",
       "    <tr>\n",
       "      <th>14</th>\n",
       "      <td>Bugatti Bolide</td>\n",
       "    </tr>\n",
       "    <tr>\n",
       "      <th>15</th>\n",
       "      <td>Lamborghini Veneno</td>\n",
       "    </tr>\n",
       "    <tr>\n",
       "      <th>16</th>\n",
       "      <td>Bugatti Chiron Super Sport 300+</td>\n",
       "    </tr>\n",
       "    <tr>\n",
       "      <th>17</th>\n",
       "      <td>Koenigsegg CC850</td>\n",
       "    </tr>\n",
       "    <tr>\n",
       "      <th>18</th>\n",
       "      <td>Lamborghini Sian</td>\n",
       "    </tr>\n",
       "    <tr>\n",
       "      <th>19</th>\n",
       "      <td>McLaren Solus</td>\n",
       "    </tr>\n",
       "    <tr>\n",
       "      <th>20</th>\n",
       "      <td>W Motors Lykan Hypersport</td>\n",
       "    </tr>\n",
       "    <tr>\n",
       "      <th>21</th>\n",
       "      <td>Aston Martin Valkyrie</td>\n",
       "    </tr>\n",
       "    <tr>\n",
       "      <th>22</th>\n",
       "      <td>Koenigsegg Jesko</td>\n",
       "    </tr>\n",
       "    <tr>\n",
       "      <th>23</th>\n",
       "      <td>Hennessey Venom F5 Roadster</td>\n",
       "    </tr>\n",
       "    <tr>\n",
       "      <th>24</th>\n",
       "      <td>Aston Martin Victor</td>\n",
       "    </tr>\n",
       "    <tr>\n",
       "      <th>25</th>\n",
       "      <td>Zenvo Aurora</td>\n",
       "    </tr>\n",
       "    <tr>\n",
       "      <th>26</th>\n",
       "      <td>Mercedes-AMG Project One</td>\n",
       "    </tr>\n",
       "    <tr>\n",
       "      <th>27</th>\n",
       "      <td>Lamborghini Countach</td>\n",
       "    </tr>\n",
       "    <tr>\n",
       "      <th>28</th>\n",
       "      <td>Gordon Murray T.50</td>\n",
       "    </tr>\n",
       "    <tr>\n",
       "      <th>29</th>\n",
       "      <td>Pininfarina Battista</td>\n",
       "    </tr>\n",
       "    <tr>\n",
       "      <th>30</th>\n",
       "      <td>Pagani Utopia</td>\n",
       "    </tr>\n",
       "    <tr>\n",
       "      <th>31</th>\n",
       "      <td>Rimac Nevera</td>\n",
       "    </tr>\n",
       "    <tr>\n",
       "      <th>32</th>\n",
       "      <td>McLaren Speedtail</td>\n",
       "    </tr>\n",
       "    <tr>\n",
       "      <th>33</th>\n",
       "      <td>Ferrari Daytona SP3</td>\n",
       "    </tr>\n",
       "    <tr>\n",
       "      <th>34</th>\n",
       "      <td>Delage D12</td>\n",
       "    </tr>\n",
       "    <tr>\n",
       "      <th>35</th>\n",
       "      <td>Aston Martin Vulcan</td>\n",
       "    </tr>\n",
       "    <tr>\n",
       "      <th>36</th>\n",
       "      <td>Lotus Evija</td>\n",
       "    </tr>\n",
       "    <tr>\n",
       "      <th>37</th>\n",
       "      <td>SSC Tuatara</td>\n",
       "    </tr>\n",
       "    <tr>\n",
       "      <th>38</th>\n",
       "      <td>Deus Vayanne</td>\n",
       "    </tr>\n",
       "    <tr>\n",
       "      <th>39</th>\n",
       "      <td>Bentley Mulliner Batur</td>\n",
       "    </tr>\n",
       "    <tr>\n",
       "      <th>40</th>\n",
       "      <td>Hispano Suiza Carmen Boulogne</td>\n",
       "    </tr>\n",
       "    <tr>\n",
       "      <th>41</th>\n",
       "      <td>Bentley Bacalar</td>\n",
       "    </tr>\n",
       "    <tr>\n",
       "      <th>42</th>\n",
       "      <td>Hennessey Venom F5</td>\n",
       "    </tr>\n",
       "    <tr>\n",
       "      <th>43</th>\n",
       "      <td>Zenvo TSR-S</td>\n",
       "    </tr>\n",
       "    <tr>\n",
       "      <th>44</th>\n",
       "      <td>Koenigsegg Gemera</td>\n",
       "    </tr>\n",
       "    <tr>\n",
       "      <th>45</th>\n",
       "      <td>Gordon Murray T.33</td>\n",
       "    </tr>\n",
       "    <tr>\n",
       "      <th>46</th>\n",
       "      <td>Ferrari Monza</td>\n",
       "    </tr>\n",
       "    <tr>\n",
       "      <th>47</th>\n",
       "      <td>Czinger 21C</td>\n",
       "    </tr>\n",
       "    <tr>\n",
       "      <th>48</th>\n",
       "      <td>McLaren Elva</td>\n",
       "    </tr>\n",
       "    <tr>\n",
       "      <th>49</th>\n",
       "      <td>Aston Martin Valour</td>\n",
       "    </tr>\n",
       "  </tbody>\n",
       "</table>\n",
       "</div>"
      ],
      "text/plain": [
       "                             Car names\n",
       "0   Rolls-Royce La Rose Noire Droptail\n",
       "1               Rolls-Royce Boat Tail*\n",
       "2             Bugatti La Voiture Noire\n",
       "3                 Rolls-Royce Sweptail\n",
       "4              Bugatti Chiron Profilée\n",
       "5                   Bugatti Centodieci\n",
       "6             Mercedes-Maybach Exelero\n",
       "7                         777 Hypercar\n",
       "8                     Pagani Codalunga\n",
       "9                  SP Automotive Chaos\n",
       "10                        Bugatti Divo\n",
       "11                 Pagani Huayra Imola\n",
       "12                     Bugatti Mistral\n",
       "13           Pininfarina B95 Speedster\n",
       "14                      Bugatti Bolide\n",
       "15                  Lamborghini Veneno\n",
       "16     Bugatti Chiron Super Sport 300+\n",
       "17                    Koenigsegg CC850\n",
       "18                    Lamborghini Sian\n",
       "19                       McLaren Solus\n",
       "20           W Motors Lykan Hypersport\n",
       "21               Aston Martin Valkyrie\n",
       "22                    Koenigsegg Jesko\n",
       "23         Hennessey Venom F5 Roadster\n",
       "24                 Aston Martin Victor\n",
       "25                        Zenvo Aurora\n",
       "26            Mercedes-AMG Project One\n",
       "27                Lamborghini Countach\n",
       "28                  Gordon Murray T.50\n",
       "29                Pininfarina Battista\n",
       "30                       Pagani Utopia\n",
       "31                        Rimac Nevera\n",
       "32                   McLaren Speedtail\n",
       "33                 Ferrari Daytona SP3\n",
       "34                          Delage D12\n",
       "35                 Aston Martin Vulcan\n",
       "36                         Lotus Evija\n",
       "37                         SSC Tuatara\n",
       "38                        Deus Vayanne\n",
       "39              Bentley Mulliner Batur\n",
       "40       Hispano Suiza Carmen Boulogne\n",
       "41                     Bentley Bacalar\n",
       "42                  Hennessey Venom F5\n",
       "43                         Zenvo TSR-S\n",
       "44                   Koenigsegg Gemera\n",
       "45                  Gordon Murray T.33\n",
       "46                       Ferrari Monza\n",
       "47                         Czinger 21C\n",
       "48                        McLaren Elva\n",
       "49                 Aston Martin Valour"
      ]
     },
     "execution_count": 604,
     "metadata": {},
     "output_type": "execute_result"
    }
   ],
   "source": [
    "df10"
   ]
  },
  {
   "cell_type": "code",
   "execution_count": null,
   "id": "df9a4a99",
   "metadata": {},
   "outputs": [],
   "source": []
  }
 ],
 "metadata": {
  "kernelspec": {
   "display_name": "Python 3 (ipykernel)",
   "language": "python",
   "name": "python3"
  },
  "language_info": {
   "codemirror_mode": {
    "name": "ipython",
    "version": 3
   },
   "file_extension": ".py",
   "mimetype": "text/x-python",
   "name": "python",
   "nbconvert_exporter": "python",
   "pygments_lexer": "ipython3",
   "version": "3.11.5"
  }
 },
 "nbformat": 4,
 "nbformat_minor": 5
}
