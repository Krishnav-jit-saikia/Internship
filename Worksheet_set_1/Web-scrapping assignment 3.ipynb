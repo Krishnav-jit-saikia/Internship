{
 "cells": [
  {
   "cell_type": "code",
   "execution_count": 331,
   "id": "ad9a9e03",
   "metadata": {},
   "outputs": [],
   "source": [
    "import selenium\n",
    "import pandas as pd\n",
    "from selenium import webdriver\n",
    "import warnings\n",
    "warnings.filterwarnings('ignore')\n",
    "from selenium.webdriver.common.by import By\n",
    "import time"
   ]
  },
  {
   "cell_type": "markdown",
   "id": "2be6e890",
   "metadata": {},
   "source": [
    "# Question - 1"
   ]
  },
  {
   "cell_type": "markdown",
   "id": "cf044ece",
   "metadata": {},
   "source": [
    "Write a python program which searches all the product under a particular product from www.amazon.in. The \n",
    "product to be searched will be taken as input from user. For e.g. If user input is ‘guitar’. Then search for \n",
    "guitars.  "
   ]
  },
  {
   "cell_type": "code",
   "execution_count": 332,
   "id": "62c3fcef",
   "metadata": {},
   "outputs": [],
   "source": [
    "driver1 = webdriver.Chrome()"
   ]
  },
  {
   "cell_type": "code",
   "execution_count": 333,
   "id": "dd062a6b",
   "metadata": {},
   "outputs": [],
   "source": [
    "driver1.get('https://www.amazon.in./')"
   ]
  },
  {
   "cell_type": "code",
   "execution_count": 334,
   "id": "31403a18",
   "metadata": {},
   "outputs": [],
   "source": [
    "Input = driver1.find_element(By.XPATH,'/html/body/div[1]/header/div/div[1]/div[2]/div/form/div[2]/div[1]/input')\n",
    "Input.send_keys('guiter')"
   ]
  },
  {
   "cell_type": "code",
   "execution_count": 335,
   "id": "135b5e5e",
   "metadata": {},
   "outputs": [],
   "source": [
    "search = driver1.find_element(By.XPATH,'/html/body/div[1]/header/div/div[1]/div[2]/div/form/div[3]/div')\n",
    "search.click()"
   ]
  },
  {
   "cell_type": "markdown",
   "id": "b9e8edf4",
   "metadata": {},
   "source": [
    "# Question - 2"
   ]
  },
  {
   "cell_type": "markdown",
   "id": "0e825315",
   "metadata": {},
   "source": [
    "In the above question, now scrape the following details of each product listed in first 3 pages of your search results and save it in a data frame and csv. In case if any product has less than 3 pages in search results then scrape all the products available under that product name. Details to be scraped are: \"Brand Name\", \"Name of the Product\", \"Price\", \"Return/Exchange\", \"Expected Delivery\", \"Availability\" and “Product URL”. In case, if any of the details are missing for any of the product then replace it by “-“."
   ]
  },
  {
   "cell_type": "code",
   "execution_count": 336,
   "id": "e011d772",
   "metadata": {},
   "outputs": [],
   "source": [
    "Brand_name = []\n",
    "Product_name = []\n",
    "Price = []\n",
    "Return_Exchange = []\n",
    "Expected_delivery = []\n",
    "Availability = []\n",
    "Product_URL = []"
   ]
  },
  {
   "cell_type": "code",
   "execution_count": 342,
   "id": "4a875305",
   "metadata": {},
   "outputs": [],
   "source": [
    "start = 0\n",
    "end = 3\n",
    "\n",
    "\n",
    "for page in range(start, end):\n",
    "    \n",
    "    names = driver1.find_elements(By.XPATH, '//h2[@class=\"a-size-mini a-spacing-none a-color-base s-line-clamp-4\"]')\n",
    "    for i in names:\n",
    "        Brand_name.append(i.text if i.text else \"-\")\n",
    "\n",
    "    price_amount = driver1.find_elements(By.XPATH, '//span[@class=\"a-price-whole\"]')\n",
    "    for i in price_amount:\n",
    "        Price.append(i.text if i.text else \"-\")\n",
    "\n",
    "    delivery = driver1.find_elements(By.XPATH, '//span[@class=\"a-color-base a-text-bold\"]')\n",
    "    for i in delivery:\n",
    "        Expected_delivery.append(i.text if i.text else \"-\")\n",
    "\n",
    "    available = driver1.find_elements(By.XPATH, '//div[@class=\"a-section a-spacing-none a-spacing-top-micro\"]/div[2]')\n",
    "    for i in available:\n",
    "        Availability.append(i.text if i.text else \"-\")\n",
    "\n",
    "    urls = driver1.find_elements(By.XPATH, '//a[@class=\"a-link-normal s-underline-text s-underline-link-text s-link-style a-text-normal\"]')\n",
    "    for i in urls:\n",
    "        product_url = i.get_attribute('href')\n",
    "        Product_URL.append(product_url if product_url else \"-\")\n",
    "\n",
    "    \n",
    "    next_button = driver1.find_element(By.XPATH, \"/html/body/div[1]/div[1]/div[1]/div[1]/div/span[1]/div[1]/div[68]/div/div/span/span[4]\")\n",
    "    next_button.click()"
   ]
  },
  {
   "cell_type": "code",
   "execution_count": 343,
   "id": "f3161252",
   "metadata": {},
   "outputs": [],
   "source": [
    "Brand_name_1 = [item.split()[0] for item in Brand_name]"
   ]
  },
  {
   "cell_type": "code",
   "execution_count": 344,
   "id": "d3094e47",
   "metadata": {},
   "outputs": [],
   "source": [
    "new_Brand_name_1 = Brand_name_1[:180]\n",
    "new_Brand_name = Brand_name[:180]\n",
    "new_price = Price[:180]\n",
    "new_Expected_delivery = Expected_delivery[:180]\n",
    "new_Availability = Availability[:180]\n",
    "new_Product_URL = Product_URL[:180]"
   ]
  },
  {
   "cell_type": "code",
   "execution_count": 345,
   "id": "0805c25e",
   "metadata": {},
   "outputs": [],
   "source": [
    "import pandas as pd"
   ]
  },
  {
   "cell_type": "code",
   "execution_count": 346,
   "id": "86ada5d6",
   "metadata": {
    "scrolled": true
   },
   "outputs": [
    {
     "data": {
      "text/html": [
       "<div>\n",
       "<style scoped>\n",
       "    .dataframe tbody tr th:only-of-type {\n",
       "        vertical-align: middle;\n",
       "    }\n",
       "\n",
       "    .dataframe tbody tr th {\n",
       "        vertical-align: top;\n",
       "    }\n",
       "\n",
       "    .dataframe thead th {\n",
       "        text-align: right;\n",
       "    }\n",
       "</style>\n",
       "<table border=\"1\" class=\"dataframe\">\n",
       "  <thead>\n",
       "    <tr style=\"text-align: right;\">\n",
       "      <th></th>\n",
       "      <th>Brand name</th>\n",
       "      <th>Product name</th>\n",
       "      <th>Price</th>\n",
       "      <th>Expected delivery</th>\n",
       "      <th>Availability</th>\n",
       "      <th>Product URL</th>\n",
       "    </tr>\n",
       "  </thead>\n",
       "  <tbody>\n",
       "    <tr>\n",
       "      <th>0</th>\n",
       "      <td>Kadence</td>\n",
       "      <td>Kadence rosewood Guitar Frontier Series, Elect...</td>\n",
       "      <td>5,499</td>\n",
       "      <td>Tomorrow, 10 February</td>\n",
       "      <td>200+ bought in past month</td>\n",
       "      <td>https://www.amazon.in./sspa/click?ie=UTF8&amp;spc=...</td>\n",
       "    </tr>\n",
       "    <tr>\n",
       "      <th>1</th>\n",
       "      <td>Kadence</td>\n",
       "      <td>Kadence Frontier guitar with Online Guitar lea...</td>\n",
       "      <td>4,999</td>\n",
       "      <td>Tomorrow, 10 February</td>\n",
       "      <td>100+ bought in past month</td>\n",
       "      <td>https://www.amazon.in./sspa/click?ie=UTF8&amp;spc=...</td>\n",
       "    </tr>\n",
       "    <tr>\n",
       "      <th>2</th>\n",
       "      <td>Enya</td>\n",
       "      <td>Enya Nova Go Carbon Fiber Acoustic Guitar 1/2 ...</td>\n",
       "      <td>16,499</td>\n",
       "      <td>Wednesday, 21 February</td>\n",
       "      <td>100+ bought in past month</td>\n",
       "      <td>https://www.amazon.in./sspa/click?ie=UTF8&amp;spc=...</td>\n",
       "    </tr>\n",
       "    <tr>\n",
       "      <th>3</th>\n",
       "      <td>Henrix</td>\n",
       "      <td>Henrix 38C 38 Inch Cutaway Acoustic Guitar Wit...</td>\n",
       "      <td>3,099</td>\n",
       "      <td>Thursday, 15 February</td>\n",
       "      <td>2K+ bought in past month</td>\n",
       "      <td>https://www.amazon.in./sspa/click?ie=UTF8&amp;spc=...</td>\n",
       "    </tr>\n",
       "    <tr>\n",
       "      <th>4</th>\n",
       "      <td>Intern</td>\n",
       "      <td>Intern INT-38C Right hand Acoustic Guitar Kit,...</td>\n",
       "      <td>1,995</td>\n",
       "      <td>Saturday, 17 February</td>\n",
       "      <td>300+ bought in past month</td>\n",
       "      <td>https://www.amazon.in./Intern-INT-38C-Acoustic...</td>\n",
       "    </tr>\n",
       "    <tr>\n",
       "      <th>...</th>\n",
       "      <td>...</td>\n",
       "      <td>...</td>\n",
       "      <td>...</td>\n",
       "      <td>...</td>\n",
       "      <td>...</td>\n",
       "      <td>...</td>\n",
       "    </tr>\n",
       "    <tr>\n",
       "      <th>175</th>\n",
       "      <td>YAMAHA</td>\n",
       "      <td>YAMAHA FS80C BLACK CONCERT CUTAWAY GUITAR</td>\n",
       "      <td>2,348</td>\n",
       "      <td>Sunday, 18 February</td>\n",
       "      <td>50+ bought in past month</td>\n",
       "      <td>https://www.amazon.in./Blueberry-38C-Acoustic-...</td>\n",
       "    </tr>\n",
       "    <tr>\n",
       "      <th>176</th>\n",
       "      <td>Kadence</td>\n",
       "      <td>Kadence Frontier Acoustic Guitar 40\" with Lear...</td>\n",
       "      <td>9,299</td>\n",
       "      <td>Thu, 15 Feb</td>\n",
       "      <td>50+ bought in past month</td>\n",
       "      <td>https://www.amazon.in./FS80C-Acoustic-Cutaway-...</td>\n",
       "    </tr>\n",
       "    <tr>\n",
       "      <th>177</th>\n",
       "      <td>Kadence</td>\n",
       "      <td>Kadence A281 Professional Acoustic Rosewood gu...</td>\n",
       "      <td>8,319</td>\n",
       "      <td>Tomorrow, 10 February</td>\n",
       "      <td>Only 2 left in stock.</td>\n",
       "      <td>https://www.amazon.in./YAMAHA-FS80C-CONCERT-CU...</td>\n",
       "    </tr>\n",
       "    <tr>\n",
       "      <th>178</th>\n",
       "      <td>Medellin</td>\n",
       "      <td>Medellin Acoustic Guitar (with guitar learning...</td>\n",
       "      <td>3,999</td>\n",
       "      <td>Tomorrow, 10 February</td>\n",
       "      <td>Only 2 left in stock.</td>\n",
       "      <td>https://www.amazon.in./Kadence-Frontier-Acoust...</td>\n",
       "    </tr>\n",
       "    <tr>\n",
       "      <th>179</th>\n",
       "      <td>Kadence</td>\n",
       "      <td>Kadence Slowhand Cedar Top SHM02, Premium Semi...</td>\n",
       "      <td>6,499</td>\n",
       "      <td>Wednesday, 21 February</td>\n",
       "      <td>50+ bought in past month</td>\n",
       "      <td>https://www.amazon.in./Kadence-Professional-Ac...</td>\n",
       "    </tr>\n",
       "  </tbody>\n",
       "</table>\n",
       "<p>180 rows × 6 columns</p>\n",
       "</div>"
      ],
      "text/plain": [
       "    Brand name                                       Product name   Price  \\\n",
       "0      Kadence  Kadence rosewood Guitar Frontier Series, Elect...   5,499   \n",
       "1      Kadence  Kadence Frontier guitar with Online Guitar lea...   4,999   \n",
       "2         Enya  Enya Nova Go Carbon Fiber Acoustic Guitar 1/2 ...  16,499   \n",
       "3       Henrix  Henrix 38C 38 Inch Cutaway Acoustic Guitar Wit...   3,099   \n",
       "4       Intern  Intern INT-38C Right hand Acoustic Guitar Kit,...   1,995   \n",
       "..         ...                                                ...     ...   \n",
       "175     YAMAHA          YAMAHA FS80C BLACK CONCERT CUTAWAY GUITAR   2,348   \n",
       "176    Kadence  Kadence Frontier Acoustic Guitar 40\" with Lear...   9,299   \n",
       "177    Kadence  Kadence A281 Professional Acoustic Rosewood gu...   8,319   \n",
       "178   Medellin  Medellin Acoustic Guitar (with guitar learning...   3,999   \n",
       "179    Kadence  Kadence Slowhand Cedar Top SHM02, Premium Semi...   6,499   \n",
       "\n",
       "          Expected delivery               Availability  \\\n",
       "0     Tomorrow, 10 February  200+ bought in past month   \n",
       "1     Tomorrow, 10 February  100+ bought in past month   \n",
       "2    Wednesday, 21 February  100+ bought in past month   \n",
       "3     Thursday, 15 February   2K+ bought in past month   \n",
       "4     Saturday, 17 February  300+ bought in past month   \n",
       "..                      ...                        ...   \n",
       "175     Sunday, 18 February   50+ bought in past month   \n",
       "176             Thu, 15 Feb   50+ bought in past month   \n",
       "177   Tomorrow, 10 February      Only 2 left in stock.   \n",
       "178   Tomorrow, 10 February      Only 2 left in stock.   \n",
       "179  Wednesday, 21 February   50+ bought in past month   \n",
       "\n",
       "                                           Product URL  \n",
       "0    https://www.amazon.in./sspa/click?ie=UTF8&spc=...  \n",
       "1    https://www.amazon.in./sspa/click?ie=UTF8&spc=...  \n",
       "2    https://www.amazon.in./sspa/click?ie=UTF8&spc=...  \n",
       "3    https://www.amazon.in./sspa/click?ie=UTF8&spc=...  \n",
       "4    https://www.amazon.in./Intern-INT-38C-Acoustic...  \n",
       "..                                                 ...  \n",
       "175  https://www.amazon.in./Blueberry-38C-Acoustic-...  \n",
       "176  https://www.amazon.in./FS80C-Acoustic-Cutaway-...  \n",
       "177  https://www.amazon.in./YAMAHA-FS80C-CONCERT-CU...  \n",
       "178  https://www.amazon.in./Kadence-Frontier-Acoust...  \n",
       "179  https://www.amazon.in./Kadence-Professional-Ac...  \n",
       "\n",
       "[180 rows x 6 columns]"
      ]
     },
     "execution_count": 346,
     "metadata": {},
     "output_type": "execute_result"
    }
   ],
   "source": [
    "df = pd.DataFrame({'Brand name': new_Brand_name_1 , 'Product name':new_Brand_name , 'Price': new_price , 'Expected delivery': new_Expected_delivery ,'Availability': new_Availability , 'Product URL': new_Product_URL})\n",
    "df"
   ]
  },
  {
   "cell_type": "code",
   "execution_count": 347,
   "id": "2d660df2",
   "metadata": {},
   "outputs": [
    {
     "name": "stdout",
     "output_type": "stream",
     "text": [
      "DataFrame successfully exported to: Guiter_dataset.csv\n"
     ]
    }
   ],
   "source": [
    "filename = \"Guiter_dataset.csv\"\n",
    "\n",
    "# Use the `to_csv` method to export the DataFrame\n",
    "df.to_csv(filename, index=False)\n",
    "\n",
    "print(f\"DataFrame successfully exported to: {filename}\")"
   ]
  },
  {
   "cell_type": "markdown",
   "id": "ddde3edd",
   "metadata": {},
   "source": [
    "# Question - 3"
   ]
  },
  {
   "cell_type": "markdown",
   "id": "862307d8",
   "metadata": {},
   "source": [
    "Write a python program to access the search bar and search button on images.google.com and scrape 10 \n",
    "images each for keywords ‘fruits’, ‘cars’ and ‘Machine Learning’, ‘Guitar’, ‘Cakes’."
   ]
  },
  {
   "cell_type": "code",
   "execution_count": 16,
   "id": "17234681",
   "metadata": {},
   "outputs": [],
   "source": [
    "driver3 = webdriver.Chrome()"
   ]
  },
  {
   "cell_type": "code",
   "execution_count": 17,
   "id": "c75b1dfa",
   "metadata": {},
   "outputs": [],
   "source": [
    "driver3.get('https://images.google.com/')"
   ]
  },
  {
   "cell_type": "code",
   "execution_count": 18,
   "id": "d192aa02",
   "metadata": {},
   "outputs": [],
   "source": [
    "Input1 = driver3.find_element(By.CLASS_NAME,\"gLFyf\")\n",
    "Input1.send_keys('fruits')"
   ]
  },
  {
   "cell_type": "code",
   "execution_count": 21,
   "id": "df47680c",
   "metadata": {},
   "outputs": [],
   "source": [
    "search1 = driver3.find_element(By.CLASS_NAME,\"Tg7LZd\")\n",
    "search1.click()"
   ]
  },
  {
   "cell_type": "code",
   "execution_count": 29,
   "id": "fdad48cc",
   "metadata": {},
   "outputs": [
    {
     "data": {
      "text/plain": [
       "[<selenium.webdriver.remote.webelement.WebElement (session=\"1f7dd10e7145f0351027f3d6a117c940\", element=\"E887E9EB7632463DA9E94DFACAB02D9B_element_103\")>,\n",
       " <selenium.webdriver.remote.webelement.WebElement (session=\"1f7dd10e7145f0351027f3d6a117c940\", element=\"E887E9EB7632463DA9E94DFACAB02D9B_element_386\")>,\n",
       " <selenium.webdriver.remote.webelement.WebElement (session=\"1f7dd10e7145f0351027f3d6a117c940\", element=\"E887E9EB7632463DA9E94DFACAB02D9B_element_392\")>,\n",
       " <selenium.webdriver.remote.webelement.WebElement (session=\"1f7dd10e7145f0351027f3d6a117c940\", element=\"E887E9EB7632463DA9E94DFACAB02D9B_element_393\")>,\n",
       " <selenium.webdriver.remote.webelement.WebElement (session=\"1f7dd10e7145f0351027f3d6a117c940\", element=\"E887E9EB7632463DA9E94DFACAB02D9B_element_394\")>,\n",
       " <selenium.webdriver.remote.webelement.WebElement (session=\"1f7dd10e7145f0351027f3d6a117c940\", element=\"E887E9EB7632463DA9E94DFACAB02D9B_element_395\")>,\n",
       " <selenium.webdriver.remote.webelement.WebElement (session=\"1f7dd10e7145f0351027f3d6a117c940\", element=\"E887E9EB7632463DA9E94DFACAB02D9B_element_396\")>,\n",
       " <selenium.webdriver.remote.webelement.WebElement (session=\"1f7dd10e7145f0351027f3d6a117c940\", element=\"E887E9EB7632463DA9E94DFACAB02D9B_element_397\")>,\n",
       " <selenium.webdriver.remote.webelement.WebElement (session=\"1f7dd10e7145f0351027f3d6a117c940\", element=\"E887E9EB7632463DA9E94DFACAB02D9B_element_398\")>,\n",
       " <selenium.webdriver.remote.webelement.WebElement (session=\"1f7dd10e7145f0351027f3d6a117c940\", element=\"E887E9EB7632463DA9E94DFACAB02D9B_element_102\")>]"
      ]
     },
     "execution_count": 29,
     "metadata": {},
     "output_type": "execute_result"
    }
   ],
   "source": [
    "image = driver3.find_elements(By.XPATH,'//img[@class=\"rg_i Q4LuWd\"]')\n",
    "image[0:10]\n",
    "    "
   ]
  },
  {
   "cell_type": "code",
   "execution_count": 31,
   "id": "94840bce",
   "metadata": {
    "collapsed": true
   },
   "outputs": [
    {
     "name": "stdout",
     "output_type": "stream",
     "text": [
      "data:image/jpeg;base64,/9j/4AAQSkZJRgABAQAAAQABAAD/2wCEAAkGBxQSExYTExQWFhYYGiAZGhkZGh4bGxkcHh4cGBkfGBoZHikhGRsmHhgbIjIiJiosLy8xGCA1OjUwOSkuLywBCgoKDg0OHBAQGy4nICcwLi43LjAuLi4sMC4uLi4uMDEuLi4uLiwuLjkwLiwuLi4uLi4uLi4wLi4uLiwuLi4uLv/AABEIAQsAvQMBIgACEQEDEQH/xAAcAAABBQEBAQAAAAAAAAAAAAAEAgMFBgcAAQj/xAA/EAABAgMFBQcDAwMDBAIDAAABAhEAAyEEBRIxQQZRYXGREyIygaGxwUJS0QcUI2Lh8HKCkhUzsvEWUyQ0Q//EABoBAAEFAQAAAAAAAAAAAAAAAAABAgMEBQb/xAArEQACAgEEAQMDBAMBAAAAAAAAAQIDEQQSITFBBVFhEyJxMoGRoRRC0cH/2gAMAwEAAhEDEQA/ANZtlsTJQk9mVqUwShAGIlq5sGA/wmkESLTKWlKgB3iwGGr8Q1ITarAmdLSFFSSllJUk4VJLZg/BpC5V3S0pCWJAfxEkl3JJ3mp5PRoR5z8C8YCeyT9o6CPexT9qegjyVKCRhSGA09YchRBHYp+1PQR3Yp+1PQQuOgAFlTJSlFKTLUpOYBSSNKgZVhc1KEgqUEJSA5JYAAVJJOQEU6y3RaZcheAqQuZbFFkJSJiZK7apa1Y64gZSiquQMKty7a6pUtM44Vz+/wB0pVLMhfYAKJ7x7QpHApL6OAXBCEEAgJINQQAxHCPCJYIBCQTQAtUs9N9A8UidYLQg2lSe3C1qlLAGMpmJElKVoCkHFKJWkjEmopmkmJXaO6F2oWQMuWpKisrBClSFiUvAp8lFMzCNysjQmACxpSguwSWLFgKHceML7FP2p6CM8tYvASJuCTMlz1rnzAZaipImpTLEoAAjEhZC1AroAlikkgRLT7vtS5zmZaEoVOnAhKwkCV2bysLB0/yAEKHeqQThpABbexT9qeggdc2SlYQTLC1VCSUhSuSczlFSuNN4KmyVWhUxDJlEpwOhQ7AdsmYUqwJX2xWXIeiGLEiCbfYli2KVJlzSJ5CZ5UkYAkSilM2TOcKlrBwpw1cuQkOVkAswVLKzLGDGAFFNMQSSQklOYBKVAH+k7o9l9mSpIwkpbEAzpcOHGjisUO6LLbZdmky8M9KEWeyomAN2oUmZOFpEsmrhPZ5fR4KtBc+y2xM9a5CZnZKR3Co98zRIaSZ+IuZQViCtcWB3GJgC7din7U9BHdin7U9BFKu6y2xXYAzZ4QZzzQQULSkSJmIFSlKJSZwR4aAk4aZTGyongTBO7RTK7sxeJJmPU/xKJ7Nsu73TmGygAnexT9qegjuxT9qeghcdAAjsU/anoI7sU/anoIXHQAI7FP2p6CAL0kp7vdTroOESUA3p9Pn8QAESF91NDkNDuhePgehjpHhTyHtC4AEY+B6GOx8D0MLge12yXLw9otKMSglOIgYlHIB8zwgAdx8D0Mdj4HoYXHQAIEzn0Mdj4HoY9lZDkIVAAjHwPQx2PgehjyfOCElSsh/6jydPSmq1JSP6iB7wZDIrHwPQx6V8+hhMqclVUqCuRB9oVMy8x7iADzHwPQx2Pn0MLik7a38Za0y5an+8JLMdyjrTQbi+kR2WbI5EbwXFM4F2q2bac497UO1X3NGY3RexlLUpCVkkHCKNiVqoly2rNm0dMvCZMmqKAskrOEAF95qMyH4DKK0tZhZxz+Rqmafj4HoY7tOfQxH7P2lUySlS3xVBcMoEUZY0VEirMcj8RahLdFS9x55j4HoY7HwPQwuOh4CMfA9DHY+B6GFx0ACMfA9DAN6L8OeunKJGAb0+nz+IACpHhTyHtFd212gVZZaUyUhc+YSmWk5BvEpW8BxTeRFikeFPIe0Zt+qU1Uu0SZifpQW54q+w6QybxEs6StWWqMgK7toLSFlFoUoqzJcZasnIcoMlqQZpmlUxSvp0whhQGpzrTN4o4vCYZpWak6vv9Is9gv0KThbQPTg8ZVibnuydNPRxwnGP8FrufaQiamWt8CzhSTUpUcgTuJp5iLmIyG1WvEkpT4ioFLb3DHqI15MXdJOUovcYXqVEapRcVjP/AIIlZDkIgr2vvCsol6eJXHcPkxN5J5D4ikTaIKiakknmYqeq6mdVajW8N55+ERaKmM5Ny5E3xbJs2UpKQzhixqz1Ln8xCX5arWglcubQAOCkKzLNiZ8+LV0iQN4ABoTZJomKqen+MYxNNrZxl9zbTLms9NdlbceGhex18We1KCJxmInfaZhCFn+gpYv/AEnyeNFNABy9xGbo2RTalrKFhCkEVAIzcghsiCNN0Xu7JM1EoJnTEzFAgYwGxBw2IfdyzjptLNyjnHHuYNcJ1twmsMkYzfa265EuYqYErK8WIgqJSXLkkPkScnjSIg9q7IVyF4UpJHeJNCwrnrDddXKdeYPlc/klwvJRJqJYRNVLxHCEqCsILEkmgYPQDLfE1c1ulqWUqJUoAYVNVL5h9DryIiEXZAoqStSu2PeRgJCKMe8HZXe+7TKJrZ+yd7ErEcRGKlTQD6cmIjn5tyfHfyKuC42Cy9mVnE+MhWTMyQneXokQ9aJmEFTFTJUWGZZiwejmHUhgw0huc/0tiwlnyejONzx1MI7IJIQCsN7omM/dO7P11iSSYo0kOTidKwatRjr3cs9A0SMm3TZeXfHDPp/7jntP61KMnG5Z+Uuf3RoWaRf6P+f+loENWicmWkrWQEpDknQCK+q/JpomUt+KWHUhoh7wmTJpwTFFRVXCC6Ugan7j6PFyz1itL7E2/ngijpJvtoktjtpptsVNSuVgSgAg5ZlQahLjumrvQ0yidvP6fP4gXZqzJlyylIarneaa9IKvT6fP4jQ0trspU32yCaxJoLkeFPIe0Vb9Q7nM+SJiQ6pTnmk+LowPWLTI8KeQ9ocaLDWVgSux1zUl4PnHItB8qYAGcV/zTOgjQNpP0/E2YZlnKZb1KS+F+DeHllAFh/TibiBnTEtuQ59SA3SKkqJNnS1eqVbMt/sebE3UqfN7RfgQQrgSPCOvtGngQJd9iRJQES0hKRp+TqYLixVXsjgwNXqXqLN3jwNoHdHKM82jQqWpSDvpxGkaJKyHIRH31dCLQljRQ8KhmPyOEVNfpXfDjtD9FqFRZmXRj9otZEF3XPJMTVr2LtGLuoChvxAe8TuzmyHZnHOYkZJGX+7fyjGj6dZJ7duPk6Cz1GiMG92fhErstYjLllSvEsv5ZD5PnEyvLzHuIUI8mZeY9xHSU1quCgvBy9tjsm5vyKhExAUCCHBDEHUQuOiQjMzvmxJRa14TRAokA0diA4rFl2OkMklnDBla14dekK2nuqZOmSzKByLqcN56vExdNhEmWlAz1NanzjGq0slqm8fas/30KGwk5jkfiFQk5jkfiNkQpm03/fDgpBT4wQC9GDEF6PUw5Z5dKLPmx9mix3pdqJycKqHQ7orv/wARmpPcngDik/Co57X+mWWW/Ugk0/HT/k0aNRBQ2yeB0ySc19B+SY5EtKPPMnMw7K2cm6z6cEflUSdkuZCC5xLO9R9gKRFR6Tc392EvzlhPUwS4eR+7pTIfU1/EIvT6fP4g+AL0+nz+I6KutQgoR6Rnyk5PLCpEwYU1GQ9oX2g3iPJHhTyHtC4kEALzsaZyQkrUkpLpKSxCmIB40JpxgeTdCEqSszZqikuHWWbcQMxl0GgAh69rSUILO7OCOHvpT3rETYto+1nSZdE4sajq+FRlgDzY+uhhjmk8CZLL2g3iO7QbxCo6HijcpYYV0EItCErQpBNFApLbiGMOSvCOQjpswJBUSwEDeAIkXKgZTZozoJjBy1QEsBUOAGA0aCrusglA/wAillTElSiRk3dS7JHARF27axCEY5ctc3kG6vlEZZ9tVqPeQhKd3eJ60HpFZ6upeRZLb2XTtBvEJXMDZjMe4iHu/aeTMOEnArcrI8lZdWiZmZeY9xE0JxmsxY1PJ72g3iO7QbxCoamz0pbEQMRYPqc2h4pFzLlQcWGbNSVKKqLyJBBYNlWr1LVME2GwolEkTJin+9ZVq9Hy8ods1uQt2PhJBfSpA6s/IiCUrByIPIwiafQrTXZ3aDeISZgcVGR+IchJzHI/EKId2g3iBbxsqJ0tUpZ7qmdjWhB+ILeI2+b0EhILOTl/nnEdtka4ucukOhCU5bY9jX/R0f8A3Tsyf+5m70NMqmnGDbFITLSUhalOXdasR67qe8VqTfq6sok51r/g5RZrutYmoChrmNx1EVdL6hVqJOMc5+fP4JbtPOpZkEdoN4gC9Fju1GvxEjAN6fT5/EXiALkeFPIe0LhEjwp5D2hcAENtKh5WZBFRuPNsucZ/ZZgReKO8hJQnBLCjV5inUUtk4mYAf6izlov21QHYlRzHh3k7hR+kZjcMwKt0orPZJJAC8JGNQYBIUfCGHJzQ1ivNrfgY4ybykbSI6OjosDxMvIchEBe1rxqKPpFOe+J6XkOQinzjUxmep2yhBJeS3pIJybfgUgpQAlIASNNIVNscmYKoAO8RGrml4Lsq451WyizQlWmuQqybOIWg1ALs7eYOcT1gkqlywhZCikgAjUOGcaHTyhNzoZD7zB0zLzHuI6fRVRjXGeOWjHtSU3g9jOP1MvdQAlylk97vBhhBAyBbETWofXg0X68ZxRKmLGaUKUOYBI9ox3Zm3y54lifhU3fJW1VZk13kmJ73xt9zQ9MoUpOyX+vgXcVvnJSQjvJJcuScIqHBNalqRLqvWaEkpJCtCIbv/aOzyxhlkEhJAwig3cogLmvqTLQozFElR8Ovp/nSK2McJm+oKcd7hj49y87D7ZGfMNmn+NiUK+8DMHi1RvD7ovJzHI/EYPcFpBt9nmIDfypHko4NOBMbwcxyPxFqiTceTA9V08KblsWE1nAuKntfMxLSkaCvn/gi1xQdpJ38q30LdIo+rTxRj3ZF6dXuu/ALYz3j0iY2ZtxROMpWSsuYqD5inSK9JmMQYNss3+WWoZhQPqI5rS3Om2Mvn+vJranTuUWvg0WAb0+nz+IOEA3p9Pn8R3JzYXI8KeQ9oXCJHhTyHtC4AKxtUo4kjQJfIFq8aaDPjSMv2pW7tkcmc8hiZ1J7qWIYd7cY1faeyFQSsB8NDRzvBHqH4xnFquxdpmokpTWYWUWySFBTrP8ApenCjxj2qSveV7GlQourOTXrvmFUqWpVSUJJ5kAmCYRKQEgJGQDDkKQuNgzREvIchFVvyT2cw7ld4fPr7iLVK8I5CBL1saZqCC75ggOQeWvKKmt0/wBavau/BPp7fpzy+ikTE1iTu2XiUEjMwEmwzsWEylniAWP484tNy3aZYxK8R03D8xiafQ2SsSnFpeS/dfBQymScqWEgJGQj1eXmPcQqEzMvMe4jpEscIyTlh6HIx8+bVXObLPmIYgYjh3EadRH0I8QO1Ozkq2SyFBlgd1QzG4HeIbZDci5odV9CeX0z5zXKUdYNuqxkl1MwyETdq2RtiFFP7ScWOaQlQPEFKjTm0S+zuw1pmr/mQuQjUqAKjyAPqYg+k/Y31r6UsuRI7AXKJtoTMZ0yu8Tpibu+b18o1g5jkfiAbmuyXZpQlywyRUk1KjqVHUwco1HI/EWK4bVg57W6p6i3d46QqKFtTZyJyjvY9R+YvsQ20tgExD5KTkd/AxU19Duqwu1yO0F6quy+nwUEJeJS6LMVzZY/qBPIVMRap4Soo+rdr5Nn5RdNlbvwAzFeIhgNw48THP6XRzndHK4T5NvWamMam0/wWQQDen0+fxB0A3p9Pn8R1xzAXI8KeQ9oW8NSEDCmgyGnCF4BuHSACNtF2rJUpE+YgqJOigNBhCqBoYVdk8q//aVhP9IfV8tfD68oIvS+bPZ/+7MQk7s1f8RWA5W1VlUQMSg+RMtYB88MNcku2JuXuS1ikqQnCqYZhc94gAsTQU3ZQTDMhaFpCkFKknIhiPSHMA3DpDhTpWQ5CGrVKxoUjEU4kkYkliHDOCKgjeIXKQMIoMoVgG4dIAIhN2TkgtaVk1IxAeIkqLmrJ7zMMgA2Qg675C0JaZMMxTu5ADUFA2jg9YJwDcOkdgG4dIAFPCZmXmPcR2Abh0hMxAbIZj3EADjwBbLGpagtM1aCAzDwmtSQczu5a5QbgG4dI7ANw6QAQ67tnhsNqWah8SU5PXIOS2ULm3bOLgWlYB3JFBuBzfR4lcA3DpHYBuHSABmxylJSyllZcnEQBmXAYbsoeOY5H4jsA3DpCSgOKDI/EADjw1aJeJKkhRSSCMQzDhnHEQvANw6R2Abh0gAiBdk4EgWleGmFwCqmYKjvYVbXdQnXdJWgHtJnaEsXYACgBAbRwT5wTgG4dI7ANw6QAKgG9Pp8/iDMA3DpAN6IHdoNfiAAyR4U8h7RVNr9oZqD2FlTimmhVoigPmWIPnzi1yfCnkPaM1n2wzFzkyyDMUpQ3MnEZqiVaAJXLT5xBfJpYRHY2lwVG9J37YVX21qWarKnwE/bRia9Yeu7Z9awVT56UE6hRUo+zQDfN6S5EwJktOtDkOAVJRp3d6jSulIkNmkTJiTNtCsAP1TKEh/pBqQHYaZRnxhh94Xv5f4RVS5JS772RdigqSJ60EgLSV4kq0JCTkrWjbso1myWhM1CZiC6VpCkneCHHoYzC32yzyEfTNU7pYvSvTT14Rc9gRM/ZShOBCw/dIYpDkpDad0jyaLlE+dq6+SxW+cFglmg5CKzfO0uFRRKbu0UvOuoSPmJq9LQZVnWsZpRTmzD1jKETWoYg1+rdWIx8jrJNdFjVfM0ms1fkoj2hyVf81FRMKhuX3gfPP1isotI3wfYwFux8oyoau1ywmV90vcvdwX/AC7SCkd2YnxJfTek6p9ujzEzLzHuIyG7phlWySpDv2gSeKVHCodCY15fyPcRt6PUO2D3dosVz3LkXHRWtp9pf2/clgFepOSd1NTwikWu/wCdMLqnL6sOgpDL9fXXLallk6g2a5HRjku/J6KpnTB/uPsaGLBd23i0sJyQviO6r0oeghtfqNcv1Jr+wcGaHCVZjkfiI+wX3JnIxpmJA1CiAU8wYLkT0rZSFBQY1GWYi7GyMv0sZgfga1TUMUqIYhiOBocoFvS3Ye6Cx1O6Ihc4amKup1ire1djlEKuW3iWgyl4mQoplqNcSPpfiBSu4RMSLWiZ4VA8NehirrWGiMtFpwl0liN2Y6RnR9UlXiMkmh2xGhwDen0+fxEZstffbgoWR2idfuG/mIk70+nz+I2qrYzgpx6ZGFSPCnkPaMq29uhcpa1IVMSmYe+qWCpRQ6lYUpG8qYnLuAnIA6rI8KeQ9oh9prt7eWUkcjDrIbkNlHKMC/6gLPMIs1mWFKISMbk0ALDCXfUh9BSkS9guO8J7dutMiUCS8xYo5Jo5JLZd4ikH3pYbTIWrCVpBOaQmgyJfslrJqdRANgulS1EdnMnKJoqctTI3nAlPeLEs6hFN1vPXP8sruL9iwXf+1kEIkg2q0AgpWR3MRNAA7Ft9ee7VLpsypcpIWXWXUs/1KLluAdhwAirbJbOJlETFIHab2YCjd1IoOdTxi7JixTVt5fZPCOEBW+zdrJVL+5DebUjJ7fKwqIIYvGxSvCOQiu7S7Li0OuWQiZx8KubVB4iK2u0ruSlHtCWRz0ZoAIdlTMOUCW+yWmUsoNnnFvqTLUpJ5ECJC49nrTaVMEGUNTMBT0DOT0jIjo7d36SHY/Yk9mbL2tol0diFHgE1jUF/I9xEXcFxS7KhknEs+JZzPADQcIlZmXmPcRvaWj6cMPsnhHajJdq8X7iaFkvjLcBo3k0QqFV/MantRswm1DEkhEwanJW52qDxig2/Y22INJOMb0KSfQkH0jJt0lim+MrPZZUlgilzqUygRanMSaNnrW7dhO/4H3MTdx7BT5igqf8AwoGjgrPIAkDmekNhp5t4UWK2gz9PrpTNExcxJKUkAVID5qyzanWL/Is6ZbJQkJSAaAcRHlhsaJKEy5aQlKQwH53njDxzHI/EbGn08ao9LPlkMnkru0SCleLRQHUUb/N8QU+fSL5aJCVpKVBwf8puMVm2bLLc9msEblOD1AL9BGfrdFObcoc5FUsEBMthaI602urPWJtWyFoJ+j/l/aHrLsKsn+WYkDchyeqgG9YzI+n3SfMWDkD7C2ZRn4xkkF/MM3VukXW9Pp8/iFXZd0uzowSwwzJNSTvJhN6fT5/EdJpqvo1qI0LkeFPIe0NWyWpSFBBCV/SSHD51G45HnCpEsYU55DU7ocwDj1MWAIQ2G00/klKb7pbvlmwGVR59FLsM9+6qSBmP465ggEijaHnEz2Y49THdmOPUwAD2FExI/kKCf6QwHD/OMFQnsxx6n8x2AcepgA6XkOQhUNSkBhnkNT+Y9UkCpLDmfzAADaZNoKjgWgJemIPRkhmbeFF3Pi4QXZErCQJhSVVcpDDOjA8Gj2WpKvCp+Sn9jDmAcepgAVCV5eY9xHYBx6mETEBtcxqd44wAOwzaEqKVBJZRBAJ0Oh8s4c7McepjuzHHqYAIhci1lv5ZSc8kmveQUu43BYO/GGZqlWaVOEx1rSUYSMIGrhlGm7FTjrnBbB2eu5z+YUEDj1P5gAVCTmOR+I7sxx6n8wgoDjPI6nhxgAdge2oWUESyEqoxPMOMizhw7Fnh7AOPU/mO7McepgAi+ytf3ycvtVU6cvX8yUnFhGJsTB2yfVn0eOwjL5P5hXZjj1MACoBvT6fP4gzsxx6n8wBeiB3c9dTwgANkeFPIe0DW614KBnzJJYAZQTI8KeQ9oql+WopWV95bKw4UiiVPhTVmCq5cRFfVWuuGUA/P76mWs4i9NAN5fTKIzaBNtFmWizTAlbpKalKiAahBVQPTMtnlqRPnTVIebK5LVhVgybwqJFc+XQJVpmlZmKUCEhiH7nMPVRAKqcoyla4yys5FbxyXK6rQVy0YyDMCRjb7mGJuD6wdGeC2CUtK0LWah3anQeUX+RMxJSreAeoeNPTX/VXPaGpiTMCUYlZBLnkA8Z5e16LnLdROF6I0A05njF4vZJNnW32f3PpGZrWxIiHWzaxHwW9MlywkTeyUFylFKhqD7vmIuN3bUyTJ7SctKCCEn+onLCBUuxpwMZpb7RhSVHQQEQVISskuQ4G5/Y5RShqZVclp0K3g3iWoEAguDUHhHq8vMe4iB2NteOzoSS5SBnqMvcH0idmZeY9xGzVYrIKS8mdZBwk4vwLgW32tMqWpaiAwo5ZzoK6k0gW+rwMlDpYqcUNaV4jUZxDWu+phsq8UtaVrSoA/a+IJ1elN2YhJWxTcfIlUXbPZHshbTfEyepJdloUSh2StIJGYHIB2rXQwqXf0yWkyULAUQyRR0O5oT4iSS+7COMZvabxmJXUlK0mmbs1Ncjwzh66VT584EBSy7uHYPvOSdM//AFQjHEt2Xl/J0L9EpVb+7x3nnJt2zVvM2UMSgtaO4tQo6gA5b8UziWIqOR+Iyy7reLPKwtMxOVKfuhzQsdwZqbo0e65i1SpapgZZQ5Gr0z4xcot3rD7Ry1U2/tfaC5s0JBUogJAck0AAzJO6M4vX9QZVoWqTIMzCH74OEK0oWcjlCf1yvpUqzS5CC3bKONs8CWLeZI6RneztrlpQXZzvqw0D/HGH2TcTY0WljYt0iQvGbNC8QU4072FT6Mtm6tFtufbWZJQntFiYlqpUp1j/AHufmMyvW2FMw4FHDuzbziLtdtKhhER7m+jT/wASEYvfhr+z6num8kWmUmbLViSoU3g6g7iI69Pp8/iM1/QO1LMm0SlE4UqStPDECD/4iNKvT6fP4iwujnrIqM2kFSPCnkPaM62xtk2TOWhIISqssAFlKVXJ2JxOHIjRpHhTyHtEXtBccu1JGId9DmWpyMKiNWzFB0iDU1OyGERMzmz3gt0pmpVgOYJNTmxY73PCB50whS8AIQs0BJISSBWpyyjy8LqtUoALlTC6h9BU7HVSAR+a+R1g2Xtk4l0YUlie0dGTYQBU5DdGKqrG8Yf8ADSpxCkup86Ddk7cnjXLNLwoSnckDoGiBubZWXKZc0JXMGRrhTuYGhL1ciLHGpotPKpNy8gkMrS6G4fEZ5flyqQsqS5T7c40aV4RyEJm2ZKsxFm2pWLDJITcHwYje1ldJS+dANYUqScQS1GjXJ9yy8wgPFO2gugpXjCaHPgfxGVq9JKEFKPOC/ptSt2GSOyU7s1JRpk77/7tFyXl5j3EZ7d1sZmHe0bXc2r1MaA7pB5e4i16fLMGiDVr78lR21u0Yk2hbrQGQUOwAcl6VPmdeMdOtiTL/jwKDNgJCQ2W7hFqt9nExCkEAgjIxm1u2PtyVnsOzKdMRPHnvieyqWW4+STRfQS+7h5zn3IHai60LAWykKBcAio3sRRSeOkC2K+kyWSKDcKVflmeTb9YVtLcFslJSqfh3HCSUgZjlFdlokJ8c1PLEPbrEUa2lhnRwtqcO8o0XZK9Ez5yAQtye8zUGTg1Ka4ToQ2caehADAZMeOo1MZZ+ml0omze1GPBLLpLEAqYhwTmGUY1Yio5H4ieiG1PJzGuhXG+Tr6fP7mS/r9YVFFnngd1JVLVwKmUnrhVGT2SYP8/tH1Lfd1S7VJXImh0LDHeNQQdCDUco+fNqNhbTYFqKklcl+7NSO6R/X9h4HyJiSUcj9NqNiwQCpQMO2WwOcoTIWCQHDmgDh/KNA2N2Mn2hQUtC5MoZrWkpKuCEqqTxy55Q2MSS3Vtrsuv6TXR2FnWshjMVTkmnuT0i13p9Pn8QVZpCZaEoQGSkAAbgIGvT6fP4iUzpPLyFyPCnkPaGrWVhJwAFWj866irOzkB2rCpCThT3jkN27lDmHifT8QCEYu0WlzhlIYHVQdQq5oru6b848VPtIST2SCp/CDoxcgk1Ltu15xKYD9x9PxAFnvBEydNkpK8UsJKiwwnE7BJapDV3OIRtIMDdjn2lS+/LQlDkHvVDOxA1BLeXOkrCcJ+4+n4jsJ+4+n4hQOl5DkIVDUpPdHeOXD8QvCfuPp+IAIqfMtQx4ESzU4QSwzOEu5OTA0zJagq/ZlTVKImS0BLZu5d8mro/Qb2B2E/cfT8R2HifT8QANIsUtJxCWgHeEgHrDq8vMe4jsP8AUfT8QiYmniOY3bxwgwA7AltVNGHsgk17z7m5ivD2gnCfuPp+ISqgcqIA1p+IAIa0G0rDKkSlVGagdzsk0+4Z7o8kWRaSkmzSEupjhAJAcVdhoVGreHeWgRG3VgMzsk2nEp2dKFKQ5LD+QIw5nN4k7ivUWuWZiQtKMakpxYXUE0KmDsHcMd0NUk3gFLK4ZKpSBkGjw5jkfiOwn7j6fiElNRU5Hdw4Q4ByOhOE/cfT8RH31esqyy+1mrIS+EAAEqUcgkNnQ9IAGJS7UkVRKJNXBYClQauS+vPdWVkklIKgApg4FQDqx1rFcsW1aJqqImBDeLuu/wDpzZtfSLDJWFpCkrJSQ4IavpAK0PQDen0+fxBmE/cfT8QBeifDU67uHCAQNkeFPIe0BXxe8qyyzNnLwpFBqVHQJGp/zKDZHhTyHtGHfqTfJn2uYlzgkky0jlRZ5lXoE7oius2R47GylhGkbPbWpt3ahCCgS8LBRcrxkpS7DuhxUAnPdnLftRJmCYPrDTD9xGRPIPwCUkRUP0rutUuT2y//AOswBP8ApSFV/wCVP9sXy8G7NRUQAA9SwpoScgcvOI4Jyjul2EMtchUdEZdN7SZowImoWtAZQChiDHCSU5gEgxJxYTTWUPaa4YiXkOQiJvTaOzyDhWt1j6EjERz0TvqREZtjfM6VLTJssqZMmrTmhJIlpyd2YKOj7njM7Tclql4F2gGUJhLBSgVlqkqAJL1GZesV7rpR/Sv38ETc5TUK1ls0227d2eXLMxlkhu4zFiQCXdqAvnpHh2pUe8EoSk5YiXI3008op1hXZ5CVLQjGvDmovXf6xHItpUdYp/5Fk/OPwb2k9LltzasmrWC+0LzI3OKeh04xKry8x7iMps1uLKY6OPKL9s3ePbSQTmkhJ6hv84Ra09zk9siDX6H6K3x6JuMd/VS/J9otQu2zkhICRMCc5ilgKCTvSElNBqa5CNijNp90hN4Wq0AgqmEJBGaUhCUKAOhJBBI0pvg1d6qryzKlBz4REbLbKhM0YiCiXuYBcwZkNmlJoDqQTUMTe9nkplTZiBQTO82mIZtxI/8AGA7JZmFCwGgjxRKJiVg1BeMNaqcbI2P3/ok2KCwi5QlWY5H4hEicFpChkYWcxyPxHSxkpLK6Giow79Zb+My1os8tXdkpOLd2iwCX5Jwh9HMbReNqEmVMmqyloUs8kgqPtHynNtKps1c1dVLUVEnVRLk9SYGx0S/bI3ml823u3mdKsRvyJ1jTNj7zS6rOTUOtHFP1APqDX/dwjFNnJmFbP55tx4n8xbrfehkzJM5AOJDKFaaOkFtUuOTQ3OCVx3G0QDen0+fxBcqYFJChkQCORqIEvT6fP4iQgCpPhTyHtGMbWbLqky7ReM9WEKmFSJQS6u+vu4y4CaKcjOmhjZ5HhTyHtEXtVc4tdmmSXYqDpJyChUPw084jsrU+xYqLkt3Rjlp25WpaRJnqlSpSAAkAIHdZ8KXNQHAcuXyJiX/+bi1WJItExIUhTq7wCpoHh7qU1OZLMKDeWol6bO2pMwyP20wKfC+A4eYUzEcRCbwufsFdnM8SQA4cA0FQ9axFiSNiC00pJY/gtM+/FSVJnyZgQtRStAURhqGUnCfpWX7/AAz3buBHzlsps6bdOlSGWqWhWJRc4UJcFVdHZm3x9GiJKlhFPXOO5KPgTLyHIRQP1ekEokLGSVKSf9wBH/gYv8rwjkICvq7EWmUuTM8KhnqCKgjiDWFtjug0iCixV2Kb8GL2GcAllGkOIImEiXnuJzG8QRfFwzbKrDMT3dFjwq3MdDwNYjJSQhaV7nB5ZiMJ5jJ57Ou0+pi1lMITaMJINDujRv08SewWvRSw3k35jO7ru6bb56hJT3HZcwjuJahc6ngKxs123eizykSkeFDDnUOTxJrGnpYN4mzK9X1SlH6S7DyYoAm1KjqX+Yv8Z5fMgyZikfSS6TvG7mMoreq1ylFNdLJhReA0W0AUhkz3rEIuYp/8pBEqa7b4wmpPsRyLpszPKkqG4j1H9omTmOR+IjNnrGZcoYvEo4jw3Dp8xJqzHI/EdXpIOFMYsagG/wCymbZp8oZrlLSOZSQI+XZ1mwLI8o+sowb9WtmVWecbRLDyZhKqfQo1UFcCXIOWm555D4lYuhGFYNHFeBypxEWu8k40JDN/ffFOuy2MaxeNmJqZ85CSkqDjEGzD1B3PDMZZNlJGy3bLwyZaftQkdEgQ1en0+fxBqC4BgK9Pp8/iJSuFyPCnkPaFxBybcvCnvaDQbuUOfvl/d6D8QAF3hOWhIwS8ZrSubEgUBzIAfIPEJetjlWkf/kWHGEkNiZ6/a2dWo+o5CQ/fL+70H4jv3y/u9B+IAzgOu67pUhGCTLRLTuSGH94KiH/fL+70H4jv3y/u9B+IAJaVkOQhUQku3LYd7TcPxC/3y/u9B+IAPJ1vmOpCrMtaXIDMQpOLCHByoHY6EQxZLgs8x1LskpBCiAMNCNCxAzGhEP8A71f3eg/Ee/vl/d6D8QzEX2hyco9MlJMlKAEpSEpGQAAA5AQqZl5j3ERP75f3eg/EIXbl/dqNBvHCHjSaIeI62XJLm+PEfMfiGf3y/u9B+I8/fL+70H4hHFS4YENPuNCFqT2E5aAe6pKwX8L0aniLf6TkzxNXdckpASsIKVkAly5HB2jz98v7vQfiO/fL+70H4iP6Fa5UUBLoQBlHHMcj8RE/vl/d6D8Qg25bjvaHQcOESgTcAXxIC5Sv4hNLMEFhiJoASchWp3PA375f3eg/Ed++X93oPxABWJ2x9jUSr/p6xnqQ7Pol8yKerUed2du6XKUUS7L2SQHCj5UP9VTk4pmc4K/fL+70H4jv3y/u9B+IAJiAb0+nz+IF/fL+70H4gO8rYvu136DhwgA//9k=\n",
      "data:image/jpeg;base64,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\n",
      "data:image/jpeg;base64,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\n",
      "data:image/jpeg;base64,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\n",
      "data:image/jpeg;base64,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\n",
      "data:image/jpeg;base64,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\n",
      "data:image/jpeg;base64,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\n",
      "data:image/jpeg;base64,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\n",
      "data:image/png;base64,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\n",
      "data:image/jpeg;base64,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\n"
     ]
    }
   ],
   "source": [
    "for i in image[0:10] :\n",
    "    print(i.get_attribute('src'))"
   ]
  },
  {
   "cell_type": "code",
   "execution_count": 33,
   "id": "1f4ece5b",
   "metadata": {},
   "outputs": [],
   "source": [
    "Input2 = driver3.find_element(By.CLASS_NAME,\"gLFyf\")\n",
    "Input2.send_keys('cars')"
   ]
  },
  {
   "cell_type": "code",
   "execution_count": 34,
   "id": "8925cb6d",
   "metadata": {},
   "outputs": [],
   "source": [
    "search1 = driver3.find_element(By.CLASS_NAME,\"Tg7LZd\")\n",
    "search1.click()"
   ]
  },
  {
   "cell_type": "code",
   "execution_count": 36,
   "id": "134c7418",
   "metadata": {},
   "outputs": [
    {
     "data": {
      "text/plain": [
       "[<selenium.webdriver.remote.webelement.WebElement (session=\"1f7dd10e7145f0351027f3d6a117c940\", element=\"01F26DCB3136622590DFD03BDDE99230_element_557\")>,\n",
       " <selenium.webdriver.remote.webelement.WebElement (session=\"1f7dd10e7145f0351027f3d6a117c940\", element=\"01F26DCB3136622590DFD03BDDE99230_element_559\")>,\n",
       " <selenium.webdriver.remote.webelement.WebElement (session=\"1f7dd10e7145f0351027f3d6a117c940\", element=\"01F26DCB3136622590DFD03BDDE99230_element_561\")>,\n",
       " <selenium.webdriver.remote.webelement.WebElement (session=\"1f7dd10e7145f0351027f3d6a117c940\", element=\"01F26DCB3136622590DFD03BDDE99230_element_563\")>,\n",
       " <selenium.webdriver.remote.webelement.WebElement (session=\"1f7dd10e7145f0351027f3d6a117c940\", element=\"01F26DCB3136622590DFD03BDDE99230_element_564\")>,\n",
       " <selenium.webdriver.remote.webelement.WebElement (session=\"1f7dd10e7145f0351027f3d6a117c940\", element=\"01F26DCB3136622590DFD03BDDE99230_element_565\")>,\n",
       " <selenium.webdriver.remote.webelement.WebElement (session=\"1f7dd10e7145f0351027f3d6a117c940\", element=\"01F26DCB3136622590DFD03BDDE99230_element_566\")>,\n",
       " <selenium.webdriver.remote.webelement.WebElement (session=\"1f7dd10e7145f0351027f3d6a117c940\", element=\"01F26DCB3136622590DFD03BDDE99230_element_567\")>,\n",
       " <selenium.webdriver.remote.webelement.WebElement (session=\"1f7dd10e7145f0351027f3d6a117c940\", element=\"01F26DCB3136622590DFD03BDDE99230_element_568\")>,\n",
       " <selenium.webdriver.remote.webelement.WebElement (session=\"1f7dd10e7145f0351027f3d6a117c940\", element=\"01F26DCB3136622590DFD03BDDE99230_element_884\")>]"
      ]
     },
     "execution_count": 36,
     "metadata": {},
     "output_type": "execute_result"
    }
   ],
   "source": [
    "image = driver3.find_elements(By.XPATH,'//img[@class=\"rg_i Q4LuWd\"]')\n",
    "image[0:10]"
   ]
  },
  {
   "cell_type": "code",
   "execution_count": 37,
   "id": "fda5130e",
   "metadata": {
    "collapsed": true
   },
   "outputs": [
    {
     "name": "stdout",
     "output_type": "stream",
     "text": [
      "data:image/jpeg;base64,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\n",
      "data:image/jpeg;base64,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\n",
      "data:image/jpeg;base64,/9j/4AAQSkZJRgABAQAAAQABAAD/2wCEAAoHCBUVFRISEhUZGBgYEhgYGBgYFRgYGBgYGBgaGRgYGBgcIS4lHB4rIRkYJjgmKy80NTU1GiQ7QDszPy40NTEBDAwMEA8QHhISHzEhISE0NDQ0NDQ0NDQxNDQ0NDQ0NDQxNDQ0NDQ0MTQ0NDQxNDQ0NDQ2MTQxND80NDQ0NTQ/Nv/AABEIAKgBLAMBIgACEQEDEQH/xAAbAAABBQEBAAAAAAAAAAAAAAADAAECBAUGB//EAEYQAAIAAwMFDgQDBwQBBQAAAAECAAMRBBIhBSIxQVEGEzJCUmFxcoGRkqGx0RSiweEVc7IHQ2KCwtLwI1OT0zMkNIOj8f/EABgBAQEBAQEAAAAAAAAAAAAAAAABAgME/8QAIxEBAQEAAQMDBQEAAAAAAAAAAAERAhIhMQNBURNhgZGhUv/aAAwDAQACEQMRAD8A7W4h0OR1kp5qT6Q4s51Mp6GA8moYHSHAjq4C2uSwukqab2uNDTRtii0Xp7EXSCR/priDTVAWtDaze6yq36gYi1KzDCX+ZM/RLi+Yr2ZwblVXhvoqOKmOmnlqi4Qv8Q7m9ogjaOE3WMDizOVbzZ2s8WBXF5Xy/eBQoakGuLyvl+8K4vK+X7wQGkKkGuLyvl+8K4vK+X7wDNwF6zeiQOLDIt1c7jNxeZYhcXlfL94KHEWGB6D6Qa4vK+X7wzotDnajxebpgYwwIdVJIAFSdAg6SkNAHJJwAuH3i0ktFGL1qSCQvC5lNeDtOvQIpiFmQKHOBzGqa6dqodm1tegc4UctifsBsA1CLKKpLkv+7I4FABsAro5oGiJThnwH3gUOFBbi8s+D7wri8s+D7wQIxGD72nKPg+8MUTlnwfeAAYPaeHM67ephiics+A+8GtCLefOPCbi8554GCUhiINdXlfL94YovK+X7xFwCFBri8v5T7w1xeX8p94IFBHGYnWb+mH3teV8p94myrdWrHhNoXq7TBVUiC2nhP129TDlk1KT0t9AB6wSfMozUCjObignSdZrFFZVJwAr0YwebJbMqKZg4RC6ztiDTWOBY02VNO6HmjgdQepgG3sa3XsqT5CnnCuptbwj+6IUhQRXh6QhDxRO0jg9RfSKjiLlp4vUX0io8SFHkOFWWTo3x/wBEuLJtSc/dFM8BPzH/AEy4iRAaVotC32FeMdRhKwOg1ijaxnv1jBbEMT0fWB7rVIakSpAnnqDQnHoMQTpA5ky7TDTC+JTleRgU9w1KGsUGa0C6uB4TeiwP4gbDEWGYnXf0SBUgLAtA2GHMwMCADUig6TAFWpoMTB0AUHXqJGsmuaDswNTrgQBJFwba4Eg8L+FTqXa2vQIEyMTU/YDUANQiwzVNT/nMIYQA5I4f5bfSBK0HTS/5bfSKCPiRFFqsKIqYkIBQoeFSAYwe0jPmddvUwAwS2sQ8ynLb1MQWg67R3iHpGWgxHTGsBogIUhUiFpcqpYacNPTFH459g7j7wwaNImwzV6zf0xmfHNsHn7wZ7Y1xDQcJ9uoJ7wwWCIJaBnv129TFezTi4JIpSLU8Zz9dvUwAKQ9qe6qtsQepiVIhlEZg6o/VAVfjRsPlC+NXYfKKVIUUaEKC3F5Y8L+0K4vLHhb2gFaeL1F9IpvF60IubnDgLxW9or72vLHhb2iLYbiJ+Y/6UiJg9xbq5w4TcVuSkRKJyx4WgYVr4b9YwrPNCkkiuEEtKLffP4x4pgdxeV8rQKsLbEOmo6R7RTtJBYkGow9BDGWnL+VomktKcP5WggNILKGmJ72nL+VoJLlrjn/KYB2GYvXf0SB0iyyrdXO4zcU7FiG9ry/lMFQBotRpJIJ5gBh5wl4DdZfR4KUW6M7jNxTsWHVFutncZeKdjQFeHidxeX8ph7q8v5TBFdNMz8tvpGWhzjGwqLWZn8RuK0Zyykqc8eBoqioYIIdJacseFoIJa8v5WiIGIeCb2vL+Voe4vL+VoAJiVt4b9dvWC72vK+UxK2It586mc3FO2CqSDERqgRmqErW+PC0XBak5Q7m9oURt4zD0j1jKpGzaQjJW/QGnFO2M4yk5Y8DRYK9IO4zJfXf0SJb0nL+RoM0tLqZ/GbitsSAjY5iqGvGmMXbRaFvMK8ZtR2mKBlpyx4WgtplrffPHDbityjzRAb4hOV6w1vmKUABxKiniMVTKXljwt7QWfKWiZ44A4rbTzQMUbsNSLO9Jyx4X9oW8r/uL4X/tipgsKFCgCWni9RfSK1Is2ni9RfSK8Qoh4CfmP+lIGYK3AT8x/wBKQIwBLXw36xgVYJbOG/WMBEWFCeLEkYdsDuQQOFGJA6YByILJ0GM+blWSvCmIP5194qtuls6/vUHYzegiauV0TcBeu/okBIjmpm62z0oZ5pUnBH10rxOYRVfdXZtc5/DM/tiauOyIzV6zeiw4GY3WX0aOLl7orM+Cu7f/ABzSP0RY+Lk7T2qw9QIaY6csNo7xDb4vKHeIxpNklut8MKdHvFe0GzppJPRT2hpjdSYv+pnDgNrEZ6kVOI745+fleStSqAgaziO1ibojInbqpYqBc/lS/wCgp80Oox6CgggjzA7rtinwIP6jDpuxbUGHQaeQIh1GPTxEhHm9m3ctWhv9qqR2kkmNywbtZbEB6dIqp7FfhdkNMrrYnbhnv129TFOyW6XMH+m4J1roYdKnGLlt4b9dvUxUUaRICHhxFQWdwJY5j6xWpFm0cCX1frFeAUGbgS+u/okCgrcCX139EgBsINbBnzOu/wCowMiDWwZ79d/1GArwW0fu+oPUwOCWj931B6mACYhEzEIC5SHpBLsK5AK0jg9RfSK9Iuz5dbvUX0gW8DbEKgwzE67/AKUgJgtsnypaJvs5JYLtQzHRK1CDC8cdGqMC17qrClR8ZKrzCY/otD3w1crdtfDmE8oxjW3LcqXUVvHYNHf7Vjnso7rLDMJMy2OamtElOB5pGPMytko6Z08/ysPpE6mulq5Q3VOahWuDYuB8WnupHPWjKbOSak7SfqYMcoZI5U49jxH8QyTo/wBTvmQazGXMtpOuIozvgoJjZk23JNai8Osz/URr2TKOTNCzEXpYjzIiGsnJ2RncVmALjjhGicjyUIqoJGNT/lI37DIs02plzLw0kpNU07ApPlELRk2y1qbQT/C7j6KDF2MsmTNWoVBhrIGAHTogrzUBq2NOKCQP5jpPQKdsWJ0iTSizkA2VAEUJtkTVNQ/ziJqFbMtMRQEABdHBVVGs6lAHpHN2nLJdrkshqml963P5U43S3dG38IBWjriKHOUgjYQdOiKc7IEt6mgU7Zbhe9DVe6kFmMDKSNml3Zya8I4ClOCNA7IpyiKPUY4XfrG7acg2g0AYOBWhODY8wJ9YqHIVpGO9Np01HvCtTwzghjQtGTSirMVrwIBpTEAitTzRL8NmjTLfwk+kblicFBLmKUzLtWBoRSmzCES1yrIdMdDZrFKmorBbp0G6TgdemBCxjEDGhwO2kXMlSrjFdR/wH1EJ5W94hIss2SQZbkgaBjh2aV6VIMdjkndKz0WfW8TwtpPOBQnmwOy9pjLEsbfIwQS1vGtCCTUUi58M7vl16sCKg1G0Q4EZtlR0S+tSoFWBrUAY3hrIpq07K0CxrSlUit8A00ENh2gUPSIsqXjhT2BWWAdC482MBpBt6Wpz18L/ANsPvS8seF/aKzgMFbgS+u/okLe15a+F/aCtKF1KOvCbSGFeDtHrEUEwW18N+u36jCezPQkLUbVow71rD2vhv+Y36jAApE7R+7/LHqYiTErRxPyx6mKgBgcFpCgNNZTHEA026u+Jb3TSyjoN4+WHnA2cnEknpNYaILEwqLuk5o2KNHbALTa1lo8whVVEZmNK4KCTwq7ILN4vUX0gT6D0QXe7xLLloa1Tp02a7hiSUol4AVoqFr2aoBIFBq0Y1jnnsBJrj23v7f8AOePbZ+RrMaHewCdakr6GkZNpyOg4LMOmhEZyvR9Th/n+vJGyecTj3MToqOLFtcnIeK4x1upNKkVwUalbvXbj1LyM+ZvjTAtWC0QnbQ6Rhhz6RFG0SheNGel4ACjaKCpzuevdoidNWepwl3P65ZrGbwUBhUDE1oKipqQDCFgOHOSNeFNZw0c8dA90DhtXYVOmm3Z7xp5Js4ZL7CpLGh5hQetYdKTnxnmb+XE/BNhiOFTXhznDRCNjONSMDTCpJG1RTER6H8KmyIzrKnBujn9odN+T6nH4cLZpDqUImMlTUFSc084qKGOil5fdQVnMJxUcMFVfoNTR+nT0xvWbJ8o6UEEtWT5QH/jTwgwypefC+1c+uXlzTvbY6M5Dz8rCLUvdOi1rIGbpqqGnYHi/bbLKdVmb0mFEcXFpWmawFMAR5jnikthkggiUm0Zi+0O6b6fxf207Jl3fFvrIQDUShWvOKHHpg3xV792O/wC0VEeLCAHSAekVisYOrA8SnQU+qQZJIOhD3j+kCACbLTTQHYoFYt2bLEqtCGXnKgjyJMDBFsZOgOP5oILBM56dMbFnmJcv3hcpwqilOmJfiskccdisfQRO65GSthOuDy8mitRhhqVfaDvlaTXAnwmJy8rydp8JgdkUyOh1Dz+hEaNiyaqGoUEnWa17NMQlZWk8vyb2i7KylJPHXtw9YbTIsy5Gg/WscBbbVaXcWGxgK4YnfwWZEVWLXAAhvAIFQsdJGgR2c+z2aabzOK66OKdxi5YrNJl/+MKK6SCCT2wVkgMKb5cDXRW6WulqYkB1BArqxhMw2xtvZpbaUU84AB7xAXyVJbikdDt9SYs5VLxjJgx4Cdd/6IO+RggJlubtNDGoHZ94ozbQFCqxGDMbwIIxu6dmiNbrF42DnbFm0z2vuCai82DANTOOAroisTBbXw3/ADG/UYIiXQ6Up1WI8mrE56KbtGpmDhKdp1rX0gBglo4n5Y9TAN8Mx4NG6pDHuGPlASCMCKHZSEYmlpmAUDPTmZqRUXIUDrCrAWZp4PUX0hklXzdGv0iM08HqL6RkZbyqtn3suzqGrigY6KabvTE9l93RvkdCMaxnzshJyj5fSMfJtqe1KzyXcqDdLEuoJ1gE6fvBXyVadUxv+U+8Rv8ACU/c+hxvHz+hilO3PjU572/ugjZJtX+4/wDyn3gczJNr1O//AC/eCKE3IhGiY3efeKFoyW40ODsve8ar5HtnKfxg/WAPka1a757awRkGyzBs6QawezZHLcaDzrDNTGY1wVpViqip1VOuJSXddE1PEhgNCybnW5QirlXJLJrBjSs1vnAcNCOhfpFLKlqmsKkDwn3iDl5iMLw1EUI9O40PZFAOVwPnGhaZ7AmqjziobaNDJXt+0FMk880WTaqLUGhpr0KBpJik7oeCGU9hHrGZlmebqywcXxbqDV2n0MGojaMpPMJEo3ErwyM5ufHQPP0gYe0pnJN3zWVajVHN9iINaHazS5MxaKWmCrrQm6K3kB4rAih14jRjXWFomNarRIZqypNlGbwgr72qKyk8FjMepoRXEHCsRVnIOW98ltdNFYgTEJrdatQw5jTTrFdkahwjjqbxalZSCs7NYjBWLYq4Gqpp0EMI6yzoz3VUEnRQCpwipQZ87ZAhPMbo3NTSK3adLCsV5m5ycOIezH0gndnLajBkthh3yRMXSCOkEQJrG41QFtLdFlLfzxjMjDSCIStAdFLtp1HuMXZGUX1O3iMcskwxpWSfhU7NMF0bdBugmikmW4LkVN6pVRymAxbGtF10OyOR/HrTJa9McTk0stxUZV1tLumhpz/eBWXKCzJ2+MxDTHfeqUpVVvLeDfwhF6Xrqihk+ez/AA6Mxu7xOnTSxJxLMis1ddUQ3tV86qxFepbnsoLMQqpqFAZDtRsV7tHdG7a+G/Xb9Rjzz9nxa+8oVNwOq0BxQ3XUgbMWpzAR39sfPmdd/wBRjcc7DRO0Hgflj1MV70FtLYS/yx6mKygTDS3wgd6GrAaNwwrhi1vVOEac2k92rth74HBFOc4n2ENEWsrtdNMLi4nRo7z2RlZdyIloSXLmb4FWZeJWiA4EUxBwxjVLE6z3wxxwMRZcuxxO6rdL8MBY7HmBFo5QVI/gTn2nTU7ax5u+XnY1b4gnXjWN3dDke0ypkxpiMVLsd8GcGqSakjR2xyrWFCSc7E1wbb2Rl0jUkZVZlLX5y0OgsQTXRTboi1Iyg7LfS0TKfmuKHYcdMYS2JRWjNitMSDTEEHRqIBipfKMQT000HYaajjAx0tpy7Ml0raZ2jU7sBq5UQTdjOHBtkwdKs3rWMF59dOINOlSBSq8xoKiAmUdT+VYGR32SN3M81WfctUo4Mt0K4G26cD0GNS07l7PbU+IydNCnjS3rRTyGBzlPN5x5aqMDVXodoFI3sj5SmI6vLfe5oFL68FwOK6aCObupA8eG1aNxduXDeUbnWaV9XjGtO5+2JX/07rzpMJ8wDHo1g3aS3QLPpKcaanMbnVtXQfOB2vKYfFSCNRBqO8ROlq+ry+J+nlj2e1LhctA/mf6ARbTJ9roDeIrqZ7xHeDHYTrTWKrzBFxi8tcvvFsGuv/GYr2Vmecu+6b4RqCtApzs1dOg6I6e0zwiO50KpPcNEcnZb1cBeYo5oQDeNxjo112RKsa6WV5jT7LNF0M6Tr2BXNdVmMrU4O9uWJB0S4a1TZ1TKkI2/2qZ8RNRQCUls1bPKJ4goxdtAuugOgxDJi2hluurUIcS0KhWKrKd5oRaYpdQVUChJAAqTF3dJaJzOyDKKFHo+9qkyzK4fENREuMDU4lidNcawVRy5ZWlS5akglDhngtVWqAQOCKFqVoaGNyy5buEujugOnDtxoTHOTbDMVUlvdxdUAVgcaXTWmrVjG9brAjjMAUjRTNHZTgn/AAwZa9n3YEH/ANwD1kHrdjUs+7JuVJbtIP6vpHmU6yMppManXUnuOIPSIGLOvLTuI8wILj2az7rQdMoHqzPoV+sWhugsr/8AkkuOe4jeYNY8RWRjhMTxsPUwZJs5eBP/APtHoaQMeuZSexuV3lgKjENeXH+cRg23Jl3OTR5RxEvLNpThFXHPdI71qY2sn7ogc1wUrsxU89NIi6WLajGmuJ5SmFLPOYYHeyB0tmj1hnUuQ6EMDrU1ivulcizIGFC0xVocK0Bb+mBjmpMyXWQjNdZXE0MVzQA1HUkGpqqA0ppWg0wfKdiIupfly1e40xjaJZNxVAlSwisWa6oFTShcnUoMQlmUN4vLV2vMWxFyUhLNQ62IVhroOnCGVlk3kZpahWJVmlVQq6UvVUkqUYFHBABAelSVNYrrdwaEWtxLYkGUlChapARxUmgOqPSjKY8NGfnIIfxgVPbWOB3ASE32bMlrcUIqgVxqoF47aEvWO9vHae+NTw53yicnE8C91WWh7G0Hy6IharMRcDVBEsYHA6TBbx2nviSzWGGkbGxHcdHSIqdmeZMIIf8ABGjRD/Ae1l9x5w3wr6lqNoII74uoEMpzP4fAvtC/Epn8PgT2jM+IG2JC0LtiY20GyjMIIzcRyF+ghpdvmKAou4AAVUE4bScSecxR+IXaIff12iIL5yhM/g/40jj92eSA8l5sqVLExTfYpLCsyCt4ZuvX2RvNakGsQFspINcMV4pMtJpQUBrp9h/mmKomBr5dqELVc0m81QLpIIu4VNeaOz3VZJsrMzyG3tziUwKE7QBilebDmjkJuTWHGQ9DH6iJlaliszEadlYuZKsMy0TFkyFJdgTic0ACpLGmA9xFU2Rq40HbX0jtNzW6Gz2NSsuQzO1L8xnUFqagKZq83rAtZVs3J26WaGzs/PLIcfLiO0RQfJ9pXFrPOXpkuPpHen9oif7J8Y9oBM/aORokDtc+0XIm1wM20zFoHDjrqR6xKRlK6aqSp2qSPSO2f9pb6pK+NvaK7/tHmaRKQd5iYb9mFK3QuNLhuuoPmKGLS7o0PDQdKsPQ+8XX/aLadSoP5T7xWf8AaFazocDoUfWKZ9lTK2UUeXcQmpZagimANTjo00jOkzLrIxNNFSACQNDYGtcCdMUps+8zHaSaDDTpA/zVBEeojFWR0JtjJMtU9Mz4eWZcpRS6hd1RQo1kqZjE68dUCtdmWazSBRBd+Is9VOEuagmtIw1C9UYGhVuVAUte+2d7OSiNmlSxC74VIADucAVRQq1oNONdNu1sqtZJ2+LekIqMoYMx3sgoBd0hla6STTA9EUPZiqmWrsBdDvVyowoEQV0GlNOxRqAixOynKUVMxTzKwJ8tEcnbbSztWpMABbngY6sbolGAYdGcfSJDdCOfwvHKVfnhwH5++KmR1oy5XQrHoR/aDy8qO2iW/gcescbcfn74cS32+cDHdJap50Sm8h6tFiWlob9x2s8serxwAlvt84IgmjQ57zBHo0uyOBVpabaBkJ7q4mOSy7lmXNMtZQoqXi2bdJY0A7gD3xmJNnjQ58RgEyzOSWJFSannO3phYsatknApNRVq5luEOsB1AmKo1sVAA5i22JWdQGZJgqhs8lzro0ukrDYSL8ZaSXGsRfkznDKzMWKmovEsAa1rQnTWJJV2PSNz1+zylumVfajMHVmu1JYqLrrqIH8sbAyzN2WbwTP+6PNZeWJus+UHXLD80bYr0T8Zm7LN4Jv/AGwhlmdybN4Jv/ZHn65UaJDKTQR3/wCMzeRZ/DN/vhfjE7/bs/hm/wB8cEMomH/EYDfNoMMbQYrXhthr0VVjfzDNaDFesLsgCtMr/wDsAcVhEQ0BWm2VW0qD0gGK75KlnSg7MPSNCFAZD5DlnUe/3gL7n01FvI/SN2GpEHOPudGp+9fvAn3NnU47iI6g0hYQxdck+519qntPtAW3Pvs+YR2VIV2GGuIbIL8k+UCbIrjit4THeXYa7Ew1wLZJYam7jA/w4jWY9Duw12HSdVcALGdvpEhZTHebyuwd0RNlTkL4RDpOpwwsnNEhZeaO1Nil8he4QxydL5A84Ya434aHFnMdecmS+T5mInJcvn74Ya5QWeHEiOn/AAhNreXtETkhdTHuhhrmxIiQkR0P4RsYd33hjklto7jA1giTEhJja/DH/h7zEDk19g8UEZQlRISo0Tk5+SPEIX4fM5PmPeAoBIldi58BM5HmPeF8DM5PzD3gKgESBMWvgX5PzCF8E+zzEBXUxODCxvs8xC+EfYO8e8UTs1v1MY0Jc0HQYUKEBA0SvwoUUPehXoaFAKohYQoUAsIUKFANEawoUA96FWFCgFXnhQoUEImGvQoUAr0K9ChQUg0PvkKFALfIa9ChQCvRLfBChQDGYIa9ChQD3oV8QoUAxeFXnhQoBi3PDXoUKAa/zw1+FCgG3yFvkKFAf//Z\n",
      "data:image/jpeg;base64,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\n",
      "data:image/jpeg;base64,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\n",
      "data:image/jpeg;base64,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\n",
      "data:image/jpeg;base64,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\n",
      "data:image/jpeg;base64,/9j/4AAQSkZJRgABAQAAAQABAAD/2wCEAAoHCBUWFRgVFhUZGRgYGhgYGhwaGhoYGBwYGBgZGRgcGh4cIS4lHB4rIRgYJjgmKy8xNTU1GiQ7QDs0Py40NTEBDAwMEA8QHhISHz0rJSs0NDQ0NDQ9NDE3NDQ0NDQ0NDQ0NDQ1NDQ0NDQ0NDQ0NDQ0NjQ0NDQ0NDQ0NDQ0NDQ0NP/AABEIALcBEwMBIgACEQEDEQH/xAAbAAACAwEBAQAAAAAAAAAAAAADBAECBQAGB//EAEIQAAIBAgIGBQoFAgUEAwAAAAECAAMRBCEFEjFBUWETcYGRoQYUIjJCUrHB0fAVYoKS4XKiFiNDU9JjssLxM0Ty/8QAGQEAAwEBAQAAAAAAAAAAAAAAAAECAwQF/8QAKxEAAgIBAwQBBAICAwAAAAAAAAECEQMhMUEEEhNRFCJhcaGRsTLxYsHw/9oADAMBAAIRAxEAPwDLWGEWV4Rak9o85SQwplw0XDyGeItWOK8uKkz9eSKphQ+6XBpCrJNXnMvpTLK5i7UPySNA14Nq0VvOBi7UNZJjBqTukgLybGH0h9b2CFxLh4ALfeIRKZOzPqic4rdgoZHwGV5DPKvh2G4iT0Rte/iIvJD2X4MtU0WQypEimbbRLK3LuieWKKXTTZZMoTpTOpsBmTbrlGqAnbMJZ02dUOmcVuG6YHImXGHB4RJ8QoOyEw2KQA61x2j5TGU5VcTpjCOzDeaZ7YCuhWMppFb2Bv2wlWopGy8lZ8ieqB4YNaGLUqm8A1aaGJw6m9j3TExJKm1p24syloefnwSirT0H6Dknb8oR6QAzvMMVjeaSYolbXvKnKnYsMe6LTQQVF4Sji8opEPSI3yHmrY2j096MX1CJVkM0RTBGyVbCjjMn1K5NY9KlsZFRYpVM162FtvmdXw57JUM8WZZOmZnWnQ/m/OTOjzfc5Piv0XGMMKuKMWVIRUl96MVgkOJiDCrUMVSnD05DmjWOCQ0pllWDQ2h0cSJZToh097kqh4QgomEpKTs+EcpJxE5cnU1sdcOli9xJKJG2MpTFr5xtEXlCLSQ7cpyy6yR1R6SIp6HPwlegU+0fETSFMD1SO23zkqhAzGt3H5Tnl1cuDZdNHkykoKNtoSgLm2vlwAHxEfL029aw6zaV/DkbNGXstM5dU+bRawRW1FKK5W1yRxOXjLPgrG4W48PAyzYOoBYkEcxK0hWQ8uX0mTzPeLRagvRR8AcyACNm0j4wFFGuRq6luJB+E1kqBsmUjtyjHRKRM/lzWjH4o7oxipORAI3kLn4wOIwKn1CdbmpA+k3xSA2Swo35wj1UlqhvFB7nk/NXU+mt/vgIdKQtlZfEz0jYVTtWAfR6HdN49Xe5i8HoyaOFPLrsPsRnzPn4ZRhMFqm4y7TGEJtmI5Z3vFhHCuUZeJwhtkLzCxOEN8xPZFFMFUwYO6Vi6uUXqLJ00ZI8OaA4Zyq0yDsM9dV0WDuiraMsds749VGXJxvp2uDEpg7wIyuHB2C01UwoG6HSittnjHLKuAjFmWuHI2SWQ8Jr+biDqURwnO8ibN1FmHVblM6uZ6GrhRwij4QTbHOCMpxk9jz1jOm15mOInTfzROfwz9mVqj3DKkcFImz5rU9wjslvM3O1Ziupj/5m7wN7f0YoD8IRARuE2F0ax3d4knRg90nqj+XAXxpbmWajnYO60vTJXPUM0vw38pEr+ENuI++2R8mHsrwSuzMfFvs2DltkJU3kknnNFtD1OB7JT8Fc7iOsGHyMVbofhnewAVr+3bxjFOqw9sH9VvCXTQL/AGbQyaGcbx+4TCefF7RpHFPlEDGNa1h2m8NSqMeA6v5nLow7yD+sQqaIX3mH6wfnOaeXH7N4xkghe+TW7ZUYFDsfVPIxilo63+pf+pgfiY2uCXgh6mE5JZktrN6i96F6WGqL6tW45m/zjalxtKmSmjxuQdjD6w64Ij2fH+ZzTyN/6GnFcgM99pAVfetGui4qv7pBQcFH6pKmHehcanvy66u5vGSaBOzV74FsFUO8D765rHIvYOvYyK1vaEq2J5iKto+r7/wgjgKvvfCapx5ZGnA22KPFYB8dbbbsg1wTb7HtnHAjeB3j6TSOXGtxSjJ7FH0mBKrphN/xknRqH2B3yn4Snu+M3jnwcoyliy8MYGkUO8905sVTttib6JXgR+qBbRYG8/GbxzYODGWLMNPi0G8QRx6jeIm+jeHzgvNHGWqPGbRy4jKWLKaB0og3yjaXTj4RNUcf6amEVW30R2GKWTH6/ZUYT9/ou2k04/GLPpFD9mHI/wClaV6MH2QOyLyQXH7K8c/f6FfP05To55kOXdOi+Rj9D8M/Y+tBd1Qj931hkQ7qp/ujAp0vcMkrQHsN2TzvIn7OjVcFRTfc/iZbon974/SFp4miNitfmCYQ1qZ3juIktrkO+XoAEb3/AB/idqP71/1fxCs43MPGCaq+5+9f4i+l8jufo4YWqdhPYzfSc2Are8w7SZVHcG9/vuhGeofbcf0n+InKK5H9foC2BffUYd8r5o3+6fvtjqPVAtrv26p+Igz0vvv3KflJc4+/0C7uV+xbzRv9z/t+shtHk+2v9sYNOofWZz3CU8zBObVe8fWR3r3+h2wB0Kx9tfCSNBtvZfCOpo8f7tQdZUw64Ft1Y9oSPyPhkNpbmcNAH31EsPJ7/q2/cPgI8tNwbaxPPUpkf90L6Y2EdqJ/zEXkfslti1Pydc+rWv8AreNroCsNlXxJ+IMKmJK5M9Jf6lX/AJya2lEUXNTDseCsFbwYzWMFJW02YPLNOk0UGiqmxmU/oY+OrJOgydoQ/pYQFXylorkx1Rx6UjuvKjyrwI/+yeomo1u0LKXTxeyYnmyLd/0FOiUG1L9RYfGR+Cpt6Jv3/wAzQwGlKNRSaNZHIzIDel2g5julamNr+zTv1uM+rKJ4ox0bYLLN7Cf4TbYp/cfpKnRx5j9V/lNOjiGPrKVP9SnxvJqLre1bqI+kl4ovVFrPNbmHVw5X3j1AH4xfpR7j/sv8DPQ9CvvE9dvpBthl/KDxG34SPGkaLOYiuhNjrDrRgJeoFGeuPvrE1PNvzDu+kC2CO4jvaOl6LWX7mYjpua/dDUgp2EQz6MJ909gPxEo+jn3IneV+EtKPNg8v3IdQL3HhB0yrbAD3Qg0c/tKB1M31kHRxHsk9o+NpXZDmxeR8UV1F3gdwk+bbwMuQElqNTch71+YkqjqLlSLcSAJaxw9snyy+wHU/OO4fSdO87/JTPPXXOdK8MfYvNL0fPz5dm+rZgeRXr22lj5b8ekHUw+ZnkEwi++e63ykjDDfnyJno+PEuEeb58j5PYr5aXzvV5ZUzl3y/+Ms9tTh6lP6zx2odzW27OBkJQ5/YicMT4Q/NkXJ7ceXKDI6460T5NCp5b0z79v6B/wAp4HzTPaTlw/mXNG2+RLp8L4NI9TlXJ9D/AMZ0eL/ttJXyupEXFZRyZHv4ZT5yaRv62XjCpcHK/Vcnwk/Exeh/LyH0A+WNL/cB7KoHwnP5W0D7fXZqw+CzwD4aocwj7biyt97oJ8JV3o+zL0SB2w+JhXAvkz9H0XD+VGHU3DqOtqpPcRnG18raB2VU7VYfGfMkUegGuCDw29cJVVSbrYfDumcujwyetlrqprhH1BPKSif9VP3KPAnKFTT9M7HT96fWfKMKjMdSxZmNgqqWYnO2qBneepoaAp01D4pgLZ9GhW/IO+xepbnmJk+hwrllx6mcuD3GH0iXNkAbedUg2HPgJz6RKmzBextYjrstvGeEx3lUlP8AyadMquVkQBQSfe9onm2cyKiVq2dZiqn2E/8AIxQ6CLdvYc+qS23KeWmFpnEO9M+vdyLq1mJIYeiTlcbDsnm/NW5Dtnr1oU1AUKthsyB+Mqwpj2F/aJ6yce1KnoqPOkm5N3VmVoOpWsyW1ltlrZgHgOE1UwTAZlR4/SQcRYWAAHKCesTvil9SSfALTYfw/RoQWLXHA6vjnGqmLw5OS1Bf3Kht/cDMO8pr6rW3Hw4/KZPFFmqzSSo3kxKDZ0v6qgI8EEtRrEnOo4Ho+0TssOO8XmKrxqm9onFRVIqE23qaeHqsxdUeozAZrrlWHMAkkqTb0hcc45oDG1kY1Gd21gVCNrMENxctcjPId++YpqarJVtmhNmzBFxsFtoPCRjPKUO9hh1DsLl2ZwWsLekqEAmw2kk5SfE2vqja9lyyRi99fR7Wt5S1FFyo5+iR33MWTytd80Utw1UuOxr6veZ4T8RrFwGCFSbeqNYcwxuR3x5MUw2HZJlhxx2QQm5cnrU03iibkWH5mF+5VI/ukV9MVzkXUXyzYj5iefp6d1bB1DqT6QsFbZtDDMHIZbOUR0rpRC66rPqDPMDWudvI22XyjjCD4plSm48noTWLgEub9eXWM9kImKddlR9t/WO2eY/xInuOBy1cvGWHlBT/AD/t+hnYsMaowedWelr4x39d3P6jbuEVdQdpnlf8QVC/sheJU3t3zQXTVI+34N9JccUeCXmRrdCvvTpmfi1L/dX77J0rx/cPIjygr85ZakCwtIJnDRCGQ8slaKa3OSGEKKseFXfNTRmhalZDVZhTpA2129o7wi7XI7ud8oTya0ErocTiSVw6bAMnqtuVeAuCL8jwJGhj9INVYEgKijVRFyVFGwATo6fppZX9vZGTLGC139AEwlBPVTW/M5uT+keiO49cPSrBclAHUAPhMrHY8IOLHYPmeAmEatWo1gXZjuUnwAnbJ4cP0pWzmi8mR3eh7tMSTvh/PAouzgDm1p5PD+TVQjWqOV/IpLv1bbA98KmARG/+NUN9tQ9LUPUi5A/1WmUssWrcaOiCkuT0z49XUqPSJGVrnmD1ROjgQ+Z1Au9iAwA5W2nlAIHtfVNuNRtRB1Imzvij6VpoCnSM12LalFFUaxNzYsLnMmZSyS7ajFL8mjUW7k7/ABobFbSFPDgrh0AYg3bIOw3lmA9BOQ8TPLYjF1a7eixC+/sNvyD2Rz2njuj6PUcNqYYqGNy1QtrnK230RFSjrtdRbcCjE/tuJzwxO7StjnkpVdInC4VKeYzbeTmc4Zq0HSXW2Em23LIdZyj2B0eXcKil2Ntis1udhfITojgm3tRg8qS3FEV39UHr2COLo06pLPnY2A47szPW6V0Nh6bjpKq0aaqAEHp4lztZ2UXC3Oy5sABkJ57TOmcOqGnh6Grf1qlRteoQOHsp+n/3r48cY27M1NuVUeZoYkOjMosykWVsgw5Eb+Ufw/RlRrFlbeLXAPIzNGHdluLInE5XilXCOuasesMSO2cjjKrOiMoo9GMMh9V7931gquDB9qYuGxTbDkw+7iaFLGE5GZvuRqnFjHRW3xuhWRdqEnsMzq2KVc7eIitTSbH1FA5nM/TwhGUk7S/kb7Ub2OrB0AW+Rub5C1jvmNq+mDcZAg5g7jbZ1xCpVZvWYnrMhHI2TpfUTlHtdUc0scXLuV2buGpqzaxZRbYCc78Y06oATrrkL2BznnFqGFRrzjlFt3Z0xmoxpItiKrHZ6zGw5X+kr0aJYBsibtfaSPaAtkOV4Oo/pdQt2t/APfAEEm+69pvFJRtmEpPuod1k98eH1kf5fEd4/wCUq2CTgR2mDbCLzldrC16COlM//pR/5SEopz/ch+cXODX3jI82I2N4R0/QrQz0Sfm/s+s6LdC3vDxnQp+gtAumB4SpI4xIiRMu0djOuLx/QuE6asiE+j6zngq+t35DtmPPSeS2KVAxNsyATvAyI7LgwUVeo1uewx5arqrkqINVFXJVFgNnUAOQAEUbAkbiY1Ta+zPfytx6p1TG00Fy6seCm/w2mejHL44qMTN4lJty/k8t/h+vUrHW9FSb6xzy3ADaSO6b2GFHDjo6al39rVsXJ/O2xR92lKtd39YlF90H0iObDZ1DvlEdUGqo7BJj08pvuE80YKkGPSP676i+4m23AvtPZlOXo6QyAXsuT8zITEPsWmC3Frn5gCVxOHd7a2otuAB7Dn9Z0rBGKtsxeeUtIoo+lNyJfr+gmPV8oKrZgEftTx2zTbRZOTVcuANh3AWgRoWkPWdj1ADxN5jNZH/ikv2Uv+Tf9GDXxrtmSL87se8maWhtG1qzKCCdY2RFHptzG5V/Mf5DgwmHQ+gms3vP6QXqGQJ648NNNSUrSPRBsne/+a/Iv7K/lW3O+2OGHJ/lJ/8ASM5zgnSVm1+C4bDAed1QXGzD0Ddv1tuPXY8zNTyd010juqU0oYalTeo6oSHbVsF13FmPHK2y1zPnRxy7iWP5QT47IOpj3sQo1QbXudttl1GWXO8c3ijHWVsmKySdpD92csb+kcyduZ+z3RV8Oit6RNlGs5455DtN4XRBNm67k9Y/iKYmprMBuYs7f0Jko8PGcmTK8stduEbxgscfuUr1rnWcbfVTcq7rwRqA7rdUEWLEk7TnLKJnKbb02NIxSWu4CqljfePhISoTx223fdoe18uyLjIkdszZaCdHdb2zB65VU3QiN4zrxIbKFJAyl9Rj6qk+ESOJIOa/WG4bDJjSDKCwqq/q7d4O2PJgmtJbS3KSb2My/p9o+cdFNOjUC+uWIOy1rnZzzETrIVcXympSw4QFzwy5k7Jpf06EKP1alBiW2HMcDLnVYXF+Y3js3jqtE7xnBqb3myYAmQbdo4j7yg2WFU+mQNhv3SjDMjgY7FQO06WtOhYqEPNG327SJHmjcV743YSLiR2oNRcYT8w7iZZRqelrXOy1raw4TXwGjdddd21V3AZs1tttwHM90V0vhET0gDtsM7zNuN0i/HKu4Rq6RqW6NWZUvkL2PVcbuU6lUcC5YnrN/jE6luvlujtZ2ZL3sButmCMhnExqqdmjhMWRbhvH0j/4ii55931mJoyoCG1ycrWsMztnYgsdlrTeHUzhHtRhLFGUrZpv5QoPZY9g+sEfKDgrdpAmE7sDbKV6VvsSn1OQPFE2W04x2J/cT8oJ9K1TsCjsPzMyzUbjI124nvkPqMr5Dxx9Gqa7H1mY9XojwldcblF+JzPjL6EeizatUlb7GtfPgSdk9RX0VQRb3LX2Zix7hsm2LF5lrLUznPs2Wh5XpGO+3wjeEwmsNYmy8Tv6oxXw68IiWI9HO22268ebpPHG0wxZ1N0OV8YFUqgsOO8xIt6/JUTxB+Uq+wytBrh/0nuuPnOSO7/DNp8flEHcL2ubX4RnD0zYE+8Pnf4QKKDkY3UcWsNgv3kWij7sqT0SS19i6iBr5EGMbATwEjAYkqCxSm+sLDpF1wme1QTa/M3glaHs9QCwyCUe979V92+RrkZZDr290iitOB6mZnaSpoWyOZ4Zm/DnLFyeJ8B3CcEP/rKNRd2NytUJJQYEG5BGw7+4ZzTONqWAUgG2bEfLYINUk6s07E9yU2thR6Ts2szXMbUmwBztGKeCci9rDichLh0T1Rrtx9kdu+NKtgrlg6WHJzOQ4mTVxHsINuV4Q0nfNsh3CW11QWQXPHdKCgaUtQax9Y7BF7y7EnMm5lCYAdedInQJF85VgYxqyrpCgD4bSLAqrEaosuy1hsGyX00fRHWfl/MzKiSHrNYKTcDYDumTjraK73VMUYEkAbTlNGvSC0wPzW7hc+LRam6g3tn3wzVywC6yhb55C+dr2vnuEKJIwyEDgDnzjC0r/eUmm6DcW7QB8IXzrgi9pP1iAztI0dXVOXDL764kCZrY2qzLYoozuLAXv8bTNNBuEAKXnXl+hbgZHRNwgBW808DpVksreku7iJndC3CSKLcJcJyhK4umTKKkqex7vQ+DGJzR1CjaSRcdkydN4ToqhQOrgWIKkEW522HlPPUVdc1No5RFRz6ROqOy/aJ2S6vvg1Jfwc8em7ZfSFY7RBYVtV7NkGBU8r7D3xnIcopiQL3G+cKdOzqcbQ01Mg2O2FRDtMFhsU1gCNa0M1Xedu4bhzMHHXTYcXpruL6QcgBF27T9/eyVomygWJNhy3cdvdCam/ed8nVjodFSzHfYcBlIVIxSos3qqTHRopgLuyoOZz7tsdJDpszQAJenTZtik9QmiDQTYC54nISj4uo/or6I4ILd5gFAkwefptbkM2jbaiD0EW/vObnsA2wFPR52ubeJ7TLvXppkgueO3x+koKBvReobuTbnkOxZN6afmbwEXq4pm2mw4DKBvAVha2JZ9uzgNkETKmQTAGyxlLypMgmBJbWnQd50AL6068redrSibJYAyjUxL3kAxMoXfD8JRsPHbysVAIth5U0Zo2Ei0VAZppnnOCniZo9HONMRdoCi1m35yemPu+MZFISOii7QAdOfd8ZIrn3fGHFES60+UKHQBap93xhVqMctkuEhadBm9VSedsu/ZCh0A1Of1lThQdpbvmtQ0W5FzYDj/Jy8Y6miqa5u4t1n+PnHoUotnn0wqjj3mP4fAu2SrNA42gmSIWPE5DuG2AraWqMLKQg4Ll47Yh9qRZtGamdR1TrIB7N5lFqUVPooXPE+ivjnFqWEdjcKSTvO/tO2O09GgZu3YMvGMPwc+kKhFl1UH5QL95gFwjsb2PWxMa6aknqgE95/jvilbHM2zId8AY0uFppm7X8BKVNIquVNABxI+UziScy1zKQE36DVsQz+sxPw7oMmVkQESTK3kGQY7EWMoZBlSYxE60gyBIMBEzpS86AFrybwd5cExiRbskgSmtJvEMt1TrSBJIgBwMntlZKC+wX7LwAsbcZ2sOMImFdtg7rHvtHKWiX9rLttHTAzr3l1W+wEzSbDUk2sO/5Ewb4tAPRXtsT8bQaKSFkw7Hd4xrDYJPaYdm353gUraxzy6/oMvCRVJPtZcNl+6TaGkPMKSbAD1m3hmZx0jb1QOu1vE3MTTCOc9W3Xl4bfCNUtH72J7MvEwK1BPpFzvtzGZ7znITCu5vYk8W/maaPSTcBz3/WCq6TX2F7TkPrEP8sinowe2/Yv1hSKFPhfvMy62Mdt/dl/MX1juEBWuDUq6V9wW5mZ9TEu20n4Dugw068BNtkNOvOkEc4CJnXkXEqTACbyC0reQxgIkmVvI1pBMBEkypM4NKkxiJlWMm8oTCwJ1p0j72zogCAfeU4NOnSxE3ldadOiAMlAnlHE0Y55ddvkTOnS0kAZdHKu1ieQAHxv8pcVKSGxXPndj45DvnToDKV9JX9VO85dwidSqzbT2DKdOkspArW3RmnhHPAdv0nTokhjdHADYc/ARpKIXcBz+9sidGAGppAD1Rfw/mKVMW7b7Dll/M6dEMDcyLzp0kROZ2SFvOnQA4yATOnQA4ypttnToAVLSDJnQEVvKmdOgSReQDOnQAhpwM6dGBVjKkzp0TA686dOgB//2Q==\n",
      "data:image/jpeg;base64,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\n",
      "data:image/jpeg;base64,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\n"
     ]
    }
   ],
   "source": [
    "for i in image[0:10] :\n",
    "    print(i.get_attribute('src'))"
   ]
  },
  {
   "cell_type": "code",
   "execution_count": 39,
   "id": "927e0e9f",
   "metadata": {},
   "outputs": [],
   "source": [
    "Input3 = driver3.find_element(By.CLASS_NAME,\"gLFyf\")\n",
    "Input3.send_keys('Machine Learning')"
   ]
  },
  {
   "cell_type": "code",
   "execution_count": 40,
   "id": "abc7735f",
   "metadata": {},
   "outputs": [],
   "source": [
    "search1 = driver3.find_element(By.CLASS_NAME,\"Tg7LZd\")\n",
    "search1.click()"
   ]
  },
  {
   "cell_type": "code",
   "execution_count": 41,
   "id": "03dd32b0",
   "metadata": {},
   "outputs": [
    {
     "data": {
      "text/plain": [
       "[<selenium.webdriver.remote.webelement.WebElement (session=\"1f7dd10e7145f0351027f3d6a117c940\", element=\"9395A2A64C06F24AB210641A4A9437AA_element_994\")>,\n",
       " <selenium.webdriver.remote.webelement.WebElement (session=\"1f7dd10e7145f0351027f3d6a117c940\", element=\"9395A2A64C06F24AB210641A4A9437AA_element_995\")>,\n",
       " <selenium.webdriver.remote.webelement.WebElement (session=\"1f7dd10e7145f0351027f3d6a117c940\", element=\"9395A2A64C06F24AB210641A4A9437AA_element_984\")>,\n",
       " <selenium.webdriver.remote.webelement.WebElement (session=\"1f7dd10e7145f0351027f3d6a117c940\", element=\"9395A2A64C06F24AB210641A4A9437AA_element_996\")>,\n",
       " <selenium.webdriver.remote.webelement.WebElement (session=\"1f7dd10e7145f0351027f3d6a117c940\", element=\"9395A2A64C06F24AB210641A4A9437AA_element_985\")>,\n",
       " <selenium.webdriver.remote.webelement.WebElement (session=\"1f7dd10e7145f0351027f3d6a117c940\", element=\"9395A2A64C06F24AB210641A4A9437AA_element_997\")>,\n",
       " <selenium.webdriver.remote.webelement.WebElement (session=\"1f7dd10e7145f0351027f3d6a117c940\", element=\"9395A2A64C06F24AB210641A4A9437AA_element_998\")>,\n",
       " <selenium.webdriver.remote.webelement.WebElement (session=\"1f7dd10e7145f0351027f3d6a117c940\", element=\"9395A2A64C06F24AB210641A4A9437AA_element_999\")>,\n",
       " <selenium.webdriver.remote.webelement.WebElement (session=\"1f7dd10e7145f0351027f3d6a117c940\", element=\"9395A2A64C06F24AB210641A4A9437AA_element_1000\")>,\n",
       " <selenium.webdriver.remote.webelement.WebElement (session=\"1f7dd10e7145f0351027f3d6a117c940\", element=\"9395A2A64C06F24AB210641A4A9437AA_element_1001\")>]"
      ]
     },
     "execution_count": 41,
     "metadata": {},
     "output_type": "execute_result"
    }
   ],
   "source": [
    "image = driver3.find_elements(By.XPATH,'//img[@class=\"rg_i Q4LuWd\"]')\n",
    "image[0:10]"
   ]
  },
  {
   "cell_type": "code",
   "execution_count": 42,
   "id": "9163fb57",
   "metadata": {
    "collapsed": true
   },
   "outputs": [
    {
     "name": "stdout",
     "output_type": "stream",
     "text": [
      "data:image/jpeg;base64,/9j/4AAQSkZJRgABAQAAAQABAAD/2wCEAAoHCBUVFBUVFRUXFBcXGhkaGhkYGRkaGRojIBccGSAcHBkcIywjHCIoHR0cJDUlKC0vMjIyGiI4PTgwPCwyMi8BCwsLDw4PHRERHS8oIykyMS8xMzExMzExMTE6MjExOjExNDEyMTExMTExMTExMTExMTEvMzEvMTMxMS8xMTExMf/AABEIAOAA4QMBIgACEQEDEQH/xAAbAAEAAwEBAQEAAAAAAAAAAAAAAwQFAgEGB//EAEkQAAIBAgQDBAYECggFBQAAAAECAwARBBIhMQUTQSJRYYEyUnGRkqEUI1NyM0JigqKxwdLT8AYVVJOys9HhNGN0g/EkQ3OUw//EABgBAQEBAQEAAAAAAAAAAAAAAAABAgME/8QAJxEBAQEBAAEDAwQCAwAAAAAAAAERAiESMUEDUfAiYXGxkcETodH/2gAMAwEAAhEDEQA/APzGlKV3cClKUClKUClKUClKUClKUClKUClKUClKUClKUClKUClKUClKUClKUGhSlKDPpSlApSlApSlApSlApSlApUmHw7yHKilja5tsB3knRR4kgVZ5ESenIZD6sQBHnI2nwqw8aJepFKlWziYh6MC+2SSRz+gUHyocYvWCHy5o/VJVTb9lSlXObC3pRvH4xyXHwSAk/GK9GAz/AIKQSH1CMkvkhJDfmMx8KYb91KlesLEg6EaEHceBFeVGilKUClKUClKUClKUClKUGhSlKDPpSlApSlArqOMsf1nurmreCO/XW/7PmCwqyaz3cmuThfH2bWPuJPuvVci1apGhNtdTpuRfcHrpr5Vn4odrp5e0gfK1a6mOfHdtyoas4XDBgXclIlNmYasTuEQHdj7gNT0vHhYDI6oCBfcnZQBdmPgFBJ9lSYyfOyqgIjTsxr1sTuQN3Y6nxsNgKy6W/EMTjC4yKMkd9I11BPQsd3bxPkANKm/qlwAZWSAHW0jEOR3iNQX96ipZpfo144yOcNJJRqUPWOI9CNmca3uBYDXPiheRrIpdzc6ak9ST+0mifH2i0YcON5pG+5CAPe8gPyqYYOEjT6UL7Hkow+TirrcBGY6aZjbtptycwO/2mlcQoEaMSRyZy0Kgh8mSyotiCCDexYG1mB0IsarHq32qj9Ajb8HiI2PqyBom8i10/SqpisI8bZZEZDuAw38QdmHiLip+KMbpck5YwBfoA76VYdpMPaKULJGwzGNiSupIup3Rrg9pf0hUals/dCuLEgyzXPRZQLyJ3Zusi+B7Q6HoauJw7Rtla2wIIN1YHZlPVT3/ALanxuFVQrxktE9wpPpKRvG9tMw3vsRqO4d4I8xeS25JMRP4rn8T7r7eDWPfcsueYj4dhBK5BJCqpdrWBsCFst9LlmUXO1762sdrkxqAVhjy30upe4A1JaQGx7wCAO8V8/h5mjbMLXFwQwBBB0Ksp0IOxB/XWknGV0DRKQbZjmctobgqXJ2Ovavudib15vq8927PZ24vOHEMFHkaSMZSmUsAGCkM2W4DFiGDEXF7WYEWtrk1p4/iYdCiKQDbMzHUgNmsEuQvaAJNyTYbdcyun0p1Of1J1m+ClKV0ZKUpQKUpQaFKUoM+lKUClafDeGZwJJVkERNsyiwNr3YyMMqotjc6nSwBN7MRwhiC8IeVA1uyhY2JIVuxcHYAg5WUsARqK5/8vMuWr6LmsyvVYjUG1eEW0OhpXRE5xbeHttr/ALVATSlXUnMnsuQ9iGR+sjCId9haST/8x7GNd8GOWRpOsUbyC+2YAKnudlPlXGK0igHeJX8zJk/VGK64aLriR3wk/DLE5+SmjHxUuCgQx5mVWOaS7OZDovJUABGFyWk3NaSYdEjnKiLME1yFmItdrEO7aZlB23ArOw8irhzmYqS0oWwvcj6M49mqDfvPdYyGYRSSLIpUSoucAZirMAxFswuLlgRmBF97jWs9S1pNg0+hc7NJm5WfmXj5fM5nL5HLy5vHNfx20rmQxhIiwjBBzDNJy/RkdgAAh0ux7t68UI0XJ5n1W+UxsB6H0j0jJpprqd/Cq2I4gy2yyWRFIAV0vIzMT6KOxVRcbm9l3u2nH6PHXO+q7tufw19TrnvMmf8AT05WYNGsLSAWQc7PrckWQqAzXJsCbXtodqoSIixuZg7TPqtycy9c0lzoW3sQxt6twT3CRiARI6pIq3EjWAcXAyvqLkXuGGtgRY2FuEviBorvMLaqpbmDbt29FgPxzoQNdRc9mZMOGNmWeM+i0TOPBoxzFPuDL7HrPrSbLCjrmV5ZFyNkOZIlJBYZhoztaxtcAX1udM2pW58rvE+0Ul+1XM3dnBKv72Gb88VSq5e+H8Y5flJGf2xVTpVnthSpIMpuG0G9/ZuPMX87UM57lHhlXT5Uw27kR0rp3J3t5AD9QqSKIZczXtewA3P8/wCtMW3J5Q0qd4ly5lvYbg7jxqClhLpSlKitClKUGfU2CiDyRob2eRFNt7M4U299Q1c4Xi0icswJNhkYLG5Rg6sGAkBF7Ai++tZ6303Pdeffy+gi5TxxqX+rk5UQiEi8xW54uc2W5sLmxUDUW9KvmsLiWikzobMAy+0MpUg+0E/r6VpR8UiVgwBDAggjD4S4INwQcu96z8fMjvmRcosotZVuQoBbKnZFzc6d9ef6PFls6nit99S5YrsxJJJJJNyTqSTqST1NeV1GhY2UXNSpEVPaGvRdPf3WH87V65HG9SIKVJOdfIdxv43GhqOos8xdxQ+qw58JF8xIW/U499Q4HFcqRXtmGoZTsysCrKfapI+dT4UK8RjLojK+dC5sDmUK636HsoR9012vBZWXMvKZc2XMssdr5c1rsw1traqzsksqTiKEQoqAPCGJWUDtXN+xJ0R9QD62VLXAFRwFZXaSV1DAXsQQpta7Erqbb5V1OwtvSLD4iBTKhyporMkkbqb/AIrBWIb2EGuTxEH0sPh2PeFdPlG6r8qMz28eU0WKeV8kQULlkuZAtgCmR5JDstk0FtFFgL9Ymlw6aLGZz68jOqn7saEMB95r+AqOfiDspRVSNDbMsa5Q1jpnYks1j0JtVaCFnYIu57zYDS5JPQAAknoAaa1J9/C9Hj2YhY8PBmOwWLO3lnLVYeZ3tHJK0h+ww4BHnkAQeQe3dXIVFTdhG2nZFpcQb2Nr+hGDpqDtszejN9Gla0RePCh2C8pc+Yk2A5mQMxOo/CEewVWLiEwhN0git9rI0snnGlwPNBUc0sRGUygg/Z4WJf0iUao34S2vLZJbX7KZg+m9kdVLfm3qhUa5kvnV55YlidEMjF2jN3RFAyZ+52OueqNegV5UbkwpSvSug7z+r/zRXlWoJBly5spGx6ez3/z31aVZcZ651eNirKHDNoSToAAR193vqkykGx0NEYg3Feu9zfy08NKW6nPN5rmlKVG2hSlKDPpSlApXrKRbxF68oO4ZSjBl3FWFxLOdWIPTuP5JHX+b76VKVZWbxL5+Uk418hpa1vC3So6VcwSBQZXAIQ2RTs77gEdVUWZvzR+NQ9o9nQRRiMgcx8rPcaou6p4MdGbwyjvrvA8WaONowivdw4zXspylCco9LsnqbeB6UXkLEsxJZiSSdySbknzrmmp6ZZ5XMfO7rEzG/YIGgCgiR7gKLKuhXQAaEeFQYaINmLEhUXMbC7HtKlhfS92Gp21OuxlwDXcRnVJGUEdxJsGHcwvv7QdDWlgMLGEQMFYzKASzlLDOpAQD0iCFvfr7bULfTMZM2JLDKoCJe+QdT3sd3bxO3QAaVe4bCMhLXAfNnI3EcYDvY97sUQewjrVHGQ8uR0BuFYi/+vj3+NaMoy4c/wDxxL8c0sp/wL7qQ69piXBSls05IV2Yxx22iVEDOyDpkRkUdQCx3qKFmYAozRqc+VI8wkbKPxnVSAcxF72ABuBtf3BnNCguBlaaM32BkjXIT3DR9fyKm4emfIjL/wAtkJWysmS2ZTlNmYEsupOS+trCseJtQzMUuXdnUMoIcNzEzAspVyBmYZSbDs6Aje68cYhuBIbZszRyEbMwAKuPvLe56lCetSLIWhBCgSG8GRQEDFixH1aWBbt6CwAKsdzr5xOyxW75FUeIijZCw9pkHmCOlCe8ZKbN7P1kD9V/fU8l2AGgyj1hr2VHfptUCta/cRb+fO1ewyZTepK3ZfdOjWN8q7rpmGlvOoGHZHgSPkD/AD7a6mmzdLf+ANfdXDNoB3X95/2ApU5l93NK0uBxxtNFnZgeagCiMOrdobkuLe41QkVBbI7OLalkCH3Bmv76xO5evS6541xS1WMObAdLkgkaHYWF+m591T5rX7RNtfS8Pv10kcr3lUKVbdr9m5PZYm+uykg3zGxuPnVSpY1z1rQpSlRpn16jWN7A+B2rylBPPKCFsq+iNgdNT41BSlKkkkyFK6hjLsqDdmCj2k2HzNapiijCgrGzDMM7mZQzgspBTLfIt03CHMrakA1nr6k58e7c51kVcinjaNY5A4yFijJlPpWuGRiM2o3DDz0t1xPCKhzpcKzyAIwsyZSARcsc4BJXMNCUaqNXnqdTYzZ8VcxWEVUSRZC4ckAMmRrDQtbM11vcXvuDvY2p1p8NfOrRtGspRc0SsWDXLrmVSjKWGUu2S+4063qYiZGACxLGwOpVpDfwyuzW99aYlu5Th/4WL76f4hV3hOIlEUioT2VUqLKSLuActx3X07zprVLh/wCFi++n+IVf/o4T2vExg+yzn9lInf8A4yCb6k3vrc638b1rYw2ikB6DBr58iRiPmarthw80ubSNHdpD3KHOg/KJ7IHeRXfEZiY1zaNK7TMO4Hsxj3ZyPBlotu2K+AxnKYkqHRrB0JIDAEEajVSCLhhqD51qyskrFw8ZO47Qw8q9w1IjNgBYgnbTLtWIkDkXCMR3hSR7xXX0WT7N/gb/AEodSW78tvMqyzAmySJzhyyjm4BLqrXy9ZVJHq7EaHJ4jjnmkLv3AKLk5QNhc6k7kk6kknrU0EuRY3YfgZMrgjXJIC2U39kg/PqniYTG7odcjFb99ja/nvSpzJKjpU2ESNmtJIY1se0FLa9NBrb+fEXOMQKMjrywMkYYRh1AZkZgbOouGAOuuqkHXfF7k6kdZPGs2lKVpHqMQQQSCNQQbEeIPSvKV2Y9/AKffb/Wia9SWy2AGpuSRfppodO/315zT3L8K/6VxSrqemOmkJFtAOtgBf22rmlKi5jQpSlFZ9KUoFK6RCdherAwot6Qv59x8PZVxm9Se6spsQSAwBGh2OuxtrY7VtTtFLZyyWZnNpZAjKzOeweWtyhvmvZQva7YvWMyEbi3Sua598eqy+1b56xocVxStaNe1lYsZLg5mdVLBNBlQPm0BIN71n0pWueZzMhbteMdO6vp8UyTYh4XjQFm7LqoDC4ve4AJIvc5iQQpFgTcfMEVqw8XAcStCjSDXMGkW+lrlcxXbuArUc+5b5itgcPLnDJG8mRhfKrEXBvYsBpU2GjaL0pRFtdUKySE2IACqbKe0fSZd+tRyYqI3P0dSSb9qSQj3KVruDirowKJGgG6ouUsO4yXMg8mp4S7fhPMqoBzFyIO0sBP1kht6cp0Kj2gGxIUC5aqUZ5sjGRrswLWDKmY20UFuyottpsth0pxCAKQ6EtHJdlJ9IWPaVvylJ1PUEHrWkoIVV+kckqMrIpQgEE3J7a6k76b3ontNRcpbDNBmsLXOIivYbDRQK85Cf2Yf/YT/Sprn+2v71/i0uf7a/vX+LRnb+a4wr2nZFNhIgUANfKwjVlTMrLmIZcl8wvc361W4wAWjkBuHQAkG4zJ2Dr17IQ9fS3O9c4+QrKjA3ZRGwc27ZFiHNiRuLbnbXW9Wp4WlMsaZnIZZYxqzFHAuBfUnK0Wn5Bo1PFlY9anCOJmMpG7OIuYjHLIVAsTmBWzBkOY3Wwvassi2h0IpWOuZ1Mdpcuxo4rhLqudAGRUV3HNido821yh7QNrggbGs6psTimkEYYKOWgQWFiQNsx6n+e+oacTqTydZvh0kd+oGoGt+vsq0xBQKPDvBN8oW/Q21+Ve4fReyBtrrrfX/b516c2Udlb320sN/H2fOusjhetqky2tqDfXS/fbr7K8q3iwLa2v0sd9/wDb31UrNdObs0pSlRpoUpSgz6UpQSYeUqb+Iv760BOMmW62GUk9enj4d1ZYNdCQ66771qdY5d8Tq6kxM5Y9LAm1Q0oBUt10kkmQpSlRXSIWIA61M2EIFwQ1tSB+sfyK4wzgE30BFr91TrlUliQTva9/L+f/ADqSOXXVl8KdKUrLqvYDtpJEdbqZE8HjUsbfejzj2he6rq5iqtymmLAMXVIrEkm4N42JIO5JuTeqPByRKri1o7s2ZsqhfRN21tcsBsbkivV4VdSebAQtgTnbre34vWx9x7qrlZNXMrf2WT4Iv4NMrf2WT4Iv4NUf6tH2+H+Nv3Kf1aPt8P8AG37lVMjviKaxs4dL3BRsoKqtgCoVVABBNhbdTvetjiC2lLqD2UkTKEzKwKtk1tkVQGHpWGRUIvesQcOH20Hxt+7VyIyKFVcVBZfRucxX7rMhK+RFRbJcxDx63MHfkXNvfdspa+t+Xyyb6331rkcFxH2L+6h4YSGfnQtYjMxdibtfU9m+pB1rzlQxdmWJnb0g6SqEZTqpX6s3Hjf3bUWXJke/1JifsX91UHUgkEWIJBHcRoakxRiNuXGyb3zOHv3Wsi2+dRotyB36VGpubXlK7xEJRirWuLbbbXriiyyzYUpSilKUoNClKUGfSlKBSlKD1LXF9r61bwoPMBjIB0vv10Nr+3rVOrEbgFMl1Nu0TY6+HSrHPubPzHrx8s2Ny1iNNLDUXv37+HtqvI9yT31aBVnIkawF7MB52sN/51qpVpx+/umw2EkkJWNGkIFyFBJttfT21a/qPE/YS/A1ZxFW4Bh8o5gmza3yZMu/TNrtUXq2e39IcRh3jYrIpRhqQwsfnVr6Gsa5piVYi6xrbmG40ZyQRGvtBY9BbWtALhcOwJWYy2vlPLJiO4JFrF7a2N8ulxfbMxjxHVDMXJuxkKG/ebjUm/f40SW1HhJwucMpdHXKwDZToyuCGsbEMo3BG4qymJgCshilIYqfwyXBXMAR9V3Mw176z66ijLMFXdiALkAXOm50HnTWrJVvmYf7Kb++T+FTmYf7Kb++T+FXU/B5kUuyoFXU2liY+5XJPkKoUSTm+1Xebh/spv75P4VObh/spv75P4VW8JwZQglxL8mM+iAM0j6Xsq9NLHXpqQAQaljwiOLw4OV06PJIQG+EKvkGNVi2fGqS4qAIyCKUZ8tzzkJ7JJsPqu+x8hSROcLx2vGoURXu+RRmzg2AkNyxIABHdbafFYREtzIJsNfQODzEv7GAv5PfwNUZoHiKOrXBN45UJsbdx0KsDupsR3VGpnwrVqcO5aqWZgGIYWJHhbTvqLGKJU5ygKQQJVAsAx2kUdFfqOjeBFUKsuU759czcaXFyjdpSCxbWxvplHT21m0pU6u3T6fHo5nO6UpSo6FKUoNClKUGfSlKBSlKBSlKBSlKBWhhfqUExH1jX5QOtrGxkI/JOi33YE/i61sDh+ZIFJyrqzt6qqCzN5KDbxsOtdzSGaQkBUFuypYBUVRZVBJtoLfMnqarN8/7VSb3J1J1JOpPiT1q1JgWVC5K2AjO5v8AWAlencpNXcLgFVAzhXLE9TIN0VVUROLsWY7noNKu4sWUq6IVy7KG15MbMEzrMwRgpO4O+oNqYz6/OR83XUTlWDC11IIuARprsdD51oYnhJV3USJZWYC/MvYEgXslr+yqWJw5QgEq1wGBW5BBuOoB6Go1LKsz8XldSjFLHe0USn3qoI8qscCwilhI9soay5tQWC52YjqsaAuR1OQbE1kE2rebsGWIf+zhmU/fZ05h/SZfYgqxnqSTJ4c4jF3/APUyLnLFlgjbtKADdncfjWJ6+k5YnQVxw+L6S4abmSHPGuYkZQGaxBB1AOgAXbwqtxXaAdBAhH5xZm/SLV7wjGrE6lluM8bZrm6hWudBv/O9Vmz9Oz3T42YwSkRdhHSNjGe0jZkDEMh0Ya93stUicshbdmDEHI6k35MgtZgT0FwQdyjMp2qlxidHkuhzKEjUGxF8qBb2Psph9cNiQdg0LDwN3X/CW91Fk/TLffwk4ThpRKy8t3AvHMqAsQpJVhp1BFx4oK9n4BiVZl5MjZSRmCNZrG1x4Heo+PKDiJLjcqT7Sis3zJqeaOB4oZJDIGKmM8tEYfV2UElmBvkaMeVQ2+L9/wBkH9S4n7CX4G/0qricLJE2WRGja17MCDba9j7D7qscrCetP/dx/wASvVjwo/HnH/aj/iUxqW/P9KNK9e1za9rm19Dbpcd9eVGylKUGhSlKDPpSlApSlApSlApSlBei7EEjdZXEQ78qWkf3sYh76qQylDcWvYjUBhr4HSreO0iw6f8ALZ/N5XH+FFqiarE8yvouGYhyiMou6MfQjuBZ43GZI1uAwBGa3Q63FdPgwqskUcqhuYTnWQ6mJ40AYoqoozklifadKowcSRCSAdQQbRRKT4ZgbgXAqDEYpGiChXz/AFWpy5exHk9uxPy2tY1j03XuKx7maRlkfIZWIs7WtnJFtdrU42wLqQbgrcHvBke1Z9WsZKjCLLmusYVr2tcEnT3n5VG/TljrhEYaeMN6OcM33V7bfoqam4M+fEds2EolDnwaN2Y+R18qi4UNZW9SGQ37iy8of4694L+GX7sv+S9InXz/AAsS4VnTlW+uw+YZRqZIyS909YqSWAG6uCNqyavYfFqyospZSlhHKmroBqFYXBZQdRYhl6XGlaBDyasmGxV9S4cRufvWdHJ+8t/GibYwlUkgAEk6AAXJPcANzW7hOH52jwlxcyCSdgRZbdgR3HVQxH35LdK8uyXF8PhBaxMbcyUg9AQzv80Heaj4Zil50EUYKR82MsWtnkIcWL20AHRBoN9TrVh1bZsZeKxBkd5CLF2L27rm9vLbyqwpvhmHqTIfjjcH/LWqCbD2CtDDD6jEfeh/XIP2mo31Mn+FGlKVGilKUClKUGhSlKDPpSlApSlApSlApWrgeGiTC4mXXPEY7C+mViQ1x4DXyrx+GBcEmIN8zzGMd2UI19O/Mpoz6p/pGZ4XWPmcxWRMn1YQqQGYg9pgQe1Y+yubYb1p/gj/AH6s4rhapg4Z9c8jsGHQLdwpt0vkNTxYTDJFhmkSV3nzehIqqtpMg0KnwNVnx8az7Yb1p/gj/fpbDetP8Ef79XcTwmNDjhdj9HKBLka5pcpzaa6eyoU4chjwb9q80ro+ulg6KLaaGzGhs+9QWw3rT/BH+/S2G78R8EY+ec1fTgiv9PCZr4YkoN7qruGvpqci9OtQwcORlwJOb6+R0fXoJUQZdNDZj30Nn3qnPi1yGONOWhILEtmdyNszWAsNwoAF9dTrUWExBjcOBcgMLH8pCn7aucXGHUtHFHIrpIylndWUhSymwCi2oBrjhmDWRMQzXvFEZFseudRr3ixNF8YoClaXA8LHI0pkDlI4XkshCklCulyD0JqtjmiZhyUdBa1nYOSb9CANNqjW+cVqmwWI5cscls2R1e17XysDa/TatH+kfDEgnEaElSqm5Nze5RtfvKa05uE4TnzYdUmV41kIcyKVuiZvRy/tqs3qWfy+UUWAFdq5AKgkBrXHQ2va/suffWhieGZcHFiVv23dHHQEE5CO7RTfyq3NwiNZ8VGM2WLDtKuovmEaPqbai7n5UX1RhUrTxnDcmEgxK3PMaRHvsCrMFt7VU+6r7cIhXEYtG5hiw8XMAVgGbSPQsRb8Y9O6h6o+dpWvxPCQ8iKaJZEDvIhWRg3ogG4IA76yKiy6UpSitClKUGfSu+S/qN8JpyX9RvhNBxSu+S/qN8JpyX9RvhNBxSu+S/qN8JpyX9RvhNB9P/RIgwzo2iyyRxH/ALkcqD9IrXvHhkwUcJ0MMkSsPy2geR/m9vKsnBzlMPImVxIZYpE7LW7GYk39pFWMTjObE6yK4eTF81hlYgIUKmxtra9reFVxvN3f3Xcev1U8PWHD4RvNTmc+6Y1m8V/4bA23yS/51acvHnklxCyNJ9HkSVEXIxC3FozltcbD2XqtGYpIsKJJJIngz3XkPIGvJnFmBFtKLJZmz8xxwUrysdzxIRlhz5SBJfm979b2verE5j5fDuUHCc+S3MKlr8yK9yum9QYrHK5x5CyfXmMx3RtcsmY37tKhTEgR4Jcr3ild37DaAujC2muimiZbfz7NTC4zky8Sk3CTpmHepxLqw81JHnXuLwfJk4dHuFxEmU96nERsp81IrMnxIIx4Cv8AXyI0fYbUCdnN9NOyRvUzcTzDh+dXvhms/YY9kSRlSNNTkX5VC838/hR49yOZJy+bn5j5+Zy8npNfLl19Lv6V3wH8Hjf+nP8AmJXnF8NEWeSKSR2eRmyGF0sGJb0iTe2g2rrgbqgnSQvGJYjGGEbPY51PojwBqt2fpdf0Yy5sTnzZPos2bJbNa6Xy30vbvrjhsEUmMgWLmZC6E83Jm7LZ29DS2UfrqbhqxRSSrzJGjlgePmclwQzlfxLkkAC970wHLw83MR5JMsUuRuU6WkKFFFiT33vRLvw84vKZIsNN1Mk6k/8Ad5qj3SGtviLRxS4zE2d5FkeEqCuQB4gFc3F7XuN9xWLiOJPLh8kzSPKkquhZSezkKsLgaa2NWMRj0fEYwkPysQpAPLa4ZbMjZbX0YH30Y9N+35qXA9vBwYb7dMUF++kiOh94K/nV3iv+Lx//AEbf5ENY8mJYRYQIr8yFpXPZawLOjpr19Gr+L4ir4nFyhXCzQNGnYa+YxxrY6aaqwv4VGpLv+f7T4bt4ODDfbRYkp9+OYyJ7xnX86u8b/wATxP8A6f8AZFWQ+LZY8HkV+ZAZGPZYC5lzrrbW4GtaMmOjfE4x25iR4iLIrctmKm0e66H8U0Syy/5/tk43ABIIpEmMiOzLlyMgRgAW3Y33tewvas2tvibRjDxQxNJKUkkdmMTRjtAACxJ7qx+S/qN8Jo6Tc8uKV3yX9RvhNOS/qN8Jo0u0rrlN6re417Qf/9k=\n",
      "data:image/jpeg;base64,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\n",
      "data:image/png;base64,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\n",
      "data:image/png;base64,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\n",
      "data:image/jpeg;base64,/9j/4AAQSkZJRgABAQAAAQABAAD/2wCEAAkGBxQUExYUFBQXFxYYGhgYGBkZGRkZHhoZGxkZGRgZHBghHioiGSInHxkYIzMjJystMDAwGCE2OzYvOiovMC0BCwsLDw4PHBERGy8nIicvLy8vLzEvLy8xLy8vLy8vLy8vLy8vLy8vLy8xLy8vLy8xLy8vLy8vLy8vLy8vLy8vL//AABEIALEBHAMBIgACEQEDEQH/xAAbAAABBQEBAAAAAAAAAAAAAAAEAAECAwUGB//EAEoQAAIBAgQEAgUJBAgFAgcAAAECAwARBBIhMQUTQVEiYQYycYGRBxQjQlKhsdHwYnLB4RUzQ4KSouLxJHOzwtIltBc0U2Oyw9P/xAAaAQACAwEBAAAAAAAAAAAAAAAAAQIDBAUG/8QALhEAAgICAQMDAgUEAwAAAAAAAAECEQMhMQQSQVFhcROBBTKRofAiscHhFCPR/9oADAMBAAIRAxEAPwDu6cUrVJFvt+IFAD2v7ajUsh8viPzqRjv2v7RQBXSqfLPl8R+dPyz5fEfnQBClUxGfL4io0AXSQWt4l1F9/uqvJ5j7/wAqePe+mne38d6lc/s/5aAIZPMff+VLJ5j7/wAqnr+z/lp9f2f8tAFbpb8xUaIVj1y2/u/GmYHuvlotAA9KiOXmHS47W19w/GqCKAGpqlTUANTU9KgBqVq8y9KPlClaVoMEBZSQZbAkkesVB8KqPtH26DU8jPNJM1pcU8jE7XlcX7AWsfcKVlc8iie9Wpq8WwGCWLN/xTwyKCQgSZSWAuq9LX01Peu59FuNYhZUw2LU5pEzxMbZramzW7gHex013oTKodTGUu07G1KnoXieNWCJ5WvZRew3J2CjzJIHvpmkIpWrlfmuJnGaed4gdRFCcuUdmk3Y9+lMnACuseJxKH/mZx71YWNAHVUq5peNy4ZlXFZWjY2WdBYA9pE+r7RpXSKwIuDcHUEdRQA4pzTCpxN0OxpoRClUpEsbVGkMVKlSoAI57WtfSm5h71CnoAlzD3p+Ye9Qp6ALUmO4OvbvUSoOoIHlUBV5C5b38XUWoArCeY+NWMg3P42H4U0aDe5sN6JxGMzAACwFAFKEAEWBv3P8qbTsPj/Km5p7n9e+nEx7n4fzoAfw9h8f5UvD2HxH5U4kbpf/AA0+dv2v8NAEfD2Hx/lViLp6tx7f5VHO37X+GnBY6nN8PuFAE/m2t7EW2sd/u/X4u+GDa2IPt/lTBm3IbyFtvP8AW9Mc37V9723/AJ/r2gFfzbyb4/6aQww7N8f5VbmuNmB9jVViZ1jRndsqKCzMcwAUC5JNu1ADNhrdD8f9NcJ6W/KBhYEkjhbnTEFRkbMisdLs9rG3YEn2Vwfpt6cT4+Qww51wwJyoCQZAPrSHt1ynQdddawOVAsRXxPOStmU2jjAJzLa30hOmugFtL00iE50PhYnMSIgJLs9wB62UJa57C5Oug3rawmFRFQwszYhWDs4yiKNQOrEam9vFex27UNBC4SOE3XO5LroDlbIFzdRsSAfbbatOQBVGYeG7cuJbhfCSuaRr3Y6Hz8wNKkoHOy5ApzKyvilXOVKhpyAqqdFAiQ79BmsT5LvUJI5sPJDiiwlDFXDqxYE2u0bNbRrXBHt7UpcLPNA05YcqM5Ql7BdvVQCwHiHnTyBLBsKzMCo5sElibgeI2Fg63vt4l39j7DKpbtHqfo/xiDFRl48wsbMrMAQbX+zqPPyrlvSv0pw7SR4eMlgsyGVyQVsjA2BsL+KxJ28NXfJYuVsUFzBSuHcC7NbOjsRcDpfr2rG4LEow4KpmJBJGnia5BBv56a7CoSVM7OGTlBNnaKtCY7iIjOVY5Zn3KQoXYDoWtoo9u/SuBPFsREgjXFA20yrdiB2Dlf40fwXG4jPBHhcTmZgZJEYEKG3YSHeTTS++gtbSq2zTFHVq8WLikiIZTazo65XQnVSVPmLg+Vc3wHjz4NzhsSDkU+FhrlHQj7SHfuPuHRIjYrEPLITDPCBFaJw3htnDHMviDZtARYW71m4jBS4md8PiFhKxANzVRg5D3ygHPYHQ3uCPDtUVIm8do63DYlJFDxsGU7FTcVdauPX0QWLxYfETRv3zAg+0AC9Hej/HJDI2GxIAmUXVhtIvcdjb8DoLVYpJlUoNHSxpe/fpVdOjWN6eRrm9MgRpUqVAy2lRMWDZlLAXAqtoWH1T8DQBXSqXLPY/Cn5Z7H4UARqaJf2VMQG1yCB3/Kou1/Z0oATtfyHQVGlV0Sg2FjmJ3uAPwpgU1MDqf96mYwD/AK1qJUnt8R+dAiDG9TQW1PuH8aWW29vIXB+NNa+tCBks4/QH5VFpSe3ssNKYjzp1jJ2oBDGQ/oCnWU9dvYPjSyjv9386msYtc9dth+JpAJ5T2U+dt68/+V/ihGHhwy2X5xKFYga8tSCRv9op8K7nH4uPDwySyMBGilmJANgOwB36WG968U9LfSCTHy4acQ8vDpKY42JUsz5kZ8wB8OgXy31PRpCbpHLxp4d+XF5avJY/5tfYo9tbHD8U/LCC0WHDo7dTIyG413dt9rAX1tQ+CwgYJoCQoChjZczTuoLdwL3tWyODfSyRTTqsoVeVp4GJ+oW0EVhsLWq2MTHlyUS9H5iI5k1tJLhyfdIza0XhcSVkUoVWWJ5MmcAo+ZmJU30B1I10PcGhsBh3AlitaW6ELsSVJJC9zqCB16XpyFmNjZJTp9lZD2PSNj39U9bbm5RObKbbLWN5c8acuRWDNA18pZTfwA//AIHXtfYLiE0UyyTlimIzqEiQG2mUX2uTvrcajaqpyVPKxCspXQNbxoOg/bTy6dD0JmKhkjymW15RaLEr4sw0uCdzoQC1s48xQ0JHV/JoxMuLz2ZsmGDX6MEcMNL63uD5iuR4Rib4aeIHxKrMP3T61vv+IrpPkqBjbFKbAjlqdRuDKDvWL6G8OE7PEGEc9ubAzDwuNVkjburCx02yse9Y8rpnc6TeNGl6NLNHCrYbB8y4u8rsql26hAdco2He2163OGvh8XfNEYsRGfENUkQ9wwsSPb7xUOC8WfBquHxkLxBLqkoBdCtzlBYfC/xtWhx6FSqY6Ahmi1JQgiSH+0Qkb2FyOxFZJS2dPGlQBBw6DByPLlxMsjAjNlaUkEgkXVbDUD1tdKyTxR4mfEujrJK6xDDujJdB6hDkWzak321I867rB4lJUEkbBlYXBH60PlQ/GcKkkEqSWyFGvfpYXv5W3vSU97LXj1o57hHpNFO3LKtHJqMr9SNwD3GuhsdKA9KlyYnByLo3NCe0Fl0+9vjWPjcOxxODkX15kw8jeb3Advflv8a0vlFlZGwrLoVZ3B/aUxlaui9mecW4s7lhY2pqzOBekceJsjK0U4XNkYWBHdT1X7x7NtQi2hq4yUNSqTLoD+v1v8KjQAWs5AtfQ9KrNNTigBU6rSUU5NAD36dKtfDsACQbHaqRRD4piACTYbUAU2NWpDcEkgW731+AqK+38akNtx8WpiIiPz/H8qmlhsR7SCf4U9vNfi351KGO5t4PezfnSGWBL/XX/Cf/ABpGHKNWHssR/wBh+FGxxAbBL9LE/wATUZI/2V/xf6qAAmK9wfZf/wAKiWQi1z+v7tTMZ+yn+L/XVLL5L8f9VMRMBfNvK9/+3SkUUk7+4/d6tQUHoFHmDr7tfwppJLaD9fmfOkBhfKHgFfh2KTUERF76/wBkRLb1euQD314Pw5zlgXoJ7/8AS/M133yqelbnPgofVGUTN1JNmEa+Wq5u97d68/1jWMbOrl7b5dEy5ux8J0371ZFFOSQbhEYmFEXPnRlKHZvppDa/S1r3uLWrYwcPIlZ+WsuUMskUoDMgYWJ7HQ3DjbqBWfw6fYxA6HMYsxzKftwtv7tT3DDWirjOZTLOGvfMYtb/AL3M91XxiYcrZo5o3U5QzRDYXvLAPI/XT7v3TqY4pQwBlYEHRJ1BINvqyLvf3Zh+0LVbg0AmDDwvHIqsVFlfNmGYL9Q6agaa9Kow0pYZlUIz6FWFopiOnZG+A7FTV1GKtkcY7ShBJio2Ea5EuJtFve1+VrqetVycPcIr8wMg8Si0oBBdUYpnjVT4iAbGjeE4kQymSNEJsUaKZlQoTbUM1gw0t31sR1q2XFEwLESp5cZ0R1YDPiozbwkgaW0qEiR0fyeD6fG7+uO/2pewNZHoQvNk5BYo4vJh5B60cq2vburC91Ohy+dbHyelefjsw/tBuSPrS9gaA+TjAM+MVwPDGrMx/e8Cj35if7prm9TKrO70K/60egei3HmneXDYiNUxEQ8YGqyLe2dQemq6dmHup4lwVMM/MiGWCY8uaIeqrP4UlUfV1IUgaWYHpVXpBEcPiYscqFkVWimC7hCTlf3H8BVvpBxqPFYd4cKTLJIosqgjKoZSzMWtltpvrcisPde0bYpqSa4OI4aY0ghOGeeOQuqzuA5jUHRi1xy9NLEa961/SjCsWiiEjy83MnKZ8oOmkhyAaKdSDppRfBPSCBMOkLBhKi8tocjFmcaEAWscxve/c3qPodwNMOW5hBnKXKjXlIToL7XP8DbQE1O/JrWuUPFw9fniAerhsMir7WZlX/KrfGhuGJDjsPEZVDlD4hcghx3sdiNbbG9F8FxWfE4vuHQD91QV/EH41n8M4ZbEyRp9EIhmLRkAyiViyB7gghbMOvlappku32FxkD57gQv9ZzGOm4Swze7f4Guxnhv7en67fh7NvPfm0uHxz4li00cXrFiM+Vo7kAaC6hr2FvjXo2FxCSorowZWF1YdR/A+X8xWmD0YOoi1K60A3tdSP5frSoUdNF8Rt+u34ezYaSLXarDNwT08/uqSqPOoKKvglyn1QRbY/jSGQuPOgsbxfDwsqSzxxu2qq7qpNzYWBOuulHE+Q+/868u+UzhPznHRRAXY4WZkH7aF2Ue+1vfQB6VjMVFEhklcRoLXZyFAubC5J01IHvp8Fi4pUEkTiRDezIQwNjY2IOuoIrzTifGP6Rw+ChBuZEefE2+zApBB8mkB+6ifRnjPzX0fE2mYLMqfvtM6p8Cb+wGgDvsBxOCZmWGZJGQ2cIysVJuNbHTY/CrOIY6CBc80qxr9p2CgntqdTXknofLDgsZghFNFIuIgEU4Rw2WctmGax08TIg99bmGwceN4ziFxKiRMMiiKFvV1C3Yr11JOu9x2FMR22H9IMG8bSriI2jS2dw62TMbLmJPhudNaMkxcSx87mLyrBs5IyhSL5s21vOuP+UPhmHh4XiuTBHFmEWblqEBtKltBp1PSsLHekuKPCmiPDZVjOGCc7mDLkyAZ8uW9utr0AerrxuEJG7TxqsthEWlUB77BLnxX6Wp8TxmISiATxiZhcRmVA5Fibhc1zoCfca8h4v8A/I8F/wCdB+Aov0r4NJiuMSDDuUnhwizQnTWSORbIfaGYfC+l6QHp0uNVXSJp0Ekl8iGVQzW3yrmu3urOxfpLho3KSYuBXU5WVp0BBHQjNpXBScdTGcQ4TKvhe0yTIb3jlVfGpG++o8iKykH/AKnxH/04Y76QfZ+j9bXxKfW/7aAPYYZs6hlcMrAFSHBBBGhBvqCKcRHy+IqvAQDloAFjAVfBrZBYeHbpt7qNngyWBIHUb/4jp91AzwDja5MXjQ1wwkazblQ8q2Ydjkbca66VFMHh41xKoRKDFGVci5RuaubK1hY2IuR0JFbvyqRxpj43iJDyRpzQdnGdkBI63Vbf3RXFM2UYhRoALb9BMlbcauNmGcX3NJhnCJcKEl5qyGS30RUkWbXXfvbetvF4vDsjtDzRHysrcxmIMhZSALsbm19qyp5OcYSwzcuCGNVuFuc5QXI2Fz7fMUpZ5F5ZVSS9xFIVypo2UiBSLCzaFzrfXQ1dGJRPFbu3+psNi0jkmfLfLLGbai9i9xfpRmEx8XLSKa8mEW5GVSHVzcqsljcas1iNDca7gc1IGEcgUNJZk50guUU3IVc1upJ8RtcjTudXht3hiiiWMTNK4Lt9ZBEpKObHMnXLY60NbKHiC+I4RESJprGOUEwuCWkjTQqHH9ooBGgJtrY9Cn4SYEkLgFJI0aORTdXUTQglTv1GhFBR8MQ4iGOS6KZ+RKqtcKQVuY2PQ5hoRcedDYY2+dKpJRVAS5v4fnUIHlr5VVNAsXud36DBTPjcun0mtzb68veuy+T/AIcsWDjYDxSeNj3ufCPcoH31w3yfn/iMd/zf++Wuy9BOLLylgc2Zb5b/AFlJuLeYva3a1cfr3TSO50UJfRdeOf3Ojx0TMjCNgr28JIzC972I6g7H215/w2DEnEsIligkQMrlEstiR9U3BuQCLAV6PNMqKWYgAbk6CuQ4LiTJjZXCkJImbUWuoKqre8An31z02jpdLfZN1pLz6+gBhuFHBySYh7zXBJZQAysxuzFSbWPUg3HaxNX4QuuEmxNvpJvpT5KSAi37BPxrp54wQQdiCD7OtCcGjR8Mo3UxKtvLKAR/CrO50T+ppSa4av49DlMdwMyP86w8/LzjMdD1Gu2+2qkbiocKxkcV1SQz4iXxF2uitlBt4j9Ua7X3+BfBY3hnbDlsyZSy+Wo+F76+Y86t+aqs0kRAMci5whFwGvZ7DpfQ1fGRqcN1d6tfBhf0Ss8RfmvnmGZ2DHKWtsU2yja29hvRHyYYlhz8O/qrZx+yblXA8rgH41XFEMNM8YJ5RUyAHXLbcfcfurX+T/AgRyTn15mJ9iqTt7yfuq7G25UVdbCMcXd8HUkdD7jVXLq7yNPY/q1akcRmePuqYFQSrBSGSjaxBG41rFx3BDJj4cbzAOVG8fLyDxZs2ua+nrbWO1bFUHE/S8q31M97/tZbWoA5ngfoQmGlxUqyX54ZUGQDlK5ZmUG/iFyvb1fOhf8A4fk4XC4RsQDFDKZZByv667lgvr+EWZh9bcHpXU8Sxbo0axxq7SFgMz8sAKpYm+Vr7bW60VgXkYeONUa+gVzJcW3zFFt10t0oFZzfpJ6BwYiJViSHDSK6ussUCKQR0suUka336A1Hj/oYZplxeHxDYfFBQruqArJYW8SX8gOosBobXrpcBi+ZPLDlI5YBDXFpLWEmXr4CVU+bCnkx8izcqKBJMsayMXlMY8TOoA+ja58Bpgc3iPRXETYTEYfE4wyvPy7SclVEYRgxCxqwBvbfTpvatbFcFMmBODzAXhEPMydlC5st/K9r9d6Px/pKvzeWXksXhflyRXGbMSlgpBs11kRhrqGF7G4BGGxiugdMpVhmB8Wo9l9PZQJo5LG+hheHAwmW3zR43zcv+syW0tm8N7dzvWpHwMDiLY8SWzQCHlhBp4lbNnJ8tsvXejcLxrOuGYJb5wmcak5fAHt572qHB+PrOZFChWjd0ZW3IDugca6qxRte6sNxQJWYEvoJH/SS8QjlCEHM8WTR3KlWYNmAW+YEjLuCetCT+hWJTEz4iDHmAztmZRAr7XsMxfpc7Ab12MeLQtKCAojCkktpqpY9dALUEmPnkUPDh4zEdjLO0TMOhEYjewI1sxU7XAoHsMwQdYo45H5jKoDPYLnYCxbKNr72q83379PKpYezKMwCMQL+IGx7XvY1EqRvb4/hQM8o+VjhxOLwkltJMsJPZhJcD35z8K4PHplkxS21Qsp9onQb+77q7X5aeKZpocINhaVze9y5KKPcMx/vCuExEVrhiY4VYhVHrSEEjNrvt6x0GwHSt+G3FJlUoq7NHANrHp9WD/rinjxLP8zjsSFdsuv2prn2UPhZ7NFfQyGIIouckayggljuSQfx00FQ4dirNEyFRLC5ZBJbI/izgEmwBvpY6HuDvojErcQmLEssOJjsbM8QYX6q7nb2ijMCyRxwzTRs0QmYEKbEnlJa2o6i+42oPDwTM8uaJZOac7KsqLYgsxIs2gGY+6tTFGTlrD83XlKeaqHFRsokIClj4gToAMt6UtNEHDZHDshkw5SNkSTF541Y3OQtEoO+1wRfuDqbUDwphlxOn9nH/wC6w9aWG9HMYk2GxU6jI2IgXNzIm3kXKAqsbCwsANALbVj8Ibw4nX+zT/3eGqmVPgkobR6L8nZ/4jiGn9sf+pNXZcJ9GY3iRmJJYDY2A1Gm29cZ8my3xPEdf7c7n/7k1ei+i7nkm50Vja/QWBP33rz34q6lH7nV6SU4Y5OLra/yZLcMEcvKdXmDqeXc+oQSGvqAOniHwrb4HwgYZCWYs5AzHU2A2CjewuazcZx5UDSIAXcskd/sqfEx9rHbrYdqScQfNA0cjy5iBIuUZQDa50XwW108qwRZtn9acd6T592v7f8ApVxXiDzRyiAWVdGZrqdBdlVbXvbqbUL6OJiIonylSuUsEa+nvG1+2tX+muHsFcEoGYK9ifEpBILAHxWsfjV3ApmtLG/rotm7MPqsPIirG9F6aXT6Spvh86ryCejwJMkkn9Yz5W/ZCgWUdhr+FWycPXETnMTliUDwkg5mubXGosAP8VBRzIs7h5Cl0U2zZQTqCfaBb40f6H4UrE73JEjsyk7lRoGPmbE1qx7pE8twuadOlX39PhGD6W8HWIK6s1mOVgzFtbEjxHX6p38q6T0fTLh4h2UfE3P8T/tcDJ9KpRKUXxctWALAXDMTlKhulgW1110roDHk1XQdj08vZ5+ytOGK720ZevyyfT44y27b/TgLR76H9fr9eduUfq9CqwbUH9fr9WuKmJPL7v8AetPBxgYJ5iphfMVWCD5GlekSLcvmKAy2xXT+o/8A2UYGtQmIwKO+djIHAygpI6aXvrlIvr3piB+NROZsLlcKc0tiRm05TdLijZZ2ggkkkcSZAWsoyljbwoBc6k2A8yKHm4WjhAzS3QllbmyBrsCDd812FidCauXhqZcrZ2AdJLPI7+JCGQ+InZlBttcCgACKeWCLDs8DqYGPPlzQWKzG2IYgSlrZ2WXQf2dE49sQcY/IkjQjDxXEqPJm+lmsLrKmXW9zZt9tNdLEQrIjRuAyOrKwOxVgQwPtBNKHCor5wDmyLHckm6qWKj23Y67m9IZhPJfBvJmYvJNG02Yi/OWaKJlNtPBy1QeSDfejJZGw0pYEiCZjn8RtFOx0e2wSQmx7OQfrsQY/DIyJAV0kdZHGYi7rksQL+H1F0G9j3NaY4csiMsqhkYFSp1DKRYgjqCOlAWcxwnSLhhLsDyTpc6DkJ0qjAYZzDzYmPOjnxeUG4EinFSl4mN9A1gQejBTrYg9fFwWFREAp+hXLHdibDKE118WgG96jBwqONSqAquZ3OpPid2kfU92YnyoA4vG4tZ4cZIpZkaOPMtjmIVWEsZXfMAHUr3uK6HEyyOoMMiC9iCwZlKkaWysPLW9OMAkckjqgVpSGe31iFCg+2wGvWgBwSNbhGlRTc5EldV1+yoPg9i2FABPCMa0sEUjNZnRWIF7Aka2udqNEx2zH7/zoaCBUVUQWVQAo7AbCrFW/soA8c+WjBFcfh5b3WRFAPmkhB+5lrkV4W2IedhKvNV/DExOeUXYHIdjlCjS/UWr035b1Aw+He2qzeH2FGJv71X4V5/6QYCKGflTKh5kaSmWDmXRpFz6o7kMBc3XS4sQRtW3DJdqKm9mXiQwEMq/2aqrH7EiuxysNx033+NWw4FZUeZUlVE/rMkYkVSeoYyKbdbG9u5rQ1QqZWFnFo8Uil0kXqkyWvINrgjmLpcNoK1cLAixvEmJWGKW3Ohjmwsit0bJLJMHjDADQqSNjmtWnvSQuTF4Xw6bECRcLF9DEvMlZyBmC+Icx7ga20jBt7SM1divGWfm8THCYPm3JXDBCygNIXsHjGT6Q65SAt7C2bQ1kQ4fP9FdGhU5lw0Mt4VF7c7FTg26DrnY2AyXUUbxCRgA/NZI0DKMQVsQNjDgsPccsW0L6HqzJexz5JqUkn/kODmMLh0wbLLKM2IQhkhG0bg3QzsNiCL8oeLTxFbWNfAkJTEtrblxAm2mZsVAQL9yFYgfsntXUTMRhkw7RHD4a4kGHWxxGIYerLPKR9Gp0N8o0tlUixFUfDOYsbzExQLYwwR+G501QG977NK9z+9sIyzxS2a8PR5czXbE6j5MDbE8T1/t/P/6k3Y13eBwEjRp4VMfrFCxBe+xJta2xA621rkPkzhUnFSN4eY/MbqAXaRrDUeyvQPR3HZ0EZ3RR712H4VxeucJzjfvX2NLw5On7oNbVX7Wv9nFSYl1Z4wlgwZShFyFzM2UHe+p19/au7wHEIWQFGUKBtcC1uhHS1ZuC4nAcTKbqpOUKxIAYLo1j7R77Csfj/KkkaZVDqpjU22di1yAfreEW94rn1RsyJZmouLjpO/Vug7i0Hz0hImXlo13fe5t6qd7A77ajeoYqRY5pZDoogVbd2u1gO5sKzp+IPG7mIchWUFUZQc7DTQKbKdQPcL0NgYfpZWnJkyKC4v6zuQFUeW3w7VN8FsMLUNv+lLS87q/bnQNgMSjhzO4EbOGKqpZyRay3GiLoBrrvte9dM3FUdI1MTJDL4EYMF/dFlN1BtYa0Rw+dQ4jcIjZSUCtcEDQgaDUdrfxty/HCnzkpEpdlCuArWSN812JG2otcC2taItrgbcc06pryt6+3Ht6l/pJgmgiQxOTEjg5GsbG91Ia1yL9DfeuigmBFx21HYfl+HsrluMcSbEPFC6cpWZb3Oa5Og1HTU/HyromUo1h029nT3WrZh5dcaMf4gpLHBS/Nt/Z+rXkIkgK3ZdhuO3l+FSRgRf8AL/yH6+AnDib66eYtt/p/C/aovgbm6mw7a6eVaDlK/IMKNwOH5ht2+NqCq6JyDobeYoGXYjD5WOu23T7qaKC+pI+Iql2ue9XQPfQCgQ0kRB3HxFPy/MfEU0lz0PwqfLYbKb97H7qQDiO25HsuKex7qPYR+dV8pvsn4GrGjKesNeg/ifyoCgmHC2sTY32H51opWXgzrmbrt5+fsrVjS4vQMciqZaTvUYjc0ACTkWN96Bcf71r8QwoIFrD21lBbE+IW9+tAitVv7OppM1/ZTyHtt+t6govQM4z5XuHNLggyi/KkWRv3SGQn3FxXnyZUxUUs8AxCHD4a6OWXMpwsS5lYdQQ2uoup6i49znCspRgGRgQwP1gRY3HbyrzD0o4H8xQHWbBs5GS9pIGa+sb9Pfo2gYE2YX45a7SuUW3ozsLwMAu2FvJh3/rIJRdlXpzFB1y30mQ3HdSbHqOG/JjE5V8zKh3UkFl2uM1rNvobDzFctweJxiMkZzhsNiJUaxW6GCZRmU+qc3hI112JGtbHo76VyBMPYsM2KWM76qVj+7WqOoh1EvySHDp5Slt6O6j9BMMCg15SnMsWylhpncjV29p8hYaVZx7gsbSIUROblIjLWsuXUBFOgPbt0AOtcu/pvKMshDNGmdJgli0bcyRVZk0sLFCCdCRa4NR9MONrKFKkobZVkvaFzvkZjrBJ1s4A87WNc6PTdU5pyl/PJ1MOKMJpuq+L+LXknguGoXdWQviSWsjmyjS7PIx1a2ptrfTe9xj4rHBJbRvzZGYK0w0J1Ayx/ZXpmGpG1l0OR/ScksyYbFI+cssYkN+ZGWIVbk6SprsehurDrlYGDE2jnjikZVlREbKShlDjIuvdrDtra9dSHTOts6S6yEW/jjx9vb2/Wz0z0NN5scCNVlZT5EPKPxAHvrRm5kcKsTaN7Bivrne177jfQEVzfyezytiMeZ1yymRTIo0AfNLmA1IsD5n212/o5wZHhjllu+YZlUk5VB1Hh2JOhrm/iGOpRXpf7mL/AJC+pKcvPbrm6VaA0wKSwq0mIAhjuAeXlJ7i5JuemgPvqrFzxsqrCcixMCiMNXY7Egm5BuQD5ms3jXFX5nOyI0CySQRRn1brcF7DTWxt5A9q1cFwtI7MxLyAWzMb28lHQdqx9rRfCSatt+qWqV+vuY+P4oWlTOgURuM2t9e97DS2o761bjcI/MlazFGUMQoLXK28JtqvXxedUcYjDzzJ3wrSN5MjXRv4ewmo8HxDyYFmLlWUHK9yPCptcnsBce6rHDRes6VKKqtfvYPyS8E0kyMCdIg5JZfsAE6jxECrfR0Bs8ojESsFULvfJmzN7y1v7tF8b9HAgjRpmmEh8XMILAICxaO1soOinc+Ia1h4njEs8i4bCKBofHsMo0JXso2v8K0xxt6RRLqopdzeg+V+di4oo9TF43PQAEHU+4D+9XZM4JynYaKe1tPh+vbn+iPCI8MhQeKRtZHO7ny7WudOvt31MThvrLtvp+I8q1wgoI5XUdQ8zTfC4K0UqfPp+utFpILdvIrf4eVURm4sfce38qcqRpUzOUg04NOYj2pcs9qYhhTg05Q9qkkRJtSGMugv1O35061NoSddPLWnWIjXfy/OgBwoGpGvQfxP5VK/1m17A9fP2VJ4SoDP12Hf2+VUsxJuaALsNMA+Zte9HjGdhp7ayqnGx2AoFZoiUHp99ITqDYW8zf8AWlBtMALD3nv5Dy/GqHegZocQxgIsu99T0Pl5ihfmt0ziwHb+f50KTUlY7dPu9tAEkQ+VuviG3fek6EaC1v3l1896gzdBt+NMTcez8P8Af8aBD8s+X+Jfzrl/lLgY8PmygHKY33B0DrmNr9ASfdXSVGWFXVlYAqwKlTsQdCDUoS7ZJjujxHD8YKCGSPECFxByWvE7XBZ81jlKkEMNR2pYTG5EIBjxGHveTlqVkia1hIMy3GlhcgodjY2NFemwxmEdYOfIcNa2HNwLRrtGbC91uB56GheLcST5phJAZfnQMt5b6GMO4C+e48rXHWunUWk0rs0Qk6tM0V444IlMgI9VMWkQzLcW5WJj1J006m2xkGlS4lx2ZeY+WJJEiQyIscbwTwmRUV1NtruLqbjexQjKBvRzhzPxCRYwBEGZZF0CsjEgRZdmzHZelr6BbjU9MfRh8LC2YhlGDSPMNsy4uFmH+YVTN4o5VB1b4L05tPZRPxMiXCgBcq4mIIMoORGTDyFFJ1yhma2v50PhuPZeH2GLtIJ1YYfIuU2kDBr5c3TNe9ri1r1lcWcE5eaI3Vo5BmEnWCEKQVRuq02GxUrEA8QVb9SZ/wD+Vvvq/wCkkloUZN6s7n5O8Q0mK4gTuZb/AOeeuj9FMDiWw68zEPHCw8CIFzZSd+YQSgPYdOormPkzwoilxQWZJrrCxkS5BLc0sDcanvWnwb0yMGHRZYWdVvHGyEa2sQrA7EAjXqPYa4v4hG56K025O/Y03nwkatgmikEV211fxCxLaEum4sbAVfgFzjJDjI5QANcqu4GwzMrgX8yvSs/jWGmwbtiZMkhxLIhRCVKOFbIoY35gspBNhrrbWtjD8KEGGkVbcxlkdiOsjKSbeQJsOwArE4pGiEvKZg+kSJAEgjYmTFG0kzEFjGLA2NrC+YAAC29Likgjwskca6lOXGoBJJOmgGp0uT7DR8WDhxeFgeRQ4VFGhIKsAFbxKQdxt7Ky+D8WGHmxOHjzyzsVXD5yWAutyrMT4VU3J7gdSKsjHuQPI4v5BcXwHmcoYKOZbxNHM8/MRUBy6+Pro1xHpWngeFph8XEkfiWPCWY/aZ5ibn2nMfdRM3CpAmfH45njHrRqFjRj9g5RmkB2y6Xorh6sxeaQFWlIsp3SNdI0PnqWI7ua04/zGPM/6XaDSetHYXEX0O/4+Y8/x9u4FIGrW7ZnikopJGhNB1G361FQEpGn5VZhcRfQ7/j5jz/H272HDg63FIkAo3Q7fhSZaiKkrdDt+FMQwq4REakEaaed6rKkfw86vmxDOuutrD7j+VCBlBN6VNT0hksxpw1QqaoSbCgTHFWk6WHXc9/IeX41KKLM1htfX2dh5VsQ4cAWAFWUlyUPI5aiYVuh0pmUg2I17VsT4AMe1DcRiyqvfUX8ulKSXgcHLiRXBw1m1utu971TJhzsBp7tfOqM5tTBqgXIkYm7VKOI3tbfT8vvtTRwltgT7KsQZSO99fLyFAMr5B7UhCeug60rUrUDOE+WGRRhIxy1JMoVWN8yeEsWFjucttbixrzMM88UUMcJb5ukrOyZmLI0gYsw+qFuBp3r3D0r4AMZhpIiQrAq8bEbOL29xBIPt8q8RbDYjCTWYPDKPdceR2dfiK6XSTj2V5L8K7tG5/Sl3xWKw+ZFEmHdc1swIuuttN/xo/j/AKVPiFJlVWX5qt01UZmxUQZgRqDZVIOtiNjtWNFizJHJHmERlKGTQCOUobqTp9E1ze62U9bb0sPZZEWQFHQBGRrZZY8xbJc6KTfQm6mwNwbVZLHCUlNq2uH5Oh9Oo1/Ngk2F+iDNmkgGgbTmQXOx6FfL1T0Kmp4B4sPFMJIEnEy5YpuiNY9xdGFwSNG07WNLFTMJCcOHidCfoWN2Udlv/WLbdSL/ALw1qvhOL+kvEiFmtzMM+scw3IS+zDU5TqD6pO1Tm322yh9qlo675IYSBiD0Ii+4yVvcP4QJcDJFs2ckHswyFT5dvYTUPQXHYaRZlw8TQ5GGZWbPa4sBm7Zlf40Rj+Jphws3MRoZ2K5FPiQqTZ7dRYWI/drznWTlPItVt/sOXYpP4X9tgnpTxwyphTOpjlgmUyqR4XFxeVG9Ujw+re4zHoL12M2LBQL1/gK4D0i4vDJh3CMHzWAAvceLc6eH39alwxOIMLRfRw/2fPszKvba5/vCmoppexnUu3gO4H6NSmeaNZ3hw62NoiQXL3YXvcAqNLgbBa6vg/AIsOAQzuUDhWlIJQOcz2IA3OpJ1865rgnB8ZC7yDFqS9i4aLOpI2PrC1hppap8a4lnHJkmM7nT5vh15YbykbMzKve7Dc6GpskuLoAwWO+fcQZz4oMOCYh0LE5Q5Hc+I/3RXYVk+j3CuQhLZeY5DPlFlFhZUUfZUaCtWrUjNJ2x6KkI8R7/AJ6W9uh9xoWrGvlG1r+/rb+PxqSINFYNGR4zTXf9eVB0qQywGkKYU9MRcmIIXLpa99QD+NISGx23HQeflVNRMhBIC3uO/Xf+H30kDLuYfL4D8qXMPl8B+VCrMxv4D7z7KfnN9g/EUDCuYfL4D8qu+ckKV0sbdAPwoFZDexX3+6m5z/Y++gTDMPNlINbceMUjcCuYMzfYPxpxK1vVN/b+v0amnqmVvHu4s3cVxGx8J2oLF4kva9ACVvs69NfIn+A+NMZ2+wfjQ2nwOMWuQg1IRmqo5DceAm9v9qKWUjTLZram97fsjz86gWIIwuK5dxa56+3+NUBrtfzoOWVh9T76nFO2vgOg7jroKBMuvU4kvr0G5/W9VYe7XuMoHXf9GiM1x2A2FAPgqdr+Q6D9daFxuDjlXLIiuvZlDD76KYeHzv8AdVDmnwNM5fiXoPhnBMYMTfsklf8ACf4WrgfSHh8mFtHiELxG4Rgdv3H+qeuQ6Ht1r2Rm02qjHYVJFMciK6HQqwuD7qux55QdvaL4dVOOnv5PF8VxwfN+WyJKiBBFKAVkhsb2NjcE7a3HYnoBxPjfzpYmkjjj5QKyTIMrzbZQwGjPYfebkCvRsV8meGLZopJ4D2R7j7wT99VJ8l+HLhpp55rdGYAfcLj3GrsmeMuEE87kC/JHAzLisQQQs0gCX/ZLsTfrq9vaDXVeiMUIwoHLXmhnWUkAtnVyCre61vKtPDYdI0WONQiKLKqiwA9lB8Q4JG7cxWeKQjxPExXN2zrbK1vMVhyR73ZVHJTC4DHCHKJGlx4mCqugN9Taua/pubEu0eEUBRo2IceEfur9Y+34da0n9HEa3OlmmA+q72U+1VCg++tSGJUUKqhVGwAsB7qhHGkSc2YY9GA39fPPKeoLlVP9wbe6tbAcPihXLFGqDyG/tO599E0qnRBtsVOKalTEOwsamW8NvZ/3fnVdKgRJBcgdyBUxGPP4VVT5j3pg0ydKlSoYxVOLce0UqVCEyIp6VKkMcUqVKgB2pqVKmxLgVSbpSpUIGX4P1h7/AMDTilSpDKpd6mvq+8fxpUqBMsPqr7W/hUaVKgY8uw99CPSpUCRCnk3PtNKlT8A+SJpqVKkAqm24938KVKmhMY+rVdKlTBCpUqVRJCpClSoQMdqalSpvkSHTeptSpUwZ/9k=\n",
      "data:image/jpeg;base64,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\n",
      "data:image/jpeg;base64,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\n",
      "data:image/jpeg;base64,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\n",
      "data:image/jpeg;base64,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\n",
      "data:image/jpeg;base64,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\n"
     ]
    }
   ],
   "source": [
    "for i in image[0:10] :\n",
    "    print(i.get_attribute('src'))"
   ]
  },
  {
   "cell_type": "code",
   "execution_count": 44,
   "id": "9e05f227",
   "metadata": {},
   "outputs": [],
   "source": [
    "Input4 = driver3.find_element(By.CLASS_NAME,\"gLFyf\")\n",
    "Input4.send_keys('Guiter')"
   ]
  },
  {
   "cell_type": "code",
   "execution_count": 45,
   "id": "30d1d242",
   "metadata": {},
   "outputs": [],
   "source": [
    "search1 = driver3.find_element(By.CLASS_NAME,\"Tg7LZd\")\n",
    "search1.click()"
   ]
  },
  {
   "cell_type": "code",
   "execution_count": 46,
   "id": "952f01ad",
   "metadata": {},
   "outputs": [
    {
     "data": {
      "text/plain": [
       "[<selenium.webdriver.remote.webelement.WebElement (session=\"1f7dd10e7145f0351027f3d6a117c940\", element=\"6FD182BDA1C6ABCAB81BBE8631AC50AA_element_1448\")>,\n",
       " <selenium.webdriver.remote.webelement.WebElement (session=\"1f7dd10e7145f0351027f3d6a117c940\", element=\"6FD182BDA1C6ABCAB81BBE8631AC50AA_element_1464\")>,\n",
       " <selenium.webdriver.remote.webelement.WebElement (session=\"1f7dd10e7145f0351027f3d6a117c940\", element=\"6FD182BDA1C6ABCAB81BBE8631AC50AA_element_1466\")>,\n",
       " <selenium.webdriver.remote.webelement.WebElement (session=\"1f7dd10e7145f0351027f3d6a117c940\", element=\"6FD182BDA1C6ABCAB81BBE8631AC50AA_element_1449\")>,\n",
       " <selenium.webdriver.remote.webelement.WebElement (session=\"1f7dd10e7145f0351027f3d6a117c940\", element=\"6FD182BDA1C6ABCAB81BBE8631AC50AA_element_1450\")>,\n",
       " <selenium.webdriver.remote.webelement.WebElement (session=\"1f7dd10e7145f0351027f3d6a117c940\", element=\"6FD182BDA1C6ABCAB81BBE8631AC50AA_element_1451\")>,\n",
       " <selenium.webdriver.remote.webelement.WebElement (session=\"1f7dd10e7145f0351027f3d6a117c940\", element=\"6FD182BDA1C6ABCAB81BBE8631AC50AA_element_1452\")>,\n",
       " <selenium.webdriver.remote.webelement.WebElement (session=\"1f7dd10e7145f0351027f3d6a117c940\", element=\"6FD182BDA1C6ABCAB81BBE8631AC50AA_element_1472\")>,\n",
       " <selenium.webdriver.remote.webelement.WebElement (session=\"1f7dd10e7145f0351027f3d6a117c940\", element=\"6FD182BDA1C6ABCAB81BBE8631AC50AA_element_1473\")>,\n",
       " <selenium.webdriver.remote.webelement.WebElement (session=\"1f7dd10e7145f0351027f3d6a117c940\", element=\"6FD182BDA1C6ABCAB81BBE8631AC50AA_element_1474\")>]"
      ]
     },
     "execution_count": 46,
     "metadata": {},
     "output_type": "execute_result"
    }
   ],
   "source": [
    "image = driver3.find_elements(By.XPATH,'//img[@class=\"rg_i Q4LuWd\"]')\n",
    "image[0:10]"
   ]
  },
  {
   "cell_type": "code",
   "execution_count": 47,
   "id": "0326b97b",
   "metadata": {
    "collapsed": true
   },
   "outputs": [
    {
     "name": "stdout",
     "output_type": "stream",
     "text": [
      "data:image/jpeg;base64,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\n",
      "data:image/jpeg;base64,/9j/4AAQSkZJRgABAQAAAQABAAD/2wCEAAkGBxMHBhAQBxATFRUWFRcWFRgWFRcRGBcXGBgWFx8SFxUYHSsgGB0lGxUVITEjJSkvLi4wHR82ODMuNygtLjcBCgoKDg0OGxAQGC0gICEtLi0tLS0uLSstLSstLS03NS0rLSstNy0tLS0tLS0tKy0tLS0tLS0uKy0tLS0rLS0tLf/AABEIAOEA4QMBIgACEQEDEQH/xAAcAAEAAQUBAQAAAAAAAAAAAAAABwIEBQYIAQP/xABDEAACAQMCAwUEBgcECwAAAAAAAQIDBBEFEgYhMQcTIkFhUXGBkQgUFSMyQlJygqGiscFDc5LRFjVTYmODo7LC4fD/xAAYAQEBAQEBAAAAAAAAAAAAAAAAAgEDBP/EABwRAQEAAwEBAQEAAAAAAAAAAAABAhExA0IyEv/aAAwDAQACEQMRAD8AnEAAAAAAAAAAAAAB8bq6haUt11OMI5SzJqKy+SWWc/8AaZr99e6vf0r111bW1WMUqDVOmk14XKXWc/FFtZx6LBlumx0MCA+y7jy8+1qVKvKc7HPdznXe50m923FXrlycFht8msY5E9U6iq01Km000mmuaafmmbGKgAAAAAAAAAAAAAAAAAAAAAAAAAAAAAAAAABi+JNJpaxpcqeoycYJqbaxy25fPKaxjJCvabo9W84jpvhapOpQvaO6dOE8U9tJwg5KMmk+e1467ieriirihKFVZjKLi16NYaIU7TrG1uNBtVwvVjCtRu/qye7uqkpVGs5fJyW5J7unJ+wERjwhTuKt9OhaSqOlGUKteEJ7YuFKrBuWG8NppY5ew6t0GdGWlU46XPdThFQi3lvwrHPPPJyvcaLWpcS/VqU1GpVptOSk4xzsVRrOMtYS8ufsOhey6+o1NCVtbQ21KKjGvz3J1VmnOSeXy3UpfDBku22abmADWAAAAAAAAAAAAAAAAAAAAAAAAAAAAAAAABhNR4TtNR0mva3NHNOtN1JrdLO/l44vPhawsJcvQzYA5j4m4Pjo13O1u762jKk3GO+Nw5OEt3d7lToSjnu5Rbw3z9xNvZRY0LHga1WmThUTjLfUjGUVOopy3fjjGWFLcllLkiNO2y2jS4w31JxipUIz5qTy/FTT5Ra6R9pu/YbcKfBkqcZ7u7r1F0a/Go1cc/7xkY9sVlyJDABaQAAAAAAAAAAAAAAAAAAAAAAAAAAAAAAAAAAQ327W0PtSznWjJ74Sj4ZKOFSlv5tp+c4/MuewasqLv7bbKLjKnNxcozw/vKbw4pL+zj7S67eaS+xrWo4Rl95Kl4t3LvFHONsl5Qb+BrfYde7eK6sFThFVKNTG1T57J02s7pPyciPpfynUAFoAAAAAAAAAAAAAAAAAAAAAAAAAAAAAAAAAABo/bDTk+D3OlPa6dSM87nD8s4c2vWaIv7Or36tx1Z7rhPmqLi51pucu6qRcvFHCbk08ZxyRMPaXbK74Juo1M4SpzeHh/d1YT64f6Jz/AMPXELTVLW4oU22qtOWFOTlH72nPMvAk+Tzyfk84Od/W1z8upwAdEAAAAAAAAAAAAAAAAAAAAAAAAAAAAAAAAAAAxXFlB3PC97CjLbKVvWUZc1tl3csS5c+Tw+RzV4p7pq6qOKk45ipySlJTjCOZSXXu545c8M6nrU++oyjLo00/isHK0YuhcQ+sTtk47d/3VOX4VveNtJ48Ukc8+xePK6g0a5V7pFCrF530oSz+tFP+peGt9nVf6xwZaZabjBweFtWYScemFjovI2Q6IAAAAAAAAAAAAAAAAAAAAAAAAAAAAAAAAAC2v7+lptu6moVadKC6yqTjTj85PAFycycS04UNbr06boKSq1oyUqcpvnWqJYex/wBnT58+qflgmW/7WNIspNSvVNryp06lRfCSjt/eQ/q17DW9brVdNfKrWnKEnbU3hS6bpTa286+ct/pZ8yPTi8Evdkd5G64cqRouLUareF5b4Qm/yR6ylJ9OjXN9TeCMOxevLdd06jqvKpyW+kqSW1zpvbiTTzhEnlTib0ABrAAAAAAAAAAAAAAAAAAAAAAAAAAAADG8SX70zQbitDrCnJx/WxhfvaA0vtH7SP8AR22qQ0mMZVI+FzlzipvlsivzNefkseZznrWtXGvXrravWnVm/OTykvZGPSK9EbDxzcuraUk/Obb96X/tmoxNo8UTcNEnGWjQ76eFF451nBYzub2pZ6Un588M1SEHUmo00220kkstt8kkvNm6aZZz03S1C8qShvTnDbUnBPO6GFtpy3c6i5rllLGcEZ8Vj1vnZNdUrXi+UKEqeJ0504td6pSUXGot2/MVLxPll9cIms5fVb7QXdUa+JylF05KpXclLc5RkpTcIJp04820kWfFfFesUaMrPWryrs/C8JU92EswlJRjNvDWYy54aeMNNseMy6mzibte07QL10d1S4mnifcKM4wa8nOUkm/RZ9cG2cOa/Q4l0qFzpE98JZXTEoyXWEo+TX+T6NM4wJ2+jPcSlb6lSb8MZUJpexyVVN/FQj8imJtAAAAAAAAAAAAAAAAAAAAAAAAAAAw3GVs7vha7hDr3UmvVxW7H8JmTyUVKLUuj5MDk7iun3umKS/LJP4Pl/VGpRJD4t0qVje3VrJfglOMfVdYv4rayPUjaNs4CsI1bqpXuEmqcXiLeN3RbM45bpTpU2/JVJPqkUXmrS1fWJTnPk1ywtuVGUZ5fsW2nyj0isJdOd5wRitpN1DKTWJtvlhRq2tVv/Bb1X+yY/QtOjKt99yxmMk10bTjtfs80cvTLWLp5Tde2tlPcnSk8pJJrk00oQznPLrIztnJa/olS21RRVSlTzCWMYhFSlhJeUYqrOMV+HZUisRq7VsHDukKpWnyfNNrPo5Pz/WXyKKtjHTuLaeMKMaNWVT0jhy5++FKv+/2nPy9LldOvrhP52h2tSdGrKFVYcW017GnhonL6M8MUNTl7ZW6+Srf5kL61/ri4/vZ/9zJc+jVfxhqGoW8n4pwpVIr0pucZP/qwPQ8yegAAAAAAAAAAAAAAAAAAAAAAAAAAAAEL9plmpcW1pR8402/fsS/kkQhVSdWW3pl492SYu0HWFKpe3EH1bjT9elOL/cmQ8o4RtGQ4d1WWjalGpDp0llb173H8yw2muWYyksrOTfLK1hO9Vxo8I1oSw5U23Oax1lFpOU0uXjjGW786hJSbjPB9aF3Us4v6vNpdcYUotrzcZJrPrjJNks1Wy2XcTXa69Ki9mmabPe8LLxt8ubVJSny9UunVGr69qq0azrVruop3VdYljbJLpml4W4vnFRkotqMVKO5yqNmr33EVzVhKEqraw+UkpprM0ltlmK60+iNe1OvK5r760nJvPNvPLLaXya5E+eGOPFZ55ZdWk5Ocm5ttvm2+bb9rZnuBOInwtxTb3cc7YyxUS/NTl4ZLHm8PK9UjAAtDt+3rRuaEalCSlGUVKLXNOLWU16NM+hEf0fuLftHR56deS+8t1upZ6yot/h9dknj3SivIlwAAAAAAAAAAAAAAAAAAAAAAAAAYXjDU/snQKtSLxJrZD9aXLK9yzL4GaI07VtQ33tC3i+UYupL3ye1fJKX+ICIeNrvMKNGL9s5fvjH/AM/kargyGtXP1zVKk/LO2Pujy/fhv4lngCjB6qTqQl3cW8LMsJvC9rx0Xqypx5cv/vU9s5Ss4z7lrMkkn+jhp5XyAubSxq36X1KjVq8lnu4Sq81Gi+e1Pziz2pwzc/dxuafc7pxgu+kqMt0ttNfdyfeNZWeUXhc+hl63Gsb21jT1m3lWcY7W/rdxBSaht3Shzi25eJ4MNqPECq0HS0y2oW8N0ZLZFzqZhOpKLdafiylU25WMqKMjbVhq+lz0jUqtvdOLnTk4y25aePNNpPHwLEutR1Cpqd9OvfTc6k3mUuSy/cuS+BamsZbhTXZ8NcQULu0605Za6boPlKD98W0di6dew1KwpV7OW6FSEZwftjJJp/JnEh0Z9HjXnf8AC9W0rPMrap4f7qrmSXriaqfBoCVwAAAAAAAAAAAAAAAAAAAAAAACBO0HUnV4hvaif4JOK/5a2/ziyezmzizMrq+z17ytn/FINaLGPIqwVJFSQYo2nu0+m092gYa6W24kfEvdTp7aqftX8izwB4CrB5gDwlT6Ot66HGlWlnw1LeXL/ehKEk/lv+ZFZJX0fqDq9oClH8lCrJ+57YfzmgOmQAAAAAAAAAAAAAAAAAAAAAAACCu0PSvqPFFwmvDVfeR9VPr/ABbkTqatx9w79uaap2yzVpZcV+lF9Ye/kmvd6gjmWdF0qjjLqnj5BRNh1/SZRbq0l05TXmsfmx6dGYOKApUSpRK1ErUQLO9tu+t2l1XNe8weDa4wMZqdjsk6lJcvzenqBiNp7sPqkVKIFtKOCfvo6cPO10m4v7iOO+ap0s+dODe6a9HPl+waN2b9mtXiy5jWvoyp2ieZTa2yq4/JSz1Xtn0XllnStnawsrWFK0goQhFRhFLCjFLCSXuA+wAAAAAAAAAAAAAAAAAAAAAAAAAA1fifgulrUnUtpdzVfWSW6Mv14e31TT95EXEHZnqFjWcrO3jWj/wZxfx2z2yXuSZ0KAOU62kXVrLF1ZXUPfb1cfNRwymNrNPxUqq99Oa/odXADliVlVp0ZTnQr7YpylLuam2KXNyctuEkvNmZsODL/UYRdtZVXGSTUpbKSw/P7ySysew6LrUY3FJwrxjKLWHGSUk17GnyZ7CCpwUaaSSWEksJJeSXkBAlp2HXV1W3XVejQi/Jbq8l+ytq/iN64c7HtP0ecZ3qndTX+2x3efSlHk/2txIYA8jFQilBJJcklySXsPQAAAAAAAAAAAAAAAAAAAAAAAAAAAAAAAAAAAAAAAAAAAAAAAAAAAAAAD//2Q==\n",
      "data:image/jpeg;base64,/9j/4AAQSkZJRgABAQAAAQABAAD/2wCEAAkGBxASEhAQEBIQDhAQEBIQEBIQERAQDw8PFRIWFhURExcYHSggGRolGxMWIjEjJSkrLi4uFx8zODMtNzQuLisBCgoKDg0OGA8QGisdHR4rLS0tLSstLTctKysrKzctKy0rLS0rLSstKy0tKystNzcrKystLTcrKy03Ky0rKy0tK//AABEIAOEA4QMBIgACEQEDEQH/xAAcAAEAAQUBAQAAAAAAAAAAAAAABwIDBAYIBQH/xABCEAACAQMBAwkECAQEBwEAAAAAAQIDBBEhBRIxBgcTIjJBUWFxYoGRsSMzQlJjcqHBFCRD0RdTgvA0VIOSo7LSFf/EABcBAQEBAQAAAAAAAAAAAAAAAAABAgP/xAAbEQEBAQEAAwEAAAAAAAAAAAAAEQECEiExYf/aAAwDAQACEQMRAD8AnEAAAAAAAAAAAAAAAAAAAAAAAAAAAAAAAAAAAAAAAAAAAAAAAAAAAAAAAAAAAAAAAAAAAAAAAAAAAAAAAAAAAAAAAAAAAAAAAAAAAAAAAAAAAAAAAAAAAAAAAAAAAAAAAAAAAAAAAAAAAAAAAAAAAAAAAAAAAAAAAAHxshXnH51Z787TZ0t2MW4VLldqUlo40vBe18AJa2nt20t/+Ir0qPlOaUvhxPMp8vdkyeFe2+fzNfNHLtaU6knObc5N5cpNyk/eyl0gjr202lQqrNKrTqr2Jxl8jKUk/ccc0qk6fYk4Z4pdl+q4P3mxcnOW11aybp1HS35RlUaSnTqOO6vpINNrqwUcx4LggV1KDTORHL2lfN0qihQr43oRjPfhXppLenTlhLRtpx4rTJuYUALFxeUqf1lSFP8APKMfmBfBjW9/RqfV1ac/yzjL5GSAAAAAAAAAAAAAAAAAAAAAAAABHXPTyola2sbelLdr3eYZTxKFBduS8G8pL1Zz7Sgbpzx7TdfadaOcxt4woxXg0t6X6y/Q1GlEmnOXVSifN0rPqRl2ihwMepSL1zdKmsuG/nP2nHH9yp664x+wrO5m+mNa3dSi805OOqljLS3lwlo01Jd0k013MkbZPPbd0aap1aEbmSWFOVRp49rEdfn6keygWZ0karG8bja+UHO3tW5zGFSNnB/Zt1iTXnN6/DBpFzcVar3qs6lWX3qk5Tl8ZMy1aN6qMn5qLaKOiHkZzusa3q1KbU6cp0prhKEpQkveiTuQHOzdUZxo3kncU20k3rUx7L+95cHw0fGOKkDFqRxw0/Zlzam8x2lYXlOtThWpSU6dSKnCUdVKLWU0ZBEfMPyglUp1bWbb3VG4pp/ZU3KNSK8ukhKX/UJcAAAAAAAAAAAAAAAAAAAAAAOSOUtx0t7eVOO9dVn/AORpfIx4It3b+lqt8XVqN+u+yuLM61wrwVLJTk+7xl1US2dUuJxpQTzJNptPd4+PuFN5SevBcVg9zk5Ul09sutu76joq+Fmb44mo9/fEwaFeW7Ht8F/zH/2VjPusCeT39lbNo0aX8Xd9njCD7/DT/eDDhWk5RTc9Wlxr+P5z1OXl1KMqNNOajGGmOn1f+mRPvo3VdtyqlPDo0qKhlpKUpptJ413Vofbv+Gu01KMba4SzF6KMvR6ZXk9Tzdizm45zPvxmVdd78ZeRl1HPfg25PFVJa1uGfUkyo1Wtbyi3Fp5Txom1nPd8DEr0n4Px4M3qnVfU1n2qffV/zKnmWule5jMvqvxM/X+JvDfb1OYupuXWXo8VKeunVe5LHxTOhVVj4r4o5tlPM15V13S+8+OnmWbWWlPX+o8dV/h+WhazHTW8vFDJzL00lBYlJdZ8Mruj7JcqX9TNRKpNYzqpST+sXsikdL5BzVT2jX+jxWq6pf1PxJewVQ2rdLf/AJiv2dMVeHWXsCkdJg5unty83U1c3EetLhXksaR07AqcoL1KOLu47H+fPjvS17ApHSIOb63KW/T0u7jsx/ry47i9grueVm0Iyni7rrDePp3j/wBBSJ+2vtq2tYqdzXpW8ZZUXVqRhvNLOI5er9DR7bndsmpKo6VKooTcV08alOU12Y78Vpl9+CNeW21G72Mqync9FTtnGLxUWHRpTmlvR6qk85w+89Jc4dCGOj2VwT1qThTbbbedKb9PcSrG3/4xWsqVTDpU7hQzTjKVSrRlPPZcoRzwLmz+ebZ+GrlyoyWOxTrVIyb4tdXh6mjrnWUcpbPoRzFR61y8rHf9WjX9ocoP/wBG9t5zo0aUdaThCTmpKSed6TWvpj5kq+P46F5M8sLLaHSK0qOo6ag5qVOpTaU03F9ZLOcM985m5suV87O+6KjBStrutCDpTk1Km20t+LSeqXdjDSXDidMReUn4ms1ncj6ACo5B2vTcbm5i/s3FaPwqSKYHtc41i6O072GMKVZ1Y/lqJS+bZ4lJk6Xj6uH1spyVZMOq/se5hC5t5zxGMKsJSk402oxUll72N7h4GLRmlGKx3L7MP7GLtB6f6ZfsX09F6IrOLrqrw/SH9jZ7+3jtC3hKCXT0luuLUM+mq/3k1Qu2l7OlJTpycJeXBrwa7ybhsbJsCMKNJQq4hNOWYtJPtNrCxqVXFCVTE4w6KjCXSOVTCc2nl6NZSMSPK+tjrU6c397rL5Hjba27Xr6TliHHdjpF+viTOdqbr09lzncThTo0XNuUXF5gt5QnKTa6ucdda8Ebfac29/OKTjShmnudaWXnpN/OkPce9zHbKjGNzVkouTnGFNrVqhGC3V5auT9WS0dIxUOUea67ct6U6UfpOk0jvd+d3VIu0eaeutz6eHVnvfV8ezpx9n9SXgItRAuaSvu7ruIcW/qvFJfe8i7/AIS1G5t3Eev+GtOsn4+RLQERE8eaWfU/mF1fw1r1nLx8y5DmmfW/mH1ljSOMap+PkSoBFqLFzS6JO4lo2848cefkVS5pE8fzFTRY/Vv9yUQIVF8+aODeXcVeCWjXckv2KqnNFSk23cVtW3o1jX3EnAsKiHldzaXTqwurWdKrNdHv06zlGOKUYKDjup8ejWU1rl6mFaco76cd7+CtqkKcJZk61emkk3KTw6ef0JrLSt4cd1ZfkSFQzDlXcOnOrKwt3ShSWakrpwjCK03utTXj4Gu7Xtr6+r0rq2soU3SWihVi1PPBt9V4SenqzoX+CpYa3I4fHRan2haU4diMY+iJFqJeZvkXWtqlepeWypzaj0U3KEmlrvQSWcLONc66eBMKGAaZAABC/P1yeeaW0IRykuhr4XBZ6kn78r3oiGnM682nYU7ilOjVipwqRcZJ96ZzRy65E19nVZaSqWzb6OqllJd0Z+D8+8J8a+fTHjMudKSN52uqo1weM8S1KWCiVUz9lbDuLmSjSpzlnwi22n3ry820vMRN6ec6j7jJp7MuZLejRqyXioSJl5Gc1MYbtW748eji8/8AdLv9FheOeJJ1rsuhTioQpxjFLCSSwkVlyHUU4vElKL8JJxfwZamzq7bvI6yu44rUot90ksSXvNCuuZCg55hXqxhnstxenq1kDB5itpTdWpQx1Vb05t5796UEvhHJNZrXI/kdb7PjLok3OeN+b4vCwl5JLuRsoUAAAAAAAAAAAAAAAAAAAAAAAALF7Z06sXCrGM4yWGpJNYL4AjbbPM9Y1W5UnOg33QfV+DPEjzJRzrcTa9IomQAR1sfmksaLUpp1Wtes29Td9n7JoUUo0qcYJeCSM4AAAAAAAAAAAAAAAAAAAAAAAAAAAAAAAAAAAAAAAAAAAAAAAAAAAAAAAAAAAAAAAAAAAAAAAAAAAAAAAAAAAAAAAAAAAAAAAAAAAAAAAAAAAAAAAAAAAAAAAAAAAAAAAAAAAAAAAAAAAAAAAAAAAAAAAAAAAAAAAAAAAAAAAAAAAAAAAAAAAAAAAAAAAAAAAAAAAAAAAAAAAAAAAAAAAAAAAAAAAAAAAAAAAAAAAAAf/9k=\n",
      "data:image/jpeg;base64,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\n",
      "data:image/jpeg;base64,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\n",
      "data:image/jpeg;base64,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\n",
      "data:image/jpeg;base64,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\n",
      "data:image/png;base64,iVBORw0KGgoAAAANSUhEUgAAAKwAAAElCAMAAABOJ/lOAAABL1BMVEX///8AAAD8/Pz///319fXNzc3U1NTHx8fo6Oju7u75+fmjo6NXV1fc3NzR0dFHR0erq6vi4uKDg4NpaWkMDAypqalzc3Nubm4uLi6SkpKIiIjDw8Oenp4bGxuxsbG6urpUVFRgYGCOjo40NDT///gWFhY8PDxLS0snJyd7e3v///QqKir+//D2///24sghISHujjj47eHqj0Tz2bvuza7gto/pyKD0hzLfl1LplUzyz5zvwZvzkELmjTn78Nfzz6jkqXHdk0zdnl/nt4jps3zpoWjqr37/+uLywYr017PolFjunlbcl1HZoGrtsn3fvZnHpXLQmlLapXvWsIXQoGnx3rfzi0jWoXTz3MzWiEHjhS7urm3fkj357Mvau5Drjk/yjCv6h0XZiTLkz7X66NhVJbtgAAAX6klEQVR4nO1dCVvbxtaeGXmTvK9gW9gWyAYrlvBCKBRwCA5QCGn7NU1Tmqa5veX//4ZvZiRjLSPZRpLtPs99n8QYEPhlfHT2OQOAbwgApHOFghjFTxDy//vCRXMP6ijwYIPJ4oVEqAhnSOKvbejyElKoA81I8Qhs6PIWSgc70IZSKr9uWkzk7UQNbN7iiqIouZDd7nSEddOzoubClKK7bnY28F5kY+tmZ0fRnWtp3dwcqP97pACAiDvZ+rq5mZFvtasApFzJ8njdk4nN0F/CISYkAhE/NhOShWYjjz/v6LpiM4xDjNDaBhkIWzbLsI89MCKyVER2182TgvKTCKMdASTNZNsRkMPLCwRI134jUMBU0gBg1/CgZZXWV0SQsZbFf0KbXzdNCgQyDeK6WsV1hgi+Jh3fEItLHVb8UGVz3QPUkdkwt7bMJptaNy8momyym6EFrEBES7EgbpoE8DF8FyXYZJv47xAi62Y4A3ZiSmkQKWFrVSiZeG6/glRzNdqbIwwCibyyABySECY24yoBIBEzS33d+LpZGqBkSoTstsULT1JrkNDvvA0xYABkMZkKNWG1qMn56iTyr4hNoK7BhkQLCPCpg4qgc3ZgB18R2+80183SjhaL7OG6WblA+jeRZcaMr9bNigXkQnZ743wYIU28VVeyIJ1YN8MZSKzQ1MnWzCohtaeT3YewsBnxIjACW+p9x6kdM1Aj2uwA6KFOet0kdSBAk7IC4YxD2P1nsph5l2iDqvHJJkCPESRKcz9jiheyiWiJkCW+Y3tD/C58s4vZAiZjzXobaGPTFpcqG5LjmGGbRRZuRlTrgCNHT7FBWmsGxHZkNkUNWIFlcovBtbph9ssA0+A2Ns3YziAc2LgW1s3IFXgN4/8OVUBhv8k2L0FvQcNCdqMS9E5Yy4ybLAXAXgfZkDynK3a2X73aNtDeVK01BTQ939r0lT0wuVfFTSfbMT0vbogT64qW6bm06WQl8/NNJ7tlei5tuJ4FFdPz/5ENEhayGxnSmGAhu75KOLfQVd3KM7rt9cVf3BSeV3XTz8hLa8zNc7Isz2Vr9rcr0ZAZeYCTVZVDy5BdX4KLk8nSIrQE2fVFChxQjl6PFCQvTnZ9NRpZPv6uP3wtL7Gy6yOLeien359+d8x5+v8bQhZow2Pu7PxiLHtdZCHbCJmRO7g3Q40bn55/73mVmWx3fWTB2eOt3Ls/v/QUg4I107UucGdve6p8eX6leF2VzM8sWC25Km4OyJMrheN++Puh53VVzvRcrIZMyR3yuy/Yer2bt7LGRyIr4vr6N+QfL7EJuz5/56lnaRNEukOdQ3F9GU/u8lIGt9/maANKtgDpAovryyIql9cyGJ2fjj2vomLKVyMk4Z2seF4aJpSba0750n8ne6ous5gmt1wvCxvc5ETRLoZjb0emkiuX8T/8kMsV10OW8OPOTm4/nE9U75XtlmcQiyuiZ4EeH5yd/NC/VmRvsmbVmlgfWfmof3E/VhXkKQZmmU1IrpeFCY4ECXfn92Mc2nj7szXT80QrXFZskHWVxw/DEZYBzlsMzHYgkQ2ZFxMcp8pP9+8vnpAqy97FeAvZjutlIQKp6Pbq3e2DRpZYXThSSGyHzIsJjuu9e3crXI2Ig+Its+aV5dfSgYaUow89FV1+L/dkzrty3NkqPkNaC1l1/OtA5uTJ9Y+XE03xltloHCNKkZFWXVvC7zrH/XTMycrk/rv+f4bDy4GHLCBLn+zKyzUch7jbn29V+ea7/sW7d6fn2PuWVTcHITIlS9dUWjFZYme50bHKHQ/v3/yfzN1OzvsTLBIuZHlqbmMwTdmuYWU55acxd/vw57j3YSwj5d35uaa4aYQpWT3ZueqVBQhxykeFezo9U+RfPqmKOjg9/8E1K5OoAr2tUxeDFdeW8MIi+WeZGww1mXt9B7Afc31+idzStHlLQLvqCghhpXzsgdt7jVPv/uJwNP7l70vZLU2bl5qNGTorroBQH+bjmFNe/4Nl4ReZU5Wr/kRR3ci2SFGhS1Hp7q2BrHp0xHEDbBZ6v/aQqg37I9mNbMyS7O6uugJChHb8cw8R2VV+vUW9m/5JT3YzC2lLsnvlZAm444miyEgGrz/Jx7/170i4sBDZtZRreq9/eVLkXu/Nj5P+xTG+5VzFwEK2klkNPSuU3tnbq5vJ5f15/+0nBcmuqitukdm1kMU2gBscTS5Pru8/YeebCgGbbN16g62IrMVEYfcAWyVOUXofbjl3phjNVK3wjNp22GSFiECtpRBBKEJTVgJ9jCSwoZc/aoYIIJ5pnXKJyAyCGHYhrEHbtMm+riiAkKywCOuAJ7t8pDQ4HumrSnaG7zEKiEnLn1AOu1zTJLvOEKkNZADdIAWSmGwWVsQUbILRa0q2CLerXVavoUjJCqLubpXDLio0aVse2TA3IxtPkJ0cIIbA+DMp2tXhPl7xmOScwVOlZKNG6aNcDp1sFoqggh9NZCMQFmLE9+t9wLYML2zU2Mhs/2mdLGoK9DvlsDcDNqG4D2OwUiBkD3Wydb3VtCAg5fMYr+w+dHNUqxZ3OxcAWSERFyvtHPubmGwGtmGii8mWaJ9mlcgm35DINg/5r5FMNtPkXSbZVKvJGcpFv+WaWIV0D+/Xqi7y1IRVvHIVLAgZTIoY9w6mRny9PISIuzvGTkyDNnMLDWcKQcyZ3NlG12+5RiwmM0Sw0i4VNUI21k5Qsk24HU134T7m2Y3nm1gqOO0XBSG0B2vpmISvfGZrmAnr+96sAX/IGeLGJMvJeNV2aUi7hW8ijhY3DxMgo+/uaAJ5/KGHQ1ueDuUqEndGRfhz/E+lbK1L2fRbW8rxHmRxdJhORlVsWkE8mcCPsaTYJKk4FE3ulvNAwP73LdW0dTGZJqkkDnuO5CPSY0grO/9kPVeWEiF9OzJtM9HN1dR5pSHO56/YSSA5Wg6oqkxCBqzLOFXVo3Nr5avptxDmSRbJT5qmjbSBommf8LMBJ2t3o1u5p5EvjzSNA5MRN/h9gFmCgTZA3JPWUzl5MBroYmCtzzT9lms8yarKw8Xw4uLxSPvzYjgcPmq3N6cXf9z/NXgcPl6cP1585tTjY6A9fsEyKt/g6Fx5+GOEXZvRH2cy7UdpdbIdCvIh+8ov2Yb3DXZyejcajQZa/wv+MMJBzI326cNreTR6M7z+NHqS1bvXXO/yYozUwel1T/19OLzBMjHqn+kiU+ETJuT9VUDQlCwfZ+lZTrk6UVQsh9pwgj9VuC9/fgWyomCZHA9vsFhyQPuMCfePAXfUP5Llm/fvhgNuSpabyizSdVrE70AOSlYosrdAqr2H91hWn4B2/uVu9M8TmJyfHH/CEZcsj0/xEmK2WHeB2/trRbk8HXCDt399Hb6RMVn8QFZWJxs3fnlk3wdRvK5bZL88cUeZ+X61d3Lefxz+wn0dXpy+ffxL7k2+DfsPJJbBZEkJTO5d3SJuMhyPTycKd/TfJ+X6qsc9i8GWQVZv7Iv4KNcgbJYg/fnoITsNhZSTIZbZJ1k7/2E8/qpgeuPRzXA4xs4hFk6ivZSrMZGSs+M/NLV3eXr25stvmjrCy0vVnTR9JSoGgq9yzbxterJy8o0jlLTfJoSaOsZKivvxPyNOfRpeUr2rfNDwZdfv35/0OO3i4er66rcJXtnvMVUVCC3BFNZEEnsvp4pQPued10PK1ftbojC14Zc3b47uBldvJ0dH7y+eOHn87RIQ/a98GAFZfXPx9xsAzn4b9eTeydveqP/ljlwuw8MdEw59kZ03ohD1Ht4qxHZpWMtiffvp6OT09OLtMaeg8eOlQlJJyuc7krh/eBgrt1dXPVkBPz2ORt/w5af//V21CuliYvDSKglSBk+k4AGEr5o2fvo6kG/HmnYrq9gDGA9UgL0A+eMRfpCfnhAnPI1JRqGnDYiFwxcOZCs7YV7VLhLxQZYzuQEmUI+Fo0E44j4e0w/G18n7hZ4vjNjIehTCUL3W2SHzM3Mvz+VP0xeWRAZHyCIVKzC8kJNjvdz0nOswJT14G1nXTVYR4nx2y/F4GQcgOBbyv4fURAebBWX0/TFZ3Msj94po5FU6Y0LULVaLY2d42mPNS7BUD3ArOXFalUn//Lt/sCm7ujORtSWSEp1GzoTGHossIvOHos+f0Mkj3eD25yqY60/n/dNvn/ACP2ruZNM2NyvL0pSIJzvIdXL0gSQpspGgFhebgsHJdzfEQmAV9uSel4stQhYU4SxhF6lFycwGCA8Cm1osY6frlFBV1bu3A/ciftRGllmuSUBTHLkLoZ4FgiXmDATEL6ssMLuvw/seiQ57pMnPFXVbj1yWRVaEwoxWrF0wRivCA5uA87FcYX/5/bD4Bus99O+wfyvfPf7ucWEdZi1gTDdAINudcdU9HrJru9iB24LxdSHTqLX0yV/FpcmqOHYcDYeT0WgynHj1GzREOn+agjBpMbYCIWhOMdMrRdjCb7YQndZLSOBf6hTKUd5N7D1A0wKjq4tvFxevFa/2PkK2rK8mItnPFsPH4517hzvbgkVeO2I9P71oabJUV8nK+BMOYl0L4gbZhjFcsEG2tbcYtaWow7vJw5j13jJHQ8uTpaU77AiopK/Le2XzB3rGj0/hd7vF2ArUdARmuy3bF8xx5vJiQB5klTjfqmfHXFIEFjc0xSgqNOyjhRC0/0m+yFLMnDD3a0T7mAsG2ao5eUd1gWOockBk51xTy5ijmohQYxQVtkwJC6mG6RYduUb/ZBeBvbK8yyCbneUACu0EQhHoqJaZW1nDI1uxk2VkUmYDiaPUZuSgQ3EvQJb339GyFbekj/iCM0eVnnJD4IB+d8+ZFzV7GA6ykVijtl+C/ktslVTRjK2Oc2XF55gySq1DmjEy0YMsmRia7eYyMf9k7duCk86V3XtWBlsFsrxdRpxmuEPU5d23ks1X8/SdyQdA1uYLiI7aUmbm21D1KkBGNnPqu/GFg72SVTjzcV3f+SFryKGURmY4dtdgl6s1fZ6gUpCzeVX0Fxm5SL4N6ZhwO1ngkyxAiXQ9KXZqVQu27Cq0bDT+YcTb5HHb2nGPQERMFYyVpeUXW7LTD1n6wolmrbXDnBwT7VovjsLas61tkHxo1H575clqGjcYGQGXtNlmXysrxLvmCWg2snFrmJODkk6a/BclMm/b7oLReXrTP6BcTdtDHR9kM92SxRVwkDUbzsw+KUwi/RLMUyRya39NMqhuWkQ1ZnJbkDacnsRSZPEvaThH4OUtKU+hLtHX4/lMs3sIOxn8U+UdI3dL1q97YP+1aano2f6Rp2Tj0v5SW7tRo+2gCmFlywIpBYwc9p4k5nWpNbh0s6yFnQMh3iCORGapUUUIZPYYVB0naOSNooJExRABQYS6TYt0ib5NLZcZR/yBftRBHDpcYHemelpicbLYDYQ5yhC2t7q12lYW7ieI97tkR504VRQ8WjwjkrePZ3smy+ctiE/Jgl1IJiHlG7XUfrZVyBEz1lh6oDZfyE0z4gumxgTHcDYTihULirPaUh1Cq1dTgN3Fl+cZy/0E8jpIxZ7inOVrsWnCt1l16jvwOcJ9ycwhWv5MLI91dehZ3pKnzxOZTe1WqwWs82rhHx+GvM/+sSuUiMn/o4uSqXalVraWS4OFxc4PWfZ40SlSVrRYRYXV7RZ0OY/CQClmQTrTZujuBHR+LQTMEwJopxFhGZo0bOYj4R8ahqzjC+aTFSzqgQgpL+oORSvImgcbHicq6SBts90CafynHbRdm3qISrNLQ9/L0nBlqWMHWzBzKJ6HUx+RrGrUOjzTTzPCIvA4BUwna7tewPqBLiCmmt63Xx1uWyVy8wmmKOXKZb0PUaQgumOHuoF8hXF5qPuE5ukCuBfTK4tT6JZ5R+oyjy8Id8CIy2kvz+tas/unEej5XoS6PdvLhcHSGcmXcrM9+KQeij3WKNNL1xHqvtymF1d8u+S3dYk1qDYaSdLl4nHsYZhC6+VwkdvIsZM9QpNFjnz4M8Lc3OYhs+TgHxDppLFHoN9gZPttvEnoIFLzXD1Zd20g6rHGfsOKnPFGO1TsCsiiQ5cXTRm5AMd4E8ORcXtLQrW4bucX6mnMxHZpb9uKaWKAHQ2HO1LA5VYhUSoCiRLreyL9Hvt82XDHYLi8nfoeFReFGqdsmVIb8p4LpkHSF8gthtjWN4OwvhXy3ESmHFC5dHd16beZchAJ1/9mKi96e7mcvwenR/AxjobYCjtYYJyZoEewkitZXUExhDb0GY8x52vq2WymKtBBy51O5eXIzQYN1m1NE3te0RnNcTnvvxVMTXS6ibSc6XJWIEWVSba1itNhHNqLkvUKIugFDj2yknECOSYXwYMsLYbZV3ZF8+fst5KejPYICGjB0+4mrmiesn2NdD3qEaXTwopk/dqqxiLZ76UdeqM4pGMG6tPaVn5lIxPt2otaMPc7TGJ9e2VjPu03tv7Ctvd5BmoT7OHbysY02F+4Rb/qFg3o95/dgK1sXrkjyCWvjFyigR0qsYLdj1kZWUf6oEvJsrVXmv0jKxvT4NRSeuMj/8rxjYO03u/nKEnnVnQUG8NYUa2JgCDZvl6M6DUZZ153NWM+2bLZNWoETbMopGLGTzDUWmk1C8u+66tGfwaIF+hbvp0Sp/cQYp7XuoLp6m63keGtGLkO3tR8h1ws8d4q6jWueSuJuS2CIcgGxPBvMUZY8wym659xTSeHfCYAQoJHqIWVArUOzzVZUvXwKplEQy3f0sNMvVAv1hKz10805uT1XeZBBISk94vDegvWs3v1pphM1IqYqZfQEGwJ4QnuvNeG9RSMZ2ESa2LsP6Rhae4PdELrOvCKs8xkywUsj4uRJZMewoBLJpC1skuQhTvhsPWouvgg69isFACQd13JB1nYCV6BsXPXQZAN+mxJ5JrXDoIsOQ41ULKsonZgZAM+wXcRgfVB1u+ECQu8coRBkA00jcBuFwiQbCmo8h3yqBcERdY8Rskf5jZwBEA2mHQt8qxtBEc2kJNYnGcZh0M2kEaJea2SgZENxBP3SLwGSnYvgFtMcOsxCJrsst3qTiyhtnyT9V0SQYi1dcKdLI7BOlCchjUws8wPt30v7IJOgY7tDA4Ty+V0ptHg6b9EYavYWvjP9Z0GnR/KwMP9QrUZTZPUpoB9SYQf6X/6j/4SPtOsSfNl329RZL7LfTgzPSx3Z9s0d2Her/IxfIjCu8WbYGZ58EKa9mcYzwRTfmauO+TT5M6PD8x+M1/Mg3Ic1EUQqSVALQ5qojlDNFex+EmDujUNmWFp449hM4Qd6RbEJjqHoAR2LN3Hc71iP64XWsB6WXty8PuY50EkgQDW8LyAbHGrW1vYFP6q+owmEys6xl+Fly3PG091gUWMrUXROb9txwdXNF9kS0nqLMUl+kmxaUm0kZSnmDps7xV3m2kcCiCn0rYlb/3cYQt53UWxauqSr5lfz7LJse0sPFUjgLfsfPBjFpYy7c8MBH3eCmjOa2fXtZ65+ONHHSxla5+hD7SKZedeqLvbZo3j55TJZVxZM4qC4LLJ0QzDcTH3LfkZrjvffrnxWMh5ca6sn6zXvG0/PqE7Lmb16KdIGjJZojoSFnnx01C7QPrYJ2xtCH5yXi+W2ZfCD9mXaoMXw48YvEzP+oCfG+xFFswP/KiuxTNyAcHXxPUlMkeBwMf5C2juNkAfKO2WnWrcV3tHeOqgQ2ytI2rylUFaqPj1IsTolEG7uvGX9nQ6zMHA2ENu6xT3mThw7YgJhazPHe9zWjFeDmbXn9/DWJyjYoJBh9SS7Puc/Papzttw/XKITbtT55jityxQaGSd8N+fuEI30X/H3wr9gwBqjGFpLweC6JHwbpILEIH0rIenECwIaDbD/NxKEAiojzI0M2ZGQPtXkMfO9OAQ0E5RtFCByScC3C8cvrINbisbAkvVNV+AYDtpw9VfQW8aD/MmOwxs5P8UIWbpQthvFVoCNJS2+pAkoRlOJ3UoaYSQuKK5JcIXIBpeP30iYKdmL9wdd4EqhW6I+xSon5AJLLV4GPo2KwRQQDFkLdRlNdgikJD8U+3yKxjjqCMzr8/BG+3dcLZSMEEKyS9f3VR98ZmsQSGx+5K4Nzvn8LfQgOpL5vFTuRW+/Sy+lQXb9/ZqcdYs7FUjXy56N220JTG+pjffBn2lItFcQXKu8atioRHVKwX2vqn1g8+nY/EmRj2aTifCntbpD6tcu/8He4ER3y9LjWMAAAAASUVORK5CYII=\n",
      "data:image/jpeg;base64,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\n",
      "data:image/jpeg;base64,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\n"
     ]
    }
   ],
   "source": [
    "for i in image[0:10] :\n",
    "    print(i.get_attribute('src'))"
   ]
  },
  {
   "cell_type": "code",
   "execution_count": 49,
   "id": "49c2129c",
   "metadata": {},
   "outputs": [],
   "source": [
    "Input5 = driver3.find_element(By.CLASS_NAME,\"gLFyf\")\n",
    "Input5.send_keys('Cakes')"
   ]
  },
  {
   "cell_type": "code",
   "execution_count": 50,
   "id": "6001fab6",
   "metadata": {},
   "outputs": [],
   "source": [
    "search1 = driver3.find_element(By.CLASS_NAME,\"Tg7LZd\")\n",
    "search1.click()"
   ]
  },
  {
   "cell_type": "code",
   "execution_count": 51,
   "id": "6ab6c83e",
   "metadata": {},
   "outputs": [
    {
     "data": {
      "text/plain": [
       "[<selenium.webdriver.remote.webelement.WebElement (session=\"1f7dd10e7145f0351027f3d6a117c940\", element=\"DB5D7DCB2096E839E939CAD43A3D71EC_element_1945\")>,\n",
       " <selenium.webdriver.remote.webelement.WebElement (session=\"1f7dd10e7145f0351027f3d6a117c940\", element=\"DB5D7DCB2096E839E939CAD43A3D71EC_element_1935\")>,\n",
       " <selenium.webdriver.remote.webelement.WebElement (session=\"1f7dd10e7145f0351027f3d6a117c940\", element=\"DB5D7DCB2096E839E939CAD43A3D71EC_element_1947\")>,\n",
       " <selenium.webdriver.remote.webelement.WebElement (session=\"1f7dd10e7145f0351027f3d6a117c940\", element=\"DB5D7DCB2096E839E939CAD43A3D71EC_element_1948\")>,\n",
       " <selenium.webdriver.remote.webelement.WebElement (session=\"1f7dd10e7145f0351027f3d6a117c940\", element=\"DB5D7DCB2096E839E939CAD43A3D71EC_element_1936\")>,\n",
       " <selenium.webdriver.remote.webelement.WebElement (session=\"1f7dd10e7145f0351027f3d6a117c940\", element=\"DB5D7DCB2096E839E939CAD43A3D71EC_element_1949\")>,\n",
       " <selenium.webdriver.remote.webelement.WebElement (session=\"1f7dd10e7145f0351027f3d6a117c940\", element=\"DB5D7DCB2096E839E939CAD43A3D71EC_element_1950\")>,\n",
       " <selenium.webdriver.remote.webelement.WebElement (session=\"1f7dd10e7145f0351027f3d6a117c940\", element=\"DB5D7DCB2096E839E939CAD43A3D71EC_element_1951\")>,\n",
       " <selenium.webdriver.remote.webelement.WebElement (session=\"1f7dd10e7145f0351027f3d6a117c940\", element=\"DB5D7DCB2096E839E939CAD43A3D71EC_element_1952\")>,\n",
       " <selenium.webdriver.remote.webelement.WebElement (session=\"1f7dd10e7145f0351027f3d6a117c940\", element=\"DB5D7DCB2096E839E939CAD43A3D71EC_element_1953\")>]"
      ]
     },
     "execution_count": 51,
     "metadata": {},
     "output_type": "execute_result"
    }
   ],
   "source": [
    "image = driver3.find_elements(By.XPATH,'//img[@class=\"rg_i Q4LuWd\"]')\n",
    "image[0:10]"
   ]
  },
  {
   "cell_type": "code",
   "execution_count": 52,
   "id": "13b23066",
   "metadata": {
    "collapsed": true
   },
   "outputs": [
    {
     "name": "stdout",
     "output_type": "stream",
     "text": [
      "data:image/jpeg;base64,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\n",
      "data:image/jpeg;base64,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\n",
      "data:image/jpeg;base64,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\n",
      "data:image/jpeg;base64,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\n",
      "data:image/jpeg;base64,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\n",
      "data:image/jpeg;base64,/9j/4AAQSkZJRgABAQAAAQABAAD/2wCEAAoHCBYVFRgVFhUYGRgZHBkZGRwaGhgcGRwaHBgZGhgYGBgcIy4lHCErIRkYJzgmKy8xNTU1GiQ7QDs0Py40NTEBDAwMEA8QHhISHjQrJSs0NTQ0NDY0NDQ0NDQ0NDE3NDE0NDQ0NDQ0NDY0NDQ0NDQ0NDQxNDQ0NDQ0NDQ0NDQ0NP/AABEIAOEA4QMBIgACEQEDEQH/xAAcAAAABwEBAAAAAAAAAAAAAAAAAQIDBAUGBwj/xABJEAACAQIEAwUFBAcEBwkBAAABAhEAAwQSITEFQVEGImFxgRMykaGxQlLB0QcUYnKSovAzguHxFSNUo7LC0iQ0U2Rzg5Oz4hb/xAAaAQEBAQEBAQEAAAAAAAAAAAAAAQIDBAUG/8QALBEAAgIBBAEBBwQDAAAAAAAAAAECEQMEEiExQQUTMlFhcZGhIrHB8RRCgf/aAAwDAQACEQMRAD8A37NAk/Km7ONGYKRE7SdZ8htS2aoOJsH3gJ6KBzry45U7Pc4qSpl2poqh4O/plY6jqRJ9BtUwGvbGSl0eSUHF0wUKFCtGAUKFCgFUKKaKgFUKTQoBVCk0KAVQoUKAFCqbtPxoYWzn0LsQqD17zeQHzIq5qAFHRUKoDqFguIC491FGlplQtOjErLAdIOlO47Eeztu/3EZv4VJj5VnuwKn2N1yZL3m16wiAn45j61GXwamhQoUIHQoUKAFChQNAChQoUBgrnGLzHMGRB90At8zE0puLXyIV1JjYoBPrNZ63igx3jkKtsNYB9oc4i2syDIJ6A86+csjb4SP1MtDhjHmxGG7VQ2TOmaYKgJmkbiN5q2HFXnPLiBsACPUA1i3KpiHZFOd4LHc6jkOVWb4kK2k8ozfUgV19uk+EeSHpbablJ3zRo7Ha4L74DeK6H4Gr3AcZs3vccT90mGHpWEV5HeUFTvoKzPHrb4Z1dZa25OU7Mp3iR8j4V2hmUnR4tV6fPDHc6a+R3GhXKezfbt0IV2Lpzn318j9oV0nDcTR0V1YFW2I+cjlFdd6XDPAot9E2hSUcNsQfKlVoyChQoUAKFChQAoUKi8VxXsrNy5zRGI/ejuj1MCgObdt8f7e84B7lsFE6SNXb1bTyUV07Bvmto3VEPxUGuM4hTkOusGfHmZrrnAbmbDWG62rZ/kWsx7NvosaFJoVowVvaVow1390D4so/GonYlIwiH7zO387L/wAopXbS5lwV4/8Ap/O4lO9lLithbRQ6QQfPMSfrPrWf9jXguKE0mlVoyHNCaTNCaAVNCaTNPokaneowN5T0oU9moVLBwC1eb3irfwmlXOJQN4+Vae7YGVYMsRLSIAPQdapOL4VDCKJJGsjLH9da+XtV8n7fc9vHYfBTnYagF9AWMDQEiTy/xoYp2VyDodNKLAsMOv3m2n8qvraJdUlisZQYO+u4U9RTtUiJtPcyKvFGYW1IWE2gASJza9amcfvWbwZdcrZW0gENzj+udZe4zLda2stB0jmOVShbvAqzI2VTJ2M9dBVhKSZMmLHJXXx4+pUcW4H7MC4jaTz0g8p/OrvsN2gNtzbeSj6MvRuTDz2NSO1OJsFAtoiHWSM2aNo8j4VmuCofapPvBlHmCdPmK9sHuTTPzerwxxTUoqk/B2eyyN31YqTpv000FSExLr76zqduk6T41FaylwgTlZeSx16VPYgDU1z3uPunOSi+xdnGI2kwZiD16VIFVyMpYGIA+Pp0qfbdToK9MZSato8s1FP9IdClxQitGBFUvbJowlzxNsf7xKvYqp7U2c+Fujoof+B1c/JTR9FXZyk6iuodj3zYLDnogX1UlT9K5cpjSuk9gXnBIPuvdX/eOfxrKNSNHQo4oq2YMz+kJ4wL+LWx/Op/Csr+jDj4DvhXPvHMn73NfUfQVov0mPGC87iD5Mfwri+GxRS5nUkMCCCNwQZEVzk6kdEv0npShVF2T7QJjLAcEB1hbi9G+8B0P51dzW1yc3wKmimkk0ktVBIw6yfKnyabwOxpcVl9gFChQqFOV5hJE7U7+rqyyVB5E8/jVFgsUWB12NX2F4uoUAqDAIkHfz8RXzE1fJ+0lu7XJQ8YwZTviSh+U/hUFeIhVitRxG+r2cuWDlIOsz41lrnBgUZ1kgb66jSZqUmy75JXX3LDhV8SGInNGYiM0dBPOKv8JdRs3fKhdQDuRrpppO1YqxclQgMERV7hToJOoGpqK0V1Nd0UvbS1luWymgue8B94MJjzkVadmsGr4hGcgKu8mJPITVZxS77S+G3RBlTxJ95h8h6VfWOFO1rxMd2dAPTdvzr3QajDntn5nVP2md07SNb+oBHZ0dsxmI2Emd6s7GBuP3mb4/lVV2axTqpW53gDlXqNNRI38h0rTX+L4eygZ7i68gczHrAFdYV/082beu+gWuHgbkmpS2o5RWO4j293FlAP2n1P8I2+dZbiHaC/e9+4xHQaL/CNK6HA6Xi+M4e3791J6A5j8FmqfEdtcOvuq7egUVzhnpBego3F7t2fsWlHmSfpFVfEO1164jp3AHVlMLyYEHUz1rMzRZqAO3dDqrjnofAjcfjUjC8QuIhRXdVDMYDECTB2HnWfwOO9m7o3uZireGvdYeX0qzX3mE8wR0gosEfA1iPZ0l0WC8RuAyLj/wATfnUzD9pMSm15/U5v+KapZos1bOZM7W9o7t+yiOQQHDbAGQjDl+9WEZ9auO0L91PM/Ss9mrEuzV8UaXsxxx8JeW4hnk68nXmp/A8jXcOH8dw99FdLqjMJysQrA81IPMV5zsNV3wvGENknQ/XrSMqNOO5Weglg6ggjw1o8lcaw/ELlsyjsp8CRWh4d22vJAuAOvjo38Q/EV0s50dMwRgx1qW6Vm+EdorN+MrZX+62h9Dsa09twwmsyXkgzkoU/koVkHmPAcRKMQwYBucHSrzEG1cUtmyv3SuXKE0ABlREaAajnNZhMSnlTq316n4153hjfDPqw9RmlUlf4LnF8U7uRST1NDC8RKKw7veEEN9QJ3qm9uvj8aMXvup+NRYIryal6pllwkg2sMWkNHkJn41PssRCgsTtEzPptT/DuD3b4n3F2k7+grTYDhCWCAqO7HdgsgeZ2FbbiuIrk82/NNu5NX4INrs+5QGQHJkzPdHQRzq47NNBYuwWwg1YiCx5AeJ3irbD37aozvmGXlA1JmBPpWO4txV7ramFGwGw8hSEZStSRJTWNVRf8W7Uo2lpCOWY6aeCjasvfxTMZJnzqIblFnrvGKiqR5ZTcux03aLPTWakk1oyP56Geo2ajzUKSC1FmpkPQL0BQ8T0uuPvQfkPxBqTwviQXuOe79lvu+B/Z+lR+Ojvq3VY+B/8A1UAmub4ZuLtUzXk/1+IoZ6pOGYwr3W1Xl1U+E7jw+nO1L8wQQdiNiPCtp2ZlGir7Qv7g/e/CqSrXjzap5N9RVVWX2ZJFmp2APfFQLRqRYu5WBrDPTHo1FxwTp0APnH+VAGoeHYwBzOp8zWo4ThbZH9mGaJJeGnrCnQD4nxpLLGFJ9nTT6LJnuUel230UqXsuoNbTs121a0Ql0l02n7Q9edQrmCt3VI9kFjdkQKV/aOUQfI7/ADrJ4i21t2Rt1MHp4EeBEEeBFWGVTXBjU6SeBpS/B2//APsML/4n8poVw32xoV02nmo1t/sXh+SADmcxHy2o07EYY7T8vyrVreU6Dv8A7oLHyOWYoLhHJlVyj9o/gCfwryKM5dHqbguzNW+yVhD7kjqQCfpVkvA7DKAV7o16fSr9MD95vRRA+cmn7OERdQonrufida3HDJ8tnN5orpFZg+GoAAiaDbmPnpVzb4dmUq0AHQjw9Pzp62Kfu3QiM5+yrN8AT+FdFhS5Zl5pPo5b23xSpdNm3oqaHxb7Xz09KyRapnFcQXuMxMsxJJ8SZNQM1dEc5ScnbDJopopopqkDzUeakE0U0A5moi1N5qLNQo4WoZqbmgTQEHjiyqno0fEf4VTqaveJ25tMZ2g/OqAViQTok2W7wFXti7CRuPoeoqlwqyR8zV7bdYiNKRRuT4KPit7MwEe6I+OtQq0WH4ML18jNlQQWI3B+6oOkkCfDfoDsMP2ew8ALYB5aySfMnc1znlUXXk9Wn0OTNHd0vizl6tFT+F4Uu2YjujbxNartF2VtW8lxQyrIFxQCfe2KzGxgGDEMI2iqvHYxUypY3CksfhCxyiGkeFai1JWefLililtf9krDIQSSNuvjWh4ZxHIrKBq0CZMgcx0g+VYzAYkk6kszaneQdiCI8OWm3lVxYxAkSa+fqNyyWfq/TPYz0qh9/qbngHElts3tBKMsMImR08aynaJJNt9ZZCp8chgE+hA9BUi3ilgS2n0+dMXXTEB4JU22CLtlOYElfA90/LfWOumlJtL4Hk9WwwhjlPy6/BSxQp/9VahX0bPzO47eiAaAQPCjopos1UgqlKaVawzNvoOp/KptuwqxzPU/lUbKR7SE7A1H7QqyYS+x0/1bD4iPxqze8q+8wHmQKpO297/srrybnI+H0rLsLs4ZcvSxow1QLrw5FPo9LKSC1FmpvNQzVQOZqImmy1JoB2aGYU1NGqzQE7h2DN18oMKNWbeB5cyen5VoLXBLEbOx6ltfMAAD4zVTw0silYjNlbpO4A+tX2D4iApUqNdzMdD0O0esnzHhy5pKbinR+j0Xp0HgWRq2/wAIz3FuBuisV7ylWHiJBEnrH4Vi0sMWCgd4mAP65eNdqa/aNkzpcB0A5gwADPLnzI1rmXE8IyXmW2xVWIJWSAAc3dBB597TT5TXTHkcnTZ4Ndo1Be0gqV01/KHbfDEQAZpPMjr+VIuLl5+VBLmVspknXTmYEmPSmvb+1ug21LAAZVAk6CSSN5mf4RXpuj5aNBwuEQdWJY/18K0dviXdCgkAwSI2MQYM6iZPLesTgsXIg6MNCDuNedXOExK9fj/nXyZykpuz9xghhyYI7eUkabid+3csC0AdoYkydEYNCk91ScsAad3lXHbdzI28QddJHrsa3+Mx0IWB5H6GOdYHEWwe9z5+fjXr08nK2fA9WxRxuMV3y2aRv1dVW5Zvr7SYIkQfIMoYj9kr6mmDhrzhnDZiAC5III2VRqBmZiQABJJNVdtLqrmFwKvPIyhxpzQQ23pR2LzF/wDs5YFZbMzrmXYFgYAXfca+Nd5RUuz5UM04O4umT8T7VHuWmYKyrJA5NIGQ66HWKlcHTLbdiIzJm57q6CR551PoPGmHxIw1xCrKzoFLyqsGJDHv6kEyxOpJJy7QKcxPFHuKFLEINlBAXTYlVAGggDTSKRio9I1kzzy+9Jv6kz9eNCqv2lCulnGjvy6mBzqfYw4XU6n5UjBplEnc/SpBFaZkDOAJJppMSH7oD+Y0+h0pzKOYBoA8thWbA0cEkzJ8eZPqaxfbXi9tlFm24bIWVwDIViAcpPWPhNaftDxm3hLLXLjciEX7TtGigfU8q4hwBpsuSZJck+ZVTp6GpbKVfGLBJzruKawl7NodCNxVliaqMRhTmzKYNClhNFUPD477L90/1v0qYRVTsAmkk0KI1QCp+D0EgS3Kq8GgbvINB5eHjQEy3xB7zqqBnfXu/a32UbGOgqzw+OU6NoQdedYv2pVw0DMDmDSw1nRgVIjzqbbxLu2o9o+pIQMWPVmcHXz1ry5cKm78n1dF6pPTx2SVr9jY/wCkV5n+vSqW64v3O4STkMTlALAsTknUmCCJjZhqCKZsY0bLh1Z1BCy7sqljGe53spbkqiBJ1kwKfwOHVrRylAXLWi7GAqZDLBRsGbMJMSG55WyzFh2O2y671P8AyI7IqkVOJxTMiMVGZcyE/e2Os+g9KhcOxhtXFcKSVIPdZlOmuhU6VacTCiyttJYqUZm0CkqpVcoOuzCZ6bDWoCYZWjOzJykLmHqJBFeg+Sy0xmNS9ca7cUJmkwLql5IOui6agTIFKvKiIXXEhgEAUFWBa6SZW2IkqoiWMCTGtVBw5tk5VS4OTalRI3ymNRruDUrDqiAu7K7lYC5gQoPUKe9ppEiJ2mKzKKl2jpDPkh7smvoTsNgWuDNdaEykmYEMqqxnyzKP7wqVxLhyZRkV87hzcDBSFyklQjKdO6wkGSSCBsaorOLYplztux0yhe8ZOaNTOvSKk4fE3Vki42pDGcp7wBEjMDBg7jw6CNRikuCTnOb3Sdsgph2Bykruog7DMJkdBTnEcKLdxkUq6iIInmAfLnUgoDvrTfsBUal4NR2+RqzaXLm0zTGXnHWpirFIRANhSs1aimuzMnF9IXQpGajqmD0oDGwpJoyKOKGQ1oEUaiq7tDihbw1522CMOY1YZV1Go1I1oDk36UuMC9iPZgBfYh7YOYd4MULN4e7FZ/s8wNi5rrnn+VarOJKzO0AknKD1EHUfKpPZ5yGdCN59O7MfyrWUal8iRdNNEU5f0JpAqkI1+wr7jXrzqILr29PeXxqe6xTLirQE2sejaGVPj/hT5qDesg7iiV7ixlYkDk2o8oPKnJSfSHtg67H+txUU44z3ly+K6j+E/nU7CoLhhGQk7AuFJ05Z46VLAqxbw7EC+HEbMmo9RRcTw+HH/d7uTqO8J+LE/Oo3EcAytDKUbo4IkdRO48RpUQ4Rv6NRv5GlFPyPviItC0gAG7lc0sdNWkmNBECBvpTNtXiBOXTQsQpiYkA67n4mlWLJUzlM8vA71KVYouSuNIIZiBmO2gAACgdABQK0uhWjJB/V2LZQ0TsT+Jpg2ztz2qzZab9kOlZcX4Nx2+QhbhgAdgJ6TGtPikSBSBfBYKgLsdgoknyAqpUSUk2PUKmWOC4hoZxbw6nZ8Q4QfwnvT4RTy4DBI0XsdcuD/wAvZgTzAe4RP8NUxZXW1LsFRWd20VVBZj+6q6n0qyx/B2w8C+Qt1hIsghrgHJrhHdtg9CSx6CrK52uNpTawFhcIh0LmGxD+LOZy/PzrPoNSxJZiZZiSWJ5kk6k0Ficj/sfzfnR05QoSz0eaUtNB6XNCC6xH6RuOeztnDoRmdT7QZZORgwheUmD4xW3Q1yf9KSFr4lkICqABkzruQSCCZkk+RoVHM8TebMxE94ALrygbdB+VPcKJa+nKAR5wh+ZpnF3FNwMFAAG240mT3idzJ8zTdi6UdHhpBzEnnr3iPjWQy8xi60whp+9iEaIYHMYEdYmKYIrRANUa5TzNTTmiKNMJqOUI2qQaQathDOc8xTbhTyqVNEVHSrwUGC4lesf2V50G5UMcp81PdPqKs8P2kXa/g7F3aWTNZfzm2cs/3aqDbFJNqpS8AuMRxXBtqljEWz09ojr6EopqG2Ns8jcHmq/UNUE2qI2qlMck58XbjuuxPQpHzk1FOLY7AD1pK2qc9kKtAZa45+186RBO5qV7NelGqClIDeEuZGDhUYjYOiuvqjAg+tXOH7VYtAypcW2G0Ps7Vm2Y5gMiAgeRqsKiiRYpwOBeSTJ1PU7/ABpxUAolpYFQgtSKcDU2op2hBM0KLLQqA9IZAwzIdN/8qRmNZu1iblho18VO3mPzFXuC4kl3Q91uh39OtUpJS4K5z+lXAuxW8qKVUBcwHfBljD9RJEDzjfXot22QJAzDw3+FZ/tDwxcVYe3Pe95CCRDjbn6a9aA4Lct5YYbQQdiRJO/Qa70hL0LkJOXVTG5kEjXpJGlWfGMG9u4qXFKnYB82bXTKYEMCY1HWobnIyHTqCQCpPQyPDfkeVZKVq5kIJEbH4GrK1iw0gTp16VCxBLb7gxH0/H4U1bVlaNARvJAEb70IWbPTbPTFm4HJB0PLXenzbIrSAjNrS5pCrTgWqBBFJinMtArSwNgUoCjigBQBAUdHFERQANAUeWhloAjQmiigagAxokmjilKKFFqaUDTYNPLQgpacFJimL3EFWRuRy5fGoCXQqs/0w33E+f50KEPTOJwquIYevMeRqgx3DHTvDUDmNx5j8a0F6+UQMwBY6QNAWPLXbx8jTeEvF5zAAjaJrVWCiwnaI2mVLhzA7H7Q8+tXwFu8M6MA3UfRhyNZzEcGT2uYEghjMkmTyJnWRUbH4e/YM25VpGoiCOY10PkalUUldqezSX0Zntj2gByusSegJ5jzriePwrWyUZSrgwyEGPA5dxOuorvPCO0ZYZb6ZG2n7J8f2fmKHG+yGGxffKDORo6EK+2hkaPHLMDUYPPaqCNTG2s/iPTpvRkRK93vTrp3vAnl/jrWy432FxWGYlB7VBsUXvgDbOkTsNxPpWSxdshtRHXeMw8tmH0+FQpE/VmYmNwCSIOpUSQPQT6GjtYp1XXUba78/jsakjDlhKiY/wAtv6mKba1m+yZA7ynnzlfrv8RMCC7OLRtD3T47fGpIWqy7b0EAaaEz706qdfX4a+KEzDQFgegnfkIq2C3KUk26g4XHlT35I+YqwGKtkTmH4/DelkEG3RZKcW+jbMPofgadFurZSLlpJFSHSmmFAJApzLQVadVKAZa3TZQ1MptqAYC0CtP5lB1IqNjcTlELEn5CgEs4G8CkvjVXYZvpTGFw1y++VRmc7CQJ2Gk6ePkCeVSk4RIb/WLmWQVALdQIKzmEjcee2pzYGv8ASn7Gvn/hUZrTaaE/XXUSOU768qn4RTYz5lV1ZCpj7LHVG7wlSCN42JHOrbjHGHdLdlURFyqAiRm0El2ymVLaHUgwOlBRmv1Jv2f40/6qFPy33k/+Qf8AXQqFo9QYvC5yDMAT8Tz/AK6mk2ryCFDbaSRHzNTyp6Uzfw4caj15/GulmSNdtovfK6jXTr1pnEW0vCM23L+vwp+1bCgrnUryEiRSktBAco1P9b0BnH4C4mGzjkCdR4A86jYfFXLDQJgbo23w5elaD9VdzLmB6fIcqRijbfuuCY0zcx60aFi8Dxi3dhW7rdDv/dbnVN2l7CWcWxuK2S4Yk/fjYOOcRuINFjOFMozL316jf1FJwXF7luATnXodx5N+dZKcw412RxGFYtcsB0B0dSWSP2iACp8wB41TPbKlk1JIlJViSJkMrLvG4bUjURqRXorCcTt3hE68wdG+HP51RcZ7BYa/LKGtsZ71vQamTmtmV15kAHxpQs4VZwyucrXAnmrsCY0MICeZ+yNz1p/FW/ZplhXQ93OCGXNuCje9bYT7pPmACRW14n+j7F4Y+0sMt1V5oGF1Rqe6g/Ak7xWR4vmdmYqVfRXAQqxIGpa2QAQd45eJkmAr7LKf9W5OViDK6EkbGDoGgspkaTPWYq4bMRkEzPdYjNuYjadI+dOKCWiATpPvDXxFWmJwRS0GZMquPeBW5bMQdx37bCRpv10oKKdcExnkdRB0OYfYIOubw/Iwa4q4qxJgkQx38gTT6Fi06sTs0zmjYMRz00bcaVOw/EXtiRiHQsWLKM2UqYjusApO+2lBRV2OIuujd4eO/oalXseggr3p5bR508uLz910RtXYsqgmXEElAe7y1A5DpUcYO0e6CxZoKspBXxBWJLdACPWlgT/pMfc189KK7xKRCqQ3jr8KsLd7D27QR7BuXQxM3S6KuvuoEafMNVfiURnDAMmbVlhQFHIqwgEHypbA0hvakByNJ0LDUAjXloRSsZcuLCsMpIB0IMgiRttpy3qffuMbdu0pHsllxlzkBmPeNzKNX7o8hA0p04VwhOUOsQe8RpHIXFVz5BvSgor+H8PW4l12ZlyBSsDMWYtlCQSNdzPIKdNdFpgbbKJ9qjQBOQspOpJga/lHOm7aKuYMJKxkGY5dTJBUd4zI2IjnO1XmFwWZWYYUuF0c+zREQ/vMcx9YoDPmyEcAMzLKyUBV4OpAVtQdPLapeEsqzG2LXtCTC5FuPcP7PddVHwPlSeI2V963B3zKuUqswNSrMAPGYNT+BYi8zWrdgZmUwQgJZgzyVOXUg6KT0kTQEa/g2svBDWW+0rOA8ASY1kbbkb9dqssFhlZnu4juotxTdRe7mRwzKeWYTBCrO5090HoHDOwt++Q2IW1h01OS3bte11M++FOT4k1uuE9mMPhtbdpQ25ZpZyeuZtvIQBQHEP1I/wCyXf8Ad/8AVRV6G/WE++P4hQoLMjwbiQDhXOXo3LyboPH/ADrUXcOrakTWAZZnSCNx9CDzB5GrDh/GXtrkYkpyI95R0HUeHL5VoGrbDKBISfD/ADpCB5HdVV6Tr8qcwKjIGUhs2sjUa+NPEUshFuBhsAfOR8KjkK5hkIPy/iFT2FIZaoIOLR47m3hv6VUYnhrvrEHrp8xVpcxTK5B28vmKedcy91vUUBlcXgHQyR5MNvjyqTguNumj99ev2h68/X41d4e2+oYSD1M/5ioGM4Orap3T0+z/AIVGilvguJJdGh158mHmKY4rwSxiVi7bVxyYCHEaiGHeHoayd/DOjagqRsdvUEVYYLj7pAcZx12b8jUBScZ/RYjw2GvlI+w/eVv2c4gjzObesrxHszjLK5Hw75V0VrSq8rrqSglt9nnwiuyYPitq7swzdNm9Qd6sF8CDQHl65h8p1kaw8A+kg+4d+Z8I1qerQhd2AZtFWczkDQtcdzoOQAGvlv6F4hwbD4j+1tIxiJI7wBgwG3Gw26VlcX+jDDMTkd7YIiNHA1B0La8hzqFs4pcUAzCEeMrr4GYnxEGm/aiZYFiDopaZ6FmiWHhofGuzH9Fdv/aX8siVCvfohG6YkKRsTaB+jilA5hj8KQ7CUaCQYR1E8wNZqHZMbRB094FSf3d59a6un6KLoOuJtgjZgjSdZJKZhB9TUpP0VLMtih4lbShp8GLGlDg5WtyV9mVBVAAgltNZZokBmYmJOgywIAqZYwSZMym0j/dYXwSP3kJX4iumj9FWHBn9ZxBP/tgcuWXXQAa1fcP7G4OwcwtBm01uEvtzCt3R6Cgs4fh+EXXcNZRrgBDgWkd1ldYL5QJMc62PCezPELtxna0LYLM4F5UKKzsSxVDmObU676RNdgt2jEKIH8Io3tqol29JgfHnQlmS4d2Gshle4z3nAMqcq2gTvCAQOfMxWtwuCS0oUKqKBoqgKAPIaVGvcWHuov4D0qvvXGbV208TA9Bzq0C1vcTRdEEnry+POq/FYpiuZzM7LsPWmEuAqSkEgkAkGNN9Kz3EcXiEkKZB5EKR6RBpRC6/Wbf3E/l/KhWP9piP/DX+A/nQoWi8xn9t/df/AOyot2hQqoGs7If2B/ff8KuzQoUIIpLUKFAQeKe4POonD/e9KOhWvAHsdtTPDfteVChQDHGvc9RWauUKFYZUMW/fX94fWuhWOVHQoGSb2wpxdqFChBVEaFChRh6NKFChBFyiwPvGhQoCwubVnOLe+PL8aFCogNP7h/rpTfFPs/3v+WhQrQE4P+z9X/4jVc39ovmKFCgNFQoUKpT/2Q==\n",
      "data:image/jpeg;base64,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\n",
      "data:image/jpeg;base64,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\n",
      "data:image/jpeg;base64,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\n",
      "data:image/jpeg;base64,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\n"
     ]
    }
   ],
   "source": [
    "for i in image[0:10] :\n",
    "    print(i.get_attribute('src'))"
   ]
  },
  {
   "cell_type": "markdown",
   "id": "bb488bbe",
   "metadata": {},
   "source": [
    "# Question - 4"
   ]
  },
  {
   "cell_type": "markdown",
   "id": "579c6679",
   "metadata": {},
   "source": [
    "Write a python program to search for a smartphone(e.g.: Oneplus Nord, pixel 4A, etc.) on www.flipkart.com\n",
    "and scrape following details for all the search results displayed on 1st page. Details to be scraped: “Brand \n",
    "Name”, “Smartphone name”, “Colour”, “RAM”, “Storage(ROM)”, “Primary Camera”, \n",
    "“Secondary Camera”, “Display Size”, “Battery Capacity”, “Price”, “Product URL”. Incase if any of the \n",
    "details is missing then replace it by “- “. Save your results in a dataframe and CSV. "
   ]
  },
  {
   "cell_type": "code",
   "execution_count": 78,
   "id": "71e84ccb",
   "metadata": {},
   "outputs": [],
   "source": [
    "driver4 = webdriver.Chrome()"
   ]
  },
  {
   "cell_type": "code",
   "execution_count": 79,
   "id": "f9efe8fb",
   "metadata": {},
   "outputs": [],
   "source": [
    "driver4.get('https://www.flipkart.com/')"
   ]
  },
  {
   "cell_type": "code",
   "execution_count": 80,
   "id": "53f5ba1a",
   "metadata": {},
   "outputs": [],
   "source": [
    "Input =  driver4.find_element(By.CLASS_NAME,\"Pke_EE\")\n",
    "Input.send_keys('Oneplus Nord')"
   ]
  },
  {
   "cell_type": "code",
   "execution_count": 81,
   "id": "9892552e",
   "metadata": {},
   "outputs": [],
   "source": [
    "search = driver4.find_element(By.CLASS_NAME,\"_2iLD__\")\n",
    "search.click()"
   ]
  },
  {
   "cell_type": "code",
   "execution_count": 82,
   "id": "ce47d11f",
   "metadata": {},
   "outputs": [],
   "source": [
    "Name = []"
   ]
  },
  {
   "cell_type": "code",
   "execution_count": 83,
   "id": "6e59074b",
   "metadata": {},
   "outputs": [],
   "source": [
    "names = driver4.find_elements(By.CLASS_NAME,\"_4rR01T\")\n",
    "for i in names :\n",
    "    Name.append(i.text)"
   ]
  },
  {
   "cell_type": "code",
   "execution_count": 84,
   "id": "d14de2ee",
   "metadata": {
    "collapsed": true
   },
   "outputs": [
    {
     "data": {
      "text/plain": [
       "['OnePlus Nord CE 3 Lite 5G (Pastel Lime, 256 GB)',\n",
       " 'OnePlus Nord CE 3 Lite 5G (Pastel Lime, 128 GB)',\n",
       " 'OnePlus Nord CE 3 Lite 5G (Chromatic Gray, 128 GB)',\n",
       " 'OnePlus Nord CE 3 Lite 5G (Chromatic Gray, 256 GB)',\n",
       " 'OnePlus Nord CE 3 Lite 5G (Pastel lime, 256 GB)',\n",
       " 'OnePlus Nord CE 2 Lite 5G (Blue Tide, 128 GB)',\n",
       " 'OnePlus Nord CE 3 Lite 5G (Chromatic Gray, 256 GB)',\n",
       " 'OnePlus Nord CE 3 Lite 5G (Chromatic Gray, 128 GB)',\n",
       " 'OnePlus Nord CE 2 Lite 5G (Black Dusk, 128 GB)',\n",
       " 'OnePlus Nord CE3 5G (Aqua Surge, 128 GB)',\n",
       " 'OnePlus Nord CE 3 Lite 5G (Pastel Lime, 256 GB)',\n",
       " 'OnePlus Nord 3 5G (Misty Green, 128 GB)',\n",
       " 'OnePlus Nord CE3 5G (Grey Shimmer, 128 GB)',\n",
       " 'OnePlus Nord CE 3 Lite 5G (Chromatic Gray, 128 GB)',\n",
       " 'OnePlus Nord 3 5G (Tempest Gray, 256 GB)',\n",
       " 'OnePlus Nord 3 5G (Tempest Gray, 128 GB)',\n",
       " 'OnePlus Nord 3 5G (Misty Green, 256 GB)',\n",
       " 'OnePlus Nord CE 2 5G (Bahama Blue, 128 GB)',\n",
       " 'OnePlus Nord CE 2 5G (Bahama Blue, 128 GB)',\n",
       " 'OnePlus Nord CE 2 5G (Bahama Blue, 128 GB)',\n",
       " 'OnePlus Nord 2T 5G (Gray Shadow, 128 GB)',\n",
       " 'OnePlus Nord CE 5G (Blue Void, 128 GB)',\n",
       " 'OnePlus Nord 2T 5G (Jade Fog, 128 GB)',\n",
       " 'OnePlus Nord 2T 5G (Jade Fog, 256 GB)']"
      ]
     },
     "execution_count": 84,
     "metadata": {},
     "output_type": "execute_result"
    }
   ],
   "source": [
    "Name"
   ]
  },
  {
   "cell_type": "code",
   "execution_count": 92,
   "id": "d684a218",
   "metadata": {},
   "outputs": [],
   "source": [
    "Brand_names = []\n",
    "Product_names = []\n",
    "Colour = []\n",
    "\n",
    "for name in Name:\n",
    "    \n",
    "    parts = name.split(\" \")\n",
    "    brand = parts[0]\n",
    "    product_name = \" \".join(parts[1:5])\n",
    "    colour = parts[-4:-2]\n",
    "\n",
    "    \n",
    "    Brand_names.append(brand)\n",
    "    Product_names.append(product_name)\n",
    "    Colour.append(colour)"
   ]
  },
  {
   "cell_type": "code",
   "execution_count": 97,
   "id": "f5c3f6a2",
   "metadata": {
    "collapsed": true
   },
   "outputs": [
    {
     "data": {
      "text/plain": [
       "['OnePlus',\n",
       " 'OnePlus',\n",
       " 'OnePlus',\n",
       " 'OnePlus',\n",
       " 'OnePlus',\n",
       " 'OnePlus',\n",
       " 'OnePlus',\n",
       " 'OnePlus',\n",
       " 'OnePlus',\n",
       " 'OnePlus',\n",
       " 'OnePlus',\n",
       " 'OnePlus',\n",
       " 'OnePlus',\n",
       " 'OnePlus',\n",
       " 'OnePlus',\n",
       " 'OnePlus',\n",
       " 'OnePlus',\n",
       " 'OnePlus',\n",
       " 'OnePlus',\n",
       " 'OnePlus',\n",
       " 'OnePlus',\n",
       " 'OnePlus',\n",
       " 'OnePlus',\n",
       " 'OnePlus']"
      ]
     },
     "execution_count": 97,
     "metadata": {},
     "output_type": "execute_result"
    }
   ],
   "source": [
    "Brand_names"
   ]
  },
  {
   "cell_type": "code",
   "execution_count": 134,
   "id": "9ef522fa",
   "metadata": {},
   "outputs": [
    {
     "name": "stdout",
     "output_type": "stream",
     "text": [
      "24\n"
     ]
    }
   ],
   "source": [
    "print(len(Brand_names))"
   ]
  },
  {
   "cell_type": "code",
   "execution_count": 94,
   "id": "59784714",
   "metadata": {
    "collapsed": true
   },
   "outputs": [
    {
     "data": {
      "text/plain": [
       "['Nord CE 3 Lite',\n",
       " 'Nord CE 3 Lite',\n",
       " 'Nord CE 3 Lite',\n",
       " 'Nord CE 3 Lite',\n",
       " 'Nord CE 3 Lite',\n",
       " 'Nord CE 2 Lite',\n",
       " 'Nord CE 3 Lite',\n",
       " 'Nord CE 3 Lite',\n",
       " 'Nord CE 2 Lite',\n",
       " 'Nord CE3 5G (Aqua',\n",
       " 'Nord CE 3 Lite',\n",
       " 'Nord 3 5G (Misty',\n",
       " 'Nord CE3 5G (Grey',\n",
       " 'Nord CE 3 Lite',\n",
       " 'Nord 3 5G (Tempest',\n",
       " 'Nord 3 5G (Tempest',\n",
       " 'Nord 3 5G (Misty',\n",
       " 'Nord CE 2 5G',\n",
       " 'Nord CE 2 5G',\n",
       " 'Nord CE 2 5G',\n",
       " 'Nord 2T 5G (Gray',\n",
       " 'Nord CE 5G (Blue',\n",
       " 'Nord 2T 5G (Jade',\n",
       " 'Nord 2T 5G (Jade']"
      ]
     },
     "execution_count": 94,
     "metadata": {},
     "output_type": "execute_result"
    }
   ],
   "source": [
    "Product_names"
   ]
  },
  {
   "cell_type": "code",
   "execution_count": 95,
   "id": "11ce62ed",
   "metadata": {},
   "outputs": [],
   "source": [
    "modified_list = []\n",
    "\n",
    "for item in Product_names:\n",
    "     open_paren_index = item.find(\"(\")\n",
    "    \n",
    "    \n",
    "    if open_paren_index == -1:\n",
    "        modified_list.append(item)\n",
    "    else:\n",
    "        modified_item = item[:open_paren_index].rstrip()\n",
    "        modified_list.append(modified_item)"
   ]
  },
  {
   "cell_type": "code",
   "execution_count": 96,
   "id": "e24a44ee",
   "metadata": {
    "collapsed": true
   },
   "outputs": [
    {
     "data": {
      "text/plain": [
       "['Nord CE 3 Lite',\n",
       " 'Nord CE 3 Lite',\n",
       " 'Nord CE 3 Lite',\n",
       " 'Nord CE 3 Lite',\n",
       " 'Nord CE 3 Lite',\n",
       " 'Nord CE 2 Lite',\n",
       " 'Nord CE 3 Lite',\n",
       " 'Nord CE 3 Lite',\n",
       " 'Nord CE 2 Lite',\n",
       " 'Nord CE3 5G',\n",
       " 'Nord CE 3 Lite',\n",
       " 'Nord 3 5G',\n",
       " 'Nord CE3 5G',\n",
       " 'Nord CE 3 Lite',\n",
       " 'Nord 3 5G',\n",
       " 'Nord 3 5G',\n",
       " 'Nord 3 5G',\n",
       " 'Nord CE 2 5G',\n",
       " 'Nord CE 2 5G',\n",
       " 'Nord CE 2 5G',\n",
       " 'Nord 2T 5G',\n",
       " 'Nord CE 5G',\n",
       " 'Nord 2T 5G',\n",
       " 'Nord 2T 5G']"
      ]
     },
     "execution_count": 96,
     "metadata": {},
     "output_type": "execute_result"
    }
   ],
   "source": [
    "modified_list"
   ]
  },
  {
   "cell_type": "code",
   "execution_count": 133,
   "id": "2153cd40",
   "metadata": {},
   "outputs": [
    {
     "name": "stdout",
     "output_type": "stream",
     "text": [
      "24\n"
     ]
    }
   ],
   "source": [
    "print(len(modified_list))"
   ]
  },
  {
   "cell_type": "code",
   "execution_count": 98,
   "id": "e5b005a0",
   "metadata": {
    "collapsed": true
   },
   "outputs": [
    {
     "data": {
      "text/plain": [
       "[['(Pastel', 'Lime,'],\n",
       " ['(Pastel', 'Lime,'],\n",
       " ['(Chromatic', 'Gray,'],\n",
       " ['(Chromatic', 'Gray,'],\n",
       " ['(Pastel', 'lime,'],\n",
       " ['(Blue', 'Tide,'],\n",
       " ['(Chromatic', 'Gray,'],\n",
       " ['(Chromatic', 'Gray,'],\n",
       " ['(Black', 'Dusk,'],\n",
       " ['(Aqua', 'Surge,'],\n",
       " ['(Pastel', 'Lime,'],\n",
       " ['(Misty', 'Green,'],\n",
       " ['(Grey', 'Shimmer,'],\n",
       " ['(Chromatic', 'Gray,'],\n",
       " ['(Tempest', 'Gray,'],\n",
       " ['(Tempest', 'Gray,'],\n",
       " ['(Misty', 'Green,'],\n",
       " ['(Bahama', 'Blue,'],\n",
       " ['(Bahama', 'Blue,'],\n",
       " ['(Bahama', 'Blue,'],\n",
       " ['(Gray', 'Shadow,'],\n",
       " ['(Blue', 'Void,'],\n",
       " ['(Jade', 'Fog,'],\n",
       " ['(Jade', 'Fog,']]"
      ]
     },
     "execution_count": 98,
     "metadata": {},
     "output_type": "execute_result"
    }
   ],
   "source": [
    "Colour"
   ]
  },
  {
   "cell_type": "code",
   "execution_count": 99,
   "id": "e15718dd",
   "metadata": {},
   "outputs": [],
   "source": [
    "modified_list2 = []\n",
    "\n",
    "for item in Colour:\n",
    "    modified_item = item[0].strip(\"()\") + \" \" + item[1].strip(\",\")\n",
    "    modified_list2.append(modified_item)"
   ]
  },
  {
   "cell_type": "code",
   "execution_count": 100,
   "id": "9f07fde8",
   "metadata": {
    "collapsed": true
   },
   "outputs": [
    {
     "data": {
      "text/plain": [
       "['Pastel Lime',\n",
       " 'Pastel Lime',\n",
       " 'Chromatic Gray',\n",
       " 'Chromatic Gray',\n",
       " 'Pastel lime',\n",
       " 'Blue Tide',\n",
       " 'Chromatic Gray',\n",
       " 'Chromatic Gray',\n",
       " 'Black Dusk',\n",
       " 'Aqua Surge',\n",
       " 'Pastel Lime',\n",
       " 'Misty Green',\n",
       " 'Grey Shimmer',\n",
       " 'Chromatic Gray',\n",
       " 'Tempest Gray',\n",
       " 'Tempest Gray',\n",
       " 'Misty Green',\n",
       " 'Bahama Blue',\n",
       " 'Bahama Blue',\n",
       " 'Bahama Blue',\n",
       " 'Gray Shadow',\n",
       " 'Blue Void',\n",
       " 'Jade Fog',\n",
       " 'Jade Fog']"
      ]
     },
     "execution_count": 100,
     "metadata": {},
     "output_type": "execute_result"
    }
   ],
   "source": [
    "modified_list2"
   ]
  },
  {
   "cell_type": "code",
   "execution_count": 132,
   "id": "07b0bd1c",
   "metadata": {},
   "outputs": [
    {
     "name": "stdout",
     "output_type": "stream",
     "text": [
      "24\n"
     ]
    }
   ],
   "source": [
    "print(len(modified_list2))"
   ]
  },
  {
   "cell_type": "code",
   "execution_count": 103,
   "id": "bfa4619c",
   "metadata": {},
   "outputs": [],
   "source": [
    "Ram = []\n",
    "\n",
    "value = driver4.find_elements(By.XPATH,'//div[@class=\"fMghEO\"]/ul/li[1]')\n",
    "for i in value :\n",
    "    Ram.append(i.text)"
   ]
  },
  {
   "cell_type": "code",
   "execution_count": 104,
   "id": "ec09fa57",
   "metadata": {
    "collapsed": true
   },
   "outputs": [
    {
     "data": {
      "text/plain": [
       "['8 GB RAM | 256 GB ROM',\n",
       " '8 GB RAM | 128 GB ROM',\n",
       " '8 GB RAM | 128 GB ROM',\n",
       " '8 GB RAM | 256 GB ROM',\n",
       " '8 GB RAM | 256 GB ROM',\n",
       " '6 GB RAM | 128 GB ROM',\n",
       " '8 GB RAM | 256 GB ROM',\n",
       " '8 GB RAM | 128 GB ROM',\n",
       " '6 GB RAM | 128 GB ROM',\n",
       " '8 GB RAM | 128 GB ROM',\n",
       " '8 GB RAM | 256 GB ROM',\n",
       " '8 GB RAM | 128 GB ROM',\n",
       " '8 GB RAM | 128 GB ROM',\n",
       " '8 GB RAM | 128 GB ROM',\n",
       " '16 GB RAM | 256 GB ROM',\n",
       " '8 GB RAM | 128 GB ROM',\n",
       " '16 GB RAM | 256 GB ROM',\n",
       " '8 GB RAM | 128 GB ROM',\n",
       " '8 GB RAM | 128 GB ROM',\n",
       " '8 GB RAM | 128 GB ROM',\n",
       " '8 GB RAM | 128 GB ROM',\n",
       " '8 GB RAM | 128 GB ROM',\n",
       " '8 GB RAM | 128 GB ROM',\n",
       " '12 GB RAM | 256 GB ROM']"
      ]
     },
     "execution_count": 104,
     "metadata": {},
     "output_type": "execute_result"
    }
   ],
   "source": [
    "Ram"
   ]
  },
  {
   "cell_type": "code",
   "execution_count": 106,
   "id": "a177b515",
   "metadata": {},
   "outputs": [],
   "source": [
    "RAM = []\n",
    "ROM = []\n",
    "\n",
    "for data in Ram:\n",
    "    words = data.split()\n",
    "    \n",
    "    ram_data = \" \".join(words[:3]).rstrip()\n",
    "    RAM.append(ram_data)\n",
    "    \n",
    "    rom_data = \" \".join(words[-3:]).rstrip()\n",
    "    ROM.append(rom_data)"
   ]
  },
  {
   "cell_type": "code",
   "execution_count": 107,
   "id": "95316bd4",
   "metadata": {
    "collapsed": true
   },
   "outputs": [
    {
     "data": {
      "text/plain": [
       "['8 GB RAM',\n",
       " '8 GB RAM',\n",
       " '8 GB RAM',\n",
       " '8 GB RAM',\n",
       " '8 GB RAM',\n",
       " '6 GB RAM',\n",
       " '8 GB RAM',\n",
       " '8 GB RAM',\n",
       " '6 GB RAM',\n",
       " '8 GB RAM',\n",
       " '8 GB RAM',\n",
       " '8 GB RAM',\n",
       " '8 GB RAM',\n",
       " '8 GB RAM',\n",
       " '16 GB RAM',\n",
       " '8 GB RAM',\n",
       " '16 GB RAM',\n",
       " '8 GB RAM',\n",
       " '8 GB RAM',\n",
       " '8 GB RAM',\n",
       " '8 GB RAM',\n",
       " '8 GB RAM',\n",
       " '8 GB RAM',\n",
       " '12 GB RAM']"
      ]
     },
     "execution_count": 107,
     "metadata": {},
     "output_type": "execute_result"
    }
   ],
   "source": [
    "RAM"
   ]
  },
  {
   "cell_type": "code",
   "execution_count": 131,
   "id": "5358d70c",
   "metadata": {},
   "outputs": [
    {
     "name": "stdout",
     "output_type": "stream",
     "text": [
      "24\n"
     ]
    }
   ],
   "source": [
    "print(len(RAM))"
   ]
  },
  {
   "cell_type": "code",
   "execution_count": 108,
   "id": "fe3f2297",
   "metadata": {
    "collapsed": true
   },
   "outputs": [
    {
     "data": {
      "text/plain": [
       "['256 GB ROM',\n",
       " '128 GB ROM',\n",
       " '128 GB ROM',\n",
       " '256 GB ROM',\n",
       " '256 GB ROM',\n",
       " '128 GB ROM',\n",
       " '256 GB ROM',\n",
       " '128 GB ROM',\n",
       " '128 GB ROM',\n",
       " '128 GB ROM',\n",
       " '256 GB ROM',\n",
       " '128 GB ROM',\n",
       " '128 GB ROM',\n",
       " '128 GB ROM',\n",
       " '256 GB ROM',\n",
       " '128 GB ROM',\n",
       " '256 GB ROM',\n",
       " '128 GB ROM',\n",
       " '128 GB ROM',\n",
       " '128 GB ROM',\n",
       " '128 GB ROM',\n",
       " '128 GB ROM',\n",
       " '128 GB ROM',\n",
       " '256 GB ROM']"
      ]
     },
     "execution_count": 108,
     "metadata": {},
     "output_type": "execute_result"
    }
   ],
   "source": [
    "ROM"
   ]
  },
  {
   "cell_type": "code",
   "execution_count": 130,
   "id": "df410615",
   "metadata": {},
   "outputs": [
    {
     "name": "stdout",
     "output_type": "stream",
     "text": [
      "24\n"
     ]
    }
   ],
   "source": [
    "print(len(ROM))"
   ]
  },
  {
   "cell_type": "code",
   "execution_count": 109,
   "id": "31fd8459",
   "metadata": {},
   "outputs": [],
   "source": [
    "Primary_Camera = []\n",
    "\n",
    "Primary_cameras = driver4.find_elements(By.XPATH,'//div[@class=\"fMghEO\"]/ul/li[3]')\n",
    "for i in Primary_cameras :\n",
    "    Primary_Camera.append(i.text)"
   ]
  },
  {
   "cell_type": "code",
   "execution_count": 110,
   "id": "a912a345",
   "metadata": {
    "collapsed": true
   },
   "outputs": [
    {
     "data": {
      "text/plain": [
       "['108MP Rear Camera',\n",
       " '108MP Rear Camera',\n",
       " '108MP Rear Camera',\n",
       " '108MP Rear Camera',\n",
       " '108MP Rear Camera',\n",
       " '64MP Rear Camera | 16MP Front Camera',\n",
       " '108MP Rear Camera',\n",
       " '108MP Rear Camera',\n",
       " '64MP Rear Camera | 16MP Front Camera',\n",
       " '50MP Rear Camera | 50MP Front Camera',\n",
       " '108MP Rear Camera',\n",
       " '50MP Rear Camera',\n",
       " '50MP Rear Camera',\n",
       " '108MP Rear Camera',\n",
       " '50MP Rear Camera',\n",
       " '50MP Rear Camera',\n",
       " '50MP Rear Camera',\n",
       " '64MP Rear Camera',\n",
       " '64MP Rear Camera',\n",
       " '64MP Rear Camera',\n",
       " '50MP Rear Camera',\n",
       " '64MP Rear Camera',\n",
       " '50MP Rear Camera | 32MP Front Camera',\n",
       " '50MP Rear Camera']"
      ]
     },
     "execution_count": 110,
     "metadata": {},
     "output_type": "execute_result"
    }
   ],
   "source": [
    "Primary_Camera"
   ]
  },
  {
   "cell_type": "code",
   "execution_count": 114,
   "id": "b0acdf86",
   "metadata": {},
   "outputs": [],
   "source": [
    "modified_list3 = []\n",
    "\n",
    "for data in Primary_Camera :\n",
    "    modified_data = \" \".join(data.split()[:3]).replace(\"|\", \"\")\n",
    "    modified_list3.append(modified_data)\n"
   ]
  },
  {
   "cell_type": "code",
   "execution_count": 115,
   "id": "1820b8c1",
   "metadata": {
    "collapsed": true
   },
   "outputs": [
    {
     "data": {
      "text/plain": [
       "['108MP Rear Camera',\n",
       " '108MP Rear Camera',\n",
       " '108MP Rear Camera',\n",
       " '108MP Rear Camera',\n",
       " '108MP Rear Camera',\n",
       " '64MP Rear Camera',\n",
       " '108MP Rear Camera',\n",
       " '108MP Rear Camera',\n",
       " '64MP Rear Camera',\n",
       " '50MP Rear Camera',\n",
       " '108MP Rear Camera',\n",
       " '50MP Rear Camera',\n",
       " '50MP Rear Camera',\n",
       " '108MP Rear Camera',\n",
       " '50MP Rear Camera',\n",
       " '50MP Rear Camera',\n",
       " '50MP Rear Camera',\n",
       " '64MP Rear Camera',\n",
       " '64MP Rear Camera',\n",
       " '64MP Rear Camera',\n",
       " '50MP Rear Camera',\n",
       " '64MP Rear Camera',\n",
       " '50MP Rear Camera',\n",
       " '50MP Rear Camera']"
      ]
     },
     "execution_count": 115,
     "metadata": {},
     "output_type": "execute_result"
    }
   ],
   "source": [
    "modified_list3"
   ]
  },
  {
   "cell_type": "code",
   "execution_count": 129,
   "id": "6693bbad",
   "metadata": {},
   "outputs": [
    {
     "name": "stdout",
     "output_type": "stream",
     "text": [
      "24\n"
     ]
    }
   ],
   "source": [
    "print(len(modified_list3))"
   ]
  },
  {
   "cell_type": "code",
   "execution_count": 112,
   "id": "cac9940f",
   "metadata": {
    "collapsed": true
   },
   "outputs": [
    {
     "data": {
      "text/plain": [
       "['17.07 cm (6.72 inch) Display',\n",
       " '17.07 cm (6.72 inch) Display',\n",
       " '17.07 cm (6.72 inch) Display',\n",
       " '17.07 cm (6.72 inch) Display',\n",
       " '17.07 cm (6.72 inch) Display',\n",
       " '16.74 cm (6.59 inch) Display',\n",
       " '17.07 cm (6.72 inch) Display',\n",
       " '17.07 cm (6.72 inch) Display',\n",
       " '16.74 cm (6.59 inch) Display',\n",
       " '17.02 cm (6.7 inch) Display',\n",
       " '17.07 cm (6.72 inch) Display',\n",
       " '17.12 cm (6.74 inch) Display',\n",
       " '17.02 cm (6.7 inch) Display',\n",
       " '17.07 cm (6.72 inch) Display',\n",
       " '17.12 cm (6.74 inch) Display',\n",
       " '17.12 cm (6.74 inch) Full HD+ Display',\n",
       " '17.12 cm (6.74 inch) Display',\n",
       " '16.33 cm (6.43 inch) Display',\n",
       " '16.33 cm (6.43 inch) Display',\n",
       " '16.33 cm (6.43 inch) Display',\n",
       " '17.02 cm (6.7 inch) Display',\n",
       " '16.33 cm (6.43 inch) Display',\n",
       " '17.02 cm (6.7 inch) Display',\n",
       " '17.02 cm (6.7 inch) Display']"
      ]
     },
     "execution_count": 112,
     "metadata": {},
     "output_type": "execute_result"
    }
   ],
   "source": [
    "Display_size = []\n",
    "\n",
    "Display_sizes = driver4.find_elements(By.XPATH,'//div[@class=\"fMghEO\"]/ul/li[2]')\n",
    "for i in Display_sizes :\n",
    "    Display_size.append(i.text)\n",
    "    \n",
    "Display_size"
   ]
  },
  {
   "cell_type": "code",
   "execution_count": 128,
   "id": "89d5204d",
   "metadata": {},
   "outputs": [
    {
     "name": "stdout",
     "output_type": "stream",
     "text": [
      "24\n"
     ]
    }
   ],
   "source": [
    "print(len(Display_size))"
   ]
  },
  {
   "cell_type": "code",
   "execution_count": 113,
   "id": "fc076ff2",
   "metadata": {
    "collapsed": true
   },
   "outputs": [
    {
     "data": {
      "text/plain": [
       "['5000 mAh Battery',\n",
       " '5000 mAh Battery',\n",
       " '5000 mAh Battery',\n",
       " '5000 mAh Battery',\n",
       " '5000 mAh Battery',\n",
       " '5000 mAh Battery',\n",
       " '5000 mAh Battery',\n",
       " '5000 mAh Battery',\n",
       " '5000 mAh Battery',\n",
       " '5000 mAh Battery',\n",
       " '5000 mAh Battery',\n",
       " '5000 mAh Battery',\n",
       " '5000 mAh Battery',\n",
       " '5000 mAh Battery',\n",
       " '5000 mAh Battery',\n",
       " '5000 mAh Battery',\n",
       " '5000 mAh Battery',\n",
       " '4500 mAh Battery',\n",
       " '4500 mAh Battery',\n",
       " '4500 mAh Battery',\n",
       " '4500 mAh Battery',\n",
       " '4500 mAh Battery',\n",
       " '4500 mAh Battery',\n",
       " '4500 mAh Battery']"
      ]
     },
     "execution_count": 113,
     "metadata": {},
     "output_type": "execute_result"
    }
   ],
   "source": [
    "Battery_Capacity = []\n",
    "\n",
    "Battery = driver4.find_elements(By.XPATH,'//div[@class=\"fMghEO\"]/ul/li[4]')\n",
    "for i in Battery :\n",
    "    Battery_Capacity.append(i.text)\n",
    "    \n",
    "Battery_Capacity"
   ]
  },
  {
   "cell_type": "code",
   "execution_count": 127,
   "id": "0b3f00db",
   "metadata": {},
   "outputs": [
    {
     "name": "stdout",
     "output_type": "stream",
     "text": [
      "24\n"
     ]
    }
   ],
   "source": [
    "print(len(Battery_Capacity))"
   ]
  },
  {
   "cell_type": "code",
   "execution_count": 124,
   "id": "673e3897",
   "metadata": {},
   "outputs": [],
   "source": [
    "Price\n",
    "\n",
    "Price_amount = driver4.find_elements(By.XPATH,'//div[@class=\"_30jeq3 _1_WHN1\"]')\n",
    "for i in Price_amount :\n",
    "    Price.append(i.text)"
   ]
  },
  {
   "cell_type": "code",
   "execution_count": 136,
   "id": "78b7d6e7",
   "metadata": {
    "collapsed": true
   },
   "outputs": [
    {
     "name": "stdout",
     "output_type": "stream",
     "text": [
      "['₹20,972', '₹19,477', '₹19,439', '₹20,893', '₹21,280', '₹18,397', '₹21,393', '₹19,476', '₹17,836', '₹24,786', '₹21,411', '₹28,198', '₹24,389', '₹19,457', '₹36,000', '₹28,969', '₹37,630', '₹21,990', '₹22,995', '₹21,395', '₹28,999', '-', '₹28,999', '₹33,990']\n"
     ]
    }
   ],
   "source": [
    "Price.insert(21, \"-\")\n",
    "\n",
    "print(Price)"
   ]
  },
  {
   "cell_type": "code",
   "execution_count": 121,
   "id": "2f49d883",
   "metadata": {},
   "outputs": [],
   "source": [
    "Product_URL = []\n",
    "\n",
    "URL = driver4.find_elements(By.XPATH ,'//a[@class=\"_1fQZEK\"]')\n",
    "for i in URL :\n",
    "    Urls = i.get_attribute('href')\n",
    "    Product_URL.append(Urls)\n",
    "    \n",
    "    "
   ]
  },
  {
   "cell_type": "code",
   "execution_count": 122,
   "id": "96d62706",
   "metadata": {
    "collapsed": true
   },
   "outputs": [
    {
     "data": {
      "text/plain": [
       "['https://www.flipkart.com/oneplus-nord-ce-3-lite-5g-pastel-lime-256-gb/p/itm2cd5a4e659035?pid=MOBGZJ3ZFQ8AKKRS&lid=LSTMOBGZJ3ZFQ8AKKRS488YYT&marketplace=FLIPKART&q=Oneplus+Nord&store=tyy%2F4io&srno=s_1_1&otracker=search&otracker1=search&fm=organic&iid=4c672f4c-9774-436c-8593-2e7279f0ae34.MOBGZJ3ZFQ8AKKRS.SEARCH&ppt=hp&ppn=homepage&ssid=a2iqtw6t9s0000001707357392847&qH=53863d4d978d5074',\n",
       " 'https://www.flipkart.com/oneplus-nord-ce-3-lite-5g-pastel-lime-128-gb/p/itm2cd5a4e659035?pid=MOBGZJ3WM5SGTGVZ&lid=LSTMOBGZJ3WM5SGTGVZ7OYKFP&marketplace=FLIPKART&q=Oneplus+Nord&store=tyy%2F4io&srno=s_1_2&otracker=search&otracker1=search&fm=organic&iid=4c672f4c-9774-436c-8593-2e7279f0ae34.MOBGZJ3WM5SGTGVZ.SEARCH&ppt=hp&ppn=homepage&ssid=a2iqtw6t9s0000001707357392847&qH=53863d4d978d5074',\n",
       " 'https://www.flipkart.com/oneplus-nord-ce-3-lite-5g-chromatic-gray-128-gb/p/itm2cd5a4e659035?pid=MOBGZJ42KHUZZKMN&lid=LSTMOBGZJ42KHUZZKMNMOFKNU&marketplace=FLIPKART&q=Oneplus+Nord&store=tyy%2F4io&srno=s_1_3&otracker=search&otracker1=search&fm=organic&iid=4c672f4c-9774-436c-8593-2e7279f0ae34.MOBGZJ42KHUZZKMN.SEARCH&ppt=hp&ppn=homepage&ssid=a2iqtw6t9s0000001707357392847&qH=53863d4d978d5074',\n",
       " 'https://www.flipkart.com/oneplus-nord-ce-3-lite-5g-chromatic-gray-256-gb/p/itm2cd5a4e659035?pid=MOBGZJ45PS4AQ7BA&lid=LSTMOBGZJ45PS4AQ7BACKUFNR&marketplace=FLIPKART&q=Oneplus+Nord&store=tyy%2F4io&srno=s_1_4&otracker=search&otracker1=search&fm=organic&iid=4c672f4c-9774-436c-8593-2e7279f0ae34.MOBGZJ45PS4AQ7BA.SEARCH&ppt=hp&ppn=homepage&ssid=a2iqtw6t9s0000001707357392847&qH=53863d4d978d5074',\n",
       " 'https://www.flipkart.com/oneplus-nord-ce-3-lite-5g-pastel-lime-256-gb/p/itm5ed24471bde9f?pid=MOBGPRHYH4K4ZBQQ&lid=LSTMOBGPRHYH4K4ZBQQZ4VJHK&marketplace=FLIPKART&q=Oneplus+Nord&store=tyy%2F4io&srno=s_1_5&otracker=search&otracker1=search&fm=organic&iid=4c672f4c-9774-436c-8593-2e7279f0ae34.MOBGPRHYH4K4ZBQQ.SEARCH&ppt=hp&ppn=homepage&ssid=a2iqtw6t9s0000001707357392847&qH=53863d4d978d5074',\n",
       " 'https://www.flipkart.com/oneplus-nord-ce-2-lite-5g-blue-tide-128-gb/p/itm7acae55b999e6?pid=MOBGMFREBAHZQGY9&lid=LSTMOBGMFREBAHZQGY9TPTG8U&marketplace=FLIPKART&q=Oneplus+Nord&store=tyy%2F4io&srno=s_1_6&otracker=search&otracker1=search&fm=organic&iid=4c672f4c-9774-436c-8593-2e7279f0ae34.MOBGMFREBAHZQGY9.SEARCH&ppt=hp&ppn=homepage&ssid=a2iqtw6t9s0000001707357392847&qH=53863d4d978d5074',\n",
       " 'https://www.flipkart.com/oneplus-nord-ce-3-lite-5g-chromatic-gray-256-gb/p/itm5ed24471bde9f?pid=MOBGPRQHDNEHT5WG&lid=LSTMOBGPRQHDNEHT5WGHH1JNY&marketplace=FLIPKART&q=Oneplus+Nord&store=tyy%2F4io&srno=s_1_7&otracker=search&otracker1=search&fm=organic&iid=4c672f4c-9774-436c-8593-2e7279f0ae34.MOBGPRQHDNEHT5WG.SEARCH&ppt=hp&ppn=homepage&ssid=a2iqtw6t9s0000001707357392847&qH=53863d4d978d5074',\n",
       " 'https://www.flipkart.com/oneplus-nord-ce-3-lite-5g-chromatic-gray-128-gb/p/itm2cd5a4e659035?pid=MOBGQR6JSKZRFKUD&lid=LSTMOBGQR6JSKZRFKUDMQXBT3&marketplace=FLIPKART&q=Oneplus+Nord&store=tyy%2F4io&srno=s_1_8&otracker=search&otracker1=search&fm=organic&iid=4c672f4c-9774-436c-8593-2e7279f0ae34.MOBGQR6JSKZRFKUD.SEARCH&ppt=hp&ppn=homepage&ssid=a2iqtw6t9s0000001707357392847&qH=53863d4d978d5074',\n",
       " 'https://www.flipkart.com/oneplus-nord-ce-2-lite-5g-black-dusk-128-gb/p/itm537fc2aa73747?pid=MOBGHBZHB7YJT5HF&lid=LSTMOBGHBZHB7YJT5HF5YA2XU&marketplace=FLIPKART&q=Oneplus+Nord&store=tyy%2F4io&srno=s_1_9&otracker=search&otracker1=search&fm=organic&iid=4c672f4c-9774-436c-8593-2e7279f0ae34.MOBGHBZHB7YJT5HF.SEARCH&ppt=hp&ppn=homepage&ssid=a2iqtw6t9s0000001707357392847&qH=53863d4d978d5074',\n",
       " 'https://www.flipkart.com/oneplus-nord-ce3-5g-aqua-surge-128-gb/p/itm95b25bfcca817?pid=MOBGS44DBDZBTUWS&lid=LSTMOBGS44DBDZBTUWSDHDYFX&marketplace=FLIPKART&q=Oneplus+Nord&store=tyy%2F4io&srno=s_1_10&otracker=search&otracker1=search&fm=organic&iid=4c672f4c-9774-436c-8593-2e7279f0ae34.MOBGS44DBDZBTUWS.SEARCH&ppt=hp&ppn=homepage&ssid=a2iqtw6t9s0000001707357392847&qH=53863d4d978d5074',\n",
       " 'https://www.flipkart.com/oneplus-nord-ce-3-lite-5g-pastel-lime-256-gb/p/itm5da8fffa73e1a?pid=MOBGTXXGSZUKT75G&lid=LSTMOBGTXXGSZUKT75GSIUHQD&marketplace=FLIPKART&q=Oneplus+Nord&store=tyy%2F4io&srno=s_1_11&otracker=search&otracker1=search&fm=organic&iid=4c672f4c-9774-436c-8593-2e7279f0ae34.MOBGTXXGSZUKT75G.SEARCH&ppt=hp&ppn=homepage&ssid=a2iqtw6t9s0000001707357392847&qH=53863d4d978d5074',\n",
       " 'https://www.flipkart.com/oneplus-nord-3-5g-misty-green-128-gb/p/itm5fc87afce35dc?pid=MOBGRKA2GBGGS6QZ&lid=LSTMOBGRKA2GBGGS6QZND2S3L&marketplace=FLIPKART&q=Oneplus+Nord&store=tyy%2F4io&srno=s_1_12&otracker=search&otracker1=search&fm=organic&iid=4c672f4c-9774-436c-8593-2e7279f0ae34.MOBGRKA2GBGGS6QZ.SEARCH&ppt=hp&ppn=homepage&ssid=a2iqtw6t9s0000001707357392847&qH=53863d4d978d5074',\n",
       " 'https://www.flipkart.com/oneplus-nord-ce3-5g-grey-shimmer-128-gb/p/itm95b25bfcca817?pid=MOBGS44NJJVFWSHU&lid=LSTMOBGS44NJJVFWSHUUUGVFX&marketplace=FLIPKART&q=Oneplus+Nord&store=tyy%2F4io&srno=s_1_13&otracker=search&otracker1=search&fm=organic&iid=4c672f4c-9774-436c-8593-2e7279f0ae34.MOBGS44NJJVFWSHU.SEARCH&ppt=hp&ppn=homepage&ssid=a2iqtw6t9s0000001707357392847&qH=53863d4d978d5074',\n",
       " 'https://www.flipkart.com/oneplus-nord-ce-3-lite-5g-chromatic-gray-128-gb/p/itm2a5927ad80bbb?pid=MOBGTXXGFS4D74GZ&lid=LSTMOBGTXXGFS4D74GZZDGNCT&marketplace=FLIPKART&q=Oneplus+Nord&store=tyy%2F4io&srno=s_1_14&otracker=search&otracker1=search&fm=organic&iid=4c672f4c-9774-436c-8593-2e7279f0ae34.MOBGTXXGFS4D74GZ.SEARCH&ppt=hp&ppn=homepage&ssid=a2iqtw6t9s0000001707357392847&qH=53863d4d978d5074',\n",
       " 'https://www.flipkart.com/oneplus-nord-3-5g-tempest-gray-256-gb/p/itm5fc87afce35dc?pid=MOBGRK35QGGTMTZ3&lid=LSTMOBGRK35QGGTMTZ3WDSRAQ&marketplace=FLIPKART&q=Oneplus+Nord&store=tyy%2F4io&srno=s_1_15&otracker=search&otracker1=search&fm=organic&iid=4c672f4c-9774-436c-8593-2e7279f0ae34.MOBGRK35QGGTMTZ3.SEARCH&ppt=hp&ppn=homepage&ssid=a2iqtw6t9s0000001707357392847&qH=53863d4d978d5074',\n",
       " 'https://www.flipkart.com/oneplus-nord-3-5g-tempest-gray-128-gb/p/itm5fc87afce35dc?pid=MOBGRK2VXCKBADB5&lid=LSTMOBGRK2VXCKBADB5HZAHAJ&marketplace=FLIPKART&q=Oneplus+Nord&store=tyy%2F4io&srno=s_1_16&otracker=search&otracker1=search&fm=organic&iid=4c672f4c-9774-436c-8593-2e7279f0ae34.MOBGRK2VXCKBADB5.SEARCH&ppt=hp&ppn=homepage&ssid=a2iqtw6t9s0000001707357392847&qH=53863d4d978d5074',\n",
       " 'https://www.flipkart.com/oneplus-nord-3-5g-misty-green-256-gb/p/itm5fc87afce35dc?pid=MOBGRK3284RMGYSX&lid=LSTMOBGRK3284RMGYSXGW6X0U&marketplace=FLIPKART&q=Oneplus+Nord&store=tyy%2F4io&srno=s_1_17&otracker=search&otracker1=search&fm=organic&iid=4c672f4c-9774-436c-8593-2e7279f0ae34.MOBGRK3284RMGYSX.SEARCH&ppt=hp&ppn=homepage&ssid=a2iqtw6t9s0000001707357392847&qH=53863d4d978d5074',\n",
       " 'https://www.flipkart.com/oneplus-nord-ce-2-5g-bahama-blue-128-gb/p/itm2a9883679c57c?pid=MOBGJMUH64MTF6PK&lid=LSTMOBGJMUH64MTF6PKNK4ESK&marketplace=FLIPKART&q=Oneplus+Nord&store=tyy%2F4io&srno=s_1_18&otracker=search&otracker1=search&fm=organic&iid=4c672f4c-9774-436c-8593-2e7279f0ae34.MOBGJMUH64MTF6PK.SEARCH&ppt=hp&ppn=homepage&ssid=a2iqtw6t9s0000001707357392847&qH=53863d4d978d5074',\n",
       " 'https://www.flipkart.com/oneplus-nord-ce-2-5g-bahama-blue-128-gb/p/itm2a9883679c57c?pid=MOBGHHZ2CKB5D4WU&lid=LSTMOBGHHZ2CKB5D4WUSVEMWB&marketplace=FLIPKART&q=Oneplus+Nord&store=tyy%2F4io&srno=s_1_19&otracker=search&otracker1=search&fm=organic&iid=4c672f4c-9774-436c-8593-2e7279f0ae34.MOBGHHZ2CKB5D4WU.SEARCH&ppt=hp&ppn=homepage&ssid=a2iqtw6t9s0000001707357392847&qH=53863d4d978d5074',\n",
       " 'https://www.flipkart.com/oneplus-nord-ce-2-5g-bahama-blue-128-gb/p/itm2a9883679c57c?pid=MOBGDBYGG6PPNFD9&lid=LSTMOBGDBYGG6PPNFD98KK2DS&marketplace=FLIPKART&q=Oneplus+Nord&store=tyy%2F4io&srno=s_1_20&otracker=search&otracker1=search&fm=organic&iid=4c672f4c-9774-436c-8593-2e7279f0ae34.MOBGDBYGG6PPNFD9.SEARCH&ppt=hp&ppn=homepage&ssid=a2iqtw6t9s0000001707357392847&qH=53863d4d978d5074',\n",
       " 'https://www.flipkart.com/oneplus-nord-2t-5g-gray-shadow-128-gb/p/itmd6fae876845b9?pid=MOBGZKM5XBXSJYZT&lid=LSTMOBGZKM5XBXSJYZTF1NRRP&marketplace=FLIPKART&q=Oneplus+Nord&store=tyy%2F4io&srno=s_1_21&otracker=search&otracker1=search&fm=organic&iid=4c672f4c-9774-436c-8593-2e7279f0ae34.MOBGZKM5XBXSJYZT.SEARCH&ppt=hp&ppn=homepage&ssid=a2iqtw6t9s0000001707357392847&qH=53863d4d978d5074',\n",
       " 'https://www.flipkart.com/oneplus-nord-ce-5g-blue-void-128-gb/p/itmd6dcbd8116ed1?pid=MOBGDM4UUD2FDBPH&q=Oneplus+Nord&store=tyy%2F4io&srno=s_1_22&otracker=search&otracker1=search&fm=organic&iid=4c672f4c-9774-436c-8593-2e7279f0ae34.MOBGDM4UUD2FDBPH.SEARCH&ppt=hp&ppn=homepage&ssid=a2iqtw6t9s0000001707357392847&qH=53863d4d978d5074',\n",
       " 'https://www.flipkart.com/oneplus-nord-2t-5g-jade-fog-128-gb/p/itm31ac32e308282?pid=MOBGHBZHFAUYKH3U&lid=LSTMOBGHBZHFAUYKH3UYLCFZ4&marketplace=FLIPKART&q=Oneplus+Nord&store=tyy%2F4io&srno=s_1_23&otracker=search&otracker1=search&fm=organic&iid=4c672f4c-9774-436c-8593-2e7279f0ae34.MOBGHBZHFAUYKH3U.SEARCH&ppt=hp&ppn=homepage&ssid=a2iqtw6t9s0000001707357392847&qH=53863d4d978d5074',\n",
       " 'https://www.flipkart.com/oneplus-nord-2t-5g-jade-fog-256-gb/p/itm97eda8b1a1566?pid=MOBGHBZHF4YCMGZY&lid=LSTMOBGHBZHF4YCMGZY8YJ5MN&marketplace=FLIPKART&q=Oneplus+Nord&store=tyy%2F4io&srno=s_1_24&otracker=search&otracker1=search&fm=organic&iid=4c672f4c-9774-436c-8593-2e7279f0ae34.MOBGHBZHF4YCMGZY.SEARCH&ppt=hp&ppn=homepage&ssid=a2iqtw6t9s0000001707357392847&qH=53863d4d978d5074']"
      ]
     },
     "execution_count": 122,
     "metadata": {},
     "output_type": "execute_result"
    }
   ],
   "source": [
    "Product_URL"
   ]
  },
  {
   "cell_type": "code",
   "execution_count": 137,
   "id": "381d6658",
   "metadata": {},
   "outputs": [
    {
     "name": "stdout",
     "output_type": "stream",
     "text": [
      "24\n"
     ]
    }
   ],
   "source": [
    "print(len(Price))"
   ]
  },
  {
   "cell_type": "code",
   "execution_count": 138,
   "id": "9be336c5",
   "metadata": {},
   "outputs": [],
   "source": [
    "import pandas as pd\n",
    "\n",
    "df = pd.DataFrame({'Brand Name': Brand_names, 'Smartphone name': modified_list , 'Colour': modified_list2 , 'RAM' : RAM , 'Storage(ROM)': ROM , 'Primary Camera': modified_list3, 'Display Size': Display_size , 'Battery Capacity':Battery_Capacity , 'Price' : Price, ' “Product URL' : Product_URL })"
   ]
  },
  {
   "cell_type": "code",
   "execution_count": 139,
   "id": "f58dbe5c",
   "metadata": {
    "scrolled": true
   },
   "outputs": [
    {
     "data": {
      "text/html": [
       "<div>\n",
       "<style scoped>\n",
       "    .dataframe tbody tr th:only-of-type {\n",
       "        vertical-align: middle;\n",
       "    }\n",
       "\n",
       "    .dataframe tbody tr th {\n",
       "        vertical-align: top;\n",
       "    }\n",
       "\n",
       "    .dataframe thead th {\n",
       "        text-align: right;\n",
       "    }\n",
       "</style>\n",
       "<table border=\"1\" class=\"dataframe\">\n",
       "  <thead>\n",
       "    <tr style=\"text-align: right;\">\n",
       "      <th></th>\n",
       "      <th>Brand Name</th>\n",
       "      <th>Smartphone name</th>\n",
       "      <th>Colour</th>\n",
       "      <th>RAM</th>\n",
       "      <th>Storage(ROM)</th>\n",
       "      <th>Primary Camera</th>\n",
       "      <th>Display Size</th>\n",
       "      <th>Battery Capacity</th>\n",
       "      <th>Price</th>\n",
       "      <th>“Product URL</th>\n",
       "    </tr>\n",
       "  </thead>\n",
       "  <tbody>\n",
       "    <tr>\n",
       "      <th>0</th>\n",
       "      <td>OnePlus</td>\n",
       "      <td>Nord CE 3 Lite</td>\n",
       "      <td>Pastel Lime</td>\n",
       "      <td>8 GB RAM</td>\n",
       "      <td>256 GB ROM</td>\n",
       "      <td>108MP Rear Camera</td>\n",
       "      <td>17.07 cm (6.72 inch) Display</td>\n",
       "      <td>5000 mAh Battery</td>\n",
       "      <td>₹20,972</td>\n",
       "      <td>https://www.flipkart.com/oneplus-nord-ce-3-lit...</td>\n",
       "    </tr>\n",
       "    <tr>\n",
       "      <th>1</th>\n",
       "      <td>OnePlus</td>\n",
       "      <td>Nord CE 3 Lite</td>\n",
       "      <td>Pastel Lime</td>\n",
       "      <td>8 GB RAM</td>\n",
       "      <td>128 GB ROM</td>\n",
       "      <td>108MP Rear Camera</td>\n",
       "      <td>17.07 cm (6.72 inch) Display</td>\n",
       "      <td>5000 mAh Battery</td>\n",
       "      <td>₹19,477</td>\n",
       "      <td>https://www.flipkart.com/oneplus-nord-ce-3-lit...</td>\n",
       "    </tr>\n",
       "    <tr>\n",
       "      <th>2</th>\n",
       "      <td>OnePlus</td>\n",
       "      <td>Nord CE 3 Lite</td>\n",
       "      <td>Chromatic Gray</td>\n",
       "      <td>8 GB RAM</td>\n",
       "      <td>128 GB ROM</td>\n",
       "      <td>108MP Rear Camera</td>\n",
       "      <td>17.07 cm (6.72 inch) Display</td>\n",
       "      <td>5000 mAh Battery</td>\n",
       "      <td>₹19,439</td>\n",
       "      <td>https://www.flipkart.com/oneplus-nord-ce-3-lit...</td>\n",
       "    </tr>\n",
       "    <tr>\n",
       "      <th>3</th>\n",
       "      <td>OnePlus</td>\n",
       "      <td>Nord CE 3 Lite</td>\n",
       "      <td>Chromatic Gray</td>\n",
       "      <td>8 GB RAM</td>\n",
       "      <td>256 GB ROM</td>\n",
       "      <td>108MP Rear Camera</td>\n",
       "      <td>17.07 cm (6.72 inch) Display</td>\n",
       "      <td>5000 mAh Battery</td>\n",
       "      <td>₹20,893</td>\n",
       "      <td>https://www.flipkart.com/oneplus-nord-ce-3-lit...</td>\n",
       "    </tr>\n",
       "    <tr>\n",
       "      <th>4</th>\n",
       "      <td>OnePlus</td>\n",
       "      <td>Nord CE 3 Lite</td>\n",
       "      <td>Pastel lime</td>\n",
       "      <td>8 GB RAM</td>\n",
       "      <td>256 GB ROM</td>\n",
       "      <td>108MP Rear Camera</td>\n",
       "      <td>17.07 cm (6.72 inch) Display</td>\n",
       "      <td>5000 mAh Battery</td>\n",
       "      <td>₹21,280</td>\n",
       "      <td>https://www.flipkart.com/oneplus-nord-ce-3-lit...</td>\n",
       "    </tr>\n",
       "    <tr>\n",
       "      <th>5</th>\n",
       "      <td>OnePlus</td>\n",
       "      <td>Nord CE 2 Lite</td>\n",
       "      <td>Blue Tide</td>\n",
       "      <td>6 GB RAM</td>\n",
       "      <td>128 GB ROM</td>\n",
       "      <td>64MP Rear Camera</td>\n",
       "      <td>16.74 cm (6.59 inch) Display</td>\n",
       "      <td>5000 mAh Battery</td>\n",
       "      <td>₹18,397</td>\n",
       "      <td>https://www.flipkart.com/oneplus-nord-ce-2-lit...</td>\n",
       "    </tr>\n",
       "    <tr>\n",
       "      <th>6</th>\n",
       "      <td>OnePlus</td>\n",
       "      <td>Nord CE 3 Lite</td>\n",
       "      <td>Chromatic Gray</td>\n",
       "      <td>8 GB RAM</td>\n",
       "      <td>256 GB ROM</td>\n",
       "      <td>108MP Rear Camera</td>\n",
       "      <td>17.07 cm (6.72 inch) Display</td>\n",
       "      <td>5000 mAh Battery</td>\n",
       "      <td>₹21,393</td>\n",
       "      <td>https://www.flipkart.com/oneplus-nord-ce-3-lit...</td>\n",
       "    </tr>\n",
       "    <tr>\n",
       "      <th>7</th>\n",
       "      <td>OnePlus</td>\n",
       "      <td>Nord CE 3 Lite</td>\n",
       "      <td>Chromatic Gray</td>\n",
       "      <td>8 GB RAM</td>\n",
       "      <td>128 GB ROM</td>\n",
       "      <td>108MP Rear Camera</td>\n",
       "      <td>17.07 cm (6.72 inch) Display</td>\n",
       "      <td>5000 mAh Battery</td>\n",
       "      <td>₹19,476</td>\n",
       "      <td>https://www.flipkart.com/oneplus-nord-ce-3-lit...</td>\n",
       "    </tr>\n",
       "    <tr>\n",
       "      <th>8</th>\n",
       "      <td>OnePlus</td>\n",
       "      <td>Nord CE 2 Lite</td>\n",
       "      <td>Black Dusk</td>\n",
       "      <td>6 GB RAM</td>\n",
       "      <td>128 GB ROM</td>\n",
       "      <td>64MP Rear Camera</td>\n",
       "      <td>16.74 cm (6.59 inch) Display</td>\n",
       "      <td>5000 mAh Battery</td>\n",
       "      <td>₹17,836</td>\n",
       "      <td>https://www.flipkart.com/oneplus-nord-ce-2-lit...</td>\n",
       "    </tr>\n",
       "    <tr>\n",
       "      <th>9</th>\n",
       "      <td>OnePlus</td>\n",
       "      <td>Nord CE3 5G</td>\n",
       "      <td>Aqua Surge</td>\n",
       "      <td>8 GB RAM</td>\n",
       "      <td>128 GB ROM</td>\n",
       "      <td>50MP Rear Camera</td>\n",
       "      <td>17.02 cm (6.7 inch) Display</td>\n",
       "      <td>5000 mAh Battery</td>\n",
       "      <td>₹24,786</td>\n",
       "      <td>https://www.flipkart.com/oneplus-nord-ce3-5g-a...</td>\n",
       "    </tr>\n",
       "    <tr>\n",
       "      <th>10</th>\n",
       "      <td>OnePlus</td>\n",
       "      <td>Nord CE 3 Lite</td>\n",
       "      <td>Pastel Lime</td>\n",
       "      <td>8 GB RAM</td>\n",
       "      <td>256 GB ROM</td>\n",
       "      <td>108MP Rear Camera</td>\n",
       "      <td>17.07 cm (6.72 inch) Display</td>\n",
       "      <td>5000 mAh Battery</td>\n",
       "      <td>₹21,411</td>\n",
       "      <td>https://www.flipkart.com/oneplus-nord-ce-3-lit...</td>\n",
       "    </tr>\n",
       "    <tr>\n",
       "      <th>11</th>\n",
       "      <td>OnePlus</td>\n",
       "      <td>Nord 3 5G</td>\n",
       "      <td>Misty Green</td>\n",
       "      <td>8 GB RAM</td>\n",
       "      <td>128 GB ROM</td>\n",
       "      <td>50MP Rear Camera</td>\n",
       "      <td>17.12 cm (6.74 inch) Display</td>\n",
       "      <td>5000 mAh Battery</td>\n",
       "      <td>₹28,198</td>\n",
       "      <td>https://www.flipkart.com/oneplus-nord-3-5g-mis...</td>\n",
       "    </tr>\n",
       "    <tr>\n",
       "      <th>12</th>\n",
       "      <td>OnePlus</td>\n",
       "      <td>Nord CE3 5G</td>\n",
       "      <td>Grey Shimmer</td>\n",
       "      <td>8 GB RAM</td>\n",
       "      <td>128 GB ROM</td>\n",
       "      <td>50MP Rear Camera</td>\n",
       "      <td>17.02 cm (6.7 inch) Display</td>\n",
       "      <td>5000 mAh Battery</td>\n",
       "      <td>₹24,389</td>\n",
       "      <td>https://www.flipkart.com/oneplus-nord-ce3-5g-g...</td>\n",
       "    </tr>\n",
       "    <tr>\n",
       "      <th>13</th>\n",
       "      <td>OnePlus</td>\n",
       "      <td>Nord CE 3 Lite</td>\n",
       "      <td>Chromatic Gray</td>\n",
       "      <td>8 GB RAM</td>\n",
       "      <td>128 GB ROM</td>\n",
       "      <td>108MP Rear Camera</td>\n",
       "      <td>17.07 cm (6.72 inch) Display</td>\n",
       "      <td>5000 mAh Battery</td>\n",
       "      <td>₹19,457</td>\n",
       "      <td>https://www.flipkart.com/oneplus-nord-ce-3-lit...</td>\n",
       "    </tr>\n",
       "    <tr>\n",
       "      <th>14</th>\n",
       "      <td>OnePlus</td>\n",
       "      <td>Nord 3 5G</td>\n",
       "      <td>Tempest Gray</td>\n",
       "      <td>16 GB RAM</td>\n",
       "      <td>256 GB ROM</td>\n",
       "      <td>50MP Rear Camera</td>\n",
       "      <td>17.12 cm (6.74 inch) Display</td>\n",
       "      <td>5000 mAh Battery</td>\n",
       "      <td>₹36,000</td>\n",
       "      <td>https://www.flipkart.com/oneplus-nord-3-5g-tem...</td>\n",
       "    </tr>\n",
       "    <tr>\n",
       "      <th>15</th>\n",
       "      <td>OnePlus</td>\n",
       "      <td>Nord 3 5G</td>\n",
       "      <td>Tempest Gray</td>\n",
       "      <td>8 GB RAM</td>\n",
       "      <td>128 GB ROM</td>\n",
       "      <td>50MP Rear Camera</td>\n",
       "      <td>17.12 cm (6.74 inch) Full HD+ Display</td>\n",
       "      <td>5000 mAh Battery</td>\n",
       "      <td>₹28,969</td>\n",
       "      <td>https://www.flipkart.com/oneplus-nord-3-5g-tem...</td>\n",
       "    </tr>\n",
       "    <tr>\n",
       "      <th>16</th>\n",
       "      <td>OnePlus</td>\n",
       "      <td>Nord 3 5G</td>\n",
       "      <td>Misty Green</td>\n",
       "      <td>16 GB RAM</td>\n",
       "      <td>256 GB ROM</td>\n",
       "      <td>50MP Rear Camera</td>\n",
       "      <td>17.12 cm (6.74 inch) Display</td>\n",
       "      <td>5000 mAh Battery</td>\n",
       "      <td>₹37,630</td>\n",
       "      <td>https://www.flipkart.com/oneplus-nord-3-5g-mis...</td>\n",
       "    </tr>\n",
       "    <tr>\n",
       "      <th>17</th>\n",
       "      <td>OnePlus</td>\n",
       "      <td>Nord CE 2 5G</td>\n",
       "      <td>Bahama Blue</td>\n",
       "      <td>8 GB RAM</td>\n",
       "      <td>128 GB ROM</td>\n",
       "      <td>64MP Rear Camera</td>\n",
       "      <td>16.33 cm (6.43 inch) Display</td>\n",
       "      <td>4500 mAh Battery</td>\n",
       "      <td>₹21,990</td>\n",
       "      <td>https://www.flipkart.com/oneplus-nord-ce-2-5g-...</td>\n",
       "    </tr>\n",
       "    <tr>\n",
       "      <th>18</th>\n",
       "      <td>OnePlus</td>\n",
       "      <td>Nord CE 2 5G</td>\n",
       "      <td>Bahama Blue</td>\n",
       "      <td>8 GB RAM</td>\n",
       "      <td>128 GB ROM</td>\n",
       "      <td>64MP Rear Camera</td>\n",
       "      <td>16.33 cm (6.43 inch) Display</td>\n",
       "      <td>4500 mAh Battery</td>\n",
       "      <td>₹22,995</td>\n",
       "      <td>https://www.flipkart.com/oneplus-nord-ce-2-5g-...</td>\n",
       "    </tr>\n",
       "    <tr>\n",
       "      <th>19</th>\n",
       "      <td>OnePlus</td>\n",
       "      <td>Nord CE 2 5G</td>\n",
       "      <td>Bahama Blue</td>\n",
       "      <td>8 GB RAM</td>\n",
       "      <td>128 GB ROM</td>\n",
       "      <td>64MP Rear Camera</td>\n",
       "      <td>16.33 cm (6.43 inch) Display</td>\n",
       "      <td>4500 mAh Battery</td>\n",
       "      <td>₹21,395</td>\n",
       "      <td>https://www.flipkart.com/oneplus-nord-ce-2-5g-...</td>\n",
       "    </tr>\n",
       "    <tr>\n",
       "      <th>20</th>\n",
       "      <td>OnePlus</td>\n",
       "      <td>Nord 2T 5G</td>\n",
       "      <td>Gray Shadow</td>\n",
       "      <td>8 GB RAM</td>\n",
       "      <td>128 GB ROM</td>\n",
       "      <td>50MP Rear Camera</td>\n",
       "      <td>17.02 cm (6.7 inch) Display</td>\n",
       "      <td>4500 mAh Battery</td>\n",
       "      <td>₹28,999</td>\n",
       "      <td>https://www.flipkart.com/oneplus-nord-2t-5g-gr...</td>\n",
       "    </tr>\n",
       "    <tr>\n",
       "      <th>21</th>\n",
       "      <td>OnePlus</td>\n",
       "      <td>Nord CE 5G</td>\n",
       "      <td>Blue Void</td>\n",
       "      <td>8 GB RAM</td>\n",
       "      <td>128 GB ROM</td>\n",
       "      <td>64MP Rear Camera</td>\n",
       "      <td>16.33 cm (6.43 inch) Display</td>\n",
       "      <td>4500 mAh Battery</td>\n",
       "      <td>-</td>\n",
       "      <td>https://www.flipkart.com/oneplus-nord-ce-5g-bl...</td>\n",
       "    </tr>\n",
       "    <tr>\n",
       "      <th>22</th>\n",
       "      <td>OnePlus</td>\n",
       "      <td>Nord 2T 5G</td>\n",
       "      <td>Jade Fog</td>\n",
       "      <td>8 GB RAM</td>\n",
       "      <td>128 GB ROM</td>\n",
       "      <td>50MP Rear Camera</td>\n",
       "      <td>17.02 cm (6.7 inch) Display</td>\n",
       "      <td>4500 mAh Battery</td>\n",
       "      <td>₹28,999</td>\n",
       "      <td>https://www.flipkart.com/oneplus-nord-2t-5g-ja...</td>\n",
       "    </tr>\n",
       "    <tr>\n",
       "      <th>23</th>\n",
       "      <td>OnePlus</td>\n",
       "      <td>Nord 2T 5G</td>\n",
       "      <td>Jade Fog</td>\n",
       "      <td>12 GB RAM</td>\n",
       "      <td>256 GB ROM</td>\n",
       "      <td>50MP Rear Camera</td>\n",
       "      <td>17.02 cm (6.7 inch) Display</td>\n",
       "      <td>4500 mAh Battery</td>\n",
       "      <td>₹33,990</td>\n",
       "      <td>https://www.flipkart.com/oneplus-nord-2t-5g-ja...</td>\n",
       "    </tr>\n",
       "  </tbody>\n",
       "</table>\n",
       "</div>"
      ],
      "text/plain": [
       "   Brand Name Smartphone name          Colour        RAM Storage(ROM)  \\\n",
       "0     OnePlus  Nord CE 3 Lite     Pastel Lime   8 GB RAM   256 GB ROM   \n",
       "1     OnePlus  Nord CE 3 Lite     Pastel Lime   8 GB RAM   128 GB ROM   \n",
       "2     OnePlus  Nord CE 3 Lite  Chromatic Gray   8 GB RAM   128 GB ROM   \n",
       "3     OnePlus  Nord CE 3 Lite  Chromatic Gray   8 GB RAM   256 GB ROM   \n",
       "4     OnePlus  Nord CE 3 Lite     Pastel lime   8 GB RAM   256 GB ROM   \n",
       "5     OnePlus  Nord CE 2 Lite       Blue Tide   6 GB RAM   128 GB ROM   \n",
       "6     OnePlus  Nord CE 3 Lite  Chromatic Gray   8 GB RAM   256 GB ROM   \n",
       "7     OnePlus  Nord CE 3 Lite  Chromatic Gray   8 GB RAM   128 GB ROM   \n",
       "8     OnePlus  Nord CE 2 Lite      Black Dusk   6 GB RAM   128 GB ROM   \n",
       "9     OnePlus     Nord CE3 5G      Aqua Surge   8 GB RAM   128 GB ROM   \n",
       "10    OnePlus  Nord CE 3 Lite     Pastel Lime   8 GB RAM   256 GB ROM   \n",
       "11    OnePlus       Nord 3 5G     Misty Green   8 GB RAM   128 GB ROM   \n",
       "12    OnePlus     Nord CE3 5G    Grey Shimmer   8 GB RAM   128 GB ROM   \n",
       "13    OnePlus  Nord CE 3 Lite  Chromatic Gray   8 GB RAM   128 GB ROM   \n",
       "14    OnePlus       Nord 3 5G    Tempest Gray  16 GB RAM   256 GB ROM   \n",
       "15    OnePlus       Nord 3 5G    Tempest Gray   8 GB RAM   128 GB ROM   \n",
       "16    OnePlus       Nord 3 5G     Misty Green  16 GB RAM   256 GB ROM   \n",
       "17    OnePlus    Nord CE 2 5G     Bahama Blue   8 GB RAM   128 GB ROM   \n",
       "18    OnePlus    Nord CE 2 5G     Bahama Blue   8 GB RAM   128 GB ROM   \n",
       "19    OnePlus    Nord CE 2 5G     Bahama Blue   8 GB RAM   128 GB ROM   \n",
       "20    OnePlus      Nord 2T 5G     Gray Shadow   8 GB RAM   128 GB ROM   \n",
       "21    OnePlus      Nord CE 5G       Blue Void   8 GB RAM   128 GB ROM   \n",
       "22    OnePlus      Nord 2T 5G        Jade Fog   8 GB RAM   128 GB ROM   \n",
       "23    OnePlus      Nord 2T 5G        Jade Fog  12 GB RAM   256 GB ROM   \n",
       "\n",
       "       Primary Camera                           Display Size  \\\n",
       "0   108MP Rear Camera           17.07 cm (6.72 inch) Display   \n",
       "1   108MP Rear Camera           17.07 cm (6.72 inch) Display   \n",
       "2   108MP Rear Camera           17.07 cm (6.72 inch) Display   \n",
       "3   108MP Rear Camera           17.07 cm (6.72 inch) Display   \n",
       "4   108MP Rear Camera           17.07 cm (6.72 inch) Display   \n",
       "5    64MP Rear Camera           16.74 cm (6.59 inch) Display   \n",
       "6   108MP Rear Camera           17.07 cm (6.72 inch) Display   \n",
       "7   108MP Rear Camera           17.07 cm (6.72 inch) Display   \n",
       "8    64MP Rear Camera           16.74 cm (6.59 inch) Display   \n",
       "9    50MP Rear Camera            17.02 cm (6.7 inch) Display   \n",
       "10  108MP Rear Camera           17.07 cm (6.72 inch) Display   \n",
       "11   50MP Rear Camera           17.12 cm (6.74 inch) Display   \n",
       "12   50MP Rear Camera            17.02 cm (6.7 inch) Display   \n",
       "13  108MP Rear Camera           17.07 cm (6.72 inch) Display   \n",
       "14   50MP Rear Camera           17.12 cm (6.74 inch) Display   \n",
       "15   50MP Rear Camera  17.12 cm (6.74 inch) Full HD+ Display   \n",
       "16   50MP Rear Camera           17.12 cm (6.74 inch) Display   \n",
       "17   64MP Rear Camera           16.33 cm (6.43 inch) Display   \n",
       "18   64MP Rear Camera           16.33 cm (6.43 inch) Display   \n",
       "19   64MP Rear Camera           16.33 cm (6.43 inch) Display   \n",
       "20   50MP Rear Camera            17.02 cm (6.7 inch) Display   \n",
       "21   64MP Rear Camera           16.33 cm (6.43 inch) Display   \n",
       "22   50MP Rear Camera            17.02 cm (6.7 inch) Display   \n",
       "23   50MP Rear Camera            17.02 cm (6.7 inch) Display   \n",
       "\n",
       "    Battery Capacity    Price  \\\n",
       "0   5000 mAh Battery  ₹20,972   \n",
       "1   5000 mAh Battery  ₹19,477   \n",
       "2   5000 mAh Battery  ₹19,439   \n",
       "3   5000 mAh Battery  ₹20,893   \n",
       "4   5000 mAh Battery  ₹21,280   \n",
       "5   5000 mAh Battery  ₹18,397   \n",
       "6   5000 mAh Battery  ₹21,393   \n",
       "7   5000 mAh Battery  ₹19,476   \n",
       "8   5000 mAh Battery  ₹17,836   \n",
       "9   5000 mAh Battery  ₹24,786   \n",
       "10  5000 mAh Battery  ₹21,411   \n",
       "11  5000 mAh Battery  ₹28,198   \n",
       "12  5000 mAh Battery  ₹24,389   \n",
       "13  5000 mAh Battery  ₹19,457   \n",
       "14  5000 mAh Battery  ₹36,000   \n",
       "15  5000 mAh Battery  ₹28,969   \n",
       "16  5000 mAh Battery  ₹37,630   \n",
       "17  4500 mAh Battery  ₹21,990   \n",
       "18  4500 mAh Battery  ₹22,995   \n",
       "19  4500 mAh Battery  ₹21,395   \n",
       "20  4500 mAh Battery  ₹28,999   \n",
       "21  4500 mAh Battery        -   \n",
       "22  4500 mAh Battery  ₹28,999   \n",
       "23  4500 mAh Battery  ₹33,990   \n",
       "\n",
       "                                         “Product URL  \n",
       "0   https://www.flipkart.com/oneplus-nord-ce-3-lit...  \n",
       "1   https://www.flipkart.com/oneplus-nord-ce-3-lit...  \n",
       "2   https://www.flipkart.com/oneplus-nord-ce-3-lit...  \n",
       "3   https://www.flipkart.com/oneplus-nord-ce-3-lit...  \n",
       "4   https://www.flipkart.com/oneplus-nord-ce-3-lit...  \n",
       "5   https://www.flipkart.com/oneplus-nord-ce-2-lit...  \n",
       "6   https://www.flipkart.com/oneplus-nord-ce-3-lit...  \n",
       "7   https://www.flipkart.com/oneplus-nord-ce-3-lit...  \n",
       "8   https://www.flipkart.com/oneplus-nord-ce-2-lit...  \n",
       "9   https://www.flipkart.com/oneplus-nord-ce3-5g-a...  \n",
       "10  https://www.flipkart.com/oneplus-nord-ce-3-lit...  \n",
       "11  https://www.flipkart.com/oneplus-nord-3-5g-mis...  \n",
       "12  https://www.flipkart.com/oneplus-nord-ce3-5g-g...  \n",
       "13  https://www.flipkart.com/oneplus-nord-ce-3-lit...  \n",
       "14  https://www.flipkart.com/oneplus-nord-3-5g-tem...  \n",
       "15  https://www.flipkart.com/oneplus-nord-3-5g-tem...  \n",
       "16  https://www.flipkart.com/oneplus-nord-3-5g-mis...  \n",
       "17  https://www.flipkart.com/oneplus-nord-ce-2-5g-...  \n",
       "18  https://www.flipkart.com/oneplus-nord-ce-2-5g-...  \n",
       "19  https://www.flipkart.com/oneplus-nord-ce-2-5g-...  \n",
       "20  https://www.flipkart.com/oneplus-nord-2t-5g-gr...  \n",
       "21  https://www.flipkart.com/oneplus-nord-ce-5g-bl...  \n",
       "22  https://www.flipkart.com/oneplus-nord-2t-5g-ja...  \n",
       "23  https://www.flipkart.com/oneplus-nord-2t-5g-ja...  "
      ]
     },
     "execution_count": 139,
     "metadata": {},
     "output_type": "execute_result"
    }
   ],
   "source": [
    "df"
   ]
  },
  {
   "cell_type": "code",
   "execution_count": 140,
   "id": "fb357096",
   "metadata": {},
   "outputs": [
    {
     "name": "stdout",
     "output_type": "stream",
     "text": [
      "DataFrame successfully exported to: smartphone_dataset.csv\n"
     ]
    }
   ],
   "source": [
    "filename = \"smartphone_dataset.csv\"\n",
    "\n",
    "# Use the `to_csv` method to export the DataFrame\n",
    "df.to_csv(filename, index=False)\n",
    "\n",
    "print(f\"DataFrame successfully exported to: {filename}\")"
   ]
  },
  {
   "cell_type": "markdown",
   "id": "aeabb7b6",
   "metadata": {},
   "source": [
    "# Question - 6"
   ]
  },
  {
   "cell_type": "markdown",
   "id": "eb2ad28e",
   "metadata": {},
   "source": [
    "Write a program to scrap all the available details of best gaming laptops from digit.in. "
   ]
  },
  {
   "cell_type": "code",
   "execution_count": 186,
   "id": "b6f4a270",
   "metadata": {},
   "outputs": [],
   "source": [
    "driver6 = webdriver.Chrome()"
   ]
  },
  {
   "cell_type": "code",
   "execution_count": 187,
   "id": "750d816a",
   "metadata": {},
   "outputs": [],
   "source": [
    "driver6.get('https://www.digit.in/')"
   ]
  },
  {
   "cell_type": "markdown",
   "id": "ca5e9349",
   "metadata": {},
   "source": [
    "# Best AMD Gaming Laptops With Nvidia GeForce RTX 3050"
   ]
  },
  {
   "cell_type": "code",
   "execution_count": 188,
   "id": "37176007",
   "metadata": {},
   "outputs": [],
   "source": [
    "Product_name = []\n",
    "data_list = []"
   ]
  },
  {
   "cell_type": "code",
   "execution_count": 189,
   "id": "b8a67874",
   "metadata": {},
   "outputs": [],
   "source": [
    "names = driver6.find_elements(By.XPATH,'//h3[@class=\"font130 mt0 mb10 mobilesblockdisplay \"]')\n",
    "for i in names :\n",
    "    Product_name.append(i.text)\n",
    "    "
   ]
  },
  {
   "cell_type": "code",
   "execution_count": 190,
   "id": "30b4a20f",
   "metadata": {},
   "outputs": [
    {
     "data": {
      "text/plain": [
       "['Lenovo IdeaPad Gaming 3 82K200X3IN Ryzen 7-5800H (2022)',\n",
       " 'Dell New G15-5515 D560805WIN9W Ryzen 5-5600H (2022)',\n",
       " 'HP Pavilion Gaming 15-ec2145AX Ryzen 5-5600H (2022)',\n",
       " 'Lenovo IdeaPad Gaming 3 15ACH6 Ryzen 5-5600H (2021)']"
      ]
     },
     "execution_count": 190,
     "metadata": {},
     "output_type": "execute_result"
    }
   ],
   "source": [
    "Product_name"
   ]
  },
  {
   "cell_type": "code",
   "execution_count": 191,
   "id": "c51b201a",
   "metadata": {},
   "outputs": [],
   "source": [
    "system = driver6.find_elements(By.XPATH,'//div[@class=\"rh_gr_middle_desc\"]')\n",
    "for i in system :\n",
    "    data_list.append(i.text)"
   ]
  },
  {
   "cell_type": "code",
   "execution_count": 192,
   "id": "19fd1087",
   "metadata": {},
   "outputs": [
    {
     "data": {
      "text/plain": [
       "['Operating System:\\nWindows 11 Home\\nDisplay Size :\\n15.6\\nResolution :\\n1920 x 1080\\nProcessor :\\n5th Gen AMD Ryzen 7-5800',\n",
       " 'Operating System:\\nWindows 10\\nDisplay Size :\\n15.6\\nResolution :\\n1920 x 1080\\nProcessor :\\nAMD Ryzen 5-5600H',\n",
       " 'Operating System:\\nWindows 11 Home\\nDisplay Size :\\n15.6\\nResolution :\\n1920 x 1080\\nProcessor :\\nAMD Ryzen 5 5600H',\n",
       " 'Operating System:\\nWindows 11 Home\\nDisplay Size :\\n15.6\\nResolution :\\n1920 x 1080\\nProcessor :\\nAMD Ryzen 5-5600H']"
      ]
     },
     "execution_count": 192,
     "metadata": {},
     "output_type": "execute_result"
    }
   ],
   "source": [
    "data_list"
   ]
  },
  {
   "cell_type": "code",
   "execution_count": 193,
   "id": "32b5eb45",
   "metadata": {},
   "outputs": [],
   "source": [
    "Operating_system = []\n",
    "Display_size = []\n",
    "Resolution = []\n",
    "Processor = []"
   ]
  },
  {
   "cell_type": "code",
   "execution_count": 194,
   "id": "41cc3451",
   "metadata": {},
   "outputs": [],
   "source": [
    "for data in data_list:\n",
    "    parts = data.replace(\"\\n\", \" \").split()\n",
    "\n",
    "    operating_system = parts[2:5] if \"Home\" in parts else parts[2:4]  \n",
    "    display_size = parts[8]\n",
    "    resolution = parts[10:15]\n",
    "    processor = parts[-5:]\n",
    "\n",
    "    operating_system = [part.strip(\":\") for part in operating_system]\n",
    "    display_size = display_size.strip(\":\")\n",
    "    resolution = [part.strip(\":\") for part in resolution]\n",
    "    processor = [part.strip(\":\") for part in processor]\n",
    "\n",
    "    Operating_system.append(\", \".join(operating_system))\n",
    "    Display_size.append(display_size)\n",
    "    Resolution.append(\" \".join(resolution))\n",
    "    Processor.append(\" \".join(processor))"
   ]
  },
  {
   "cell_type": "code",
   "execution_count": 195,
   "id": "ae479c01",
   "metadata": {},
   "outputs": [
    {
     "name": "stdout",
     "output_type": "stream",
     "text": [
      "Operating System: ['Windows, 11, Home', 'Windows, 10', 'Windows, 11, Home', 'Windows, 11, Home']\n",
      "Display Size: ['15.6', 'Resolution', '15.6', '15.6']\n",
      "Resolution: [' 1920 x 1080 Processor', '1920 x 1080 Processor ', ' 1920 x 1080 Processor', ' 1920 x 1080 Processor']\n",
      "Processor: ['5th Gen AMD Ryzen 7-5800', 'Processor  AMD Ryzen 5-5600H', ' AMD Ryzen 5 5600H', 'Processor  AMD Ryzen 5-5600H']\n"
     ]
    }
   ],
   "source": [
    "print(\"Operating System:\", Operating_system)\n",
    "print(\"Display Size:\", Display_size)\n",
    "print(\"Resolution:\", Resolution)\n",
    "print(\"Processor:\", Processor)"
   ]
  },
  {
   "cell_type": "code",
   "execution_count": 196,
   "id": "7335fe2d",
   "metadata": {},
   "outputs": [],
   "source": [
    "new_list = [item if item != 'Resolution' else 15.6 for item in Display_size]"
   ]
  },
  {
   "cell_type": "code",
   "execution_count": 197,
   "id": "e1ac748a",
   "metadata": {},
   "outputs": [
    {
     "data": {
      "text/plain": [
       "['15.6', 15.6, '15.6', '15.6']"
      ]
     },
     "execution_count": 197,
     "metadata": {},
     "output_type": "execute_result"
    }
   ],
   "source": [
    "new_list"
   ]
  },
  {
   "cell_type": "code",
   "execution_count": 202,
   "id": "3b14dc9b",
   "metadata": {
    "scrolled": false
   },
   "outputs": [
    {
     "data": {
      "text/html": [
       "<div>\n",
       "<style scoped>\n",
       "    .dataframe tbody tr th:only-of-type {\n",
       "        vertical-align: middle;\n",
       "    }\n",
       "\n",
       "    .dataframe tbody tr th {\n",
       "        vertical-align: top;\n",
       "    }\n",
       "\n",
       "    .dataframe thead th {\n",
       "        text-align: right;\n",
       "    }\n",
       "</style>\n",
       "<table border=\"1\" class=\"dataframe\">\n",
       "  <thead>\n",
       "    <tr style=\"text-align: right;\">\n",
       "      <th></th>\n",
       "      <th>Laptop name</th>\n",
       "      <th>Operating system</th>\n",
       "      <th>Display size</th>\n",
       "      <th>Resolution</th>\n",
       "      <th>Processor</th>\n",
       "    </tr>\n",
       "  </thead>\n",
       "  <tbody>\n",
       "    <tr>\n",
       "      <th>0</th>\n",
       "      <td>Lenovo IdeaPad Gaming 3 82K200X3IN Ryzen 7-580...</td>\n",
       "      <td>Windows, 11, Home</td>\n",
       "      <td>15.6</td>\n",
       "      <td>1920 x 1080 Processor</td>\n",
       "      <td>5th Gen AMD Ryzen 7-5800</td>\n",
       "    </tr>\n",
       "    <tr>\n",
       "      <th>1</th>\n",
       "      <td>Dell New G15-5515 D560805WIN9W Ryzen 5-5600H (...</td>\n",
       "      <td>Windows, 10</td>\n",
       "      <td>15.6</td>\n",
       "      <td>1920 x 1080 Processor</td>\n",
       "      <td>Processor  AMD Ryzen 5-5600H</td>\n",
       "    </tr>\n",
       "    <tr>\n",
       "      <th>2</th>\n",
       "      <td>HP Pavilion Gaming 15-ec2145AX Ryzen 5-5600H (...</td>\n",
       "      <td>Windows, 11, Home</td>\n",
       "      <td>15.6</td>\n",
       "      <td>1920 x 1080 Processor</td>\n",
       "      <td>AMD Ryzen 5 5600H</td>\n",
       "    </tr>\n",
       "    <tr>\n",
       "      <th>3</th>\n",
       "      <td>Lenovo IdeaPad Gaming 3 15ACH6 Ryzen 5-5600H (...</td>\n",
       "      <td>Windows, 11, Home</td>\n",
       "      <td>15.6</td>\n",
       "      <td>1920 x 1080 Processor</td>\n",
       "      <td>Processor  AMD Ryzen 5-5600H</td>\n",
       "    </tr>\n",
       "  </tbody>\n",
       "</table>\n",
       "</div>"
      ],
      "text/plain": [
       "                                         Laptop name   Operating system  \\\n",
       "0  Lenovo IdeaPad Gaming 3 82K200X3IN Ryzen 7-580...  Windows, 11, Home   \n",
       "1  Dell New G15-5515 D560805WIN9W Ryzen 5-5600H (...        Windows, 10   \n",
       "2  HP Pavilion Gaming 15-ec2145AX Ryzen 5-5600H (...  Windows, 11, Home   \n",
       "3  Lenovo IdeaPad Gaming 3 15ACH6 Ryzen 5-5600H (...  Windows, 11, Home   \n",
       "\n",
       "  Display size             Resolution                      Processor  \n",
       "0         15.6   1920 x 1080 Processor      5th Gen AMD Ryzen 7-5800  \n",
       "1         15.6  1920 x 1080 Processor   Processor  AMD Ryzen 5-5600H  \n",
       "2         15.6   1920 x 1080 Processor             AMD Ryzen 5 5600H  \n",
       "3         15.6   1920 x 1080 Processor  Processor  AMD Ryzen 5-5600H  "
      ]
     },
     "execution_count": 202,
     "metadata": {},
     "output_type": "execute_result"
    }
   ],
   "source": [
    "df = pd.DataFrame({'Laptop name': Product_name ,'Operating system': Operating_system, 'Display size' : new_list , 'Resolution ': Resolution , 'Processor' : Processor  })\n",
    "df"
   ]
  },
  {
   "cell_type": "markdown",
   "id": "11a8a341",
   "metadata": {},
   "source": [
    "# Best AMD Gaming Laptop With 16GB RAM"
   ]
  },
  {
   "cell_type": "code",
   "execution_count": 225,
   "id": "af3d8239",
   "metadata": {},
   "outputs": [],
   "source": [
    "Product_name2 = []\n",
    "data_list2 = []"
   ]
  },
  {
   "cell_type": "code",
   "execution_count": 226,
   "id": "a5abdc6a",
   "metadata": {},
   "outputs": [],
   "source": [
    "names2 = driver6.find_elements(By.XPATH,'//h3[@class=\"font130 mt0 mb10 mobilesblockdisplay \"]')\n",
    "for i in names2 :\n",
    "    Product_name2.append(i.text)"
   ]
  },
  {
   "cell_type": "code",
   "execution_count": 227,
   "id": "17c03fb1",
   "metadata": {},
   "outputs": [
    {
     "data": {
      "text/plain": [
       "['HP OMEN 15-en1037AX 5th Gen Ryzen 7-5800H (2021)',\n",
       " 'Acer Nitro 5 AN515-45-R3TC Ryzen 5-5600H (2021)',\n",
       " 'Dell New G15-5515 D560730WIN9W Ryzen 7-5800H',\n",
       " 'Lenovo Ideapad Gaming 3 82K200X2IN Ryzen 7-5800H (2022)']"
      ]
     },
     "execution_count": 227,
     "metadata": {},
     "output_type": "execute_result"
    }
   ],
   "source": [
    "Product_name2"
   ]
  },
  {
   "cell_type": "code",
   "execution_count": 228,
   "id": "5ed8dafa",
   "metadata": {},
   "outputs": [],
   "source": [
    "lists = driver6.find_elements(By.XPATH,'//div[@class=\"rh_gr_middle_desc\"]')\n",
    "for i in lists :\n",
    "    data_list2.append(i.text)"
   ]
  },
  {
   "cell_type": "code",
   "execution_count": 229,
   "id": "04d1c32b",
   "metadata": {},
   "outputs": [
    {
     "data": {
      "text/plain": [
       "['Operating System:\\nWindows 10 Home\\nDisplay Size :\\n15.6\\nResolution :\\n2560 x 1440\\nProcessor :\\n5th Gen AMD Ryzen 7-5800H',\n",
       " 'Operating System:\\nWindows 10 Home\\nDisplay Size :\\n15.6\\nResolution :\\n1920 x 1080\\nProcessor :\\nAMD Ryzen 5 Hexa Core 5600H',\n",
       " 'Operating System:\\nWindows 11 Home\\nDisplay Size :\\n15.6\\nResolution :\\n1920 x 1080\\nProcessor :\\nAMD Ryzen R7-5800H',\n",
       " 'Operating System:\\nWindows 11 Home\\nDisplay Size :\\n15.6\\nResolution :\\n1920 x 1080\\nProcessor :\\nAMD Ryzen 7-5800H']"
      ]
     },
     "execution_count": 229,
     "metadata": {},
     "output_type": "execute_result"
    }
   ],
   "source": [
    "data_list2"
   ]
  },
  {
   "cell_type": "code",
   "execution_count": 230,
   "id": "97c69899",
   "metadata": {},
   "outputs": [],
   "source": [
    "Operating_system2 = []\n",
    "Display_size2 = []\n",
    "Resolution2 = []\n",
    "Processor2 = []"
   ]
  },
  {
   "cell_type": "code",
   "execution_count": 231,
   "id": "c1013f9d",
   "metadata": {},
   "outputs": [],
   "source": [
    "for data in data_list2:\n",
    "    parts = data.replace(\"\\n\", \" \").split()\n",
    "\n",
    "    operating_system2 = parts[2:5]   \n",
    "    display_size2 = parts[8]\n",
    "    resolution2 = parts[10:15]\n",
    "    processor2 = parts[-6:]\n",
    "\n",
    "    operating_system2 = [part.strip(\":\") for part in operating_system2]\n",
    "    display_size2 = display_size.strip(\":\")\n",
    "    resolution2 = [part.strip(\":\") for part in resolution2]\n",
    "    processor2 = [part.strip(\":\") for part in processor2]\n",
    "\n",
    "    Operating_system2.append(\", \".join(operating_system2))\n",
    "    Display_size2.append(display_size2)\n",
    "    Resolution2.append(\" \".join(resolution2))\n",
    "    Processor2.append(\" \".join(processor2))"
   ]
  },
  {
   "cell_type": "code",
   "execution_count": 235,
   "id": "6cd5da57",
   "metadata": {
    "scrolled": true
   },
   "outputs": [
    {
     "name": "stdout",
     "output_type": "stream",
     "text": [
      "Operating System: ['Windows, 10, Home', 'Windows, 10, Home', 'Windows, 11, Home', 'Windows, 11, Home']\n",
      "Display Size: ['15.6', '15.6', '15.6', '15.6']\n",
      "Resolution: [' 2560 x 1440 Processor', ' 1920 x 1080 Processor', ' 1920 x 1080 Processor', ' 1920 x 1080 Processor']\n",
      "Processor: [' 5th Gen AMD Ryzen 7-5800H', 'AMD Ryzen 5 Hexa Core 5600H', '1080 Processor  AMD Ryzen R7-5800H', '1080 Processor  AMD Ryzen 7-5800H']\n"
     ]
    }
   ],
   "source": [
    "print(\"Operating System:\", Operating_system2)\n",
    "print(\"Display Size:\", Display_size2)\n",
    "print(\"Resolution:\", Resolution2)\n",
    "print(\"Processor:\", Processor2)"
   ]
  },
  {
   "cell_type": "code",
   "execution_count": 240,
   "id": "6921b829",
   "metadata": {},
   "outputs": [],
   "source": [
    "modified_list4 = []\n",
    "for item in Processor2:\n",
    "    if '1080 Processor' in item:\n",
    "        modified_list4.append(item.replace(\"1080 Processor\", \"\"))\n",
    "    else:\n",
    "        modified_list4.append(item)"
   ]
  },
  {
   "cell_type": "code",
   "execution_count": 241,
   "id": "c3084f83",
   "metadata": {},
   "outputs": [
    {
     "data": {
      "text/plain": [
       "[' 5th Gen AMD Ryzen 7-5800H',\n",
       " 'AMD Ryzen 5 Hexa Core 5600H',\n",
       " '  AMD Ryzen R7-5800H',\n",
       " '  AMD Ryzen 7-5800H']"
      ]
     },
     "execution_count": 241,
     "metadata": {},
     "output_type": "execute_result"
    }
   ],
   "source": [
    "modified_list4"
   ]
  },
  {
   "cell_type": "code",
   "execution_count": 242,
   "id": "597afce2",
   "metadata": {},
   "outputs": [
    {
     "data": {
      "text/html": [
       "<div>\n",
       "<style scoped>\n",
       "    .dataframe tbody tr th:only-of-type {\n",
       "        vertical-align: middle;\n",
       "    }\n",
       "\n",
       "    .dataframe tbody tr th {\n",
       "        vertical-align: top;\n",
       "    }\n",
       "\n",
       "    .dataframe thead th {\n",
       "        text-align: right;\n",
       "    }\n",
       "</style>\n",
       "<table border=\"1\" class=\"dataframe\">\n",
       "  <thead>\n",
       "    <tr style=\"text-align: right;\">\n",
       "      <th></th>\n",
       "      <th>Laptop name</th>\n",
       "      <th>Operating system</th>\n",
       "      <th>Display size</th>\n",
       "      <th>Resolution</th>\n",
       "      <th>Processor</th>\n",
       "    </tr>\n",
       "  </thead>\n",
       "  <tbody>\n",
       "    <tr>\n",
       "      <th>0</th>\n",
       "      <td>HP OMEN 15-en1037AX 5th Gen Ryzen 7-5800H (2021)</td>\n",
       "      <td>Windows, 10, Home</td>\n",
       "      <td>15.6</td>\n",
       "      <td>2560 x 1440 Processor</td>\n",
       "      <td>5th Gen AMD Ryzen 7-5800H</td>\n",
       "    </tr>\n",
       "    <tr>\n",
       "      <th>1</th>\n",
       "      <td>Acer Nitro 5 AN515-45-R3TC Ryzen 5-5600H (2021)</td>\n",
       "      <td>Windows, 10, Home</td>\n",
       "      <td>15.6</td>\n",
       "      <td>1920 x 1080 Processor</td>\n",
       "      <td>AMD Ryzen 5 Hexa Core 5600H</td>\n",
       "    </tr>\n",
       "    <tr>\n",
       "      <th>2</th>\n",
       "      <td>Dell New G15-5515 D560730WIN9W Ryzen 7-5800H</td>\n",
       "      <td>Windows, 11, Home</td>\n",
       "      <td>15.6</td>\n",
       "      <td>1920 x 1080 Processor</td>\n",
       "      <td>AMD Ryzen R7-5800H</td>\n",
       "    </tr>\n",
       "    <tr>\n",
       "      <th>3</th>\n",
       "      <td>Lenovo Ideapad Gaming 3 82K200X2IN Ryzen 7-580...</td>\n",
       "      <td>Windows, 11, Home</td>\n",
       "      <td>15.6</td>\n",
       "      <td>1920 x 1080 Processor</td>\n",
       "      <td>AMD Ryzen 7-5800H</td>\n",
       "    </tr>\n",
       "  </tbody>\n",
       "</table>\n",
       "</div>"
      ],
      "text/plain": [
       "                                         Laptop name   Operating system  \\\n",
       "0   HP OMEN 15-en1037AX 5th Gen Ryzen 7-5800H (2021)  Windows, 10, Home   \n",
       "1    Acer Nitro 5 AN515-45-R3TC Ryzen 5-5600H (2021)  Windows, 10, Home   \n",
       "2       Dell New G15-5515 D560730WIN9W Ryzen 7-5800H  Windows, 11, Home   \n",
       "3  Lenovo Ideapad Gaming 3 82K200X2IN Ryzen 7-580...  Windows, 11, Home   \n",
       "\n",
       "  Display size             Resolution                     Processor  \n",
       "0         15.6   2560 x 1440 Processor    5th Gen AMD Ryzen 7-5800H  \n",
       "1         15.6   1920 x 1080 Processor  AMD Ryzen 5 Hexa Core 5600H  \n",
       "2         15.6   1920 x 1080 Processor           AMD Ryzen R7-5800H  \n",
       "3         15.6   1920 x 1080 Processor            AMD Ryzen 7-5800H  "
      ]
     },
     "execution_count": 242,
     "metadata": {},
     "output_type": "execute_result"
    }
   ],
   "source": [
    "df2 = pd.DataFrame({'Laptop name': Product_name2 ,'Operating system': Operating_system2, 'Display size' : Display_size2 , 'Resolution ': Resolution2 , 'Processor' : modified_list4  })\n",
    "df2"
   ]
  },
  {
   "cell_type": "markdown",
   "id": "09439e64",
   "metadata": {},
   "source": [
    "# Best AMD Gaming Laptops for Students"
   ]
  },
  {
   "cell_type": "code",
   "execution_count": 243,
   "id": "ff2f71b6",
   "metadata": {},
   "outputs": [],
   "source": [
    "Product_name3 = []\n",
    "data_list3 = []"
   ]
  },
  {
   "cell_type": "code",
   "execution_count": 244,
   "id": "c0c181bf",
   "metadata": {},
   "outputs": [],
   "source": [
    "names3 = driver6.find_elements(By.XPATH,'//h3[@class=\"font130 mt0 mb10 mobilesblockdisplay \"]')\n",
    "for i in names3 :\n",
    "    Product_name3.append(i.text)"
   ]
  },
  {
   "cell_type": "code",
   "execution_count": 245,
   "id": "8faf583d",
   "metadata": {},
   "outputs": [
    {
     "data": {
      "text/plain": [
       "['HP Victus 16-e0362ax 5th Gen Ryzen 7-5800H (2022)',\n",
       " 'Acer Nitro 5 AN515-45-R3TC Ryzen 5-5600H (2021)',\n",
       " 'Dell New G15-5515 D560804WIN9W Ryzen 5-5600H (2022)',\n",
       " 'HP Pavilion Gaming 15-EC2048AX Ryzen 5-5600X',\n",
       " 'Lenovo Ideapad Gaming 3 82K201RRIN AMD Ryzen 5-5600H (2022)']"
      ]
     },
     "execution_count": 245,
     "metadata": {},
     "output_type": "execute_result"
    }
   ],
   "source": [
    "Product_name3"
   ]
  },
  {
   "cell_type": "code",
   "execution_count": 246,
   "id": "76139391",
   "metadata": {},
   "outputs": [],
   "source": [
    "lists3 = driver6.find_elements(By.XPATH,'//div[@class=\"rh_gr_middle_desc\"]')\n",
    "for i in lists3 :\n",
    "    data_list3.append(i.text)"
   ]
  },
  {
   "cell_type": "code",
   "execution_count": 247,
   "id": "bf209558",
   "metadata": {},
   "outputs": [
    {
     "data": {
      "text/plain": [
       "['Operating System:\\nWindows 11 Home\\nDisplay Size :\\n16.1\\nResolution :\\n2560 x 1440\\nProcessor :\\n5th Gen AMD Ryzen 7-5800H',\n",
       " 'Operating System:\\nWindows 10 Home\\nDisplay Size :\\n15.6\\nResolution :\\n1920 x 1080\\nProcessor :\\nAMD Ryzen 5 Hexa Core 5600H',\n",
       " 'Operating System:\\nWindows 11 Home\\nDisplay Size :\\n15.6\\nResolution :\\n1920 x 1080\\nProcessor :\\nAMD Ryzen 5-5600H',\n",
       " 'Operating System:\\nWindows 10 Home\\nDisplay Size :\\n15.6\\nResolution :\\n1920 x 1080\\nProcessor :\\nAMD Ryzen 5-5600X',\n",
       " 'Operating System:\\nWindows 11 Home\\nDisplay Size :\\n15.6\\nResolution :\\n1920 x 1080\\nProcessor :\\nAMD Ryzen 5-5600H']"
      ]
     },
     "execution_count": 247,
     "metadata": {},
     "output_type": "execute_result"
    }
   ],
   "source": [
    "data_list3"
   ]
  },
  {
   "cell_type": "code",
   "execution_count": 248,
   "id": "199d4d8d",
   "metadata": {},
   "outputs": [],
   "source": [
    "Operating_system3 = []\n",
    "Display_size3 = []\n",
    "Resolution3 = []\n",
    "Processor3 = []"
   ]
  },
  {
   "cell_type": "code",
   "execution_count": 249,
   "id": "24891084",
   "metadata": {},
   "outputs": [],
   "source": [
    "for data in data_list3:\n",
    "    parts = data.replace(\"\\n\", \" \").split()\n",
    "\n",
    "    operating_system3 = parts[2:5]   \n",
    "    display_size3 = parts[8]\n",
    "    resolution3 = parts[10:15]\n",
    "    processor3 = parts[-6:]\n",
    "\n",
    "    operating_system3 = [part.strip(\":\") for part in operating_system3]\n",
    "    display_size3 = display_size3.strip(\":\")\n",
    "    resolution3 = [part.strip(\":\") for part in resolution3]\n",
    "    processor3 = [part.strip(\":\") for part in processor3]\n",
    "    \n",
    "    Operating_system3.append(\", \".join(operating_system3))\n",
    "    Display_size3.append(display_size3)\n",
    "    Resolution3.append(\" \".join(resolution3))\n",
    "    Processor3.append(\" \".join(processor3))"
   ]
  },
  {
   "cell_type": "code",
   "execution_count": 250,
   "id": "877ba418",
   "metadata": {},
   "outputs": [
    {
     "name": "stdout",
     "output_type": "stream",
     "text": [
      "Operating System: ['Windows, 11, Home', 'Windows, 10, Home', 'Windows, 11, Home', 'Windows, 10, Home', 'Windows, 11, Home']\n",
      "Display Size: ['16.1', '15.6', '15.6', '15.6', '15.6']\n",
      "Resolution: [' 2560 x 1440 Processor', ' 1920 x 1080 Processor', ' 1920 x 1080 Processor', ' 1920 x 1080 Processor', ' 1920 x 1080 Processor']\n",
      "Processor: [' 5th Gen AMD Ryzen 7-5800H', 'AMD Ryzen 5 Hexa Core 5600H', '1080 Processor  AMD Ryzen 5-5600H', '1080 Processor  AMD Ryzen 5-5600X', '1080 Processor  AMD Ryzen 5-5600H']\n"
     ]
    }
   ],
   "source": [
    "print(\"Operating System:\", Operating_system3)\n",
    "print(\"Display Size:\", Display_size3)\n",
    "print(\"Resolution:\", Resolution3)\n",
    "print(\"Processor:\", Processor3)"
   ]
  },
  {
   "cell_type": "code",
   "execution_count": 251,
   "id": "4d52382e",
   "metadata": {},
   "outputs": [],
   "source": [
    "modified_list5 = []\n",
    "for item in Processor3:\n",
    "    if '1080 Processor' in item:\n",
    "        modified_list5.append(item.replace(\"1080 Processor\", \"\"))\n",
    "    else:\n",
    "        modified_list5.append(item)"
   ]
  },
  {
   "cell_type": "code",
   "execution_count": 252,
   "id": "3f88bd7d",
   "metadata": {},
   "outputs": [
    {
     "data": {
      "text/plain": [
       "[' 5th Gen AMD Ryzen 7-5800H',\n",
       " 'AMD Ryzen 5 Hexa Core 5600H',\n",
       " '  AMD Ryzen 5-5600H',\n",
       " '  AMD Ryzen 5-5600X',\n",
       " '  AMD Ryzen 5-5600H']"
      ]
     },
     "execution_count": 252,
     "metadata": {},
     "output_type": "execute_result"
    }
   ],
   "source": [
    "modified_list5"
   ]
  },
  {
   "cell_type": "code",
   "execution_count": 253,
   "id": "ddad32de",
   "metadata": {},
   "outputs": [
    {
     "data": {
      "text/html": [
       "<div>\n",
       "<style scoped>\n",
       "    .dataframe tbody tr th:only-of-type {\n",
       "        vertical-align: middle;\n",
       "    }\n",
       "\n",
       "    .dataframe tbody tr th {\n",
       "        vertical-align: top;\n",
       "    }\n",
       "\n",
       "    .dataframe thead th {\n",
       "        text-align: right;\n",
       "    }\n",
       "</style>\n",
       "<table border=\"1\" class=\"dataframe\">\n",
       "  <thead>\n",
       "    <tr style=\"text-align: right;\">\n",
       "      <th></th>\n",
       "      <th>Laptop name</th>\n",
       "      <th>Operating system</th>\n",
       "      <th>Display size</th>\n",
       "      <th>Resolution</th>\n",
       "      <th>Processor</th>\n",
       "    </tr>\n",
       "  </thead>\n",
       "  <tbody>\n",
       "    <tr>\n",
       "      <th>0</th>\n",
       "      <td>HP Victus 16-e0362ax 5th Gen Ryzen 7-5800H (2022)</td>\n",
       "      <td>Windows, 11, Home</td>\n",
       "      <td>16.1</td>\n",
       "      <td>2560 x 1440 Processor</td>\n",
       "      <td>5th Gen AMD Ryzen 7-5800H</td>\n",
       "    </tr>\n",
       "    <tr>\n",
       "      <th>1</th>\n",
       "      <td>Acer Nitro 5 AN515-45-R3TC Ryzen 5-5600H (2021)</td>\n",
       "      <td>Windows, 10, Home</td>\n",
       "      <td>15.6</td>\n",
       "      <td>1920 x 1080 Processor</td>\n",
       "      <td>AMD Ryzen 5 Hexa Core 5600H</td>\n",
       "    </tr>\n",
       "    <tr>\n",
       "      <th>2</th>\n",
       "      <td>Dell New G15-5515 D560804WIN9W Ryzen 5-5600H (...</td>\n",
       "      <td>Windows, 11, Home</td>\n",
       "      <td>15.6</td>\n",
       "      <td>1920 x 1080 Processor</td>\n",
       "      <td>AMD Ryzen 5-5600H</td>\n",
       "    </tr>\n",
       "    <tr>\n",
       "      <th>3</th>\n",
       "      <td>HP Pavilion Gaming 15-EC2048AX Ryzen 5-5600X</td>\n",
       "      <td>Windows, 10, Home</td>\n",
       "      <td>15.6</td>\n",
       "      <td>1920 x 1080 Processor</td>\n",
       "      <td>AMD Ryzen 5-5600X</td>\n",
       "    </tr>\n",
       "    <tr>\n",
       "      <th>4</th>\n",
       "      <td>Lenovo Ideapad Gaming 3 82K201RRIN AMD Ryzen 5...</td>\n",
       "      <td>Windows, 11, Home</td>\n",
       "      <td>15.6</td>\n",
       "      <td>1920 x 1080 Processor</td>\n",
       "      <td>AMD Ryzen 5-5600H</td>\n",
       "    </tr>\n",
       "  </tbody>\n",
       "</table>\n",
       "</div>"
      ],
      "text/plain": [
       "                                         Laptop name   Operating system  \\\n",
       "0  HP Victus 16-e0362ax 5th Gen Ryzen 7-5800H (2022)  Windows, 11, Home   \n",
       "1    Acer Nitro 5 AN515-45-R3TC Ryzen 5-5600H (2021)  Windows, 10, Home   \n",
       "2  Dell New G15-5515 D560804WIN9W Ryzen 5-5600H (...  Windows, 11, Home   \n",
       "3       HP Pavilion Gaming 15-EC2048AX Ryzen 5-5600X  Windows, 10, Home   \n",
       "4  Lenovo Ideapad Gaming 3 82K201RRIN AMD Ryzen 5...  Windows, 11, Home   \n",
       "\n",
       "  Display size             Resolution                     Processor  \n",
       "0         16.1   2560 x 1440 Processor    5th Gen AMD Ryzen 7-5800H  \n",
       "1         15.6   1920 x 1080 Processor  AMD Ryzen 5 Hexa Core 5600H  \n",
       "2         15.6   1920 x 1080 Processor            AMD Ryzen 5-5600H  \n",
       "3         15.6   1920 x 1080 Processor            AMD Ryzen 5-5600X  \n",
       "4         15.6   1920 x 1080 Processor            AMD Ryzen 5-5600H  "
      ]
     },
     "execution_count": 253,
     "metadata": {},
     "output_type": "execute_result"
    }
   ],
   "source": [
    "df3 = pd.DataFrame({'Laptop name': Product_name3 ,'Operating system': Operating_system3, 'Display size' : Display_size3 , 'Resolution ': Resolution3 , 'Processor' : modified_list5  })\n",
    "df3"
   ]
  },
  {
   "cell_type": "markdown",
   "id": "212589fe",
   "metadata": {},
   "source": [
    "# Question - 8"
   ]
  },
  {
   "cell_type": "markdown",
   "id": "50691010",
   "metadata": {},
   "source": [
    "Write a program to extract at least 500 Comments, Comment upvote and time when comment was posted \n",
    "from any YouTube Video. "
   ]
  },
  {
   "cell_type": "code",
   "execution_count": 2,
   "id": "1ac5e52f",
   "metadata": {},
   "outputs": [],
   "source": [
    "driver8 = webdriver.Chrome()"
   ]
  },
  {
   "cell_type": "code",
   "execution_count": 3,
   "id": "2fd4b460",
   "metadata": {},
   "outputs": [],
   "source": [
    "driver8.get('https://www.youtube.com/')"
   ]
  },
  {
   "cell_type": "code",
   "execution_count": 4,
   "id": "9a3d7929",
   "metadata": {},
   "outputs": [],
   "source": [
    "Input = driver8.find_element(By.XPATH,'/html/body/ytd-app/div[1]/div/ytd-masthead/div[4]/div[2]/ytd-searchbox/form/div[1]/div[1]/input')\n",
    "Input.send_keys('Elon musk on education system')"
   ]
  },
  {
   "cell_type": "code",
   "execution_count": 5,
   "id": "9ea4d130",
   "metadata": {},
   "outputs": [],
   "source": [
    "search = driver8.find_element(By.XPATH , '/html/body/ytd-app/div[1]/div/ytd-masthead/div[4]/div[2]/ytd-searchbox/button/yt-icon/yt-icon-shape/icon-shape')\n",
    "search.click()"
   ]
  },
  {
   "cell_type": "code",
   "execution_count": 6,
   "id": "69d5b019",
   "metadata": {},
   "outputs": [],
   "source": [
    "Video = driver8.find_element(By.XPATH, '/html/body/ytd-app/div[1]/ytd-page-manager/ytd-search/div[1]/ytd-two-column-search-results-renderer/div/ytd-section-list-renderer/div[2]/ytd-item-section-renderer/div[3]/ytd-video-renderer[1]/div[1]/div/div[1]/div/h3/a/yt-formatted-string')\n",
    "Video.click()"
   ]
  },
  {
   "cell_type": "code",
   "execution_count": 39,
   "id": "3358192f",
   "metadata": {},
   "outputs": [],
   "source": [
    "comments = []\n",
    "time = []"
   ]
  },
  {
   "cell_type": "code",
   "execution_count": 32,
   "id": "ab5c747a",
   "metadata": {},
   "outputs": [],
   "source": [
    "Cmnt = driver8.find_elements(By.XPATH,'//*[@id=\"content-text\"]')\n",
    "for i in Cmnt :\n",
    "    comments.append(i.text)\n",
    "    \n",
    "    "
   ]
  },
  {
   "cell_type": "code",
   "execution_count": 37,
   "id": "a219b9b9",
   "metadata": {},
   "outputs": [],
   "source": [
    "comment = comments[1:501]"
   ]
  },
  {
   "cell_type": "code",
   "execution_count": 38,
   "id": "bab7beb4",
   "metadata": {},
   "outputs": [
    {
     "name": "stdout",
     "output_type": "stream",
     "text": [
      "500\n"
     ]
    }
   ],
   "source": [
    "print(len(comment))"
   ]
  },
  {
   "cell_type": "code",
   "execution_count": 40,
   "id": "391fcad0",
   "metadata": {},
   "outputs": [],
   "source": [
    "Tim = driver8.find_elements(By.XPATH,'//*[@id=\"header-author\"]/yt-formatted-string/a')\n",
    "for i in Tim :\n",
    "    time.append(i.text)"
   ]
  },
  {
   "cell_type": "code",
   "execution_count": 43,
   "id": "97d2d0da",
   "metadata": {},
   "outputs": [],
   "source": [
    "new_time = time[1:501]"
   ]
  },
  {
   "cell_type": "code",
   "execution_count": 44,
   "id": "9b2f5e29",
   "metadata": {},
   "outputs": [
    {
     "name": "stdout",
     "output_type": "stream",
     "text": [
      "500\n"
     ]
    }
   ],
   "source": [
    "print(len(new_time))"
   ]
  },
  {
   "cell_type": "code",
   "execution_count": 45,
   "id": "49242798",
   "metadata": {
    "scrolled": true
   },
   "outputs": [
    {
     "data": {
      "text/html": [
       "<div>\n",
       "<style scoped>\n",
       "    .dataframe tbody tr th:only-of-type {\n",
       "        vertical-align: middle;\n",
       "    }\n",
       "\n",
       "    .dataframe tbody tr th {\n",
       "        vertical-align: top;\n",
       "    }\n",
       "\n",
       "    .dataframe thead th {\n",
       "        text-align: right;\n",
       "    }\n",
       "</style>\n",
       "<table border=\"1\" class=\"dataframe\">\n",
       "  <thead>\n",
       "    <tr style=\"text-align: right;\">\n",
       "      <th></th>\n",
       "      <th>Comments</th>\n",
       "      <th>Time</th>\n",
       "    </tr>\n",
       "  </thead>\n",
       "  <tbody>\n",
       "    <tr>\n",
       "      <th>0</th>\n",
       "      <td>After 25 years of teaching I can tell you firs...</td>\n",
       "      <td>1 year ago</td>\n",
       "    </tr>\n",
       "    <tr>\n",
       "      <th>1</th>\n",
       "      <td>I completely agree with Elon's views about edu...</td>\n",
       "      <td>4 months ago</td>\n",
       "    </tr>\n",
       "    <tr>\n",
       "      <th>2</th>\n",
       "      <td>How awesome that these things can be said in t...</td>\n",
       "      <td>8 months ago</td>\n",
       "    </tr>\n",
       "    <tr>\n",
       "      <th>3</th>\n",
       "      <td>I taught private music lessons for 26 years. I...</td>\n",
       "      <td>8 months ago</td>\n",
       "    </tr>\n",
       "    <tr>\n",
       "      <th>4</th>\n",
       "      <td>I mean he is right. I am just month away from ...</td>\n",
       "      <td>9 months ago</td>\n",
       "    </tr>\n",
       "    <tr>\n",
       "      <th>...</th>\n",
       "      <td>...</td>\n",
       "      <td>...</td>\n",
       "    </tr>\n",
       "    <tr>\n",
       "      <th>495</th>\n",
       "      <td>I agree 100% on what Elon said about formal ed...</td>\n",
       "      <td>4 months ago</td>\n",
       "    </tr>\n",
       "    <tr>\n",
       "      <th>496</th>\n",
       "      <td>i guess education has good side and bad side ,...</td>\n",
       "      <td>2 months ago</td>\n",
       "    </tr>\n",
       "    <tr>\n",
       "      <th>497</th>\n",
       "      <td>Summary on education:\\n\\n1. Show exceptional a...</td>\n",
       "      <td>1 month ago (edited)</td>\n",
       "    </tr>\n",
       "    <tr>\n",
       "      <th>498</th>\n",
       "      <td>Separation of Education and State is even more...</td>\n",
       "      <td>7 months ago</td>\n",
       "    </tr>\n",
       "    <tr>\n",
       "      <th>499</th>\n",
       "      <td>I'm going to start a school like Elon Musk</td>\n",
       "      <td>1 year ago</td>\n",
       "    </tr>\n",
       "  </tbody>\n",
       "</table>\n",
       "<p>500 rows × 2 columns</p>\n",
       "</div>"
      ],
      "text/plain": [
       "                                              Comments                  Time\n",
       "0    After 25 years of teaching I can tell you firs...            1 year ago\n",
       "1    I completely agree with Elon's views about edu...          4 months ago\n",
       "2    How awesome that these things can be said in t...          8 months ago\n",
       "3    I taught private music lessons for 26 years. I...          8 months ago\n",
       "4    I mean he is right. I am just month away from ...          9 months ago\n",
       "..                                                 ...                   ...\n",
       "495  I agree 100% on what Elon said about formal ed...          4 months ago\n",
       "496  i guess education has good side and bad side ,...          2 months ago\n",
       "497  Summary on education:\\n\\n1. Show exceptional a...  1 month ago (edited)\n",
       "498  Separation of Education and State is even more...          7 months ago\n",
       "499        I'm going to start a school like Elon Musk             1 year ago\n",
       "\n",
       "[500 rows x 2 columns]"
      ]
     },
     "execution_count": 45,
     "metadata": {},
     "output_type": "execute_result"
    }
   ],
   "source": [
    "import pandas as pd\n",
    "\n",
    "df = pd.DataFrame({'Comments': comment , 'Time': new_time})\n",
    "df"
   ]
  },
  {
   "cell_type": "markdown",
   "id": "67d71c2d",
   "metadata": {},
   "source": [
    "# Question - 9"
   ]
  },
  {
   "cell_type": "markdown",
   "id": "38df5682",
   "metadata": {},
   "source": [
    "Write a python program to scrape a data for all available Hostels from https://www.hostelworld.com/ in \n",
    "“London” location. You have to scrape hostel name, distance from city centre, ratings, total reviews, overall \n",
    "reviews, privates from price, dorms from price, facilities and property description."
   ]
  },
  {
   "cell_type": "code",
   "execution_count": 70,
   "id": "b9e167d2",
   "metadata": {},
   "outputs": [],
   "source": [
    "driver9 = webdriver.Chrome()"
   ]
  },
  {
   "cell_type": "code",
   "execution_count": 71,
   "id": "ce8b26f9",
   "metadata": {},
   "outputs": [],
   "source": [
    "driver9.get('https://www.hostelworld.com/')"
   ]
  },
  {
   "cell_type": "code",
   "execution_count": 159,
   "id": "e2efc58e",
   "metadata": {},
   "outputs": [],
   "source": [
    "Input = driver9.find_element(By.XPATH ,'/html/body/div[3]/div/div/div[2]/div[2]/div[2]/div/div/div/div[1]/div/div/div[2]/input')\n",
    "Input.send_keys('London , England')"
   ]
  },
  {
   "cell_type": "code",
   "execution_count": 160,
   "id": "bbf4f64a",
   "metadata": {},
   "outputs": [],
   "source": [
    "London = driver9.find_element(By.XPATH,'/html/body/div[3]/div/div/div[2]/div[2]/div[2]/div/div/div/div[1]/div[2]/div/ul/li[2]/button')\n",
    "London.click()"
   ]
  },
  {
   "cell_type": "code",
   "execution_count": 161,
   "id": "75210956",
   "metadata": {},
   "outputs": [],
   "source": [
    "Search = driver9.find_element(By.XPATH,'/html/body/div[3]/div/div/div[2]/div[2]/div[2]/div/div/div/div[5]/button[1]')\n",
    "Search.click()"
   ]
  },
  {
   "cell_type": "code",
   "execution_count": 162,
   "id": "482e361c",
   "metadata": {},
   "outputs": [],
   "source": [
    "Hostel_name = []\n",
    "Distance_description = []\n",
    "Rating = []\n",
    "Total_reviews = []\n",
    "Overall_reviews = []\n",
    "privates_from_price = []\n",
    "Dorms_from_price = []"
   ]
  },
  {
   "cell_type": "code",
   "execution_count": 163,
   "id": "5b8ade01",
   "metadata": {
    "collapsed": true
   },
   "outputs": [
    {
     "ename": "NoSuchElementException",
     "evalue": "Message: no such element: Unable to locate element: {\"method\":\"xpath\",\"selector\":\"/html/body/div[3]/div/div/div[2]/div[2]/div[1]/div/div/div[5]/div/div[2]/button\"}\n  (Session info: chrome=121.0.6167.161); For documentation on this error, please visit: https://www.selenium.dev/documentation/webdriver/troubleshooting/errors#no-such-element-exception\nStacktrace:\n\tGetHandleVerifier [0x00007FF628875E42+3538674]\n\t(No symbol) [0x00007FF628494C02]\n\t(No symbol) [0x00007FF628345AEB]\n\t(No symbol) [0x00007FF62838BF4E]\n\t(No symbol) [0x00007FF62838C0CC]\n\t(No symbol) [0x00007FF6283CE477]\n\t(No symbol) [0x00007FF6283AF0EF]\n\t(No symbol) [0x00007FF6283CBDE3]\n\t(No symbol) [0x00007FF6283AEE53]\n\t(No symbol) [0x00007FF62837F514]\n\t(No symbol) [0x00007FF628380631]\n\tGetHandleVerifier [0x00007FF6288A6CAD+3738973]\n\tGetHandleVerifier [0x00007FF6288FC506+4089270]\n\tGetHandleVerifier [0x00007FF6288F4823+4057299]\n\tGetHandleVerifier [0x00007FF6285C5C49+720121]\n\t(No symbol) [0x00007FF6284A126F]\n\t(No symbol) [0x00007FF62849C304]\n\t(No symbol) [0x00007FF62849C432]\n\t(No symbol) [0x00007FF62848BD04]\n\tBaseThreadInitThunk [0x00007FFA4AE67344+20]\n\tRtlUserThreadStart [0x00007FFA4BBA26B1+33]\n",
     "output_type": "error",
     "traceback": [
      "\u001b[1;31m---------------------------------------------------------------------------\u001b[0m",
      "\u001b[1;31mNoSuchElementException\u001b[0m                    Traceback (most recent call last)",
      "Cell \u001b[1;32mIn[163], line 29\u001b[0m\n\u001b[0;32m     26\u001b[0m \u001b[38;5;28;01mfor\u001b[39;00m i \u001b[38;5;129;01min\u001b[39;00m privet_price:\n\u001b[0;32m     27\u001b[0m     privates_from_price\u001b[38;5;241m.\u001b[39mappend(i\u001b[38;5;241m.\u001b[39mtext)\n\u001b[1;32m---> 29\u001b[0m next_button \u001b[38;5;241m=\u001b[39m  driver9\u001b[38;5;241m.\u001b[39mfind_element(By\u001b[38;5;241m.\u001b[39mXPATH ,\u001b[38;5;124m\"\u001b[39m\u001b[38;5;124m/html/body/div[3]/div/div/div[2]/div[2]/div[1]/div/div/div[5]/div/div[2]/button\u001b[39m\u001b[38;5;124m\"\u001b[39m)\n\u001b[0;32m     30\u001b[0m next_button\u001b[38;5;241m.\u001b[39mclick()\n",
      "File \u001b[1;32m~\\anaconda3\\Lib\\site-packages\\selenium\\webdriver\\remote\\webdriver.py:741\u001b[0m, in \u001b[0;36mWebDriver.find_element\u001b[1;34m(self, by, value)\u001b[0m\n\u001b[0;32m    738\u001b[0m     by \u001b[38;5;241m=\u001b[39m By\u001b[38;5;241m.\u001b[39mCSS_SELECTOR\n\u001b[0;32m    739\u001b[0m     value \u001b[38;5;241m=\u001b[39m \u001b[38;5;124mf\u001b[39m\u001b[38;5;124m'\u001b[39m\u001b[38;5;124m[name=\u001b[39m\u001b[38;5;124m\"\u001b[39m\u001b[38;5;132;01m{\u001b[39;00mvalue\u001b[38;5;132;01m}\u001b[39;00m\u001b[38;5;124m\"\u001b[39m\u001b[38;5;124m]\u001b[39m\u001b[38;5;124m'\u001b[39m\n\u001b[1;32m--> 741\u001b[0m \u001b[38;5;28;01mreturn\u001b[39;00m \u001b[38;5;28mself\u001b[39m\u001b[38;5;241m.\u001b[39mexecute(Command\u001b[38;5;241m.\u001b[39mFIND_ELEMENT, {\u001b[38;5;124m\"\u001b[39m\u001b[38;5;124musing\u001b[39m\u001b[38;5;124m\"\u001b[39m: by, \u001b[38;5;124m\"\u001b[39m\u001b[38;5;124mvalue\u001b[39m\u001b[38;5;124m\"\u001b[39m: value})[\u001b[38;5;124m\"\u001b[39m\u001b[38;5;124mvalue\u001b[39m\u001b[38;5;124m\"\u001b[39m]\n",
      "File \u001b[1;32m~\\anaconda3\\Lib\\site-packages\\selenium\\webdriver\\remote\\webdriver.py:347\u001b[0m, in \u001b[0;36mWebDriver.execute\u001b[1;34m(self, driver_command, params)\u001b[0m\n\u001b[0;32m    345\u001b[0m response \u001b[38;5;241m=\u001b[39m \u001b[38;5;28mself\u001b[39m\u001b[38;5;241m.\u001b[39mcommand_executor\u001b[38;5;241m.\u001b[39mexecute(driver_command, params)\n\u001b[0;32m    346\u001b[0m \u001b[38;5;28;01mif\u001b[39;00m response:\n\u001b[1;32m--> 347\u001b[0m     \u001b[38;5;28mself\u001b[39m\u001b[38;5;241m.\u001b[39merror_handler\u001b[38;5;241m.\u001b[39mcheck_response(response)\n\u001b[0;32m    348\u001b[0m     response[\u001b[38;5;124m\"\u001b[39m\u001b[38;5;124mvalue\u001b[39m\u001b[38;5;124m\"\u001b[39m] \u001b[38;5;241m=\u001b[39m \u001b[38;5;28mself\u001b[39m\u001b[38;5;241m.\u001b[39m_unwrap_value(response\u001b[38;5;241m.\u001b[39mget(\u001b[38;5;124m\"\u001b[39m\u001b[38;5;124mvalue\u001b[39m\u001b[38;5;124m\"\u001b[39m, \u001b[38;5;28;01mNone\u001b[39;00m))\n\u001b[0;32m    349\u001b[0m     \u001b[38;5;28;01mreturn\u001b[39;00m response\n",
      "File \u001b[1;32m~\\anaconda3\\Lib\\site-packages\\selenium\\webdriver\\remote\\errorhandler.py:229\u001b[0m, in \u001b[0;36mErrorHandler.check_response\u001b[1;34m(self, response)\u001b[0m\n\u001b[0;32m    227\u001b[0m         alert_text \u001b[38;5;241m=\u001b[39m value[\u001b[38;5;124m\"\u001b[39m\u001b[38;5;124malert\u001b[39m\u001b[38;5;124m\"\u001b[39m]\u001b[38;5;241m.\u001b[39mget(\u001b[38;5;124m\"\u001b[39m\u001b[38;5;124mtext\u001b[39m\u001b[38;5;124m\"\u001b[39m)\n\u001b[0;32m    228\u001b[0m     \u001b[38;5;28;01mraise\u001b[39;00m exception_class(message, screen, stacktrace, alert_text)  \u001b[38;5;66;03m# type: ignore[call-arg]  # mypy is not smart enough here\u001b[39;00m\n\u001b[1;32m--> 229\u001b[0m \u001b[38;5;28;01mraise\u001b[39;00m exception_class(message, screen, stacktrace)\n",
      "\u001b[1;31mNoSuchElementException\u001b[0m: Message: no such element: Unable to locate element: {\"method\":\"xpath\",\"selector\":\"/html/body/div[3]/div/div/div[2]/div[2]/div[1]/div/div/div[5]/div/div[2]/button\"}\n  (Session info: chrome=121.0.6167.161); For documentation on this error, please visit: https://www.selenium.dev/documentation/webdriver/troubleshooting/errors#no-such-element-exception\nStacktrace:\n\tGetHandleVerifier [0x00007FF628875E42+3538674]\n\t(No symbol) [0x00007FF628494C02]\n\t(No symbol) [0x00007FF628345AEB]\n\t(No symbol) [0x00007FF62838BF4E]\n\t(No symbol) [0x00007FF62838C0CC]\n\t(No symbol) [0x00007FF6283CE477]\n\t(No symbol) [0x00007FF6283AF0EF]\n\t(No symbol) [0x00007FF6283CBDE3]\n\t(No symbol) [0x00007FF6283AEE53]\n\t(No symbol) [0x00007FF62837F514]\n\t(No symbol) [0x00007FF628380631]\n\tGetHandleVerifier [0x00007FF6288A6CAD+3738973]\n\tGetHandleVerifier [0x00007FF6288FC506+4089270]\n\tGetHandleVerifier [0x00007FF6288F4823+4057299]\n\tGetHandleVerifier [0x00007FF6285C5C49+720121]\n\t(No symbol) [0x00007FF6284A126F]\n\t(No symbol) [0x00007FF62849C304]\n\t(No symbol) [0x00007FF62849C432]\n\t(No symbol) [0x00007FF62848BD04]\n\tBaseThreadInitThunk [0x00007FFA4AE67344+20]\n\tRtlUserThreadStart [0x00007FFA4BBA26B1+33]\n"
     ]
    }
   ],
   "source": [
    "start = 0\n",
    "end = 2\n",
    "\n",
    "for pages in range(start , end):\n",
    "    names = driver9.find_elements(By.XPATH,'//div[@class=\"property-name\"]')\n",
    "    for i in names:\n",
    "        Hostel_name.append(i.text)\n",
    "        \n",
    "    descriptions = driver9.find_elements(By.XPATH,'//span[@class=\"distance-description\"]')\n",
    "    for i in descriptions:\n",
    "        Distance_description.append(i.text)\n",
    "        \n",
    "    ratings = driver9.find_elements(By.XPATH,'//span[@class=\"number\"]')\n",
    "    for i in ratings:\n",
    "        Rating.append(i.text)\n",
    "        \n",
    "    total_review = driver9.find_elements(By.XPATH,'//span[@class=\"left-margin\"]')\n",
    "    for i in total_review:\n",
    "        Total_reviews.append(i.text)\n",
    "        \n",
    "    overall_review = driver9.find_elements(By.XPATH,'//span[@class=\"keyword\"]')\n",
    "    for i in overall_review:\n",
    "        Overall_reviews.append(i.text)\n",
    "        \n",
    "    privet_price = driver9.find_elements(By.XPATH,'//strong[@class=\"current\"]')\n",
    "    for i in privet_price:\n",
    "        privates_from_price.append(i.text)\n",
    "        \n",
    "    next_button =  driver9.find_element(By.XPATH ,\"/html/body/div[3]/div/div/div[2]/div[2]/div[1]/div/div/div[5]/div/div[2]/button\")\n",
    "    next_button.click()"
   ]
  },
  {
   "cell_type": "code",
   "execution_count": 174,
   "id": "babcbbe3",
   "metadata": {},
   "outputs": [],
   "source": [
    "new_Hostel_name = Hostel_name[3:62]"
   ]
  },
  {
   "cell_type": "code",
   "execution_count": 175,
   "id": "cdb525c6",
   "metadata": {
    "collapsed": true
   },
   "outputs": [
    {
     "data": {
      "text/plain": [
       "[\"Wombat's City Hostel London\",\n",
       " 'Palmers Lodge - Swiss Cottage',\n",
       " \"St Christopher's Village\",\n",
       " 'NX London Hostel',\n",
       " 'Urbany Hostel London',\n",
       " 'Onefam Notting Hill',\n",
       " 'Generator London',\n",
       " 'Onefam Waterloo',\n",
       " 'Astor Hyde Park',\n",
       " 'Safestay London Elephant & Castle',\n",
       " 'Astor Museum Inn',\n",
       " 'No.8 Seven Sisters',\n",
       " 'No.8 Willesden Hostel London',\n",
       " 'Clink261',\n",
       " 'Smart Russell Square Hostel',\n",
       " 'Safestay London Kensington Holland Park',\n",
       " 'YHA London Oxford Street',\n",
       " 'Smart Hyde Park Inn Hostel',\n",
       " 'Destinations Hostels @ The Gallery',\n",
       " 'Hostelle - women only hostel London',\n",
       " 'Queen Elizabeth Chelsea',\n",
       " 'Prime Backpackers Angel',\n",
       " 'Kabannas London St Pancras',\n",
       " 'London Backpackers',\n",
       " 'Smart Camden Inn Hostel',\n",
       " 'Astor Kensington',\n",
       " \"St Christopher's Hammersmith\",\n",
       " 'Astor Victoria',\n",
       " 'Phoenix Hostel',\n",
       " 'Barmy Badger Backpackers',\n",
       " \"St Christopher's Shepherds Bush\",\n",
       " 'YHA London St Pauls',\n",
       " 'PubLove @ The Rose & Crown',\n",
       " 'Park Villa',\n",
       " 'PubLove @ The White Ferry, Victoria',\n",
       " \"St Christopher's Greenwich\",\n",
       " 'Bell House Hostel',\n",
       " 'Saint James Backpackers',\n",
       " 'PubLove @ The Steam Engine, Waterloo',\n",
       " 'Smart Hyde Park View Hostel',\n",
       " 'Dover Castle Hostel and Bar',\n",
       " 'Book a Bed Hostels',\n",
       " 'Hootananny Hostel',\n",
       " 'YHA London Thameside',\n",
       " 'PubLove @ The Exmouth Arms, Euston',\n",
       " 'Kensal Green Backpackers',\n",
       " 'Marble Arch Inn',\n",
       " 'Enrico Hotel',\n",
       " 'PubLove @ The Green Man, Paddington',\n",
       " 'City Hotel Carlton',\n",
       " \"Litsa's Central Studios\",\n",
       " 'Hanover Hotel',\n",
       " 'Kip Hotel',\n",
       " 'Mornington Camden',\n",
       " 'Beaconsfield',\n",
       " 'Aron Guest House',\n",
       " 'Cranbrook Hotel',\n",
       " 'Park Hotel Essex',\n",
       " 'Britannia Inn Hotel']"
      ]
     },
     "execution_count": 175,
     "metadata": {},
     "output_type": "execute_result"
    }
   ],
   "source": [
    "new_Hostel_name"
   ]
  },
  {
   "cell_type": "code",
   "execution_count": 179,
   "id": "568e5347",
   "metadata": {},
   "outputs": [],
   "source": [
    "new_rating = Rating[3:59]"
   ]
  },
  {
   "cell_type": "code",
   "execution_count": 186,
   "id": "e27d11da",
   "metadata": {
    "collapsed": true
   },
   "outputs": [
    {
     "data": {
      "text/plain": [
       "['9.1',\n",
       " '8.8',\n",
       " '7.8',\n",
       " '8.9',\n",
       " '9.5',\n",
       " '9.6',\n",
       " '7.5',\n",
       " '9.6',\n",
       " '8.2',\n",
       " '7.2',\n",
       " '8.3',\n",
       " '7.7',\n",
       " '7.2',\n",
       " '7.9',\n",
       " '7.6',\n",
       " '7.0',\n",
       " '9.0',\n",
       " '7.8',\n",
       " '9.1',\n",
       " '8.8',\n",
       " '7.5',\n",
       " '8.5',\n",
       " '8.2',\n",
       " '8.1',\n",
       " '8.3',\n",
       " '8.6',\n",
       " '7.7',\n",
       " '7.3',\n",
       " '6.3',\n",
       " '9.1',\n",
       " '7.5',\n",
       " '8.9',\n",
       " '8.0',\n",
       " '9.3',\n",
       " '7.5',\n",
       " '7.2',\n",
       " '6.9',\n",
       " '7.3',\n",
       " '7.9',\n",
       " '7.6',\n",
       " '7.6',\n",
       " '6.5',\n",
       " '7.0',\n",
       " '8.2',\n",
       " '7.0',\n",
       " '4.7',\n",
       " '8.9',\n",
       " '6.3',\n",
       " '5.7',\n",
       " '8.4',\n",
       " '5.3',\n",
       " '4.6',\n",
       " '7.1',\n",
       " '7.6',\n",
       " '2.0',\n",
       " '10']"
      ]
     },
     "execution_count": 186,
     "metadata": {},
     "output_type": "execute_result"
    }
   ],
   "source": [
    "new_rating"
   ]
  },
  {
   "cell_type": "code",
   "execution_count": 184,
   "id": "4080f6ff",
   "metadata": {},
   "outputs": [],
   "source": [
    "modified_Rating = new_rating[:50] + ['-'] + new_rating[50:56] + ['-'] * 2 + [new_rating[55]]\n"
   ]
  },
  {
   "cell_type": "code",
   "execution_count": 230,
   "id": "85430474",
   "metadata": {
    "collapsed": true
   },
   "outputs": [
    {
     "data": {
      "text/plain": [
       "['9.1',\n",
       " '8.8',\n",
       " '7.8',\n",
       " '8.9',\n",
       " '9.5',\n",
       " '9.6',\n",
       " '7.5',\n",
       " '9.6',\n",
       " '8.2',\n",
       " '7.2',\n",
       " '8.3',\n",
       " '7.7',\n",
       " '7.2',\n",
       " '7.9',\n",
       " '7.6',\n",
       " '7.0',\n",
       " '9.0',\n",
       " '7.8',\n",
       " '9.1',\n",
       " '8.8',\n",
       " '7.5',\n",
       " '8.5',\n",
       " '8.2',\n",
       " '8.1',\n",
       " '8.3',\n",
       " '8.6',\n",
       " '7.7',\n",
       " '7.3',\n",
       " '6.3',\n",
       " '9.1',\n",
       " '7.5',\n",
       " '8.9',\n",
       " '8.0',\n",
       " '9.3',\n",
       " '7.5',\n",
       " '7.2',\n",
       " '6.9',\n",
       " '7.3',\n",
       " '7.9',\n",
       " '7.6',\n",
       " '7.6',\n",
       " '6.5',\n",
       " '7.0',\n",
       " '8.2',\n",
       " '7.0',\n",
       " '4.7',\n",
       " '8.9',\n",
       " '6.3',\n",
       " '5.7',\n",
       " '8.4',\n",
       " '-',\n",
       " '5.3',\n",
       " '4.6',\n",
       " '7.1',\n",
       " '7.6',\n",
       " '2.0',\n",
       " '-',\n",
       " '-',\n",
       " '10']"
      ]
     },
     "execution_count": 230,
     "metadata": {},
     "output_type": "execute_result"
    }
   ],
   "source": [
    "new_rating_list = modified_Rating[:56] + modified_Rating[57:]\n",
    "new_rating_list"
   ]
  },
  {
   "cell_type": "code",
   "execution_count": 194,
   "id": "dc03786a",
   "metadata": {
    "collapsed": true
   },
   "outputs": [
    {
     "data": {
      "text/plain": [
       "['15901',\n",
       " '15972',\n",
       " '12873',\n",
       " '2146',\n",
       " '1125',\n",
       " '2593',\n",
       " '8082',\n",
       " '135',\n",
       " '12327',\n",
       " '5278',\n",
       " '9455',\n",
       " '4178',\n",
       " '5201',\n",
       " '515',\n",
       " '10207',\n",
       " '1783',\n",
       " '4703',\n",
       " '6800',\n",
       " '317',\n",
       " '116',\n",
       " '3687',\n",
       " '871',\n",
       " '2977',\n",
       " '4568',\n",
       " '3143',\n",
       " '6595',\n",
       " '4389',\n",
       " '15098',\n",
       " '4624',\n",
       " '2041',\n",
       " '835',\n",
       " '2115',\n",
       " '229',\n",
       " '931',\n",
       " '407',\n",
       " '3426',\n",
       " '130',\n",
       " '1954',\n",
       " '455',\n",
       " '4746',\n",
       " '2421',\n",
       " '1313',\n",
       " '1538',\n",
       " '540',\n",
       " '1103',\n",
       " '3746',\n",
       " '232',\n",
       " '180',\n",
       " '459',\n",
       " '52',\n",
       " '3',\n",
       " '56',\n",
       " '58',\n",
       " '30',\n",
       " '27',\n",
       " '23']"
      ]
     },
     "execution_count": 194,
     "metadata": {},
     "output_type": "execute_result"
    }
   ],
   "source": [
    "new_dataset = [element.strip('()') for element in Total_reviews ]\n",
    "new_dataset"
   ]
  },
  {
   "cell_type": "code",
   "execution_count": 216,
   "id": "0be01a5c",
   "metadata": {},
   "outputs": [
    {
     "name": "stdout",
     "output_type": "stream",
     "text": [
      "56\n"
     ]
    }
   ],
   "source": [
    "print(len(new_dataset))"
   ]
  },
  {
   "cell_type": "code",
   "execution_count": 195,
   "id": "086bd4ac",
   "metadata": {},
   "outputs": [],
   "source": [
    "modified_review =new_dataset[:50] + ['-'] + new_dataset[50:56] + ['-'] * 2 + [new_dataset[55]]"
   ]
  },
  {
   "cell_type": "code",
   "execution_count": 196,
   "id": "80c6a84a",
   "metadata": {
    "collapsed": true
   },
   "outputs": [
    {
     "data": {
      "text/plain": [
       "['15901',\n",
       " '15972',\n",
       " '12873',\n",
       " '2146',\n",
       " '1125',\n",
       " '2593',\n",
       " '8082',\n",
       " '135',\n",
       " '12327',\n",
       " '5278',\n",
       " '9455',\n",
       " '4178',\n",
       " '5201',\n",
       " '515',\n",
       " '10207',\n",
       " '1783',\n",
       " '4703',\n",
       " '6800',\n",
       " '317',\n",
       " '116',\n",
       " '3687',\n",
       " '871',\n",
       " '2977',\n",
       " '4568',\n",
       " '3143',\n",
       " '6595',\n",
       " '4389',\n",
       " '15098',\n",
       " '4624',\n",
       " '2041',\n",
       " '835',\n",
       " '2115',\n",
       " '229',\n",
       " '931',\n",
       " '407',\n",
       " '3426',\n",
       " '130',\n",
       " '1954',\n",
       " '455',\n",
       " '4746',\n",
       " '2421',\n",
       " '1313',\n",
       " '1538',\n",
       " '540',\n",
       " '1103',\n",
       " '3746',\n",
       " '232',\n",
       " '180',\n",
       " '459',\n",
       " '52',\n",
       " '-',\n",
       " '3',\n",
       " '56',\n",
       " '58',\n",
       " '30',\n",
       " '27',\n",
       " '-',\n",
       " '-',\n",
       " '23']"
      ]
     },
     "execution_count": 196,
     "metadata": {},
     "output_type": "execute_result"
    }
   ],
   "source": [
    "new_review = modified_review[:56] + modified_review[57:]\n",
    "new_review"
   ]
  },
  {
   "cell_type": "code",
   "execution_count": 297,
   "id": "07e3b10c",
   "metadata": {},
   "outputs": [
    {
     "name": "stdout",
     "output_type": "stream",
     "text": [
      "51\n"
     ]
    }
   ],
   "source": [
    "new_Overall_review = Overall_reviews[3:54]\n",
    "print(len(new_Overall_review))"
   ]
  },
  {
   "cell_type": "code",
   "execution_count": 298,
   "id": "af33a821",
   "metadata": {
    "collapsed": true
   },
   "outputs": [
    {
     "data": {
      "text/plain": [
       "['Superb',\n",
       " 'Fabulous',\n",
       " 'Very Good',\n",
       " 'Fabulous',\n",
       " 'Superb',\n",
       " 'Superb',\n",
       " 'Very Good',\n",
       " 'Superb',\n",
       " 'Fabulous',\n",
       " 'Very Good',\n",
       " 'Fabulous',\n",
       " 'Very Good',\n",
       " 'Very Good',\n",
       " 'Very Good',\n",
       " 'Very Good',\n",
       " 'Very Good',\n",
       " 'Superb',\n",
       " 'Very Good',\n",
       " 'Superb',\n",
       " 'Fabulous',\n",
       " 'Very Good',\n",
       " 'Fabulous',\n",
       " 'Fabulous',\n",
       " 'Fabulous',\n",
       " 'Fabulous',\n",
       " 'Fabulous',\n",
       " 'Very Good',\n",
       " 'Very Good',\n",
       " 'Good',\n",
       " 'Superb',\n",
       " 'Very Good',\n",
       " 'Fabulous',\n",
       " 'Fabulous',\n",
       " 'Superb',\n",
       " 'Very Good',\n",
       " 'Very Good',\n",
       " 'Good',\n",
       " 'Very Good',\n",
       " 'Very Good',\n",
       " 'Very Good',\n",
       " 'Very Good',\n",
       " 'Good',\n",
       " 'Very Good',\n",
       " 'Fabulous',\n",
       " 'Very Good',\n",
       " 'Fabulous',\n",
       " 'Good',\n",
       " 'Fabulous',\n",
       " 'Very Good',\n",
       " 'Very Good',\n",
       " 'Superb']"
      ]
     },
     "execution_count": 298,
     "metadata": {},
     "output_type": "execute_result"
    }
   ],
   "source": [
    "new_Overall_review "
   ]
  },
  {
   "cell_type": "code",
   "execution_count": 299,
   "id": "8e03b033",
   "metadata": {},
   "outputs": [],
   "source": [
    "new_Overall_review.insert(50, '-')\n",
    "new_Overall_review.insert(50, '-')\n",
    "new_Overall_review.insert(50, '-')\n",
    "\n",
    "new_Overall_review.insert(48, '-')\n",
    "new_Overall_review.insert(48, '-')\n",
    "new_Overall_review.insert(48, '-')\n",
    "\n",
    "new_Overall_review.insert(47, '-')\n",
    "\n",
    "new_Overall_review.insert(45, '-')"
   ]
  },
  {
   "cell_type": "code",
   "execution_count": 301,
   "id": "cd3ba783",
   "metadata": {},
   "outputs": [
    {
     "name": "stdout",
     "output_type": "stream",
     "text": [
      "59\n"
     ]
    }
   ],
   "source": [
    "print(len(new_Overall_review ))"
   ]
  },
  {
   "cell_type": "code",
   "execution_count": 324,
   "id": "8e5c1986",
   "metadata": {},
   "outputs": [],
   "source": [
    "less_than_5000 = []\n",
    "\n",
    "greater_than_or_equal_to_5000 = []\n",
    "\n",
    "for item in privates_from_price :\n",
    "    number = int(item.replace('₹', '').replace(',', ''))\n",
    "\n",
    "    if number < 5000:\n",
    "        less_than_5000.append(item)\n",
    "    else:\n",
    "        greater_than_or_equal_to_5000.append(item)\n"
   ]
  },
  {
   "cell_type": "code",
   "execution_count": 290,
   "id": "c4767f54",
   "metadata": {},
   "outputs": [
    {
     "name": "stdout",
     "output_type": "stream",
     "text": [
      "46\n"
     ]
    }
   ],
   "source": [
    "print(len(less_than_5000))"
   ]
  },
  {
   "cell_type": "code",
   "execution_count": 291,
   "id": "b165853e",
   "metadata": {},
   "outputs": [],
   "source": [
    "less_than_5000.insert(0, '-')  \n",
    "less_than_5000.insert(17, '-') \n",
    "less_than_5000.insert(44, '-') \n",
    "less_than_5000.insert(47, '-') \n",
    "less_than_5000.insert(48, '-') \n",
    "less_than_5000.insert(50, '-') \n",
    "less_than_5000.insert(51, '-') \n",
    "less_than_5000.insert(52, '-') \n",
    "less_than_5000.insert(53, '-') \n",
    "less_than_5000.insert(55, '-') \n",
    "less_than_5000.insert(56, '-') \n",
    "less_than_5000.insert(57, '-') \n",
    "less_than_5000.insert(58, '-') \n",
    "less_than_5000.insert(59, '-') \n"
   ]
  },
  {
   "cell_type": "code",
   "execution_count": 296,
   "id": "a6251bbe",
   "metadata": {
    "collapsed": true
   },
   "outputs": [
    {
     "data": {
      "text/plain": [
       "['-',\n",
       " '₹2,366',\n",
       " '₹2,117',\n",
       " '₹2,910',\n",
       " '₹3,244',\n",
       " '₹2,680',\n",
       " '₹3,261',\n",
       " '₹4,491',\n",
       " '₹2,137',\n",
       " '₹2,041',\n",
       " '₹3,900',\n",
       " '₹1,129',\n",
       " '₹1,060',\n",
       " '₹3,098',\n",
       " '₹1,860',\n",
       " '₹1,633',\n",
       " '-',\n",
       " '₹1,577',\n",
       " '₹3,800',\n",
       " '₹2,758',\n",
       " '₹1,971',\n",
       " '₹3,272',\n",
       " '₹3,408',\n",
       " '₹1,466',\n",
       " '₹2,394',\n",
       " '₹2,137',\n",
       " '₹1,839',\n",
       " '₹1,746',\n",
       " '₹1,523',\n",
       " '₹2,968',\n",
       " '₹1,839',\n",
       " '₹4,190',\n",
       " '₹3,596',\n",
       " '₹4,779',\n",
       " '₹3,422',\n",
       " '₹1,566',\n",
       " '₹1,854',\n",
       " '₹2,262',\n",
       " '₹3,177',\n",
       " '₹1,672',\n",
       " '₹3,544',\n",
       " '₹1,915',\n",
       " '₹2,587',\n",
       " '-',\n",
       " '₹3,352',\n",
       " '₹1,676',\n",
       " '-',\n",
       " '-',\n",
       " '₹3,142',\n",
       " '-',\n",
       " '-',\n",
       " '-',\n",
       " '-',\n",
       " '₹4,277',\n",
       " '-',\n",
       " '-',\n",
       " '-',\n",
       " '-',\n",
       " '-']"
      ]
     },
     "execution_count": 296,
     "metadata": {},
     "output_type": "execute_result"
    }
   ],
   "source": [
    "new_less_than_5000 = less_than_5000[:12] + less_than_5000[13:]\n",
    "new_less_than_5000"
   ]
  },
  {
   "cell_type": "code",
   "execution_count": 308,
   "id": "98467012",
   "metadata": {},
   "outputs": [
    {
     "name": "stdout",
     "output_type": "stream",
     "text": [
      "59\n"
     ]
    }
   ],
   "source": [
    "print(len(new_less_than_5000))"
   ]
  },
  {
   "cell_type": "code",
   "execution_count": 309,
   "id": "386a0e51",
   "metadata": {},
   "outputs": [
    {
     "data": {
      "text/html": [
       "<div>\n",
       "<style scoped>\n",
       "    .dataframe tbody tr th:only-of-type {\n",
       "        vertical-align: middle;\n",
       "    }\n",
       "\n",
       "    .dataframe tbody tr th {\n",
       "        vertical-align: top;\n",
       "    }\n",
       "\n",
       "    .dataframe thead th {\n",
       "        text-align: right;\n",
       "    }\n",
       "</style>\n",
       "<table border=\"1\" class=\"dataframe\">\n",
       "  <thead>\n",
       "    <tr style=\"text-align: right;\">\n",
       "      <th></th>\n",
       "      <th>Hostel name</th>\n",
       "      <th>Distance from city centre</th>\n",
       "      <th>Ratings</th>\n",
       "      <th>Total reviews</th>\n",
       "      <th>Overall review</th>\n",
       "      <th>dorms from price</th>\n",
       "    </tr>\n",
       "  </thead>\n",
       "  <tbody>\n",
       "    <tr>\n",
       "      <th>0</th>\n",
       "      <td>Wombat's City Hostel London</td>\n",
       "      <td>- 3.6km from city centre</td>\n",
       "      <td>9.1</td>\n",
       "      <td>15901</td>\n",
       "      <td>Superb</td>\n",
       "      <td>-</td>\n",
       "    </tr>\n",
       "    <tr>\n",
       "      <th>1</th>\n",
       "      <td>Palmers Lodge - Swiss Cottage</td>\n",
       "      <td>- 6.5km from city centre</td>\n",
       "      <td>8.8</td>\n",
       "      <td>15972</td>\n",
       "      <td>Fabulous</td>\n",
       "      <td>₹2,366</td>\n",
       "    </tr>\n",
       "    <tr>\n",
       "      <th>2</th>\n",
       "      <td>St Christopher's Village</td>\n",
       "      <td>- 1.8km from city centre</td>\n",
       "      <td>7.8</td>\n",
       "      <td>12873</td>\n",
       "      <td>Very Good</td>\n",
       "      <td>₹2,117</td>\n",
       "    </tr>\n",
       "    <tr>\n",
       "      <th>3</th>\n",
       "      <td>NX London Hostel</td>\n",
       "      <td>- 6.1km from city centre</td>\n",
       "      <td>8.9</td>\n",
       "      <td>2146</td>\n",
       "      <td>Fabulous</td>\n",
       "      <td>₹2,910</td>\n",
       "    </tr>\n",
       "    <tr>\n",
       "      <th>4</th>\n",
       "      <td>Urbany Hostel London</td>\n",
       "      <td>- 5.4km from city centre</td>\n",
       "      <td>9.5</td>\n",
       "      <td>1125</td>\n",
       "      <td>Superb</td>\n",
       "      <td>₹3,244</td>\n",
       "    </tr>\n",
       "    <tr>\n",
       "      <th>5</th>\n",
       "      <td>Onefam Notting Hill</td>\n",
       "      <td>- 5.5km from city centre</td>\n",
       "      <td>9.6</td>\n",
       "      <td>2593</td>\n",
       "      <td>Superb</td>\n",
       "      <td>₹2,680</td>\n",
       "    </tr>\n",
       "    <tr>\n",
       "      <th>6</th>\n",
       "      <td>Generator London</td>\n",
       "      <td>- 3km from city centre</td>\n",
       "      <td>7.5</td>\n",
       "      <td>8082</td>\n",
       "      <td>Very Good</td>\n",
       "      <td>₹3,261</td>\n",
       "    </tr>\n",
       "    <tr>\n",
       "      <th>7</th>\n",
       "      <td>Onefam Waterloo</td>\n",
       "      <td>- 0.7km from city centre</td>\n",
       "      <td>9.6</td>\n",
       "      <td>135</td>\n",
       "      <td>Superb</td>\n",
       "      <td>₹4,491</td>\n",
       "    </tr>\n",
       "    <tr>\n",
       "      <th>8</th>\n",
       "      <td>Astor Hyde Park</td>\n",
       "      <td>- 4.3km from city centre</td>\n",
       "      <td>8.2</td>\n",
       "      <td>12327</td>\n",
       "      <td>Fabulous</td>\n",
       "      <td>₹2,137</td>\n",
       "    </tr>\n",
       "    <tr>\n",
       "      <th>9</th>\n",
       "      <td>Safestay London Elephant &amp; Castle</td>\n",
       "      <td>- 1.7km from city centre</td>\n",
       "      <td>7.2</td>\n",
       "      <td>5278</td>\n",
       "      <td>Very Good</td>\n",
       "      <td>₹2,041</td>\n",
       "    </tr>\n",
       "    <tr>\n",
       "      <th>10</th>\n",
       "      <td>Astor Museum Inn</td>\n",
       "      <td>- 2.2km from city centre</td>\n",
       "      <td>8.3</td>\n",
       "      <td>9455</td>\n",
       "      <td>Fabulous</td>\n",
       "      <td>₹3,900</td>\n",
       "    </tr>\n",
       "    <tr>\n",
       "      <th>11</th>\n",
       "      <td>No.8 Seven Sisters</td>\n",
       "      <td>- 9km from city centre</td>\n",
       "      <td>7.7</td>\n",
       "      <td>4178</td>\n",
       "      <td>Very Good</td>\n",
       "      <td>₹1,129</td>\n",
       "    </tr>\n",
       "    <tr>\n",
       "      <th>12</th>\n",
       "      <td>No.8 Willesden Hostel London</td>\n",
       "      <td>- 10km from city centre</td>\n",
       "      <td>7.2</td>\n",
       "      <td>5201</td>\n",
       "      <td>Very Good</td>\n",
       "      <td>₹1,060</td>\n",
       "    </tr>\n",
       "    <tr>\n",
       "      <th>13</th>\n",
       "      <td>Clink261</td>\n",
       "      <td>- 3.2km from city centre</td>\n",
       "      <td>7.9</td>\n",
       "      <td>515</td>\n",
       "      <td>Very Good</td>\n",
       "      <td>₹3,098</td>\n",
       "    </tr>\n",
       "    <tr>\n",
       "      <th>14</th>\n",
       "      <td>Smart Russell Square Hostel</td>\n",
       "      <td>- 2.6km from city centre</td>\n",
       "      <td>7.6</td>\n",
       "      <td>10207</td>\n",
       "      <td>Very Good</td>\n",
       "      <td>₹1,860</td>\n",
       "    </tr>\n",
       "    <tr>\n",
       "      <th>15</th>\n",
       "      <td>Safestay London Kensington Holland Park</td>\n",
       "      <td>- 5.8km from city centre</td>\n",
       "      <td>7.0</td>\n",
       "      <td>1783</td>\n",
       "      <td>Very Good</td>\n",
       "      <td>₹1,633</td>\n",
       "    </tr>\n",
       "    <tr>\n",
       "      <th>16</th>\n",
       "      <td>YHA London Oxford Street</td>\n",
       "      <td>- 2.1km from city centre</td>\n",
       "      <td>9.0</td>\n",
       "      <td>4703</td>\n",
       "      <td>Superb</td>\n",
       "      <td>-</td>\n",
       "    </tr>\n",
       "    <tr>\n",
       "      <th>17</th>\n",
       "      <td>Smart Hyde Park Inn Hostel</td>\n",
       "      <td>- 5km from city centre</td>\n",
       "      <td>7.8</td>\n",
       "      <td>6800</td>\n",
       "      <td>Very Good</td>\n",
       "      <td>₹1,577</td>\n",
       "    </tr>\n",
       "    <tr>\n",
       "      <th>18</th>\n",
       "      <td>Destinations Hostels @ The Gallery</td>\n",
       "      <td>- 1.7km from city centre</td>\n",
       "      <td>9.1</td>\n",
       "      <td>317</td>\n",
       "      <td>Superb</td>\n",
       "      <td>₹3,800</td>\n",
       "    </tr>\n",
       "    <tr>\n",
       "      <th>19</th>\n",
       "      <td>Hostelle - women only hostel London</td>\n",
       "      <td>- 5.1km from city centre</td>\n",
       "      <td>8.8</td>\n",
       "      <td>116</td>\n",
       "      <td>Fabulous</td>\n",
       "      <td>₹2,758</td>\n",
       "    </tr>\n",
       "    <tr>\n",
       "      <th>20</th>\n",
       "      <td>Queen Elizabeth Chelsea</td>\n",
       "      <td>- 5.7km from city centre</td>\n",
       "      <td>7.5</td>\n",
       "      <td>3687</td>\n",
       "      <td>Very Good</td>\n",
       "      <td>₹1,971</td>\n",
       "    </tr>\n",
       "    <tr>\n",
       "      <th>21</th>\n",
       "      <td>Prime Backpackers Angel</td>\n",
       "      <td>- 3.6km from city centre</td>\n",
       "      <td>8.5</td>\n",
       "      <td>871</td>\n",
       "      <td>Fabulous</td>\n",
       "      <td>₹3,272</td>\n",
       "    </tr>\n",
       "    <tr>\n",
       "      <th>22</th>\n",
       "      <td>Kabannas London St Pancras</td>\n",
       "      <td>- 3.3km from city centre</td>\n",
       "      <td>8.2</td>\n",
       "      <td>2977</td>\n",
       "      <td>Fabulous</td>\n",
       "      <td>₹3,408</td>\n",
       "    </tr>\n",
       "    <tr>\n",
       "      <th>23</th>\n",
       "      <td>London Backpackers</td>\n",
       "      <td>- 11.9km from city centre</td>\n",
       "      <td>8.1</td>\n",
       "      <td>4568</td>\n",
       "      <td>Fabulous</td>\n",
       "      <td>₹1,466</td>\n",
       "    </tr>\n",
       "    <tr>\n",
       "      <th>24</th>\n",
       "      <td>Smart Camden Inn Hostel</td>\n",
       "      <td>- 4.4km from city centre</td>\n",
       "      <td>8.3</td>\n",
       "      <td>3143</td>\n",
       "      <td>Fabulous</td>\n",
       "      <td>₹2,394</td>\n",
       "    </tr>\n",
       "    <tr>\n",
       "      <th>25</th>\n",
       "      <td>Astor Kensington</td>\n",
       "      <td>- 4.9km from city centre</td>\n",
       "      <td>8.6</td>\n",
       "      <td>6595</td>\n",
       "      <td>Fabulous</td>\n",
       "      <td>₹2,137</td>\n",
       "    </tr>\n",
       "    <tr>\n",
       "      <th>26</th>\n",
       "      <td>St Christopher's Hammersmith</td>\n",
       "      <td>- 7.5km from city centre</td>\n",
       "      <td>7.7</td>\n",
       "      <td>4389</td>\n",
       "      <td>Very Good</td>\n",
       "      <td>₹1,839</td>\n",
       "    </tr>\n",
       "    <tr>\n",
       "      <th>27</th>\n",
       "      <td>Astor Victoria</td>\n",
       "      <td>- 1.8km from city centre</td>\n",
       "      <td>7.3</td>\n",
       "      <td>15098</td>\n",
       "      <td>Very Good</td>\n",
       "      <td>₹1,746</td>\n",
       "    </tr>\n",
       "    <tr>\n",
       "      <th>28</th>\n",
       "      <td>Phoenix Hostel</td>\n",
       "      <td>- 4.2km from city centre</td>\n",
       "      <td>6.3</td>\n",
       "      <td>4624</td>\n",
       "      <td>Good</td>\n",
       "      <td>₹1,523</td>\n",
       "    </tr>\n",
       "    <tr>\n",
       "      <th>29</th>\n",
       "      <td>Barmy Badger Backpackers</td>\n",
       "      <td>- 5.5km from city centre</td>\n",
       "      <td>9.1</td>\n",
       "      <td>2041</td>\n",
       "      <td>Superb</td>\n",
       "      <td>₹2,968</td>\n",
       "    </tr>\n",
       "    <tr>\n",
       "      <th>30</th>\n",
       "      <td>St Christopher's Shepherds Bush</td>\n",
       "      <td>- 7km from city centre</td>\n",
       "      <td>7.5</td>\n",
       "      <td>835</td>\n",
       "      <td>Very Good</td>\n",
       "      <td>₹1,839</td>\n",
       "    </tr>\n",
       "    <tr>\n",
       "      <th>31</th>\n",
       "      <td>YHA London St Pauls</td>\n",
       "      <td>- 1.9km from city centre</td>\n",
       "      <td>8.9</td>\n",
       "      <td>2115</td>\n",
       "      <td>Fabulous</td>\n",
       "      <td>₹4,190</td>\n",
       "    </tr>\n",
       "    <tr>\n",
       "      <th>32</th>\n",
       "      <td>PubLove @ The Rose &amp; Crown</td>\n",
       "      <td>- 1.6km from city centre</td>\n",
       "      <td>8.0</td>\n",
       "      <td>229</td>\n",
       "      <td>Fabulous</td>\n",
       "      <td>₹3,596</td>\n",
       "    </tr>\n",
       "    <tr>\n",
       "      <th>33</th>\n",
       "      <td>Park Villa</td>\n",
       "      <td>- 6.3km from city centre</td>\n",
       "      <td>9.3</td>\n",
       "      <td>931</td>\n",
       "      <td>Superb</td>\n",
       "      <td>₹4,779</td>\n",
       "    </tr>\n",
       "    <tr>\n",
       "      <th>34</th>\n",
       "      <td>PubLove @ The White Ferry, Victoria</td>\n",
       "      <td>- 2.4km from city centre</td>\n",
       "      <td>7.5</td>\n",
       "      <td>407</td>\n",
       "      <td>Very Good</td>\n",
       "      <td>₹3,422</td>\n",
       "    </tr>\n",
       "    <tr>\n",
       "      <th>35</th>\n",
       "      <td>St Christopher's Greenwich</td>\n",
       "      <td>- 7.6km from city centre</td>\n",
       "      <td>7.2</td>\n",
       "      <td>3426</td>\n",
       "      <td>Very Good</td>\n",
       "      <td>₹1,566</td>\n",
       "    </tr>\n",
       "    <tr>\n",
       "      <th>36</th>\n",
       "      <td>Bell House Hostel</td>\n",
       "      <td>- 4.2km from city centre</td>\n",
       "      <td>6.9</td>\n",
       "      <td>130</td>\n",
       "      <td>Good</td>\n",
       "      <td>₹1,854</td>\n",
       "    </tr>\n",
       "    <tr>\n",
       "      <th>37</th>\n",
       "      <td>Saint James Backpackers</td>\n",
       "      <td>- 5.5km from city centre</td>\n",
       "      <td>7.3</td>\n",
       "      <td>1954</td>\n",
       "      <td>Very Good</td>\n",
       "      <td>₹2,262</td>\n",
       "    </tr>\n",
       "    <tr>\n",
       "      <th>38</th>\n",
       "      <td>PubLove @ The Steam Engine, Waterloo</td>\n",
       "      <td>- 0.5km from city centre</td>\n",
       "      <td>7.9</td>\n",
       "      <td>455</td>\n",
       "      <td>Very Good</td>\n",
       "      <td>₹3,177</td>\n",
       "    </tr>\n",
       "    <tr>\n",
       "      <th>39</th>\n",
       "      <td>Smart Hyde Park View Hostel</td>\n",
       "      <td>- 4.8km from city centre</td>\n",
       "      <td>7.6</td>\n",
       "      <td>4746</td>\n",
       "      <td>Very Good</td>\n",
       "      <td>₹1,672</td>\n",
       "    </tr>\n",
       "    <tr>\n",
       "      <th>40</th>\n",
       "      <td>Dover Castle Hostel and Bar</td>\n",
       "      <td>- 1.7km from city centre</td>\n",
       "      <td>7.6</td>\n",
       "      <td>2421</td>\n",
       "      <td>Very Good</td>\n",
       "      <td>₹3,544</td>\n",
       "    </tr>\n",
       "    <tr>\n",
       "      <th>41</th>\n",
       "      <td>Book a Bed Hostels</td>\n",
       "      <td>- 6.9km from city centre</td>\n",
       "      <td>6.5</td>\n",
       "      <td>1313</td>\n",
       "      <td>Good</td>\n",
       "      <td>₹1,915</td>\n",
       "    </tr>\n",
       "    <tr>\n",
       "      <th>42</th>\n",
       "      <td>Hootananny Hostel</td>\n",
       "      <td>- 5km from city centre</td>\n",
       "      <td>7.0</td>\n",
       "      <td>1538</td>\n",
       "      <td>Very Good</td>\n",
       "      <td>₹2,587</td>\n",
       "    </tr>\n",
       "    <tr>\n",
       "      <th>43</th>\n",
       "      <td>YHA London Thameside</td>\n",
       "      <td>- 4.9km from city centre</td>\n",
       "      <td>8.2</td>\n",
       "      <td>540</td>\n",
       "      <td>Fabulous</td>\n",
       "      <td>-</td>\n",
       "    </tr>\n",
       "    <tr>\n",
       "      <th>44</th>\n",
       "      <td>PubLove @ The Exmouth Arms, Euston</td>\n",
       "      <td>- 3.4km from city centre</td>\n",
       "      <td>7.0</td>\n",
       "      <td>1103</td>\n",
       "      <td>Very Good</td>\n",
       "      <td>₹3,352</td>\n",
       "    </tr>\n",
       "    <tr>\n",
       "      <th>45</th>\n",
       "      <td>Kensal Green Backpackers</td>\n",
       "      <td>- 8.2km from city centre</td>\n",
       "      <td>4.7</td>\n",
       "      <td>3746</td>\n",
       "      <td>-</td>\n",
       "      <td>₹1,676</td>\n",
       "    </tr>\n",
       "    <tr>\n",
       "      <th>46</th>\n",
       "      <td>Marble Arch Inn</td>\n",
       "      <td>- 3.5km from city centre</td>\n",
       "      <td>8.9</td>\n",
       "      <td>232</td>\n",
       "      <td>Fabulous</td>\n",
       "      <td>-</td>\n",
       "    </tr>\n",
       "    <tr>\n",
       "      <th>47</th>\n",
       "      <td>Enrico Hotel</td>\n",
       "      <td>- 2km from city centre</td>\n",
       "      <td>6.3</td>\n",
       "      <td>180</td>\n",
       "      <td>Good</td>\n",
       "      <td>-</td>\n",
       "    </tr>\n",
       "    <tr>\n",
       "      <th>48</th>\n",
       "      <td>PubLove @ The Green Man, Paddington</td>\n",
       "      <td>- 4.3km from city centre</td>\n",
       "      <td>5.7</td>\n",
       "      <td>459</td>\n",
       "      <td>-</td>\n",
       "      <td>₹3,142</td>\n",
       "    </tr>\n",
       "    <tr>\n",
       "      <th>49</th>\n",
       "      <td>City Hotel Carlton</td>\n",
       "      <td>- 1.8km from city centre</td>\n",
       "      <td>8.4</td>\n",
       "      <td>52</td>\n",
       "      <td>Fabulous</td>\n",
       "      <td>-</td>\n",
       "    </tr>\n",
       "    <tr>\n",
       "      <th>50</th>\n",
       "      <td>Litsa's Central Studios</td>\n",
       "      <td>- 4.3km from city centre</td>\n",
       "      <td>-</td>\n",
       "      <td>-</td>\n",
       "      <td>-</td>\n",
       "      <td>-</td>\n",
       "    </tr>\n",
       "    <tr>\n",
       "      <th>51</th>\n",
       "      <td>Hanover Hotel</td>\n",
       "      <td>- 2.1km from city centre</td>\n",
       "      <td>5.3</td>\n",
       "      <td>3</td>\n",
       "      <td>-</td>\n",
       "      <td>-</td>\n",
       "    </tr>\n",
       "    <tr>\n",
       "      <th>52</th>\n",
       "      <td>Kip Hotel</td>\n",
       "      <td>- 6.8km from city centre</td>\n",
       "      <td>4.6</td>\n",
       "      <td>56</td>\n",
       "      <td>-</td>\n",
       "      <td>-</td>\n",
       "    </tr>\n",
       "    <tr>\n",
       "      <th>53</th>\n",
       "      <td>Mornington Camden</td>\n",
       "      <td>- 4.1km from city centre</td>\n",
       "      <td>7.1</td>\n",
       "      <td>58</td>\n",
       "      <td>Very Good</td>\n",
       "      <td>₹4,277</td>\n",
       "    </tr>\n",
       "    <tr>\n",
       "      <th>54</th>\n",
       "      <td>Beaconsfield</td>\n",
       "      <td>- 8.6km from city centre</td>\n",
       "      <td>7.6</td>\n",
       "      <td>30</td>\n",
       "      <td>Very Good</td>\n",
       "      <td>-</td>\n",
       "    </tr>\n",
       "    <tr>\n",
       "      <th>55</th>\n",
       "      <td>Aron Guest House</td>\n",
       "      <td>- 13.1km from city centre</td>\n",
       "      <td>2.0</td>\n",
       "      <td>27</td>\n",
       "      <td>-</td>\n",
       "      <td>-</td>\n",
       "    </tr>\n",
       "    <tr>\n",
       "      <th>56</th>\n",
       "      <td>Cranbrook Hotel</td>\n",
       "      <td>- 14.8km from city centre</td>\n",
       "      <td>-</td>\n",
       "      <td>-</td>\n",
       "      <td>-</td>\n",
       "      <td>-</td>\n",
       "    </tr>\n",
       "    <tr>\n",
       "      <th>57</th>\n",
       "      <td>Park Hotel Essex</td>\n",
       "      <td>- 24.1km from city centre</td>\n",
       "      <td>-</td>\n",
       "      <td>-</td>\n",
       "      <td>-</td>\n",
       "      <td>-</td>\n",
       "    </tr>\n",
       "    <tr>\n",
       "      <th>58</th>\n",
       "      <td>Britannia Inn Hotel</td>\n",
       "      <td>- 14.5km from city centre</td>\n",
       "      <td>10</td>\n",
       "      <td>23</td>\n",
       "      <td>Superb</td>\n",
       "      <td>-</td>\n",
       "    </tr>\n",
       "  </tbody>\n",
       "</table>\n",
       "</div>"
      ],
      "text/plain": [
       "                                Hostel name  Distance from city centre  \\\n",
       "0               Wombat's City Hostel London   - 3.6km from city centre   \n",
       "1             Palmers Lodge - Swiss Cottage   - 6.5km from city centre   \n",
       "2                  St Christopher's Village   - 1.8km from city centre   \n",
       "3                          NX London Hostel   - 6.1km from city centre   \n",
       "4                      Urbany Hostel London   - 5.4km from city centre   \n",
       "5                       Onefam Notting Hill   - 5.5km from city centre   \n",
       "6                          Generator London     - 3km from city centre   \n",
       "7                           Onefam Waterloo   - 0.7km from city centre   \n",
       "8                           Astor Hyde Park   - 4.3km from city centre   \n",
       "9         Safestay London Elephant & Castle   - 1.7km from city centre   \n",
       "10                         Astor Museum Inn   - 2.2km from city centre   \n",
       "11                       No.8 Seven Sisters     - 9km from city centre   \n",
       "12             No.8 Willesden Hostel London    - 10km from city centre   \n",
       "13                                 Clink261   - 3.2km from city centre   \n",
       "14              Smart Russell Square Hostel   - 2.6km from city centre   \n",
       "15  Safestay London Kensington Holland Park   - 5.8km from city centre   \n",
       "16                 YHA London Oxford Street   - 2.1km from city centre   \n",
       "17               Smart Hyde Park Inn Hostel     - 5km from city centre   \n",
       "18       Destinations Hostels @ The Gallery   - 1.7km from city centre   \n",
       "19      Hostelle - women only hostel London   - 5.1km from city centre   \n",
       "20                  Queen Elizabeth Chelsea   - 5.7km from city centre   \n",
       "21                  Prime Backpackers Angel   - 3.6km from city centre   \n",
       "22               Kabannas London St Pancras   - 3.3km from city centre   \n",
       "23                       London Backpackers  - 11.9km from city centre   \n",
       "24                  Smart Camden Inn Hostel   - 4.4km from city centre   \n",
       "25                         Astor Kensington   - 4.9km from city centre   \n",
       "26             St Christopher's Hammersmith   - 7.5km from city centre   \n",
       "27                           Astor Victoria   - 1.8km from city centre   \n",
       "28                           Phoenix Hostel   - 4.2km from city centre   \n",
       "29                 Barmy Badger Backpackers   - 5.5km from city centre   \n",
       "30          St Christopher's Shepherds Bush     - 7km from city centre   \n",
       "31                      YHA London St Pauls   - 1.9km from city centre   \n",
       "32               PubLove @ The Rose & Crown   - 1.6km from city centre   \n",
       "33                               Park Villa   - 6.3km from city centre   \n",
       "34      PubLove @ The White Ferry, Victoria   - 2.4km from city centre   \n",
       "35               St Christopher's Greenwich   - 7.6km from city centre   \n",
       "36                        Bell House Hostel   - 4.2km from city centre   \n",
       "37                  Saint James Backpackers   - 5.5km from city centre   \n",
       "38     PubLove @ The Steam Engine, Waterloo   - 0.5km from city centre   \n",
       "39              Smart Hyde Park View Hostel   - 4.8km from city centre   \n",
       "40              Dover Castle Hostel and Bar   - 1.7km from city centre   \n",
       "41                       Book a Bed Hostels   - 6.9km from city centre   \n",
       "42                        Hootananny Hostel     - 5km from city centre   \n",
       "43                     YHA London Thameside   - 4.9km from city centre   \n",
       "44       PubLove @ The Exmouth Arms, Euston   - 3.4km from city centre   \n",
       "45                 Kensal Green Backpackers   - 8.2km from city centre   \n",
       "46                          Marble Arch Inn   - 3.5km from city centre   \n",
       "47                             Enrico Hotel     - 2km from city centre   \n",
       "48      PubLove @ The Green Man, Paddington   - 4.3km from city centre   \n",
       "49                       City Hotel Carlton   - 1.8km from city centre   \n",
       "50                  Litsa's Central Studios   - 4.3km from city centre   \n",
       "51                            Hanover Hotel   - 2.1km from city centre   \n",
       "52                                Kip Hotel   - 6.8km from city centre   \n",
       "53                        Mornington Camden   - 4.1km from city centre   \n",
       "54                             Beaconsfield   - 8.6km from city centre   \n",
       "55                         Aron Guest House  - 13.1km from city centre   \n",
       "56                          Cranbrook Hotel  - 14.8km from city centre   \n",
       "57                         Park Hotel Essex  - 24.1km from city centre   \n",
       "58                      Britannia Inn Hotel  - 14.5km from city centre   \n",
       "\n",
       "   Ratings Total reviews Overall review dorms from price  \n",
       "0      9.1         15901         Superb                -  \n",
       "1      8.8         15972       Fabulous           ₹2,366  \n",
       "2      7.8         12873      Very Good           ₹2,117  \n",
       "3      8.9          2146       Fabulous           ₹2,910  \n",
       "4      9.5          1125         Superb           ₹3,244  \n",
       "5      9.6          2593         Superb           ₹2,680  \n",
       "6      7.5          8082      Very Good           ₹3,261  \n",
       "7      9.6           135         Superb           ₹4,491  \n",
       "8      8.2         12327       Fabulous           ₹2,137  \n",
       "9      7.2          5278      Very Good           ₹2,041  \n",
       "10     8.3          9455       Fabulous           ₹3,900  \n",
       "11     7.7          4178      Very Good           ₹1,129  \n",
       "12     7.2          5201      Very Good           ₹1,060  \n",
       "13     7.9           515      Very Good           ₹3,098  \n",
       "14     7.6         10207      Very Good           ₹1,860  \n",
       "15     7.0          1783      Very Good           ₹1,633  \n",
       "16     9.0          4703         Superb                -  \n",
       "17     7.8          6800      Very Good           ₹1,577  \n",
       "18     9.1           317         Superb           ₹3,800  \n",
       "19     8.8           116       Fabulous           ₹2,758  \n",
       "20     7.5          3687      Very Good           ₹1,971  \n",
       "21     8.5           871       Fabulous           ₹3,272  \n",
       "22     8.2          2977       Fabulous           ₹3,408  \n",
       "23     8.1          4568       Fabulous           ₹1,466  \n",
       "24     8.3          3143       Fabulous           ₹2,394  \n",
       "25     8.6          6595       Fabulous           ₹2,137  \n",
       "26     7.7          4389      Very Good           ₹1,839  \n",
       "27     7.3         15098      Very Good           ₹1,746  \n",
       "28     6.3          4624           Good           ₹1,523  \n",
       "29     9.1          2041         Superb           ₹2,968  \n",
       "30     7.5           835      Very Good           ₹1,839  \n",
       "31     8.9          2115       Fabulous           ₹4,190  \n",
       "32     8.0           229       Fabulous           ₹3,596  \n",
       "33     9.3           931         Superb           ₹4,779  \n",
       "34     7.5           407      Very Good           ₹3,422  \n",
       "35     7.2          3426      Very Good           ₹1,566  \n",
       "36     6.9           130           Good           ₹1,854  \n",
       "37     7.3          1954      Very Good           ₹2,262  \n",
       "38     7.9           455      Very Good           ₹3,177  \n",
       "39     7.6          4746      Very Good           ₹1,672  \n",
       "40     7.6          2421      Very Good           ₹3,544  \n",
       "41     6.5          1313           Good           ₹1,915  \n",
       "42     7.0          1538      Very Good           ₹2,587  \n",
       "43     8.2           540       Fabulous                -  \n",
       "44     7.0          1103      Very Good           ₹3,352  \n",
       "45     4.7          3746              -           ₹1,676  \n",
       "46     8.9           232       Fabulous                -  \n",
       "47     6.3           180           Good                -  \n",
       "48     5.7           459              -           ₹3,142  \n",
       "49     8.4            52       Fabulous                -  \n",
       "50       -             -              -                -  \n",
       "51     5.3             3              -                -  \n",
       "52     4.6            56              -                -  \n",
       "53     7.1            58      Very Good           ₹4,277  \n",
       "54     7.6            30      Very Good                -  \n",
       "55     2.0            27              -                -  \n",
       "56       -             -              -                -  \n",
       "57       -             -              -                -  \n",
       "58      10            23         Superb                -  "
      ]
     },
     "execution_count": 309,
     "metadata": {},
     "output_type": "execute_result"
    }
   ],
   "source": [
    "df = pd.DataFrame({'Hostel name':new_Hostel_name , 'Distance from city centre': Distance_description , 'Ratings': new_rating_list , 'Total reviews': new_review , 'Overall review': new_Overall_review , 'dorms from price': new_less_than_5000})\n",
    "df"
   ]
  }
 ],
 "metadata": {
  "kernelspec": {
   "display_name": "Python 3 (ipykernel)",
   "language": "python",
   "name": "python3"
  },
  "language_info": {
   "codemirror_mode": {
    "name": "ipython",
    "version": 3
   },
   "file_extension": ".py",
   "mimetype": "text/x-python",
   "name": "python",
   "nbconvert_exporter": "python",
   "pygments_lexer": "ipython3",
   "version": "3.11.5"
  }
 },
 "nbformat": 4,
 "nbformat_minor": 5
}
