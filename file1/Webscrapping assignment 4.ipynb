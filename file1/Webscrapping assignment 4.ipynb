{
 "cells": [
  {
   "cell_type": "code",
   "execution_count": 274,
   "id": "1de9ad42",
   "metadata": {},
   "outputs": [],
   "source": [
    "import selenium\n",
    "import pandas as pd\n",
    "from selenium import webdriver\n",
    "import warnings\n",
    "warnings.filterwarnings('ignore')\n",
    "from selenium.webdriver.common.by import By\n",
    "import time\n",
    "import  requests\n",
    "from bs4 import BeautifulSoup"
   ]
  },
  {
   "cell_type": "markdown",
   "id": "5510efa7",
   "metadata": {},
   "source": [
    "# Question - 1"
   ]
  },
  {
   "cell_type": "markdown",
   "id": "59ecc642",
   "metadata": {},
   "source": [
    "1. Scrape the details of most viewed videos on YouTube from Wikipedia. Url \n",
    "= https://en.wikipedia.org/wiki/List_of_most-viewed_YouTube_videos You need to find following details: A)\n",
    "Rank \n",
    "B) Name \n",
    "C) Artist \n",
    "D) Upload date \n",
    "E) Views"
   ]
  },
  {
   "cell_type": "code",
   "execution_count": 18,
   "id": "0a980476",
   "metadata": {},
   "outputs": [],
   "source": [
    "driver1 = webdriver.Chrome()"
   ]
  },
  {
   "cell_type": "code",
   "execution_count": 19,
   "id": "f873f937",
   "metadata": {},
   "outputs": [],
   "source": [
    "driver1.get('https://en.wikipedia.org/wiki/List_of_most-viewed_YouTube_videos')"
   ]
  },
  {
   "cell_type": "code",
   "execution_count": 54,
   "id": "f34ddcc9",
   "metadata": {},
   "outputs": [
    {
     "data": {
      "text/plain": [
       "[<selenium.webdriver.remote.webelement.WebElement (session=\"9d0760b1ce89ccc8e98804c9ef74d080\", element=\"0DF170875E4149616BFFD011A55B269A_element_110\")>]"
      ]
     },
     "execution_count": 54,
     "metadata": {},
     "output_type": "execute_result"
    }
   ],
   "source": [
    "table_element = driver1.find_elements(By.XPATH ,\"/html/body/div[2]/div/div[3]/main/div[3]/div[3]/div[1]/table[2]\")\n",
    "table_element"
   ]
  },
  {
   "cell_type": "code",
   "execution_count": 69,
   "id": "26dffdc3",
   "metadata": {},
   "outputs": [],
   "source": [
    "titles = []"
   ]
  },
  {
   "cell_type": "code",
   "execution_count": 75,
   "id": "33b3a4e8",
   "metadata": {},
   "outputs": [],
   "source": [
    "rows = table_element[0].find_elements(By.TAG_NAME ,'tr')\n",
    "for i in rows :\n",
    "    title = i.text\n",
    "    titles.append(title)"
   ]
  },
  {
   "cell_type": "code",
   "execution_count": 76,
   "id": "0b50107f",
   "metadata": {
    "collapsed": true
   },
   "outputs": [
    {
     "data": {
      "text/plain": [
       "['Video name Uploader Views\\n(billions) Date',\n",
       " ' ',\n",
       " '\"Baby Shark Dance\"[6] Pinkfong Baby Shark - Kids\\' Songs & Stories 14.09 June 17, 2016 [A]',\n",
       " '\"Despacito\"[9] Luis Fonsi 8.38 January 12, 2017 [B]',\n",
       " '\"Johny Johny Yes Papa\"[17] LooLoo Kids - Nursery Rhymes and Children\\'s Songs 6.87 October 8, 2016',\n",
       " '\"Bath Song\"[18] Cocomelon - Nursery Rhymes 6.62 May 2, 2018',\n",
       " '\"Shape of You\"[19] Ed Sheeran 6.20 January 30, 2017 [C]',\n",
       " '\"See You Again\"[22] Wiz Khalifa 6.17 April 6, 2015 [D]',\n",
       " '\"Wheels on the Bus\"[27] Cocomelon - Nursery Rhymes 5.88 May 24, 2018',\n",
       " '\"Phonics Song with Two Words\"[28] ChuChu TV Nursery Rhymes & Kids Songs 5.70 March 6, 2014',\n",
       " '\"Uptown Funk\"[29] Mark Ronson 5.15 November 19, 2014',\n",
       " '\"Learning Colors – Colorful Eggs on a Farm\"[30] Miroshka TV 5.07 February 27, 2018',\n",
       " '\"Gangnam Style\"[31] Psy 5.05 July 15, 2012 [E]',\n",
       " '\"Masha and the Bear – Recipe for Disaster\"[36] Get Movies 4.58 January 31, 2012',\n",
       " '\"Dame Tu Cosita\"[37] Ultra Records 4.55 April 5, 2018',\n",
       " '\"Axel F\"[38] Crazy Frog 4.34 June 16, 2009',\n",
       " '\"Sugar\"[39] Maroon 5 4.00 January 14, 2015',\n",
       " '\"Counting Stars\"[40] OneRepublic 3.97 May 31, 2013',\n",
       " '\"Baa Baa Black Sheep\"[41] Cocomelon - Nursery Rhymes 3.96 June 25, 2018',\n",
       " '\"Roar\"[42] Katy Perry 3.96 September 5, 2013',\n",
       " '\"Lakdi Ki Kathi\"[43] Jingle Toons 3.91 June 14, 2018',\n",
       " '\"Waka Waka (This Time for Africa)\"[44] Shakira 3.85 June 4, 2010',\n",
       " '\"Sorry\"[45] Justin Bieber 3.77 October 22, 2015',\n",
       " '\"Thinking Out Loud\"[46] Ed Sheeran 3.73 October 7, 2014',\n",
       " '\"Humpty the train on a fruits ride\"[47] Kiddiestv Hindi - Nursery Rhymes & Kids Songs 3.73 January 26, 2018',\n",
       " '\"Shree Hanuman Chalisa\"[48] T-Series Bhakti Sagar 3.69 May 10, 2011',\n",
       " '\"Dark Horse\"[49] Katy Perry 3.67 February 20, 2014',\n",
       " '\"Perfect\"[50] Ed Sheeran 3.67 November 9, 2017',\n",
       " '\"Let Her Go\"[51] Passenger 3.61 July 25, 2012',\n",
       " '\"Faded\"[52] Alan Walker 3.59 December 3, 2015',\n",
       " '\"Girls Like You\"[53] Maroon 5 3.56 May 31, 2018',\n",
       " '\"Lean On\"[54] Major Lazer Official 3.55 March 22, 2015',\n",
       " 'As of February 13, 2024',\n",
       " 'Video name Uploader Views\\n(billions) Date',\n",
       " ' ',\n",
       " '\"Baby Shark Dance\"[6] Pinkfong Baby Shark - Kids\\' Songs & Stories 14.09 June 17, 2016 [A]',\n",
       " '\"Despacito\"[9] Luis Fonsi 8.38 January 12, 2017 [B]',\n",
       " '\"Johny Johny Yes Papa\"[17] LooLoo Kids - Nursery Rhymes and Children\\'s Songs 6.87 October 8, 2016',\n",
       " '\"Bath Song\"[18] Cocomelon - Nursery Rhymes 6.62 May 2, 2018',\n",
       " '\"Shape of You\"[19] Ed Sheeran 6.20 January 30, 2017 [C]',\n",
       " '\"See You Again\"[22] Wiz Khalifa 6.17 April 6, 2015 [D]',\n",
       " '\"Wheels on the Bus\"[27] Cocomelon - Nursery Rhymes 5.88 May 24, 2018',\n",
       " '\"Phonics Song with Two Words\"[28] ChuChu TV Nursery Rhymes & Kids Songs 5.70 March 6, 2014',\n",
       " '\"Uptown Funk\"[29] Mark Ronson 5.15 November 19, 2014',\n",
       " '\"Learning Colors – Colorful Eggs on a Farm\"[30] Miroshka TV 5.07 February 27, 2018',\n",
       " '\"Gangnam Style\"[31] Psy 5.05 July 15, 2012 [E]',\n",
       " '\"Masha and the Bear – Recipe for Disaster\"[36] Get Movies 4.58 January 31, 2012',\n",
       " '\"Dame Tu Cosita\"[37] Ultra Records 4.55 April 5, 2018',\n",
       " '\"Axel F\"[38] Crazy Frog 4.34 June 16, 2009',\n",
       " '\"Sugar\"[39] Maroon 5 4.00 January 14, 2015',\n",
       " '\"Counting Stars\"[40] OneRepublic 3.97 May 31, 2013',\n",
       " '\"Baa Baa Black Sheep\"[41] Cocomelon - Nursery Rhymes 3.96 June 25, 2018',\n",
       " '\"Roar\"[42] Katy Perry 3.96 September 5, 2013',\n",
       " '\"Lakdi Ki Kathi\"[43] Jingle Toons 3.91 June 14, 2018',\n",
       " '\"Waka Waka (This Time for Africa)\"[44] Shakira 3.85 June 4, 2010',\n",
       " '\"Sorry\"[45] Justin Bieber 3.77 October 22, 2015',\n",
       " '\"Thinking Out Loud\"[46] Ed Sheeran 3.73 October 7, 2014',\n",
       " '\"Humpty the train on a fruits ride\"[47] Kiddiestv Hindi - Nursery Rhymes & Kids Songs 3.73 January 26, 2018',\n",
       " '\"Shree Hanuman Chalisa\"[48] T-Series Bhakti Sagar 3.69 May 10, 2011',\n",
       " '\"Dark Horse\"[49] Katy Perry 3.67 February 20, 2014',\n",
       " '\"Perfect\"[50] Ed Sheeran 3.67 November 9, 2017',\n",
       " '\"Let Her Go\"[51] Passenger 3.61 July 25, 2012',\n",
       " '\"Faded\"[52] Alan Walker 3.59 December 3, 2015',\n",
       " '\"Girls Like You\"[53] Maroon 5 3.56 May 31, 2018',\n",
       " '\"Lean On\"[54] Major Lazer Official 3.55 March 22, 2015',\n",
       " 'As of February 13, 2024',\n",
       " 'Video name Uploader Views\\n(billions) Date',\n",
       " ' ',\n",
       " '\"Baby Shark Dance\"[6] Pinkfong Baby Shark - Kids\\' Songs & Stories 14.09 June 17, 2016 [A]',\n",
       " '\"Despacito\"[9] Luis Fonsi 8.38 January 12, 2017 [B]',\n",
       " '\"Johny Johny Yes Papa\"[17] LooLoo Kids - Nursery Rhymes and Children\\'s Songs 6.87 October 8, 2016',\n",
       " '\"Bath Song\"[18] Cocomelon - Nursery Rhymes 6.62 May 2, 2018',\n",
       " '\"Shape of You\"[19] Ed Sheeran 6.20 January 30, 2017 [C]',\n",
       " '\"See You Again\"[22] Wiz Khalifa 6.17 April 6, 2015 [D]',\n",
       " '\"Wheels on the Bus\"[27] Cocomelon - Nursery Rhymes 5.88 May 24, 2018',\n",
       " '\"Phonics Song with Two Words\"[28] ChuChu TV Nursery Rhymes & Kids Songs 5.70 March 6, 2014',\n",
       " '\"Uptown Funk\"[29] Mark Ronson 5.15 November 19, 2014',\n",
       " '\"Learning Colors – Colorful Eggs on a Farm\"[30] Miroshka TV 5.07 February 27, 2018',\n",
       " '\"Gangnam Style\"[31] Psy 5.05 July 15, 2012 [E]',\n",
       " '\"Masha and the Bear – Recipe for Disaster\"[36] Get Movies 4.58 January 31, 2012',\n",
       " '\"Dame Tu Cosita\"[37] Ultra Records 4.55 April 5, 2018',\n",
       " '\"Axel F\"[38] Crazy Frog 4.34 June 16, 2009',\n",
       " '\"Sugar\"[39] Maroon 5 4.00 January 14, 2015',\n",
       " '\"Counting Stars\"[40] OneRepublic 3.97 May 31, 2013',\n",
       " '\"Baa Baa Black Sheep\"[41] Cocomelon - Nursery Rhymes 3.96 June 25, 2018',\n",
       " '\"Roar\"[42] Katy Perry 3.96 September 5, 2013',\n",
       " '\"Lakdi Ki Kathi\"[43] Jingle Toons 3.91 June 14, 2018',\n",
       " '\"Waka Waka (This Time for Africa)\"[44] Shakira 3.85 June 4, 2010',\n",
       " '\"Sorry\"[45] Justin Bieber 3.77 October 22, 2015',\n",
       " '\"Thinking Out Loud\"[46] Ed Sheeran 3.73 October 7, 2014',\n",
       " '\"Humpty the train on a fruits ride\"[47] Kiddiestv Hindi - Nursery Rhymes & Kids Songs 3.73 January 26, 2018',\n",
       " '\"Shree Hanuman Chalisa\"[48] T-Series Bhakti Sagar 3.69 May 10, 2011',\n",
       " '\"Dark Horse\"[49] Katy Perry 3.67 February 20, 2014',\n",
       " '\"Perfect\"[50] Ed Sheeran 3.67 November 9, 2017',\n",
       " '\"Let Her Go\"[51] Passenger 3.61 July 25, 2012',\n",
       " '\"Faded\"[52] Alan Walker 3.59 December 3, 2015',\n",
       " '\"Girls Like You\"[53] Maroon 5 3.56 May 31, 2018',\n",
       " '\"Lean On\"[54] Major Lazer Official 3.55 March 22, 2015',\n",
       " 'As of February 13, 2024',\n",
       " 'Video name Uploader Views\\n(billions) Date',\n",
       " ' ',\n",
       " '\"Baby Shark Dance\"[6] Pinkfong Baby Shark - Kids\\' Songs & Stories 14.09 June 17, 2016 [A]',\n",
       " '\"Despacito\"[9] Luis Fonsi 8.38 January 12, 2017 [B]',\n",
       " '\"Johny Johny Yes Papa\"[17] LooLoo Kids - Nursery Rhymes and Children\\'s Songs 6.87 October 8, 2016',\n",
       " '\"Bath Song\"[18] Cocomelon - Nursery Rhymes 6.62 May 2, 2018',\n",
       " '\"Shape of You\"[19] Ed Sheeran 6.20 January 30, 2017 [C]',\n",
       " '\"See You Again\"[22] Wiz Khalifa 6.17 April 6, 2015 [D]',\n",
       " '\"Wheels on the Bus\"[27] Cocomelon - Nursery Rhymes 5.88 May 24, 2018',\n",
       " '\"Phonics Song with Two Words\"[28] ChuChu TV Nursery Rhymes & Kids Songs 5.70 March 6, 2014',\n",
       " '\"Uptown Funk\"[29] Mark Ronson 5.15 November 19, 2014',\n",
       " '\"Learning Colors – Colorful Eggs on a Farm\"[30] Miroshka TV 5.07 February 27, 2018',\n",
       " '\"Gangnam Style\"[31] Psy 5.05 July 15, 2012 [E]',\n",
       " '\"Masha and the Bear – Recipe for Disaster\"[36] Get Movies 4.58 January 31, 2012',\n",
       " '\"Dame Tu Cosita\"[37] Ultra Records 4.55 April 5, 2018',\n",
       " '\"Axel F\"[38] Crazy Frog 4.34 June 16, 2009',\n",
       " '\"Sugar\"[39] Maroon 5 4.00 January 14, 2015',\n",
       " '\"Counting Stars\"[40] OneRepublic 3.97 May 31, 2013',\n",
       " '\"Baa Baa Black Sheep\"[41] Cocomelon - Nursery Rhymes 3.96 June 25, 2018',\n",
       " '\"Roar\"[42] Katy Perry 3.96 September 5, 2013',\n",
       " '\"Lakdi Ki Kathi\"[43] Jingle Toons 3.91 June 14, 2018',\n",
       " '\"Waka Waka (This Time for Africa)\"[44] Shakira 3.85 June 4, 2010',\n",
       " '\"Sorry\"[45] Justin Bieber 3.77 October 22, 2015',\n",
       " '\"Thinking Out Loud\"[46] Ed Sheeran 3.73 October 7, 2014',\n",
       " '\"Humpty the train on a fruits ride\"[47] Kiddiestv Hindi - Nursery Rhymes & Kids Songs 3.73 January 26, 2018',\n",
       " '\"Shree Hanuman Chalisa\"[48] T-Series Bhakti Sagar 3.69 May 10, 2011',\n",
       " '\"Dark Horse\"[49] Katy Perry 3.67 February 20, 2014',\n",
       " '\"Perfect\"[50] Ed Sheeran 3.67 November 9, 2017',\n",
       " '\"Let Her Go\"[51] Passenger 3.61 July 25, 2012',\n",
       " '\"Faded\"[52] Alan Walker 3.59 December 3, 2015',\n",
       " '\"Girls Like You\"[53] Maroon 5 3.56 May 31, 2018',\n",
       " '\"Lean On\"[54] Major Lazer Official 3.55 March 22, 2015',\n",
       " 'As of February 13, 2024']"
      ]
     },
     "execution_count": 76,
     "metadata": {},
     "output_type": "execute_result"
    }
   ],
   "source": [
    "titles"
   ]
  },
  {
   "cell_type": "code",
   "execution_count": 77,
   "id": "6371e07e",
   "metadata": {},
   "outputs": [],
   "source": [
    "del titles[0]"
   ]
  },
  {
   "cell_type": "markdown",
   "id": "b9fdad96",
   "metadata": {},
   "source": [
    "#  1- Output"
   ]
  },
  {
   "cell_type": "code",
   "execution_count": 78,
   "id": "558b8fea",
   "metadata": {
    "scrolled": true
   },
   "outputs": [
    {
     "data": {
      "text/plain": [
       "[' ',\n",
       " '\"Baby Shark Dance\"[6] Pinkfong Baby Shark - Kids\\' Songs & Stories 14.09 June 17, 2016 [A]',\n",
       " '\"Despacito\"[9] Luis Fonsi 8.38 January 12, 2017 [B]',\n",
       " '\"Johny Johny Yes Papa\"[17] LooLoo Kids - Nursery Rhymes and Children\\'s Songs 6.87 October 8, 2016',\n",
       " '\"Bath Song\"[18] Cocomelon - Nursery Rhymes 6.62 May 2, 2018',\n",
       " '\"Shape of You\"[19] Ed Sheeran 6.20 January 30, 2017 [C]',\n",
       " '\"See You Again\"[22] Wiz Khalifa 6.17 April 6, 2015 [D]',\n",
       " '\"Wheels on the Bus\"[27] Cocomelon - Nursery Rhymes 5.88 May 24, 2018',\n",
       " '\"Phonics Song with Two Words\"[28] ChuChu TV Nursery Rhymes & Kids Songs 5.70 March 6, 2014',\n",
       " '\"Uptown Funk\"[29] Mark Ronson 5.15 November 19, 2014',\n",
       " '\"Learning Colors – Colorful Eggs on a Farm\"[30] Miroshka TV 5.07 February 27, 2018',\n",
       " '\"Gangnam Style\"[31] Psy 5.05 July 15, 2012 [E]',\n",
       " '\"Masha and the Bear – Recipe for Disaster\"[36] Get Movies 4.58 January 31, 2012',\n",
       " '\"Dame Tu Cosita\"[37] Ultra Records 4.55 April 5, 2018',\n",
       " '\"Axel F\"[38] Crazy Frog 4.34 June 16, 2009',\n",
       " '\"Sugar\"[39] Maroon 5 4.00 January 14, 2015',\n",
       " '\"Counting Stars\"[40] OneRepublic 3.97 May 31, 2013',\n",
       " '\"Baa Baa Black Sheep\"[41] Cocomelon - Nursery Rhymes 3.96 June 25, 2018',\n",
       " '\"Roar\"[42] Katy Perry 3.96 September 5, 2013',\n",
       " '\"Lakdi Ki Kathi\"[43] Jingle Toons 3.91 June 14, 2018',\n",
       " '\"Waka Waka (This Time for Africa)\"[44] Shakira 3.85 June 4, 2010',\n",
       " '\"Sorry\"[45] Justin Bieber 3.77 October 22, 2015',\n",
       " '\"Thinking Out Loud\"[46] Ed Sheeran 3.73 October 7, 2014',\n",
       " '\"Humpty the train on a fruits ride\"[47] Kiddiestv Hindi - Nursery Rhymes & Kids Songs 3.73 January 26, 2018',\n",
       " '\"Shree Hanuman Chalisa\"[48] T-Series Bhakti Sagar 3.69 May 10, 2011',\n",
       " '\"Dark Horse\"[49] Katy Perry 3.67 February 20, 2014',\n",
       " '\"Perfect\"[50] Ed Sheeran 3.67 November 9, 2017',\n",
       " '\"Let Her Go\"[51] Passenger 3.61 July 25, 2012',\n",
       " '\"Faded\"[52] Alan Walker 3.59 December 3, 2015',\n",
       " '\"Girls Like You\"[53] Maroon 5 3.56 May 31, 2018',\n",
       " '\"Lean On\"[54] Major Lazer Official 3.55 March 22, 2015',\n",
       " 'As of February 13, 2024',\n",
       " 'Video name Uploader Views\\n(billions) Date',\n",
       " ' ',\n",
       " '\"Baby Shark Dance\"[6] Pinkfong Baby Shark - Kids\\' Songs & Stories 14.09 June 17, 2016 [A]',\n",
       " '\"Despacito\"[9] Luis Fonsi 8.38 January 12, 2017 [B]',\n",
       " '\"Johny Johny Yes Papa\"[17] LooLoo Kids - Nursery Rhymes and Children\\'s Songs 6.87 October 8, 2016',\n",
       " '\"Bath Song\"[18] Cocomelon - Nursery Rhymes 6.62 May 2, 2018',\n",
       " '\"Shape of You\"[19] Ed Sheeran 6.20 January 30, 2017 [C]',\n",
       " '\"See You Again\"[22] Wiz Khalifa 6.17 April 6, 2015 [D]',\n",
       " '\"Wheels on the Bus\"[27] Cocomelon - Nursery Rhymes 5.88 May 24, 2018',\n",
       " '\"Phonics Song with Two Words\"[28] ChuChu TV Nursery Rhymes & Kids Songs 5.70 March 6, 2014',\n",
       " '\"Uptown Funk\"[29] Mark Ronson 5.15 November 19, 2014',\n",
       " '\"Learning Colors – Colorful Eggs on a Farm\"[30] Miroshka TV 5.07 February 27, 2018',\n",
       " '\"Gangnam Style\"[31] Psy 5.05 July 15, 2012 [E]',\n",
       " '\"Masha and the Bear – Recipe for Disaster\"[36] Get Movies 4.58 January 31, 2012',\n",
       " '\"Dame Tu Cosita\"[37] Ultra Records 4.55 April 5, 2018',\n",
       " '\"Axel F\"[38] Crazy Frog 4.34 June 16, 2009',\n",
       " '\"Sugar\"[39] Maroon 5 4.00 January 14, 2015',\n",
       " '\"Counting Stars\"[40] OneRepublic 3.97 May 31, 2013',\n",
       " '\"Baa Baa Black Sheep\"[41] Cocomelon - Nursery Rhymes 3.96 June 25, 2018',\n",
       " '\"Roar\"[42] Katy Perry 3.96 September 5, 2013',\n",
       " '\"Lakdi Ki Kathi\"[43] Jingle Toons 3.91 June 14, 2018',\n",
       " '\"Waka Waka (This Time for Africa)\"[44] Shakira 3.85 June 4, 2010',\n",
       " '\"Sorry\"[45] Justin Bieber 3.77 October 22, 2015',\n",
       " '\"Thinking Out Loud\"[46] Ed Sheeran 3.73 October 7, 2014',\n",
       " '\"Humpty the train on a fruits ride\"[47] Kiddiestv Hindi - Nursery Rhymes & Kids Songs 3.73 January 26, 2018',\n",
       " '\"Shree Hanuman Chalisa\"[48] T-Series Bhakti Sagar 3.69 May 10, 2011',\n",
       " '\"Dark Horse\"[49] Katy Perry 3.67 February 20, 2014',\n",
       " '\"Perfect\"[50] Ed Sheeran 3.67 November 9, 2017',\n",
       " '\"Let Her Go\"[51] Passenger 3.61 July 25, 2012',\n",
       " '\"Faded\"[52] Alan Walker 3.59 December 3, 2015',\n",
       " '\"Girls Like You\"[53] Maroon 5 3.56 May 31, 2018',\n",
       " '\"Lean On\"[54] Major Lazer Official 3.55 March 22, 2015',\n",
       " 'As of February 13, 2024',\n",
       " 'Video name Uploader Views\\n(billions) Date',\n",
       " ' ',\n",
       " '\"Baby Shark Dance\"[6] Pinkfong Baby Shark - Kids\\' Songs & Stories 14.09 June 17, 2016 [A]',\n",
       " '\"Despacito\"[9] Luis Fonsi 8.38 January 12, 2017 [B]',\n",
       " '\"Johny Johny Yes Papa\"[17] LooLoo Kids - Nursery Rhymes and Children\\'s Songs 6.87 October 8, 2016',\n",
       " '\"Bath Song\"[18] Cocomelon - Nursery Rhymes 6.62 May 2, 2018',\n",
       " '\"Shape of You\"[19] Ed Sheeran 6.20 January 30, 2017 [C]',\n",
       " '\"See You Again\"[22] Wiz Khalifa 6.17 April 6, 2015 [D]',\n",
       " '\"Wheels on the Bus\"[27] Cocomelon - Nursery Rhymes 5.88 May 24, 2018',\n",
       " '\"Phonics Song with Two Words\"[28] ChuChu TV Nursery Rhymes & Kids Songs 5.70 March 6, 2014',\n",
       " '\"Uptown Funk\"[29] Mark Ronson 5.15 November 19, 2014',\n",
       " '\"Learning Colors – Colorful Eggs on a Farm\"[30] Miroshka TV 5.07 February 27, 2018',\n",
       " '\"Gangnam Style\"[31] Psy 5.05 July 15, 2012 [E]',\n",
       " '\"Masha and the Bear – Recipe for Disaster\"[36] Get Movies 4.58 January 31, 2012',\n",
       " '\"Dame Tu Cosita\"[37] Ultra Records 4.55 April 5, 2018',\n",
       " '\"Axel F\"[38] Crazy Frog 4.34 June 16, 2009',\n",
       " '\"Sugar\"[39] Maroon 5 4.00 January 14, 2015',\n",
       " '\"Counting Stars\"[40] OneRepublic 3.97 May 31, 2013',\n",
       " '\"Baa Baa Black Sheep\"[41] Cocomelon - Nursery Rhymes 3.96 June 25, 2018',\n",
       " '\"Roar\"[42] Katy Perry 3.96 September 5, 2013',\n",
       " '\"Lakdi Ki Kathi\"[43] Jingle Toons 3.91 June 14, 2018',\n",
       " '\"Waka Waka (This Time for Africa)\"[44] Shakira 3.85 June 4, 2010',\n",
       " '\"Sorry\"[45] Justin Bieber 3.77 October 22, 2015',\n",
       " '\"Thinking Out Loud\"[46] Ed Sheeran 3.73 October 7, 2014',\n",
       " '\"Humpty the train on a fruits ride\"[47] Kiddiestv Hindi - Nursery Rhymes & Kids Songs 3.73 January 26, 2018',\n",
       " '\"Shree Hanuman Chalisa\"[48] T-Series Bhakti Sagar 3.69 May 10, 2011',\n",
       " '\"Dark Horse\"[49] Katy Perry 3.67 February 20, 2014',\n",
       " '\"Perfect\"[50] Ed Sheeran 3.67 November 9, 2017',\n",
       " '\"Let Her Go\"[51] Passenger 3.61 July 25, 2012',\n",
       " '\"Faded\"[52] Alan Walker 3.59 December 3, 2015',\n",
       " '\"Girls Like You\"[53] Maroon 5 3.56 May 31, 2018',\n",
       " '\"Lean On\"[54] Major Lazer Official 3.55 March 22, 2015',\n",
       " 'As of February 13, 2024',\n",
       " 'Video name Uploader Views\\n(billions) Date',\n",
       " ' ',\n",
       " '\"Baby Shark Dance\"[6] Pinkfong Baby Shark - Kids\\' Songs & Stories 14.09 June 17, 2016 [A]',\n",
       " '\"Despacito\"[9] Luis Fonsi 8.38 January 12, 2017 [B]',\n",
       " '\"Johny Johny Yes Papa\"[17] LooLoo Kids - Nursery Rhymes and Children\\'s Songs 6.87 October 8, 2016',\n",
       " '\"Bath Song\"[18] Cocomelon - Nursery Rhymes 6.62 May 2, 2018',\n",
       " '\"Shape of You\"[19] Ed Sheeran 6.20 January 30, 2017 [C]',\n",
       " '\"See You Again\"[22] Wiz Khalifa 6.17 April 6, 2015 [D]',\n",
       " '\"Wheels on the Bus\"[27] Cocomelon - Nursery Rhymes 5.88 May 24, 2018',\n",
       " '\"Phonics Song with Two Words\"[28] ChuChu TV Nursery Rhymes & Kids Songs 5.70 March 6, 2014',\n",
       " '\"Uptown Funk\"[29] Mark Ronson 5.15 November 19, 2014',\n",
       " '\"Learning Colors – Colorful Eggs on a Farm\"[30] Miroshka TV 5.07 February 27, 2018',\n",
       " '\"Gangnam Style\"[31] Psy 5.05 July 15, 2012 [E]',\n",
       " '\"Masha and the Bear – Recipe for Disaster\"[36] Get Movies 4.58 January 31, 2012',\n",
       " '\"Dame Tu Cosita\"[37] Ultra Records 4.55 April 5, 2018',\n",
       " '\"Axel F\"[38] Crazy Frog 4.34 June 16, 2009',\n",
       " '\"Sugar\"[39] Maroon 5 4.00 January 14, 2015',\n",
       " '\"Counting Stars\"[40] OneRepublic 3.97 May 31, 2013',\n",
       " '\"Baa Baa Black Sheep\"[41] Cocomelon - Nursery Rhymes 3.96 June 25, 2018',\n",
       " '\"Roar\"[42] Katy Perry 3.96 September 5, 2013',\n",
       " '\"Lakdi Ki Kathi\"[43] Jingle Toons 3.91 June 14, 2018',\n",
       " '\"Waka Waka (This Time for Africa)\"[44] Shakira 3.85 June 4, 2010',\n",
       " '\"Sorry\"[45] Justin Bieber 3.77 October 22, 2015',\n",
       " '\"Thinking Out Loud\"[46] Ed Sheeran 3.73 October 7, 2014',\n",
       " '\"Humpty the train on a fruits ride\"[47] Kiddiestv Hindi - Nursery Rhymes & Kids Songs 3.73 January 26, 2018',\n",
       " '\"Shree Hanuman Chalisa\"[48] T-Series Bhakti Sagar 3.69 May 10, 2011',\n",
       " '\"Dark Horse\"[49] Katy Perry 3.67 February 20, 2014',\n",
       " '\"Perfect\"[50] Ed Sheeran 3.67 November 9, 2017',\n",
       " '\"Let Her Go\"[51] Passenger 3.61 July 25, 2012',\n",
       " '\"Faded\"[52] Alan Walker 3.59 December 3, 2015',\n",
       " '\"Girls Like You\"[53] Maroon 5 3.56 May 31, 2018',\n",
       " '\"Lean On\"[54] Major Lazer Official 3.55 March 22, 2015',\n",
       " 'As of February 13, 2024']"
      ]
     },
     "execution_count": 78,
     "metadata": {},
     "output_type": "execute_result"
    }
   ],
   "source": [
    "titles"
   ]
  },
  {
   "cell_type": "markdown",
   "id": "70275b99",
   "metadata": {},
   "source": [
    "# Questio - 2"
   ]
  },
  {
   "cell_type": "markdown",
   "id": "6e621515",
   "metadata": {},
   "source": [
    "2. Scrape the details team India’s international fixtures from bcci.tv. \n",
    "Url = https://www.bcci.tv/. \n",
    "You need to find following details: \n",
    "A) Series \n",
    "B) Place \n",
    "C) Date \n",
    "D) Time \n",
    "Note: - From bcci.tv home page you have reach to the international fixture page through code. "
   ]
  },
  {
   "cell_type": "code",
   "execution_count": 93,
   "id": "65d9f1a0",
   "metadata": {},
   "outputs": [],
   "source": [
    "driver2 = webdriver.Chrome()"
   ]
  },
  {
   "cell_type": "code",
   "execution_count": 94,
   "id": "7b5b34ea",
   "metadata": {},
   "outputs": [],
   "source": [
    "driver2.get('https://www.bcci.tv/')"
   ]
  },
  {
   "cell_type": "code",
   "execution_count": 120,
   "id": "ce7dcf5a",
   "metadata": {},
   "outputs": [],
   "source": [
    "Fixture = driver2.find_element(By.XPATH ,'/html/body/header/div[3]/div[2]/ul/div[1]/a[2]')\n",
    "Fixture.click()"
   ]
  },
  {
   "cell_type": "code",
   "execution_count": 121,
   "id": "ef95e033",
   "metadata": {},
   "outputs": [],
   "source": [
    "Series = []\n",
    "Place = []\n",
    "Date = []\n",
    "Time = []"
   ]
  },
  {
   "cell_type": "code",
   "execution_count": 124,
   "id": "ae6fcc1e",
   "metadata": {},
   "outputs": [],
   "source": [
    "series = driver2.find_elements(By.XPATH,'//*[@id=\"match-card\"]/div[1]/div/div/div[1]/span[1]')\n",
    "for i in series :\n",
    "    Series.append(i.text)"
   ]
  },
  {
   "cell_type": "code",
   "execution_count": 125,
   "id": "efb4dc5f",
   "metadata": {
    "collapsed": true
   },
   "outputs": [
    {
     "data": {
      "text/plain": [
       "['4th Test',\n",
       " '5th Test',\n",
       " '1st T20I',\n",
       " '2nd T20I',\n",
       " '3rd T20I',\n",
       " '4th T20I',\n",
       " '5th T20I']"
      ]
     },
     "execution_count": 125,
     "metadata": {},
     "output_type": "execute_result"
    }
   ],
   "source": [
    "Series"
   ]
  },
  {
   "cell_type": "code",
   "execution_count": 126,
   "id": "d24bfb02",
   "metadata": {},
   "outputs": [],
   "source": [
    "place = driver2.find_elements(By.XPATH,'//*[@id=\"match-card\"]/div[2]/div[1]')\n",
    "for i in place :\n",
    "    Place.append(i.text)"
   ]
  },
  {
   "cell_type": "code",
   "execution_count": 127,
   "id": "447edbf4",
   "metadata": {},
   "outputs": [
    {
     "data": {
      "text/plain": [
       "['JSCA International Stadium Complex, Ranchi',\n",
       " 'Himachal Pradesh Cricket Association Stadium, Dharamsala',\n",
       " 'Harare Sports Club, Harare',\n",
       " 'Harare Sports Club, Harare',\n",
       " 'Harare Sports Club, Harare',\n",
       " 'Harare Sports Club, Harare',\n",
       " 'Harare Sports Club, Harare']"
      ]
     },
     "execution_count": 127,
     "metadata": {},
     "output_type": "execute_result"
    }
   ],
   "source": [
    "Place"
   ]
  },
  {
   "cell_type": "code",
   "execution_count": 128,
   "id": "d9e5a793",
   "metadata": {},
   "outputs": [],
   "source": [
    "date = driver2.find_elements(By.XPATH,'//*[@id=\"match-card\"]/div[1]/div/div/div[2]/div[1]')\n",
    "for i in date :\n",
    "    Date.append(i.text)"
   ]
  },
  {
   "cell_type": "code",
   "execution_count": 129,
   "id": "ebba7095",
   "metadata": {},
   "outputs": [
    {
     "data": {
      "text/plain": [
       "['22 FEBRUARY, 2024',\n",
       " '6 MARCH, 2024',\n",
       " '6 JULY, 2024',\n",
       " '7 JULY, 2024',\n",
       " '10 JULY, 2024',\n",
       " '13 JULY, 2024',\n",
       " '14 JULY, 2024']"
      ]
     },
     "execution_count": 129,
     "metadata": {},
     "output_type": "execute_result"
    }
   ],
   "source": [
    "Date"
   ]
  },
  {
   "cell_type": "code",
   "execution_count": 130,
   "id": "39afcdb9",
   "metadata": {},
   "outputs": [],
   "source": [
    "time = driver2.find_elements(By.XPATH,'//*[@id=\"match-card\"]/div[1]/div/div/div[2]/div[2]')\n",
    "for i in time :\n",
    "    Time.append(i.text)"
   ]
  },
  {
   "cell_type": "code",
   "execution_count": 131,
   "id": "416a4517",
   "metadata": {},
   "outputs": [
    {
     "data": {
      "text/plain": [
       "['8:00 PM PST',\n",
       " '8:00 PM PST',\n",
       " '7:30 AM PST',\n",
       " '7:30 AM PST',\n",
       " '7:30 AM PST',\n",
       " '7:30 AM PST',\n",
       " '7:30 AM PST']"
      ]
     },
     "execution_count": 131,
     "metadata": {},
     "output_type": "execute_result"
    }
   ],
   "source": [
    "Time"
   ]
  },
  {
   "cell_type": "code",
   "execution_count": 132,
   "id": "2d4582b0",
   "metadata": {},
   "outputs": [],
   "source": [
    "import pandas as pd"
   ]
  },
  {
   "cell_type": "markdown",
   "id": "e635617d",
   "metadata": {},
   "source": [
    "# 2 - Output"
   ]
  },
  {
   "cell_type": "code",
   "execution_count": 133,
   "id": "7a28d25a",
   "metadata": {
    "scrolled": true
   },
   "outputs": [
    {
     "data": {
      "text/html": [
       "<div>\n",
       "<style scoped>\n",
       "    .dataframe tbody tr th:only-of-type {\n",
       "        vertical-align: middle;\n",
       "    }\n",
       "\n",
       "    .dataframe tbody tr th {\n",
       "        vertical-align: top;\n",
       "    }\n",
       "\n",
       "    .dataframe thead th {\n",
       "        text-align: right;\n",
       "    }\n",
       "</style>\n",
       "<table border=\"1\" class=\"dataframe\">\n",
       "  <thead>\n",
       "    <tr style=\"text-align: right;\">\n",
       "      <th></th>\n",
       "      <th>Series</th>\n",
       "      <th>Place</th>\n",
       "      <th>Date</th>\n",
       "      <th>Time</th>\n",
       "    </tr>\n",
       "  </thead>\n",
       "  <tbody>\n",
       "    <tr>\n",
       "      <th>0</th>\n",
       "      <td>4th Test</td>\n",
       "      <td>JSCA International Stadium Complex, Ranchi</td>\n",
       "      <td>22 FEBRUARY, 2024</td>\n",
       "      <td>8:00 PM PST</td>\n",
       "    </tr>\n",
       "    <tr>\n",
       "      <th>1</th>\n",
       "      <td>5th Test</td>\n",
       "      <td>Himachal Pradesh Cricket Association Stadium, ...</td>\n",
       "      <td>6 MARCH, 2024</td>\n",
       "      <td>8:00 PM PST</td>\n",
       "    </tr>\n",
       "    <tr>\n",
       "      <th>2</th>\n",
       "      <td>1st T20I</td>\n",
       "      <td>Harare Sports Club, Harare</td>\n",
       "      <td>6 JULY, 2024</td>\n",
       "      <td>7:30 AM PST</td>\n",
       "    </tr>\n",
       "    <tr>\n",
       "      <th>3</th>\n",
       "      <td>2nd T20I</td>\n",
       "      <td>Harare Sports Club, Harare</td>\n",
       "      <td>7 JULY, 2024</td>\n",
       "      <td>7:30 AM PST</td>\n",
       "    </tr>\n",
       "    <tr>\n",
       "      <th>4</th>\n",
       "      <td>3rd T20I</td>\n",
       "      <td>Harare Sports Club, Harare</td>\n",
       "      <td>10 JULY, 2024</td>\n",
       "      <td>7:30 AM PST</td>\n",
       "    </tr>\n",
       "    <tr>\n",
       "      <th>5</th>\n",
       "      <td>4th T20I</td>\n",
       "      <td>Harare Sports Club, Harare</td>\n",
       "      <td>13 JULY, 2024</td>\n",
       "      <td>7:30 AM PST</td>\n",
       "    </tr>\n",
       "    <tr>\n",
       "      <th>6</th>\n",
       "      <td>5th T20I</td>\n",
       "      <td>Harare Sports Club, Harare</td>\n",
       "      <td>14 JULY, 2024</td>\n",
       "      <td>7:30 AM PST</td>\n",
       "    </tr>\n",
       "  </tbody>\n",
       "</table>\n",
       "</div>"
      ],
      "text/plain": [
       "     Series                                              Place  \\\n",
       "0  4th Test         JSCA International Stadium Complex, Ranchi   \n",
       "1  5th Test  Himachal Pradesh Cricket Association Stadium, ...   \n",
       "2  1st T20I                         Harare Sports Club, Harare   \n",
       "3  2nd T20I                         Harare Sports Club, Harare   \n",
       "4  3rd T20I                         Harare Sports Club, Harare   \n",
       "5  4th T20I                         Harare Sports Club, Harare   \n",
       "6  5th T20I                         Harare Sports Club, Harare   \n",
       "\n",
       "                Date         Time  \n",
       "0  22 FEBRUARY, 2024  8:00 PM PST  \n",
       "1      6 MARCH, 2024  8:00 PM PST  \n",
       "2       6 JULY, 2024  7:30 AM PST  \n",
       "3       7 JULY, 2024  7:30 AM PST  \n",
       "4      10 JULY, 2024  7:30 AM PST  \n",
       "5      13 JULY, 2024  7:30 AM PST  \n",
       "6      14 JULY, 2024  7:30 AM PST  "
      ]
     },
     "execution_count": 133,
     "metadata": {},
     "output_type": "execute_result"
    }
   ],
   "source": [
    "df = pd.DataFrame({'Series': Series , 'Place': Place , 'Date': Date , 'Time': Time})\n",
    "df"
   ]
  },
  {
   "cell_type": "markdown",
   "id": "888c0c53",
   "metadata": {},
   "source": [
    "# Question -4"
   ]
  },
  {
   "cell_type": "markdown",
   "id": "a67faf31",
   "metadata": {},
   "source": [
    "4. Scrape the details of trending repositories on Github.com. \n",
    "Url = https://github.com/ \n",
    "You have to find the following details: \n",
    "A) Repository title \n",
    "B) Repository description \n",
    "C) Contributors count \n",
    "D) Language used \n",
    "Note: - From the home page you have to click on the trending option from Explore menu through code. "
   ]
  },
  {
   "cell_type": "code",
   "execution_count": 178,
   "id": "2bff81bc",
   "metadata": {},
   "outputs": [],
   "source": [
    "driver4 = webdriver.Chrome()"
   ]
  },
  {
   "cell_type": "code",
   "execution_count": 179,
   "id": "1b6190c3",
   "metadata": {},
   "outputs": [],
   "source": [
    "driver4.get('https://github.com/')"
   ]
  },
  {
   "cell_type": "code",
   "execution_count": 181,
   "id": "07d7cf18",
   "metadata": {},
   "outputs": [],
   "source": [
    "button = driver4.find_element(By.XPATH,'/html/body/div[1]/div[1]/header/div/div[1]/div[2]/button/span')\n",
    "button.click()"
   ]
  },
  {
   "cell_type": "code",
   "execution_count": 182,
   "id": "eba64aa6",
   "metadata": {},
   "outputs": [],
   "source": [
    "search = driver4.find_element(By.XPATH,'/html/body/div[1]/div[1]/header/div/div[2]/div/div/qbsearch-input/div[1]/button/span')\n",
    "search.click()"
   ]
  },
  {
   "cell_type": "code",
   "execution_count": 183,
   "id": "417475a3",
   "metadata": {},
   "outputs": [],
   "source": [
    "write = driver4.find_element(By.XPATH, '/html/body/div[1]/div[1]/header/div/div[2]/div/div/qbsearch-input/div[1]/div/modal-dialog/div/div/div/form/query-builder/div[1]/div[1]/div/div[2]/input')\n",
    "write.send_keys('Trending')"
   ]
  },
  {
   "cell_type": "code",
   "execution_count": 184,
   "id": "357115ab",
   "metadata": {},
   "outputs": [],
   "source": [
    "search1 = driver4.find_element(By.XPATH, '/html/body/div[1]/div[1]/header/div/div[2]/div/div/qbsearch-input/div[1]/div/modal-dialog/div/div/div/form/query-builder/div[1]/div[2]/ul/li/ul/li/span/span[3]')\n",
    "search1.click()"
   ]
  },
  {
   "cell_type": "code",
   "execution_count": 185,
   "id": "56522251",
   "metadata": {},
   "outputs": [],
   "source": [
    "title = driver4.find_elements(By.XPATH,'/html/body/div[1]/div[4]/main/react-app/div/div/div[1]/div/div/div[2]/div[2]/div/div[1]/div[4]/div/div')   "
   ]
  },
  {
   "cell_type": "code",
   "execution_count": 186,
   "id": "4b13a5e9",
   "metadata": {},
   "outputs": [
    {
     "data": {
      "text/plain": [
       "[<selenium.webdriver.remote.webelement.WebElement (session=\"e8a08f1044b7668c76a9002a4f06d6ff\", element=\"4AFFCC74AE51F44F9410F10CF8524CC1_element_147\")>]"
      ]
     },
     "execution_count": 186,
     "metadata": {},
     "output_type": "execute_result"
    }
   ],
   "source": [
    "title"
   ]
  },
  {
   "cell_type": "code",
   "execution_count": 187,
   "id": "c4722090",
   "metadata": {},
   "outputs": [],
   "source": [
    "detailing = []"
   ]
  },
  {
   "cell_type": "code",
   "execution_count": 188,
   "id": "e63e54e5",
   "metadata": {},
   "outputs": [],
   "source": [
    "a = title[0].find_elements(By.TAG_NAME,'a')\n",
    "for i in a :\n",
    "    detailing.append(i.get_attribute('href'))"
   ]
  },
  {
   "cell_type": "code",
   "execution_count": 190,
   "id": "2980f724",
   "metadata": {},
   "outputs": [
    {
     "name": "stdout",
     "output_type": "stream",
     "text": [
      "35\n"
     ]
    }
   ],
   "source": [
    "print(len(detailing))"
   ]
  },
  {
   "cell_type": "code",
   "execution_count": 191,
   "id": "38f1e51d",
   "metadata": {
    "collapsed": true
   },
   "outputs": [
    {
     "data": {
      "text/plain": [
       "['https://github.com/dereknguyen269/programing-best-practices-in-2024',\n",
       " 'https://github.com/topics/best-practices',\n",
       " 'https://github.com/topics/code-style',\n",
       " 'https://github.com/topics/trend',\n",
       " 'https://github.com/topics/hacktoberfest',\n",
       " 'https://github.com/topics/css-best-practices',\n",
       " 'https://github.com/dereknguyen269/programing-best-practices-in-2024/stargazers',\n",
       " 'https://github.com/login?return_to=https%3A%2F%2Fgithub.com%2Fsearch%3Fq%3DTreding%26type%3Drepositories',\n",
       " 'https://github.com/Yuvraj-market/yuvraj-market-Group',\n",
       " 'https://github.com/Yuvraj-market/yuvraj-market-Group/stargazers',\n",
       " 'https://github.com/login?return_to=https%3A%2F%2Fgithub.com%2Fsearch%3Fq%3DTreding%26type%3Drepositories',\n",
       " 'https://github.com/stejo009/treading.manager.git.io',\n",
       " 'https://github.com/stejo009/treading.manager.git.io/stargazers',\n",
       " 'https://github.com/login?return_to=https%3A%2F%2Fgithub.com%2Fsearch%3Fq%3DTreding%26type%3Drepositories',\n",
       " 'https://github.com/Hafid24/Trednding-repos',\n",
       " 'https://github.com/Hafid24/Trednding-repos/stargazers',\n",
       " 'https://github.com/login?return_to=https%3A%2F%2Fgithub.com%2Fsearch%3Fq%3DTreding%26type%3Drepositories',\n",
       " 'https://github.com/menma977/MyVintechStake',\n",
       " 'https://github.com/menma977/MyVintechStake/stargazers',\n",
       " 'https://github.com/login?return_to=https%3A%2F%2Fgithub.com%2Fsearch%3Fq%3DTreding%26type%3Drepositories',\n",
       " 'https://github.com/Ayman323/bi',\n",
       " 'https://github.com/Ayman323/bi/stargazers',\n",
       " 'https://github.com/login?return_to=https%3A%2F%2Fgithub.com%2Fsearch%3Fq%3DTreding%26type%3Drepositories',\n",
       " 'https://github.com/ILBruz/site-web-avec-HTML-CSS-et-le-Framework-Bootstrap',\n",
       " 'https://github.com/ILBruz/site-web-avec-HTML-CSS-et-le-Framework-Bootstrap/stargazers',\n",
       " 'https://github.com/login?return_to=https%3A%2F%2Fgithub.com%2Fsearch%3Fq%3DTreding%26type%3Drepositories',\n",
       " 'https://github.com/menma977/BUGNODE-Android',\n",
       " 'https://github.com/menma977/BUGNODE-Android/stargazers',\n",
       " 'https://github.com/login?return_to=https%3A%2F%2Fgithub.com%2Fsearch%3Fq%3DTreding%26type%3Drepositories',\n",
       " 'https://github.com/shaheda77/pubg',\n",
       " 'https://github.com/shaheda77/pubg/stargazers',\n",
       " 'https://github.com/login?return_to=https%3A%2F%2Fgithub.com%2Fsearch%3Fq%3DTreding%26type%3Drepositories',\n",
       " 'https://github.com/Faizannnn666/treding',\n",
       " 'https://github.com/Faizannnn666/treding/stargazers',\n",
       " 'https://github.com/login?return_to=https%3A%2F%2Fgithub.com%2Fsearch%3Fq%3DTreding%26type%3Drepositories']"
      ]
     },
     "execution_count": 191,
     "metadata": {},
     "output_type": "execute_result"
    }
   ],
   "source": [
    "detailing"
   ]
  },
  {
   "cell_type": "code",
   "execution_count": 193,
   "id": "564e76e2",
   "metadata": {},
   "outputs": [
    {
     "name": "stdout",
     "output_type": "stream",
     "text": [
      "Selected elements:\n",
      "https://github.com/dereknguyen269/programing-best-practices-in-2024\n",
      "https://github.com/Yuvraj-market/yuvraj-market-Group\n",
      "https://github.com/stejo009/treading.manager.git.io\n",
      "https://github.com/Hafid24/Trednding-repos\n",
      "https://github.com/menma977/MyVintechStake\n",
      "https://github.com/Ayman323/bi\n",
      "https://github.com/ILBruz/site-web-avec-HTML-CSS-et-le-Framework-Bootstrap\n",
      "https://github.com/menma977/BUGNODE-Android\n",
      "https://github.com/shaheda77/pubg\n",
      "https://github.com/Faizannnn666/treding\n"
     ]
    }
   ],
   "source": [
    "selected_elements = [detailing[i] for i in [0, 8, 11, 14, 17, 20, 23, 26, 29, 32]]\n",
    "\n",
    "# Print the result without showing the original list\n",
    "print(\"Selected elements:\")\n",
    "for element in selected_elements:\n",
    "    print(element)"
   ]
  },
  {
   "cell_type": "code",
   "execution_count": 232,
   "id": "981e6816",
   "metadata": {},
   "outputs": [],
   "source": [
    "Repository_Titles = []\n",
    "Repository_Descriptions = []\n",
    "Contributors_Counts = []\n",
    "Language_used = []\n"
   ]
  },
  {
   "cell_type": "code",
   "execution_count": 233,
   "id": "2e136d08",
   "metadata": {},
   "outputs": [],
   "source": [
    "for url in selected_elements :\n",
    "    driver4.get(url)\n",
    "    \n",
    "    try :\n",
    "        titles = driver4.find_elements(By.XPATH , '//*[@id=\"repository-container-header\"]/div[1]/div[1]')\n",
    "        for i in titles :\n",
    "            Repository_Titles.append(i.text)\n",
    "    except NoSuchElementException :\n",
    "        Repository_Titles.append('-')\n",
    "        \n",
    "    try :\n",
    "        descriptions = driver4.find_elements(By.XPATH , '//*[@id=\"repo-content-pjax-container\"]/div/div/div[2]/div[2]/div/div[1]/div/div/p')\n",
    "        for i in descriptions :\n",
    "            Repository_Descriptions .append(i.text)\n",
    "    except NoSuchElementException :\n",
    "        Repository_Descriptions.append('-')\n",
    "        \n",
    "    try :\n",
    "        count = driver4.find_elements(By.XPATH , '//*[@id=\"repo-content-pjax-container\"]/div/div/div[2]/div[2]/div/div[3]/div/h2/a/span')\n",
    "        for i in count :\n",
    "            Contributors_Counts.append(i.text)\n",
    "    except NoSuchElementException :\n",
    "        Contributors_Counts.append('-')\n",
    "        \n",
    "    try :\n",
    "        used = driver4.find_elements(By.XPATH , '//*[@id=\"repo-content-pjax-container\"]/div/div/div[2]/div[2]/div/div[6]/div/ul/li')\n",
    "        for i in used :\n",
    "            Language_used.append(i.text)\n",
    "    except NoSuchElementException :\n",
    "        Language_used.append('-')\n",
    "        \n",
    "        \n",
    "        \n",
    "    \n",
    "        \n",
    "        "
   ]
  },
  {
   "cell_type": "code",
   "execution_count": 241,
   "id": "4e539c5f",
   "metadata": {},
   "outputs": [],
   "source": [
    "Language_used = ['_' , '_' , '_' ,'Java script','Kotlin','HTML', 'HTML', 'Kotlin', '_' , '_']"
   ]
  },
  {
   "cell_type": "code",
   "execution_count": 243,
   "id": "714baf0b",
   "metadata": {},
   "outputs": [],
   "source": [
    "Contribution_Counts = [11 , '_' ,'_', '_',2 , '_', '_', 2, '_', '_']"
   ]
  },
  {
   "cell_type": "markdown",
   "id": "1f7b59f3",
   "metadata": {},
   "source": [
    "# 4 - Output"
   ]
  },
  {
   "cell_type": "code",
   "execution_count": 245,
   "id": "7cf5f029",
   "metadata": {
    "scrolled": true
   },
   "outputs": [
    {
     "data": {
      "text/html": [
       "<div>\n",
       "<style scoped>\n",
       "    .dataframe tbody tr th:only-of-type {\n",
       "        vertical-align: middle;\n",
       "    }\n",
       "\n",
       "    .dataframe tbody tr th {\n",
       "        vertical-align: top;\n",
       "    }\n",
       "\n",
       "    .dataframe thead th {\n",
       "        text-align: right;\n",
       "    }\n",
       "</style>\n",
       "<table border=\"1\" class=\"dataframe\">\n",
       "  <thead>\n",
       "    <tr style=\"text-align: right;\">\n",
       "      <th></th>\n",
       "      <th>Repository title</th>\n",
       "      <th>Repository description</th>\n",
       "      <th>Contribution counts</th>\n",
       "      <th>Language used</th>\n",
       "    </tr>\n",
       "  </thead>\n",
       "  <tbody>\n",
       "    <tr>\n",
       "      <th>0</th>\n",
       "      <td>dereknguyen269\\n/\\nprograming-best-practices-i...</td>\n",
       "      <td>A curated list of awesome Programming Best Pra...</td>\n",
       "      <td>11</td>\n",
       "      <td>_</td>\n",
       "    </tr>\n",
       "    <tr>\n",
       "      <th>1</th>\n",
       "      <td>Yuvraj-market\\n/\\nyuvraj-market-Group\\nPublic\\...</td>\n",
       "      <td>treding Platform</td>\n",
       "      <td>_</td>\n",
       "      <td>_</td>\n",
       "    </tr>\n",
       "    <tr>\n",
       "      <th>2</th>\n",
       "      <td>stejo009\\n/\\ntreading.manager.git.io\\nPublic</td>\n",
       "      <td>treding manager template</td>\n",
       "      <td>_</td>\n",
       "      <td>_</td>\n",
       "    </tr>\n",
       "    <tr>\n",
       "      <th>3</th>\n",
       "      <td>Hafid24\\n/\\nTrednding-repos\\nPublic</td>\n",
       "      <td>Treding repos</td>\n",
       "      <td>_</td>\n",
       "      <td>Java script</td>\n",
       "    </tr>\n",
       "    <tr>\n",
       "      <th>4</th>\n",
       "      <td>menma977\\n/\\nMyVintechStake\\nPublic</td>\n",
       "      <td>Treding</td>\n",
       "      <td>2</td>\n",
       "      <td>Kotlin</td>\n",
       "    </tr>\n",
       "    <tr>\n",
       "      <th>5</th>\n",
       "      <td>Ayman323\\n/\\nbi\\nPublic</td>\n",
       "      <td>Treding</td>\n",
       "      <td>_</td>\n",
       "      <td>HTML</td>\n",
       "    </tr>\n",
       "    <tr>\n",
       "      <th>6</th>\n",
       "      <td>ILBruz\\n/\\nsite-web-avec-HTML-CSS-et-le-Framew...</td>\n",
       "      <td>treding library</td>\n",
       "      <td>_</td>\n",
       "      <td>HTML</td>\n",
       "    </tr>\n",
       "    <tr>\n",
       "      <th>7</th>\n",
       "      <td>menma977\\n/\\nBUGNODE-Android\\nPublic</td>\n",
       "      <td>Bug node treding</td>\n",
       "      <td>2</td>\n",
       "      <td>Kotlin</td>\n",
       "    </tr>\n",
       "    <tr>\n",
       "      <th>8</th>\n",
       "      <td>shaheda77\\n/\\npubg\\nPublic</td>\n",
       "      <td>Treding in future</td>\n",
       "      <td>_</td>\n",
       "      <td>_</td>\n",
       "    </tr>\n",
       "    <tr>\n",
       "      <th>9</th>\n",
       "      <td>Faizannnn666\\n/\\ntreding\\nPublic</td>\n",
       "      <td>Treding. Easyly</td>\n",
       "      <td>_</td>\n",
       "      <td>_</td>\n",
       "    </tr>\n",
       "  </tbody>\n",
       "</table>\n",
       "</div>"
      ],
      "text/plain": [
       "                                    Repository title  \\\n",
       "0  dereknguyen269\\n/\\nprograming-best-practices-i...   \n",
       "1  Yuvraj-market\\n/\\nyuvraj-market-Group\\nPublic\\...   \n",
       "2       stejo009\\n/\\ntreading.manager.git.io\\nPublic   \n",
       "3                Hafid24\\n/\\nTrednding-repos\\nPublic   \n",
       "4                menma977\\n/\\nMyVintechStake\\nPublic   \n",
       "5                            Ayman323\\n/\\nbi\\nPublic   \n",
       "6  ILBruz\\n/\\nsite-web-avec-HTML-CSS-et-le-Framew...   \n",
       "7               menma977\\n/\\nBUGNODE-Android\\nPublic   \n",
       "8                         shaheda77\\n/\\npubg\\nPublic   \n",
       "9                   Faizannnn666\\n/\\ntreding\\nPublic   \n",
       "\n",
       "                              Repository description Contribution counts  \\\n",
       "0  A curated list of awesome Programming Best Pra...                  11   \n",
       "1                                   treding Platform                   _   \n",
       "2                           treding manager template                   _   \n",
       "3                                      Treding repos                   _   \n",
       "4                                            Treding                   2   \n",
       "5                                            Treding                   _   \n",
       "6                                    treding library                   _   \n",
       "7                                   Bug node treding                   2   \n",
       "8                                  Treding in future                   _   \n",
       "9                                    Treding. Easyly                   _   \n",
       "\n",
       "  Language used  \n",
       "0             _  \n",
       "1             _  \n",
       "2             _  \n",
       "3   Java script  \n",
       "4        Kotlin  \n",
       "5          HTML  \n",
       "6          HTML  \n",
       "7        Kotlin  \n",
       "8             _  \n",
       "9             _  "
      ]
     },
     "execution_count": 245,
     "metadata": {},
     "output_type": "execute_result"
    }
   ],
   "source": [
    "df = pd.DataFrame({'Repository title': Repository_Titles , 'Repository description':Repository_Descriptions , 'Contribution counts':Contribution_Counts , 'Language used':Language_used })\n",
    "df"
   ]
  },
  {
   "cell_type": "markdown",
   "id": "64649ad2",
   "metadata": {},
   "source": [
    "# Question - 5"
   ]
  },
  {
   "cell_type": "markdown",
   "id": "46c02c89",
   "metadata": {},
   "source": [
    "5. Scrape the details of top 100 songs on billiboard.com. Url = https:/www.billboard.com/ You have to find the \n",
    "following details: \n",
    "A) Song name \n",
    "B) Artist name \n",
    "C) Last week rank \n",
    "D) Peak rank \n",
    "E) Weeks on board \n",
    " Note: - From the home page you have to click on the charts option then hot 100-page link through code."
   ]
  },
  {
   "cell_type": "code",
   "execution_count": 250,
   "id": "ff246919",
   "metadata": {},
   "outputs": [],
   "source": [
    "driver5 = webdriver.Chrome()"
   ]
  },
  {
   "cell_type": "code",
   "execution_count": 251,
   "id": "a9fec028",
   "metadata": {},
   "outputs": [],
   "source": [
    "driver5.get('https:/www.billboard.com/')"
   ]
  },
  {
   "cell_type": "code",
   "execution_count": 252,
   "id": "2f0966dc",
   "metadata": {},
   "outputs": [],
   "source": [
    "three_lines = driver5.find_element(By.XPATH,'/html/body/div[3]/header/div/div[4]/div/div[1]/div[1]/button') \n",
    "three_lines.click()"
   ]
  },
  {
   "cell_type": "code",
   "execution_count": 253,
   "id": "216cc014",
   "metadata": {},
   "outputs": [],
   "source": [
    "Charts = driver5.find_element(By.XPATH,'/html/body/div[3]/div[9]/div/div/div/ul/li[1]/h3/a')\n",
    "Charts.click()"
   ]
  },
  {
   "cell_type": "code",
   "execution_count": 254,
   "id": "e57fc925",
   "metadata": {},
   "outputs": [],
   "source": [
    "Hot_hundrade = driver5.find_element(By.XPATH,'/html/body/div[3]/main/div[2]/div[1]/div[1]/div/div/div[1]/div/div[2]')\n",
    "Hot_hundrade.click()"
   ]
  },
  {
   "cell_type": "code",
   "execution_count": 255,
   "id": "6c8314d1",
   "metadata": {},
   "outputs": [],
   "source": [
    "BillBoard = []\n",
    "row = []"
   ]
  },
  {
   "cell_type": "code",
   "execution_count": 256,
   "id": "84a486e1",
   "metadata": {},
   "outputs": [],
   "source": [
    "billboard = driver5.find_elements(By.XPATH,'//*[@id=\"post-1479786\"]/div[3]/div/div/div/div[2]')\n",
    "for i in billboard :\n",
    "    BillBoard.append(i.text)\n",
    "    \n",
    "    try :\n",
    "        Rows = driver5.find_elements(By.CLASS_NAME,\"o-chart-results-list-row-container\")\n",
    "        for i in Rows :\n",
    "            row.append(i.text)\n",
    "    except NoSuchElementException :\n",
    "        row.append('-')"
   ]
  },
  {
   "cell_type": "code",
   "execution_count": 257,
   "id": "6ae1ae3a",
   "metadata": {},
   "outputs": [
    {
     "data": {
      "text/plain": [
       "['1\\nLovin On Me\\nJack Harlow\\n1\\n1\\n14',\n",
       " \"2\\nNEW\\nTexas Hold 'Em\\nBeyonce\\n-\\n2\\n1\",\n",
       " '3\\nNEW\\nCarnival\\n¥$: Kanye West & Ty Dolla $ign\\n-\\n3\\n1',\n",
       " '4\\nBeautiful Things\\nBenson Boone\\n3\\n3\\n4',\n",
       " '5\\nLose Control\\nTeddy Swims\\n2\\n2\\n27',\n",
       " '6\\nCruel Summer\\nTaylor Swift\\n4\\n1\\n41',\n",
       " '7\\nSnooze\\nSZA\\n5\\n2\\n61',\n",
       " '8\\nI Remember Everything\\nZach Bryan Featuring Kacey Musgraves\\n6\\n1\\n25',\n",
       " '9\\nGreedy\\nTate McRae\\n7\\n3\\n22',\n",
       " '10\\nStick Season\\nNoah Kahan\\n11\\n10\\n20',\n",
       " '11\\nFast Car\\nLuke Combs\\n8\\n2\\n47',\n",
       " '12\\nAgora Hills\\nDoja Cat\\n9\\n7\\n21',\n",
       " '13\\nWater\\nTyla\\n12\\n7\\n20',\n",
       " '14\\nLast Night\\nMorgan Wallen\\n15\\n1\\n55',\n",
       " '15\\nRedrum\\n21 Savage\\n14\\n5\\n5',\n",
       " \"16\\nThinkin' Bout Me\\nMorgan Wallen\\n16\\n7\\n50\",\n",
       " '17\\nFlowers\\nMiley Cyrus\\n10\\n1\\n52',\n",
       " \"18\\nIs It Over Now? (Taylor's Version) [From The Vault]\\nTaylor Swift\\n18\\n1\\n16\",\n",
       " '19\\nPaint The Town Red\\nDoja Cat\\n17\\n1\\n28',\n",
       " '20\\nRE- ENTRY\\nYeah!\\nUsher Featuring Lil Jon & Ludacris\\n-\\n1\\n46',\n",
       " '21\\nNever Lose Me\\nFlo Milli\\n19\\n18\\n9',\n",
       " '22\\nLa Diabla\\nXavi\\n25\\n20\\n9',\n",
       " '23\\nNEW\\nFuk Sumn\\n¥$: Kanye West & Ty Dolla $ign\\n-\\n23\\n1',\n",
       " '24\\nPretty Little Poison\\nWarren Zeiders\\n24\\n24\\n23',\n",
       " '25\\nHoudini\\nDua Lipa\\n22\\n11\\n14',\n",
       " '26\\nNEW\\nBack To Me\\n¥$: Kanye West & Ty Dolla $ign\\n-\\n26\\n1',\n",
       " '27\\nWhat Was I Made For?\\nBillie Eilish\\n20\\n14\\n30',\n",
       " '28\\nNEW\\nForever\\nNoah Kahan\\n-\\n28\\n1',\n",
       " '29\\nWhere The Wild Things Are\\nLuke Combs\\n26\\n26\\n13',\n",
       " '30\\nNEW\\nTalking\\n¥$: Kanye West & Ty Dolla $ign Featuring North West\\n-\\n30\\n1',\n",
       " '31\\nYes, And?\\nAriana Grande\\n21\\n1\\n5',\n",
       " '32\\nMade For Me\\nMuni Long\\n28\\n28\\n5',\n",
       " '33\\nNEW\\nBurn\\n¥$: Kanye West & Ty Dolla $ign\\n-\\n33\\n1',\n",
       " '34\\nNEW\\nVultures\\n¥$: Kanye West & Ty Dolla $ign Featuring Lil Durk & Bump J\\n-\\n34\\n1',\n",
       " '35\\nThe Painter\\nCody Johnson\\n30\\n30\\n19',\n",
       " '36\\nGood Good\\nUsher, Summer Walker & 21 Savage\\n45\\n25\\n27',\n",
       " '37\\nSelfish\\nJustin Timberlake\\n23\\n19\\n3',\n",
       " '38\\nNEW\\n16 Carriages\\nBeyonce\\n-\\n38\\n1',\n",
       " '39\\nNEW\\nStars\\n¥$: Kanye West & Ty Dolla $ign\\n-\\n39\\n1',\n",
       " '40\\nEverybody\\nNicki Minaj Featuring Lil Uzi Vert\\n27\\n24\\n10',\n",
       " '41\\nRich Baby Daddy\\nDrake Featuring Sexyy Red & SZA\\n32\\n11\\n19',\n",
       " '42\\nFeather\\nSabrina Carpenter\\n36\\n36\\n11',\n",
       " '43\\nVampire\\nOlivia Rodrigo\\n29\\n1\\n30',\n",
       " '44\\nOn My Mama\\nVictoria Monet\\n33\\n33\\n22',\n",
       " '45\\nWild Ones\\nJessie Murph & Jelly Roll\\n35\\n35\\n19',\n",
       " '46\\nDance The Night\\nDua Lipa\\n37\\n6\\n33',\n",
       " '47\\nSave Me\\nJelly Roll With Lainey Wilson\\n40\\n19\\n32',\n",
       " '48\\nHiss\\nMegan Thee Stallion\\n13\\n1\\n3',\n",
       " '49\\nExes\\nTate McRae\\n34\\n34\\n13',\n",
       " '50\\nNeed A Favor\\nJelly Roll\\n39\\n13\\n44',\n",
       " '51\\nTruck Bed\\nHARDY\\n46\\n36\\n35',\n",
       " '52\\nNEW\\nDo It\\n¥$: Kanye West & Ty Dolla $ign\\n-\\n52\\n1',\n",
       " '53\\nNEW\\nPaid\\n¥$: Kanye West & Ty Dolla $ign\\n-\\n53\\n1',\n",
       " '54\\nSurround Sound\\nJID Featuring 21 Savage & Baby Tate\\n48\\n40\\n14',\n",
       " '55\\nNEW\\nKeys To My Life\\n¥$: Kanye West & Ty Dolla $ign\\n-\\n55\\n1',\n",
       " '56\\nWorld On Fire\\nNate Smith\\n44\\n21\\n16',\n",
       " '57\\nFirst Person Shooter\\nDrake Featuring J. Cole\\n47\\n1\\n19',\n",
       " '58\\nLa Victima\\nXavi\\n56\\n46\\n9',\n",
       " '59\\nGet In With Me\\nBossMan Dlow\\n68\\n59\\n2',\n",
       " '60\\nBurn It Down\\nParker McCollum\\n55\\n52\\n17',\n",
       " '61\\nStanding Next To You\\nJung Kook\\n81\\n5\\n15',\n",
       " '62\\nThink U The Shit (Fart)\\nIce Spice\\n52\\n37\\n3',\n",
       " '63\\nPraise Jah In The Moonlight\\nYG Marley\\n60\\n60\\n3',\n",
       " '64\\nNEW\\nPaperwork\\n¥$: Kanye West & Ty Dolla $ign\\n-\\n64\\n1',\n",
       " '65\\nNEW\\nBeg Forgiveness\\n¥$: Kanye West & Ty Dolla $ign\\n-\\n65\\n1',\n",
       " '66\\nMan Made A Bar\\nMorgan Wallen Featuring Eric Church\\n63\\n15\\n21',\n",
       " '67\\nNEW\\nHoodrat\\n¥$: Kanye West & Ty Dolla $ign\\n-\\n67\\n1',\n",
       " '68\\nOne Call\\nRich Amiri\\n64\\n64\\n3',\n",
       " '69\\nIgual Que Un Angel\\nKali Uchis & Peso Pluma\\n53\\n22\\n5',\n",
       " '70\\nSpin You Around (1/24)\\nMorgan Wallen\\n51\\n24\\n3',\n",
       " '71\\nFTCU\\nNicki Minaj\\n54\\n15\\n10',\n",
       " '72\\nOne Of The Girls\\nThe Weeknd, Jennie & Lily Rose Depp\\n57\\n57\\n8',\n",
       " '73\\nMurder On The Dancefloor\\nSophie Ellis-Bextor\\n59\\n51\\n7',\n",
       " '74\\nYou Broke My Heart\\nDrake\\n65\\n11\\n13',\n",
       " '75\\nNorthern Attitude\\nNoah Kahan With Hozier\\n97\\n37\\n11',\n",
       " '76\\nFE!N\\nTravis Scott Featuring Playboi Carti\\n69\\n5\\n16',\n",
       " '77\\n23\\nChayce Beckham\\n74\\n64\\n7',\n",
       " '78\\nBandit\\nDon Toliver\\n38\\n38\\n2',\n",
       " '79\\nNEW\\nProblematic\\n¥$: Kanye West & Ty Dolla $ign\\n-\\n79\\n1',\n",
       " '80\\nNee-nah\\n21 Savage, Travis Scott & Metro Boomin\\n58\\n10\\n5',\n",
       " '81\\nAct II: Date @ 8\\n4Batz\\n61\\n59\\n6',\n",
       " '82\\nI Can Feel It\\nKane Brown\\n73\\n59\\n7',\n",
       " \"83\\nMamaw's House\\nThomas Rhett Featuring Morgan Wallen\\n78\\n55\\n7\",\n",
       " '84\\nSoak City\\n310babii\\n76\\n61\\n9',\n",
       " '85\\nHarley Quinn\\nFuerza Regida & Marshmello\\n67\\n40\\n15',\n",
       " \"86\\nNEW\\nYou're Gonna Go Far\\nNoah Kahan\\n-\\n86\\n1\",\n",
       " '87\\nBellakeo\\nPeso Pluma & Anitta\\n70\\n53\\n9',\n",
       " '88\\nIDGAF\\nDrake Featuring Yeat\\n72\\n2\\n19',\n",
       " '89\\nNEW\\nYeah Glo!\\nGloRilla\\n-\\n89\\n1',\n",
       " \"90\\nDifferent 'Round Here\\nRiley Green Featuring Luke Combs\\n66\\n60\\n11\",\n",
       " '91\\nRE- ENTRY\\nShe Calls Me Back\\nNoah Kahan With Kacey Musgraves\\n-\\n76\\n2',\n",
       " \"92\\nWe Don't Fight Anymore\\nCarly Pearce Featuring Chris Stapleton\\n79\\n67\\n9\",\n",
       " \"93\\nNEW\\nGood (Don't Die)\\n¥$: Kanye West & Ty Dolla $ign\\n-\\n93\\n1\",\n",
       " '94\\nNEW\\nKing\\n¥$: Kanye West & Ty Dolla $ign\\n-\\n94\\n1',\n",
       " '95\\nCoal\\nDylan Gossett\\n86\\n86\\n6',\n",
       " '96\\nMmhmm\\nBigXthaPlug\\n83\\n65\\n8',\n",
       " '97\\nMonaco\\nBad Bunny\\n77\\n5\\n18',\n",
       " '98\\nProve It\\n21 Savage & Summer Walker\\n75\\n43\\n5',\n",
       " '99\\nPerro Negro\\nBad Bunny & Feid\\n82\\n20\\n15',\n",
       " '100\\nNEW\\nSunday Service\\nLatto\\n-\\n100\\n1']"
      ]
     },
     "execution_count": 257,
     "metadata": {},
     "output_type": "execute_result"
    }
   ],
   "source": [
    "row"
   ]
  },
  {
   "cell_type": "code",
   "execution_count": 258,
   "id": "9b3e393b",
   "metadata": {},
   "outputs": [],
   "source": [
    "data = ['1\\nLovin On Me\\nJack Harlow\\n1\\n1\\n14',\n",
    " \"2\\nNEW\\nTexas Hold 'Em\\nBeyonce\\n-\\n2\\n1\",\n",
    " '3\\nNEW\\nCarnival\\n¥$: Kanye West & Ty Dolla $ign\\n-\\n3\\n1',\n",
    " '4\\nBeautiful Things\\nBenson Boone\\n3\\n3\\n4',\n",
    " '5\\nLose Control\\nTeddy Swims\\n2\\n2\\n27',\n",
    " '6\\nCruel Summer\\nTaylor Swift\\n4\\n1\\n41',\n",
    " '7\\nSnooze\\nSZA\\n5\\n2\\n61',\n",
    " '8\\nI Remember Everything\\nZach Bryan Featuring Kacey Musgraves\\n6\\n1\\n25',\n",
    " '9\\nGreedy\\nTate McRae\\n7\\n3\\n22',\n",
    " '10\\nStick Season\\nNoah Kahan\\n11\\n10\\n20',\n",
    " '11\\nFast Car\\nLuke Combs\\n8\\n2\\n47',\n",
    " '12\\nAgora Hills\\nDoja Cat\\n9\\n7\\n21',\n",
    " '13\\nWater\\nTyla\\n12\\n7\\n20',\n",
    " '14\\nLast Night\\nMorgan Wallen\\n15\\n1\\n55',\n",
    " '15\\nRedrum\\n21 Savage\\n14\\n5\\n5',\n",
    " \"16\\nThinkin' Bout Me\\nMorgan Wallen\\n16\\n7\\n50\",\n",
    " '17\\nFlowers\\nMiley Cyrus\\n10\\n1\\n52',\n",
    " \"18\\nIs It Over Now? (Taylor's Version) [From The Vault]\\nTaylor Swift\\n18\\n1\\n16\",\n",
    " '19\\nPaint The Town Red\\nDoja Cat\\n17\\n1\\n28',\n",
    " '20\\nRE- ENTRY\\nYeah!\\nUsher Featuring Lil Jon & Ludacris\\n-\\n1\\n46',\n",
    " '21\\nNever Lose Me\\nFlo Milli\\n19\\n18\\n9',\n",
    " '22\\nLa Diabla\\nXavi\\n25\\n20\\n9',\n",
    " '23\\nNEW\\nFuk Sumn\\n¥$: Kanye West & Ty Dolla $ign\\n-\\n23\\n1',\n",
    " '24\\nPretty Little Poison\\nWarren Zeiders\\n24\\n24\\n23',\n",
    " '25\\nHoudini\\nDua Lipa\\n22\\n11\\n14',\n",
    " '26\\nNEW\\nBack To Me\\n¥$: Kanye West & Ty Dolla $ign\\n-\\n26\\n1',\n",
    " '27\\nWhat Was I Made For?\\nBillie Eilish\\n20\\n14\\n30',\n",
    " '28\\nNEW\\nForever\\nNoah Kahan\\n-\\n28\\n1',\n",
    " '29\\nWhere The Wild Things Are\\nLuke Combs\\n26\\n26\\n13',\n",
    " '30\\nNEW\\nTalking\\n¥$: Kanye West & Ty Dolla $ign Featuring North West\\n-\\n30\\n1',\n",
    " '31\\nYes, And?\\nAriana Grande\\n21\\n1\\n5',\n",
    " '32\\nMade For Me\\nMuni Long\\n28\\n28\\n5',\n",
    " '33\\nNEW\\nBurn\\n¥$: Kanye West & Ty Dolla $ign\\n-\\n33\\n1',\n",
    " '34\\nNEW\\nVultures\\n¥$: Kanye West & Ty Dolla $ign Featuring Lil Durk & Bump J\\n-\\n34\\n1',\n",
    " '35\\nThe Painter\\nCody Johnson\\n30\\n30\\n19',\n",
    " '36\\nGood Good\\nUsher, Summer Walker & 21 Savage\\n45\\n25\\n27',\n",
    " '37\\nSelfish\\nJustin Timberlake\\n23\\n19\\n3',\n",
    " '38\\nNEW\\n16 Carriages\\nBeyonce\\n-\\n38\\n1',\n",
    " '39\\nNEW\\nStars\\n¥$: Kanye West & Ty Dolla $ign\\n-\\n39\\n1',\n",
    " '40\\nEverybody\\nNicki Minaj Featuring Lil Uzi Vert\\n27\\n24\\n10',\n",
    " '41\\nRich Baby Daddy\\nDrake Featuring Sexyy Red & SZA\\n32\\n11\\n19',\n",
    " '42\\nFeather\\nSabrina Carpenter\\n36\\n36\\n11',\n",
    " '43\\nVampire\\nOlivia Rodrigo\\n29\\n1\\n30',\n",
    " '44\\nOn My Mama\\nVictoria Monet\\n33\\n33\\n22',\n",
    " '45\\nWild Ones\\nJessie Murph & Jelly Roll\\n35\\n35\\n19',\n",
    " '46\\nDance The Night\\nDua Lipa\\n37\\n6\\n33',\n",
    " '47\\nSave Me\\nJelly Roll With Lainey Wilson\\n40\\n19\\n32',\n",
    " '48\\nHiss\\nMegan Thee Stallion\\n13\\n1\\n3',\n",
    " '49\\nExes\\nTate McRae\\n34\\n34\\n13',\n",
    " '50\\nNeed A Favor\\nJelly Roll\\n39\\n13\\n44',\n",
    " '51\\nTruck Bed\\nHARDY\\n46\\n36\\n35',\n",
    " '52\\nNEW\\nDo It\\n¥$: Kanye West & Ty Dolla $ign\\n-\\n52\\n1',\n",
    " '53\\nNEW\\nPaid\\n¥$: Kanye West & Ty Dolla $ign\\n-\\n53\\n1',\n",
    " '54\\nSurround Sound\\nJID Featuring 21 Savage & Baby Tate\\n48\\n40\\n14',\n",
    " '55\\nNEW\\nKeys To My Life\\n¥$: Kanye West & Ty Dolla $ign\\n-\\n55\\n1',\n",
    " '56\\nWorld On Fire\\nNate Smith\\n44\\n21\\n16',\n",
    " '57\\nFirst Person Shooter\\nDrake Featuring J. Cole\\n47\\n1\\n19',\n",
    " '58\\nLa Victima\\nXavi\\n56\\n46\\n9',\n",
    " '59\\nGet In With Me\\nBossMan Dlow\\n68\\n59\\n2',\n",
    " '60\\nBurn It Down\\nParker McCollum\\n55\\n52\\n17',\n",
    " '61\\nStanding Next To You\\nJung Kook\\n81\\n5\\n15',\n",
    " '62\\nThink U The Shit (Fart)\\nIce Spice\\n52\\n37\\n3',\n",
    " '63\\nPraise Jah In The Moonlight\\nYG Marley\\n60\\n60\\n3',\n",
    " '64\\nNEW\\nPaperwork\\n¥$: Kanye West & Ty Dolla $ign\\n-\\n64\\n1',\n",
    " '65\\nNEW\\nBeg Forgiveness\\n¥$: Kanye West & Ty Dolla $ign\\n-\\n65\\n1',\n",
    " '66\\nMan Made A Bar\\nMorgan Wallen Featuring Eric Church\\n63\\n15\\n21',\n",
    " '67\\nNEW\\nHoodrat\\n¥$: Kanye West & Ty Dolla $ign\\n-\\n67\\n1',\n",
    " '68\\nOne Call\\nRich Amiri\\n64\\n64\\n3',\n",
    " '69\\nIgual Que Un Angel\\nKali Uchis & Peso Pluma\\n53\\n22\\n5',\n",
    " '70\\nSpin You Around (1/24)\\nMorgan Wallen\\n51\\n24\\n3',\n",
    " '71\\nFTCU\\nNicki Minaj\\n54\\n15\\n10',\n",
    " '72\\nOne Of The Girls\\nThe Weeknd, Jennie & Lily Rose Depp\\n57\\n57\\n8',\n",
    " '73\\nMurder On The Dancefloor\\nSophie Ellis-Bextor\\n59\\n51\\n7',\n",
    " '74\\nYou Broke My Heart\\nDrake\\n65\\n11\\n13',\n",
    " '75\\nNorthern Attitude\\nNoah Kahan With Hozier\\n97\\n37\\n11',\n",
    " '76\\nFE!N\\nTravis Scott Featuring Playboi Carti\\n69\\n5\\n16',\n",
    " '77\\n23\\nChayce Beckham\\n74\\n64\\n7',\n",
    " '78\\nBandit\\nDon Toliver\\n38\\n38\\n2',\n",
    " '79\\nNEW\\nProblematic\\n¥$: Kanye West & Ty Dolla $ign\\n-\\n79\\n1',\n",
    " '80\\nNee-nah\\n21 Savage, Travis Scott & Metro Boomin\\n58\\n10\\n5',\n",
    " '81\\nAct II: Date @ 8\\n4Batz\\n61\\n59\\n6',\n",
    " '82\\nI Can Feel It\\nKane Brown\\n73\\n59\\n7',\n",
    " \"83\\nMamaw's House\\nThomas Rhett Featuring Morgan Wallen\\n78\\n55\\n7\",\n",
    " '84\\nSoak City\\n310babii\\n76\\n61\\n9',\n",
    " '85\\nHarley Quinn\\nFuerza Regida & Marshmello\\n67\\n40\\n15',\n",
    " \"86\\nNEW\\nYou're Gonna Go Far\\nNoah Kahan\\n-\\n86\\n1\",\n",
    " '87\\nBellakeo\\nPeso Pluma & Anitta\\n70\\n53\\n9',\n",
    " '88\\nIDGAF\\nDrake Featuring Yeat\\n72\\n2\\n19',\n",
    " '89\\nNEW\\nYeah Glo!\\nGloRilla\\n-\\n89\\n1',\n",
    " \"90\\nDifferent 'Round Here\\nRiley Green Featuring Luke Combs\\n66\\n60\\n11\",\n",
    " '91\\nRE- ENTRY\\nShe Calls Me Back\\nNoah Kahan With Kacey Musgraves\\n-\\n76\\n2',\n",
    " \"92\\nWe Don't Fight Anymore\\nCarly Pearce Featuring Chris Stapleton\\n79\\n67\\n9\",\n",
    " \"93\\nNEW\\nGood (Don't Die)\\n¥$: Kanye West & Ty Dolla $ign\\n-\\n93\\n1\",\n",
    " '94\\nNEW\\nKing\\n¥$: Kanye West & Ty Dolla $ign\\n-\\n94\\n1',\n",
    " '95\\nCoal\\nDylan Gossett\\n86\\n86\\n6',\n",
    " '96\\nMmhmm\\nBigXthaPlug\\n83\\n65\\n8',\n",
    " '97\\nMonaco\\nBad Bunny\\n77\\n5\\n18',\n",
    " '98\\nProve It\\n21 Savage & Summer Walker\\n75\\n43\\n5',\n",
    " '99\\nPerro Negro\\nBad Bunny & Feid\\n82\\n20\\n15',\n",
    " '100\\nNEW\\nSunday Service\\nLatto\\n-\\n100\\n1']\n",
    "data = [row.replace('NEW', '') for row in data]\n"
   ]
  },
  {
   "cell_type": "code",
   "execution_count": 259,
   "id": "da08bb6d",
   "metadata": {},
   "outputs": [
    {
     "data": {
      "text/plain": [
       "['1\\nLovin On Me\\nJack Harlow\\n1\\n1\\n14',\n",
       " \"2\\n\\nTexas Hold 'Em\\nBeyonce\\n-\\n2\\n1\",\n",
       " '3\\n\\nCarnival\\n¥$: Kanye West & Ty Dolla $ign\\n-\\n3\\n1',\n",
       " '4\\nBeautiful Things\\nBenson Boone\\n3\\n3\\n4',\n",
       " '5\\nLose Control\\nTeddy Swims\\n2\\n2\\n27',\n",
       " '6\\nCruel Summer\\nTaylor Swift\\n4\\n1\\n41',\n",
       " '7\\nSnooze\\nSZA\\n5\\n2\\n61',\n",
       " '8\\nI Remember Everything\\nZach Bryan Featuring Kacey Musgraves\\n6\\n1\\n25',\n",
       " '9\\nGreedy\\nTate McRae\\n7\\n3\\n22',\n",
       " '10\\nStick Season\\nNoah Kahan\\n11\\n10\\n20',\n",
       " '11\\nFast Car\\nLuke Combs\\n8\\n2\\n47',\n",
       " '12\\nAgora Hills\\nDoja Cat\\n9\\n7\\n21',\n",
       " '13\\nWater\\nTyla\\n12\\n7\\n20',\n",
       " '14\\nLast Night\\nMorgan Wallen\\n15\\n1\\n55',\n",
       " '15\\nRedrum\\n21 Savage\\n14\\n5\\n5',\n",
       " \"16\\nThinkin' Bout Me\\nMorgan Wallen\\n16\\n7\\n50\",\n",
       " '17\\nFlowers\\nMiley Cyrus\\n10\\n1\\n52',\n",
       " \"18\\nIs It Over Now? (Taylor's Version) [From The Vault]\\nTaylor Swift\\n18\\n1\\n16\",\n",
       " '19\\nPaint The Town Red\\nDoja Cat\\n17\\n1\\n28',\n",
       " '20\\nRE- ENTRY\\nYeah!\\nUsher Featuring Lil Jon & Ludacris\\n-\\n1\\n46',\n",
       " '21\\nNever Lose Me\\nFlo Milli\\n19\\n18\\n9',\n",
       " '22\\nLa Diabla\\nXavi\\n25\\n20\\n9',\n",
       " '23\\n\\nFuk Sumn\\n¥$: Kanye West & Ty Dolla $ign\\n-\\n23\\n1',\n",
       " '24\\nPretty Little Poison\\nWarren Zeiders\\n24\\n24\\n23',\n",
       " '25\\nHoudini\\nDua Lipa\\n22\\n11\\n14',\n",
       " '26\\n\\nBack To Me\\n¥$: Kanye West & Ty Dolla $ign\\n-\\n26\\n1',\n",
       " '27\\nWhat Was I Made For?\\nBillie Eilish\\n20\\n14\\n30',\n",
       " '28\\n\\nForever\\nNoah Kahan\\n-\\n28\\n1',\n",
       " '29\\nWhere The Wild Things Are\\nLuke Combs\\n26\\n26\\n13',\n",
       " '30\\n\\nTalking\\n¥$: Kanye West & Ty Dolla $ign Featuring North West\\n-\\n30\\n1',\n",
       " '31\\nYes, And?\\nAriana Grande\\n21\\n1\\n5',\n",
       " '32\\nMade For Me\\nMuni Long\\n28\\n28\\n5',\n",
       " '33\\n\\nBurn\\n¥$: Kanye West & Ty Dolla $ign\\n-\\n33\\n1',\n",
       " '34\\n\\nVultures\\n¥$: Kanye West & Ty Dolla $ign Featuring Lil Durk & Bump J\\n-\\n34\\n1',\n",
       " '35\\nThe Painter\\nCody Johnson\\n30\\n30\\n19',\n",
       " '36\\nGood Good\\nUsher, Summer Walker & 21 Savage\\n45\\n25\\n27',\n",
       " '37\\nSelfish\\nJustin Timberlake\\n23\\n19\\n3',\n",
       " '38\\n\\n16 Carriages\\nBeyonce\\n-\\n38\\n1',\n",
       " '39\\n\\nStars\\n¥$: Kanye West & Ty Dolla $ign\\n-\\n39\\n1',\n",
       " '40\\nEverybody\\nNicki Minaj Featuring Lil Uzi Vert\\n27\\n24\\n10',\n",
       " '41\\nRich Baby Daddy\\nDrake Featuring Sexyy Red & SZA\\n32\\n11\\n19',\n",
       " '42\\nFeather\\nSabrina Carpenter\\n36\\n36\\n11',\n",
       " '43\\nVampire\\nOlivia Rodrigo\\n29\\n1\\n30',\n",
       " '44\\nOn My Mama\\nVictoria Monet\\n33\\n33\\n22',\n",
       " '45\\nWild Ones\\nJessie Murph & Jelly Roll\\n35\\n35\\n19',\n",
       " '46\\nDance The Night\\nDua Lipa\\n37\\n6\\n33',\n",
       " '47\\nSave Me\\nJelly Roll With Lainey Wilson\\n40\\n19\\n32',\n",
       " '48\\nHiss\\nMegan Thee Stallion\\n13\\n1\\n3',\n",
       " '49\\nExes\\nTate McRae\\n34\\n34\\n13',\n",
       " '50\\nNeed A Favor\\nJelly Roll\\n39\\n13\\n44',\n",
       " '51\\nTruck Bed\\nHARDY\\n46\\n36\\n35',\n",
       " '52\\n\\nDo It\\n¥$: Kanye West & Ty Dolla $ign\\n-\\n52\\n1',\n",
       " '53\\n\\nPaid\\n¥$: Kanye West & Ty Dolla $ign\\n-\\n53\\n1',\n",
       " '54\\nSurround Sound\\nJID Featuring 21 Savage & Baby Tate\\n48\\n40\\n14',\n",
       " '55\\n\\nKeys To My Life\\n¥$: Kanye West & Ty Dolla $ign\\n-\\n55\\n1',\n",
       " '56\\nWorld On Fire\\nNate Smith\\n44\\n21\\n16',\n",
       " '57\\nFirst Person Shooter\\nDrake Featuring J. Cole\\n47\\n1\\n19',\n",
       " '58\\nLa Victima\\nXavi\\n56\\n46\\n9',\n",
       " '59\\nGet In With Me\\nBossMan Dlow\\n68\\n59\\n2',\n",
       " '60\\nBurn It Down\\nParker McCollum\\n55\\n52\\n17',\n",
       " '61\\nStanding Next To You\\nJung Kook\\n81\\n5\\n15',\n",
       " '62\\nThink U The Shit (Fart)\\nIce Spice\\n52\\n37\\n3',\n",
       " '63\\nPraise Jah In The Moonlight\\nYG Marley\\n60\\n60\\n3',\n",
       " '64\\n\\nPaperwork\\n¥$: Kanye West & Ty Dolla $ign\\n-\\n64\\n1',\n",
       " '65\\n\\nBeg Forgiveness\\n¥$: Kanye West & Ty Dolla $ign\\n-\\n65\\n1',\n",
       " '66\\nMan Made A Bar\\nMorgan Wallen Featuring Eric Church\\n63\\n15\\n21',\n",
       " '67\\n\\nHoodrat\\n¥$: Kanye West & Ty Dolla $ign\\n-\\n67\\n1',\n",
       " '68\\nOne Call\\nRich Amiri\\n64\\n64\\n3',\n",
       " '69\\nIgual Que Un Angel\\nKali Uchis & Peso Pluma\\n53\\n22\\n5',\n",
       " '70\\nSpin You Around (1/24)\\nMorgan Wallen\\n51\\n24\\n3',\n",
       " '71\\nFTCU\\nNicki Minaj\\n54\\n15\\n10',\n",
       " '72\\nOne Of The Girls\\nThe Weeknd, Jennie & Lily Rose Depp\\n57\\n57\\n8',\n",
       " '73\\nMurder On The Dancefloor\\nSophie Ellis-Bextor\\n59\\n51\\n7',\n",
       " '74\\nYou Broke My Heart\\nDrake\\n65\\n11\\n13',\n",
       " '75\\nNorthern Attitude\\nNoah Kahan With Hozier\\n97\\n37\\n11',\n",
       " '76\\nFE!N\\nTravis Scott Featuring Playboi Carti\\n69\\n5\\n16',\n",
       " '77\\n23\\nChayce Beckham\\n74\\n64\\n7',\n",
       " '78\\nBandit\\nDon Toliver\\n38\\n38\\n2',\n",
       " '79\\n\\nProblematic\\n¥$: Kanye West & Ty Dolla $ign\\n-\\n79\\n1',\n",
       " '80\\nNee-nah\\n21 Savage, Travis Scott & Metro Boomin\\n58\\n10\\n5',\n",
       " '81\\nAct II: Date @ 8\\n4Batz\\n61\\n59\\n6',\n",
       " '82\\nI Can Feel It\\nKane Brown\\n73\\n59\\n7',\n",
       " \"83\\nMamaw's House\\nThomas Rhett Featuring Morgan Wallen\\n78\\n55\\n7\",\n",
       " '84\\nSoak City\\n310babii\\n76\\n61\\n9',\n",
       " '85\\nHarley Quinn\\nFuerza Regida & Marshmello\\n67\\n40\\n15',\n",
       " \"86\\n\\nYou're Gonna Go Far\\nNoah Kahan\\n-\\n86\\n1\",\n",
       " '87\\nBellakeo\\nPeso Pluma & Anitta\\n70\\n53\\n9',\n",
       " '88\\nIDGAF\\nDrake Featuring Yeat\\n72\\n2\\n19',\n",
       " '89\\n\\nYeah Glo!\\nGloRilla\\n-\\n89\\n1',\n",
       " \"90\\nDifferent 'Round Here\\nRiley Green Featuring Luke Combs\\n66\\n60\\n11\",\n",
       " '91\\nRE- ENTRY\\nShe Calls Me Back\\nNoah Kahan With Kacey Musgraves\\n-\\n76\\n2',\n",
       " \"92\\nWe Don't Fight Anymore\\nCarly Pearce Featuring Chris Stapleton\\n79\\n67\\n9\",\n",
       " \"93\\n\\nGood (Don't Die)\\n¥$: Kanye West & Ty Dolla $ign\\n-\\n93\\n1\",\n",
       " '94\\n\\nKing\\n¥$: Kanye West & Ty Dolla $ign\\n-\\n94\\n1',\n",
       " '95\\nCoal\\nDylan Gossett\\n86\\n86\\n6',\n",
       " '96\\nMmhmm\\nBigXthaPlug\\n83\\n65\\n8',\n",
       " '97\\nMonaco\\nBad Bunny\\n77\\n5\\n18',\n",
       " '98\\nProve It\\n21 Savage & Summer Walker\\n75\\n43\\n5',\n",
       " '99\\nPerro Negro\\nBad Bunny & Feid\\n82\\n20\\n15',\n",
       " '100\\n\\nSunday Service\\nLatto\\n-\\n100\\n1']"
      ]
     },
     "execution_count": 259,
     "metadata": {},
     "output_type": "execute_result"
    }
   ],
   "source": [
    "data"
   ]
  },
  {
   "cell_type": "code",
   "execution_count": 260,
   "id": "ca53216c",
   "metadata": {},
   "outputs": [],
   "source": [
    "import re"
   ]
  },
  {
   "cell_type": "code",
   "execution_count": 261,
   "id": "ec91247f",
   "metadata": {},
   "outputs": [],
   "source": [
    "data = [re.sub(r'\\n\\n', '\\n', item) for item in data]"
   ]
  },
  {
   "cell_type": "code",
   "execution_count": 262,
   "id": "aed138cf",
   "metadata": {},
   "outputs": [
    {
     "data": {
      "text/plain": [
       "['1\\nLovin On Me\\nJack Harlow\\n1\\n1\\n14',\n",
       " \"2\\nTexas Hold 'Em\\nBeyonce\\n-\\n2\\n1\",\n",
       " '3\\nCarnival\\n¥$: Kanye West & Ty Dolla $ign\\n-\\n3\\n1',\n",
       " '4\\nBeautiful Things\\nBenson Boone\\n3\\n3\\n4',\n",
       " '5\\nLose Control\\nTeddy Swims\\n2\\n2\\n27',\n",
       " '6\\nCruel Summer\\nTaylor Swift\\n4\\n1\\n41',\n",
       " '7\\nSnooze\\nSZA\\n5\\n2\\n61',\n",
       " '8\\nI Remember Everything\\nZach Bryan Featuring Kacey Musgraves\\n6\\n1\\n25',\n",
       " '9\\nGreedy\\nTate McRae\\n7\\n3\\n22',\n",
       " '10\\nStick Season\\nNoah Kahan\\n11\\n10\\n20',\n",
       " '11\\nFast Car\\nLuke Combs\\n8\\n2\\n47',\n",
       " '12\\nAgora Hills\\nDoja Cat\\n9\\n7\\n21',\n",
       " '13\\nWater\\nTyla\\n12\\n7\\n20',\n",
       " '14\\nLast Night\\nMorgan Wallen\\n15\\n1\\n55',\n",
       " '15\\nRedrum\\n21 Savage\\n14\\n5\\n5',\n",
       " \"16\\nThinkin' Bout Me\\nMorgan Wallen\\n16\\n7\\n50\",\n",
       " '17\\nFlowers\\nMiley Cyrus\\n10\\n1\\n52',\n",
       " \"18\\nIs It Over Now? (Taylor's Version) [From The Vault]\\nTaylor Swift\\n18\\n1\\n16\",\n",
       " '19\\nPaint The Town Red\\nDoja Cat\\n17\\n1\\n28',\n",
       " '20\\nRE- ENTRY\\nYeah!\\nUsher Featuring Lil Jon & Ludacris\\n-\\n1\\n46',\n",
       " '21\\nNever Lose Me\\nFlo Milli\\n19\\n18\\n9',\n",
       " '22\\nLa Diabla\\nXavi\\n25\\n20\\n9',\n",
       " '23\\nFuk Sumn\\n¥$: Kanye West & Ty Dolla $ign\\n-\\n23\\n1',\n",
       " '24\\nPretty Little Poison\\nWarren Zeiders\\n24\\n24\\n23',\n",
       " '25\\nHoudini\\nDua Lipa\\n22\\n11\\n14',\n",
       " '26\\nBack To Me\\n¥$: Kanye West & Ty Dolla $ign\\n-\\n26\\n1',\n",
       " '27\\nWhat Was I Made For?\\nBillie Eilish\\n20\\n14\\n30',\n",
       " '28\\nForever\\nNoah Kahan\\n-\\n28\\n1',\n",
       " '29\\nWhere The Wild Things Are\\nLuke Combs\\n26\\n26\\n13',\n",
       " '30\\nTalking\\n¥$: Kanye West & Ty Dolla $ign Featuring North West\\n-\\n30\\n1',\n",
       " '31\\nYes, And?\\nAriana Grande\\n21\\n1\\n5',\n",
       " '32\\nMade For Me\\nMuni Long\\n28\\n28\\n5',\n",
       " '33\\nBurn\\n¥$: Kanye West & Ty Dolla $ign\\n-\\n33\\n1',\n",
       " '34\\nVultures\\n¥$: Kanye West & Ty Dolla $ign Featuring Lil Durk & Bump J\\n-\\n34\\n1',\n",
       " '35\\nThe Painter\\nCody Johnson\\n30\\n30\\n19',\n",
       " '36\\nGood Good\\nUsher, Summer Walker & 21 Savage\\n45\\n25\\n27',\n",
       " '37\\nSelfish\\nJustin Timberlake\\n23\\n19\\n3',\n",
       " '38\\n16 Carriages\\nBeyonce\\n-\\n38\\n1',\n",
       " '39\\nStars\\n¥$: Kanye West & Ty Dolla $ign\\n-\\n39\\n1',\n",
       " '40\\nEverybody\\nNicki Minaj Featuring Lil Uzi Vert\\n27\\n24\\n10',\n",
       " '41\\nRich Baby Daddy\\nDrake Featuring Sexyy Red & SZA\\n32\\n11\\n19',\n",
       " '42\\nFeather\\nSabrina Carpenter\\n36\\n36\\n11',\n",
       " '43\\nVampire\\nOlivia Rodrigo\\n29\\n1\\n30',\n",
       " '44\\nOn My Mama\\nVictoria Monet\\n33\\n33\\n22',\n",
       " '45\\nWild Ones\\nJessie Murph & Jelly Roll\\n35\\n35\\n19',\n",
       " '46\\nDance The Night\\nDua Lipa\\n37\\n6\\n33',\n",
       " '47\\nSave Me\\nJelly Roll With Lainey Wilson\\n40\\n19\\n32',\n",
       " '48\\nHiss\\nMegan Thee Stallion\\n13\\n1\\n3',\n",
       " '49\\nExes\\nTate McRae\\n34\\n34\\n13',\n",
       " '50\\nNeed A Favor\\nJelly Roll\\n39\\n13\\n44',\n",
       " '51\\nTruck Bed\\nHARDY\\n46\\n36\\n35',\n",
       " '52\\nDo It\\n¥$: Kanye West & Ty Dolla $ign\\n-\\n52\\n1',\n",
       " '53\\nPaid\\n¥$: Kanye West & Ty Dolla $ign\\n-\\n53\\n1',\n",
       " '54\\nSurround Sound\\nJID Featuring 21 Savage & Baby Tate\\n48\\n40\\n14',\n",
       " '55\\nKeys To My Life\\n¥$: Kanye West & Ty Dolla $ign\\n-\\n55\\n1',\n",
       " '56\\nWorld On Fire\\nNate Smith\\n44\\n21\\n16',\n",
       " '57\\nFirst Person Shooter\\nDrake Featuring J. Cole\\n47\\n1\\n19',\n",
       " '58\\nLa Victima\\nXavi\\n56\\n46\\n9',\n",
       " '59\\nGet In With Me\\nBossMan Dlow\\n68\\n59\\n2',\n",
       " '60\\nBurn It Down\\nParker McCollum\\n55\\n52\\n17',\n",
       " '61\\nStanding Next To You\\nJung Kook\\n81\\n5\\n15',\n",
       " '62\\nThink U The Shit (Fart)\\nIce Spice\\n52\\n37\\n3',\n",
       " '63\\nPraise Jah In The Moonlight\\nYG Marley\\n60\\n60\\n3',\n",
       " '64\\nPaperwork\\n¥$: Kanye West & Ty Dolla $ign\\n-\\n64\\n1',\n",
       " '65\\nBeg Forgiveness\\n¥$: Kanye West & Ty Dolla $ign\\n-\\n65\\n1',\n",
       " '66\\nMan Made A Bar\\nMorgan Wallen Featuring Eric Church\\n63\\n15\\n21',\n",
       " '67\\nHoodrat\\n¥$: Kanye West & Ty Dolla $ign\\n-\\n67\\n1',\n",
       " '68\\nOne Call\\nRich Amiri\\n64\\n64\\n3',\n",
       " '69\\nIgual Que Un Angel\\nKali Uchis & Peso Pluma\\n53\\n22\\n5',\n",
       " '70\\nSpin You Around (1/24)\\nMorgan Wallen\\n51\\n24\\n3',\n",
       " '71\\nFTCU\\nNicki Minaj\\n54\\n15\\n10',\n",
       " '72\\nOne Of The Girls\\nThe Weeknd, Jennie & Lily Rose Depp\\n57\\n57\\n8',\n",
       " '73\\nMurder On The Dancefloor\\nSophie Ellis-Bextor\\n59\\n51\\n7',\n",
       " '74\\nYou Broke My Heart\\nDrake\\n65\\n11\\n13',\n",
       " '75\\nNorthern Attitude\\nNoah Kahan With Hozier\\n97\\n37\\n11',\n",
       " '76\\nFE!N\\nTravis Scott Featuring Playboi Carti\\n69\\n5\\n16',\n",
       " '77\\n23\\nChayce Beckham\\n74\\n64\\n7',\n",
       " '78\\nBandit\\nDon Toliver\\n38\\n38\\n2',\n",
       " '79\\nProblematic\\n¥$: Kanye West & Ty Dolla $ign\\n-\\n79\\n1',\n",
       " '80\\nNee-nah\\n21 Savage, Travis Scott & Metro Boomin\\n58\\n10\\n5',\n",
       " '81\\nAct II: Date @ 8\\n4Batz\\n61\\n59\\n6',\n",
       " '82\\nI Can Feel It\\nKane Brown\\n73\\n59\\n7',\n",
       " \"83\\nMamaw's House\\nThomas Rhett Featuring Morgan Wallen\\n78\\n55\\n7\",\n",
       " '84\\nSoak City\\n310babii\\n76\\n61\\n9',\n",
       " '85\\nHarley Quinn\\nFuerza Regida & Marshmello\\n67\\n40\\n15',\n",
       " \"86\\nYou're Gonna Go Far\\nNoah Kahan\\n-\\n86\\n1\",\n",
       " '87\\nBellakeo\\nPeso Pluma & Anitta\\n70\\n53\\n9',\n",
       " '88\\nIDGAF\\nDrake Featuring Yeat\\n72\\n2\\n19',\n",
       " '89\\nYeah Glo!\\nGloRilla\\n-\\n89\\n1',\n",
       " \"90\\nDifferent 'Round Here\\nRiley Green Featuring Luke Combs\\n66\\n60\\n11\",\n",
       " '91\\nRE- ENTRY\\nShe Calls Me Back\\nNoah Kahan With Kacey Musgraves\\n-\\n76\\n2',\n",
       " \"92\\nWe Don't Fight Anymore\\nCarly Pearce Featuring Chris Stapleton\\n79\\n67\\n9\",\n",
       " \"93\\nGood (Don't Die)\\n¥$: Kanye West & Ty Dolla $ign\\n-\\n93\\n1\",\n",
       " '94\\nKing\\n¥$: Kanye West & Ty Dolla $ign\\n-\\n94\\n1',\n",
       " '95\\nCoal\\nDylan Gossett\\n86\\n86\\n6',\n",
       " '96\\nMmhmm\\nBigXthaPlug\\n83\\n65\\n8',\n",
       " '97\\nMonaco\\nBad Bunny\\n77\\n5\\n18',\n",
       " '98\\nProve It\\n21 Savage & Summer Walker\\n75\\n43\\n5',\n",
       " '99\\nPerro Negro\\nBad Bunny & Feid\\n82\\n20\\n15',\n",
       " '100\\nSunday Service\\nLatto\\n-\\n100\\n1']"
      ]
     },
     "execution_count": 262,
     "metadata": {},
     "output_type": "execute_result"
    }
   ],
   "source": [
    "data"
   ]
  },
  {
   "cell_type": "code",
   "execution_count": 263,
   "id": "53c9688f",
   "metadata": {},
   "outputs": [],
   "source": [
    "rank = []\n",
    "for item in data:\n",
    "  rank.append(item.split('\\n')[0])\n",
    "\n",
    "song_name = []\n",
    "for item in data:\n",
    "  song_name.append(item.split('\\n')[1])\n",
    "\n",
    "artist_name = []\n",
    "for item in data:\n",
    "  artist_name.append(item.split('\\n')[2])\n",
    "\n",
    "last_week_rank = []\n",
    "for item in data:\n",
    "  last_week_rank.append(item.split('\\n')[3])\n",
    "\n",
    "peak_rank = []\n",
    "for item in data:\n",
    "  peak_rank.append(item.split('\\n')[4])\n",
    "\n",
    "Weeks_on_board= []\n",
    "for item in data:\n",
    "  Weeks_on_board.append(item.split('\\n')[5])\n"
   ]
  },
  {
   "cell_type": "code",
   "execution_count": 264,
   "id": "f2630931",
   "metadata": {},
   "outputs": [],
   "source": [
    "import pandas as pd"
   ]
  },
  {
   "cell_type": "code",
   "execution_count": 265,
   "id": "ed150c64",
   "metadata": {},
   "outputs": [],
   "source": [
    "df = pd.DataFrame({'Rank': rank , 'Song name' : song_name , 'Artist name': artist_name , 'Last week rank': last_week_rank , 'Peak rank': peak_rank , 'Weeks on board': Weeks_on_board})"
   ]
  },
  {
   "cell_type": "markdown",
   "id": "94a012c3",
   "metadata": {},
   "source": [
    "# 5 - Output"
   ]
  },
  {
   "cell_type": "code",
   "execution_count": 266,
   "id": "cc05948a",
   "metadata": {
    "scrolled": true
   },
   "outputs": [
    {
     "data": {
      "text/html": [
       "<div>\n",
       "<style scoped>\n",
       "    .dataframe tbody tr th:only-of-type {\n",
       "        vertical-align: middle;\n",
       "    }\n",
       "\n",
       "    .dataframe tbody tr th {\n",
       "        vertical-align: top;\n",
       "    }\n",
       "\n",
       "    .dataframe thead th {\n",
       "        text-align: right;\n",
       "    }\n",
       "</style>\n",
       "<table border=\"1\" class=\"dataframe\">\n",
       "  <thead>\n",
       "    <tr style=\"text-align: right;\">\n",
       "      <th></th>\n",
       "      <th>Rank</th>\n",
       "      <th>Song name</th>\n",
       "      <th>Artist name</th>\n",
       "      <th>Last week rank</th>\n",
       "      <th>Peak rank</th>\n",
       "      <th>Weeks on board</th>\n",
       "    </tr>\n",
       "  </thead>\n",
       "  <tbody>\n",
       "    <tr>\n",
       "      <th>0</th>\n",
       "      <td>1</td>\n",
       "      <td>Lovin On Me</td>\n",
       "      <td>Jack Harlow</td>\n",
       "      <td>1</td>\n",
       "      <td>1</td>\n",
       "      <td>14</td>\n",
       "    </tr>\n",
       "    <tr>\n",
       "      <th>1</th>\n",
       "      <td>2</td>\n",
       "      <td>Texas Hold 'Em</td>\n",
       "      <td>Beyonce</td>\n",
       "      <td>-</td>\n",
       "      <td>2</td>\n",
       "      <td>1</td>\n",
       "    </tr>\n",
       "    <tr>\n",
       "      <th>2</th>\n",
       "      <td>3</td>\n",
       "      <td>Carnival</td>\n",
       "      <td>¥$: Kanye West &amp; Ty Dolla $ign</td>\n",
       "      <td>-</td>\n",
       "      <td>3</td>\n",
       "      <td>1</td>\n",
       "    </tr>\n",
       "    <tr>\n",
       "      <th>3</th>\n",
       "      <td>4</td>\n",
       "      <td>Beautiful Things</td>\n",
       "      <td>Benson Boone</td>\n",
       "      <td>3</td>\n",
       "      <td>3</td>\n",
       "      <td>4</td>\n",
       "    </tr>\n",
       "    <tr>\n",
       "      <th>4</th>\n",
       "      <td>5</td>\n",
       "      <td>Lose Control</td>\n",
       "      <td>Teddy Swims</td>\n",
       "      <td>2</td>\n",
       "      <td>2</td>\n",
       "      <td>27</td>\n",
       "    </tr>\n",
       "    <tr>\n",
       "      <th>...</th>\n",
       "      <td>...</td>\n",
       "      <td>...</td>\n",
       "      <td>...</td>\n",
       "      <td>...</td>\n",
       "      <td>...</td>\n",
       "      <td>...</td>\n",
       "    </tr>\n",
       "    <tr>\n",
       "      <th>95</th>\n",
       "      <td>96</td>\n",
       "      <td>Mmhmm</td>\n",
       "      <td>BigXthaPlug</td>\n",
       "      <td>83</td>\n",
       "      <td>65</td>\n",
       "      <td>8</td>\n",
       "    </tr>\n",
       "    <tr>\n",
       "      <th>96</th>\n",
       "      <td>97</td>\n",
       "      <td>Monaco</td>\n",
       "      <td>Bad Bunny</td>\n",
       "      <td>77</td>\n",
       "      <td>5</td>\n",
       "      <td>18</td>\n",
       "    </tr>\n",
       "    <tr>\n",
       "      <th>97</th>\n",
       "      <td>98</td>\n",
       "      <td>Prove It</td>\n",
       "      <td>21 Savage &amp; Summer Walker</td>\n",
       "      <td>75</td>\n",
       "      <td>43</td>\n",
       "      <td>5</td>\n",
       "    </tr>\n",
       "    <tr>\n",
       "      <th>98</th>\n",
       "      <td>99</td>\n",
       "      <td>Perro Negro</td>\n",
       "      <td>Bad Bunny &amp; Feid</td>\n",
       "      <td>82</td>\n",
       "      <td>20</td>\n",
       "      <td>15</td>\n",
       "    </tr>\n",
       "    <tr>\n",
       "      <th>99</th>\n",
       "      <td>100</td>\n",
       "      <td>Sunday Service</td>\n",
       "      <td>Latto</td>\n",
       "      <td>-</td>\n",
       "      <td>100</td>\n",
       "      <td>1</td>\n",
       "    </tr>\n",
       "  </tbody>\n",
       "</table>\n",
       "<p>100 rows × 6 columns</p>\n",
       "</div>"
      ],
      "text/plain": [
       "   Rank         Song name                     Artist name Last week rank  \\\n",
       "0     1       Lovin On Me                     Jack Harlow              1   \n",
       "1     2    Texas Hold 'Em                         Beyonce              -   \n",
       "2     3          Carnival  ¥$: Kanye West & Ty Dolla $ign              -   \n",
       "3     4  Beautiful Things                    Benson Boone              3   \n",
       "4     5      Lose Control                     Teddy Swims              2   \n",
       "..  ...               ...                             ...            ...   \n",
       "95   96             Mmhmm                     BigXthaPlug             83   \n",
       "96   97            Monaco                       Bad Bunny             77   \n",
       "97   98          Prove It       21 Savage & Summer Walker             75   \n",
       "98   99       Perro Negro                Bad Bunny & Feid             82   \n",
       "99  100    Sunday Service                           Latto              -   \n",
       "\n",
       "   Peak rank Weeks on board  \n",
       "0          1             14  \n",
       "1          2              1  \n",
       "2          3              1  \n",
       "3          3              4  \n",
       "4          2             27  \n",
       "..       ...            ...  \n",
       "95        65              8  \n",
       "96         5             18  \n",
       "97        43              5  \n",
       "98        20             15  \n",
       "99       100              1  \n",
       "\n",
       "[100 rows x 6 columns]"
      ]
     },
     "execution_count": 266,
     "metadata": {},
     "output_type": "execute_result"
    }
   ],
   "source": [
    "df"
   ]
  },
  {
   "cell_type": "markdown",
   "id": "a91813f0",
   "metadata": {},
   "source": [
    "# Question - 6"
   ]
  },
  {
   "cell_type": "markdown",
   "id": "67c7fdca",
   "metadata": {},
   "source": [
    "6. Scrape the details of Highest selling novels. \n",
    "A) Book name \n",
    "B) Author name \n",
    "C) Volumes sold \n",
    "D) Publisher \n",
    "E) Genre\n",
    "\n",
    "Url - https://www.theguardian.com/news/datablog/2012/aug/09/best-selling-books-all-time-fifty-shades-grey-compare"
   ]
  },
  {
   "cell_type": "code",
   "execution_count": 267,
   "id": "8fa69814",
   "metadata": {},
   "outputs": [],
   "source": [
    "driver6 = webdriver.Chrome()"
   ]
  },
  {
   "cell_type": "code",
   "execution_count": 268,
   "id": "d3c7bf38",
   "metadata": {},
   "outputs": [],
   "source": [
    "driver6.get('https://www.theguardian.com/news/datablog/2012/aug/09/best-selling-books-all-time-fifty-shades-grey-compare')"
   ]
  },
  {
   "cell_type": "code",
   "execution_count": 269,
   "id": "59cf06d9",
   "metadata": {},
   "outputs": [],
   "source": [
    "table = driver6.find_elements(By.XPATH,'//*[@id=\"article-body-blocks\"]/div/table')"
   ]
  },
  {
   "cell_type": "code",
   "execution_count": 270,
   "id": "437b951a",
   "metadata": {},
   "outputs": [
    {
     "data": {
      "text/plain": [
       "[<selenium.webdriver.remote.webelement.WebElement (session=\"ed03565562e539a9b2f6c851a2742162\", element=\"3495ABD3E2FFCBE7BCDA4AADE2F65515_element_12\")>]"
      ]
     },
     "execution_count": 270,
     "metadata": {},
     "output_type": "execute_result"
    }
   ],
   "source": [
    "table"
   ]
  },
  {
   "cell_type": "code",
   "execution_count": 271,
   "id": "138ca67d",
   "metadata": {},
   "outputs": [],
   "source": [
    "Main_table = []"
   ]
  },
  {
   "cell_type": "code",
   "execution_count": 272,
   "id": "e9ace5a0",
   "metadata": {},
   "outputs": [],
   "source": [
    "main_table = table[0].find_elements(By.TAG_NAME,'tbody')\n",
    "for tbody in main_table:\n",
    "    tr_elements = tbody.find_elements(By.TAG_NAME, 'tr')  # Find <tr> elements within each <tbody>\n",
    "    for tr in tr_elements:\n",
    "        Main_table.append(tr.text)"
   ]
  },
  {
   "cell_type": "markdown",
   "id": "b198486d",
   "metadata": {},
   "source": [
    "# 6 - Output"
   ]
  },
  {
   "cell_type": "code",
   "execution_count": 273,
   "id": "a666c1dd",
   "metadata": {
    "scrolled": true
   },
   "outputs": [
    {
     "data": {
      "text/plain": [
       "['1 Da Vinci Code,The Brown, Dan 5,094,805 Transworld Crime, Thriller & Adventure',\n",
       " \"2 Harry Potter and the Deathly Hallows Rowling, J.K. 4,475,152 Bloomsbury Children's Fiction\",\n",
       " \"3 Harry Potter and the Philosopher's Stone Rowling, J.K. 4,200,654 Bloomsbury Children's Fiction\",\n",
       " \"4 Harry Potter and the Order of the Phoenix Rowling, J.K. 4,179,479 Bloomsbury Children's Fiction\",\n",
       " '5 Fifty Shades of Grey James, E. L. 3,758,936 Random House Romance & Sagas',\n",
       " \"6 Harry Potter and the Goblet of Fire Rowling, J.K. 3,583,215 Bloomsbury Children's Fiction\",\n",
       " \"7 Harry Potter and the Chamber of Secrets Rowling, J.K. 3,484,047 Bloomsbury Children's Fiction\",\n",
       " \"8 Harry Potter and the Prisoner of Azkaban Rowling, J.K. 3,377,906 Bloomsbury Children's Fiction\",\n",
       " '9 Angels and Demons Brown, Dan 3,193,946 Transworld Crime, Thriller & Adventure',\n",
       " \"10 Harry Potter and the Half-blood Prince:Children's Edition Rowling, J.K. 2,950,264 Bloomsbury Children's Fiction\",\n",
       " '11 Fifty Shades Darker James, E. L. 2,479,784 Random House Romance & Sagas',\n",
       " '12 Twilight Meyer, Stephenie 2,315,405 Little, Brown Book Young Adult Fiction',\n",
       " '13 Girl with the Dragon Tattoo,The:Millennium Trilogy Larsson, Stieg 2,233,570 Quercus Crime, Thriller & Adventure',\n",
       " '14 Fifty Shades Freed James, E. L. 2,193,928 Random House Romance & Sagas',\n",
       " '15 Lost Symbol,The Brown, Dan 2,183,031 Transworld Crime, Thriller & Adventure',\n",
       " '16 New Moon Meyer, Stephenie 2,152,737 Little, Brown Book Young Adult Fiction',\n",
       " '17 Deception Point Brown, Dan 2,062,145 Transworld Crime, Thriller & Adventure',\n",
       " '18 Eclipse Meyer, Stephenie 2,052,876 Little, Brown Book Young Adult Fiction',\n",
       " '19 Lovely Bones,The Sebold, Alice 2,005,598 Pan Macmillan General & Literary Fiction',\n",
       " '20 Curious Incident of the Dog in the Night-time,The Haddon, Mark 1,979,552 Random House General & Literary Fiction',\n",
       " '21 Digital Fortress Brown, Dan 1,928,900 Transworld Crime, Thriller & Adventure',\n",
       " '22 Short History of Nearly Everything,A Bryson, Bill 1,852,919 Transworld Popular Science',\n",
       " '23 Girl Who Played with Fire,The:Millennium Trilogy Larsson, Stieg 1,814,784 Quercus Crime, Thriller & Adventure',\n",
       " '24 Breaking Dawn Meyer, Stephenie 1,787,118 Little, Brown Book Young Adult Fiction',\n",
       " '25 Very Hungry Caterpillar,The:The Very Hungry Caterpillar Carle, Eric 1,783,535 Penguin Picture Books',\n",
       " '26 Gruffalo,The Donaldson, Julia 1,781,269 Pan Macmillan Picture Books',\n",
       " \"27 Jamie's 30-Minute Meals Oliver, Jamie 1,743,266 Penguin Food & Drink: General\",\n",
       " '28 Kite Runner,The Hosseini, Khaled 1,629,119 Bloomsbury General & Literary Fiction',\n",
       " '29 One Day Nicholls, David 1,616,068 Hodder & Stoughton General & Literary Fiction',\n",
       " '30 Thousand Splendid Suns,A Hosseini, Khaled 1,583,992 Bloomsbury General & Literary Fiction',\n",
       " \"31 Girl Who Kicked the Hornets' Nest,The:Millennium Trilogy Larsson, Stieg 1,555,135 Quercus Crime, Thriller & Adventure\",\n",
       " \"32 Time Traveler's Wife,The Niffenegger, Audrey 1,546,886 Random House General & Literary Fiction\",\n",
       " '33 Atonement McEwan, Ian 1,539,428 Random House General & Literary Fiction',\n",
       " \"34 Bridget Jones's Diary:A Novel Fielding, Helen 1,508,205 Pan Macmillan General & Literary Fiction\",\n",
       " '35 World According to Clarkson,The Clarkson, Jeremy 1,489,403 Penguin Humour: Collections & General',\n",
       " \"36 Captain Corelli's Mandolin Bernieres, Louis de 1,352,318 Random House General & Literary Fiction\",\n",
       " '37 Sound of Laughter,The Kay, Peter 1,310,207 Random House Autobiography: General',\n",
       " '38 Life of Pi Martel, Yann 1,310,176 Canongate General & Literary Fiction',\n",
       " '39 Billy Connolly Stephenson, Pamela 1,231,957 HarperCollins Biography: The Arts',\n",
       " '40 Child Called It,A Pelzer, Dave 1,217,712 Orion Autobiography: General',\n",
       " \"41 Gruffalo's Child,The Donaldson, Julia 1,208,711 Pan Macmillan Picture Books\",\n",
       " \"42 Angela's Ashes:A Memoir of a Childhood McCourt, Frank 1,204,058 HarperCollins Autobiography: General\",\n",
       " '43 Birdsong Faulks, Sebastian 1,184,967 Random House General & Literary Fiction',\n",
       " '44 Northern Lights:His Dark Materials S. Pullman, Philip 1,181,503 Scholastic Ltd. Young Adult Fiction',\n",
       " '45 Labyrinth Mosse, Kate 1,181,093 Orion General & Literary Fiction',\n",
       " '46 Harry Potter and the Half-blood Prince Rowling, J.K. 1,153,181 Bloomsbury Science Fiction & Fantasy',\n",
       " '47 Help,The Stockett, Kathryn 1,132,336 Penguin General & Literary Fiction',\n",
       " '48 Man and Boy Parsons, Tony 1,130,802 HarperCollins General & Literary Fiction',\n",
       " '49 Memoirs of a Geisha Golden, Arthur 1,126,337 Random House General & Literary Fiction',\n",
       " \"50 No.1 Ladies' Detective Agency,The:No.1 Ladies' Detective Agency S. McCall Smith, Alexander 1,115,549 Little, Brown Book Crime, Thriller & Adventure\",\n",
       " '51 Island,The Hislop, Victoria 1,108,328 Headline General & Literary Fiction',\n",
       " '52 PS, I Love You Ahern, Cecelia 1,107,379 HarperCollins General & Literary Fiction',\n",
       " '53 You are What You Eat:The Plan That Will Change Your Life McKeith, Gillian 1,104,403 Penguin Fitness & Diet',\n",
       " '54 Shadow of the Wind,The Zafon, Carlos Ruiz 1,092,349 Orion General & Literary Fiction',\n",
       " \"55 Tales of Beedle the Bard,The Rowling, J.K. 1,090,847 Bloomsbury Children's Fiction\",\n",
       " '56 Broker,The Grisham, John 1,087,262 Random House Crime, Thriller & Adventure',\n",
       " \"57 Dr. Atkins' New Diet Revolution:The No-hunger, Luxurious Weight Loss P Atkins, Robert C. 1,054,196 Random House Fitness & Diet\",\n",
       " '58 Subtle Knife,The:His Dark Materials S. Pullman, Philip 1,037,160 Scholastic Ltd. Young Adult Fiction',\n",
       " '59 Eats, Shoots and Leaves:The Zero Tolerance Approach to Punctuation Truss, Lynne 1,023,688 Profile Books Group Usage & Writing Guides',\n",
       " \"60 Delia's How to Cook:(Bk.1) Smith, Delia 1,015,956 Random House Food & Drink: General\",\n",
       " '61 Chocolat Harris, Joanne 1,009,873 Transworld General & Literary Fiction',\n",
       " '62 Boy in the Striped Pyjamas,The Boyne, John 1,004,414 Random House Childrens Books G Young Adult Fiction',\n",
       " \"63 My Sister's Keeper Picoult, Jodi 1,003,780 Hodder & Stoughton General & Literary Fiction\",\n",
       " '64 Amber Spyglass,The:His Dark Materials S. Pullman, Philip 1,002,314 Scholastic Ltd. Young Adult Fiction',\n",
       " '65 To Kill a Mockingbird Lee, Harper 998,213 Random House General & Literary Fiction',\n",
       " '66 Men are from Mars, Women are from Venus:A Practical Guide for Improvin Gray, John 992,846 HarperCollins Popular Culture & Media: General Interest',\n",
       " '67 Dear Fatty French, Dawn 986,753 Random House Autobiography: The Arts',\n",
       " '68 Short History of Tractors in Ukrainian,A Lewycka, Marina 986,115 Penguin General & Literary Fiction',\n",
       " '69 Hannibal Harris, Thomas 970,509 Random House Crime, Thriller & Adventure',\n",
       " '70 Lord of the Rings,The Tolkien, J. R. R. 967,466 HarperCollins Science Fiction & Fantasy',\n",
       " '71 Stupid White Men:...and Other Sorry Excuses for the State of the Natio Moore, Michael 963,353 Penguin Current Affairs & Issues',\n",
       " '72 Interpretation of Murder,The Rubenfeld, Jed 962,515 Headline Crime, Thriller & Adventure',\n",
       " '73 Sharon Osbourne Extreme:My Autobiography Osbourne, Sharon 959,496 Little, Brown Book Autobiography: The Arts',\n",
       " '74 Alchemist,The:A Fable About Following Your Dream Coelho, Paulo 956,114 HarperCollins General & Literary Fiction',\n",
       " \"75 At My Mother's Knee ...:and Other Low Joints O'Grady, Paul 945,640 Transworld Autobiography: The Arts\",\n",
       " '76 Notes from a Small Island Bryson, Bill 931,312 Transworld Travel Writing',\n",
       " '77 Return of the Naked Chef,The Oliver, Jamie 925,425 Penguin Food & Drink: General',\n",
       " '78 Bridget Jones: The Edge of Reason Fielding, Helen 924,695 Pan Macmillan General & Literary Fiction',\n",
       " \"79 Jamie's Italy Oliver, Jamie 906,968 Penguin National & Regional Cuisine\",\n",
       " '80 I Can Make You Thin McKenna, Paul 905,086 Transworld Fitness & Diet',\n",
       " '81 Down Under Bryson, Bill 890,847 Transworld Travel Writing',\n",
       " '82 Summons,The Grisham, John 869,671 Random House Crime, Thriller & Adventure',\n",
       " '83 Small Island Levy, Andrea 869,659 Headline General & Literary Fiction',\n",
       " '84 Nigella Express Lawson, Nigella 862,602 Random House Food & Drink: General',\n",
       " '85 Brick Lane Ali, Monica 856,540 Transworld General & Literary Fiction',\n",
       " \"86 Memory Keeper's Daughter,The Edwards, Kim 845,858 Penguin General & Literary Fiction\",\n",
       " '87 Room on the Broom Donaldson, Julia 842,535 Pan Macmillan Picture Books',\n",
       " '88 About a Boy Hornby, Nick 828,215 Penguin General & Literary Fiction',\n",
       " '89 My Booky Wook Brand, Russell 820,563 Hodder & Stoughton Autobiography: The Arts',\n",
       " '90 God Delusion,The Dawkins, Richard 816,907 Transworld Popular Science',\n",
       " '91 \"Beano\" Annual,The 0 816,585 D.C. Thomson Children\\'s Annuals',\n",
       " '92 White Teeth Smith, Zadie 815,586 Penguin General & Literary Fiction',\n",
       " '93 House at Riverton,The Morton, Kate 814,370 Pan Macmillan General & Literary Fiction',\n",
       " '94 Book Thief,The Zusak, Markus 809,641 Transworld General & Literary Fiction',\n",
       " '95 Nights of Rain and Stars Binchy, Maeve 808,900 Orion General & Literary Fiction',\n",
       " '96 Ghost,The Harris, Robert 807,311 Random House General & Literary Fiction',\n",
       " '97 Happy Days with the Naked Chef Oliver, Jamie 794,201 Penguin Food & Drink: General',\n",
       " '98 Hunger Games,The:Hunger Games Trilogy Collins, Suzanne 792,187 Scholastic Ltd. Young Adult Fiction',\n",
       " \"99 Lost Boy,The:A Foster Child's Search for the Love of a Family Pelzer, Dave 791,507 Orion Biography: General\",\n",
       " \"100 Jamie's Ministry of Food:Anyone Can Learn to Cook in 24 Hours Oliver, Jamie 791,095 Penguin Food & Drink: General\"]"
      ]
     },
     "execution_count": 273,
     "metadata": {},
     "output_type": "execute_result"
    }
   ],
   "source": [
    "Main_table"
   ]
  },
  {
   "cell_type": "markdown",
   "id": "2908e76e",
   "metadata": {},
   "source": [
    "# Question - 7"
   ]
  },
  {
   "cell_type": "markdown",
   "id": "f1bed4f7",
   "metadata": {},
   "source": [
    "7.https://www.imdb.com/search/title/?title_type=tv_series&sort=num_votes,desc\n",
    "\n",
    "*Name\n",
    "\n",
    "*Year span\n",
    "\n",
    "* rating\n",
    "\n",
    "* votes"
   ]
  },
  {
   "cell_type": "code",
   "execution_count": 275,
   "id": "23dd615f",
   "metadata": {},
   "outputs": [],
   "source": [
    "driver7 = webdriver.Chrome()"
   ]
  },
  {
   "cell_type": "code",
   "execution_count": 276,
   "id": "cd996df2",
   "metadata": {},
   "outputs": [],
   "source": [
    "driver7.get('https://www.imdb.com/search/title/?title_type=tv_series&sort=num_votes,desc')"
   ]
  },
  {
   "cell_type": "code",
   "execution_count": 277,
   "id": "55c947b6",
   "metadata": {},
   "outputs": [],
   "source": [
    "LIS = []"
   ]
  },
  {
   "cell_type": "code",
   "execution_count": 278,
   "id": "f9106a42",
   "metadata": {},
   "outputs": [],
   "source": [
    "Names = driver7.find_elements(By.XPATH ,'//*[@id=\"__next\"]/main/div[2]/div[3]/section/section/div/section/section/div[2]/div/section/div[2]/div[2]/ul')\n",
    "try :\n",
    "    Lis = Names[0].find_elements(By.TAG_NAME, 'li')\n",
    "    for i in Lis :\n",
    "        LIS.append(i.text)\n",
    "except NoSuchElementException :\n",
    "    LIS.append(\"-\")"
   ]
  },
  {
   "cell_type": "code",
   "execution_count": 279,
   "id": "9a4f690d",
   "metadata": {},
   "outputs": [
    {
     "data": {
      "text/plain": [
       "['1. Game of Thrones\\n2011–2019\\nTV-MA\\n9.2\\n (2.3M)\\nRate\\nTV Series\\nNine noble families fight for control over the lands of Westeros, while an ancient enemy returns after being dormant for a millennia.\\nVotes2,259,175',\n",
       " \"2. Breaking Bad\\n2008–2013\\nTV-MA\\n9.5\\n (2.1M)\\nRate\\nTV Series\\nA chemistry teacher diagnosed with inoperable lung cancer turns to manufacturing and selling methamphetamine with a former student in order to secure his family's future.\\nVotes2,106,604\",\n",
       " '3. Stranger Things\\n2016–2025\\nTV-14\\n8.7\\n (1.3M)\\nRate\\nTV Series\\nWhen a young boy vanishes, a small town uncovers a mystery involving secret experiments, terrifying supernatural forces and one strange little girl.\\nVotes1,318,050',\n",
       " '4. Friends\\n1994–2004\\nTV-14\\n8.9\\n (1.1M)\\nRate\\nTV Series\\nFollows the personal and professional lives of six twenty to thirty year-old friends living in the Manhattan borough of New York City.\\nVotes1,077,381',\n",
       " '5. The Walking Dead\\n2010–2022\\nTV-MA\\n8.1\\n (1.1M)\\nRate\\nTV Series\\nSheriff Deputy Rick Grimes wakes up from a coma to learn the world is in ruins and must lead a group of survivors to stay alive.\\nVotes1,070,382',\n",
       " '6. Sherlock\\n2010–2017\\nTV-14\\n9.1\\n (988K)\\nRate\\nTV Series\\nThe quirky spin on Conan Doyle\\'s iconic sleuth pitches him as a \"high-functioning sociopath\" in modern-day London. Assisting him in his investigations: Afghanistan War vet John Watson, who\\'s introduced to Holmes by a mutual acquaintance.\\nVotes988,312',\n",
       " '7. The Big Bang Theory\\n2007–2019\\nTV-PG\\n8.1\\n (860K)\\nRate\\nTV Series\\nA woman who moves into an apartment across the hall from two brilliant but socially awkward physicists shows them how little they know about life outside of the laboratory.\\nVotes860,084',\n",
       " \"8. Dexter\\n2006–2013\\nTV-MA\\n8.7\\n (759K)\\nRate\\nTV Series\\nHe's smart. He's lovable. He's Dexter Morgan, America's favorite serial killer, who spends his days solving crimes and nights committing them.\\nVotes758,853\",\n",
       " '9. How I Met Your Mother\\n2005–2014\\nTV-14\\n8.3\\n (723K)\\nRate\\nTV Series\\nA father recounts to his children - through a series of flashbacks - the journey he and his four best friends took leading up to him meeting their mother.\\nVotes723,370',\n",
       " '10. The Office\\n2005–2013\\nTV-14\\n9.0\\n (699K)\\nRate\\nTV Series\\nA mockumentary on a group of typical office workers, where the workday consists of ego clashes, inappropriate behavior, and tedium.\\nVotes698,507',\n",
       " '11. True Detective\\n2014–\\nTV-MA\\n8.9\\n (641K)\\nRate\\nTV Series\\nAnthology series in which police investigations unearth the personal and professional secrets of those involved, both within and outside the law.\\nVotes641,307',\n",
       " '12. Peaky Blinders\\n2013–2022\\nTV-MA\\n8.8\\n (636K)\\nRate\\nTV Series\\nA gangster family epic set in 1900s England, centering on a gang who sew razor blades in the peaks of their caps, and their fierce boss Tommy Shelby.\\nVotes636,278',\n",
       " '13. Better Call Saul\\n2015–2022\\nTV-MA\\n9.0\\n (635K)\\nRate\\nTV Series\\nThe trials and tribulations of criminal lawyer Jimmy McGill in the years leading up to his fateful run-in with Walter White and Jesse Pinkman.\\nVotes635,427',\n",
       " '14. The Boys\\n2019–\\nTV-MA\\n8.7\\n (633K)\\nRate\\nTV Series\\nA group of vigilantes set out to take down corrupt superheroes who abuse their superpowers.\\nVotes633,479',\n",
       " '15. Black Mirror\\n2011–\\nTV-MA\\n8.7\\n (632K)\\nRate\\nTV Series\\nFeaturing stand-alone dramas -- sharp, suspenseful, satirical tales that explore techno-paranoia -- \"Black Mirror\" is a contemporary reworking of \"The Twilight Zone\" with stories that tap into the collective unease about the modern world.\\nVotes632,277',\n",
       " '16. Rick and Morty\\n2013–\\nTV-MA\\n9.1\\n (594K)\\nRate\\nTV Series\\nThe fractured domestic lives of a nihilistic mad scientist and his anxious grandson are further complicated by their inter-dimensional misadventures.\\nVotes593,698',\n",
       " '17. Lost\\n2004–2010\\nTV-14\\n8.3\\n (590K)\\nRate\\nTV Series\\nThe survivors of a plane crash are forced to work together in order to survive on a seemingly deserted tropical island.\\nVotes589,687',\n",
       " '18. The Mandalorian\\n2019–\\nTV-14\\n8.7\\n (580K)\\nRate\\nTV Series\\nThe travels of a lone bounty hunter in the outer reaches of the galaxy, far from the authority of the New Republic.\\nVotes579,606',\n",
       " '19. Vikings\\n2013–2020\\nTV-MA\\n8.5\\n (575K)\\nRate\\nTV Series\\nVikings transports us to the brutal and mysterious world of Ragnar Lothbrok, a Viking warrior and farmer who yearns to explore--and raid--the distant shores across the ocean.\\nVotes575,250',\n",
       " '20. Prison Break\\n2005–2017\\nTV-14\\n8.3\\n (574K)\\nRate\\nTV Series\\nA structural engineer installs himself in a prison he helped design, in order to save his falsely accused brother from a death sentence by breaking themselves out from the inside.\\nVotes574,316',\n",
       " '21. The Witcher\\n2019–\\nTV-MA\\n8.0\\n (565K)\\nRate\\nTV Series\\nGeralt of Rivia, a solitary monster hunter, struggles to find his place in a world where people often prove more wicked than beasts.\\nVotes564,541',\n",
       " \"22. Squid Game\\n2021–\\nTV-MA\\n8.0\\n (530K)\\nRate\\nTV Series\\nHundreds of cash-strapped players accept a strange invitation to compete in children's games. Inside, a tempting prize awaits with deadly high stakes: a survival game that has a whopping 45.6 billion-won prize at stake.\\nVotes530,345\",\n",
       " '23. Westworld\\n2016–2022\\nTV-MA\\n8.5\\n (529K)\\nRate\\nTV Series\\nAt the intersection of the near future and the reimagined past, waits a world in which every human appetite can be indulged without consequence.\\nVotes529,258',\n",
       " '24. House of Cards\\n2013–2018\\nTV-MA\\n8.6\\n (528K)\\nRate\\nTV Series\\nA Congressman works with his equally conniving wife to exact revenge on the people who betrayed him.\\nVotes527,928',\n",
       " '25. Money Heist\\n2017–2021\\nTV-MA\\n8.2\\n (526K)\\nRate\\nTV Series\\nAn unusual group of robbers attempt to carry out the most perfect robbery in Spanish history - stealing 2.4 billion euros from the Royal Mint of Spain.\\nVotes525,916',\n",
       " '26. House\\n2004–2012\\nTV-14\\n8.7\\n (504K)\\nRate\\nTV Series\\nUsing a crack team of doctors and his wits, an antisocial maverick doctor specializing in diagnostic medicine does whatever it takes to solve puzzling cases that come his way.\\nVotes504,130',\n",
       " \"27. The Last of Us\\n2023–\\nTV-MA\\n8.8\\n (501K)\\nRate\\nTV Series\\nAfter a global pandemic destroys civilization, a hardened survivor takes charge of a 14-year-old girl who may be humanity's last hope.\\nVotes500,798\",\n",
       " '28. Attack on Titan\\n2013–2023\\nTV-MA\\n9.1\\n (498K)\\nRate\\nTV Series\\nAfter his hometown is destroyed and is traumatized, young Eren Jaeger vows to cleanse the earth of the giant humanoid Titans that have brought humanity to the brink of extinction.\\nVotes497,628',\n",
       " \"29. Supernatural\\n2005–2020\\nTV-14\\n8.4\\n (478K)\\nRate\\nTV Series\\nTwo brothers follow their father's footsteps as hunters, fighting evil supernatural beings of many kinds, including monsters, demons, and gods that roam the earth.\\nVotes478,497\",\n",
       " '30. Modern Family\\n2009–2020\\nTV-PG\\n8.5\\n (476K)\\nRate\\nTV Series\\nThree different, but related, families face trials and tribulations in their own uniquely comedic ways.\\nVotes476,404',\n",
       " \"31. Suits\\n2011–2019\\nTV-14\\n8.4\\n (471K)\\nRate\\nTV Series\\nOn the run from a drug deal gone bad, brilliant college dropout Mike Ross finds himself working with Harvey Specter, one of New York City's best lawyers.\\nVotes471,258\",\n",
       " '32. Daredevil\\n2015–2018\\nTV-MA\\n8.6\\n (471K)\\nRate\\nTV Series\\nA blind lawyer by day, vigilante by night. Matt Murdock fights the crime of New York as Daredevil.\\nVotes470,828',\n",
       " '33. Narcos\\n2015–2017\\nTV-MA\\n8.8\\n (465K)\\nRate\\nTV Series\\nA chronicled look at the criminal exploits of Colombian drug lord Pablo Escobar, as well as the many other drug kingpins who plagued the country through the years.\\nVotes465,096',\n",
       " '34. The Sopranos\\n1999–2007\\nTV-MA\\n9.2\\n (462K)\\nRate\\nTV Series\\nNew Jersey mob boss Tony Soprano deals with personal and professional issues in his home and business life that affect his mental state, leading him to seek professional psychiatric counseling.\\nVotes461,844',\n",
       " '35. Arrow\\n2012–2020\\nTV-14\\n7.5\\n (445K)\\nRate\\nTV Series\\nSpoiled billionaire playboy Oliver Queen is missing and presumed dead when his yacht is lost at sea. He returns five years later a changed man, determined to clean up the city as a hooded vigilante armed with a bow.\\nVotes444,573',\n",
       " '36. Dark\\n2017–2020\\nTV-MA\\n8.7\\n (437K)\\nRate\\nTV Series\\nA family saga with a supernatural twist, set in a German town where the disappearance of two young children exposes the relationships among four families.\\nVotes437,023',\n",
       " '37. The Simpsons\\n1989–\\nTV-14\\n8.7\\n (433K)\\nRate\\nTV Series\\nThe satiric adventures of a working-class family in the misfit city of Springfield.\\nVotes432,663',\n",
       " '38. Fargo\\n2014–2024\\nTV-MA\\n8.9\\n (416K)\\nRate\\nTV Series\\nVarious chronicles of deception, intrigue, and murder in and around frozen Minnesota. All of these tales mysteriously lead back one way or another to Fargo, North Dakota.\\nVotes415,543',\n",
       " '39. Mr. Robot\\n2015–2019\\nTV-MA\\n8.5\\n (415K)\\nRate\\nTV Series\\nElliot, a brilliant but unstable cyber-security engineer and vigilante hacker, becomes a key figure in a complex game of global chaos when he and his shadowy allies try to take down the corrupt corporation his company is paid to protect.\\nVotes414,783',\n",
       " '40. Loki\\n2021–2023\\nTV-14\\n8.2\\n (406K)\\nRate\\nTV Series\\nThe mercurial villain Loki resumes his role as the God of Mischief in a new series that takes place after the events of “Avengers: Endgame.”\\nVotes406,010',\n",
       " '41. South Park\\n1997–\\nTV-MA\\n8.7\\n (403K)\\nRate\\nTV Series\\nFollows the misadventures of four irreverent grade-schoolers in the quiet, dysfunctional town of South Park, Colorado.\\nVotes403,021',\n",
       " '42. The Wire\\n2002–2008\\nTV-MA\\n9.3\\n (373K)\\nRate\\nTV Series\\nThe Baltimore drug scene, as seen through the eyes of drug dealers and law enforcement.\\nVotes372,554',\n",
       " '43. Death Note\\n2006–2007\\nTV-14\\n8.9\\n (372K)\\nRate\\nTV Series\\nAn intelligent high school student goes on a secret crusade to eliminate criminals from the world after discovering a notebook capable of killing anyone whose name is written into it.\\nVotes371,989',\n",
       " \"44. The Flash\\n2014–2023\\nTV-PG\\n7.5\\n (367K)\\nRate\\nTV Series\\nAfter being struck by lightning, Barry Allen wakes up from his coma to discover he's been given the power of super speed, becoming the Flash, and fighting crime in Central City.\\nVotes366,737\",\n",
       " '45. House of the Dragon\\n2022–\\nTV-MA\\n8.4\\n (363K)\\nRate\\nTV Series\\nAn internal succession war within House Targaryen at the height of its power, 172 years before the birth of Daenerys Targaryen.\\nVotes362,991',\n",
       " '46. Family Guy\\n1999–2025\\nTV-MA\\n8.2\\n (362K)\\nRate\\nTV Series\\nIn a wacky Rhode Island town, a dysfunctional family strives to cope with everyday life as they are thrown from one crazy scenario to another.\\nVotes361,665',\n",
       " '47. Homeland\\n2011–2020\\nTV-MA\\n8.3\\n (359K)\\nRate\\nTV Series\\nA bipolar CIA operative becomes convinced a prisoner of war has been turned by al-Qaeda and is planning to carry out a terrorist attack on American soil.\\nVotes359,032',\n",
       " '48. Avatar: The Last Airbender\\n2005–2008\\nTV-Y7-FV\\n9.3\\n (357K)\\nRate\\nTV Series\\nIn a war-torn world of elemental magic, a young boy reawakens to undertake a dangerous mystic quest to fulfill his destiny as the Avatar, and bring peace to the world.\\nVotes356,940',\n",
       " \"49. Brooklyn Nine-Nine\\n2013–2021\\nTV-14\\n8.4\\n (356K)\\nRate\\nTV Series\\nComedy series following the exploits of Det. Jake Peralta and his diverse, lovable colleagues as they police the NYPD's 99th Precinct.\\nVotes355,645\",\n",
       " \"50. Wednesday\\n2022–\\nTV-14\\n8.1\\n (353K)\\nRate\\nTV Series\\nFollows Wednesday Addams' years as a student, when she attempts to master her emerging psychic ability, thwart a killing spree, and solve the mystery that embroiled her parents.\\nVotes352,610\"]"
      ]
     },
     "execution_count": 279,
     "metadata": {},
     "output_type": "execute_result"
    }
   ],
   "source": [
    "LIS"
   ]
  },
  {
   "cell_type": "code",
   "execution_count": 280,
   "id": "1f77ced5",
   "metadata": {},
   "outputs": [],
   "source": [
    "Movie_name = []\n",
    "for item in LIS:\n",
    "  Movie_name.append(item.split('\\n')[0])\n",
    "\n",
    "Movie_Name = []\n",
    "for i in Movie_name :\n",
    "    Movie_Name.append(i.split('.')[1])\n",
    "    \n",
    "Year_span = []\n",
    "for item in LIS:\n",
    "  Year_span.append(item.split('\\n')[1])\n",
    "\n",
    "Rating = []\n",
    "for item in LIS:\n",
    "  Rating.append(item.split('\\n')[3])\n",
    "\n",
    "Vots = []\n",
    "for item in LIS:\n",
    "  Vots.append(item.split('\\n')[-1])"
   ]
  },
  {
   "cell_type": "code",
   "execution_count": 281,
   "id": "a3a27691",
   "metadata": {},
   "outputs": [],
   "source": [
    "import pandas as pd"
   ]
  },
  {
   "cell_type": "code",
   "execution_count": 282,
   "id": "9268a788",
   "metadata": {},
   "outputs": [],
   "source": [
    "df = pd.DataFrame({'Name': Movie_Name , 'Year span': Year_span , 'Rating' : Rating , 'Votes':  Vots})"
   ]
  },
  {
   "cell_type": "markdown",
   "id": "a1acf7d4",
   "metadata": {},
   "source": [
    "# 7 - Output"
   ]
  },
  {
   "cell_type": "code",
   "execution_count": 283,
   "id": "78b4dbce",
   "metadata": {
    "scrolled": true
   },
   "outputs": [
    {
     "data": {
      "text/html": [
       "<div>\n",
       "<style scoped>\n",
       "    .dataframe tbody tr th:only-of-type {\n",
       "        vertical-align: middle;\n",
       "    }\n",
       "\n",
       "    .dataframe tbody tr th {\n",
       "        vertical-align: top;\n",
       "    }\n",
       "\n",
       "    .dataframe thead th {\n",
       "        text-align: right;\n",
       "    }\n",
       "</style>\n",
       "<table border=\"1\" class=\"dataframe\">\n",
       "  <thead>\n",
       "    <tr style=\"text-align: right;\">\n",
       "      <th></th>\n",
       "      <th>Name</th>\n",
       "      <th>Year span</th>\n",
       "      <th>Rating</th>\n",
       "      <th>Votes</th>\n",
       "    </tr>\n",
       "  </thead>\n",
       "  <tbody>\n",
       "    <tr>\n",
       "      <th>0</th>\n",
       "      <td>Game of Thrones</td>\n",
       "      <td>2011–2019</td>\n",
       "      <td>9.2</td>\n",
       "      <td>Votes2,259,175</td>\n",
       "    </tr>\n",
       "    <tr>\n",
       "      <th>1</th>\n",
       "      <td>Breaking Bad</td>\n",
       "      <td>2008–2013</td>\n",
       "      <td>9.5</td>\n",
       "      <td>Votes2,106,604</td>\n",
       "    </tr>\n",
       "    <tr>\n",
       "      <th>2</th>\n",
       "      <td>Stranger Things</td>\n",
       "      <td>2016–2025</td>\n",
       "      <td>8.7</td>\n",
       "      <td>Votes1,318,050</td>\n",
       "    </tr>\n",
       "    <tr>\n",
       "      <th>3</th>\n",
       "      <td>Friends</td>\n",
       "      <td>1994–2004</td>\n",
       "      <td>8.9</td>\n",
       "      <td>Votes1,077,381</td>\n",
       "    </tr>\n",
       "    <tr>\n",
       "      <th>4</th>\n",
       "      <td>The Walking Dead</td>\n",
       "      <td>2010–2022</td>\n",
       "      <td>8.1</td>\n",
       "      <td>Votes1,070,382</td>\n",
       "    </tr>\n",
       "    <tr>\n",
       "      <th>5</th>\n",
       "      <td>Sherlock</td>\n",
       "      <td>2010–2017</td>\n",
       "      <td>9.1</td>\n",
       "      <td>Votes988,312</td>\n",
       "    </tr>\n",
       "    <tr>\n",
       "      <th>6</th>\n",
       "      <td>The Big Bang Theory</td>\n",
       "      <td>2007–2019</td>\n",
       "      <td>8.1</td>\n",
       "      <td>Votes860,084</td>\n",
       "    </tr>\n",
       "    <tr>\n",
       "      <th>7</th>\n",
       "      <td>Dexter</td>\n",
       "      <td>2006–2013</td>\n",
       "      <td>8.7</td>\n",
       "      <td>Votes758,853</td>\n",
       "    </tr>\n",
       "    <tr>\n",
       "      <th>8</th>\n",
       "      <td>How I Met Your Mother</td>\n",
       "      <td>2005–2014</td>\n",
       "      <td>8.3</td>\n",
       "      <td>Votes723,370</td>\n",
       "    </tr>\n",
       "    <tr>\n",
       "      <th>9</th>\n",
       "      <td>The Office</td>\n",
       "      <td>2005–2013</td>\n",
       "      <td>9.0</td>\n",
       "      <td>Votes698,507</td>\n",
       "    </tr>\n",
       "    <tr>\n",
       "      <th>10</th>\n",
       "      <td>True Detective</td>\n",
       "      <td>2014–</td>\n",
       "      <td>8.9</td>\n",
       "      <td>Votes641,307</td>\n",
       "    </tr>\n",
       "    <tr>\n",
       "      <th>11</th>\n",
       "      <td>Peaky Blinders</td>\n",
       "      <td>2013–2022</td>\n",
       "      <td>8.8</td>\n",
       "      <td>Votes636,278</td>\n",
       "    </tr>\n",
       "    <tr>\n",
       "      <th>12</th>\n",
       "      <td>Better Call Saul</td>\n",
       "      <td>2015–2022</td>\n",
       "      <td>9.0</td>\n",
       "      <td>Votes635,427</td>\n",
       "    </tr>\n",
       "    <tr>\n",
       "      <th>13</th>\n",
       "      <td>The Boys</td>\n",
       "      <td>2019–</td>\n",
       "      <td>8.7</td>\n",
       "      <td>Votes633,479</td>\n",
       "    </tr>\n",
       "    <tr>\n",
       "      <th>14</th>\n",
       "      <td>Black Mirror</td>\n",
       "      <td>2011–</td>\n",
       "      <td>8.7</td>\n",
       "      <td>Votes632,277</td>\n",
       "    </tr>\n",
       "    <tr>\n",
       "      <th>15</th>\n",
       "      <td>Rick and Morty</td>\n",
       "      <td>2013–</td>\n",
       "      <td>9.1</td>\n",
       "      <td>Votes593,698</td>\n",
       "    </tr>\n",
       "    <tr>\n",
       "      <th>16</th>\n",
       "      <td>Lost</td>\n",
       "      <td>2004–2010</td>\n",
       "      <td>8.3</td>\n",
       "      <td>Votes589,687</td>\n",
       "    </tr>\n",
       "    <tr>\n",
       "      <th>17</th>\n",
       "      <td>The Mandalorian</td>\n",
       "      <td>2019–</td>\n",
       "      <td>8.7</td>\n",
       "      <td>Votes579,606</td>\n",
       "    </tr>\n",
       "    <tr>\n",
       "      <th>18</th>\n",
       "      <td>Vikings</td>\n",
       "      <td>2013–2020</td>\n",
       "      <td>8.5</td>\n",
       "      <td>Votes575,250</td>\n",
       "    </tr>\n",
       "    <tr>\n",
       "      <th>19</th>\n",
       "      <td>Prison Break</td>\n",
       "      <td>2005–2017</td>\n",
       "      <td>8.3</td>\n",
       "      <td>Votes574,316</td>\n",
       "    </tr>\n",
       "    <tr>\n",
       "      <th>20</th>\n",
       "      <td>The Witcher</td>\n",
       "      <td>2019–</td>\n",
       "      <td>8.0</td>\n",
       "      <td>Votes564,541</td>\n",
       "    </tr>\n",
       "    <tr>\n",
       "      <th>21</th>\n",
       "      <td>Squid Game</td>\n",
       "      <td>2021–</td>\n",
       "      <td>8.0</td>\n",
       "      <td>Votes530,345</td>\n",
       "    </tr>\n",
       "    <tr>\n",
       "      <th>22</th>\n",
       "      <td>Westworld</td>\n",
       "      <td>2016–2022</td>\n",
       "      <td>8.5</td>\n",
       "      <td>Votes529,258</td>\n",
       "    </tr>\n",
       "    <tr>\n",
       "      <th>23</th>\n",
       "      <td>House of Cards</td>\n",
       "      <td>2013–2018</td>\n",
       "      <td>8.6</td>\n",
       "      <td>Votes527,928</td>\n",
       "    </tr>\n",
       "    <tr>\n",
       "      <th>24</th>\n",
       "      <td>Money Heist</td>\n",
       "      <td>2017–2021</td>\n",
       "      <td>8.2</td>\n",
       "      <td>Votes525,916</td>\n",
       "    </tr>\n",
       "    <tr>\n",
       "      <th>25</th>\n",
       "      <td>House</td>\n",
       "      <td>2004–2012</td>\n",
       "      <td>8.7</td>\n",
       "      <td>Votes504,130</td>\n",
       "    </tr>\n",
       "    <tr>\n",
       "      <th>26</th>\n",
       "      <td>The Last of Us</td>\n",
       "      <td>2023–</td>\n",
       "      <td>8.8</td>\n",
       "      <td>Votes500,798</td>\n",
       "    </tr>\n",
       "    <tr>\n",
       "      <th>27</th>\n",
       "      <td>Attack on Titan</td>\n",
       "      <td>2013–2023</td>\n",
       "      <td>9.1</td>\n",
       "      <td>Votes497,628</td>\n",
       "    </tr>\n",
       "    <tr>\n",
       "      <th>28</th>\n",
       "      <td>Supernatural</td>\n",
       "      <td>2005–2020</td>\n",
       "      <td>8.4</td>\n",
       "      <td>Votes478,497</td>\n",
       "    </tr>\n",
       "    <tr>\n",
       "      <th>29</th>\n",
       "      <td>Modern Family</td>\n",
       "      <td>2009–2020</td>\n",
       "      <td>8.5</td>\n",
       "      <td>Votes476,404</td>\n",
       "    </tr>\n",
       "    <tr>\n",
       "      <th>30</th>\n",
       "      <td>Suits</td>\n",
       "      <td>2011–2019</td>\n",
       "      <td>8.4</td>\n",
       "      <td>Votes471,258</td>\n",
       "    </tr>\n",
       "    <tr>\n",
       "      <th>31</th>\n",
       "      <td>Daredevil</td>\n",
       "      <td>2015–2018</td>\n",
       "      <td>8.6</td>\n",
       "      <td>Votes470,828</td>\n",
       "    </tr>\n",
       "    <tr>\n",
       "      <th>32</th>\n",
       "      <td>Narcos</td>\n",
       "      <td>2015–2017</td>\n",
       "      <td>8.8</td>\n",
       "      <td>Votes465,096</td>\n",
       "    </tr>\n",
       "    <tr>\n",
       "      <th>33</th>\n",
       "      <td>The Sopranos</td>\n",
       "      <td>1999–2007</td>\n",
       "      <td>9.2</td>\n",
       "      <td>Votes461,844</td>\n",
       "    </tr>\n",
       "    <tr>\n",
       "      <th>34</th>\n",
       "      <td>Arrow</td>\n",
       "      <td>2012–2020</td>\n",
       "      <td>7.5</td>\n",
       "      <td>Votes444,573</td>\n",
       "    </tr>\n",
       "    <tr>\n",
       "      <th>35</th>\n",
       "      <td>Dark</td>\n",
       "      <td>2017–2020</td>\n",
       "      <td>8.7</td>\n",
       "      <td>Votes437,023</td>\n",
       "    </tr>\n",
       "    <tr>\n",
       "      <th>36</th>\n",
       "      <td>The Simpsons</td>\n",
       "      <td>1989–</td>\n",
       "      <td>8.7</td>\n",
       "      <td>Votes432,663</td>\n",
       "    </tr>\n",
       "    <tr>\n",
       "      <th>37</th>\n",
       "      <td>Fargo</td>\n",
       "      <td>2014–2024</td>\n",
       "      <td>8.9</td>\n",
       "      <td>Votes415,543</td>\n",
       "    </tr>\n",
       "    <tr>\n",
       "      <th>38</th>\n",
       "      <td>Mr</td>\n",
       "      <td>2015–2019</td>\n",
       "      <td>8.5</td>\n",
       "      <td>Votes414,783</td>\n",
       "    </tr>\n",
       "    <tr>\n",
       "      <th>39</th>\n",
       "      <td>Loki</td>\n",
       "      <td>2021–2023</td>\n",
       "      <td>8.2</td>\n",
       "      <td>Votes406,010</td>\n",
       "    </tr>\n",
       "    <tr>\n",
       "      <th>40</th>\n",
       "      <td>South Park</td>\n",
       "      <td>1997–</td>\n",
       "      <td>8.7</td>\n",
       "      <td>Votes403,021</td>\n",
       "    </tr>\n",
       "    <tr>\n",
       "      <th>41</th>\n",
       "      <td>The Wire</td>\n",
       "      <td>2002–2008</td>\n",
       "      <td>9.3</td>\n",
       "      <td>Votes372,554</td>\n",
       "    </tr>\n",
       "    <tr>\n",
       "      <th>42</th>\n",
       "      <td>Death Note</td>\n",
       "      <td>2006–2007</td>\n",
       "      <td>8.9</td>\n",
       "      <td>Votes371,989</td>\n",
       "    </tr>\n",
       "    <tr>\n",
       "      <th>43</th>\n",
       "      <td>The Flash</td>\n",
       "      <td>2014–2023</td>\n",
       "      <td>7.5</td>\n",
       "      <td>Votes366,737</td>\n",
       "    </tr>\n",
       "    <tr>\n",
       "      <th>44</th>\n",
       "      <td>House of the Dragon</td>\n",
       "      <td>2022–</td>\n",
       "      <td>8.4</td>\n",
       "      <td>Votes362,991</td>\n",
       "    </tr>\n",
       "    <tr>\n",
       "      <th>45</th>\n",
       "      <td>Family Guy</td>\n",
       "      <td>1999–2025</td>\n",
       "      <td>8.2</td>\n",
       "      <td>Votes361,665</td>\n",
       "    </tr>\n",
       "    <tr>\n",
       "      <th>46</th>\n",
       "      <td>Homeland</td>\n",
       "      <td>2011–2020</td>\n",
       "      <td>8.3</td>\n",
       "      <td>Votes359,032</td>\n",
       "    </tr>\n",
       "    <tr>\n",
       "      <th>47</th>\n",
       "      <td>Avatar: The Last Airbender</td>\n",
       "      <td>2005–2008</td>\n",
       "      <td>9.3</td>\n",
       "      <td>Votes356,940</td>\n",
       "    </tr>\n",
       "    <tr>\n",
       "      <th>48</th>\n",
       "      <td>Brooklyn Nine-Nine</td>\n",
       "      <td>2013–2021</td>\n",
       "      <td>8.4</td>\n",
       "      <td>Votes355,645</td>\n",
       "    </tr>\n",
       "    <tr>\n",
       "      <th>49</th>\n",
       "      <td>Wednesday</td>\n",
       "      <td>2022–</td>\n",
       "      <td>8.1</td>\n",
       "      <td>Votes352,610</td>\n",
       "    </tr>\n",
       "  </tbody>\n",
       "</table>\n",
       "</div>"
      ],
      "text/plain": [
       "                           Name  Year span Rating           Votes\n",
       "0               Game of Thrones  2011–2019    9.2  Votes2,259,175\n",
       "1                  Breaking Bad  2008–2013    9.5  Votes2,106,604\n",
       "2               Stranger Things  2016–2025    8.7  Votes1,318,050\n",
       "3                       Friends  1994–2004    8.9  Votes1,077,381\n",
       "4              The Walking Dead  2010–2022    8.1  Votes1,070,382\n",
       "5                      Sherlock  2010–2017    9.1    Votes988,312\n",
       "6           The Big Bang Theory  2007–2019    8.1    Votes860,084\n",
       "7                        Dexter  2006–2013    8.7    Votes758,853\n",
       "8         How I Met Your Mother  2005–2014    8.3    Votes723,370\n",
       "9                    The Office  2005–2013    9.0    Votes698,507\n",
       "10               True Detective      2014–    8.9    Votes641,307\n",
       "11               Peaky Blinders  2013–2022    8.8    Votes636,278\n",
       "12             Better Call Saul  2015–2022    9.0    Votes635,427\n",
       "13                     The Boys      2019–    8.7    Votes633,479\n",
       "14                 Black Mirror      2011–    8.7    Votes632,277\n",
       "15               Rick and Morty      2013–    9.1    Votes593,698\n",
       "16                         Lost  2004–2010    8.3    Votes589,687\n",
       "17              The Mandalorian      2019–    8.7    Votes579,606\n",
       "18                      Vikings  2013–2020    8.5    Votes575,250\n",
       "19                 Prison Break  2005–2017    8.3    Votes574,316\n",
       "20                  The Witcher      2019–    8.0    Votes564,541\n",
       "21                   Squid Game      2021–    8.0    Votes530,345\n",
       "22                    Westworld  2016–2022    8.5    Votes529,258\n",
       "23               House of Cards  2013–2018    8.6    Votes527,928\n",
       "24                  Money Heist  2017–2021    8.2    Votes525,916\n",
       "25                        House  2004–2012    8.7    Votes504,130\n",
       "26               The Last of Us      2023–    8.8    Votes500,798\n",
       "27              Attack on Titan  2013–2023    9.1    Votes497,628\n",
       "28                 Supernatural  2005–2020    8.4    Votes478,497\n",
       "29                Modern Family  2009–2020    8.5    Votes476,404\n",
       "30                        Suits  2011–2019    8.4    Votes471,258\n",
       "31                    Daredevil  2015–2018    8.6    Votes470,828\n",
       "32                       Narcos  2015–2017    8.8    Votes465,096\n",
       "33                 The Sopranos  1999–2007    9.2    Votes461,844\n",
       "34                        Arrow  2012–2020    7.5    Votes444,573\n",
       "35                         Dark  2017–2020    8.7    Votes437,023\n",
       "36                 The Simpsons      1989–    8.7    Votes432,663\n",
       "37                        Fargo  2014–2024    8.9    Votes415,543\n",
       "38                           Mr  2015–2019    8.5    Votes414,783\n",
       "39                         Loki  2021–2023    8.2    Votes406,010\n",
       "40                   South Park      1997–    8.7    Votes403,021\n",
       "41                     The Wire  2002–2008    9.3    Votes372,554\n",
       "42                   Death Note  2006–2007    8.9    Votes371,989\n",
       "43                    The Flash  2014–2023    7.5    Votes366,737\n",
       "44          House of the Dragon      2022–    8.4    Votes362,991\n",
       "45                   Family Guy  1999–2025    8.2    Votes361,665\n",
       "46                     Homeland  2011–2020    8.3    Votes359,032\n",
       "47   Avatar: The Last Airbender  2005–2008    9.3    Votes356,940\n",
       "48           Brooklyn Nine-Nine  2013–2021    8.4    Votes355,645\n",
       "49                    Wednesday      2022–    8.1    Votes352,610"
      ]
     },
     "execution_count": 283,
     "metadata": {},
     "output_type": "execute_result"
    }
   ],
   "source": [
    "df"
   ]
  },
  {
   "cell_type": "markdown",
   "id": "0e4ea76f",
   "metadata": {},
   "source": [
    "# Question - 8"
   ]
  },
  {
   "cell_type": "markdown",
   "id": "f11f2db3",
   "metadata": {},
   "source": [
    "8. Details of Datasets from UCI machine learning repositories. \n",
    "Url = https://archive.ics.uci.edu/ You \n",
    "have to find the following details: \n",
    "A) Dataset name \n",
    "B) Data type \n",
    "C) Task \n",
    "D) Attribute type \n",
    "E) No of instances \n",
    "F) No of attribute G) Year \n",
    " Note: - from the home page you have to go to the Show All Dataset page through code."
   ]
  },
  {
   "cell_type": "code",
   "execution_count": 284,
   "id": "f2663157",
   "metadata": {},
   "outputs": [],
   "source": [
    "driver8 = webdriver.Chrome()"
   ]
  },
  {
   "cell_type": "code",
   "execution_count": 285,
   "id": "2884f524",
   "metadata": {},
   "outputs": [],
   "source": [
    "driver8.get('https://archive.ics.uci.edu/')"
   ]
  },
  {
   "cell_type": "code",
   "execution_count": 286,
   "id": "e20bb1c1",
   "metadata": {},
   "outputs": [],
   "source": [
    "view_dataset = driver8.find_element(By.XPATH,'/html/body/div/div[1]/div[1]/main/div/div[1]/div/div/div/a[1]')\n",
    "view_dataset.click()"
   ]
  },
  {
   "cell_type": "code",
   "execution_count": 287,
   "id": "7cb0daa3",
   "metadata": {},
   "outputs": [],
   "source": [
    "Expand_all = driver8.find_element(By.XPATH,'/html/body/div/div[1]/div[1]/main/div/div[2]/div[1]/div/label[2]/div[2]')\n",
    "Expand_all.click()"
   ]
  },
  {
   "cell_type": "code",
   "execution_count": 288,
   "id": "3cdea3cd",
   "metadata": {},
   "outputs": [],
   "source": [
    "rows = []"
   ]
  },
  {
   "cell_type": "code",
   "execution_count": 289,
   "id": "53ad451b",
   "metadata": {},
   "outputs": [],
   "source": [
    "D = driver8.find_elements(By.XPATH,'/html/body/div/div[1]/div[1]/main/div/div[2]/div[2]')\n",
    "try :\n",
    "    row = D[0].find_elements(By.XPATH,'//div[@class=\"flex flex-col gap-1\"]/div')\n",
    "    for i in row :\n",
    "        rows.append(i.text)\n",
    "except NoSuchElementException :\n",
    "    rows.append(\"_\")"
   ]
  },
  {
   "cell_type": "code",
   "execution_count": 290,
   "id": "bab092f5",
   "metadata": {},
   "outputs": [
    {
     "data": {
      "text/plain": [
       "['Iris\\nA small classic dataset from Fisher, 1936. One of the earliest known datasets used for evaluating classification methods.\\nClassification\\nTabular\\n150 Instances\\n4 Features\\nSubject Area\\nFeature Type\\nDate Donated\\nViews\\nBiology Real 6/30/1988 665.79K',\n",
       " '',\n",
       " 'Dry Bean Dataset\\nImages of 13,611 grains of 7 different registered dry beans were taken with a high-resolution camera. A total of 16 features; 12 dimensions and 4 shape forms, were obtained from the grains.\\nClassification\\nMultivariate\\n13.61K Instances\\n16 Features\\nSubject Area\\nFeature Type\\nDate Donated\\nViews\\nBiology Integer, Real 9/13/2020 530.68K',\n",
       " '',\n",
       " 'Heart Disease\\n4 databases: Cleveland, Hungary, Switzerland, and the VA Long Beach\\nClassification\\nMultivariate\\n303 Instances\\n13 Features\\nSubject Area\\nFeature Type\\nDate Donated\\nViews\\nHealth and Medicine Categorical, Integer, Real 6/30/1988 467.32K',\n",
       " '',\n",
       " \"Rice (Cammeo and Osmancik)\\nA total of 3810 rice grain's images were taken for the two species, processed and feature inferences were made. 7 morphological features were obtained for each grain of rice.\\nClassification\\nMultivariate\\n3.81K Instances\\n7 Features\\nSubject Area\\nFeature Type\\nDate Donated\\nViews\\nBiology Real 10/5/2019 464.14K\",\n",
       " '',\n",
       " 'Adult\\nPredict whether income exceeds $50K/yr based on census data. Also known as \"Census Income\" dataset.\\nClassification\\nMultivariate\\n48.84K Instances\\n14 Features\\nSubject Area\\nFeature Type\\nDate Donated\\nViews\\nSocial Science Categorical, Integer 4/30/1996 358.37K',\n",
       " '',\n",
       " 'Raisin\\nImages of the Kecimen and Besni raisin varieties were obtained with CVS. A total of 900 raisins were used, including 450 from both varieties, and 7 morphological features were extracted.\\nClassification\\nMultivariate\\n900 Instances\\n8 Features\\nSubject Area\\nFeature Type\\nDate Donated\\nViews\\nBiology Real, Integer 8/13/2023 343.57K',\n",
       " '',\n",
       " 'Wine\\nUsing chemical analysis to determine the origin of wines\\nClassification\\nTabular\\n178 Instances\\n13 Features\\nSubject Area\\nFeature Type\\nDate Donated\\nViews\\nPhysics and Chemistry Integer, Real 6/30/1991 287.46K',\n",
       " '',\n",
       " 'Breast Cancer Wisconsin (Diagnostic)\\nDiagnostic Wisconsin Breast Cancer Database.\\nClassification\\nMultivariate\\n569 Instances\\n30 Features\\nSubject Area\\nFeature Type\\nDate Donated\\nViews\\nHealth and Medicine Real 10/31/1995 287.4K',\n",
       " '',\n",
       " 'Wine Quality\\nTwo datasets are included, related to red and white vinho verde wine samples, from the north of Portugal. The goal is to model wine quality based on physicochemical tests (see [Cortez et al., 2009], http://www3.dsi.uminho.pt/pcortez/wine/).\\nClassification, Regression\\nMultivariate\\n4.9K Instances\\n12 Features\\nSubject Area\\nFeature Type\\nDate Donated\\nViews\\nBusiness Real 10/6/2009 236.28K',\n",
       " '',\n",
       " \"Diabetes\\nThis diabetes dataset is from AIM '94\\nClassification\\nMultivariate, Time-Series\\n1 Instances\\n20 Features\\nSubject Area\\nFeature Type\\nDate Donated\\nViews\\nHealth and Medicine Categorical, Integer N/A 221.05K\",\n",
       " '']"
      ]
     },
     "execution_count": 290,
     "metadata": {},
     "output_type": "execute_result"
    }
   ],
   "source": [
    "rows"
   ]
  },
  {
   "cell_type": "code",
   "execution_count": 291,
   "id": "4d48c4a5",
   "metadata": {},
   "outputs": [],
   "source": [
    "new_rows = []\n",
    "\n",
    "for i in range(len(rows)):\n",
    "    if i % 2 == 0:\n",
    "        new_rows.append(rows[i])"
   ]
  },
  {
   "cell_type": "code",
   "execution_count": 292,
   "id": "88b9053b",
   "metadata": {},
   "outputs": [
    {
     "data": {
      "text/plain": [
       "['Iris\\nA small classic dataset from Fisher, 1936. One of the earliest known datasets used for evaluating classification methods.\\nClassification\\nTabular\\n150 Instances\\n4 Features\\nSubject Area\\nFeature Type\\nDate Donated\\nViews\\nBiology Real 6/30/1988 665.79K',\n",
       " 'Dry Bean Dataset\\nImages of 13,611 grains of 7 different registered dry beans were taken with a high-resolution camera. A total of 16 features; 12 dimensions and 4 shape forms, were obtained from the grains.\\nClassification\\nMultivariate\\n13.61K Instances\\n16 Features\\nSubject Area\\nFeature Type\\nDate Donated\\nViews\\nBiology Integer, Real 9/13/2020 530.68K',\n",
       " 'Heart Disease\\n4 databases: Cleveland, Hungary, Switzerland, and the VA Long Beach\\nClassification\\nMultivariate\\n303 Instances\\n13 Features\\nSubject Area\\nFeature Type\\nDate Donated\\nViews\\nHealth and Medicine Categorical, Integer, Real 6/30/1988 467.32K',\n",
       " \"Rice (Cammeo and Osmancik)\\nA total of 3810 rice grain's images were taken for the two species, processed and feature inferences were made. 7 morphological features were obtained for each grain of rice.\\nClassification\\nMultivariate\\n3.81K Instances\\n7 Features\\nSubject Area\\nFeature Type\\nDate Donated\\nViews\\nBiology Real 10/5/2019 464.14K\",\n",
       " 'Adult\\nPredict whether income exceeds $50K/yr based on census data. Also known as \"Census Income\" dataset.\\nClassification\\nMultivariate\\n48.84K Instances\\n14 Features\\nSubject Area\\nFeature Type\\nDate Donated\\nViews\\nSocial Science Categorical, Integer 4/30/1996 358.37K',\n",
       " 'Raisin\\nImages of the Kecimen and Besni raisin varieties were obtained with CVS. A total of 900 raisins were used, including 450 from both varieties, and 7 morphological features were extracted.\\nClassification\\nMultivariate\\n900 Instances\\n8 Features\\nSubject Area\\nFeature Type\\nDate Donated\\nViews\\nBiology Real, Integer 8/13/2023 343.57K',\n",
       " 'Wine\\nUsing chemical analysis to determine the origin of wines\\nClassification\\nTabular\\n178 Instances\\n13 Features\\nSubject Area\\nFeature Type\\nDate Donated\\nViews\\nPhysics and Chemistry Integer, Real 6/30/1991 287.46K',\n",
       " 'Breast Cancer Wisconsin (Diagnostic)\\nDiagnostic Wisconsin Breast Cancer Database.\\nClassification\\nMultivariate\\n569 Instances\\n30 Features\\nSubject Area\\nFeature Type\\nDate Donated\\nViews\\nHealth and Medicine Real 10/31/1995 287.4K',\n",
       " 'Wine Quality\\nTwo datasets are included, related to red and white vinho verde wine samples, from the north of Portugal. The goal is to model wine quality based on physicochemical tests (see [Cortez et al., 2009], http://www3.dsi.uminho.pt/pcortez/wine/).\\nClassification, Regression\\nMultivariate\\n4.9K Instances\\n12 Features\\nSubject Area\\nFeature Type\\nDate Donated\\nViews\\nBusiness Real 10/6/2009 236.28K',\n",
       " \"Diabetes\\nThis diabetes dataset is from AIM '94\\nClassification\\nMultivariate, Time-Series\\n1 Instances\\n20 Features\\nSubject Area\\nFeature Type\\nDate Donated\\nViews\\nHealth and Medicine Categorical, Integer N/A 221.05K\"]"
      ]
     },
     "execution_count": 292,
     "metadata": {},
     "output_type": "execute_result"
    }
   ],
   "source": [
    "new_rows"
   ]
  },
  {
   "cell_type": "code",
   "execution_count": 293,
   "id": "86db20ba",
   "metadata": {},
   "outputs": [
    {
     "data": {
      "text/plain": [
       "['Iris',\n",
       " 'Dry Bean Dataset',\n",
       " 'Heart Disease',\n",
       " 'Rice (Cammeo and Osmancik)',\n",
       " 'Adult',\n",
       " 'Raisin',\n",
       " 'Wine',\n",
       " 'Breast Cancer Wisconsin (Diagnostic)',\n",
       " 'Wine Quality',\n",
       " 'Diabetes']"
      ]
     },
     "execution_count": 293,
     "metadata": {},
     "output_type": "execute_result"
    }
   ],
   "source": [
    "Dataset_name = []\n",
    "\n",
    "for i in new_rows :\n",
    "    Dataset_name.append(i.split('\\n')[0])\n",
    "    \n",
    "Dataset_name"
   ]
  },
  {
   "cell_type": "code",
   "execution_count": 294,
   "id": "be71d434",
   "metadata": {},
   "outputs": [
    {
     "data": {
      "text/plain": [
       "['Tabular',\n",
       " 'Multivariate',\n",
       " 'Multivariate',\n",
       " 'Multivariate',\n",
       " 'Multivariate',\n",
       " 'Multivariate',\n",
       " 'Tabular',\n",
       " 'Multivariate',\n",
       " 'Multivariate',\n",
       " 'Multivariate, Time-Series']"
      ]
     },
     "execution_count": 294,
     "metadata": {},
     "output_type": "execute_result"
    }
   ],
   "source": [
    "Data_type = []\n",
    "\n",
    "for i in new_rows :\n",
    "    Data_type.append(i.split('\\n')[3])\n",
    "    \n",
    "Data_type"
   ]
  },
  {
   "cell_type": "code",
   "execution_count": 295,
   "id": "64a7025c",
   "metadata": {},
   "outputs": [
    {
     "data": {
      "text/plain": [
       "['Classification',\n",
       " 'Classification',\n",
       " 'Classification',\n",
       " 'Classification',\n",
       " 'Classification',\n",
       " 'Classification',\n",
       " 'Classification',\n",
       " 'Classification',\n",
       " 'Classification, Regression',\n",
       " 'Classification']"
      ]
     },
     "execution_count": 295,
     "metadata": {},
     "output_type": "execute_result"
    }
   ],
   "source": [
    "Task = []\n",
    "\n",
    "for i in new_rows :\n",
    "    Task.append(i.split('\\n')[2])\n",
    "    \n",
    "Task"
   ]
  },
  {
   "cell_type": "code",
   "execution_count": 296,
   "id": "82762ffe",
   "metadata": {},
   "outputs": [
    {
     "data": {
      "text/plain": [
       "['4', '16', '13', '7', '14', '8', '13', '30', '12', '20']"
      ]
     },
     "execution_count": 296,
     "metadata": {},
     "output_type": "execute_result"
    }
   ],
   "source": [
    "No_attributes = []\n",
    "\n",
    "for i in new_rows :\n",
    "    No_attributes.append(i.split('\\n')[5])\n",
    "    \n",
    "No_of_attributes = []\n",
    "\n",
    "for i in No_attributes :\n",
    "    No_of_attributes.append(i.split(' ')[0])\n",
    "    \n",
    "No_of_attributes\n",
    "    \n"
   ]
  },
  {
   "cell_type": "code",
   "execution_count": 297,
   "id": "63e84a2e",
   "metadata": {},
   "outputs": [
    {
     "data": {
      "text/plain": [
       "['150', '13.61K', '303', '3.81K', '48.84K', '900', '178', '569', '4.9K', '1']"
      ]
     },
     "execution_count": 297,
     "metadata": {},
     "output_type": "execute_result"
    }
   ],
   "source": [
    "No_instance = []\n",
    "\n",
    "for i in new_rows :\n",
    "    No_instance.append(i.split('\\n')[4])\n",
    "    \n",
    "No_of_instance = []\n",
    "\n",
    "for i in No_instance :\n",
    "    No_of_instance.append(i.split(' ')[0])\n",
    "    \n",
    "No_of_instance"
   ]
  },
  {
   "cell_type": "code",
   "execution_count": 298,
   "id": "4075f915",
   "metadata": {},
   "outputs": [
    {
     "data": {
      "text/plain": [
       "['Biology Real 6/30/1988 665.79K',\n",
       " 'Biology Integer, Real 9/13/2020 530.68K',\n",
       " 'Health and Medicine Categorical, Integer, Real 6/30/1988 467.32K',\n",
       " 'Biology Real 10/5/2019 464.14K',\n",
       " 'Social Science Categorical, Integer 4/30/1996 358.37K',\n",
       " 'Biology Real, Integer 8/13/2023 343.57K',\n",
       " 'Physics and Chemistry Integer, Real 6/30/1991 287.46K',\n",
       " 'Health and Medicine Real 10/31/1995 287.4K',\n",
       " 'Business Real 10/6/2009 236.28K',\n",
       " 'Health and Medicine Categorical, Integer N/A 221.05K']"
      ]
     },
     "execution_count": 298,
     "metadata": {},
     "output_type": "execute_result"
    }
   ],
   "source": [
    "rest = []\n",
    "\n",
    "for i in new_rows :\n",
    "    rest.append(i.split('\\n')[-1])\n",
    "    \n",
    "rest"
   ]
  },
  {
   "cell_type": "code",
   "execution_count": 299,
   "id": "18d5032a",
   "metadata": {},
   "outputs": [],
   "source": [
    "def filter_words_by_starting_letter(text, letters):\n",
    "  \n",
    "  filtered_words = []\n",
    "  for word in text.split():\n",
    "      if word[0].upper() in letters:\n",
    "          filtered_words.append(word)\n",
    "  return \" \".join(filtered_words)\n",
    "\n",
    "Attribute_type = [filter_words_by_starting_letter(element, ['R', 'I', 'C']) for element in rest]"
   ]
  },
  {
   "cell_type": "code",
   "execution_count": 300,
   "id": "d9540119",
   "metadata": {},
   "outputs": [
    {
     "data": {
      "text/plain": [
       "['Real',\n",
       " 'Integer, Real',\n",
       " 'Categorical, Integer, Real',\n",
       " 'Real',\n",
       " 'Categorical, Integer',\n",
       " 'Real, Integer',\n",
       " 'Chemistry Integer, Real',\n",
       " 'Real',\n",
       " 'Real',\n",
       " 'Categorical, Integer']"
      ]
     },
     "execution_count": 300,
     "metadata": {},
     "output_type": "execute_result"
    }
   ],
   "source": [
    "Attribute_type"
   ]
  },
  {
   "cell_type": "code",
   "execution_count": 301,
   "id": "1425dee9",
   "metadata": {},
   "outputs": [
    {
     "data": {
      "text/plain": [
       "['6/30/1988',\n",
       " '9/13/2020',\n",
       " '6/30/1988',\n",
       " '10/5/2019',\n",
       " '4/30/1996',\n",
       " '8/13/2023',\n",
       " '6/30/1991',\n",
       " '10/31/1995',\n",
       " '10/6/2009',\n",
       " 'N/A']"
      ]
     },
     "execution_count": 301,
     "metadata": {},
     "output_type": "execute_result"
    }
   ],
   "source": [
    "Year = []\n",
    "\n",
    "for i in rest :\n",
    "    Year.append(i.split(' ')[-2])\n",
    "    \n",
    "Year"
   ]
  },
  {
   "cell_type": "code",
   "execution_count": 302,
   "id": "f9403784",
   "metadata": {},
   "outputs": [],
   "source": [
    "import pandas as pd"
   ]
  },
  {
   "cell_type": "markdown",
   "id": "2b393f36",
   "metadata": {},
   "source": [
    "# 8 - Output"
   ]
  },
  {
   "cell_type": "code",
   "execution_count": 303,
   "id": "d85dfc5b",
   "metadata": {},
   "outputs": [
    {
     "data": {
      "text/html": [
       "<div>\n",
       "<style scoped>\n",
       "    .dataframe tbody tr th:only-of-type {\n",
       "        vertical-align: middle;\n",
       "    }\n",
       "\n",
       "    .dataframe tbody tr th {\n",
       "        vertical-align: top;\n",
       "    }\n",
       "\n",
       "    .dataframe thead th {\n",
       "        text-align: right;\n",
       "    }\n",
       "</style>\n",
       "<table border=\"1\" class=\"dataframe\">\n",
       "  <thead>\n",
       "    <tr style=\"text-align: right;\">\n",
       "      <th></th>\n",
       "      <th>Dataset name</th>\n",
       "      <th>Data type</th>\n",
       "      <th>Task</th>\n",
       "      <th>Attribute type</th>\n",
       "      <th>No of instances</th>\n",
       "      <th>No of attribute</th>\n",
       "      <th>Year</th>\n",
       "    </tr>\n",
       "  </thead>\n",
       "  <tbody>\n",
       "    <tr>\n",
       "      <th>0</th>\n",
       "      <td>Iris</td>\n",
       "      <td>Tabular</td>\n",
       "      <td>Classification</td>\n",
       "      <td>Real</td>\n",
       "      <td>150</td>\n",
       "      <td>4</td>\n",
       "      <td>6/30/1988</td>\n",
       "    </tr>\n",
       "    <tr>\n",
       "      <th>1</th>\n",
       "      <td>Dry Bean Dataset</td>\n",
       "      <td>Multivariate</td>\n",
       "      <td>Classification</td>\n",
       "      <td>Integer, Real</td>\n",
       "      <td>13.61K</td>\n",
       "      <td>16</td>\n",
       "      <td>9/13/2020</td>\n",
       "    </tr>\n",
       "    <tr>\n",
       "      <th>2</th>\n",
       "      <td>Heart Disease</td>\n",
       "      <td>Multivariate</td>\n",
       "      <td>Classification</td>\n",
       "      <td>Categorical, Integer, Real</td>\n",
       "      <td>303</td>\n",
       "      <td>13</td>\n",
       "      <td>6/30/1988</td>\n",
       "    </tr>\n",
       "    <tr>\n",
       "      <th>3</th>\n",
       "      <td>Rice (Cammeo and Osmancik)</td>\n",
       "      <td>Multivariate</td>\n",
       "      <td>Classification</td>\n",
       "      <td>Real</td>\n",
       "      <td>3.81K</td>\n",
       "      <td>7</td>\n",
       "      <td>10/5/2019</td>\n",
       "    </tr>\n",
       "    <tr>\n",
       "      <th>4</th>\n",
       "      <td>Adult</td>\n",
       "      <td>Multivariate</td>\n",
       "      <td>Classification</td>\n",
       "      <td>Categorical, Integer</td>\n",
       "      <td>48.84K</td>\n",
       "      <td>14</td>\n",
       "      <td>4/30/1996</td>\n",
       "    </tr>\n",
       "    <tr>\n",
       "      <th>5</th>\n",
       "      <td>Raisin</td>\n",
       "      <td>Multivariate</td>\n",
       "      <td>Classification</td>\n",
       "      <td>Real, Integer</td>\n",
       "      <td>900</td>\n",
       "      <td>8</td>\n",
       "      <td>8/13/2023</td>\n",
       "    </tr>\n",
       "    <tr>\n",
       "      <th>6</th>\n",
       "      <td>Wine</td>\n",
       "      <td>Tabular</td>\n",
       "      <td>Classification</td>\n",
       "      <td>Chemistry Integer, Real</td>\n",
       "      <td>178</td>\n",
       "      <td>13</td>\n",
       "      <td>6/30/1991</td>\n",
       "    </tr>\n",
       "    <tr>\n",
       "      <th>7</th>\n",
       "      <td>Breast Cancer Wisconsin (Diagnostic)</td>\n",
       "      <td>Multivariate</td>\n",
       "      <td>Classification</td>\n",
       "      <td>Real</td>\n",
       "      <td>569</td>\n",
       "      <td>30</td>\n",
       "      <td>10/31/1995</td>\n",
       "    </tr>\n",
       "    <tr>\n",
       "      <th>8</th>\n",
       "      <td>Wine Quality</td>\n",
       "      <td>Multivariate</td>\n",
       "      <td>Classification, Regression</td>\n",
       "      <td>Real</td>\n",
       "      <td>4.9K</td>\n",
       "      <td>12</td>\n",
       "      <td>10/6/2009</td>\n",
       "    </tr>\n",
       "    <tr>\n",
       "      <th>9</th>\n",
       "      <td>Diabetes</td>\n",
       "      <td>Multivariate, Time-Series</td>\n",
       "      <td>Classification</td>\n",
       "      <td>Categorical, Integer</td>\n",
       "      <td>1</td>\n",
       "      <td>20</td>\n",
       "      <td>N/A</td>\n",
       "    </tr>\n",
       "  </tbody>\n",
       "</table>\n",
       "</div>"
      ],
      "text/plain": [
       "                           Dataset name                  Data type  \\\n",
       "0                                  Iris                    Tabular   \n",
       "1                      Dry Bean Dataset               Multivariate   \n",
       "2                         Heart Disease               Multivariate   \n",
       "3            Rice (Cammeo and Osmancik)               Multivariate   \n",
       "4                                 Adult               Multivariate   \n",
       "5                                Raisin               Multivariate   \n",
       "6                                  Wine                    Tabular   \n",
       "7  Breast Cancer Wisconsin (Diagnostic)               Multivariate   \n",
       "8                          Wine Quality               Multivariate   \n",
       "9                              Diabetes  Multivariate, Time-Series   \n",
       "\n",
       "                         Task              Attribute type No of instances  \\\n",
       "0              Classification                        Real             150   \n",
       "1              Classification               Integer, Real          13.61K   \n",
       "2              Classification  Categorical, Integer, Real             303   \n",
       "3              Classification                        Real           3.81K   \n",
       "4              Classification        Categorical, Integer          48.84K   \n",
       "5              Classification               Real, Integer             900   \n",
       "6              Classification     Chemistry Integer, Real             178   \n",
       "7              Classification                        Real             569   \n",
       "8  Classification, Regression                        Real            4.9K   \n",
       "9              Classification        Categorical, Integer               1   \n",
       "\n",
       "  No of attribute        Year  \n",
       "0               4   6/30/1988  \n",
       "1              16   9/13/2020  \n",
       "2              13   6/30/1988  \n",
       "3               7   10/5/2019  \n",
       "4              14   4/30/1996  \n",
       "5               8   8/13/2023  \n",
       "6              13   6/30/1991  \n",
       "7              30  10/31/1995  \n",
       "8              12   10/6/2009  \n",
       "9              20         N/A  "
      ]
     },
     "execution_count": 303,
     "metadata": {},
     "output_type": "execute_result"
    }
   ],
   "source": [
    "df = pd.DataFrame({'Dataset name': Dataset_name , 'Data type': Data_type , 'Task': Task , 'Attribute type': Attribute_type , 'No of instances': No_of_instance , 'No of attribute': No_of_attributes , 'Year': Year   })\n",
    "df"
   ]
  }
 ],
 "metadata": {
  "kernelspec": {
   "display_name": "Python 3 (ipykernel)",
   "language": "python",
   "name": "python3"
  },
  "language_info": {
   "codemirror_mode": {
    "name": "ipython",
    "version": 3
   },
   "file_extension": ".py",
   "mimetype": "text/x-python",
   "name": "python",
   "nbconvert_exporter": "python",
   "pygments_lexer": "ipython3",
   "version": "3.11.5"
  }
 },
 "nbformat": 4,
 "nbformat_minor": 5
}
