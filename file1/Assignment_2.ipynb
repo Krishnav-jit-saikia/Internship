{
  "nbformat": 4,
  "nbformat_minor": 0,
  "metadata": {
    "colab": {
      "provenance": []
    },
    "kernelspec": {
      "name": "python3",
      "display_name": "Python 3"
    },
    "language_info": {
      "name": "python"
    }
  },
  "cells": [
    {
      "cell_type": "markdown",
      "source": [
        "# **ASSIGNMENT - 2**"
      ],
      "metadata": {
        "id": "DGDitf-O7TDR"
      }
    },
    {
      "cell_type": "markdown",
      "source": [
        "#  Question - 1."
      ],
      "metadata": {
        "id": "zpTX2lIs7fO3"
      }
    },
    {
      "cell_type": "code",
      "source": [
        "import re"
      ],
      "metadata": {
        "id": "DDGO-PCU7eAS"
      },
      "execution_count": null,
      "outputs": []
    },
    {
      "cell_type": "code",
      "source": [
        "Sample_Text = 'Python Exercises, PHP exercises.'\n",
        "pattern = r\"[ ,.]\"\n",
        "Replaced_Sample_Text = re.sub(pattern, \":\", Sample_Text)\n",
        "print(Replaced_Sample_Text)"
      ],
      "metadata": {
        "colab": {
          "base_uri": "https://localhost:8080/"
        },
        "id": "hRpwTVoQ7v_K",
        "outputId": "eba188a7-300a-4ec5-cc67-af26b637423a"
      },
      "execution_count": null,
      "outputs": [
        {
          "output_type": "stream",
          "name": "stdout",
          "text": [
            "Python:Exercises::PHP:exercises:\n"
          ]
        }
      ]
    },
    {
      "cell_type": "markdown",
      "source": [
        "# Question - 2."
      ],
      "metadata": {
        "id": "B4TwF1LP8ToE"
      }
    },
    {
      "cell_type": "code",
      "source": [
        "import pandas as pd"
      ],
      "metadata": {
        "id": "occJB5qM8bHt"
      },
      "execution_count": null,
      "outputs": []
    },
    {
      "cell_type": "code",
      "source": [
        "data = {'SUMMARY': ['hello, world!', 'XXXXX test', '123four, five:; six...']}\n",
        "\n",
        "\n",
        "df = pd.DataFrame(data)\n",
        "\n",
        "def clean_text(text):\n",
        "    import re\n",
        "    return re.sub(r\"[^\\w\\s]\", \"\", text)\n",
        "\n",
        "df['SUMMARY'] = df['SUMMARY'].apply(clean_text)\n",
        "\n",
        "print(df)"
      ],
      "metadata": {
        "colab": {
          "base_uri": "https://localhost:8080/"
        },
        "id": "6oHYlrL79T9q",
        "outputId": "dcb19176-5aa7-4ce3-e50a-8d0201665b8f"
      },
      "execution_count": null,
      "outputs": [
        {
          "output_type": "stream",
          "name": "stdout",
          "text": [
            "            SUMMARY\n",
            "0       hello world\n",
            "1        XXXXX test\n",
            "2  123four five six\n"
          ]
        }
      ]
    },
    {
      "cell_type": "markdown",
      "source": [
        "# Question 3."
      ],
      "metadata": {
        "id": "b0FmTAnz-gg_"
      }
    },
    {
      "cell_type": "code",
      "source": [
        "import re\n",
        "\n",
        "text = \"A.P.J Abdul Kalam is the Missile-man of India.\"\n",
        "\n",
        "def find_words(text):\n",
        "\n",
        "  pattern = re.compile(r\"\\b\\w{4,}\\b\")\n",
        "  matches = pattern.findall(text)\n",
        "  return matches\n",
        "\n",
        "long_words = find_words(text)\n",
        "\n",
        "print(long_words)"
      ],
      "metadata": {
        "colab": {
          "base_uri": "https://localhost:8080/"
        },
        "id": "IS6GfMIf-jop",
        "outputId": "9f519a61-26b1-45f5-b351-4d154a6a6804"
      },
      "execution_count": null,
      "outputs": [
        {
          "output_type": "stream",
          "name": "stdout",
          "text": [
            "['Abdul', 'Kalam', 'Missile', 'India']\n"
          ]
        }
      ]
    },
    {
      "cell_type": "markdown",
      "source": [
        "# Question 4."
      ],
      "metadata": {
        "id": "mEfvXV5b_z_H"
      }
    },
    {
      "cell_type": "code",
      "source": [
        "text1 = \"A.P.J Abdul Kalam is the Missile-man of India. He was born in Tamilnadu .\"\n",
        "\n",
        "def findwords(text1):\n",
        "\n",
        "  pattern = re.compile(r\"\\b\\w{3,5}\\b\")\n",
        "  matches = pattern.findall(text1)\n",
        "  return matches\n",
        "\n",
        "longwords = findwords(text1)\n",
        "\n",
        "print(longwords)"
      ],
      "metadata": {
        "colab": {
          "base_uri": "https://localhost:8080/"
        },
        "id": "Pdh9LOt0_zHY",
        "outputId": "4cfa6b2c-dab9-4973-94a5-ef8fc7d88f20"
      },
      "execution_count": null,
      "outputs": [
        {
          "output_type": "stream",
          "name": "stdout",
          "text": [
            "['Abdul', 'Kalam', 'the', 'man', 'India', 'was', 'born']\n"
          ]
        }
      ]
    },
    {
      "cell_type": "markdown",
      "source": [
        "# Question 5-"
      ],
      "metadata": {
        "id": "xg4DTNvLBTrJ"
      }
    },
    {
      "cell_type": "code",
      "source": [
        "text2 = [\"example (.com)\", \"hr@fliprobo (.com)\", \"github (.com)\", \"Hello (Data Science World)\", \"Data (Scientist)\"]\n",
        "\n",
        "def remove_parenthesis(text2):\n",
        "\n",
        "\n",
        "  pattern = re.compile(r\"\\(.*?\\)\")\n",
        "  cleaned_strings = [pattern.sub(\"\", string) for string in text2]\n",
        "\n",
        "  return cleaned_strings\n",
        "\n",
        "cleaned_strings = remove_parenthesis(text2)\n",
        "\n",
        "print(cleaned_strings)\n",
        "\n",
        "\n"
      ],
      "metadata": {
        "colab": {
          "base_uri": "https://localhost:8080/"
        },
        "id": "IZQzlULsBDtd",
        "outputId": "34deb5ff-533c-4d30-c14e-f3f4969714e3"
      },
      "execution_count": null,
      "outputs": [
        {
          "output_type": "stream",
          "name": "stdout",
          "text": [
            "['example ', 'hr@fliprobo ', 'github ', 'Hello ', 'Data ']\n"
          ]
        }
      ]
    },
    {
      "cell_type": "markdown",
      "source": [
        "# Question - 6"
      ],
      "metadata": {
        "id": "9hSnpsTsEDif"
      }
    },
    {
      "cell_type": "code",
      "source": [],
      "metadata": {
        "id": "tIPYhYLXFRd0"
      },
      "execution_count": null,
      "outputs": []
    },
    {
      "cell_type": "markdown",
      "source": [
        "# Question - 7"
      ],
      "metadata": {
        "id": "QtektZSrFSBi"
      }
    },
    {
      "cell_type": "code",
      "source": [
        "text3 = \"ImportanceOfRegularExpressionsInPython\"\n",
        "\n",
        "pattern = r\"[A-Z][^A-Z]*\"\n",
        "text_split = re.findall(pattern, text3)\n",
        "\n",
        "print(text_split)"
      ],
      "metadata": {
        "colab": {
          "base_uri": "https://localhost:8080/"
        },
        "id": "rtCMod-lFVit",
        "outputId": "9bfba57b-1b7d-47f2-a07c-6c77605808a5"
      },
      "execution_count": null,
      "outputs": [
        {
          "output_type": "stream",
          "name": "stdout",
          "text": [
            "['Importance', 'Of', 'Regular', 'Expressions', 'In', 'Python']\n"
          ]
        }
      ]
    },
    {
      "cell_type": "markdown",
      "source": [
        "# Question - 8"
      ],
      "metadata": {
        "id": "xrsfiRAgJWlo"
      }
    },
    {
      "cell_type": "code",
      "source": [
        "text4 = \"RegularExpression1IsAn2ImportantTopic3InPython\"\n",
        "\n",
        "def insert_spaces(text4):\n",
        "\n",
        "  pattern = r\"\\d+\\B\"\n",
        "  return re.sub(pattern, r\" \", text4)\n",
        "\n",
        "\n",
        "new_text = insert_spaces(text4)\n",
        "\n",
        "print(new_text)"
      ],
      "metadata": {
        "colab": {
          "base_uri": "https://localhost:8080/"
        },
        "id": "30wppkMGJetO",
        "outputId": "1b3a4fbf-c01a-4061-fd1f-65fb658108fc"
      },
      "execution_count": null,
      "outputs": [
        {
          "output_type": "stream",
          "name": "stdout",
          "text": [
            "RegularExpression IsAn ImportantTopic InPython\n"
          ]
        }
      ]
    },
    {
      "cell_type": "markdown",
      "source": [
        "# Question - 9"
      ],
      "metadata": {
        "id": "ovgtNntYLUu4"
      }
    },
    {
      "cell_type": "code",
      "source": [
        "text5 = \"RegularExpression1IsAn2ImportantTopic3InPython\"\n",
        "\n",
        "def insert_spaces(text5):\n",
        "\n",
        "  pattern = r\"\\d+|\\b[A-Z]\\B\"\n",
        "  return re.sub(pattern, r\" \", text5)\n",
        "\n",
        "\n",
        "new_text1 = insert_spaces(text5)\n",
        "\n",
        "print(new_text1)"
      ],
      "metadata": {
        "colab": {
          "base_uri": "https://localhost:8080/"
        },
        "id": "_AvxkftNLX_4",
        "outputId": "ff925f41-699c-4627-acbc-6e35da0b22b7"
      },
      "execution_count": null,
      "outputs": [
        {
          "output_type": "stream",
          "name": "stdout",
          "text": [
            " egularExpression IsAn ImportantTopic InPython\n"
          ]
        }
      ]
    },
    {
      "cell_type": "markdown",
      "source": [
        "# Question - 10"
      ],
      "metadata": {
        "id": "21btdI_gKE7r"
      }
    },
    {
      "cell_type": "code",
      "source": [],
      "metadata": {
        "id": "JSMnA1-OKIf7"
      },
      "execution_count": null,
      "outputs": []
    },
    {
      "cell_type": "markdown",
      "source": [
        "# Question - 11"
      ],
      "metadata": {
        "id": "QRFyEdGFKJW4"
      }
    },
    {
      "cell_type": "code",
      "source": [
        "import re\n",
        "\n",
        "pattern = r\"^[a-zA-Z0-9_]+$\"\n",
        "string = input(\"Enter a string: \")\n",
        "match = re.match(pattern,string)\n",
        "\n",
        "if match:\n",
        "  print(f\"The string '{string}' matches the pattern.\")\n",
        "else:\n",
        "  print(f\"The string '{string}' does not match the pattern.\")"
      ],
      "metadata": {
        "id": "Mz0UG5t0KMK4"
      },
      "execution_count": null,
      "outputs": []
    },
    {
      "cell_type": "markdown",
      "source": [
        "# Question - 12"
      ],
      "metadata": {
        "id": "Pp_lNiHhK_Xe"
      }
    },
    {
      "cell_type": "code",
      "source": [
        "\n",
        "string = \"123This_string_contains456only_uppercase789and_lowercase_letters0!numbers_and_underscores\"\n",
        "specific_number = \"123\"\n",
        "\n",
        "\n",
        "pattern = f\"^{specific_number}[a-zA-Z0-9_]+$\"\n",
        "match = re.match(pattern, string)\n",
        "\n",
        "\n",
        "if match:\n",
        "  print(f\"The string '{string}' starts with the specific number '{specific_number}' and matches the pattern.\")\n",
        "else:\n",
        "  print(f\"The string '{string}' does not start with the specific number '{specific_number}' or does not match the pattern.\")"
      ],
      "metadata": {
        "id": "dXAnZg9hK-3L"
      },
      "execution_count": null,
      "outputs": []
    },
    {
      "cell_type": "markdown",
      "source": [
        "# Question - 13"
      ],
      "metadata": {
        "id": "c5Zt3TiYMG84"
      }
    },
    {
      "cell_type": "code",
      "source": [
        "def remove_zeros(IPaddress):\n",
        "\n",
        "  pattern = r\"\\b0+([1-9][0-9]?|[0-9])\"\n",
        "  return re.sub(pattern, r\"\\1\", IPaddress)\n",
        "\n",
        "\n",
        "IPaddress = \"001.008.094.196\"\n",
        "cleanedIP = remove_zeros(IPaddress)\n",
        "\n",
        "print(f\"Original IP: {IPaddress}\")\n",
        "print(f\"Cleaned IP: {cleanedIP}\")"
      ],
      "metadata": {
        "id": "_slZKV18MMUy"
      },
      "execution_count": null,
      "outputs": []
    },
    {
      "cell_type": "markdown",
      "source": [
        "# Question - 14"
      ],
      "metadata": {
        "id": "Jfgs1yWjNN2x"
      }
    },
    {
      "cell_type": "code",
      "source": [],
      "metadata": {
        "id": "weU0Xso6NSBM"
      },
      "execution_count": null,
      "outputs": []
    },
    {
      "cell_type": "markdown",
      "source": [
        "# Quesstion - 15"
      ],
      "metadata": {
        "id": "GNzGo_vxOiss"
      }
    },
    {
      "cell_type": "code",
      "source": [
        "text6 = \"The quick brown fox jumps over the lazy dog.\"\n",
        "searched_words1 = [\"fox\", \"dog\", \"horse\"]\n",
        "\n",
        "for word in searched_words1:\n",
        "  pattern = f\"\\\\b{word}\\\\b\"\n",
        "  match = re.search(pattern, text6)\n",
        "\n",
        "\n",
        "  if match:\n",
        "    print(f\"Found '{word}' at position {match.start()}\")\n",
        "  else:\n",
        "    print(f\"Word '{word}' not found\")"
      ],
      "metadata": {
        "id": "xAIpVxigOmKp"
      },
      "execution_count": null,
      "outputs": []
    },
    {
      "cell_type": "markdown",
      "source": [
        "# Question - 16"
      ],
      "metadata": {
        "id": "EqUNtabJPazn"
      }
    },
    {
      "cell_type": "code",
      "source": [
        "text7 = \"The quick brown fox jumps over the lazy dog.\"\n",
        "searched_word2 = \"fox\"\n",
        "\n",
        "pattern = f\"\\\\b{searched_word2}\\\\b\"\n",
        "match = re.search(pattern, text7)\n",
        "\n",
        "if match:\n",
        "  print(f\"Found '{searched_word2}' at position {match.start()}\")\n",
        "else:\n",
        "  print(f\"Word '{searched_word2}' not found\")"
      ],
      "metadata": {
        "id": "Ad-1SY8xPfSB"
      },
      "execution_count": null,
      "outputs": []
    },
    {
      "cell_type": "markdown",
      "source": [
        "# Question - 17"
      ],
      "metadata": {
        "id": "VLvyQ04hQWAR"
      }
    },
    {
      "cell_type": "code",
      "source": [
        "text8 = \"Python exercises, PHP exercises, C# exercises\"\n",
        "pattern = \"exercises\"\n",
        "\n",
        "matches = re.findall(pattern, text8)\n",
        "\n",
        "print(f\"Found substrings: {matches}\")"
      ],
      "metadata": {
        "id": "J-3Ce7QfQZmz"
      },
      "execution_count": null,
      "outputs": []
    },
    {
      "cell_type": "markdown",
      "source": [
        "# Question - 18"
      ],
      "metadata": {
        "id": "3XUK2nVQRQkt"
      }
    },
    {
      "cell_type": "code",
      "source": [
        "text9 = \"Python exercises, PHP exercises, C# exercises\"\n",
        "pattern = \"exercises\"\n",
        "\n",
        "matches = re.finditer(pattern, text9)\n",
        "\n",
        "for match in matches:\n",
        "  print(f\"Found '{match.group()}' at position {match.start()}\")"
      ],
      "metadata": {
        "id": "-B6Jr8DsRUeX"
      },
      "execution_count": null,
      "outputs": []
    },
    {
      "cell_type": "markdown",
      "source": [
        "# Question - 19"
      ],
      "metadata": {
        "id": "zCBBE80mRsq4"
      }
    },
    {
      "cell_type": "code",
      "source": [
        "def convert_format(date_string):\n",
        "\n",
        "  pattern = r\"(\\d{4})-(\\d{1,2})-(\\d{1,2})\"\n",
        "  replacement = r\"\\3-\\2-\\1\"\n",
        "  return re.sub(pattern, replacement, date_string)\n",
        "\n",
        "date_string = \"2023-12-13\"\n",
        "converted_date = convert_format(date_string)\n",
        "\n",
        "print(f\"Original date: {date_string}\")\n",
        "print(f\"Converted date: {converted_date}\")"
      ],
      "metadata": {
        "id": "_Sk84d5PRv8L"
      },
      "execution_count": null,
      "outputs": []
    },
    {
      "cell_type": "markdown",
      "source": [
        "# Question - 20"
      ],
      "metadata": {
        "id": "rW8yr9IfSiG-"
      }
    },
    {
      "cell_type": "code",
      "source": [
        "text10 = \"01.12 0132.123 2.31875 145.8 3.01 27.25 0.25\"\n",
        "\n",
        "def find_decimals(text10):\n",
        "\n",
        "  pattern = re.compile(r\"\\d+\\.\\d{1,2}\")\n",
        "  matches = pattern.findall(text10)\n",
        "  return matches\n",
        "\n",
        "decimals = find_decimals(text10)\n",
        "\n",
        "print(f\"Decimal numbers with precision 1 or 2: {decimals}\")"
      ],
      "metadata": {
        "id": "i90U8aMgSlh4"
      },
      "execution_count": null,
      "outputs": []
    },
    {
      "cell_type": "markdown",
      "source": [
        "# Question - 21"
      ],
      "metadata": {
        "id": "x4_ePtMbw96b"
      }
    },
    {
      "cell_type": "code",
      "source": [
        "text10 = \"This string has 3 numbers: 123, 456, and 789.\"\n",
        "\n",
        "def separate_numbers(text10):\n",
        "\n",
        "  pattern = r\"\\d+\"\n",
        "  matches = re.finditer(pattern, text10)\n",
        "\n",
        "  for match in matches:\n",
        "    start, end = match.span()\n",
        "    number = match.group()\n",
        "    print(f\"Number: {number} at position: {start}-{end}\")\n",
        "\n",
        "separate_numbers(text10)"
      ],
      "metadata": {
        "id": "2_yASsbGxdf3"
      },
      "execution_count": null,
      "outputs": []
    },
    {
      "cell_type": "markdown",
      "source": [
        "# Question - 22"
      ],
      "metadata": {
        "id": "HrUafQVKxINP"
      }
    },
    {
      "cell_type": "code",
      "source": [
        "text11 = \"My marks in each semester are: 947, 896, 926, 524, 734, 950, 642\"\n",
        "\n",
        "pattern = r\"\\d+\"\n",
        "matches = re.findall(pattern, text11)\n",
        "\n",
        "max_value = max(int(match) for match in matches)\n",
        "\n",
        "print(f\"The maximum numeric value in the text is: {max_value}\")"
      ],
      "metadata": {
        "id": "AehA0BDkyWAg"
      },
      "execution_count": null,
      "outputs": []
    },
    {
      "cell_type": "markdown",
      "source": [
        "# Question - 23"
      ],
      "metadata": {
        "id": "Xpyn52YLxKd6"
      }
    },
    {
      "cell_type": "code",
      "source": [
        "text12 = \"RegularExpressionIsAnImportantTopicInPython\"\n",
        "\n",
        "def insert_spaces(text12):\n",
        "\n",
        "  pattern = r\"(?<!\\s)([A-Z])\"\n",
        "  return re.sub(pattern, r\" \\1\", text12)\n",
        "\n",
        "modified_text12 = insert_spaces(text)\n",
        "\n",
        "print(f\"Original text: {text12}\")\n",
        "print(f\"Modified text: {modified_text12}\")"
      ],
      "metadata": {
        "id": "arbdWcUTz1Mb"
      },
      "execution_count": null,
      "outputs": []
    },
    {
      "cell_type": "markdown",
      "source": [
        "# Question - 24"
      ],
      "metadata": {
        "id": "plgPpjthxMWF"
      }
    },
    {
      "cell_type": "code",
      "source": [],
      "metadata": {
        "id": "fAMpLMkD0HfG"
      },
      "execution_count": null,
      "outputs": []
    },
    {
      "cell_type": "markdown",
      "source": [
        "# Question - 25"
      ],
      "metadata": {
        "id": "oHaE6CERxOQw"
      }
    },
    {
      "cell_type": "code",
      "source": [
        "text13 = \"Hello hello world world \"\n",
        "\n",
        "def remove_dupes(text13):\n",
        "\n",
        "  pattern = r\"\\b(\\w+)\\s*\\1\\b\"\n",
        "  return re.sub(pattern, r\"\\1\", text13)\n",
        "\n",
        "modified_text = remove_dupes(text13)\n",
        "\n",
        "print(f\"Original text: {text13}\")\n",
        "print(f\"Modified text: {modified_text}\")"
      ],
      "metadata": {
        "id": "D4tKLvbB09yI"
      },
      "execution_count": null,
      "outputs": []
    },
    {
      "cell_type": "markdown",
      "source": [
        "# Question - 27"
      ],
      "metadata": {
        "id": "INQKSokJ2OWg"
      }
    },
    {
      "cell_type": "code",
      "source": [
        "text14 = \"\"\"RT @kapil_kausik: #Doltiwal I mean #xyzabc is \"hurt\" by #Demonetization as the same has rendered USELESS <ed><U+00A0><U+00BD><ed><U+00B1><U+0089> \"acquired funds\" No wo\"\"\"\n",
        "\n",
        "def extract_hashtags(text14):\n",
        "\n",
        "  pattern = r\"#\\w+\"\n",
        "  hashtags = re.findall(pattern, text14)\n",
        "  hashtags = [hashtag.strip() for hashtag in hashtags]\n",
        "\n",
        "  return hashtags\n",
        "\n",
        "\n",
        "extracted_hashtags = extract_hashtags(text14)\n",
        "\n",
        "print(f\"Extracted hashtags: {extracted_hashtags}\")"
      ],
      "metadata": {
        "id": "4-Ph6Hdx2Tu6"
      },
      "execution_count": null,
      "outputs": []
    },
    {
      "cell_type": "markdown",
      "source": [
        "# Question - 28"
      ],
      "metadata": {
        "id": "OJIaf9QV3Z4Z"
      }
    },
    {
      "cell_type": "code",
      "source": [
        "text15 = \"@Jags123456 Bharat band on 28??<ed><U+00A0><U+00BD><ed><U+00B8><U+0082>Those who are protesting #demonetization are all different party leaders\"\n",
        "\n",
        "\n",
        "def remove_symbols(text15):\n",
        "\n",
        "  pattern = r\"<U\\+[\\d\\w]{4}>\"\n",
        "\n",
        "  return re.sub(pattern, \"\", text15)\n",
        "\n",
        "\n",
        "new_text = remove_symbols(text15)\n",
        "\n",
        "print(f\"Original text: {text15}\")\n",
        "print(f\"New text: {new_text}\")"
      ],
      "metadata": {
        "id": "yoWMRuLL3dwG"
      },
      "execution_count": null,
      "outputs": []
    },
    {
      "cell_type": "markdown",
      "source": [
        "# Question - 29"
      ],
      "metadata": {
        "id": "Nkj-u20F4RxQ"
      }
    },
    {
      "cell_type": "code",
      "source": [],
      "metadata": {
        "id": "rqUtKhTH4WO4"
      },
      "execution_count": null,
      "outputs": []
    },
    {
      "cell_type": "markdown",
      "source": [
        "# Questin -  30"
      ],
      "metadata": {
        "id": "7aebHcz14-Ps"
      }
    },
    {
      "cell_type": "code",
      "source": [
        "text16 = \"The following example creates an ArrayList with a capacity of 50 elements. 4 elements are then added to the ArrayList and the ArrayList is trimmed accordingly.\"\n",
        "\n",
        "def remove_words(text16):\n",
        "\n",
        "  pattern = re.compile(r\"\\b\\w{2,4}\\b\")\n",
        "\n",
        "  return pattern.sub(\"\", text16)\n",
        "\n",
        "\n",
        "New_text = remove_words(text16)\n",
        "\n",
        "print(f\"Original text: {tex16t}\")\n",
        "print(f\"New text: {New_text}\")"
      ],
      "metadata": {
        "id": "k9lLpVZL5CAG"
      },
      "execution_count": null,
      "outputs": []
    }
  ]
}