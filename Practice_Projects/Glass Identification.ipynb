{
 "cells": [
  {
   "cell_type": "code",
   "execution_count": 210,
   "id": "38a025e8",
   "metadata": {},
   "outputs": [],
   "source": [
    "# First I have import all the important libraries :\n",
    "import pandas as pd\n",
    "import numpy as np\n",
    "import matplotlib.pyplot as plt\n",
    "import seaborn as sns\n",
    "import warnings\n",
    "from sklearn.metrics import accuracy_score , confusion_matrix , classification_report\n",
    "from sklearn.model_selection import GridSearchCV\n",
    "from sklearn.model_selection import cross_val_score\n",
    "warnings.filterwarnings(\"ignore\")"
   ]
  },
  {
   "cell_type": "code",
   "execution_count": 133,
   "id": "47f4447a",
   "metadata": {
    "scrolled": false
   },
   "outputs": [
    {
     "data": {
      "text/html": [
       "<div>\n",
       "<style scoped>\n",
       "    .dataframe tbody tr th:only-of-type {\n",
       "        vertical-align: middle;\n",
       "    }\n",
       "\n",
       "    .dataframe tbody tr th {\n",
       "        vertical-align: top;\n",
       "    }\n",
       "\n",
       "    .dataframe thead th {\n",
       "        text-align: right;\n",
       "    }\n",
       "</style>\n",
       "<table border=\"1\" class=\"dataframe\">\n",
       "  <thead>\n",
       "    <tr style=\"text-align: right;\">\n",
       "      <th></th>\n",
       "      <th>1</th>\n",
       "      <th>1.52101</th>\n",
       "      <th>13.64</th>\n",
       "      <th>4.49</th>\n",
       "      <th>1.10</th>\n",
       "      <th>71.78</th>\n",
       "      <th>0.06</th>\n",
       "      <th>8.75</th>\n",
       "      <th>0.00</th>\n",
       "      <th>0.00.1</th>\n",
       "      <th>1.1</th>\n",
       "    </tr>\n",
       "  </thead>\n",
       "  <tbody>\n",
       "    <tr>\n",
       "      <th>0</th>\n",
       "      <td>2</td>\n",
       "      <td>1.51761</td>\n",
       "      <td>13.89</td>\n",
       "      <td>3.60</td>\n",
       "      <td>1.36</td>\n",
       "      <td>72.73</td>\n",
       "      <td>0.48</td>\n",
       "      <td>7.83</td>\n",
       "      <td>0.00</td>\n",
       "      <td>0.00</td>\n",
       "      <td>1</td>\n",
       "    </tr>\n",
       "    <tr>\n",
       "      <th>1</th>\n",
       "      <td>3</td>\n",
       "      <td>1.51618</td>\n",
       "      <td>13.53</td>\n",
       "      <td>3.55</td>\n",
       "      <td>1.54</td>\n",
       "      <td>72.99</td>\n",
       "      <td>0.39</td>\n",
       "      <td>7.78</td>\n",
       "      <td>0.00</td>\n",
       "      <td>0.00</td>\n",
       "      <td>1</td>\n",
       "    </tr>\n",
       "    <tr>\n",
       "      <th>2</th>\n",
       "      <td>4</td>\n",
       "      <td>1.51766</td>\n",
       "      <td>13.21</td>\n",
       "      <td>3.69</td>\n",
       "      <td>1.29</td>\n",
       "      <td>72.61</td>\n",
       "      <td>0.57</td>\n",
       "      <td>8.22</td>\n",
       "      <td>0.00</td>\n",
       "      <td>0.00</td>\n",
       "      <td>1</td>\n",
       "    </tr>\n",
       "    <tr>\n",
       "      <th>3</th>\n",
       "      <td>5</td>\n",
       "      <td>1.51742</td>\n",
       "      <td>13.27</td>\n",
       "      <td>3.62</td>\n",
       "      <td>1.24</td>\n",
       "      <td>73.08</td>\n",
       "      <td>0.55</td>\n",
       "      <td>8.07</td>\n",
       "      <td>0.00</td>\n",
       "      <td>0.00</td>\n",
       "      <td>1</td>\n",
       "    </tr>\n",
       "    <tr>\n",
       "      <th>4</th>\n",
       "      <td>6</td>\n",
       "      <td>1.51596</td>\n",
       "      <td>12.79</td>\n",
       "      <td>3.61</td>\n",
       "      <td>1.62</td>\n",
       "      <td>72.97</td>\n",
       "      <td>0.64</td>\n",
       "      <td>8.07</td>\n",
       "      <td>0.00</td>\n",
       "      <td>0.26</td>\n",
       "      <td>1</td>\n",
       "    </tr>\n",
       "    <tr>\n",
       "      <th>...</th>\n",
       "      <td>...</td>\n",
       "      <td>...</td>\n",
       "      <td>...</td>\n",
       "      <td>...</td>\n",
       "      <td>...</td>\n",
       "      <td>...</td>\n",
       "      <td>...</td>\n",
       "      <td>...</td>\n",
       "      <td>...</td>\n",
       "      <td>...</td>\n",
       "      <td>...</td>\n",
       "    </tr>\n",
       "    <tr>\n",
       "      <th>208</th>\n",
       "      <td>210</td>\n",
       "      <td>1.51623</td>\n",
       "      <td>14.14</td>\n",
       "      <td>0.00</td>\n",
       "      <td>2.88</td>\n",
       "      <td>72.61</td>\n",
       "      <td>0.08</td>\n",
       "      <td>9.18</td>\n",
       "      <td>1.06</td>\n",
       "      <td>0.00</td>\n",
       "      <td>7</td>\n",
       "    </tr>\n",
       "    <tr>\n",
       "      <th>209</th>\n",
       "      <td>211</td>\n",
       "      <td>1.51685</td>\n",
       "      <td>14.92</td>\n",
       "      <td>0.00</td>\n",
       "      <td>1.99</td>\n",
       "      <td>73.06</td>\n",
       "      <td>0.00</td>\n",
       "      <td>8.40</td>\n",
       "      <td>1.59</td>\n",
       "      <td>0.00</td>\n",
       "      <td>7</td>\n",
       "    </tr>\n",
       "    <tr>\n",
       "      <th>210</th>\n",
       "      <td>212</td>\n",
       "      <td>1.52065</td>\n",
       "      <td>14.36</td>\n",
       "      <td>0.00</td>\n",
       "      <td>2.02</td>\n",
       "      <td>73.42</td>\n",
       "      <td>0.00</td>\n",
       "      <td>8.44</td>\n",
       "      <td>1.64</td>\n",
       "      <td>0.00</td>\n",
       "      <td>7</td>\n",
       "    </tr>\n",
       "    <tr>\n",
       "      <th>211</th>\n",
       "      <td>213</td>\n",
       "      <td>1.51651</td>\n",
       "      <td>14.38</td>\n",
       "      <td>0.00</td>\n",
       "      <td>1.94</td>\n",
       "      <td>73.61</td>\n",
       "      <td>0.00</td>\n",
       "      <td>8.48</td>\n",
       "      <td>1.57</td>\n",
       "      <td>0.00</td>\n",
       "      <td>7</td>\n",
       "    </tr>\n",
       "    <tr>\n",
       "      <th>212</th>\n",
       "      <td>214</td>\n",
       "      <td>1.51711</td>\n",
       "      <td>14.23</td>\n",
       "      <td>0.00</td>\n",
       "      <td>2.08</td>\n",
       "      <td>73.36</td>\n",
       "      <td>0.00</td>\n",
       "      <td>8.62</td>\n",
       "      <td>1.67</td>\n",
       "      <td>0.00</td>\n",
       "      <td>7</td>\n",
       "    </tr>\n",
       "  </tbody>\n",
       "</table>\n",
       "<p>213 rows × 11 columns</p>\n",
       "</div>"
      ],
      "text/plain": [
       "       1  1.52101  13.64  4.49  1.10  71.78  0.06  8.75  0.00  0.00.1  1.1\n",
       "0      2  1.51761  13.89  3.60  1.36  72.73  0.48  7.83  0.00    0.00    1\n",
       "1      3  1.51618  13.53  3.55  1.54  72.99  0.39  7.78  0.00    0.00    1\n",
       "2      4  1.51766  13.21  3.69  1.29  72.61  0.57  8.22  0.00    0.00    1\n",
       "3      5  1.51742  13.27  3.62  1.24  73.08  0.55  8.07  0.00    0.00    1\n",
       "4      6  1.51596  12.79  3.61  1.62  72.97  0.64  8.07  0.00    0.26    1\n",
       "..   ...      ...    ...   ...   ...    ...   ...   ...   ...     ...  ...\n",
       "208  210  1.51623  14.14  0.00  2.88  72.61  0.08  9.18  1.06    0.00    7\n",
       "209  211  1.51685  14.92  0.00  1.99  73.06  0.00  8.40  1.59    0.00    7\n",
       "210  212  1.52065  14.36  0.00  2.02  73.42  0.00  8.44  1.64    0.00    7\n",
       "211  213  1.51651  14.38  0.00  1.94  73.61  0.00  8.48  1.57    0.00    7\n",
       "212  214  1.51711  14.23  0.00  2.08  73.36  0.00  8.62  1.67    0.00    7\n",
       "\n",
       "[213 rows x 11 columns]"
      ]
     },
     "execution_count": 133,
     "metadata": {},
     "output_type": "execute_result"
    }
   ],
   "source": [
    "# I have got the dataset from the given data\n",
    "df = pd.read_csv('Glass_prediction.csv')\n",
    "df"
   ]
  },
  {
   "cell_type": "markdown",
   "id": "c15ef9d9",
   "metadata": {},
   "source": [
    "# Data Cleaning :"
   ]
  },
  {
   "cell_type": "code",
   "execution_count": 134,
   "id": "1eb832f6",
   "metadata": {},
   "outputs": [
    {
     "data": {
      "text/html": [
       "<div>\n",
       "<style scoped>\n",
       "    .dataframe tbody tr th:only-of-type {\n",
       "        vertical-align: middle;\n",
       "    }\n",
       "\n",
       "    .dataframe tbody tr th {\n",
       "        vertical-align: top;\n",
       "    }\n",
       "\n",
       "    .dataframe thead th {\n",
       "        text-align: right;\n",
       "    }\n",
       "</style>\n",
       "<table border=\"1\" class=\"dataframe\">\n",
       "  <thead>\n",
       "    <tr style=\"text-align: right;\">\n",
       "      <th></th>\n",
       "      <th>Id</th>\n",
       "      <th>RI: refractive index</th>\n",
       "      <th>Na: Sodium</th>\n",
       "      <th>Mg: Magnesium</th>\n",
       "      <th>Al: Aluminum</th>\n",
       "      <th>Si: Silicon</th>\n",
       "      <th>K: Potassium</th>\n",
       "      <th>Ca: Calcium</th>\n",
       "      <th>Ba: Barium</th>\n",
       "      <th>Fe: Iron</th>\n",
       "      <th>Type of glass</th>\n",
       "    </tr>\n",
       "  </thead>\n",
       "  <tbody>\n",
       "    <tr>\n",
       "      <th>0</th>\n",
       "      <td>2</td>\n",
       "      <td>1.51761</td>\n",
       "      <td>13.89</td>\n",
       "      <td>3.60</td>\n",
       "      <td>1.36</td>\n",
       "      <td>72.73</td>\n",
       "      <td>0.48</td>\n",
       "      <td>7.83</td>\n",
       "      <td>0.00</td>\n",
       "      <td>0.00</td>\n",
       "      <td>1</td>\n",
       "    </tr>\n",
       "    <tr>\n",
       "      <th>1</th>\n",
       "      <td>3</td>\n",
       "      <td>1.51618</td>\n",
       "      <td>13.53</td>\n",
       "      <td>3.55</td>\n",
       "      <td>1.54</td>\n",
       "      <td>72.99</td>\n",
       "      <td>0.39</td>\n",
       "      <td>7.78</td>\n",
       "      <td>0.00</td>\n",
       "      <td>0.00</td>\n",
       "      <td>1</td>\n",
       "    </tr>\n",
       "    <tr>\n",
       "      <th>2</th>\n",
       "      <td>4</td>\n",
       "      <td>1.51766</td>\n",
       "      <td>13.21</td>\n",
       "      <td>3.69</td>\n",
       "      <td>1.29</td>\n",
       "      <td>72.61</td>\n",
       "      <td>0.57</td>\n",
       "      <td>8.22</td>\n",
       "      <td>0.00</td>\n",
       "      <td>0.00</td>\n",
       "      <td>1</td>\n",
       "    </tr>\n",
       "    <tr>\n",
       "      <th>3</th>\n",
       "      <td>5</td>\n",
       "      <td>1.51742</td>\n",
       "      <td>13.27</td>\n",
       "      <td>3.62</td>\n",
       "      <td>1.24</td>\n",
       "      <td>73.08</td>\n",
       "      <td>0.55</td>\n",
       "      <td>8.07</td>\n",
       "      <td>0.00</td>\n",
       "      <td>0.00</td>\n",
       "      <td>1</td>\n",
       "    </tr>\n",
       "    <tr>\n",
       "      <th>4</th>\n",
       "      <td>6</td>\n",
       "      <td>1.51596</td>\n",
       "      <td>12.79</td>\n",
       "      <td>3.61</td>\n",
       "      <td>1.62</td>\n",
       "      <td>72.97</td>\n",
       "      <td>0.64</td>\n",
       "      <td>8.07</td>\n",
       "      <td>0.00</td>\n",
       "      <td>0.26</td>\n",
       "      <td>1</td>\n",
       "    </tr>\n",
       "    <tr>\n",
       "      <th>...</th>\n",
       "      <td>...</td>\n",
       "      <td>...</td>\n",
       "      <td>...</td>\n",
       "      <td>...</td>\n",
       "      <td>...</td>\n",
       "      <td>...</td>\n",
       "      <td>...</td>\n",
       "      <td>...</td>\n",
       "      <td>...</td>\n",
       "      <td>...</td>\n",
       "      <td>...</td>\n",
       "    </tr>\n",
       "    <tr>\n",
       "      <th>208</th>\n",
       "      <td>210</td>\n",
       "      <td>1.51623</td>\n",
       "      <td>14.14</td>\n",
       "      <td>0.00</td>\n",
       "      <td>2.88</td>\n",
       "      <td>72.61</td>\n",
       "      <td>0.08</td>\n",
       "      <td>9.18</td>\n",
       "      <td>1.06</td>\n",
       "      <td>0.00</td>\n",
       "      <td>7</td>\n",
       "    </tr>\n",
       "    <tr>\n",
       "      <th>209</th>\n",
       "      <td>211</td>\n",
       "      <td>1.51685</td>\n",
       "      <td>14.92</td>\n",
       "      <td>0.00</td>\n",
       "      <td>1.99</td>\n",
       "      <td>73.06</td>\n",
       "      <td>0.00</td>\n",
       "      <td>8.40</td>\n",
       "      <td>1.59</td>\n",
       "      <td>0.00</td>\n",
       "      <td>7</td>\n",
       "    </tr>\n",
       "    <tr>\n",
       "      <th>210</th>\n",
       "      <td>212</td>\n",
       "      <td>1.52065</td>\n",
       "      <td>14.36</td>\n",
       "      <td>0.00</td>\n",
       "      <td>2.02</td>\n",
       "      <td>73.42</td>\n",
       "      <td>0.00</td>\n",
       "      <td>8.44</td>\n",
       "      <td>1.64</td>\n",
       "      <td>0.00</td>\n",
       "      <td>7</td>\n",
       "    </tr>\n",
       "    <tr>\n",
       "      <th>211</th>\n",
       "      <td>213</td>\n",
       "      <td>1.51651</td>\n",
       "      <td>14.38</td>\n",
       "      <td>0.00</td>\n",
       "      <td>1.94</td>\n",
       "      <td>73.61</td>\n",
       "      <td>0.00</td>\n",
       "      <td>8.48</td>\n",
       "      <td>1.57</td>\n",
       "      <td>0.00</td>\n",
       "      <td>7</td>\n",
       "    </tr>\n",
       "    <tr>\n",
       "      <th>212</th>\n",
       "      <td>214</td>\n",
       "      <td>1.51711</td>\n",
       "      <td>14.23</td>\n",
       "      <td>0.00</td>\n",
       "      <td>2.08</td>\n",
       "      <td>73.36</td>\n",
       "      <td>0.00</td>\n",
       "      <td>8.62</td>\n",
       "      <td>1.67</td>\n",
       "      <td>0.00</td>\n",
       "      <td>7</td>\n",
       "    </tr>\n",
       "  </tbody>\n",
       "</table>\n",
       "<p>213 rows × 11 columns</p>\n",
       "</div>"
      ],
      "text/plain": [
       "      Id  RI: refractive index  Na: Sodium  Mg: Magnesium  Al: Aluminum  \\\n",
       "0      2               1.51761       13.89           3.60          1.36   \n",
       "1      3               1.51618       13.53           3.55          1.54   \n",
       "2      4               1.51766       13.21           3.69          1.29   \n",
       "3      5               1.51742       13.27           3.62          1.24   \n",
       "4      6               1.51596       12.79           3.61          1.62   \n",
       "..   ...                   ...         ...            ...           ...   \n",
       "208  210               1.51623       14.14           0.00          2.88   \n",
       "209  211               1.51685       14.92           0.00          1.99   \n",
       "210  212               1.52065       14.36           0.00          2.02   \n",
       "211  213               1.51651       14.38           0.00          1.94   \n",
       "212  214               1.51711       14.23           0.00          2.08   \n",
       "\n",
       "     Si: Silicon  K: Potassium  Ca: Calcium  Ba: Barium  Fe: Iron  \\\n",
       "0          72.73          0.48         7.83        0.00      0.00   \n",
       "1          72.99          0.39         7.78        0.00      0.00   \n",
       "2          72.61          0.57         8.22        0.00      0.00   \n",
       "3          73.08          0.55         8.07        0.00      0.00   \n",
       "4          72.97          0.64         8.07        0.00      0.26   \n",
       "..           ...           ...          ...         ...       ...   \n",
       "208        72.61          0.08         9.18        1.06      0.00   \n",
       "209        73.06          0.00         8.40        1.59      0.00   \n",
       "210        73.42          0.00         8.44        1.64      0.00   \n",
       "211        73.61          0.00         8.48        1.57      0.00   \n",
       "212        73.36          0.00         8.62        1.67      0.00   \n",
       "\n",
       "     Type of glass  \n",
       "0                1  \n",
       "1                1  \n",
       "2                1  \n",
       "3                1  \n",
       "4                1  \n",
       "..             ...  \n",
       "208              7  \n",
       "209              7  \n",
       "210              7  \n",
       "211              7  \n",
       "212              7  \n",
       "\n",
       "[213 rows x 11 columns]"
      ]
     },
     "execution_count": 134,
     "metadata": {},
     "output_type": "execute_result"
    }
   ],
   "source": [
    "# First I am giving the appropriate column names to the respective columns\n",
    "df = pd.concat([df.iloc[[0]], df.iloc[1:]], ignore_index=True)\n",
    "new_column_names = [\"Id\", \"RI: refractive index\", \"Na: Sodium\", \"Mg: Magnesium\",\n",
    "                    \"Al: Aluminum\", \"Si: Silicon\", \"K: Potassium\", \"Ca: Calcium\",\n",
    "                    \"Ba: Barium\", \"Fe: Iron\", \"Type of glass\"]\n",
    "df.columns = new_column_names\n",
    "df"
   ]
  },
  {
   "cell_type": "markdown",
   "id": "830d7fbc",
   "metadata": {},
   "source": [
    "# Data Preprocessing :"
   ]
  },
  {
   "cell_type": "code",
   "execution_count": 135,
   "id": "5bad14b6",
   "metadata": {},
   "outputs": [
    {
     "name": "stdout",
     "output_type": "stream",
     "text": [
      "<class 'pandas.core.frame.DataFrame'>\n",
      "RangeIndex: 213 entries, 0 to 212\n",
      "Data columns (total 11 columns):\n",
      " #   Column                Non-Null Count  Dtype  \n",
      "---  ------                --------------  -----  \n",
      " 0   Id                    213 non-null    int64  \n",
      " 1   RI: refractive index  213 non-null    float64\n",
      " 2   Na: Sodium            213 non-null    float64\n",
      " 3   Mg: Magnesium         213 non-null    float64\n",
      " 4   Al: Aluminum          213 non-null    float64\n",
      " 5   Si: Silicon           213 non-null    float64\n",
      " 6   K: Potassium          213 non-null    float64\n",
      " 7   Ca: Calcium           213 non-null    float64\n",
      " 8   Ba: Barium            213 non-null    float64\n",
      " 9   Fe: Iron              213 non-null    float64\n",
      " 10  Type of glass         213 non-null    int64  \n",
      "dtypes: float64(9), int64(2)\n",
      "memory usage: 18.4 KB\n"
     ]
    }
   ],
   "source": [
    "# Checking the information  of the data\n",
    "df.info()"
   ]
  },
  {
   "cell_type": "code",
   "execution_count": 136,
   "id": "a90a9bfd",
   "metadata": {
    "scrolled": false
   },
   "outputs": [
    {
     "data": {
      "text/plain": [
       "Id                      0\n",
       "RI: refractive index    0\n",
       "Na: Sodium              0\n",
       "Mg: Magnesium           0\n",
       "Al: Aluminum            0\n",
       "Si: Silicon             0\n",
       "K: Potassium            0\n",
       "Ca: Calcium             0\n",
       "Ba: Barium              0\n",
       "Fe: Iron                0\n",
       "Type of glass           0\n",
       "dtype: int64"
      ]
     },
     "execution_count": 136,
     "metadata": {},
     "output_type": "execute_result"
    }
   ],
   "source": [
    "# Checking is there any null value is there in any column\n",
    "df.isnull().sum()"
   ]
  },
  {
   "cell_type": "markdown",
   "id": "fc9f6a71",
   "metadata": {},
   "source": [
    "# Working with outliers :"
   ]
  },
  {
   "cell_type": "code",
   "execution_count": 137,
   "id": "aa6f9460",
   "metadata": {
    "scrolled": true
   },
   "outputs": [
    {
     "data": {
      "text/html": [
       "<div>\n",
       "<style scoped>\n",
       "    .dataframe tbody tr th:only-of-type {\n",
       "        vertical-align: middle;\n",
       "    }\n",
       "\n",
       "    .dataframe tbody tr th {\n",
       "        vertical-align: top;\n",
       "    }\n",
       "\n",
       "    .dataframe thead th {\n",
       "        text-align: right;\n",
       "    }\n",
       "</style>\n",
       "<table border=\"1\" class=\"dataframe\">\n",
       "  <thead>\n",
       "    <tr style=\"text-align: right;\">\n",
       "      <th></th>\n",
       "      <th>Id</th>\n",
       "      <th>RI: refractive index</th>\n",
       "      <th>Na: Sodium</th>\n",
       "      <th>Mg: Magnesium</th>\n",
       "      <th>Al: Aluminum</th>\n",
       "      <th>Si: Silicon</th>\n",
       "      <th>K: Potassium</th>\n",
       "      <th>Ca: Calcium</th>\n",
       "      <th>Ba: Barium</th>\n",
       "      <th>Fe: Iron</th>\n",
       "      <th>Type of glass</th>\n",
       "    </tr>\n",
       "  </thead>\n",
       "  <tbody>\n",
       "    <tr>\n",
       "      <th>count</th>\n",
       "      <td>213.000000</td>\n",
       "      <td>213.000000</td>\n",
       "      <td>213.000000</td>\n",
       "      <td>213.000000</td>\n",
       "      <td>213.000000</td>\n",
       "      <td>213.000000</td>\n",
       "      <td>213.000000</td>\n",
       "      <td>213.000000</td>\n",
       "      <td>213.000000</td>\n",
       "      <td>213.000000</td>\n",
       "      <td>213.000000</td>\n",
       "    </tr>\n",
       "    <tr>\n",
       "      <th>mean</th>\n",
       "      <td>108.000000</td>\n",
       "      <td>1.518353</td>\n",
       "      <td>13.406761</td>\n",
       "      <td>2.676056</td>\n",
       "      <td>1.446526</td>\n",
       "      <td>72.655023</td>\n",
       "      <td>0.499108</td>\n",
       "      <td>8.957934</td>\n",
       "      <td>0.175869</td>\n",
       "      <td>0.057277</td>\n",
       "      <td>2.788732</td>\n",
       "    </tr>\n",
       "    <tr>\n",
       "      <th>std</th>\n",
       "      <td>61.631972</td>\n",
       "      <td>0.003039</td>\n",
       "      <td>0.818371</td>\n",
       "      <td>1.440453</td>\n",
       "      <td>0.499882</td>\n",
       "      <td>0.774052</td>\n",
       "      <td>0.653035</td>\n",
       "      <td>1.426435</td>\n",
       "      <td>0.498245</td>\n",
       "      <td>0.097589</td>\n",
       "      <td>2.105130</td>\n",
       "    </tr>\n",
       "    <tr>\n",
       "      <th>min</th>\n",
       "      <td>2.000000</td>\n",
       "      <td>1.511150</td>\n",
       "      <td>10.730000</td>\n",
       "      <td>0.000000</td>\n",
       "      <td>0.290000</td>\n",
       "      <td>69.810000</td>\n",
       "      <td>0.000000</td>\n",
       "      <td>5.430000</td>\n",
       "      <td>0.000000</td>\n",
       "      <td>0.000000</td>\n",
       "      <td>1.000000</td>\n",
       "    </tr>\n",
       "    <tr>\n",
       "      <th>25%</th>\n",
       "      <td>55.000000</td>\n",
       "      <td>1.516520</td>\n",
       "      <td>12.900000</td>\n",
       "      <td>2.090000</td>\n",
       "      <td>1.190000</td>\n",
       "      <td>72.280000</td>\n",
       "      <td>0.130000</td>\n",
       "      <td>8.240000</td>\n",
       "      <td>0.000000</td>\n",
       "      <td>0.000000</td>\n",
       "      <td>1.000000</td>\n",
       "    </tr>\n",
       "    <tr>\n",
       "      <th>50%</th>\n",
       "      <td>108.000000</td>\n",
       "      <td>1.517680</td>\n",
       "      <td>13.300000</td>\n",
       "      <td>3.480000</td>\n",
       "      <td>1.360000</td>\n",
       "      <td>72.790000</td>\n",
       "      <td>0.560000</td>\n",
       "      <td>8.600000</td>\n",
       "      <td>0.000000</td>\n",
       "      <td>0.000000</td>\n",
       "      <td>2.000000</td>\n",
       "    </tr>\n",
       "    <tr>\n",
       "      <th>75%</th>\n",
       "      <td>161.000000</td>\n",
       "      <td>1.519150</td>\n",
       "      <td>13.830000</td>\n",
       "      <td>3.600000</td>\n",
       "      <td>1.630000</td>\n",
       "      <td>73.090000</td>\n",
       "      <td>0.610000</td>\n",
       "      <td>9.180000</td>\n",
       "      <td>0.000000</td>\n",
       "      <td>0.100000</td>\n",
       "      <td>3.000000</td>\n",
       "    </tr>\n",
       "    <tr>\n",
       "      <th>max</th>\n",
       "      <td>214.000000</td>\n",
       "      <td>1.533930</td>\n",
       "      <td>17.380000</td>\n",
       "      <td>3.980000</td>\n",
       "      <td>3.500000</td>\n",
       "      <td>75.410000</td>\n",
       "      <td>6.210000</td>\n",
       "      <td>16.190000</td>\n",
       "      <td>3.150000</td>\n",
       "      <td>0.510000</td>\n",
       "      <td>7.000000</td>\n",
       "    </tr>\n",
       "  </tbody>\n",
       "</table>\n",
       "</div>"
      ],
      "text/plain": [
       "               Id  RI: refractive index  Na: Sodium  Mg: Magnesium  \\\n",
       "count  213.000000            213.000000  213.000000     213.000000   \n",
       "mean   108.000000              1.518353   13.406761       2.676056   \n",
       "std     61.631972              0.003039    0.818371       1.440453   \n",
       "min      2.000000              1.511150   10.730000       0.000000   \n",
       "25%     55.000000              1.516520   12.900000       2.090000   \n",
       "50%    108.000000              1.517680   13.300000       3.480000   \n",
       "75%    161.000000              1.519150   13.830000       3.600000   \n",
       "max    214.000000              1.533930   17.380000       3.980000   \n",
       "\n",
       "       Al: Aluminum  Si: Silicon  K: Potassium  Ca: Calcium  Ba: Barium  \\\n",
       "count    213.000000   213.000000    213.000000   213.000000  213.000000   \n",
       "mean       1.446526    72.655023      0.499108     8.957934    0.175869   \n",
       "std        0.499882     0.774052      0.653035     1.426435    0.498245   \n",
       "min        0.290000    69.810000      0.000000     5.430000    0.000000   \n",
       "25%        1.190000    72.280000      0.130000     8.240000    0.000000   \n",
       "50%        1.360000    72.790000      0.560000     8.600000    0.000000   \n",
       "75%        1.630000    73.090000      0.610000     9.180000    0.000000   \n",
       "max        3.500000    75.410000      6.210000    16.190000    3.150000   \n",
       "\n",
       "         Fe: Iron  Type of glass  \n",
       "count  213.000000     213.000000  \n",
       "mean     0.057277       2.788732  \n",
       "std      0.097589       2.105130  \n",
       "min      0.000000       1.000000  \n",
       "25%      0.000000       1.000000  \n",
       "50%      0.000000       2.000000  \n",
       "75%      0.100000       3.000000  \n",
       "max      0.510000       7.000000  "
      ]
     },
     "execution_count": 137,
     "metadata": {},
     "output_type": "execute_result"
    }
   ],
   "source": [
    "# Checking for outliers :\n",
    "df.describe()"
   ]
  },
  {
   "cell_type": "code",
   "execution_count": 138,
   "id": "5295c312",
   "metadata": {},
   "outputs": [
    {
     "data": {
      "text/plain": [
       "Id                         Axes(0.125,0.712609;0.133621x0.167391)\n",
       "RI: refractive index    Axes(0.285345,0.712609;0.133621x0.167391)\n",
       "Na: Sodium               Axes(0.44569,0.712609;0.133621x0.167391)\n",
       "Mg: Magnesium           Axes(0.606034,0.712609;0.133621x0.167391)\n",
       "Al: Aluminum            Axes(0.766379,0.712609;0.133621x0.167391)\n",
       "Si: Silicon                Axes(0.125,0.511739;0.133621x0.167391)\n",
       "K: Potassium            Axes(0.285345,0.511739;0.133621x0.167391)\n",
       "Ca: Calcium              Axes(0.44569,0.511739;0.133621x0.167391)\n",
       "Ba: Barium              Axes(0.606034,0.511739;0.133621x0.167391)\n",
       "Fe: Iron                Axes(0.766379,0.511739;0.133621x0.167391)\n",
       "Type of glass               Axes(0.125,0.31087;0.133621x0.167391)\n",
       "dtype: object"
      ]
     },
     "execution_count": 138,
     "metadata": {},
     "output_type": "execute_result"
    },
    {
     "data": {
      "image/png": "[encoded data removed]",
      "text/plain": [
       "<Figure size 1000x1000 with 20 Axes>"
      ]
     },
     "metadata": {},
     "output_type": "display_data"
    }
   ],
   "source": [
    "# Checking visually by bosplot\n",
    "df.plot(kind = 'box', subplots = True ,layout = (4,5), figsize = (10,10))"
   ]
  },
  {
   "cell_type": "code",
   "execution_count": 139,
   "id": "c29edf19",
   "metadata": {},
   "outputs": [],
   "source": [
    "# I can see some outliers on Na:Sodium , Al:Aluminium , K:Potassium , Ca:Calsium , Ba:Barium and Fe:Iron"
   ]
  },
  {
   "cell_type": "code",
   "execution_count": 140,
   "id": "50cad72a",
   "metadata": {},
   "outputs": [
    {
     "data": {
      "text/html": [
       "<div>\n",
       "<style scoped>\n",
       "    .dataframe tbody tr th:only-of-type {\n",
       "        vertical-align: middle;\n",
       "    }\n",
       "\n",
       "    .dataframe tbody tr th {\n",
       "        vertical-align: top;\n",
       "    }\n",
       "\n",
       "    .dataframe thead th {\n",
       "        text-align: right;\n",
       "    }\n",
       "</style>\n",
       "<table border=\"1\" class=\"dataframe\">\n",
       "  <thead>\n",
       "    <tr style=\"text-align: right;\">\n",
       "      <th></th>\n",
       "      <th>Id</th>\n",
       "      <th>RI: refractive index</th>\n",
       "      <th>Na: Sodium</th>\n",
       "      <th>Mg: Magnesium</th>\n",
       "      <th>Al: Aluminum</th>\n",
       "      <th>Si: Silicon</th>\n",
       "      <th>K: Potassium</th>\n",
       "      <th>Ca: Calcium</th>\n",
       "      <th>Ba: Barium</th>\n",
       "      <th>Fe: Iron</th>\n",
       "      <th>Type of glass</th>\n",
       "    </tr>\n",
       "  </thead>\n",
       "  <tbody>\n",
       "    <tr>\n",
       "      <th>0</th>\n",
       "      <td>1.723938</td>\n",
       "      <td>0.245101</td>\n",
       "      <td>0.591880</td>\n",
       "      <td>0.642937</td>\n",
       "      <td>0.173500</td>\n",
       "      <td>0.097091</td>\n",
       "      <td>0.029329</td>\n",
       "      <td>0.792599</td>\n",
       "      <td>0.353808</td>\n",
       "      <td>0.588301</td>\n",
       "      <td>0.851703</td>\n",
       "    </tr>\n",
       "    <tr>\n",
       "      <th>1</th>\n",
       "      <td>1.707675</td>\n",
       "      <td>0.716826</td>\n",
       "      <td>0.150946</td>\n",
       "      <td>0.608144</td>\n",
       "      <td>0.187433</td>\n",
       "      <td>0.433777</td>\n",
       "      <td>0.167472</td>\n",
       "      <td>0.827734</td>\n",
       "      <td>0.353808</td>\n",
       "      <td>0.588301</td>\n",
       "      <td>0.851703</td>\n",
       "    </tr>\n",
       "    <tr>\n",
       "      <th>2</th>\n",
       "      <td>1.691411</td>\n",
       "      <td>0.228607</td>\n",
       "      <td>0.240996</td>\n",
       "      <td>0.705564</td>\n",
       "      <td>0.313863</td>\n",
       "      <td>0.058303</td>\n",
       "      <td>0.108813</td>\n",
       "      <td>0.518546</td>\n",
       "      <td>0.353808</td>\n",
       "      <td>0.588301</td>\n",
       "      <td>0.851703</td>\n",
       "    </tr>\n",
       "    <tr>\n",
       "      <th>3</th>\n",
       "      <td>1.675147</td>\n",
       "      <td>0.307777</td>\n",
       "      <td>0.167507</td>\n",
       "      <td>0.656854</td>\n",
       "      <td>0.414122</td>\n",
       "      <td>0.550322</td>\n",
       "      <td>0.078115</td>\n",
       "      <td>0.623951</td>\n",
       "      <td>0.353808</td>\n",
       "      <td>0.588301</td>\n",
       "      <td>0.851703</td>\n",
       "    </tr>\n",
       "    <tr>\n",
       "      <th>4</th>\n",
       "      <td>1.658884</td>\n",
       "      <td>0.789399</td>\n",
       "      <td>0.755419</td>\n",
       "      <td>0.649895</td>\n",
       "      <td>0.347848</td>\n",
       "      <td>0.407878</td>\n",
       "      <td>0.216258</td>\n",
       "      <td>0.623951</td>\n",
       "      <td>0.353808</td>\n",
       "      <td>2.082200</td>\n",
       "      <td>0.851703</td>\n",
       "    </tr>\n",
       "    <tr>\n",
       "      <th>...</th>\n",
       "      <td>...</td>\n",
       "      <td>...</td>\n",
       "      <td>...</td>\n",
       "      <td>...</td>\n",
       "      <td>...</td>\n",
       "      <td>...</td>\n",
       "      <td>...</td>\n",
       "      <td>...</td>\n",
       "      <td>...</td>\n",
       "      <td>...</td>\n",
       "      <td>...</td>\n",
       "    </tr>\n",
       "    <tr>\n",
       "      <th>208</th>\n",
       "      <td>1.658884</td>\n",
       "      <td>0.700332</td>\n",
       "      <td>0.898085</td>\n",
       "      <td>1.862164</td>\n",
       "      <td>2.874379</td>\n",
       "      <td>0.058303</td>\n",
       "      <td>0.643296</td>\n",
       "      <td>0.156046</td>\n",
       "      <td>1.778672</td>\n",
       "      <td>0.588301</td>\n",
       "      <td>2.005192</td>\n",
       "    </tr>\n",
       "    <tr>\n",
       "      <th>209</th>\n",
       "      <td>1.675147</td>\n",
       "      <td>0.495808</td>\n",
       "      <td>1.853443</td>\n",
       "      <td>1.862164</td>\n",
       "      <td>1.089766</td>\n",
       "      <td>0.524423</td>\n",
       "      <td>0.766090</td>\n",
       "      <td>0.392060</td>\n",
       "      <td>2.844912</td>\n",
       "      <td>0.588301</td>\n",
       "      <td>2.005192</td>\n",
       "    </tr>\n",
       "    <tr>\n",
       "      <th>210</th>\n",
       "      <td>1.691411</td>\n",
       "      <td>0.757727</td>\n",
       "      <td>1.167545</td>\n",
       "      <td>1.862164</td>\n",
       "      <td>1.149921</td>\n",
       "      <td>0.990604</td>\n",
       "      <td>0.766090</td>\n",
       "      <td>0.363952</td>\n",
       "      <td>2.945501</td>\n",
       "      <td>0.588301</td>\n",
       "      <td>2.005192</td>\n",
       "    </tr>\n",
       "    <tr>\n",
       "      <th>211</th>\n",
       "      <td>1.707675</td>\n",
       "      <td>0.607966</td>\n",
       "      <td>1.192041</td>\n",
       "      <td>1.862164</td>\n",
       "      <td>0.989506</td>\n",
       "      <td>1.236644</td>\n",
       "      <td>0.766090</td>\n",
       "      <td>0.335844</td>\n",
       "      <td>2.804676</td>\n",
       "      <td>0.588301</td>\n",
       "      <td>2.005192</td>\n",
       "    </tr>\n",
       "    <tr>\n",
       "      <th>212</th>\n",
       "      <td>1.723938</td>\n",
       "      <td>0.410039</td>\n",
       "      <td>1.008318</td>\n",
       "      <td>1.862164</td>\n",
       "      <td>1.270232</td>\n",
       "      <td>0.912907</td>\n",
       "      <td>0.766090</td>\n",
       "      <td>0.237466</td>\n",
       "      <td>3.005854</td>\n",
       "      <td>0.588301</td>\n",
       "      <td>2.005192</td>\n",
       "    </tr>\n",
       "  </tbody>\n",
       "</table>\n",
       "<p>213 rows × 11 columns</p>\n",
       "</div>"
      ],
      "text/plain": [
       "           Id  RI: refractive index  Na: Sodium  Mg: Magnesium  Al: Aluminum  \\\n",
       "0    1.723938              0.245101    0.591880       0.642937      0.173500   \n",
       "1    1.707675              0.716826    0.150946       0.608144      0.187433   \n",
       "2    1.691411              0.228607    0.240996       0.705564      0.313863   \n",
       "3    1.675147              0.307777    0.167507       0.656854      0.414122   \n",
       "4    1.658884              0.789399    0.755419       0.649895      0.347848   \n",
       "..        ...                   ...         ...            ...           ...   \n",
       "208  1.658884              0.700332    0.898085       1.862164      2.874379   \n",
       "209  1.675147              0.495808    1.853443       1.862164      1.089766   \n",
       "210  1.691411              0.757727    1.167545       1.862164      1.149921   \n",
       "211  1.707675              0.607966    1.192041       1.862164      0.989506   \n",
       "212  1.723938              0.410039    1.008318       1.862164      1.270232   \n",
       "\n",
       "     Si: Silicon  K: Potassium  Ca: Calcium  Ba: Barium  Fe: Iron  \\\n",
       "0       0.097091      0.029329     0.792599    0.353808  0.588301   \n",
       "1       0.433777      0.167472     0.827734    0.353808  0.588301   \n",
       "2       0.058303      0.108813     0.518546    0.353808  0.588301   \n",
       "3       0.550322      0.078115     0.623951    0.353808  0.588301   \n",
       "4       0.407878      0.216258     0.623951    0.353808  2.082200   \n",
       "..           ...           ...          ...         ...       ...   \n",
       "208     0.058303      0.643296     0.156046    1.778672  0.588301   \n",
       "209     0.524423      0.766090     0.392060    2.844912  0.588301   \n",
       "210     0.990604      0.766090     0.363952    2.945501  0.588301   \n",
       "211     1.236644      0.766090     0.335844    2.804676  0.588301   \n",
       "212     0.912907      0.766090     0.237466    3.005854  0.588301   \n",
       "\n",
       "     Type of glass  \n",
       "0         0.851703  \n",
       "1         0.851703  \n",
       "2         0.851703  \n",
       "3         0.851703  \n",
       "4         0.851703  \n",
       "..             ...  \n",
       "208       2.005192  \n",
       "209       2.005192  \n",
       "210       2.005192  \n",
       "211       2.005192  \n",
       "212       2.005192  \n",
       "\n",
       "[213 rows x 11 columns]"
      ]
     },
     "execution_count": 140,
     "metadata": {},
     "output_type": "execute_result"
    }
   ],
   "source": [
    "from scipy.stats import zscore\n",
    "z = np.abs(zscore(df))\n",
    "z"
   ]
  },
  {
   "cell_type": "code",
   "execution_count": 141,
   "id": "22757a9c",
   "metadata": {},
   "outputs": [
    {
     "name": "stdout",
     "output_type": "stream",
     "text": [
      "(array([104, 105, 105, 105, 105, 105, 106, 106, 106, 109, 110, 111, 111,\n",
      "       130, 144, 161, 162, 162, 162, 170, 170, 171, 171, 173, 183, 183,\n",
      "       187, 188, 200, 200, 202, 206, 212], dtype=int64), array([7, 1, 2, 5, 7, 8, 1, 5, 7, 7, 7, 1, 7, 7, 9, 9, 4, 5, 8, 4, 6, 4,\n",
      "       6, 9, 2, 5, 5, 8, 5, 6, 8, 8, 8], dtype=int64))\n"
     ]
    }
   ],
   "source": [
    "threshold = 3\n",
    "print(np.where(z>3))"
   ]
  },
  {
   "cell_type": "code",
   "execution_count": 142,
   "id": "83cf4e7e",
   "metadata": {},
   "outputs": [
    {
     "data": {
      "text/html": [
       "<div>\n",
       "<style scoped>\n",
       "    .dataframe tbody tr th:only-of-type {\n",
       "        vertical-align: middle;\n",
       "    }\n",
       "\n",
       "    .dataframe tbody tr th {\n",
       "        vertical-align: top;\n",
       "    }\n",
       "\n",
       "    .dataframe thead th {\n",
       "        text-align: right;\n",
       "    }\n",
       "</style>\n",
       "<table border=\"1\" class=\"dataframe\">\n",
       "  <thead>\n",
       "    <tr style=\"text-align: right;\">\n",
       "      <th></th>\n",
       "      <th>Id</th>\n",
       "      <th>RI: refractive index</th>\n",
       "      <th>Na: Sodium</th>\n",
       "      <th>Mg: Magnesium</th>\n",
       "      <th>Al: Aluminum</th>\n",
       "      <th>Si: Silicon</th>\n",
       "      <th>K: Potassium</th>\n",
       "      <th>Ca: Calcium</th>\n",
       "      <th>Ba: Barium</th>\n",
       "      <th>Fe: Iron</th>\n",
       "      <th>Type of glass</th>\n",
       "    </tr>\n",
       "  </thead>\n",
       "  <tbody>\n",
       "    <tr>\n",
       "      <th>0</th>\n",
       "      <td>2</td>\n",
       "      <td>1.51761</td>\n",
       "      <td>13.89</td>\n",
       "      <td>3.60</td>\n",
       "      <td>1.36</td>\n",
       "      <td>72.73</td>\n",
       "      <td>0.48</td>\n",
       "      <td>7.83</td>\n",
       "      <td>0.00</td>\n",
       "      <td>0.00</td>\n",
       "      <td>1</td>\n",
       "    </tr>\n",
       "    <tr>\n",
       "      <th>1</th>\n",
       "      <td>3</td>\n",
       "      <td>1.51618</td>\n",
       "      <td>13.53</td>\n",
       "      <td>3.55</td>\n",
       "      <td>1.54</td>\n",
       "      <td>72.99</td>\n",
       "      <td>0.39</td>\n",
       "      <td>7.78</td>\n",
       "      <td>0.00</td>\n",
       "      <td>0.00</td>\n",
       "      <td>1</td>\n",
       "    </tr>\n",
       "    <tr>\n",
       "      <th>2</th>\n",
       "      <td>4</td>\n",
       "      <td>1.51766</td>\n",
       "      <td>13.21</td>\n",
       "      <td>3.69</td>\n",
       "      <td>1.29</td>\n",
       "      <td>72.61</td>\n",
       "      <td>0.57</td>\n",
       "      <td>8.22</td>\n",
       "      <td>0.00</td>\n",
       "      <td>0.00</td>\n",
       "      <td>1</td>\n",
       "    </tr>\n",
       "    <tr>\n",
       "      <th>3</th>\n",
       "      <td>5</td>\n",
       "      <td>1.51742</td>\n",
       "      <td>13.27</td>\n",
       "      <td>3.62</td>\n",
       "      <td>1.24</td>\n",
       "      <td>73.08</td>\n",
       "      <td>0.55</td>\n",
       "      <td>8.07</td>\n",
       "      <td>0.00</td>\n",
       "      <td>0.00</td>\n",
       "      <td>1</td>\n",
       "    </tr>\n",
       "    <tr>\n",
       "      <th>4</th>\n",
       "      <td>6</td>\n",
       "      <td>1.51596</td>\n",
       "      <td>12.79</td>\n",
       "      <td>3.61</td>\n",
       "      <td>1.62</td>\n",
       "      <td>72.97</td>\n",
       "      <td>0.64</td>\n",
       "      <td>8.07</td>\n",
       "      <td>0.00</td>\n",
       "      <td>0.26</td>\n",
       "      <td>1</td>\n",
       "    </tr>\n",
       "    <tr>\n",
       "      <th>...</th>\n",
       "      <td>...</td>\n",
       "      <td>...</td>\n",
       "      <td>...</td>\n",
       "      <td>...</td>\n",
       "      <td>...</td>\n",
       "      <td>...</td>\n",
       "      <td>...</td>\n",
       "      <td>...</td>\n",
       "      <td>...</td>\n",
       "      <td>...</td>\n",
       "      <td>...</td>\n",
       "    </tr>\n",
       "    <tr>\n",
       "      <th>207</th>\n",
       "      <td>209</td>\n",
       "      <td>1.51640</td>\n",
       "      <td>14.37</td>\n",
       "      <td>0.00</td>\n",
       "      <td>2.74</td>\n",
       "      <td>72.85</td>\n",
       "      <td>0.00</td>\n",
       "      <td>9.45</td>\n",
       "      <td>0.54</td>\n",
       "      <td>0.00</td>\n",
       "      <td>7</td>\n",
       "    </tr>\n",
       "    <tr>\n",
       "      <th>208</th>\n",
       "      <td>210</td>\n",
       "      <td>1.51623</td>\n",
       "      <td>14.14</td>\n",
       "      <td>0.00</td>\n",
       "      <td>2.88</td>\n",
       "      <td>72.61</td>\n",
       "      <td>0.08</td>\n",
       "      <td>9.18</td>\n",
       "      <td>1.06</td>\n",
       "      <td>0.00</td>\n",
       "      <td>7</td>\n",
       "    </tr>\n",
       "    <tr>\n",
       "      <th>209</th>\n",
       "      <td>211</td>\n",
       "      <td>1.51685</td>\n",
       "      <td>14.92</td>\n",
       "      <td>0.00</td>\n",
       "      <td>1.99</td>\n",
       "      <td>73.06</td>\n",
       "      <td>0.00</td>\n",
       "      <td>8.40</td>\n",
       "      <td>1.59</td>\n",
       "      <td>0.00</td>\n",
       "      <td>7</td>\n",
       "    </tr>\n",
       "    <tr>\n",
       "      <th>210</th>\n",
       "      <td>212</td>\n",
       "      <td>1.52065</td>\n",
       "      <td>14.36</td>\n",
       "      <td>0.00</td>\n",
       "      <td>2.02</td>\n",
       "      <td>73.42</td>\n",
       "      <td>0.00</td>\n",
       "      <td>8.44</td>\n",
       "      <td>1.64</td>\n",
       "      <td>0.00</td>\n",
       "      <td>7</td>\n",
       "    </tr>\n",
       "    <tr>\n",
       "      <th>211</th>\n",
       "      <td>213</td>\n",
       "      <td>1.51651</td>\n",
       "      <td>14.38</td>\n",
       "      <td>0.00</td>\n",
       "      <td>1.94</td>\n",
       "      <td>73.61</td>\n",
       "      <td>0.00</td>\n",
       "      <td>8.48</td>\n",
       "      <td>1.57</td>\n",
       "      <td>0.00</td>\n",
       "      <td>7</td>\n",
       "    </tr>\n",
       "  </tbody>\n",
       "</table>\n",
       "<p>193 rows × 11 columns</p>\n",
       "</div>"
      ],
      "text/plain": [
       "      Id  RI: refractive index  Na: Sodium  Mg: Magnesium  Al: Aluminum  \\\n",
       "0      2               1.51761       13.89           3.60          1.36   \n",
       "1      3               1.51618       13.53           3.55          1.54   \n",
       "2      4               1.51766       13.21           3.69          1.29   \n",
       "3      5               1.51742       13.27           3.62          1.24   \n",
       "4      6               1.51596       12.79           3.61          1.62   \n",
       "..   ...                   ...         ...            ...           ...   \n",
       "207  209               1.51640       14.37           0.00          2.74   \n",
       "208  210               1.51623       14.14           0.00          2.88   \n",
       "209  211               1.51685       14.92           0.00          1.99   \n",
       "210  212               1.52065       14.36           0.00          2.02   \n",
       "211  213               1.51651       14.38           0.00          1.94   \n",
       "\n",
       "     Si: Silicon  K: Potassium  Ca: Calcium  Ba: Barium  Fe: Iron  \\\n",
       "0          72.73          0.48         7.83        0.00      0.00   \n",
       "1          72.99          0.39         7.78        0.00      0.00   \n",
       "2          72.61          0.57         8.22        0.00      0.00   \n",
       "3          73.08          0.55         8.07        0.00      0.00   \n",
       "4          72.97          0.64         8.07        0.00      0.26   \n",
       "..           ...           ...          ...         ...       ...   \n",
       "207        72.85          0.00         9.45        0.54      0.00   \n",
       "208        72.61          0.08         9.18        1.06      0.00   \n",
       "209        73.06          0.00         8.40        1.59      0.00   \n",
       "210        73.42          0.00         8.44        1.64      0.00   \n",
       "211        73.61          0.00         8.48        1.57      0.00   \n",
       "\n",
       "     Type of glass  \n",
       "0                1  \n",
       "1                1  \n",
       "2                1  \n",
       "3                1  \n",
       "4                1  \n",
       "..             ...  \n",
       "207              7  \n",
       "208              7  \n",
       "209              7  \n",
       "210              7  \n",
       "211              7  \n",
       "\n",
       "[193 rows x 11 columns]"
      ]
     },
     "execution_count": 142,
     "metadata": {},
     "output_type": "execute_result"
    }
   ],
   "source": [
    "# I have removed all the outliers by keeping only values which z-score value is less than 3\n",
    "new_df = df[(z<3).all(axis = 1)]\n",
    "new_df"
   ]
  },
  {
   "cell_type": "code",
   "execution_count": 143,
   "id": "6b476f86",
   "metadata": {
    "scrolled": true
   },
   "outputs": [
    {
     "data": {
      "text/html": [
       "<div>\n",
       "<style scoped>\n",
       "    .dataframe tbody tr th:only-of-type {\n",
       "        vertical-align: middle;\n",
       "    }\n",
       "\n",
       "    .dataframe tbody tr th {\n",
       "        vertical-align: top;\n",
       "    }\n",
       "\n",
       "    .dataframe thead th {\n",
       "        text-align: right;\n",
       "    }\n",
       "</style>\n",
       "<table border=\"1\" class=\"dataframe\">\n",
       "  <thead>\n",
       "    <tr style=\"text-align: right;\">\n",
       "      <th></th>\n",
       "      <th>Id</th>\n",
       "      <th>RI: refractive index</th>\n",
       "      <th>Na: Sodium</th>\n",
       "      <th>Mg: Magnesium</th>\n",
       "      <th>Al: Aluminum</th>\n",
       "      <th>Si: Silicon</th>\n",
       "      <th>K: Potassium</th>\n",
       "      <th>Ca: Calcium</th>\n",
       "      <th>Ba: Barium</th>\n",
       "      <th>Fe: Iron</th>\n",
       "      <th>Type of glass</th>\n",
       "    </tr>\n",
       "  </thead>\n",
       "  <tbody>\n",
       "    <tr>\n",
       "      <th>count</th>\n",
       "      <td>193.000000</td>\n",
       "      <td>193.000000</td>\n",
       "      <td>193.000000</td>\n",
       "      <td>193.000000</td>\n",
       "      <td>193.000000</td>\n",
       "      <td>193.000000</td>\n",
       "      <td>193.000000</td>\n",
       "      <td>193.000000</td>\n",
       "      <td>193.000000</td>\n",
       "      <td>193.000000</td>\n",
       "      <td>193.000000</td>\n",
       "    </tr>\n",
       "    <tr>\n",
       "      <th>mean</th>\n",
       "      <td>102.746114</td>\n",
       "      <td>1.518046</td>\n",
       "      <td>13.415803</td>\n",
       "      <td>2.871658</td>\n",
       "      <td>1.424404</td>\n",
       "      <td>72.725492</td>\n",
       "      <td>0.433472</td>\n",
       "      <td>8.825026</td>\n",
       "      <td>0.123990</td>\n",
       "      <td>0.051865</td>\n",
       "      <td>2.626943</td>\n",
       "    </tr>\n",
       "    <tr>\n",
       "      <th>std</th>\n",
       "      <td>61.254530</td>\n",
       "      <td>0.002284</td>\n",
       "      <td>0.674850</td>\n",
       "      <td>1.306938</td>\n",
       "      <td>0.444327</td>\n",
       "      <td>0.582410</td>\n",
       "      <td>0.281741</td>\n",
       "      <td>0.991712</td>\n",
       "      <td>0.357943</td>\n",
       "      <td>0.085924</td>\n",
       "      <td>2.032471</td>\n",
       "    </tr>\n",
       "    <tr>\n",
       "      <th>min</th>\n",
       "      <td>2.000000</td>\n",
       "      <td>1.511310</td>\n",
       "      <td>11.030000</td>\n",
       "      <td>0.000000</td>\n",
       "      <td>0.290000</td>\n",
       "      <td>70.570000</td>\n",
       "      <td>0.000000</td>\n",
       "      <td>5.430000</td>\n",
       "      <td>0.000000</td>\n",
       "      <td>0.000000</td>\n",
       "      <td>1.000000</td>\n",
       "    </tr>\n",
       "    <tr>\n",
       "      <th>25%</th>\n",
       "      <td>50.000000</td>\n",
       "      <td>1.516510</td>\n",
       "      <td>12.940000</td>\n",
       "      <td>2.850000</td>\n",
       "      <td>1.190000</td>\n",
       "      <td>72.380000</td>\n",
       "      <td>0.140000</td>\n",
       "      <td>8.240000</td>\n",
       "      <td>0.000000</td>\n",
       "      <td>0.000000</td>\n",
       "      <td>1.000000</td>\n",
       "    </tr>\n",
       "    <tr>\n",
       "      <th>50%</th>\n",
       "      <td>98.000000</td>\n",
       "      <td>1.517630</td>\n",
       "      <td>13.300000</td>\n",
       "      <td>3.500000</td>\n",
       "      <td>1.360000</td>\n",
       "      <td>72.830000</td>\n",
       "      <td>0.560000</td>\n",
       "      <td>8.580000</td>\n",
       "      <td>0.000000</td>\n",
       "      <td>0.000000</td>\n",
       "      <td>2.000000</td>\n",
       "    </tr>\n",
       "    <tr>\n",
       "      <th>75%</th>\n",
       "      <td>154.000000</td>\n",
       "      <td>1.518980</td>\n",
       "      <td>13.790000</td>\n",
       "      <td>3.610000</td>\n",
       "      <td>1.610000</td>\n",
       "      <td>73.090000</td>\n",
       "      <td>0.600000</td>\n",
       "      <td>9.080000</td>\n",
       "      <td>0.000000</td>\n",
       "      <td>0.090000</td>\n",
       "      <td>3.000000</td>\n",
       "    </tr>\n",
       "    <tr>\n",
       "      <th>max</th>\n",
       "      <td>213.000000</td>\n",
       "      <td>1.527250</td>\n",
       "      <td>15.150000</td>\n",
       "      <td>3.980000</td>\n",
       "      <td>2.880000</td>\n",
       "      <td>74.550000</td>\n",
       "      <td>1.760000</td>\n",
       "      <td>12.500000</td>\n",
       "      <td>1.640000</td>\n",
       "      <td>0.320000</td>\n",
       "      <td>7.000000</td>\n",
       "    </tr>\n",
       "  </tbody>\n",
       "</table>\n",
       "</div>"
      ],
      "text/plain": [
       "               Id  RI: refractive index  Na: Sodium  Mg: Magnesium  \\\n",
       "count  193.000000            193.000000  193.000000     193.000000   \n",
       "mean   102.746114              1.518046   13.415803       2.871658   \n",
       "std     61.254530              0.002284    0.674850       1.306938   \n",
       "min      2.000000              1.511310   11.030000       0.000000   \n",
       "25%     50.000000              1.516510   12.940000       2.850000   \n",
       "50%     98.000000              1.517630   13.300000       3.500000   \n",
       "75%    154.000000              1.518980   13.790000       3.610000   \n",
       "max    213.000000              1.527250   15.150000       3.980000   \n",
       "\n",
       "       Al: Aluminum  Si: Silicon  K: Potassium  Ca: Calcium  Ba: Barium  \\\n",
       "count    193.000000   193.000000    193.000000   193.000000  193.000000   \n",
       "mean       1.424404    72.725492      0.433472     8.825026    0.123990   \n",
       "std        0.444327     0.582410      0.281741     0.991712    0.357943   \n",
       "min        0.290000    70.570000      0.000000     5.430000    0.000000   \n",
       "25%        1.190000    72.380000      0.140000     8.240000    0.000000   \n",
       "50%        1.360000    72.830000      0.560000     8.580000    0.000000   \n",
       "75%        1.610000    73.090000      0.600000     9.080000    0.000000   \n",
       "max        2.880000    74.550000      1.760000    12.500000    1.640000   \n",
       "\n",
       "         Fe: Iron  Type of glass  \n",
       "count  193.000000     193.000000  \n",
       "mean     0.051865       2.626943  \n",
       "std      0.085924       2.032471  \n",
       "min      0.000000       1.000000  \n",
       "25%      0.000000       1.000000  \n",
       "50%      0.000000       2.000000  \n",
       "75%      0.090000       3.000000  \n",
       "max      0.320000       7.000000  "
      ]
     },
     "execution_count": 143,
     "metadata": {},
     "output_type": "execute_result"
    }
   ],
   "source": [
    "new_df.describe()"
   ]
  },
  {
   "cell_type": "markdown",
   "id": "9a8a3f1a",
   "metadata": {},
   "source": [
    "# Checking the skewness :"
   ]
  },
  {
   "cell_type": "code",
   "execution_count": 144,
   "id": "46633936",
   "metadata": {
    "scrolled": true
   },
   "outputs": [
    {
     "data": {
      "image/png": "[encoded data removed]",
      "text/plain": [
       "<Figure size 1500x1000 with 11 Axes>"
      ]
     },
     "metadata": {},
     "output_type": "display_data"
    }
   ],
   "source": [
    "plt.figure(figsize=(15, 10)) \n",
    "for i, col in enumerate(new_df.columns):\n",
    "    ax = plt.subplot(4, 3, i + 1)  \n",
    "    sns.distplot(df[col], ax=ax)  \n",
    "    ax.set_title(col)  \n",
    "\n",
    "\n",
    "plt.tight_layout() \n",
    "\n",
    "plt.show()"
   ]
  },
  {
   "cell_type": "code",
   "execution_count": null,
   "id": "c9bcf1bc",
   "metadata": {},
   "outputs": [],
   "source": [
    "# I think skewness is considerable here in this dataset"
   ]
  },
  {
   "cell_type": "markdown",
   "id": "ad00b6e8",
   "metadata": {},
   "source": [
    "# EDA :"
   ]
  },
  {
   "cell_type": "raw",
   "id": "90ba0dd6",
   "metadata": {},
   "source": [
    "# What does the numbers of the 'Type of Glass' mean : \n",
    "•\t1- building_windows_float_processed\n",
    "•\t2- building_windows_non_float_processed\n",
    "•\t3- vehicle_windows_float_processed\n",
    "•\t4- vehicle_windows_non_float_processed (none in this database)\n",
    "•\t5- containers\n",
    "•\t6- tableware\n",
    "•\t7- headlamps\n"
   ]
  },
  {
   "cell_type": "code",
   "execution_count": 36,
   "id": "1581053d",
   "metadata": {
    "scrolled": true
   },
   "outputs": [
    {
     "data": {
      "text/plain": [
       "<Axes: xlabel='Type of glass', ylabel='RI: refractive index'>"
      ]
     },
     "execution_count": 36,
     "metadata": {},
     "output_type": "execute_result"
    },
    {
     "data": {
      "image/png": "[encoded data removed]",
      "text/plain": [
       "<Figure size 640x480 with 1 Axes>"
      ]
     },
     "metadata": {},
     "output_type": "display_data"
    }
   ],
   "source": [
    "sns.barplot(data=new_df, x='Type of glass', y='RI: refractive index')"
   ]
  },
  {
   "cell_type": "code",
   "execution_count": 299,
   "id": "11b5dd33",
   "metadata": {},
   "outputs": [],
   "source": [
    "# Refrective index is almost same for each type of glass"
   ]
  },
  {
   "cell_type": "code",
   "execution_count": 39,
   "id": "c0c4b1fd",
   "metadata": {
    "scrolled": false
   },
   "outputs": [
    {
     "data": {
      "text/plain": [
       "<Axes: xlabel='Type of glass', ylabel='Na: Sodium'>"
      ]
     },
     "execution_count": 39,
     "metadata": {},
     "output_type": "execute_result"
    },
    {
     "data": {
      "image/png": "[encoded data removed]",
      "text/plain": [
       "<Figure size 640x480 with 1 Axes>"
      ]
     },
     "metadata": {},
     "output_type": "display_data"
    }
   ],
   "source": [
    "sns.barplot(data=new_df, x='Type of glass', y='Na: Sodium' )"
   ]
  },
  {
   "cell_type": "code",
   "execution_count": null,
   "id": "d0792c90",
   "metadata": {},
   "outputs": [],
   "source": [
    "# Sodium (Na) is quite high in the glass types 'headlamps' and 'tableware' as compared to other types"
   ]
  },
  {
   "cell_type": "code",
   "execution_count": 40,
   "id": "627865af",
   "metadata": {
    "scrolled": true
   },
   "outputs": [
    {
     "data": {
      "text/plain": [
       "<Axes: xlabel='Type of glass', ylabel='Mg: Magnesium'>"
      ]
     },
     "execution_count": 40,
     "metadata": {},
     "output_type": "execute_result"
    },
    {
     "data": {
      "image/png": "[encoded data removed]",
      "text/plain": [
       "<Figure size 640x480 with 1 Axes>"
      ]
     },
     "metadata": {},
     "output_type": "display_data"
    }
   ],
   "source": [
    "sns.barplot(data=new_df, x='Type of glass', y='Mg: Magnesium')"
   ]
  },
  {
   "cell_type": "code",
   "execution_count": null,
   "id": "0a85e9d9",
   "metadata": {},
   "outputs": [],
   "source": [
    "# Magnesium is high in glass types 'building_windows_float_processed','building_windows_non_float_processed' and 'vehicle_windows_float_processed'\n",
    "# Magnesium is low in glass types 'containers','tableware' and  'headlamps'\n",
    "# Magnesium is lowest in 'headlamps'"
   ]
  },
  {
   "cell_type": "code",
   "execution_count": 42,
   "id": "876b7e8f",
   "metadata": {
    "scrolled": true
   },
   "outputs": [
    {
     "data": {
      "text/plain": [
       "<Axes: xlabel='Type of glass', ylabel='Al: Aluminum'>"
      ]
     },
     "execution_count": 42,
     "metadata": {},
     "output_type": "execute_result"
    },
    {
     "data": {
      "image/png": "[encoded data removed]",
      "text/plain": [
       "<Figure size 640x480 with 1 Axes>"
      ]
     },
     "metadata": {},
     "output_type": "display_data"
    }
   ],
   "source": [
    "sns.barplot(data=new_df, x='Type of glass', y='Al: Aluminum')"
   ]
  },
  {
   "cell_type": "code",
   "execution_count": null,
   "id": "248567c2",
   "metadata": {},
   "outputs": [],
   "source": [
    "# Aluminium is highest in the glass type 'headlamp' as compared to other types"
   ]
  },
  {
   "cell_type": "code",
   "execution_count": 44,
   "id": "4a76045c",
   "metadata": {
    "scrolled": true
   },
   "outputs": [
    {
     "data": {
      "text/plain": [
       "<Axes: xlabel='Type of glass', ylabel='Si: Silicon'>"
      ]
     },
     "execution_count": 44,
     "metadata": {},
     "output_type": "execute_result"
    },
    {
     "data": {
      "image/png": "[encoded data removed]",
      "text/plain": [
       "<Figure size 640x480 with 1 Axes>"
      ]
     },
     "metadata": {},
     "output_type": "display_data"
    }
   ],
   "source": [
    "sns.barplot(data=new_df, x='Type of glass', y='Si: Silicon')"
   ]
  },
  {
   "cell_type": "code",
   "execution_count": null,
   "id": "1dd1ce66",
   "metadata": {},
   "outputs": [],
   "source": [
    "# Ammount of Silicon is almost same in all the types"
   ]
  },
  {
   "cell_type": "code",
   "execution_count": 45,
   "id": "650ef61f",
   "metadata": {
    "scrolled": true
   },
   "outputs": [
    {
     "data": {
      "text/plain": [
       "<Axes: xlabel='Type of glass', ylabel='K: Potassium'>"
      ]
     },
     "execution_count": 45,
     "metadata": {},
     "output_type": "execute_result"
    },
    {
     "data": {
      "image/png": "[encoded data removed]",
      "text/plain": [
       "<Figure size 640x480 with 1 Axes>"
      ]
     },
     "metadata": {},
     "output_type": "display_data"
    }
   ],
   "source": [
    "sns.barplot(data=new_df, x='Type of glass', y='K: Potassium')"
   ]
  },
  {
   "cell_type": "code",
   "execution_count": 300,
   "id": "4f4cd4c2",
   "metadata": {},
   "outputs": [],
   "source": [
    "# Potassium is highest is glass type 'building_windows_non_float_processed'\n",
    "# Potassium is lowest is glass type 'headlamp'\n",
    "# There is no Potassium in glass type 'tableware'"
   ]
  },
  {
   "cell_type": "code",
   "execution_count": 46,
   "id": "b5ead8ba",
   "metadata": {
    "scrolled": false
   },
   "outputs": [
    {
     "data": {
      "text/plain": [
       "<Axes: xlabel='Type of glass', ylabel='Ca: Calcium'>"
      ]
     },
     "execution_count": 46,
     "metadata": {},
     "output_type": "execute_result"
    },
    {
     "data": {
      "image/png": "[encoded data removed]",
      "text/plain": [
       "<Figure size 640x480 with 1 Axes>"
      ]
     },
     "metadata": {},
     "output_type": "display_data"
    }
   ],
   "source": [
    "sns.barplot(data=new_df, x='Type of glass', y='Ca: Calcium')"
   ]
  },
  {
   "cell_type": "code",
   "execution_count": 301,
   "id": "2fab8239",
   "metadata": {},
   "outputs": [],
   "source": [
    "# Calcium is highest in the glass type 'containers'"
   ]
  },
  {
   "cell_type": "code",
   "execution_count": 47,
   "id": "cfb615c7",
   "metadata": {},
   "outputs": [
    {
     "data": {
      "text/plain": [
       "<Axes: xlabel='Type of glass', ylabel='Ba: Barium'>"
      ]
     },
     "execution_count": 47,
     "metadata": {},
     "output_type": "execute_result"
    },
    {
     "data": {
      "image/png": "[encoded data removed]",
      "text/plain": [
       "<Figure size 640x480 with 1 Axes>"
      ]
     },
     "metadata": {},
     "output_type": "display_data"
    }
   ],
   "source": [
    "sns.barplot(data=new_df, x='Type of glass', y='Ba: Barium')"
   ]
  },
  {
   "cell_type": "code",
   "execution_count": 302,
   "id": "337043b4",
   "metadata": {},
   "outputs": [],
   "source": [
    "# Barrium is highest in the glass type 'headlamp'\n",
    "# There is little amount of Barrium is present in the glass types 'building_windows_float_processed','building_windows_non_float_processed' and 'vehicle_windows_float_processed'\n",
    "# There is no Barrium present in the  glass types 'containers' and 'tableware'"
   ]
  },
  {
   "cell_type": "code",
   "execution_count": 48,
   "id": "99794a2e",
   "metadata": {
    "scrolled": true
   },
   "outputs": [
    {
     "data": {
      "text/plain": [
       "<Axes: xlabel='Type of glass', ylabel='Fe: Iron'>"
      ]
     },
     "execution_count": 48,
     "metadata": {},
     "output_type": "execute_result"
    },
    {
     "data": {
      "image/png": "[encoded data removed]",
      "text/plain": [
       "<Figure size 640x480 with 1 Axes>"
      ]
     },
     "metadata": {},
     "output_type": "display_data"
    }
   ],
   "source": [
    "sns.barplot(data=new_df, x='Type of glass', y='Fe: Iron')"
   ]
  },
  {
   "cell_type": "code",
   "execution_count": null,
   "id": "cb8233c8",
   "metadata": {},
   "outputs": [],
   "source": [
    "# Iron is highest in 'building_windows_non_float_processed'\n",
    "# Iron is lowest in 'headlamp'\n",
    "# There is no iron present in 'tableware'"
   ]
  },
  {
   "cell_type": "markdown",
   "id": "c7da1276",
   "metadata": {},
   "source": [
    "# Checking Correlation :"
   ]
  },
  {
   "cell_type": "code",
   "execution_count": 151,
   "id": "3f108fa9",
   "metadata": {},
   "outputs": [],
   "source": [
    "df.cor = new_df.corr()"
   ]
  },
  {
   "cell_type": "code",
   "execution_count": 152,
   "id": "03b5d7aa",
   "metadata": {
    "scrolled": false
   },
   "outputs": [
    {
     "data": {
      "text/plain": [
       "<Axes: >"
      ]
     },
     "execution_count": 152,
     "metadata": {},
     "output_type": "execute_result"
    },
    {
     "data": {
      "image/png": "[encoded data removed]",
      "text/plain": [
       "<Figure size 640x480 with 2 Axes>"
      ]
     },
     "metadata": {},
     "output_type": "display_data"
    }
   ],
   "source": [
    "sns.heatmap(df.cor)"
   ]
  },
  {
   "cell_type": "markdown",
   "id": "0ba30374",
   "metadata": {},
   "source": [
    "# Feature_importance:"
   ]
  },
  {
   "cell_type": "code",
   "execution_count": 154,
   "id": "747b5c83",
   "metadata": {},
   "outputs": [],
   "source": [
    "# I drop the ID column :\n",
    "n_df = new_df.drop(columns = 'Id' , axis = 1)"
   ]
  },
  {
   "cell_type": "code",
   "execution_count": 155,
   "id": "73576ec6",
   "metadata": {
    "scrolled": true
   },
   "outputs": [
    {
     "data": {
      "text/html": [
       "<div>\n",
       "<style scoped>\n",
       "    .dataframe tbody tr th:only-of-type {\n",
       "        vertical-align: middle;\n",
       "    }\n",
       "\n",
       "    .dataframe tbody tr th {\n",
       "        vertical-align: top;\n",
       "    }\n",
       "\n",
       "    .dataframe thead th {\n",
       "        text-align: right;\n",
       "    }\n",
       "</style>\n",
       "<table border=\"1\" class=\"dataframe\">\n",
       "  <thead>\n",
       "    <tr style=\"text-align: right;\">\n",
       "      <th></th>\n",
       "      <th>RI: refractive index</th>\n",
       "      <th>Na: Sodium</th>\n",
       "      <th>Mg: Magnesium</th>\n",
       "      <th>Al: Aluminum</th>\n",
       "      <th>Si: Silicon</th>\n",
       "      <th>K: Potassium</th>\n",
       "      <th>Ca: Calcium</th>\n",
       "      <th>Ba: Barium</th>\n",
       "      <th>Fe: Iron</th>\n",
       "      <th>Type of glass</th>\n",
       "    </tr>\n",
       "  </thead>\n",
       "  <tbody>\n",
       "    <tr>\n",
       "      <th>0</th>\n",
       "      <td>1.51761</td>\n",
       "      <td>13.89</td>\n",
       "      <td>3.60</td>\n",
       "      <td>1.36</td>\n",
       "      <td>72.73</td>\n",
       "      <td>0.48</td>\n",
       "      <td>7.83</td>\n",
       "      <td>0.00</td>\n",
       "      <td>0.00</td>\n",
       "      <td>1</td>\n",
       "    </tr>\n",
       "    <tr>\n",
       "      <th>1</th>\n",
       "      <td>1.51618</td>\n",
       "      <td>13.53</td>\n",
       "      <td>3.55</td>\n",
       "      <td>1.54</td>\n",
       "      <td>72.99</td>\n",
       "      <td>0.39</td>\n",
       "      <td>7.78</td>\n",
       "      <td>0.00</td>\n",
       "      <td>0.00</td>\n",
       "      <td>1</td>\n",
       "    </tr>\n",
       "    <tr>\n",
       "      <th>2</th>\n",
       "      <td>1.51766</td>\n",
       "      <td>13.21</td>\n",
       "      <td>3.69</td>\n",
       "      <td>1.29</td>\n",
       "      <td>72.61</td>\n",
       "      <td>0.57</td>\n",
       "      <td>8.22</td>\n",
       "      <td>0.00</td>\n",
       "      <td>0.00</td>\n",
       "      <td>1</td>\n",
       "    </tr>\n",
       "    <tr>\n",
       "      <th>3</th>\n",
       "      <td>1.51742</td>\n",
       "      <td>13.27</td>\n",
       "      <td>3.62</td>\n",
       "      <td>1.24</td>\n",
       "      <td>73.08</td>\n",
       "      <td>0.55</td>\n",
       "      <td>8.07</td>\n",
       "      <td>0.00</td>\n",
       "      <td>0.00</td>\n",
       "      <td>1</td>\n",
       "    </tr>\n",
       "    <tr>\n",
       "      <th>4</th>\n",
       "      <td>1.51596</td>\n",
       "      <td>12.79</td>\n",
       "      <td>3.61</td>\n",
       "      <td>1.62</td>\n",
       "      <td>72.97</td>\n",
       "      <td>0.64</td>\n",
       "      <td>8.07</td>\n",
       "      <td>0.00</td>\n",
       "      <td>0.26</td>\n",
       "      <td>1</td>\n",
       "    </tr>\n",
       "    <tr>\n",
       "      <th>...</th>\n",
       "      <td>...</td>\n",
       "      <td>...</td>\n",
       "      <td>...</td>\n",
       "      <td>...</td>\n",
       "      <td>...</td>\n",
       "      <td>...</td>\n",
       "      <td>...</td>\n",
       "      <td>...</td>\n",
       "      <td>...</td>\n",
       "      <td>...</td>\n",
       "    </tr>\n",
       "    <tr>\n",
       "      <th>207</th>\n",
       "      <td>1.51640</td>\n",
       "      <td>14.37</td>\n",
       "      <td>0.00</td>\n",
       "      <td>2.74</td>\n",
       "      <td>72.85</td>\n",
       "      <td>0.00</td>\n",
       "      <td>9.45</td>\n",
       "      <td>0.54</td>\n",
       "      <td>0.00</td>\n",
       "      <td>7</td>\n",
       "    </tr>\n",
       "    <tr>\n",
       "      <th>208</th>\n",
       "      <td>1.51623</td>\n",
       "      <td>14.14</td>\n",
       "      <td>0.00</td>\n",
       "      <td>2.88</td>\n",
       "      <td>72.61</td>\n",
       "      <td>0.08</td>\n",
       "      <td>9.18</td>\n",
       "      <td>1.06</td>\n",
       "      <td>0.00</td>\n",
       "      <td>7</td>\n",
       "    </tr>\n",
       "    <tr>\n",
       "      <th>209</th>\n",
       "      <td>1.51685</td>\n",
       "      <td>14.92</td>\n",
       "      <td>0.00</td>\n",
       "      <td>1.99</td>\n",
       "      <td>73.06</td>\n",
       "      <td>0.00</td>\n",
       "      <td>8.40</td>\n",
       "      <td>1.59</td>\n",
       "      <td>0.00</td>\n",
       "      <td>7</td>\n",
       "    </tr>\n",
       "    <tr>\n",
       "      <th>210</th>\n",
       "      <td>1.52065</td>\n",
       "      <td>14.36</td>\n",
       "      <td>0.00</td>\n",
       "      <td>2.02</td>\n",
       "      <td>73.42</td>\n",
       "      <td>0.00</td>\n",
       "      <td>8.44</td>\n",
       "      <td>1.64</td>\n",
       "      <td>0.00</td>\n",
       "      <td>7</td>\n",
       "    </tr>\n",
       "    <tr>\n",
       "      <th>211</th>\n",
       "      <td>1.51651</td>\n",
       "      <td>14.38</td>\n",
       "      <td>0.00</td>\n",
       "      <td>1.94</td>\n",
       "      <td>73.61</td>\n",
       "      <td>0.00</td>\n",
       "      <td>8.48</td>\n",
       "      <td>1.57</td>\n",
       "      <td>0.00</td>\n",
       "      <td>7</td>\n",
       "    </tr>\n",
       "  </tbody>\n",
       "</table>\n",
       "<p>193 rows × 10 columns</p>\n",
       "</div>"
      ],
      "text/plain": [
       "     RI: refractive index  Na: Sodium  Mg: Magnesium  Al: Aluminum  \\\n",
       "0                 1.51761       13.89           3.60          1.36   \n",
       "1                 1.51618       13.53           3.55          1.54   \n",
       "2                 1.51766       13.21           3.69          1.29   \n",
       "3                 1.51742       13.27           3.62          1.24   \n",
       "4                 1.51596       12.79           3.61          1.62   \n",
       "..                    ...         ...            ...           ...   \n",
       "207               1.51640       14.37           0.00          2.74   \n",
       "208               1.51623       14.14           0.00          2.88   \n",
       "209               1.51685       14.92           0.00          1.99   \n",
       "210               1.52065       14.36           0.00          2.02   \n",
       "211               1.51651       14.38           0.00          1.94   \n",
       "\n",
       "     Si: Silicon  K: Potassium  Ca: Calcium  Ba: Barium  Fe: Iron  \\\n",
       "0          72.73          0.48         7.83        0.00      0.00   \n",
       "1          72.99          0.39         7.78        0.00      0.00   \n",
       "2          72.61          0.57         8.22        0.00      0.00   \n",
       "3          73.08          0.55         8.07        0.00      0.00   \n",
       "4          72.97          0.64         8.07        0.00      0.26   \n",
       "..           ...           ...          ...         ...       ...   \n",
       "207        72.85          0.00         9.45        0.54      0.00   \n",
       "208        72.61          0.08         9.18        1.06      0.00   \n",
       "209        73.06          0.00         8.40        1.59      0.00   \n",
       "210        73.42          0.00         8.44        1.64      0.00   \n",
       "211        73.61          0.00         8.48        1.57      0.00   \n",
       "\n",
       "     Type of glass  \n",
       "0                1  \n",
       "1                1  \n",
       "2                1  \n",
       "3                1  \n",
       "4                1  \n",
       "..             ...  \n",
       "207              7  \n",
       "208              7  \n",
       "209              7  \n",
       "210              7  \n",
       "211              7  \n",
       "\n",
       "[193 rows x 10 columns]"
      ]
     },
     "execution_count": 155,
     "metadata": {},
     "output_type": "execute_result"
    }
   ],
   "source": [
    "n_df"
   ]
  },
  {
   "cell_type": "markdown",
   "id": "76d7ba81",
   "metadata": {},
   "source": [
    "# Using Random Forest :"
   ]
  },
  {
   "cell_type": "code",
   "execution_count": 159,
   "id": "654a60d2",
   "metadata": {},
   "outputs": [],
   "source": [
    "X = n_df.drop(columns = 'Type of glass' , axis = 1)\n",
    "y = n_df['Type of glass']"
   ]
  },
  {
   "cell_type": "code",
   "execution_count": 160,
   "id": "05a317e5",
   "metadata": {},
   "outputs": [],
   "source": [
    "from sklearn.model_selection import train_test_split"
   ]
  },
  {
   "cell_type": "code",
   "execution_count": 161,
   "id": "1ff6f5a5",
   "metadata": {},
   "outputs": [],
   "source": [
    "X_train , X_test , y_train , y_test = train_test_split(X,y,test_size = 0.3)"
   ]
  },
  {
   "cell_type": "code",
   "execution_count": 166,
   "id": "34027623",
   "metadata": {},
   "outputs": [
    {
     "name": "stdout",
     "output_type": "stream",
     "text": [
      " 1) Al: Aluminum                   0.179244\n",
      " 2) Mg: Magnesium                  0.161545\n",
      " 3) RI: refractive index           0.151032\n",
      " 4) Ca: Calcium                    0.128475\n",
      " 5) Ba: Barium                     0.101847\n",
      " 6) K: Potassium                   0.092833\n",
      " 7) Na: Sodium                     0.083242\n",
      " 8) Si: Silicon                    0.076066\n",
      " 9) Fe: Iron                       0.025716\n"
     ]
    },
    {
     "data": {
      "image/png": "[encoded data removed]",
      "text/plain": [
       "<Figure size 640x480 with 1 Axes>"
      ]
     },
     "metadata": {},
     "output_type": "display_data"
    }
   ],
   "source": [
    "# ( I have taken this code from My book 'Python Machine Learning by Sebastine Raschka & Vahid Mirjalili')\n",
    "from sklearn.ensemble import RandomForestClassifier\n",
    "\n",
    "feat_labels = X.columns\n",
    "\n",
    "forest = RandomForestClassifier(n_estimators = 500 , random_state =1)\n",
    "\n",
    "forest.fit(X_train , y_train)\n",
    "importances = forest.feature_importances_\n",
    "\n",
    "indices = np.argsort(importances)[::-1]\n",
    "\n",
    "for f in range(X_train.shape[1]):\n",
    "    print(\"%2d) %-*s %f\" % (f + 1 , 30,\n",
    "                           feat_labels[indices[f]],\n",
    "                           importances[indices[f]]))\n",
    "    \n",
    "plt.title('Feature Importance')\n",
    "plt.bar(range(X_train.shape[1]),\n",
    "       importances[indices],\n",
    "       align = 'center')\n",
    "\n",
    "plt.xticks(range(X_train.shape[1]),\n",
    "          feat_labels[indices], rotation = 90)\n",
    "plt.xlim([-1 , X_train.shape[1]])\n",
    "\n",
    "plt.tight_layout()\n",
    "plt.show()"
   ]
  },
  {
   "cell_type": "code",
   "execution_count": null,
   "id": "4729f68b",
   "metadata": {},
   "outputs": [],
   "source": [
    "# So seeing the feature importance , I will drop Na : Sodium , Si: Silicon and Fe: Iron columns because these columns are not very important"
   ]
  },
  {
   "cell_type": "code",
   "execution_count": 168,
   "id": "4b97fce8",
   "metadata": {},
   "outputs": [],
   "source": [
    "Modified_df = n_df.drop(columns = ['Na: Sodium','Si: Silicon','Fe: Iron'] , axis = 1 )"
   ]
  },
  {
   "cell_type": "code",
   "execution_count": 169,
   "id": "3911bea8",
   "metadata": {},
   "outputs": [
    {
     "data": {
      "text/html": [
       "<div>\n",
       "<style scoped>\n",
       "    .dataframe tbody tr th:only-of-type {\n",
       "        vertical-align: middle;\n",
       "    }\n",
       "\n",
       "    .dataframe tbody tr th {\n",
       "        vertical-align: top;\n",
       "    }\n",
       "\n",
       "    .dataframe thead th {\n",
       "        text-align: right;\n",
       "    }\n",
       "</style>\n",
       "<table border=\"1\" class=\"dataframe\">\n",
       "  <thead>\n",
       "    <tr style=\"text-align: right;\">\n",
       "      <th></th>\n",
       "      <th>RI: refractive index</th>\n",
       "      <th>Mg: Magnesium</th>\n",
       "      <th>Al: Aluminum</th>\n",
       "      <th>K: Potassium</th>\n",
       "      <th>Ca: Calcium</th>\n",
       "      <th>Ba: Barium</th>\n",
       "      <th>Type of glass</th>\n",
       "    </tr>\n",
       "  </thead>\n",
       "  <tbody>\n",
       "    <tr>\n",
       "      <th>0</th>\n",
       "      <td>1.51761</td>\n",
       "      <td>3.60</td>\n",
       "      <td>1.36</td>\n",
       "      <td>0.48</td>\n",
       "      <td>7.83</td>\n",
       "      <td>0.00</td>\n",
       "      <td>1</td>\n",
       "    </tr>\n",
       "    <tr>\n",
       "      <th>1</th>\n",
       "      <td>1.51618</td>\n",
       "      <td>3.55</td>\n",
       "      <td>1.54</td>\n",
       "      <td>0.39</td>\n",
       "      <td>7.78</td>\n",
       "      <td>0.00</td>\n",
       "      <td>1</td>\n",
       "    </tr>\n",
       "    <tr>\n",
       "      <th>2</th>\n",
       "      <td>1.51766</td>\n",
       "      <td>3.69</td>\n",
       "      <td>1.29</td>\n",
       "      <td>0.57</td>\n",
       "      <td>8.22</td>\n",
       "      <td>0.00</td>\n",
       "      <td>1</td>\n",
       "    </tr>\n",
       "    <tr>\n",
       "      <th>3</th>\n",
       "      <td>1.51742</td>\n",
       "      <td>3.62</td>\n",
       "      <td>1.24</td>\n",
       "      <td>0.55</td>\n",
       "      <td>8.07</td>\n",
       "      <td>0.00</td>\n",
       "      <td>1</td>\n",
       "    </tr>\n",
       "    <tr>\n",
       "      <th>4</th>\n",
       "      <td>1.51596</td>\n",
       "      <td>3.61</td>\n",
       "      <td>1.62</td>\n",
       "      <td>0.64</td>\n",
       "      <td>8.07</td>\n",
       "      <td>0.00</td>\n",
       "      <td>1</td>\n",
       "    </tr>\n",
       "    <tr>\n",
       "      <th>...</th>\n",
       "      <td>...</td>\n",
       "      <td>...</td>\n",
       "      <td>...</td>\n",
       "      <td>...</td>\n",
       "      <td>...</td>\n",
       "      <td>...</td>\n",
       "      <td>...</td>\n",
       "    </tr>\n",
       "    <tr>\n",
       "      <th>207</th>\n",
       "      <td>1.51640</td>\n",
       "      <td>0.00</td>\n",
       "      <td>2.74</td>\n",
       "      <td>0.00</td>\n",
       "      <td>9.45</td>\n",
       "      <td>0.54</td>\n",
       "      <td>7</td>\n",
       "    </tr>\n",
       "    <tr>\n",
       "      <th>208</th>\n",
       "      <td>1.51623</td>\n",
       "      <td>0.00</td>\n",
       "      <td>2.88</td>\n",
       "      <td>0.08</td>\n",
       "      <td>9.18</td>\n",
       "      <td>1.06</td>\n",
       "      <td>7</td>\n",
       "    </tr>\n",
       "    <tr>\n",
       "      <th>209</th>\n",
       "      <td>1.51685</td>\n",
       "      <td>0.00</td>\n",
       "      <td>1.99</td>\n",
       "      <td>0.00</td>\n",
       "      <td>8.40</td>\n",
       "      <td>1.59</td>\n",
       "      <td>7</td>\n",
       "    </tr>\n",
       "    <tr>\n",
       "      <th>210</th>\n",
       "      <td>1.52065</td>\n",
       "      <td>0.00</td>\n",
       "      <td>2.02</td>\n",
       "      <td>0.00</td>\n",
       "      <td>8.44</td>\n",
       "      <td>1.64</td>\n",
       "      <td>7</td>\n",
       "    </tr>\n",
       "    <tr>\n",
       "      <th>211</th>\n",
       "      <td>1.51651</td>\n",
       "      <td>0.00</td>\n",
       "      <td>1.94</td>\n",
       "      <td>0.00</td>\n",
       "      <td>8.48</td>\n",
       "      <td>1.57</td>\n",
       "      <td>7</td>\n",
       "    </tr>\n",
       "  </tbody>\n",
       "</table>\n",
       "<p>193 rows × 7 columns</p>\n",
       "</div>"
      ],
      "text/plain": [
       "     RI: refractive index  Mg: Magnesium  Al: Aluminum  K: Potassium  \\\n",
       "0                 1.51761           3.60          1.36          0.48   \n",
       "1                 1.51618           3.55          1.54          0.39   \n",
       "2                 1.51766           3.69          1.29          0.57   \n",
       "3                 1.51742           3.62          1.24          0.55   \n",
       "4                 1.51596           3.61          1.62          0.64   \n",
       "..                    ...            ...           ...           ...   \n",
       "207               1.51640           0.00          2.74          0.00   \n",
       "208               1.51623           0.00          2.88          0.08   \n",
       "209               1.51685           0.00          1.99          0.00   \n",
       "210               1.52065           0.00          2.02          0.00   \n",
       "211               1.51651           0.00          1.94          0.00   \n",
       "\n",
       "     Ca: Calcium  Ba: Barium  Type of glass  \n",
       "0           7.83        0.00              1  \n",
       "1           7.78        0.00              1  \n",
       "2           8.22        0.00              1  \n",
       "3           8.07        0.00              1  \n",
       "4           8.07        0.00              1  \n",
       "..           ...         ...            ...  \n",
       "207         9.45        0.54              7  \n",
       "208         9.18        1.06              7  \n",
       "209         8.40        1.59              7  \n",
       "210         8.44        1.64              7  \n",
       "211         8.48        1.57              7  \n",
       "\n",
       "[193 rows x 7 columns]"
      ]
     },
     "execution_count": 169,
     "metadata": {},
     "output_type": "execute_result"
    }
   ],
   "source": [
    "Modified_df"
   ]
  },
  {
   "cell_type": "code",
   "execution_count": 174,
   "id": "4531db34",
   "metadata": {},
   "outputs": [],
   "source": [
    "# This is the required Dataset"
   ]
  },
  {
   "cell_type": "markdown",
   "id": "64811a85",
   "metadata": {},
   "source": [
    "# Creating a model :"
   ]
  },
  {
   "cell_type": "code",
   "execution_count": 175,
   "id": "c353b0de",
   "metadata": {},
   "outputs": [],
   "source": [
    "X = Modified_df.drop(columns = 'Type of glass' , axis = 1)\n",
    "y = Modified_df['Type of glass']"
   ]
  },
  {
   "cell_type": "code",
   "execution_count": 204,
   "id": "13133fd3",
   "metadata": {},
   "outputs": [],
   "source": [
    "from sklearn.linear_model import LogisticRegression\n",
    "from sklearn.svm import SVC\n",
    "from sklearn.neighbors import KNeighborsClassifier\n",
    "from sklearn.tree import DecisionTreeClassifier\n",
    "from sklearn.ensemble import RandomForestClassifier\n",
    "from sklearn.ensemble import GradientBoostingClassifier\n",
    "from sklearn.ensemble import VotingClassifier\n",
    "from sklearn.ensemble import StackingClassifier"
   ]
  },
  {
   "cell_type": "markdown",
   "id": "f5fc7619",
   "metadata": {},
   "source": [
    "# Logistic Regression :"
   ]
  },
  {
   "cell_type": "code",
   "execution_count": 194,
   "id": "bea0d243",
   "metadata": {},
   "outputs": [],
   "source": [
    "# Checking the best random_state value first :\n",
    "lr_results = []\n",
    "\n",
    "for i  in range(100):\n",
    "    X_train , X_test , y_train  , y_test = train_test_split(X,y,test_size = 0.3 , random_state = i)\n",
    "    lr = LogisticRegression()\n",
    "    lr.fit(X_train , y_train)\n",
    "    y_pred = lr.predict(X_test)\n",
    "    lr_results.append(accuracy_score(y_test , y_pred))"
   ]
  },
  {
   "cell_type": "code",
   "execution_count": 196,
   "id": "182fafdb",
   "metadata": {},
   "outputs": [
    {
     "data": {
      "text/plain": [
       "23"
      ]
     },
     "execution_count": 196,
     "metadata": {},
     "output_type": "execute_result"
    }
   ],
   "source": [
    "# The best random_state for logistic regression here is : 23 \n",
    "np.argmax(lr_results)"
   ]
  },
  {
   "cell_type": "code",
   "execution_count": 189,
   "id": "c0dd1a4a",
   "metadata": {},
   "outputs": [
    {
     "data": {
      "text/plain": [
       "0.7413793103448276"
      ]
     },
     "execution_count": 189,
     "metadata": {},
     "output_type": "execute_result"
    }
   ],
   "source": [
    "# With random_state = 23 , I am getting the accuracy 0.7413793103448276 .\n",
    "lr_results[np.argmax(lr_results)]"
   ]
  },
  {
   "cell_type": "code",
   "execution_count": 211,
   "id": "fe532ab4",
   "metadata": {},
   "outputs": [],
   "source": [
    "X_train1 , X_test1 , y_train1  , y_test1 = train_test_split(X,y,test_size = 0.3 , random_state = 23)"
   ]
  },
  {
   "cell_type": "code",
   "execution_count": 212,
   "id": "ed86fe56",
   "metadata": {},
   "outputs": [
    {
     "name": "stdout",
     "output_type": "stream",
     "text": [
      "Accuracy score of Logistic Regression : 0.7241379310344828\n"
     ]
    }
   ],
   "source": [
    "# Checking the best parameters for LogisticRegression :\n",
    "param_grid = {\n",
    "    'penalty': ['l1', 'l2', 'elasticnet'],\n",
    "    'C': [0.01, 0.001,0.1,1],\n",
    "}\n",
    "\n",
    "grid_search = GridSearchCV(lr, param_grid, cv=5)\n",
    "grid_search.fit(X_train1, y_train1)\n",
    "\n",
    "y_pred_lr = grid_search.best_estimator_.predict(X_test1)\n",
    "\n",
    "accuracy = accuracy_score(y_test1, y_pred_lr)\n",
    "print(\"Accuracy score of Logistic Regression :\", accuracy)"
   ]
  },
  {
   "cell_type": "code",
   "execution_count": 213,
   "id": "5de2a98c",
   "metadata": {},
   "outputs": [
    {
     "name": "stdout",
     "output_type": "stream",
     "text": [
      "best parameters : {'C': 0.1, 'penalty': 'l2'}\n"
     ]
    }
   ],
   "source": [
    "print('best parameters :',grid_search.best_params_)"
   ]
  },
  {
   "cell_type": "code",
   "execution_count": 216,
   "id": "ec5ead0e",
   "metadata": {},
   "outputs": [],
   "source": [
    "LR = LogisticRegression(C = 0.1 , penalty = 'l2')"
   ]
  },
  {
   "cell_type": "code",
   "execution_count": 217,
   "id": "176014a8",
   "metadata": {},
   "outputs": [
    {
     "name": "stdout",
     "output_type": "stream",
     "text": [
      "0.5965789473684211\n"
     ]
    }
   ],
   "source": [
    "# Checking the cross_val_score\n",
    "print(np.mean(cross_val_score(LR,X,y,cv = 10 , scoring = 'accuracy')))"
   ]
  },
  {
   "cell_type": "code",
   "execution_count": 303,
   "id": "cd51b5a3",
   "metadata": {},
   "outputs": [],
   "source": [
    "# We should not relay on LogisticRegression here"
   ]
  },
  {
   "cell_type": "markdown",
   "id": "2f719ade",
   "metadata": {},
   "source": [
    "# Support Vactor Classifier :"
   ]
  },
  {
   "cell_type": "code",
   "execution_count": 218,
   "id": "ee8c7479",
   "metadata": {},
   "outputs": [],
   "source": [
    "# Checking the best random_state value for Support vactor classifier :\n",
    "svc_results = []\n",
    "\n",
    "for i  in range(100):\n",
    "    X_train , X_test , y_train  , y_test = train_test_split(X,y,test_size = 0.3 , random_state = i)\n",
    "    svc = SVC()\n",
    "    svc.fit(X_train , y_train)\n",
    "    y_pred = svc.predict(X_test)\n",
    "    svc_results.append(accuracy_score(y_test , y_pred))"
   ]
  },
  {
   "cell_type": "code",
   "execution_count": 219,
   "id": "287389d3",
   "metadata": {},
   "outputs": [
    {
     "data": {
      "text/plain": [
       "23"
      ]
     },
     "execution_count": 219,
     "metadata": {},
     "output_type": "execute_result"
    }
   ],
   "source": [
    "# best random_sstate for SVC is 23\n",
    "np.argmax(svc_results)"
   ]
  },
  {
   "cell_type": "code",
   "execution_count": 220,
   "id": "ab911527",
   "metadata": {},
   "outputs": [
    {
     "data": {
      "text/plain": [
       "0.7068965517241379"
      ]
     },
     "execution_count": 220,
     "metadata": {},
     "output_type": "execute_result"
    }
   ],
   "source": [
    "# Checking the accuracy at random_state 23\n",
    "svc_results[np.argmax(svc_results)]"
   ]
  },
  {
   "cell_type": "code",
   "execution_count": 222,
   "id": "a8b75578",
   "metadata": {},
   "outputs": [
    {
     "name": "stdout",
     "output_type": "stream",
     "text": [
      "Accuracy score of SVC : 0.7931034482758621\n"
     ]
    }
   ],
   "source": [
    "# Finding the best parameters for SVC \n",
    "param_grid = {\n",
    "    'kernel': ['poly', 'rbf'],\n",
    "    'C': [0.01,0.1,1,10],\n",
    "    'gamma':[0.1,0.2,0.5]\n",
    "}\n",
    "\n",
    "grid_search_svc = GridSearchCV(svc, param_grid, cv=5)\n",
    "grid_search_svc.fit(X_train1, y_train1)\n",
    "\n",
    "y_pred_svc = grid_search_svc.best_estimator_.predict(X_test1)\n",
    "\n",
    "accuracy = accuracy_score(y_test1, y_pred_svc)\n",
    "print(\"Accuracy score of SVC :\", accuracy)"
   ]
  },
  {
   "cell_type": "code",
   "execution_count": 223,
   "id": "9dedb515",
   "metadata": {},
   "outputs": [
    {
     "name": "stdout",
     "output_type": "stream",
     "text": [
      "best parameters : {'C': 10, 'gamma': 0.5, 'kernel': 'poly'}\n"
     ]
    }
   ],
   "source": [
    "print('best parameters :',grid_search_svc.best_params_)"
   ]
  },
  {
   "cell_type": "code",
   "execution_count": 224,
   "id": "1f07c746",
   "metadata": {},
   "outputs": [],
   "source": [
    "SVC = SVC(C = 10 , gamma = 0.5 , kernel = 'poly')"
   ]
  },
  {
   "cell_type": "code",
   "execution_count": 225,
   "id": "3640a0fa",
   "metadata": {},
   "outputs": [
    {
     "name": "stdout",
     "output_type": "stream",
     "text": [
      "0.6426315789473683\n"
     ]
    }
   ],
   "source": [
    "# Checking the cross validation score :\n",
    "print(np.mean(cross_val_score(SVC,X,y,cv = 10 , scoring = 'accuracy')))"
   ]
  },
  {
   "cell_type": "code",
   "execution_count": 304,
   "id": "40d1852c",
   "metadata": {},
   "outputs": [],
   "source": [
    "# Quite better than LogisticRegression but not the best"
   ]
  },
  {
   "cell_type": "markdown",
   "id": "237f4949",
   "metadata": {},
   "source": [
    "# KNN :"
   ]
  },
  {
   "cell_type": "code",
   "execution_count": 226,
   "id": "edfcc2ac",
   "metadata": {},
   "outputs": [],
   "source": [
    "# Finding the best random_state for KNeighborsClassifier here :\n",
    "knn_results = []\n",
    "\n",
    "for i  in range(100):\n",
    "    X_train , X_test , y_train  , y_test = train_test_split(X,y,test_size = 0.3 , random_state = i)\n",
    "    knn = KNeighborsClassifier()\n",
    "    knn.fit(X_train , y_train)\n",
    "    y_pred = knn.predict(X_test)\n",
    "    knn_results.append(accuracy_score(y_test , y_pred))"
   ]
  },
  {
   "cell_type": "code",
   "execution_count": 227,
   "id": "7631f9ce",
   "metadata": {},
   "outputs": [
    {
     "data": {
      "text/plain": [
       "87"
      ]
     },
     "execution_count": 227,
     "metadata": {},
     "output_type": "execute_result"
    }
   ],
   "source": [
    "# Best random_state value is 87\n",
    "np.argmax(knn_results)"
   ]
  },
  {
   "cell_type": "code",
   "execution_count": 228,
   "id": "a7ac2274",
   "metadata": {},
   "outputs": [
    {
     "data": {
      "text/plain": [
       "0.7758620689655172"
      ]
     },
     "execution_count": 228,
     "metadata": {},
     "output_type": "execute_result"
    }
   ],
   "source": [
    "# Checking KNN prediction on random_state 87\n",
    "knn_results[np.argmax(knn_results)]"
   ]
  },
  {
   "cell_type": "code",
   "execution_count": 229,
   "id": "fe0bec03",
   "metadata": {},
   "outputs": [],
   "source": [
    "X_train2, X_test2 , y_train2 , y_test2 = train_test_split(X,y,test_size = 0.3 , random_state = 87)"
   ]
  },
  {
   "cell_type": "code",
   "execution_count": 230,
   "id": "c407e8d1",
   "metadata": {},
   "outputs": [
    {
     "name": "stdout",
     "output_type": "stream",
     "text": [
      "Accuracy score of KNN : 0.7931034482758621\n"
     ]
    }
   ],
   "source": [
    "# Finding the best parameters :\n",
    "param_grid = {\n",
    "    'n_neighbors': [3,5,7,10],\n",
    "    'p': [1,2],\n",
    "    'weights' :['uniform', 'distance'],\n",
    "    'metric':['minkowski','str']\n",
    "}\n",
    "\n",
    "grid_search_knn = GridSearchCV(knn, param_grid, cv=5)\n",
    "grid_search_knn.fit(X_train2, y_train2)\n",
    "\n",
    "y_pred_knn = grid_search_knn.best_estimator_.predict(X_test2)\n",
    "\n",
    "accuracy = accuracy_score(y_test2, y_pred_knn)\n",
    "print(\"Accuracy score of KNN :\", accuracy)"
   ]
  },
  {
   "cell_type": "code",
   "execution_count": 231,
   "id": "e220068b",
   "metadata": {},
   "outputs": [
    {
     "name": "stdout",
     "output_type": "stream",
     "text": [
      "best parameters : {'metric': 'minkowski', 'n_neighbors': 7, 'p': 2, 'weights': 'distance'}\n"
     ]
    }
   ],
   "source": [
    "print('best parameters :',grid_search_knn.best_params_)"
   ]
  },
  {
   "cell_type": "code",
   "execution_count": 232,
   "id": "406581d3",
   "metadata": {},
   "outputs": [],
   "source": [
    "KNN = KNeighborsClassifier(metric = 'minkowski', n_neighbors = 7 , p = 2 , weights = 'distance')"
   ]
  },
  {
   "cell_type": "code",
   "execution_count": 233,
   "id": "30be2966",
   "metadata": {},
   "outputs": [
    {
     "name": "stdout",
     "output_type": "stream",
     "text": [
      "cross_val_score : 0.6636842105263157\n"
     ]
    }
   ],
   "source": [
    "# Finding cross validation svore :\n",
    "print('cross_val_score :',np.mean(cross_val_score(KNN ,X, y , cv = 10 , scoring = 'accuracy')))"
   ]
  },
  {
   "cell_type": "code",
   "execution_count": 305,
   "id": "7d2ceda5",
   "metadata": {},
   "outputs": [],
   "source": [
    "# Better than the above 2 models"
   ]
  },
  {
   "cell_type": "markdown",
   "id": "25e8f760",
   "metadata": {},
   "source": [
    "# Decision Tree Classifier :"
   ]
  },
  {
   "cell_type": "code",
   "execution_count": 235,
   "id": "67032983",
   "metadata": {},
   "outputs": [],
   "source": [
    "# Checking the best random_state value for DecisionTree here :\n",
    "dt_results = []\n",
    "\n",
    "for i  in range(100):\n",
    "    X_train , X_test , y_train  , y_test = train_test_split(X,y,test_size = 0.3 , random_state = i)\n",
    "    dt = DecisionTreeClassifier(max_depth = 7)\n",
    "    dt.fit(X_train , y_train)\n",
    "    y_pred = dt.predict(X_test)\n",
    "    dt_results.append(accuracy_score(y_test , y_pred))"
   ]
  },
  {
   "cell_type": "code",
   "execution_count": 236,
   "id": "3724603b",
   "metadata": {},
   "outputs": [
    {
     "data": {
      "text/plain": [
       "1"
      ]
     },
     "execution_count": 236,
     "metadata": {},
     "output_type": "execute_result"
    }
   ],
   "source": [
    "# Best random_state value is 1\n",
    "np.argmax(dt_results)"
   ]
  },
  {
   "cell_type": "code",
   "execution_count": 238,
   "id": "9ed27778",
   "metadata": {},
   "outputs": [
    {
     "data": {
      "text/plain": [
       "0.8275862068965517"
      ]
     },
     "execution_count": 238,
     "metadata": {},
     "output_type": "execute_result"
    }
   ],
   "source": [
    "# Checking the result in random_state = 1\n",
    "dt_results[np.argmax(dt_results)]"
   ]
  },
  {
   "cell_type": "code",
   "execution_count": 239,
   "id": "c293ba8f",
   "metadata": {},
   "outputs": [],
   "source": [
    "X_train3 , X_test3 , y_train3 , y_test3 = train_test_split(X,y ,test_size = 0.3 , random_state = 1)"
   ]
  },
  {
   "cell_type": "code",
   "execution_count": 241,
   "id": "c58810ab",
   "metadata": {},
   "outputs": [
    {
     "name": "stdout",
     "output_type": "stream",
     "text": [
      "Accuracy score of KNN : 0.8103448275862069\n"
     ]
    }
   ],
   "source": [
    "# Checking best parameters :\n",
    "param_grid = {\n",
    "    'criterion': ['gini','entropy'],\n",
    "    'splitter':['best','random'],\n",
    "    'max_depth': [4 ,5, 6, 7, 8  ],\n",
    "    'min_samples_split': [3,5,6,8],\n",
    "}\n",
    "\n",
    "grid_search_dt = GridSearchCV(dt, param_grid, cv=5)\n",
    "grid_search_dt.fit(X_train3, y_train3)\n",
    "\n",
    "y_pred_dt = grid_search_dt.best_estimator_.predict(X_test3)\n",
    "\n",
    "accuracy = accuracy_score(y_test3, y_pred_dt)\n",
    "print(\"Accuracy score of Decision Tree Classifier :\", accuracy)"
   ]
  },
  {
   "cell_type": "code",
   "execution_count": 242,
   "id": "8be588bc",
   "metadata": {},
   "outputs": [
    {
     "name": "stdout",
     "output_type": "stream",
     "text": [
      "best parameters : {'criterion': 'gini', 'max_depth': 5, 'min_samples_split': 8, 'splitter': 'best'}\n"
     ]
    }
   ],
   "source": [
    "print('best parameters :',grid_search_dt.best_params_)"
   ]
  },
  {
   "cell_type": "code",
   "execution_count": 259,
   "id": "158cdfd7",
   "metadata": {},
   "outputs": [
    {
     "name": "stdout",
     "output_type": "stream",
     "text": [
      "0.8275862068965517\n"
     ]
    }
   ],
   "source": [
    "DT = DecisionTreeClassifier(criterion = 'gini', max_depth = 5 , min_samples_split = 8 , splitter = 'best')\n",
    "DT.fit(X_train3 , y_train3)\n",
    "y_pred_DT = DT.predict(X_test3)\n",
    "print(accuracy_score(y_test3, y_pred_DT))"
   ]
  },
  {
   "cell_type": "code",
   "execution_count": 306,
   "id": "da189f30",
   "metadata": {},
   "outputs": [],
   "source": [
    "# DecisionTreeClassifier is giving good accuracy"
   ]
  },
  {
   "cell_type": "markdown",
   "id": "516465a4",
   "metadata": {},
   "source": [
    "# Random Forest Classifier :"
   ]
  },
  {
   "cell_type": "code",
   "execution_count": 250,
   "id": "a89b063a",
   "metadata": {},
   "outputs": [],
   "source": [
    "# Checking the best random_state value for RandomForestClassifier :\n",
    "rf_results = []\n",
    "\n",
    "for i  in range(100):\n",
    "    X_train , X_test , y_train  , y_test = train_test_split(X,y,test_size = 0.3 , random_state = i)\n",
    "    rf = RandomForestClassifier(n_estimators = 100 ,max_depth = 10)\n",
    "    rf.fit(X_train , y_train)\n",
    "    y_pred = rf.predict(X_test)\n",
    "    rf_results.append(accuracy_score(y_test , y_pred))"
   ]
  },
  {
   "cell_type": "code",
   "execution_count": 251,
   "id": "cca4a2f2",
   "metadata": {},
   "outputs": [
    {
     "data": {
      "text/plain": [
       "79"
      ]
     },
     "execution_count": 251,
     "metadata": {},
     "output_type": "execute_result"
    }
   ],
   "source": [
    "# The best random_state value is 79\n",
    "np.argmax(rf_results)"
   ]
  },
  {
   "cell_type": "code",
   "execution_count": 252,
   "id": "92d91a82",
   "metadata": {},
   "outputs": [
    {
     "data": {
      "text/plain": [
       "0.896551724137931"
      ]
     },
     "execution_count": 252,
     "metadata": {},
     "output_type": "execute_result"
    }
   ],
   "source": [
    "# Checking the accuracy in random_state 79\n",
    "rf_results[np.argmax(rf_results)]"
   ]
  },
  {
   "cell_type": "code",
   "execution_count": 253,
   "id": "6c5563ae",
   "metadata": {},
   "outputs": [],
   "source": [
    "X_train4 , X_test4 , y_train4 , y_test4 = train_test_split(X,y,test_size = 0.30 , random_state = 79)"
   ]
  },
  {
   "cell_type": "code",
   "execution_count": 254,
   "id": "f52bb7d0",
   "metadata": {},
   "outputs": [
    {
     "name": "stdout",
     "output_type": "stream",
     "text": [
      "Accuracy score of Random Forest Classifier : 0.8448275862068966\n"
     ]
    }
   ],
   "source": [
    "# Finding the best Hyperperemeters :\n",
    "param_grid = {\n",
    "    'criterion': ['gini','entropy'],\n",
    "    'n_estimators':[100 , 300],\n",
    "    'max_depth': [ 7, 8 , 10 , 15 ],\n",
    "    'min_samples_split': [3,5,6,8],\n",
    "}\n",
    "\n",
    "grid_search_rf = GridSearchCV(rf, param_grid, cv=5)\n",
    "grid_search_rf.fit(X_train4, y_train4)\n",
    "\n",
    "y_pred_rf = grid_search_rf.best_estimator_.predict(X_test4)\n",
    "\n",
    "accuracy = accuracy_score(y_test4, y_pred_rf)\n",
    "print(\"Accuracy score of Random Forest Classifier :\", accuracy)"
   ]
  },
  {
   "cell_type": "code",
   "execution_count": 255,
   "id": "41704995",
   "metadata": {},
   "outputs": [
    {
     "name": "stdout",
     "output_type": "stream",
     "text": [
      "best parameters : {'criterion': 'gini', 'max_depth': 15, 'min_samples_split': 3, 'n_estimators': 100}\n"
     ]
    }
   ],
   "source": [
    "print('best parameters :',grid_search_rf.best_params_)"
   ]
  },
  {
   "cell_type": "code",
   "execution_count": 258,
   "id": "23dde12b",
   "metadata": {},
   "outputs": [
    {
     "name": "stdout",
     "output_type": "stream",
     "text": [
      "0.8620689655172413\n"
     ]
    }
   ],
   "source": [
    "RF = RandomForestClassifier(criterion = 'gini', max_depth = 15 , min_samples_split = 3 , n_estimators = 100)\n",
    "RF.fit(X_train4 , y_train4)\n",
    "y_pred_RF = RF.predict(X_test4)\n",
    "print(accuracy_score(y_test4, y_pred_RF))"
   ]
  },
  {
   "cell_type": "code",
   "execution_count": 307,
   "id": "c53a52a9",
   "metadata": {},
   "outputs": [],
   "source": [
    "# Random forest is giving the reliable result"
   ]
  },
  {
   "cell_type": "markdown",
   "id": "33550782",
   "metadata": {},
   "source": [
    "# Gradient Boosting Classifier :"
   ]
  },
  {
   "cell_type": "code",
   "execution_count": 261,
   "id": "1471556b",
   "metadata": {},
   "outputs": [],
   "source": [
    "# Checking best random_state for GradientBoostingClassifier :\n",
    "gb_results = []\n",
    "\n",
    "for i  in range(100):\n",
    "    X_train , X_test , y_train  , y_test = train_test_split(X,y,test_size = 0.3 , random_state = i)\n",
    "    gb = GradientBoostingClassifier(n_estimators = 100 ,max_depth = 1)\n",
    "    gb.fit(X_train , y_train)\n",
    "    y_pred = gb.predict(X_test)\n",
    "    gb_results.append(accuracy_score(y_test , y_pred))"
   ]
  },
  {
   "cell_type": "code",
   "execution_count": 262,
   "id": "84beb9cd",
   "metadata": {},
   "outputs": [
    {
     "data": {
      "text/plain": [
       "3"
      ]
     },
     "execution_count": 262,
     "metadata": {},
     "output_type": "execute_result"
    }
   ],
   "source": [
    "# The best random_state is 3\n",
    "np.argmax(gb_results)"
   ]
  },
  {
   "cell_type": "code",
   "execution_count": 263,
   "id": "93556400",
   "metadata": {},
   "outputs": [
    {
     "data": {
      "text/plain": [
       "0.8793103448275862"
      ]
     },
     "execution_count": 263,
     "metadata": {},
     "output_type": "execute_result"
    }
   ],
   "source": [
    "# Checking the accuracy in random_state 3\n",
    "gb_results[np.argmax(gb_results)]"
   ]
  },
  {
   "cell_type": "code",
   "execution_count": 265,
   "id": "b425ce0a",
   "metadata": {},
   "outputs": [],
   "source": [
    "X_train5 , X_test5 , y_train5 , y_test5 = train_test_split(X,y,test_size = 0.3 , random_state = 3)"
   ]
  },
  {
   "cell_type": "code",
   "execution_count": 266,
   "id": "b53df386",
   "metadata": {},
   "outputs": [
    {
     "name": "stdout",
     "output_type": "stream",
     "text": [
      "0.8793103448275862\n"
     ]
    }
   ],
   "source": [
    "GB = GradientBoostingClassifier(n_estimators = 100 , max_depth = 1)\n",
    "GB.fit(X_train5, y_train5)\n",
    "y_pred_GB = GB.predict(X_test5)\n",
    "print(accuracy_score(y_test5 , y_pred_GB))"
   ]
  },
  {
   "cell_type": "code",
   "execution_count": null,
   "id": "93b81759",
   "metadata": {},
   "outputs": [],
   "source": [
    "# So GradientBoosting is also giving a reliable result"
   ]
  },
  {
   "cell_type": "markdown",
   "id": "a3a50b7c",
   "metadata": {},
   "source": [
    "# Voting Classifier :"
   ]
  },
  {
   "cell_type": "code",
   "execution_count": 270,
   "id": "7f235c8e",
   "metadata": {},
   "outputs": [
    {
     "name": "stdout",
     "output_type": "stream",
     "text": [
      "Accuracy score of Voting Classifier : 0.8448275862068966\n"
     ]
    }
   ],
   "source": [
    "voting_clf = VotingClassifier(\n",
    "   estimators = [\n",
    "       ('dtc', DecisionTreeClassifier(criterion = 'gini', max_depth = 5 , min_samples_split = 8 , splitter = 'best')),\n",
    "       ('rfc',RandomForestClassifier(criterion = 'gini', max_depth = 15 , min_samples_split = 3 , n_estimators = 100)),\n",
    "       ('gbc',GradientBoostingClassifier(n_estimators = 100 , max_depth = 1))\n",
    "   ])\n",
    "voting_clf.fit(X_train4 , y_train4)\n",
    "voting_pred = voting_clf.predict(X_test4)\n",
    "accuracy = accuracy_score(y_test4, voting_pred)\n",
    "print(\"Accuracy score of Voting Classifier :\", accuracy)\n"
   ]
  },
  {
   "cell_type": "markdown",
   "id": "209a7858",
   "metadata": {},
   "source": [
    "# Stacking Classifier :"
   ]
  },
  {
   "cell_type": "code",
   "execution_count": 290,
   "id": "8bd5f43c",
   "metadata": {},
   "outputs": [],
   "source": [
    "stacking_clf = StackingClassifier(\n",
    "   estimators = [\n",
    "       ('lr', LogisticRegression(C = 0.1 , penalty = 'l2')),\n",
    "       ('dtc', DecisionTreeClassifier(criterion = 'gini', max_depth = 5 , min_samples_split = 8 , splitter = 'best')),\n",
    "       ('rfc',RandomForestClassifier(criterion = 'gini', max_depth = 15 , min_samples_split = 3 , n_estimators = 100)),\n",
    "       ('gbc',GradientBoostingClassifier(n_estimators = 100 , max_depth = 1))\n",
    "   ],\n",
    "   final_estimator = RandomForestClassifier(criterion = 'gini', max_depth = 15 , min_samples_split = 3 , n_estimators = 100),\n",
    "   cv = 5\n",
    ")\n"
   ]
  },
  {
   "cell_type": "code",
   "execution_count": 292,
   "id": "6372957c",
   "metadata": {},
   "outputs": [
    {
     "name": "stdout",
     "output_type": "stream",
     "text": [
      "Accuracy score of Stacking Classifier : 0.8620689655172413\n"
     ]
    }
   ],
   "source": [
    "stacking_clf.fit(X_train5, y_train5)\n",
    "stacking_pred = stacking_clf.predict(X_test5)\n",
    "accuracy = accuracy_score(y_test5, stacking_pred)\n",
    "print(\"Accuracy score of Stacking Classifier :\", accuracy)"
   ]
  },
  {
   "cell_type": "code",
   "execution_count": null,
   "id": "653ade0c",
   "metadata": {},
   "outputs": [],
   "source": [
    "# So , Analysisng the above Models , I would go for 'Stacking Classifier' and hence the best random_state would be 3 ."
   ]
  },
  {
   "cell_type": "markdown",
   "id": "06931576",
   "metadata": {},
   "source": [
    "# Building a prediction function :"
   ]
  },
  {
   "cell_type": "markdown",
   "id": "85f96647",
   "metadata": {},
   "source": [
    "# 1."
   ]
  },
  {
   "cell_type": "code",
   "execution_count": 294,
   "id": "1f976368",
   "metadata": {},
   "outputs": [],
   "source": [
    "def glass_Prediction(p):\n",
    "    p = p.reshape(1,-1)\n",
    "    pred = stacking_clf.predict(p)\n",
    "    if pred == 1 :\n",
    "        print(\"building_windows_float_processed\")\n",
    "    elif pred == 2 :\n",
    "        print(\"building_windows_non_float_processed\")\n",
    "    elif pred == 3 :\n",
    "        print(\"vehicle_windows_float_processed\")\n",
    "    elif pred == 4 :\n",
    "        print(\"vehicle_windows_non_float_processed\")\n",
    "    elif pred == 5 :\n",
    "        print(\"containers\")\n",
    "    elif pred == 6 :\n",
    "        print(\"tableware\")\n",
    "    else :\n",
    "        print(\"headlamps\")"
   ]
  },
  {
   "cell_type": "code",
   "execution_count": 295,
   "id": "783b666d",
   "metadata": {},
   "outputs": [
    {
     "name": "stdout",
     "output_type": "stream",
     "text": [
      "building_windows_float_processed\n"
     ]
    }
   ],
   "source": [
    "p = np.array([1.51761,\t3.60,\t1.36,\t0.48,\t7.83,\t0.00])\n",
    "Glass_Prediction(p)"
   ]
  },
  {
   "cell_type": "markdown",
   "id": "ea7eed6e",
   "metadata": {},
   "source": [
    "# 2."
   ]
  },
  {
   "cell_type": "code",
   "execution_count": 298,
   "id": "a06f1f83",
   "metadata": {},
   "outputs": [
    {
     "name": "stdout",
     "output_type": "stream",
     "text": [
      "Enter the refractive index of the glass : 1.51860\n",
      "Enter the ammount of Magnesium of  the glass : 3.43\n",
      "Enter the ammount of Aluminium of the glass : 1.43\n",
      "Enter the ammount of Potassium of the glass : 0.51\n",
      "Enter the ammount of Calcium of the glass : 8.60\n",
      "Enter the ammount of Barrium of the glass : 0.0\n",
      " The Glass type is : building_windows_non_float_processed\n"
     ]
    }
   ],
   "source": [
    "def Glass_Prediction():\n",
    "\n",
    "  RI = float(input(\"Enter the refractive index of the glass : \"))\n",
    "  Mg = float(input(\"Enter the ammount of Magnesium of  the glass : \"))\n",
    "  Al = float(input(\"Enter the ammount of Aluminium of the glass : \"))\n",
    "  K = float(input(\"Enter the ammount of Potassium of the glass : \"))\n",
    "  Ca = float(input(\"Enter the ammount of Calcium of the glass : \"))\n",
    "  Ba = float(input(\"Enter the ammount of Barrium of the glass : \"))\n",
    "\n",
    "\n",
    "  return np.array([RI,Mg,Al,K,Ca,Ba])\n",
    "\n",
    "def glass_Prediction(p):\n",
    "    p = p.reshape(1,-1)\n",
    "    pred = stacking_clf.predict(p)\n",
    "    if pred == 1 :\n",
    "        print(\" The Glass type is : building_windows_float_processed\")\n",
    "    elif pred == 2 :\n",
    "        print(\" The Glass type is : building_windows_non_float_processed\")\n",
    "    elif pred == 3 :\n",
    "        print(\" The Glass type is : vehicle_windows_float_processed\")\n",
    "    elif pred == 4 :\n",
    "        print(\" The Glass type is : vehicle_windows_non_float_processed\")\n",
    "    elif pred == 5 :\n",
    "        print(\" The Glass type is : containers\")\n",
    "    elif pred == 6 :\n",
    "        print(\" The Glass type is : tableware\")\n",
    "    else :\n",
    "        print(\" The Glass type is : headlamps\")\n",
    "\n",
    "\n",
    "if __name__ == \"__main__\":\n",
    "  try:\n",
    "    user_data = Glass_Prediction()\n",
    "    glass_Prediction(user_data)\n",
    "  except ValueError as e:\n",
    "    print(\"Error:\", e)"
   ]
  },
  {
   "cell_type": "code",
   "execution_count": 297,
   "id": "ee2003f4",
   "metadata": {},
   "outputs": [
    {
     "data": {
      "text/html": [
       "<div>\n",
       "<style scoped>\n",
       "    .dataframe tbody tr th:only-of-type {\n",
       "        vertical-align: middle;\n",
       "    }\n",
       "\n",
       "    .dataframe tbody tr th {\n",
       "        vertical-align: top;\n",
       "    }\n",
       "\n",
       "    .dataframe thead th {\n",
       "        text-align: right;\n",
       "    }\n",
       "</style>\n",
       "<table border=\"1\" class=\"dataframe\">\n",
       "  <thead>\n",
       "    <tr style=\"text-align: right;\">\n",
       "      <th></th>\n",
       "      <th>RI: refractive index</th>\n",
       "      <th>Mg: Magnesium</th>\n",
       "      <th>Al: Aluminum</th>\n",
       "      <th>K: Potassium</th>\n",
       "      <th>Ca: Calcium</th>\n",
       "      <th>Ba: Barium</th>\n",
       "      <th>Type of glass</th>\n",
       "    </tr>\n",
       "  </thead>\n",
       "  <tbody>\n",
       "    <tr>\n",
       "      <th>56</th>\n",
       "      <td>1.51824</td>\n",
       "      <td>3.48</td>\n",
       "      <td>1.29</td>\n",
       "      <td>0.60</td>\n",
       "      <td>8.43</td>\n",
       "      <td>0.0</td>\n",
       "      <td>1</td>\n",
       "    </tr>\n",
       "    <tr>\n",
       "      <th>28</th>\n",
       "      <td>1.51784</td>\n",
       "      <td>3.49</td>\n",
       "      <td>1.28</td>\n",
       "      <td>0.60</td>\n",
       "      <td>8.49</td>\n",
       "      <td>0.0</td>\n",
       "      <td>1</td>\n",
       "    </tr>\n",
       "    <tr>\n",
       "      <th>94</th>\n",
       "      <td>1.51860</td>\n",
       "      <td>3.43</td>\n",
       "      <td>1.43</td>\n",
       "      <td>0.51</td>\n",
       "      <td>8.60</td>\n",
       "      <td>0.0</td>\n",
       "      <td>2</td>\n",
       "    </tr>\n",
       "    <tr>\n",
       "      <th>21</th>\n",
       "      <td>1.51736</td>\n",
       "      <td>3.62</td>\n",
       "      <td>1.29</td>\n",
       "      <td>0.59</td>\n",
       "      <td>8.70</td>\n",
       "      <td>0.0</td>\n",
       "      <td>1</td>\n",
       "    </tr>\n",
       "    <tr>\n",
       "      <th>49</th>\n",
       "      <td>1.52320</td>\n",
       "      <td>3.72</td>\n",
       "      <td>0.51</td>\n",
       "      <td>0.09</td>\n",
       "      <td>10.06</td>\n",
       "      <td>0.0</td>\n",
       "      <td>1</td>\n",
       "    </tr>\n",
       "  </tbody>\n",
       "</table>\n",
       "</div>"
      ],
      "text/plain": [
       "    RI: refractive index  Mg: Magnesium  Al: Aluminum  K: Potassium  \\\n",
       "56               1.51824           3.48          1.29          0.60   \n",
       "28               1.51784           3.49          1.28          0.60   \n",
       "94               1.51860           3.43          1.43          0.51   \n",
       "21               1.51736           3.62          1.29          0.59   \n",
       "49               1.52320           3.72          0.51          0.09   \n",
       "\n",
       "    Ca: Calcium  Ba: Barium  Type of glass  \n",
       "56         8.43         0.0              1  \n",
       "28         8.49         0.0              1  \n",
       "94         8.60         0.0              2  \n",
       "21         8.70         0.0              1  \n",
       "49        10.06         0.0              1  "
      ]
     },
     "execution_count": 297,
     "metadata": {},
     "output_type": "execute_result"
    }
   ],
   "source": [
    "Modified_df.sample(5)"
   ]
  }
 ],
 "metadata": {
  "kernelspec": {
   "display_name": "Python 3 (ipykernel)",
   "language": "python",
   "name": "python3"
  },
  "language_info": {
   "codemirror_mode": {
    "name": "ipython",
    "version": 3
   },
   "file_extension": ".py",
   "mimetype": "text/x-python",
   "name": "python",
   "nbconvert_exporter": "python",
   "pygments_lexer": "ipython3",
   "version": "3.11.5"
  }
 },
 "nbformat": 4,
 "nbformat_minor": 5
}
