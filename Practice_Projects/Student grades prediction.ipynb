{
 "cells": [
  {
   "cell_type": "markdown",
   "id": "8909a544",
   "metadata": {},
   "source": [
    "# Student CGPA prediction Project :"
   ]
  },
  {
   "cell_type": "code",
   "execution_count": 128,
   "id": "de15f599",
   "metadata": {},
   "outputs": [],
   "source": [
    "# First I importaed all the important libraries.\n",
    "import pandas as pd\n",
    "import numpy as np\n",
    "import seaborn as sns\n",
    "import matplotlib.pyplot as plt\n",
    "from sklearn.metrics import r2_score\n",
    "from sklearn.model_selection import GridSearchCV\n",
    "from sklearn.model_selection import cross_val_score"
   ]
  },
  {
   "cell_type": "code",
   "execution_count": 129,
   "id": "3c1a74d0",
   "metadata": {
    "scrolled": true
   },
   "outputs": [
    {
     "data": {
      "text/html": [
       "<div>\n",
       "<style scoped>\n",
       "    .dataframe tbody tr th:only-of-type {\n",
       "        vertical-align: middle;\n",
       "    }\n",
       "\n",
       "    .dataframe tbody tr th {\n",
       "        vertical-align: top;\n",
       "    }\n",
       "\n",
       "    .dataframe thead th {\n",
       "        text-align: right;\n",
       "    }\n",
       "</style>\n",
       "<table border=\"1\" class=\"dataframe\">\n",
       "  <thead>\n",
       "    <tr style=\"text-align: right;\">\n",
       "      <th></th>\n",
       "      <th>Seat No.</th>\n",
       "      <th>PH-121</th>\n",
       "      <th>HS-101</th>\n",
       "      <th>CY-105</th>\n",
       "      <th>HS-105/12</th>\n",
       "      <th>MT-111</th>\n",
       "      <th>CS-105</th>\n",
       "      <th>CS-106</th>\n",
       "      <th>EL-102</th>\n",
       "      <th>EE-119</th>\n",
       "      <th>...</th>\n",
       "      <th>CS-312</th>\n",
       "      <th>CS-317</th>\n",
       "      <th>CS-403</th>\n",
       "      <th>CS-421</th>\n",
       "      <th>CS-406</th>\n",
       "      <th>CS-414</th>\n",
       "      <th>CS-419</th>\n",
       "      <th>CS-423</th>\n",
       "      <th>CS-412</th>\n",
       "      <th>CGPA</th>\n",
       "    </tr>\n",
       "  </thead>\n",
       "  <tbody>\n",
       "    <tr>\n",
       "      <th>0</th>\n",
       "      <td>CS-97001</td>\n",
       "      <td>B-</td>\n",
       "      <td>D+</td>\n",
       "      <td>C-</td>\n",
       "      <td>C</td>\n",
       "      <td>C-</td>\n",
       "      <td>D+</td>\n",
       "      <td>D</td>\n",
       "      <td>C-</td>\n",
       "      <td>B-</td>\n",
       "      <td>...</td>\n",
       "      <td>C-</td>\n",
       "      <td>C-</td>\n",
       "      <td>C-</td>\n",
       "      <td>C-</td>\n",
       "      <td>A-</td>\n",
       "      <td>A</td>\n",
       "      <td>C-</td>\n",
       "      <td>B</td>\n",
       "      <td>A-</td>\n",
       "      <td>2.205</td>\n",
       "    </tr>\n",
       "    <tr>\n",
       "      <th>1</th>\n",
       "      <td>CS-97002</td>\n",
       "      <td>A</td>\n",
       "      <td>D</td>\n",
       "      <td>D+</td>\n",
       "      <td>D</td>\n",
       "      <td>B-</td>\n",
       "      <td>C</td>\n",
       "      <td>D</td>\n",
       "      <td>A</td>\n",
       "      <td>D+</td>\n",
       "      <td>...</td>\n",
       "      <td>D+</td>\n",
       "      <td>D</td>\n",
       "      <td>C</td>\n",
       "      <td>D</td>\n",
       "      <td>A-</td>\n",
       "      <td>B-</td>\n",
       "      <td>C</td>\n",
       "      <td>C</td>\n",
       "      <td>B</td>\n",
       "      <td>2.008</td>\n",
       "    </tr>\n",
       "    <tr>\n",
       "      <th>2</th>\n",
       "      <td>CS-97003</td>\n",
       "      <td>A</td>\n",
       "      <td>B</td>\n",
       "      <td>A</td>\n",
       "      <td>B-</td>\n",
       "      <td>B+</td>\n",
       "      <td>A</td>\n",
       "      <td>B-</td>\n",
       "      <td>B+</td>\n",
       "      <td>A-</td>\n",
       "      <td>...</td>\n",
       "      <td>B</td>\n",
       "      <td>B</td>\n",
       "      <td>A</td>\n",
       "      <td>C</td>\n",
       "      <td>A</td>\n",
       "      <td>A</td>\n",
       "      <td>A</td>\n",
       "      <td>A-</td>\n",
       "      <td>A</td>\n",
       "      <td>3.608</td>\n",
       "    </tr>\n",
       "    <tr>\n",
       "      <th>3</th>\n",
       "      <td>CS-97004</td>\n",
       "      <td>D</td>\n",
       "      <td>C+</td>\n",
       "      <td>D+</td>\n",
       "      <td>D</td>\n",
       "      <td>D</td>\n",
       "      <td>A-</td>\n",
       "      <td>D+</td>\n",
       "      <td>C-</td>\n",
       "      <td>D</td>\n",
       "      <td>...</td>\n",
       "      <td>D+</td>\n",
       "      <td>C</td>\n",
       "      <td>D+</td>\n",
       "      <td>C-</td>\n",
       "      <td>B-</td>\n",
       "      <td>B</td>\n",
       "      <td>C+</td>\n",
       "      <td>C+</td>\n",
       "      <td>C+</td>\n",
       "      <td>1.906</td>\n",
       "    </tr>\n",
       "    <tr>\n",
       "      <th>4</th>\n",
       "      <td>CS-97005</td>\n",
       "      <td>A-</td>\n",
       "      <td>A-</td>\n",
       "      <td>A-</td>\n",
       "      <td>B+</td>\n",
       "      <td>A</td>\n",
       "      <td>A</td>\n",
       "      <td>A-</td>\n",
       "      <td>B+</td>\n",
       "      <td>A</td>\n",
       "      <td>...</td>\n",
       "      <td>B-</td>\n",
       "      <td>B+</td>\n",
       "      <td>B+</td>\n",
       "      <td>B-</td>\n",
       "      <td>A-</td>\n",
       "      <td>A</td>\n",
       "      <td>A-</td>\n",
       "      <td>A-</td>\n",
       "      <td>A</td>\n",
       "      <td>3.448</td>\n",
       "    </tr>\n",
       "    <tr>\n",
       "      <th>...</th>\n",
       "      <td>...</td>\n",
       "      <td>...</td>\n",
       "      <td>...</td>\n",
       "      <td>...</td>\n",
       "      <td>...</td>\n",
       "      <td>...</td>\n",
       "      <td>...</td>\n",
       "      <td>...</td>\n",
       "      <td>...</td>\n",
       "      <td>...</td>\n",
       "      <td>...</td>\n",
       "      <td>...</td>\n",
       "      <td>...</td>\n",
       "      <td>...</td>\n",
       "      <td>...</td>\n",
       "      <td>...</td>\n",
       "      <td>...</td>\n",
       "      <td>...</td>\n",
       "      <td>...</td>\n",
       "      <td>...</td>\n",
       "      <td>...</td>\n",
       "    </tr>\n",
       "    <tr>\n",
       "      <th>566</th>\n",
       "      <td>CS-97567</td>\n",
       "      <td>B</td>\n",
       "      <td>A</td>\n",
       "      <td>A</td>\n",
       "      <td>A-</td>\n",
       "      <td>A+</td>\n",
       "      <td>A</td>\n",
       "      <td>A-</td>\n",
       "      <td>A-</td>\n",
       "      <td>A+</td>\n",
       "      <td>...</td>\n",
       "      <td>A-</td>\n",
       "      <td>A-</td>\n",
       "      <td>A</td>\n",
       "      <td>A</td>\n",
       "      <td>A</td>\n",
       "      <td>B+</td>\n",
       "      <td>B+</td>\n",
       "      <td>B</td>\n",
       "      <td>A</td>\n",
       "      <td>3.798</td>\n",
       "    </tr>\n",
       "    <tr>\n",
       "      <th>567</th>\n",
       "      <td>CS-97568</td>\n",
       "      <td>A+</td>\n",
       "      <td>A</td>\n",
       "      <td>A</td>\n",
       "      <td>A</td>\n",
       "      <td>A</td>\n",
       "      <td>A</td>\n",
       "      <td>A</td>\n",
       "      <td>A-</td>\n",
       "      <td>A</td>\n",
       "      <td>...</td>\n",
       "      <td>B+</td>\n",
       "      <td>B+</td>\n",
       "      <td>A</td>\n",
       "      <td>A</td>\n",
       "      <td>A-</td>\n",
       "      <td>B</td>\n",
       "      <td>A-</td>\n",
       "      <td>C</td>\n",
       "      <td>A-</td>\n",
       "      <td>3.772</td>\n",
       "    </tr>\n",
       "    <tr>\n",
       "      <th>568</th>\n",
       "      <td>CS-97569</td>\n",
       "      <td>B</td>\n",
       "      <td>A</td>\n",
       "      <td>A-</td>\n",
       "      <td>B+</td>\n",
       "      <td>A</td>\n",
       "      <td>A</td>\n",
       "      <td>A</td>\n",
       "      <td>A</td>\n",
       "      <td>A</td>\n",
       "      <td>...</td>\n",
       "      <td>A-</td>\n",
       "      <td>B</td>\n",
       "      <td>A</td>\n",
       "      <td>B+</td>\n",
       "      <td>A</td>\n",
       "      <td>C</td>\n",
       "      <td>B+</td>\n",
       "      <td>A-</td>\n",
       "      <td>A-</td>\n",
       "      <td>3.470</td>\n",
       "    </tr>\n",
       "    <tr>\n",
       "      <th>569</th>\n",
       "      <td>CS-97570</td>\n",
       "      <td>A</td>\n",
       "      <td>B+</td>\n",
       "      <td>D</td>\n",
       "      <td>A</td>\n",
       "      <td>D</td>\n",
       "      <td>D+</td>\n",
       "      <td>B-</td>\n",
       "      <td>C-</td>\n",
       "      <td>B-</td>\n",
       "      <td>...</td>\n",
       "      <td>D</td>\n",
       "      <td>B</td>\n",
       "      <td>B</td>\n",
       "      <td>C-</td>\n",
       "      <td>D</td>\n",
       "      <td>C</td>\n",
       "      <td>B</td>\n",
       "      <td>B-</td>\n",
       "      <td>C</td>\n",
       "      <td>2.193</td>\n",
       "    </tr>\n",
       "    <tr>\n",
       "      <th>570</th>\n",
       "      <td>CS-97571</td>\n",
       "      <td>C</td>\n",
       "      <td>D</td>\n",
       "      <td>D</td>\n",
       "      <td>C</td>\n",
       "      <td>C</td>\n",
       "      <td>D+</td>\n",
       "      <td>B</td>\n",
       "      <td>C+</td>\n",
       "      <td>C</td>\n",
       "      <td>...</td>\n",
       "      <td>C+</td>\n",
       "      <td>C</td>\n",
       "      <td>B-</td>\n",
       "      <td>D</td>\n",
       "      <td>F</td>\n",
       "      <td>C-</td>\n",
       "      <td>B+</td>\n",
       "      <td>D</td>\n",
       "      <td>C-</td>\n",
       "      <td>1.753</td>\n",
       "    </tr>\n",
       "  </tbody>\n",
       "</table>\n",
       "<p>571 rows × 43 columns</p>\n",
       "</div>"
      ],
      "text/plain": [
       "     Seat No. PH-121 HS-101 CY-105 HS-105/12 MT-111 CS-105 CS-106 EL-102  \\\n",
       "0    CS-97001     B-     D+     C-         C     C-     D+      D     C-   \n",
       "1    CS-97002      A      D     D+         D     B-      C      D      A   \n",
       "2    CS-97003      A      B      A        B-     B+      A     B-     B+   \n",
       "3    CS-97004      D     C+     D+         D      D     A-     D+     C-   \n",
       "4    CS-97005     A-     A-     A-        B+      A      A     A-     B+   \n",
       "..        ...    ...    ...    ...       ...    ...    ...    ...    ...   \n",
       "566  CS-97567      B      A      A        A-     A+      A     A-     A-   \n",
       "567  CS-97568     A+      A      A         A      A      A      A     A-   \n",
       "568  CS-97569      B      A     A-        B+      A      A      A      A   \n",
       "569  CS-97570      A     B+      D         A      D     D+     B-     C-   \n",
       "570  CS-97571      C      D      D         C      C     D+      B     C+   \n",
       "\n",
       "    EE-119  ... CS-312 CS-317 CS-403 CS-421 CS-406 CS-414 CS-419 CS-423  \\\n",
       "0       B-  ...     C-     C-     C-     C-     A-      A     C-      B   \n",
       "1       D+  ...     D+      D      C      D     A-     B-      C      C   \n",
       "2       A-  ...      B      B      A      C      A      A      A     A-   \n",
       "3        D  ...     D+      C     D+     C-     B-      B     C+     C+   \n",
       "4        A  ...     B-     B+     B+     B-     A-      A     A-     A-   \n",
       "..     ...  ...    ...    ...    ...    ...    ...    ...    ...    ...   \n",
       "566     A+  ...     A-     A-      A      A      A     B+     B+      B   \n",
       "567      A  ...     B+     B+      A      A     A-      B     A-      C   \n",
       "568      A  ...     A-      B      A     B+      A      C     B+     A-   \n",
       "569     B-  ...      D      B      B     C-      D      C      B     B-   \n",
       "570      C  ...     C+      C     B-      D      F     C-     B+      D   \n",
       "\n",
       "    CS-412   CGPA  \n",
       "0       A-  2.205  \n",
       "1        B  2.008  \n",
       "2        A  3.608  \n",
       "3       C+  1.906  \n",
       "4        A  3.448  \n",
       "..     ...    ...  \n",
       "566      A  3.798  \n",
       "567     A-  3.772  \n",
       "568     A-  3.470  \n",
       "569      C  2.193  \n",
       "570     C-  1.753  \n",
       "\n",
       "[571 rows x 43 columns]"
      ]
     },
     "execution_count": 129,
     "metadata": {},
     "output_type": "execute_result"
    }
   ],
   "source": [
    "# Getting the dataset from the given link : \n",
    "df = pd.read_csv('student_cgpa.csv')\n",
    "df"
   ]
  },
  {
   "cell_type": "markdown",
   "id": "b346f987",
   "metadata": {},
   "source": [
    "# Data Cleaning :"
   ]
  },
  {
   "cell_type": "code",
   "execution_count": 130,
   "id": "b02bab22",
   "metadata": {},
   "outputs": [],
   "source": [
    "# First I will drop the column 'Seat No.'\n",
    "\n",
    "df = df.drop(columns = 'Seat No.', axis = 1)"
   ]
  },
  {
   "cell_type": "code",
   "execution_count": 131,
   "id": "d12a9d9e",
   "metadata": {
    "scrolled": true
   },
   "outputs": [
    {
     "data": {
      "text/plain": [
       "PH-121        0\n",
       "HS-101        0\n",
       "CY-105        1\n",
       "HS-105/12     1\n",
       "MT-111        2\n",
       "CS-105        0\n",
       "CS-106        2\n",
       "EL-102        2\n",
       "EE-119        2\n",
       "ME-107        2\n",
       "CS-107        2\n",
       "HS-205/20     5\n",
       "MT-222        5\n",
       "EE-222        7\n",
       "MT-224        7\n",
       "CS-210        7\n",
       "CS-211        5\n",
       "CS-203        5\n",
       "CS-214        6\n",
       "EE-217        6\n",
       "CS-212        6\n",
       "CS-215        6\n",
       "MT-331        9\n",
       "EF-303       10\n",
       "HS-304       10\n",
       "CS-301       10\n",
       "CS-302       10\n",
       "TC-383       10\n",
       "MT-442       10\n",
       "EL-332        9\n",
       "CS-318        9\n",
       "CS-306        9\n",
       "CS-312       10\n",
       "CS-317       12\n",
       "CS-403       12\n",
       "CS-421       12\n",
       "CS-406       85\n",
       "CS-414       13\n",
       "CS-419       13\n",
       "CS-423       14\n",
       "CS-412       79\n",
       "CGPA          0\n",
       "dtype: int64"
      ]
     },
     "execution_count": 131,
     "metadata": {},
     "output_type": "execute_result"
    }
   ],
   "source": [
    "# Checking is there any null value present in  the  dataset :\n",
    "df.isnull().sum()"
   ]
  },
  {
   "cell_type": "code",
   "execution_count": 132,
   "id": "18c22d2b",
   "metadata": {},
   "outputs": [],
   "source": [
    "# Here I can see so many null values are there .\n",
    "\n",
    "# 1. I will remove all those columns which contains null values more than 10\n",
    "# 2. Then I will remove all the rows with missing values less than 60"
   ]
  },
  {
   "cell_type": "code",
   "execution_count": 133,
   "id": "39f71327",
   "metadata": {},
   "outputs": [],
   "source": [
    "# 1.\n",
    "wasted_columns = ['CS-406','CS-412']\n",
    "new_df = df.drop(columns = wasted_columns , axis = 1)"
   ]
  },
  {
   "cell_type": "code",
   "execution_count": 134,
   "id": "54bc83da",
   "metadata": {},
   "outputs": [],
   "source": [
    "# 2.\n",
    "new_df = new_df.dropna(axis = 0)"
   ]
  },
  {
   "cell_type": "code",
   "execution_count": 135,
   "id": "141a53e2",
   "metadata": {
    "scrolled": true
   },
   "outputs": [],
   "source": [
    "new_df = new_df.reset_index(drop = True)"
   ]
  },
  {
   "cell_type": "code",
   "execution_count": 136,
   "id": "af2f68bf",
   "metadata": {
    "scrolled": false
   },
   "outputs": [
    {
     "data": {
      "text/plain": [
       "PH-121       0\n",
       "HS-101       0\n",
       "CY-105       0\n",
       "HS-105/12    0\n",
       "MT-111       0\n",
       "CS-105       0\n",
       "CS-106       0\n",
       "EL-102       0\n",
       "EE-119       0\n",
       "ME-107       0\n",
       "CS-107       0\n",
       "HS-205/20    0\n",
       "MT-222       0\n",
       "EE-222       0\n",
       "MT-224       0\n",
       "CS-210       0\n",
       "CS-211       0\n",
       "CS-203       0\n",
       "CS-214       0\n",
       "EE-217       0\n",
       "CS-212       0\n",
       "CS-215       0\n",
       "MT-331       0\n",
       "EF-303       0\n",
       "HS-304       0\n",
       "CS-301       0\n",
       "CS-302       0\n",
       "TC-383       0\n",
       "MT-442       0\n",
       "EL-332       0\n",
       "CS-318       0\n",
       "CS-306       0\n",
       "CS-312       0\n",
       "CS-317       0\n",
       "CS-403       0\n",
       "CS-421       0\n",
       "CS-414       0\n",
       "CS-419       0\n",
       "CS-423       0\n",
       "CGPA         0\n",
       "dtype: int64"
      ]
     },
     "execution_count": 136,
     "metadata": {},
     "output_type": "execute_result"
    }
   ],
   "source": [
    "new_df.isnull().sum()"
   ]
  },
  {
   "cell_type": "code",
   "execution_count": 137,
   "id": "03e03723",
   "metadata": {},
   "outputs": [],
   "source": [
    "# All  the columns contains ordinal data . So I will map all"
   ]
  },
  {
   "cell_type": "code",
   "execution_count": 138,
   "id": "a4d30e54",
   "metadata": {},
   "outputs": [],
   "source": [
    "size_mapping = {\n",
    "    'A+' : 17,\n",
    "    'A' : 16,\n",
    "    'A-' : 15,\n",
    "    'B+':14,\n",
    "    'B': 13,\n",
    "    'B-': 12,\n",
    "    'C+': 11,\n",
    "    'C': 10,\n",
    "    'C-':9,\n",
    "    'D+': 8,\n",
    "    'D':7,\n",
    "    'D-': 6,\n",
    "    'E+': 5,\n",
    "    'E': 4,\n",
    "    'E-': 3,\n",
    "    'F+': 2,\n",
    "    'F' :1,\n",
    "    'W': 0,\n",
    "    'WU':0,\n",
    "    'nan':0\n",
    "}\n",
    "\n",
    "def Values_encoding(df , columns):\n",
    "    for i in columns  :\n",
    "        df[i] = df[i].map(size_mapping)\n",
    "    "
   ]
  },
  {
   "cell_type": "code",
   "execution_count": 139,
   "id": "6f4030da",
   "metadata": {},
   "outputs": [],
   "source": [
    "# I will map all the columns except the 'CGPA' column :\n",
    "\n",
    "Values_encoding(new_df , new_df.columns[:-1])"
   ]
  },
  {
   "cell_type": "code",
   "execution_count": 140,
   "id": "ec4f5e8e",
   "metadata": {},
   "outputs": [
    {
     "data": {
      "text/html": [
       "<div>\n",
       "<style scoped>\n",
       "    .dataframe tbody tr th:only-of-type {\n",
       "        vertical-align: middle;\n",
       "    }\n",
       "\n",
       "    .dataframe tbody tr th {\n",
       "        vertical-align: top;\n",
       "    }\n",
       "\n",
       "    .dataframe thead th {\n",
       "        text-align: right;\n",
       "    }\n",
       "</style>\n",
       "<table border=\"1\" class=\"dataframe\">\n",
       "  <thead>\n",
       "    <tr style=\"text-align: right;\">\n",
       "      <th></th>\n",
       "      <th>PH-121</th>\n",
       "      <th>HS-101</th>\n",
       "      <th>CY-105</th>\n",
       "      <th>HS-105/12</th>\n",
       "      <th>MT-111</th>\n",
       "      <th>CS-105</th>\n",
       "      <th>CS-106</th>\n",
       "      <th>EL-102</th>\n",
       "      <th>EE-119</th>\n",
       "      <th>ME-107</th>\n",
       "      <th>...</th>\n",
       "      <th>CS-318</th>\n",
       "      <th>CS-306</th>\n",
       "      <th>CS-312</th>\n",
       "      <th>CS-317</th>\n",
       "      <th>CS-403</th>\n",
       "      <th>CS-421</th>\n",
       "      <th>CS-414</th>\n",
       "      <th>CS-419</th>\n",
       "      <th>CS-423</th>\n",
       "      <th>CGPA</th>\n",
       "    </tr>\n",
       "  </thead>\n",
       "  <tbody>\n",
       "    <tr>\n",
       "      <th>0</th>\n",
       "      <td>12</td>\n",
       "      <td>8</td>\n",
       "      <td>9</td>\n",
       "      <td>10</td>\n",
       "      <td>9</td>\n",
       "      <td>8</td>\n",
       "      <td>7</td>\n",
       "      <td>9</td>\n",
       "      <td>12</td>\n",
       "      <td>9</td>\n",
       "      <td>...</td>\n",
       "      <td>9</td>\n",
       "      <td>10</td>\n",
       "      <td>9</td>\n",
       "      <td>9</td>\n",
       "      <td>9</td>\n",
       "      <td>9</td>\n",
       "      <td>16</td>\n",
       "      <td>9</td>\n",
       "      <td>13</td>\n",
       "      <td>2.205</td>\n",
       "    </tr>\n",
       "    <tr>\n",
       "      <th>1</th>\n",
       "      <td>16</td>\n",
       "      <td>7</td>\n",
       "      <td>8</td>\n",
       "      <td>7</td>\n",
       "      <td>12</td>\n",
       "      <td>10</td>\n",
       "      <td>7</td>\n",
       "      <td>16</td>\n",
       "      <td>8</td>\n",
       "      <td>7</td>\n",
       "      <td>...</td>\n",
       "      <td>15</td>\n",
       "      <td>7</td>\n",
       "      <td>8</td>\n",
       "      <td>7</td>\n",
       "      <td>10</td>\n",
       "      <td>7</td>\n",
       "      <td>12</td>\n",
       "      <td>10</td>\n",
       "      <td>10</td>\n",
       "      <td>2.008</td>\n",
       "    </tr>\n",
       "    <tr>\n",
       "      <th>2</th>\n",
       "      <td>16</td>\n",
       "      <td>13</td>\n",
       "      <td>16</td>\n",
       "      <td>12</td>\n",
       "      <td>14</td>\n",
       "      <td>16</td>\n",
       "      <td>12</td>\n",
       "      <td>14</td>\n",
       "      <td>15</td>\n",
       "      <td>15</td>\n",
       "      <td>...</td>\n",
       "      <td>15</td>\n",
       "      <td>15</td>\n",
       "      <td>13</td>\n",
       "      <td>13</td>\n",
       "      <td>16</td>\n",
       "      <td>10</td>\n",
       "      <td>16</td>\n",
       "      <td>16</td>\n",
       "      <td>15</td>\n",
       "      <td>3.608</td>\n",
       "    </tr>\n",
       "    <tr>\n",
       "      <th>3</th>\n",
       "      <td>7</td>\n",
       "      <td>11</td>\n",
       "      <td>8</td>\n",
       "      <td>7</td>\n",
       "      <td>7</td>\n",
       "      <td>15</td>\n",
       "      <td>8</td>\n",
       "      <td>9</td>\n",
       "      <td>7</td>\n",
       "      <td>11</td>\n",
       "      <td>...</td>\n",
       "      <td>14</td>\n",
       "      <td>9</td>\n",
       "      <td>8</td>\n",
       "      <td>10</td>\n",
       "      <td>8</td>\n",
       "      <td>9</td>\n",
       "      <td>13</td>\n",
       "      <td>11</td>\n",
       "      <td>11</td>\n",
       "      <td>1.906</td>\n",
       "    </tr>\n",
       "    <tr>\n",
       "      <th>4</th>\n",
       "      <td>15</td>\n",
       "      <td>15</td>\n",
       "      <td>15</td>\n",
       "      <td>14</td>\n",
       "      <td>16</td>\n",
       "      <td>16</td>\n",
       "      <td>15</td>\n",
       "      <td>14</td>\n",
       "      <td>16</td>\n",
       "      <td>15</td>\n",
       "      <td>...</td>\n",
       "      <td>12</td>\n",
       "      <td>15</td>\n",
       "      <td>12</td>\n",
       "      <td>14</td>\n",
       "      <td>14</td>\n",
       "      <td>12</td>\n",
       "      <td>16</td>\n",
       "      <td>15</td>\n",
       "      <td>15</td>\n",
       "      <td>3.448</td>\n",
       "    </tr>\n",
       "    <tr>\n",
       "      <th>...</th>\n",
       "      <td>...</td>\n",
       "      <td>...</td>\n",
       "      <td>...</td>\n",
       "      <td>...</td>\n",
       "      <td>...</td>\n",
       "      <td>...</td>\n",
       "      <td>...</td>\n",
       "      <td>...</td>\n",
       "      <td>...</td>\n",
       "      <td>...</td>\n",
       "      <td>...</td>\n",
       "      <td>...</td>\n",
       "      <td>...</td>\n",
       "      <td>...</td>\n",
       "      <td>...</td>\n",
       "      <td>...</td>\n",
       "      <td>...</td>\n",
       "      <td>...</td>\n",
       "      <td>...</td>\n",
       "      <td>...</td>\n",
       "      <td>...</td>\n",
       "    </tr>\n",
       "    <tr>\n",
       "      <th>552</th>\n",
       "      <td>13</td>\n",
       "      <td>16</td>\n",
       "      <td>16</td>\n",
       "      <td>15</td>\n",
       "      <td>17</td>\n",
       "      <td>16</td>\n",
       "      <td>15</td>\n",
       "      <td>15</td>\n",
       "      <td>17</td>\n",
       "      <td>14</td>\n",
       "      <td>...</td>\n",
       "      <td>16</td>\n",
       "      <td>14</td>\n",
       "      <td>15</td>\n",
       "      <td>15</td>\n",
       "      <td>16</td>\n",
       "      <td>16</td>\n",
       "      <td>14</td>\n",
       "      <td>14</td>\n",
       "      <td>13</td>\n",
       "      <td>3.798</td>\n",
       "    </tr>\n",
       "    <tr>\n",
       "      <th>553</th>\n",
       "      <td>17</td>\n",
       "      <td>16</td>\n",
       "      <td>16</td>\n",
       "      <td>16</td>\n",
       "      <td>16</td>\n",
       "      <td>16</td>\n",
       "      <td>16</td>\n",
       "      <td>15</td>\n",
       "      <td>16</td>\n",
       "      <td>16</td>\n",
       "      <td>...</td>\n",
       "      <td>17</td>\n",
       "      <td>15</td>\n",
       "      <td>14</td>\n",
       "      <td>14</td>\n",
       "      <td>16</td>\n",
       "      <td>16</td>\n",
       "      <td>13</td>\n",
       "      <td>15</td>\n",
       "      <td>10</td>\n",
       "      <td>3.772</td>\n",
       "    </tr>\n",
       "    <tr>\n",
       "      <th>554</th>\n",
       "      <td>13</td>\n",
       "      <td>16</td>\n",
       "      <td>15</td>\n",
       "      <td>14</td>\n",
       "      <td>16</td>\n",
       "      <td>16</td>\n",
       "      <td>16</td>\n",
       "      <td>16</td>\n",
       "      <td>16</td>\n",
       "      <td>13</td>\n",
       "      <td>...</td>\n",
       "      <td>11</td>\n",
       "      <td>14</td>\n",
       "      <td>15</td>\n",
       "      <td>13</td>\n",
       "      <td>16</td>\n",
       "      <td>14</td>\n",
       "      <td>10</td>\n",
       "      <td>14</td>\n",
       "      <td>15</td>\n",
       "      <td>3.470</td>\n",
       "    </tr>\n",
       "    <tr>\n",
       "      <th>555</th>\n",
       "      <td>16</td>\n",
       "      <td>14</td>\n",
       "      <td>7</td>\n",
       "      <td>16</td>\n",
       "      <td>7</td>\n",
       "      <td>8</td>\n",
       "      <td>12</td>\n",
       "      <td>9</td>\n",
       "      <td>12</td>\n",
       "      <td>9</td>\n",
       "      <td>...</td>\n",
       "      <td>12</td>\n",
       "      <td>14</td>\n",
       "      <td>7</td>\n",
       "      <td>13</td>\n",
       "      <td>13</td>\n",
       "      <td>9</td>\n",
       "      <td>10</td>\n",
       "      <td>13</td>\n",
       "      <td>12</td>\n",
       "      <td>2.193</td>\n",
       "    </tr>\n",
       "    <tr>\n",
       "      <th>556</th>\n",
       "      <td>10</td>\n",
       "      <td>7</td>\n",
       "      <td>7</td>\n",
       "      <td>10</td>\n",
       "      <td>10</td>\n",
       "      <td>8</td>\n",
       "      <td>13</td>\n",
       "      <td>11</td>\n",
       "      <td>10</td>\n",
       "      <td>8</td>\n",
       "      <td>...</td>\n",
       "      <td>9</td>\n",
       "      <td>8</td>\n",
       "      <td>11</td>\n",
       "      <td>10</td>\n",
       "      <td>12</td>\n",
       "      <td>7</td>\n",
       "      <td>9</td>\n",
       "      <td>14</td>\n",
       "      <td>7</td>\n",
       "      <td>1.753</td>\n",
       "    </tr>\n",
       "  </tbody>\n",
       "</table>\n",
       "<p>557 rows × 40 columns</p>\n",
       "</div>"
      ],
      "text/plain": [
       "     PH-121  HS-101  CY-105  HS-105/12  MT-111  CS-105  CS-106  EL-102  \\\n",
       "0        12       8       9         10       9       8       7       9   \n",
       "1        16       7       8          7      12      10       7      16   \n",
       "2        16      13      16         12      14      16      12      14   \n",
       "3         7      11       8          7       7      15       8       9   \n",
       "4        15      15      15         14      16      16      15      14   \n",
       "..      ...     ...     ...        ...     ...     ...     ...     ...   \n",
       "552      13      16      16         15      17      16      15      15   \n",
       "553      17      16      16         16      16      16      16      15   \n",
       "554      13      16      15         14      16      16      16      16   \n",
       "555      16      14       7         16       7       8      12       9   \n",
       "556      10       7       7         10      10       8      13      11   \n",
       "\n",
       "     EE-119  ME-107  ...  CS-318  CS-306  CS-312  CS-317  CS-403  CS-421  \\\n",
       "0        12       9  ...       9      10       9       9       9       9   \n",
       "1         8       7  ...      15       7       8       7      10       7   \n",
       "2        15      15  ...      15      15      13      13      16      10   \n",
       "3         7      11  ...      14       9       8      10       8       9   \n",
       "4        16      15  ...      12      15      12      14      14      12   \n",
       "..      ...     ...  ...     ...     ...     ...     ...     ...     ...   \n",
       "552      17      14  ...      16      14      15      15      16      16   \n",
       "553      16      16  ...      17      15      14      14      16      16   \n",
       "554      16      13  ...      11      14      15      13      16      14   \n",
       "555      12       9  ...      12      14       7      13      13       9   \n",
       "556      10       8  ...       9       8      11      10      12       7   \n",
       "\n",
       "     CS-414  CS-419  CS-423   CGPA  \n",
       "0        16       9      13  2.205  \n",
       "1        12      10      10  2.008  \n",
       "2        16      16      15  3.608  \n",
       "3        13      11      11  1.906  \n",
       "4        16      15      15  3.448  \n",
       "..      ...     ...     ...    ...  \n",
       "552      14      14      13  3.798  \n",
       "553      13      15      10  3.772  \n",
       "554      10      14      15  3.470  \n",
       "555      10      13      12  2.193  \n",
       "556       9      14       7  1.753  \n",
       "\n",
       "[557 rows x 40 columns]"
      ]
     },
     "execution_count": 140,
     "metadata": {},
     "output_type": "execute_result"
    }
   ],
   "source": [
    "new_df"
   ]
  },
  {
   "cell_type": "code",
   "execution_count": 141,
   "id": "368e5d54",
   "metadata": {
    "scrolled": true
   },
   "outputs": [
    {
     "data": {
      "text/plain": [
       "PH-121       0\n",
       "HS-101       0\n",
       "CY-105       0\n",
       "HS-105/12    0\n",
       "MT-111       0\n",
       "CS-105       0\n",
       "CS-106       0\n",
       "EL-102       0\n",
       "EE-119       0\n",
       "ME-107       0\n",
       "CS-107       0\n",
       "HS-205/20    0\n",
       "MT-222       0\n",
       "EE-222       0\n",
       "MT-224       0\n",
       "CS-210       0\n",
       "CS-211       0\n",
       "CS-203       0\n",
       "CS-214       0\n",
       "EE-217       0\n",
       "CS-212       0\n",
       "CS-215       0\n",
       "MT-331       0\n",
       "EF-303       0\n",
       "HS-304       0\n",
       "CS-301       0\n",
       "CS-302       0\n",
       "TC-383       0\n",
       "MT-442       0\n",
       "EL-332       0\n",
       "CS-318       0\n",
       "CS-306       0\n",
       "CS-312       0\n",
       "CS-317       0\n",
       "CS-403       0\n",
       "CS-421       0\n",
       "CS-414       0\n",
       "CS-419       0\n",
       "CS-423       0\n",
       "CGPA         0\n",
       "dtype: int64"
      ]
     },
     "execution_count": 141,
     "metadata": {},
     "output_type": "execute_result"
    }
   ],
   "source": [
    "new_df.isnull().sum()"
   ]
  },
  {
   "cell_type": "code",
   "execution_count": 142,
   "id": "56d31f70",
   "metadata": {
    "scrolled": true
   },
   "outputs": [
    {
     "name": "stdout",
     "output_type": "stream",
     "text": [
      "<class 'pandas.core.frame.DataFrame'>\n",
      "RangeIndex: 557 entries, 0 to 556\n",
      "Data columns (total 40 columns):\n",
      " #   Column     Non-Null Count  Dtype  \n",
      "---  ------     --------------  -----  \n",
      " 0   PH-121     557 non-null    int64  \n",
      " 1   HS-101     557 non-null    int64  \n",
      " 2   CY-105     557 non-null    int64  \n",
      " 3   HS-105/12  557 non-null    int64  \n",
      " 4   MT-111     557 non-null    int64  \n",
      " 5   CS-105     557 non-null    int64  \n",
      " 6   CS-106     557 non-null    int64  \n",
      " 7   EL-102     557 non-null    int64  \n",
      " 8   EE-119     557 non-null    int64  \n",
      " 9   ME-107     557 non-null    int64  \n",
      " 10  CS-107     557 non-null    int64  \n",
      " 11  HS-205/20  557 non-null    int64  \n",
      " 12  MT-222     557 non-null    int64  \n",
      " 13  EE-222     557 non-null    int64  \n",
      " 14  MT-224     557 non-null    int64  \n",
      " 15  CS-210     557 non-null    int64  \n",
      " 16  CS-211     557 non-null    int64  \n",
      " 17  CS-203     557 non-null    int64  \n",
      " 18  CS-214     557 non-null    int64  \n",
      " 19  EE-217     557 non-null    int64  \n",
      " 20  CS-212     557 non-null    int64  \n",
      " 21  CS-215     557 non-null    int64  \n",
      " 22  MT-331     557 non-null    int64  \n",
      " 23  EF-303     557 non-null    int64  \n",
      " 24  HS-304     557 non-null    int64  \n",
      " 25  CS-301     557 non-null    int64  \n",
      " 26  CS-302     557 non-null    int64  \n",
      " 27  TC-383     557 non-null    int64  \n",
      " 28  MT-442     557 non-null    int64  \n",
      " 29  EL-332     557 non-null    int64  \n",
      " 30  CS-318     557 non-null    int64  \n",
      " 31  CS-306     557 non-null    int64  \n",
      " 32  CS-312     557 non-null    int64  \n",
      " 33  CS-317     557 non-null    int64  \n",
      " 34  CS-403     557 non-null    int64  \n",
      " 35  CS-421     557 non-null    int64  \n",
      " 36  CS-414     557 non-null    int64  \n",
      " 37  CS-419     557 non-null    int64  \n",
      " 38  CS-423     557 non-null    int64  \n",
      " 39  CGPA       557 non-null    float64\n",
      "dtypes: float64(1), int64(39)\n",
      "memory usage: 174.2 KB\n"
     ]
    }
   ],
   "source": [
    "# Checking the information of the new_df :\n",
    "new_df.info()"
   ]
  },
  {
   "cell_type": "code",
   "execution_count": 143,
   "id": "3b00a464",
   "metadata": {},
   "outputs": [
    {
     "data": {
      "text/html": [
       "<div>\n",
       "<style scoped>\n",
       "    .dataframe tbody tr th:only-of-type {\n",
       "        vertical-align: middle;\n",
       "    }\n",
       "\n",
       "    .dataframe tbody tr th {\n",
       "        vertical-align: top;\n",
       "    }\n",
       "\n",
       "    .dataframe thead th {\n",
       "        text-align: right;\n",
       "    }\n",
       "</style>\n",
       "<table border=\"1\" class=\"dataframe\">\n",
       "  <thead>\n",
       "    <tr style=\"text-align: right;\">\n",
       "      <th></th>\n",
       "      <th>PH-121</th>\n",
       "      <th>HS-101</th>\n",
       "      <th>CY-105</th>\n",
       "      <th>HS-105/12</th>\n",
       "      <th>MT-111</th>\n",
       "      <th>CS-105</th>\n",
       "      <th>CS-106</th>\n",
       "      <th>EL-102</th>\n",
       "      <th>EE-119</th>\n",
       "      <th>ME-107</th>\n",
       "      <th>...</th>\n",
       "      <th>CS-318</th>\n",
       "      <th>CS-306</th>\n",
       "      <th>CS-312</th>\n",
       "      <th>CS-317</th>\n",
       "      <th>CS-403</th>\n",
       "      <th>CS-421</th>\n",
       "      <th>CS-414</th>\n",
       "      <th>CS-419</th>\n",
       "      <th>CS-423</th>\n",
       "      <th>CGPA</th>\n",
       "    </tr>\n",
       "  </thead>\n",
       "  <tbody>\n",
       "    <tr>\n",
       "      <th>count</th>\n",
       "      <td>557.000000</td>\n",
       "      <td>557.000000</td>\n",
       "      <td>557.000000</td>\n",
       "      <td>557.000000</td>\n",
       "      <td>557.000000</td>\n",
       "      <td>557.000000</td>\n",
       "      <td>557.000000</td>\n",
       "      <td>557.000000</td>\n",
       "      <td>557.000000</td>\n",
       "      <td>557.000000</td>\n",
       "      <td>...</td>\n",
       "      <td>557.000000</td>\n",
       "      <td>557.000000</td>\n",
       "      <td>557.000000</td>\n",
       "      <td>557.000000</td>\n",
       "      <td>557.000000</td>\n",
       "      <td>557.000000</td>\n",
       "      <td>557.000000</td>\n",
       "      <td>557.000000</td>\n",
       "      <td>557.000000</td>\n",
       "      <td>557.000000</td>\n",
       "    </tr>\n",
       "    <tr>\n",
       "      <th>mean</th>\n",
       "      <td>13.136445</td>\n",
       "      <td>11.856373</td>\n",
       "      <td>13.938959</td>\n",
       "      <td>12.734291</td>\n",
       "      <td>13.050269</td>\n",
       "      <td>14.089767</td>\n",
       "      <td>12.906643</td>\n",
       "      <td>13.021544</td>\n",
       "      <td>13.073609</td>\n",
       "      <td>12.154399</td>\n",
       "      <td>...</td>\n",
       "      <td>11.877917</td>\n",
       "      <td>12.766607</td>\n",
       "      <td>12.962298</td>\n",
       "      <td>12.030521</td>\n",
       "      <td>13.369838</td>\n",
       "      <td>11.346499</td>\n",
       "      <td>14.204668</td>\n",
       "      <td>13.008977</td>\n",
       "      <td>12.829443</td>\n",
       "      <td>2.982995</td>\n",
       "    </tr>\n",
       "    <tr>\n",
       "      <th>std</th>\n",
       "      <td>2.862443</td>\n",
       "      <td>2.707075</td>\n",
       "      <td>2.663342</td>\n",
       "      <td>3.042468</td>\n",
       "      <td>2.755176</td>\n",
       "      <td>2.407838</td>\n",
       "      <td>2.474745</td>\n",
       "      <td>2.852407</td>\n",
       "      <td>2.425873</td>\n",
       "      <td>3.001415</td>\n",
       "      <td>...</td>\n",
       "      <td>3.230837</td>\n",
       "      <td>2.828955</td>\n",
       "      <td>3.318308</td>\n",
       "      <td>2.794033</td>\n",
       "      <td>2.605270</td>\n",
       "      <td>3.034610</td>\n",
       "      <td>2.615211</td>\n",
       "      <td>2.277097</td>\n",
       "      <td>2.768917</td>\n",
       "      <td>0.588210</td>\n",
       "    </tr>\n",
       "    <tr>\n",
       "      <th>min</th>\n",
       "      <td>7.000000</td>\n",
       "      <td>7.000000</td>\n",
       "      <td>7.000000</td>\n",
       "      <td>7.000000</td>\n",
       "      <td>7.000000</td>\n",
       "      <td>7.000000</td>\n",
       "      <td>7.000000</td>\n",
       "      <td>7.000000</td>\n",
       "      <td>7.000000</td>\n",
       "      <td>7.000000</td>\n",
       "      <td>...</td>\n",
       "      <td>0.000000</td>\n",
       "      <td>1.000000</td>\n",
       "      <td>0.000000</td>\n",
       "      <td>1.000000</td>\n",
       "      <td>7.000000</td>\n",
       "      <td>0.000000</td>\n",
       "      <td>0.000000</td>\n",
       "      <td>1.000000</td>\n",
       "      <td>1.000000</td>\n",
       "      <td>1.658000</td>\n",
       "    </tr>\n",
       "    <tr>\n",
       "      <th>25%</th>\n",
       "      <td>11.000000</td>\n",
       "      <td>10.000000</td>\n",
       "      <td>13.000000</td>\n",
       "      <td>10.000000</td>\n",
       "      <td>11.000000</td>\n",
       "      <td>13.000000</td>\n",
       "      <td>12.000000</td>\n",
       "      <td>11.000000</td>\n",
       "      <td>11.000000</td>\n",
       "      <td>10.000000</td>\n",
       "      <td>...</td>\n",
       "      <td>10.000000</td>\n",
       "      <td>11.000000</td>\n",
       "      <td>10.000000</td>\n",
       "      <td>10.000000</td>\n",
       "      <td>12.000000</td>\n",
       "      <td>10.000000</td>\n",
       "      <td>13.000000</td>\n",
       "      <td>12.000000</td>\n",
       "      <td>11.000000</td>\n",
       "      <td>2.570000</td>\n",
       "    </tr>\n",
       "    <tr>\n",
       "      <th>50%</th>\n",
       "      <td>14.000000</td>\n",
       "      <td>12.000000</td>\n",
       "      <td>15.000000</td>\n",
       "      <td>13.000000</td>\n",
       "      <td>14.000000</td>\n",
       "      <td>15.000000</td>\n",
       "      <td>13.000000</td>\n",
       "      <td>14.000000</td>\n",
       "      <td>14.000000</td>\n",
       "      <td>13.000000</td>\n",
       "      <td>...</td>\n",
       "      <td>12.000000</td>\n",
       "      <td>13.000000</td>\n",
       "      <td>14.000000</td>\n",
       "      <td>12.000000</td>\n",
       "      <td>14.000000</td>\n",
       "      <td>12.000000</td>\n",
       "      <td>15.000000</td>\n",
       "      <td>13.000000</td>\n",
       "      <td>13.000000</td>\n",
       "      <td>3.043000</td>\n",
       "    </tr>\n",
       "    <tr>\n",
       "      <th>75%</th>\n",
       "      <td>15.000000</td>\n",
       "      <td>14.000000</td>\n",
       "      <td>16.000000</td>\n",
       "      <td>15.000000</td>\n",
       "      <td>15.000000</td>\n",
       "      <td>16.000000</td>\n",
       "      <td>15.000000</td>\n",
       "      <td>15.000000</td>\n",
       "      <td>15.000000</td>\n",
       "      <td>15.000000</td>\n",
       "      <td>...</td>\n",
       "      <td>14.000000</td>\n",
       "      <td>15.000000</td>\n",
       "      <td>16.000000</td>\n",
       "      <td>14.000000</td>\n",
       "      <td>16.000000</td>\n",
       "      <td>13.000000</td>\n",
       "      <td>16.000000</td>\n",
       "      <td>15.000000</td>\n",
       "      <td>15.000000</td>\n",
       "      <td>3.458000</td>\n",
       "    </tr>\n",
       "    <tr>\n",
       "      <th>max</th>\n",
       "      <td>17.000000</td>\n",
       "      <td>17.000000</td>\n",
       "      <td>17.000000</td>\n",
       "      <td>17.000000</td>\n",
       "      <td>17.000000</td>\n",
       "      <td>17.000000</td>\n",
       "      <td>17.000000</td>\n",
       "      <td>17.000000</td>\n",
       "      <td>17.000000</td>\n",
       "      <td>17.000000</td>\n",
       "      <td>...</td>\n",
       "      <td>17.000000</td>\n",
       "      <td>17.000000</td>\n",
       "      <td>17.000000</td>\n",
       "      <td>17.000000</td>\n",
       "      <td>17.000000</td>\n",
       "      <td>17.000000</td>\n",
       "      <td>17.000000</td>\n",
       "      <td>17.000000</td>\n",
       "      <td>17.000000</td>\n",
       "      <td>3.985000</td>\n",
       "    </tr>\n",
       "  </tbody>\n",
       "</table>\n",
       "<p>8 rows × 40 columns</p>\n",
       "</div>"
      ],
      "text/plain": [
       "           PH-121      HS-101      CY-105   HS-105/12      MT-111      CS-105  \\\n",
       "count  557.000000  557.000000  557.000000  557.000000  557.000000  557.000000   \n",
       "mean    13.136445   11.856373   13.938959   12.734291   13.050269   14.089767   \n",
       "std      2.862443    2.707075    2.663342    3.042468    2.755176    2.407838   \n",
       "min      7.000000    7.000000    7.000000    7.000000    7.000000    7.000000   \n",
       "25%     11.000000   10.000000   13.000000   10.000000   11.000000   13.000000   \n",
       "50%     14.000000   12.000000   15.000000   13.000000   14.000000   15.000000   \n",
       "75%     15.000000   14.000000   16.000000   15.000000   15.000000   16.000000   \n",
       "max     17.000000   17.000000   17.000000   17.000000   17.000000   17.000000   \n",
       "\n",
       "           CS-106      EL-102      EE-119      ME-107  ...      CS-318  \\\n",
       "count  557.000000  557.000000  557.000000  557.000000  ...  557.000000   \n",
       "mean    12.906643   13.021544   13.073609   12.154399  ...   11.877917   \n",
       "std      2.474745    2.852407    2.425873    3.001415  ...    3.230837   \n",
       "min      7.000000    7.000000    7.000000    7.000000  ...    0.000000   \n",
       "25%     12.000000   11.000000   11.000000   10.000000  ...   10.000000   \n",
       "50%     13.000000   14.000000   14.000000   13.000000  ...   12.000000   \n",
       "75%     15.000000   15.000000   15.000000   15.000000  ...   14.000000   \n",
       "max     17.000000   17.000000   17.000000   17.000000  ...   17.000000   \n",
       "\n",
       "           CS-306      CS-312      CS-317      CS-403      CS-421      CS-414  \\\n",
       "count  557.000000  557.000000  557.000000  557.000000  557.000000  557.000000   \n",
       "mean    12.766607   12.962298   12.030521   13.369838   11.346499   14.204668   \n",
       "std      2.828955    3.318308    2.794033    2.605270    3.034610    2.615211   \n",
       "min      1.000000    0.000000    1.000000    7.000000    0.000000    0.000000   \n",
       "25%     11.000000   10.000000   10.000000   12.000000   10.000000   13.000000   \n",
       "50%     13.000000   14.000000   12.000000   14.000000   12.000000   15.000000   \n",
       "75%     15.000000   16.000000   14.000000   16.000000   13.000000   16.000000   \n",
       "max     17.000000   17.000000   17.000000   17.000000   17.000000   17.000000   \n",
       "\n",
       "           CS-419      CS-423        CGPA  \n",
       "count  557.000000  557.000000  557.000000  \n",
       "mean    13.008977   12.829443    2.982995  \n",
       "std      2.277097    2.768917    0.588210  \n",
       "min      1.000000    1.000000    1.658000  \n",
       "25%     12.000000   11.000000    2.570000  \n",
       "50%     13.000000   13.000000    3.043000  \n",
       "75%     15.000000   15.000000    3.458000  \n",
       "max     17.000000   17.000000    3.985000  \n",
       "\n",
       "[8 rows x 40 columns]"
      ]
     },
     "execution_count": 143,
     "metadata": {},
     "output_type": "execute_result"
    }
   ],
   "source": [
    "# Checking the description of the new_df :\n",
    "new_df.describe()"
   ]
  },
  {
   "cell_type": "markdown",
   "id": "236d0d2b",
   "metadata": {},
   "source": [
    "# EDA :"
   ]
  },
  {
   "cell_type": "code",
   "execution_count": 144,
   "id": "5aa64989",
   "metadata": {},
   "outputs": [
    {
     "data": {
      "text/plain": [
       "<Axes: xlabel='PH-121', ylabel='CGPA'>"
      ]
     },
     "execution_count": 144,
     "metadata": {},
     "output_type": "execute_result"
    },
    {
     "data": {
      "image/png": "[encoded data removed]",
      "text/plain": [
       "<Figure size 640x480 with 1 Axes>"
      ]
     },
     "metadata": {},
     "output_type": "display_data"
    }
   ],
   "source": [
    "# Performing some EDA :\n",
    "sns.barplot(data = new_df , x = 'PH-121',  y = 'CGPA',)"
   ]
  },
  {
   "cell_type": "code",
   "execution_count": 145,
   "id": "dbc1a810",
   "metadata": {},
   "outputs": [
    {
     "data": {
      "text/plain": [
       "<Axes: xlabel='HS-101', ylabel='CGPA'>"
      ]
     },
     "execution_count": 145,
     "metadata": {},
     "output_type": "execute_result"
    },
    {
     "data": {
      "image/png": "[encoded data removed]",
      "text/plain": [
       "<Figure size 640x480 with 1 Axes>"
      ]
     },
     "metadata": {},
     "output_type": "display_data"
    }
   ],
   "source": [
    "sns.barplot(data = new_df , x = 'HS-101',  y = 'CGPA',)"
   ]
  },
  {
   "cell_type": "markdown",
   "id": "197e9aed",
   "metadata": {},
   "source": [
    "# Feature Importance :"
   ]
  },
  {
   "cell_type": "code",
   "execution_count": 146,
   "id": "b45f310d",
   "metadata": {},
   "outputs": [],
   "source": [
    "# I will do feature selection Using Random Forest :\n",
    "X = new_df.drop(columns = 'CGPA' , axis = 1)\n",
    "y = new_df['CGPA']"
   ]
  },
  {
   "cell_type": "code",
   "execution_count": 147,
   "id": "5978b83c",
   "metadata": {},
   "outputs": [],
   "source": [
    "from sklearn.model_selection import train_test_split"
   ]
  },
  {
   "cell_type": "code",
   "execution_count": 148,
   "id": "22d793c4",
   "metadata": {},
   "outputs": [],
   "source": [
    "X_train , X_test , y_train , y_test = train_test_split(X,y,test_size = 0.3)"
   ]
  },
  {
   "cell_type": "code",
   "execution_count": 149,
   "id": "4c7481e0",
   "metadata": {},
   "outputs": [
    {
     "name": "stdout",
     "output_type": "stream",
     "text": [
      " 1) CS-317                         0.441440\n",
      " 2) CS-215                         0.120112\n",
      " 3) CS-210                         0.074091\n",
      " 4) EL-332                         0.042867\n",
      " 5) CS-306                         0.032407\n",
      " 6) CS-214                         0.027709\n",
      " 7) CS-301                         0.027467\n",
      " 8) EE-217                         0.022934\n",
      " 9) MT-222                         0.018873\n",
      "10) MT-224                         0.016768\n",
      "11) MT-111                         0.014704\n",
      "12) CS-107                         0.014044\n",
      "13) ME-107                         0.012118\n",
      "14) EL-102                         0.010848\n",
      "15) CS-421                         0.010696\n",
      "16) CS-302                         0.009523\n",
      "17) CS-211                         0.007896\n",
      "18) CS-105                         0.007735\n",
      "19) PH-121                         0.007462\n",
      "20) CS-419                         0.007436\n",
      "21) HS-304                         0.006546\n",
      "22) CY-105                         0.006400\n",
      "23) CS-212                         0.006356\n",
      "24) TC-383                         0.005720\n",
      "25) EE-119                         0.005319\n",
      "26) MT-442                         0.004941\n",
      "27) CS-414                         0.004039\n",
      "28) CS-318                         0.003620\n",
      "29) HS-105/12                      0.003588\n",
      "30) HS-101                         0.003548\n",
      "31) CS-203                         0.003497\n",
      "32) CS-423                         0.002832\n",
      "33) MT-331                         0.002756\n",
      "34) EE-222                         0.002737\n",
      "35) CS-106                         0.002513\n",
      "36) EF-303                         0.002274\n",
      "37) CS-403                         0.002227\n",
      "38) CS-312                         0.001995\n",
      "39) HS-205/20                      0.001964\n"
     ]
    },
    {
     "data": {
      "image/png": "[encoded data removed]",
      "text/plain": [
       "<Figure size 640x480 with 1 Axes>"
      ]
     },
     "metadata": {},
     "output_type": "display_data"
    }
   ],
   "source": [
    "# ( I have taken this code from My book 'Python Machine Learning by Sebastine Raschka & Vahid Mirjalili')\n",
    "from sklearn.ensemble import RandomForestRegressor\n",
    "\n",
    "feat_labels = X.columns\n",
    "\n",
    "forest = RandomForestRegressor(n_estimators = 500 , random_state =1)\n",
    "\n",
    "forest.fit(X_train , y_train)\n",
    "importances = forest.feature_importances_\n",
    "\n",
    "indices = np.argsort(importances)[::-1]\n",
    "\n",
    "for f in range(X_train.shape[1]):\n",
    "    print(\"%2d) %-*s %f\" % (f + 1 , 30,\n",
    "                           feat_labels[indices[f]],\n",
    "                           importances[indices[f]]))\n",
    "    \n",
    "    \n",
    "plt.title('Feature Importance')\n",
    "plt.bar(range(X_train.shape[1]),\n",
    "       importances[indices],\n",
    "       align = 'center')\n",
    "\n",
    "plt.xticks(range(X_train.shape[1]),\n",
    "          feat_labels[indices], rotation = 90)\n",
    "plt.xlim([-1 , X_train.shape[1]])\n",
    "\n",
    "plt.tight_layout()\n",
    "plt.show()\n",
    "    "
   ]
  },
  {
   "cell_type": "code",
   "execution_count": 150,
   "id": "f1b3044a",
   "metadata": {},
   "outputs": [],
   "source": [
    "# Hence I will take the first 10 most important columns for further process . "
   ]
  },
  {
   "cell_type": "code",
   "execution_count": 151,
   "id": "f61de867",
   "metadata": {},
   "outputs": [
    {
     "name": "stderr",
     "output_type": "stream",
     "text": [
      "C:\\Users\\admin\\AppData\\Local\\Temp\\ipykernel_13296\\3284715529.py:3: SettingWithCopyWarning: \n",
      "A value is trying to be set on a copy of a slice from a DataFrame.\n",
      "Try using .loc[row_indexer,col_indexer] = value instead\n",
      "\n",
      "See the caveats in the documentation: https://pandas.pydata.org/pandas-docs/stable/user_guide/indexing.html#returning-a-view-versus-a-copy\n",
      "  n_df['CGPA'] = new_df['CGPA']\n"
     ]
    },
    {
     "data": {
      "text/html": [
       "<div>\n",
       "<style scoped>\n",
       "    .dataframe tbody tr th:only-of-type {\n",
       "        vertical-align: middle;\n",
       "    }\n",
       "\n",
       "    .dataframe tbody tr th {\n",
       "        vertical-align: top;\n",
       "    }\n",
       "\n",
       "    .dataframe thead th {\n",
       "        text-align: right;\n",
       "    }\n",
       "</style>\n",
       "<table border=\"1\" class=\"dataframe\">\n",
       "  <thead>\n",
       "    <tr style=\"text-align: right;\">\n",
       "      <th></th>\n",
       "      <th>CS-317</th>\n",
       "      <th>CS-215</th>\n",
       "      <th>CS-210</th>\n",
       "      <th>EL-332</th>\n",
       "      <th>CS-306</th>\n",
       "      <th>CS-214</th>\n",
       "      <th>CS-301</th>\n",
       "      <th>EE-217</th>\n",
       "      <th>MT-222</th>\n",
       "      <th>MT-224</th>\n",
       "      <th>CGPA</th>\n",
       "    </tr>\n",
       "  </thead>\n",
       "  <tbody>\n",
       "    <tr>\n",
       "      <th>0</th>\n",
       "      <td>9</td>\n",
       "      <td>9</td>\n",
       "      <td>11</td>\n",
       "      <td>10</td>\n",
       "      <td>10</td>\n",
       "      <td>7</td>\n",
       "      <td>13</td>\n",
       "      <td>16</td>\n",
       "      <td>7</td>\n",
       "      <td>12</td>\n",
       "      <td>2.205</td>\n",
       "    </tr>\n",
       "    <tr>\n",
       "      <th>1</th>\n",
       "      <td>7</td>\n",
       "      <td>7</td>\n",
       "      <td>8</td>\n",
       "      <td>10</td>\n",
       "      <td>7</td>\n",
       "      <td>7</td>\n",
       "      <td>15</td>\n",
       "      <td>12</td>\n",
       "      <td>12</td>\n",
       "      <td>8</td>\n",
       "      <td>2.008</td>\n",
       "    </tr>\n",
       "    <tr>\n",
       "      <th>2</th>\n",
       "      <td>13</td>\n",
       "      <td>16</td>\n",
       "      <td>16</td>\n",
       "      <td>14</td>\n",
       "      <td>15</td>\n",
       "      <td>15</td>\n",
       "      <td>14</td>\n",
       "      <td>16</td>\n",
       "      <td>16</td>\n",
       "      <td>16</td>\n",
       "      <td>3.608</td>\n",
       "    </tr>\n",
       "    <tr>\n",
       "      <th>3</th>\n",
       "      <td>10</td>\n",
       "      <td>7</td>\n",
       "      <td>10</td>\n",
       "      <td>8</td>\n",
       "      <td>9</td>\n",
       "      <td>7</td>\n",
       "      <td>7</td>\n",
       "      <td>8</td>\n",
       "      <td>8</td>\n",
       "      <td>7</td>\n",
       "      <td>1.906</td>\n",
       "    </tr>\n",
       "    <tr>\n",
       "      <th>4</th>\n",
       "      <td>14</td>\n",
       "      <td>15</td>\n",
       "      <td>15</td>\n",
       "      <td>15</td>\n",
       "      <td>15</td>\n",
       "      <td>15</td>\n",
       "      <td>12</td>\n",
       "      <td>16</td>\n",
       "      <td>16</td>\n",
       "      <td>15</td>\n",
       "      <td>3.448</td>\n",
       "    </tr>\n",
       "    <tr>\n",
       "      <th>...</th>\n",
       "      <td>...</td>\n",
       "      <td>...</td>\n",
       "      <td>...</td>\n",
       "      <td>...</td>\n",
       "      <td>...</td>\n",
       "      <td>...</td>\n",
       "      <td>...</td>\n",
       "      <td>...</td>\n",
       "      <td>...</td>\n",
       "      <td>...</td>\n",
       "      <td>...</td>\n",
       "    </tr>\n",
       "    <tr>\n",
       "      <th>552</th>\n",
       "      <td>15</td>\n",
       "      <td>15</td>\n",
       "      <td>16</td>\n",
       "      <td>16</td>\n",
       "      <td>14</td>\n",
       "      <td>16</td>\n",
       "      <td>15</td>\n",
       "      <td>16</td>\n",
       "      <td>17</td>\n",
       "      <td>16</td>\n",
       "      <td>3.798</td>\n",
       "    </tr>\n",
       "    <tr>\n",
       "      <th>553</th>\n",
       "      <td>14</td>\n",
       "      <td>13</td>\n",
       "      <td>16</td>\n",
       "      <td>16</td>\n",
       "      <td>15</td>\n",
       "      <td>17</td>\n",
       "      <td>16</td>\n",
       "      <td>16</td>\n",
       "      <td>11</td>\n",
       "      <td>13</td>\n",
       "      <td>3.772</td>\n",
       "    </tr>\n",
       "    <tr>\n",
       "      <th>554</th>\n",
       "      <td>13</td>\n",
       "      <td>13</td>\n",
       "      <td>15</td>\n",
       "      <td>13</td>\n",
       "      <td>14</td>\n",
       "      <td>13</td>\n",
       "      <td>14</td>\n",
       "      <td>16</td>\n",
       "      <td>13</td>\n",
       "      <td>13</td>\n",
       "      <td>3.470</td>\n",
       "    </tr>\n",
       "    <tr>\n",
       "      <th>555</th>\n",
       "      <td>13</td>\n",
       "      <td>8</td>\n",
       "      <td>12</td>\n",
       "      <td>7</td>\n",
       "      <td>14</td>\n",
       "      <td>10</td>\n",
       "      <td>10</td>\n",
       "      <td>12</td>\n",
       "      <td>7</td>\n",
       "      <td>13</td>\n",
       "      <td>2.193</td>\n",
       "    </tr>\n",
       "    <tr>\n",
       "      <th>556</th>\n",
       "      <td>10</td>\n",
       "      <td>8</td>\n",
       "      <td>14</td>\n",
       "      <td>1</td>\n",
       "      <td>8</td>\n",
       "      <td>8</td>\n",
       "      <td>7</td>\n",
       "      <td>9</td>\n",
       "      <td>9</td>\n",
       "      <td>8</td>\n",
       "      <td>1.753</td>\n",
       "    </tr>\n",
       "  </tbody>\n",
       "</table>\n",
       "<p>557 rows × 11 columns</p>\n",
       "</div>"
      ],
      "text/plain": [
       "     CS-317  CS-215  CS-210  EL-332  CS-306  CS-214  CS-301  EE-217  MT-222  \\\n",
       "0         9       9      11      10      10       7      13      16       7   \n",
       "1         7       7       8      10       7       7      15      12      12   \n",
       "2        13      16      16      14      15      15      14      16      16   \n",
       "3        10       7      10       8       9       7       7       8       8   \n",
       "4        14      15      15      15      15      15      12      16      16   \n",
       "..      ...     ...     ...     ...     ...     ...     ...     ...     ...   \n",
       "552      15      15      16      16      14      16      15      16      17   \n",
       "553      14      13      16      16      15      17      16      16      11   \n",
       "554      13      13      15      13      14      13      14      16      13   \n",
       "555      13       8      12       7      14      10      10      12       7   \n",
       "556      10       8      14       1       8       8       7       9       9   \n",
       "\n",
       "     MT-224   CGPA  \n",
       "0        12  2.205  \n",
       "1         8  2.008  \n",
       "2        16  3.608  \n",
       "3         7  1.906  \n",
       "4        15  3.448  \n",
       "..      ...    ...  \n",
       "552      16  3.798  \n",
       "553      13  3.772  \n",
       "554      13  3.470  \n",
       "555      13  2.193  \n",
       "556       8  1.753  \n",
       "\n",
       "[557 rows x 11 columns]"
      ]
     },
     "execution_count": 151,
     "metadata": {},
     "output_type": "execute_result"
    }
   ],
   "source": [
    "top_features = feat_labels[indices[:10]]\n",
    "n_df = X[top_features]\n",
    "n_df['CGPA'] = new_df['CGPA']\n",
    "n_df"
   ]
  },
  {
   "cell_type": "code",
   "execution_count": 154,
   "id": "78618699",
   "metadata": {},
   "outputs": [
    {
     "data": {
      "text/plain": [
       "False"
      ]
     },
     "execution_count": 154,
     "metadata": {},
     "output_type": "execute_result"
    }
   ],
   "source": [
    "# Checking if there any duplicate row presents ?\n",
    "n_df.duplicated().any()"
   ]
  },
  {
   "cell_type": "markdown",
   "id": "83801c5b",
   "metadata": {},
   "source": [
    "# Using different models :"
   ]
  },
  {
   "cell_type": "code",
   "execution_count": 155,
   "id": "1d949d4e",
   "metadata": {},
   "outputs": [],
   "source": [
    "X = n_df.iloc[:,0:-1]\n",
    "y = n_df.iloc[:,-1]"
   ]
  },
  {
   "cell_type": "code",
   "execution_count": 238,
   "id": "9d984954",
   "metadata": {},
   "outputs": [],
   "source": [
    "# Importing different models :\n",
    "from sklearn.linear_model import LinearRegression\n",
    "from sklearn.linear_model import Lasso\n",
    "from sklearn.linear_model  import Ridge\n",
    "from sklearn.linear_model import SGDRegressor\n",
    "from sklearn.svm import SVR\n",
    "from sklearn.neighbors import KNeighborsRegressor\n",
    "from sklearn.tree import DecisionTreeRegressor\n",
    "from sklearn.ensemble import RandomForestRegressor\n",
    "from sklearn.ensemble import GradientBoostingRegressor\n",
    "from sklearn.ensemble import VotingRegressor\n",
    "from sklearn.ensemble import StackingRegressor"
   ]
  },
  {
   "cell_type": "markdown",
   "id": "b039c81e",
   "metadata": {},
   "source": [
    "# Using Linear Models  :"
   ]
  },
  {
   "cell_type": "code",
   "execution_count": 158,
   "id": "062b2d0e",
   "metadata": {},
   "outputs": [],
   "source": [
    "lr_results = []\n",
    "sgd_results = []\n",
    "l_results = []\n",
    "r_results = []\n",
    "\n",
    "# Checking the best random_state values for each models :\n",
    "for i in range(100):\n",
    "    X_train , X_test , y_train , y_test = train_test_split(X,y,test_size = 0.30 , random_state = i)\n",
    "    lr = LinearRegression()\n",
    "    lr.fit(X_train , y_train)\n",
    "    y_pred = lr.predict(X_test)\n",
    "    lr_results.append(r2_score(y_test , y_pred))\n",
    "    \n",
    "    sgd = SGDRegressor()\n",
    "    sgd.fit(X_train , y_train)\n",
    "    y_pred = sgd.predict(X_test)\n",
    "    sgd_results.append(r2_score(y_test , y_pred))\n",
    "    \n",
    "    l = Lasso()\n",
    "    l.fit(X_train , y_train)\n",
    "    y_pred = l.predict(X_test)\n",
    "    l_results.append(r2_score(y_test , y_pred))\n",
    "    \n",
    "    r = Ridge()\n",
    "    r.fit(X_train , y_train)\n",
    "    y_pred = r.predict(X_test)\n",
    "    r_results.append(r2_score(y_test , y_pred))"
   ]
  },
  {
   "cell_type": "code",
   "execution_count": 159,
   "id": "b50e2e2a",
   "metadata": {},
   "outputs": [
    {
     "data": {
      "text/plain": [
       "58"
      ]
     },
     "execution_count": 159,
     "metadata": {},
     "output_type": "execute_result"
    }
   ],
   "source": [
    "# Checking the best random_state for Linear Regression :\n",
    "np.argmax(lr_results)"
   ]
  },
  {
   "cell_type": "code",
   "execution_count": 108,
   "id": "f2da28f4",
   "metadata": {},
   "outputs": [
    {
     "data": {
      "text/plain": [
       "0.9617537686829553"
      ]
     },
     "execution_count": 108,
     "metadata": {},
     "output_type": "execute_result"
    }
   ],
   "source": [
    "# Checking the r2_score at that random_state :\n",
    "lr_results[np.argmax(lr_results)]"
   ]
  },
  {
   "cell_type": "code",
   "execution_count": 163,
   "id": "d6acc4e2",
   "metadata": {},
   "outputs": [],
   "source": [
    "# LinearRegression showing overfitting here in this dataset :"
   ]
  },
  {
   "cell_type": "code",
   "execution_count": 110,
   "id": "9435eec0",
   "metadata": {},
   "outputs": [
    {
     "data": {
      "text/plain": [
       "55"
      ]
     },
     "execution_count": 110,
     "metadata": {},
     "output_type": "execute_result"
    }
   ],
   "source": [
    "# Checking the best random_state for Lasso regression :\n",
    "np.argmax(l_results)"
   ]
  },
  {
   "cell_type": "code",
   "execution_count": 111,
   "id": "e0364877",
   "metadata": {},
   "outputs": [
    {
     "data": {
      "text/plain": [
       "0.4655319757126567"
      ]
     },
     "execution_count": 111,
     "metadata": {},
     "output_type": "execute_result"
    }
   ],
   "source": [
    "# Checking the r2_score at that value of random_state :\n",
    "l_results[np.argmax(l_results)]"
   ]
  },
  {
   "cell_type": "code",
   "execution_count": 162,
   "id": "8ad74d07",
   "metadata": {},
   "outputs": [],
   "source": [
    "# Lasso is not relaiable"
   ]
  },
  {
   "cell_type": "code",
   "execution_count": 112,
   "id": "820ebb9a",
   "metadata": {},
   "outputs": [
    {
     "data": {
      "text/plain": [
       "39"
      ]
     },
     "execution_count": 112,
     "metadata": {},
     "output_type": "execute_result"
    }
   ],
   "source": [
    "# Checking  the best random_state for Ridge :\n",
    "np.argmax(r_results)"
   ]
  },
  {
   "cell_type": "code",
   "execution_count": 113,
   "id": "f787b34d",
   "metadata": {},
   "outputs": [
    {
     "data": {
      "text/plain": [
       "0.9617537446204979"
      ]
     },
     "execution_count": 113,
     "metadata": {},
     "output_type": "execute_result"
    }
   ],
   "source": [
    "# Checking the r2_score at that point :\n",
    "r_results[np.argmax(r_results)]"
   ]
  },
  {
   "cell_type": "code",
   "execution_count": 161,
   "id": "80414ab5",
   "metadata": {},
   "outputs": [],
   "source": [
    "# Ridge is showing overfitting :"
   ]
  },
  {
   "cell_type": "code",
   "execution_count": 124,
   "id": "56366591",
   "metadata": {},
   "outputs": [],
   "source": [
    "X_train1 , X_test1 , y_train1 , y_test1 = train_test_split(X,y,test_size = 0.3 , random_state = 39)"
   ]
  },
  {
   "cell_type": "code",
   "execution_count": 127,
   "id": "41347ec4",
   "metadata": {},
   "outputs": [
    {
     "name": "stdout",
     "output_type": "stream",
     "text": [
      "r2 score of LR is : 0.9617537686829553\n"
     ]
    }
   ],
   "source": [
    "LR = LinearRegression()\n",
    "LR.fit(X_train1 , y_train1)\n",
    "y_pred_LR = LR.predict(X_test1)\n",
    "print('r2 score of LR is :',r2_score(y_test1 , y_pred_LR))"
   ]
  },
  {
   "cell_type": "code",
   "execution_count": 160,
   "id": "d5ff2bb2",
   "metadata": {},
   "outputs": [],
   "source": [
    "# LinearRegression is showing Overfitting :"
   ]
  },
  {
   "cell_type": "markdown",
   "id": "cb114021",
   "metadata": {},
   "source": [
    "# Using SVR & KNN :"
   ]
  },
  {
   "cell_type": "code",
   "execution_count": 174,
   "id": "8ba33d52",
   "metadata": {},
   "outputs": [],
   "source": [
    "svr_results = []\n",
    "knn_results = []\n",
    "\n",
    "for i in range(100):\n",
    "    X_train , X_test , y_train , y_test = train_test_split(X,y,test_size = 0.30 , random_state = i)\n",
    "    svr = SVR(C = 0.1 , kernel = 'rbf')\n",
    "    svr.fit(X_train , y_train)\n",
    "    y_pred = svr.predict(X_test)\n",
    "    svr_results.append(r2_score(y_test , y_pred))\n",
    "    \n",
    "    knn = KNeighborsRegressor(n_neighbors = 4 , weights = 'uniform')\n",
    "    knn.fit(X_train , y_train)\n",
    "    y_pred = knn.predict(X_test)\n",
    "    knn_results.append(r2_score(y_test , y_pred))"
   ]
  },
  {
   "cell_type": "code",
   "execution_count": 175,
   "id": "02c5b7cd",
   "metadata": {},
   "outputs": [
    {
     "data": {
      "text/plain": [
       "39"
      ]
     },
     "execution_count": 175,
     "metadata": {},
     "output_type": "execute_result"
    }
   ],
   "source": [
    "np.argmax(svr_results)"
   ]
  },
  {
   "cell_type": "code",
   "execution_count": 176,
   "id": "bc24e64f",
   "metadata": {
    "scrolled": true
   },
   "outputs": [
    {
     "data": {
      "text/plain": [
       "[0.8950767354964513,\n",
       " 0.9236552222843666,\n",
       " 0.9155756941013808,\n",
       " 0.8991097201142231,\n",
       " 0.9056429212477252,\n",
       " 0.9070376447230087,\n",
       " 0.9071834536033264,\n",
       " 0.9218304938214618,\n",
       " 0.9042339600034489,\n",
       " 0.9153009742025148,\n",
       " 0.9076337224858535,\n",
       " 0.9249984744468862,\n",
       " 0.9174391514945822,\n",
       " 0.8802799049876362,\n",
       " 0.9217643457570737,\n",
       " 0.9155378290358205,\n",
       " 0.9144181186668927,\n",
       " 0.8961120543836514,\n",
       " 0.9115248536812719,\n",
       " 0.9072018494371081,\n",
       " 0.9036772261833766,\n",
       " 0.8995269142041776,\n",
       " 0.8971222923288356,\n",
       " 0.900110112949149,\n",
       " 0.9029608062740992,\n",
       " 0.8816532509458634,\n",
       " 0.8912096437752538,\n",
       " 0.913647842359206,\n",
       " 0.8882611501936651,\n",
       " 0.913351666741765,\n",
       " 0.9050130963854681,\n",
       " 0.9250262627747649,\n",
       " 0.9177267501483218,\n",
       " 0.9161617743287984,\n",
       " 0.921316591560794,\n",
       " 0.9092565498859985,\n",
       " 0.9173246222821011,\n",
       " 0.8992094381227218,\n",
       " 0.9076342149942495,\n",
       " 0.9360340582839457,\n",
       " 0.9118141086582656,\n",
       " 0.9055348256391278,\n",
       " 0.924625199095376,\n",
       " 0.9149652914675741,\n",
       " 0.9112406438080775,\n",
       " 0.9226602662822939,\n",
       " 0.9148765481901201,\n",
       " 0.9033888548743028,\n",
       " 0.9144206956599439,\n",
       " 0.9185090105286894,\n",
       " 0.9107703190001907,\n",
       " 0.9103954320090759,\n",
       " 0.9222320307731532,\n",
       " 0.8957570359526407,\n",
       " 0.8972487540492328,\n",
       " 0.8982382351019045,\n",
       " 0.9052304598572252,\n",
       " 0.9216905869361854,\n",
       " 0.9157206971430826,\n",
       " 0.9196409751452983,\n",
       " 0.9185590838042809,\n",
       " 0.8938494713366739,\n",
       " 0.9210989520510724,\n",
       " 0.9127854135978677,\n",
       " 0.9179692402355998,\n",
       " 0.922441686943807,\n",
       " 0.9159938817550025,\n",
       " 0.91493714486359,\n",
       " 0.9218256620660882,\n",
       " 0.9024945571254547,\n",
       " 0.8986024879665968,\n",
       " 0.9235731494649936,\n",
       " 0.9129133102728921,\n",
       " 0.9141156317036908,\n",
       " 0.9168156408652048,\n",
       " 0.9121338217294228,\n",
       " 0.916428222690301,\n",
       " 0.9222837887184159,\n",
       " 0.9090926498342994,\n",
       " 0.9156138770322543,\n",
       " 0.9109426856428418,\n",
       " 0.8937366402051032,\n",
       " 0.904680383145388,\n",
       " 0.8974988392059429,\n",
       " 0.8906355508809657,\n",
       " 0.9110762375566567,\n",
       " 0.9135176366887973,\n",
       " 0.8863646400110543,\n",
       " 0.9236203980605254,\n",
       " 0.9100921156320816,\n",
       " 0.9044024481934245,\n",
       " 0.8957938288598764,\n",
       " 0.9160359819996827,\n",
       " 0.9210997593919282,\n",
       " 0.8989490080690717,\n",
       " 0.899969671642146,\n",
       " 0.9041310489293403,\n",
       " 0.9134351817127624,\n",
       " 0.9178987178944604,\n",
       " 0.9116900112392903]"
      ]
     },
     "execution_count": 176,
     "metadata": {},
     "output_type": "execute_result"
    }
   ],
   "source": [
    "svr_results"
   ]
  },
  {
   "cell_type": "code",
   "execution_count": 177,
   "id": "e4e75dce",
   "metadata": {},
   "outputs": [],
   "source": [
    "# SVR is little bit relaiable if we give a random_state values for which the result becomes less than 90 in train_test_split "
   ]
  },
  {
   "cell_type": "code",
   "execution_count": 178,
   "id": "09a90f24",
   "metadata": {},
   "outputs": [
    {
     "data": {
      "text/plain": [
       "0.9360340582839457"
      ]
     },
     "execution_count": 178,
     "metadata": {},
     "output_type": "execute_result"
    }
   ],
   "source": [
    "svr_results[np.argmax(svr_results)]"
   ]
  },
  {
   "cell_type": "code",
   "execution_count": 179,
   "id": "427ed987",
   "metadata": {},
   "outputs": [
    {
     "data": {
      "text/plain": [
       "58"
      ]
     },
     "execution_count": 179,
     "metadata": {},
     "output_type": "execute_result"
    }
   ],
   "source": [
    "np.argmax(knn_results)"
   ]
  },
  {
   "cell_type": "code",
   "execution_count": 180,
   "id": "b97e5131",
   "metadata": {},
   "outputs": [
    {
     "data": {
      "text/plain": [
       "0.9436154624890755"
      ]
     },
     "execution_count": 180,
     "metadata": {},
     "output_type": "execute_result"
    }
   ],
   "source": [
    "knn_results[np.argmax(knn_results)]"
   ]
  },
  {
   "cell_type": "code",
   "execution_count": 181,
   "id": "b90006ed",
   "metadata": {
    "scrolled": true
   },
   "outputs": [
    {
     "data": {
      "text/plain": [
       "[0.9263327873571846,\n",
       " 0.9402162318011441,\n",
       " 0.91962146586128,\n",
       " 0.9103999046967679,\n",
       " 0.9302921125581707,\n",
       " 0.9206296362219679,\n",
       " 0.914397975800019,\n",
       " 0.9397890048143576,\n",
       " 0.9295780043048152,\n",
       " 0.9167258527146479,\n",
       " 0.9293169079848056,\n",
       " 0.9363031142936169,\n",
       " 0.934189051235365,\n",
       " 0.9281735382679233,\n",
       " 0.9209318551373021,\n",
       " 0.9219780635420183,\n",
       " 0.9357152707140953,\n",
       " 0.921417214627287,\n",
       " 0.9225075941809231,\n",
       " 0.9219997738368584,\n",
       " 0.9319771407038386,\n",
       " 0.9241232753259815,\n",
       " 0.9303049467838208,\n",
       " 0.9329152606769194,\n",
       " 0.9199635098729054,\n",
       " 0.9383924896773995,\n",
       " 0.9259694189070984,\n",
       " 0.9157304431100574,\n",
       " 0.9063018500861072,\n",
       " 0.9302402945134816,\n",
       " 0.9231888951552343,\n",
       " 0.9259852408825667,\n",
       " 0.9267968351369337,\n",
       " 0.9338115284282839,\n",
       " 0.9272784272437707,\n",
       " 0.9210920047477273,\n",
       " 0.940374355302615,\n",
       " 0.9242367936405059,\n",
       " 0.9274654155562954,\n",
       " 0.9396034390013546,\n",
       " 0.9329829246477058,\n",
       " 0.94018162289144,\n",
       " 0.9284656175079247,\n",
       " 0.9351803215551356,\n",
       " 0.9312264466761093,\n",
       " 0.9188690868075942,\n",
       " 0.922072582167335,\n",
       " 0.9253894607841333,\n",
       " 0.9241618454268921,\n",
       " 0.9271116911329552,\n",
       " 0.918134648782531,\n",
       " 0.9131065829648566,\n",
       " 0.9391737528926918,\n",
       " 0.9196154958712781,\n",
       " 0.9215707497803954,\n",
       " 0.9200752058552928,\n",
       " 0.9200515156602301,\n",
       " 0.9275491299679727,\n",
       " 0.9436154624890755,\n",
       " 0.9324100664020166,\n",
       " 0.9224393788137186,\n",
       " 0.9200916645338242,\n",
       " 0.941060800253896,\n",
       " 0.923790930945671,\n",
       " 0.925683034460794,\n",
       " 0.9351779852871964,\n",
       " 0.9255948299048133,\n",
       " 0.9203110334991096,\n",
       " 0.935304796657328,\n",
       " 0.9177552349844538,\n",
       " 0.9342526421400603,\n",
       " 0.9329498755548665,\n",
       " 0.9138404948438588,\n",
       " 0.9414073885611479,\n",
       " 0.9078108274685238,\n",
       " 0.9323336658808975,\n",
       " 0.914322514524224,\n",
       " 0.9334730962366071,\n",
       " 0.9432010861860397,\n",
       " 0.9258922008996032,\n",
       " 0.9275267962235003,\n",
       " 0.9216544725873445,\n",
       " 0.9272874012099169,\n",
       " 0.9090150569594468,\n",
       " 0.9178691939978537,\n",
       " 0.919958333425327,\n",
       " 0.9315080106813759,\n",
       " 0.9184535637315345,\n",
       " 0.9355457512115973,\n",
       " 0.9121897551135348,\n",
       " 0.9096270107054664,\n",
       " 0.9298322791910079,\n",
       " 0.931320582169465,\n",
       " 0.9429918672432235,\n",
       " 0.9203508032625867,\n",
       " 0.9154286544097661,\n",
       " 0.9147366061621158,\n",
       " 0.9323854123982924,\n",
       " 0.9404150274818949,\n",
       " 0.9177490954664435]"
      ]
     },
     "execution_count": 181,
     "metadata": {},
     "output_type": "execute_result"
    }
   ],
   "source": [
    "knn_results"
   ]
  },
  {
   "cell_type": "code",
   "execution_count": null,
   "id": "1d433336",
   "metadata": {},
   "outputs": [],
   "source": [
    "# KNN is showing overfitting ."
   ]
  },
  {
   "cell_type": "markdown",
   "id": "a5f1fcf8",
   "metadata": {},
   "source": [
    "# Using DecisionTree Regression :"
   ]
  },
  {
   "cell_type": "code",
   "execution_count": 183,
   "id": "bc0feb78",
   "metadata": {},
   "outputs": [],
   "source": [
    "Dt_results = []\n",
    "for i in range(100):\n",
    "    X_train , X_test , y_train , y_test = train_test_split(X,y,test_size = 0.30 , random_state = i)\n",
    "    dt = DecisionTreeRegressor(max_depth = 5)\n",
    "    dt.fit(X_train , y_train)\n",
    "    y_pred = dt.predict(X_test)\n",
    "    Dt_results.append(r2_score(y_test , y_pred))"
   ]
  },
  {
   "cell_type": "code",
   "execution_count": 184,
   "id": "619a9c60",
   "metadata": {},
   "outputs": [
    {
     "data": {
      "text/plain": [
       "62"
      ]
     },
     "execution_count": 184,
     "metadata": {},
     "output_type": "execute_result"
    }
   ],
   "source": [
    "# Checking the best random_state value for DecisionTree Regressor :\n",
    "np.argmax(Dt_results)"
   ]
  },
  {
   "cell_type": "code",
   "execution_count": 185,
   "id": "053e00f9",
   "metadata": {},
   "outputs": [
    {
     "data": {
      "text/plain": [
       "0.8715285538418915"
      ]
     },
     "execution_count": 185,
     "metadata": {},
     "output_type": "execute_result"
    }
   ],
   "source": [
    "Dt_results[np.argmax(Dt_results)]"
   ]
  },
  {
   "cell_type": "code",
   "execution_count": 186,
   "id": "8aca2038",
   "metadata": {},
   "outputs": [],
   "source": [
    "X_train5 , X_test5 , y_train5 , y_test5 = train_test_split(X,y , test_size = 0.3 , random_state = 7)"
   ]
  },
  {
   "cell_type": "code",
   "execution_count": 214,
   "id": "75ed8f6c",
   "metadata": {},
   "outputs": [
    {
     "name": "stdout",
     "output_type": "stream",
     "text": [
      "Accuracy score of DecisionTreeRegression : 0.8701058986920345\n"
     ]
    }
   ],
   "source": [
    "# Checking the best parameters for DecisionTreeRegression :\n",
    "param_grid = {\n",
    "    'max_depth': [4,5,7,8],\n",
    "    'criterion': ['squared_error', 'friedman_mse', 'absolute_error'],\n",
    "}\n",
    "\n",
    "grid_search_dt = GridSearchCV(dt, param_grid, cv=5)\n",
    "grid_search_dt.fit(X_train5, y_train5)\n",
    "\n",
    "y_pred_dt = grid_search_dt.best_estimator_.predict(X_test5)\n",
    "\n",
    "accuracy = r2_score(y_test5, y_pred_dt)\n",
    "print(\"Accuracy score of DecisionTreeRegression :\", accuracy)"
   ]
  },
  {
   "cell_type": "code",
   "execution_count": 215,
   "id": "c37cbb59",
   "metadata": {},
   "outputs": [
    {
     "name": "stdout",
     "output_type": "stream",
     "text": [
      "best models : {'criterion': 'squared_error', 'max_depth': 8}\n"
     ]
    }
   ],
   "source": [
    "print('best models :',grid_search_dt.best_params_)"
   ]
  },
  {
   "cell_type": "code",
   "execution_count": 222,
   "id": "30ef7e86",
   "metadata": {},
   "outputs": [
    {
     "name": "stdout",
     "output_type": "stream",
     "text": [
      "r2_score of DT : 0.8309977952153677\n"
     ]
    }
   ],
   "source": [
    "DT = DecisionTreeRegressor(criterion = 'friedman_mse' ,max_depth = 7)\n",
    "DT.fit(X_train1 , y_train1)\n",
    "y_pred_DT = DT.predict(X_test1)\n",
    "print('r2_score of DT :',r2_score(y_test1 , y_pred_DT))"
   ]
  },
  {
   "cell_type": "markdown",
   "id": "5c0a8c41",
   "metadata": {},
   "source": [
    "# Using RandomForest Regressor :"
   ]
  },
  {
   "cell_type": "code",
   "execution_count": 86,
   "id": "280a1195",
   "metadata": {},
   "outputs": [],
   "source": [
    "rf_results = []\n",
    "for i in range(100):\n",
    "    X_train , X_test , y_train , y_test = train_test_split(X,y,test_size = 0.30 , random_state = i)\n",
    "    rf = RandomForestRegressor(n_estimators = 100 , max_depth = 10)\n",
    "    rf.fit(X_train , y_train)\n",
    "    y_pred = rf.predict(X_test)\n",
    "    rf_results.append(r2_score(y_test , y_pred))"
   ]
  },
  {
   "cell_type": "code",
   "execution_count": 87,
   "id": "ed434db6",
   "metadata": {},
   "outputs": [
    {
     "data": {
      "text/plain": [
       "54"
      ]
     },
     "execution_count": 87,
     "metadata": {},
     "output_type": "execute_result"
    }
   ],
   "source": [
    "np.argmax(rf_results)"
   ]
  },
  {
   "cell_type": "code",
   "execution_count": 88,
   "id": "223f50e0",
   "metadata": {},
   "outputs": [
    {
     "data": {
      "text/plain": [
       "0.9535753028145217"
      ]
     },
     "execution_count": 88,
     "metadata": {},
     "output_type": "execute_result"
    }
   ],
   "source": [
    "rf_results[np.argmax(rf_results)]"
   ]
  },
  {
   "cell_type": "code",
   "execution_count": 90,
   "id": "7d837d45",
   "metadata": {},
   "outputs": [],
   "source": [
    "X_train6 , X_test6 , y_train6 , y_test6 = train_test_split(X,y , test_size = 0.3 , random_state = 54)"
   ]
  },
  {
   "cell_type": "code",
   "execution_count": 92,
   "id": "0f67c747",
   "metadata": {},
   "outputs": [
    {
     "name": "stdout",
     "output_type": "stream",
     "text": [
      "r2 score of Random Forest Regressor : 0.9514088522378916\n"
     ]
    }
   ],
   "source": [
    "# Finding the best Hyperperemeters :\n",
    "param_grid = {\n",
    "    'n_estimators':[100 , 300],\n",
    "    'max_depth': [ 7, 8 , 10 , 15 ],\n",
    "}\n",
    "\n",
    "grid_search_rf = GridSearchCV(rf, param_grid, cv=5)\n",
    "grid_search_rf.fit(X_train6, y_train6)\n",
    "\n",
    "y_pred_rf = grid_search_rf.best_estimator_.predict(X_test6)\n",
    "\n",
    "accuracy = r2_score(y_test6, y_pred_rf)\n",
    "print(\"r2 score of Random Forest Regressor :\", accuracy)"
   ]
  },
  {
   "cell_type": "code",
   "execution_count": 94,
   "id": "ea96c7fe",
   "metadata": {},
   "outputs": [
    {
     "name": "stdout",
     "output_type": "stream",
     "text": [
      "best parameters are : {'max_depth': 10, 'n_estimators': 100}\n"
     ]
    }
   ],
   "source": [
    "print('best parameters are :',grid_search_rf.best_params_)"
   ]
  },
  {
   "cell_type": "code",
   "execution_count": 96,
   "id": "0e990fe8",
   "metadata": {},
   "outputs": [
    {
     "name": "stdout",
     "output_type": "stream",
     "text": [
      "0.9529685413882405\n"
     ]
    }
   ],
   "source": [
    "RF = RandomForestRegressor(max_depth = 10 , n_estimators = 100)\n",
    "RF.fit(X_train6 , y_train6)\n",
    "y_pred_RF = RF.predict(X_test6)\n",
    "print(r2_score(y_test6 , y_pred_RF))"
   ]
  },
  {
   "cell_type": "code",
   "execution_count": 223,
   "id": "6077898d",
   "metadata": {},
   "outputs": [],
   "source": [
    "# RandomForest is Showing Overfitting "
   ]
  },
  {
   "cell_type": "markdown",
   "id": "2065499d",
   "metadata": {},
   "source": [
    "# Using GradienBoosting Regression :"
   ]
  },
  {
   "cell_type": "code",
   "execution_count": 225,
   "id": "34fb4d19",
   "metadata": {},
   "outputs": [],
   "source": [
    "gb_results = []\n",
    "for i in range(100):\n",
    "    X_train , X_test , y_train , y_test = train_test_split(X,y,test_size = 0.30 , random_state = i)\n",
    "    gb = GradientBoostingRegressor(n_estimators = 100 , max_depth = 1)\n",
    "    gb.fit(X_train , y_train)\n",
    "    y_pred = gb.predict(X_test)\n",
    "    gb_results.append(r2_score(y_test , y_pred))"
   ]
  },
  {
   "cell_type": "code",
   "execution_count": 226,
   "id": "1103d9aa",
   "metadata": {},
   "outputs": [
    {
     "data": {
      "text/plain": [
       "39"
      ]
     },
     "execution_count": 226,
     "metadata": {},
     "output_type": "execute_result"
    }
   ],
   "source": [
    "np.argmax(gb_results)"
   ]
  },
  {
   "cell_type": "code",
   "execution_count": 227,
   "id": "f9a9655b",
   "metadata": {},
   "outputs": [
    {
     "data": {
      "text/plain": [
       "0.9445245763602587"
      ]
     },
     "execution_count": 227,
     "metadata": {},
     "output_type": "execute_result"
    }
   ],
   "source": [
    "gb_results[np.argmax(gb_results)]"
   ]
  },
  {
   "cell_type": "code",
   "execution_count": 228,
   "id": "a53fa965",
   "metadata": {},
   "outputs": [
    {
     "data": {
      "text/plain": [
       "[0.927957062422202,\n",
       " 0.9363047054641733,\n",
       " 0.923368256595854,\n",
       " 0.9242532611295424,\n",
       " 0.9298734248367051,\n",
       " 0.9205751656882809,\n",
       " 0.9282395959455472,\n",
       " 0.9199682610508191,\n",
       " 0.9202543689933114,\n",
       " 0.9288655764120027,\n",
       " 0.9127491953354112,\n",
       " 0.9385395515349002,\n",
       " 0.924817450531499,\n",
       " 0.9230395419312206,\n",
       " 0.9336490917069927,\n",
       " 0.9164669164883837,\n",
       " 0.9306958918120528,\n",
       " 0.9188237002733641,\n",
       " 0.9144227710133926,\n",
       " 0.9310103536195342,\n",
       " 0.9424150992725152,\n",
       " 0.9378897140244371,\n",
       " 0.9239806602102657,\n",
       " 0.9296642276651002,\n",
       " 0.9076113515281247,\n",
       " 0.9232808940328179,\n",
       " 0.9299588079315712,\n",
       " 0.9188827061025823,\n",
       " 0.9172954152595794,\n",
       " 0.9244256589166734,\n",
       " 0.9319248822443769,\n",
       " 0.931338423898504,\n",
       " 0.9253173296903966,\n",
       " 0.9285295386537983,\n",
       " 0.9383527756183768,\n",
       " 0.9213690543956036,\n",
       " 0.9270362437086761,\n",
       " 0.9037709096780328,\n",
       " 0.9320833229731711,\n",
       " 0.9445245763602587,\n",
       " 0.9303418209589354,\n",
       " 0.9348632377938351,\n",
       " 0.9267609560325836,\n",
       " 0.926280771204023,\n",
       " 0.936056254426104,\n",
       " 0.9212710030667921,\n",
       " 0.9251665876792197,\n",
       " 0.9369848972877999,\n",
       " 0.9067744141013538,\n",
       " 0.9301041009866138,\n",
       " 0.9091650767093613,\n",
       " 0.9203301334862304,\n",
       " 0.9391795421440541,\n",
       " 0.9155323331685682,\n",
       " 0.9327527870071559,\n",
       " 0.8907075251672737,\n",
       " 0.9218162776943286,\n",
       " 0.9283548339866998,\n",
       " 0.9395278167734811,\n",
       " 0.9261646719426794,\n",
       " 0.9210494283892997,\n",
       " 0.9100185080934732,\n",
       " 0.9384113178322923,\n",
       " 0.9256318515040594,\n",
       " 0.9229355483060335,\n",
       " 0.9270342685312507,\n",
       " 0.9276582655528127,\n",
       " 0.9228850693386486,\n",
       " 0.9295366734771207,\n",
       " 0.9233866336054661,\n",
       " 0.9191174422187662,\n",
       " 0.919570011395403,\n",
       " 0.9134064282031872,\n",
       " 0.9225696670745979,\n",
       " 0.9221467246560968,\n",
       " 0.925284944075568,\n",
       " 0.9297862352659596,\n",
       " 0.9367363273897235,\n",
       " 0.9323724581389558,\n",
       " 0.9254367365201526,\n",
       " 0.9123588313680646,\n",
       " 0.918835277273124,\n",
       " 0.9141714732875795,\n",
       " 0.9091134493984068,\n",
       " 0.9249361393139229,\n",
       " 0.9217435446742721,\n",
       " 0.9385822968355473,\n",
       " 0.9035684869491623,\n",
       " 0.9213273926208803,\n",
       " 0.9170922196428368,\n",
       " 0.9113067179797678,\n",
       " 0.922475170680528,\n",
       " 0.9370455974850468,\n",
       " 0.9333179510967392,\n",
       " 0.9076541031551062,\n",
       " 0.9122652296143366,\n",
       " 0.9173329984630697,\n",
       " 0.9329063015194181,\n",
       " 0.932003120911132,\n",
       " 0.9181032241067095]"
      ]
     },
     "execution_count": 228,
     "metadata": {},
     "output_type": "execute_result"
    }
   ],
   "source": [
    "gb_results"
   ]
  },
  {
   "cell_type": "code",
   "execution_count": 237,
   "id": "4ff6301b",
   "metadata": {},
   "outputs": [],
   "source": [
    "# GradientBoosting is also showing Overfitting ."
   ]
  },
  {
   "cell_type": "code",
   "execution_count": 241,
   "id": "f81def72",
   "metadata": {},
   "outputs": [
    {
     "name": "stdout",
     "output_type": "stream",
     "text": [
      "0.8802799049876362\n"
     ]
    }
   ],
   "source": [
    "# After seeing the model performances , I whould go for SVR giving the random_state = 13\n",
    "\n",
    "X_train2 , X_test2 , y_train2 , y_test2 = train_test_split(X,y , test_size = 0.30 , random_state = 13)\n",
    "Svr = SVR(C = 0.1 , kernel = 'rbf')\n",
    "Svr.fit(X_train2 , y_train2)\n",
    "y_pred_Svr = Svr.predict(X_test2)\n",
    "print(r2_score(y_test2 , y_pred_Svr))"
   ]
  },
  {
   "cell_type": "markdown",
   "id": "ce45be9f",
   "metadata": {},
   "source": [
    "# Creating a prediction function :"
   ]
  },
  {
   "cell_type": "code",
   "execution_count": 249,
   "id": "cba30dc0",
   "metadata": {},
   "outputs": [],
   "source": [
    "def CGPA_Prediction(p):\n",
    "    p = p.reshape(1,-1)\n",
    "    pred = Svr.predict(p)\n",
    "    print('The grade is :',pred)"
   ]
  },
  {
   "cell_type": "code",
   "execution_count": 251,
   "id": "9882969e",
   "metadata": {},
   "outputs": [
    {
     "name": "stdout",
     "output_type": "stream",
     "text": [
      "The grade is : [2.89661665]\n"
     ]
    },
    {
     "name": "stderr",
     "output_type": "stream",
     "text": [
      "C:\\Users\\admin\\anaconda3\\Lib\\site-packages\\sklearn\\base.py:464: UserWarning: X does not have valid feature names, but SVR was fitted with feature names\n",
      "  warnings.warn(\n"
     ]
    }
   ],
   "source": [
    "p = np.array([11,\t10,\t14,\t15,\t13,\t13,\t11,\t15,\t10,\t9])\n",
    "CGPA_Prediction(p)"
   ]
  },
  {
   "cell_type": "code",
   "execution_count": 243,
   "id": "e08f46c3",
   "metadata": {},
   "outputs": [
    {
     "data": {
      "text/html": [
       "<div>\n",
       "<style scoped>\n",
       "    .dataframe tbody tr th:only-of-type {\n",
       "        vertical-align: middle;\n",
       "    }\n",
       "\n",
       "    .dataframe tbody tr th {\n",
       "        vertical-align: top;\n",
       "    }\n",
       "\n",
       "    .dataframe thead th {\n",
       "        text-align: right;\n",
       "    }\n",
       "</style>\n",
       "<table border=\"1\" class=\"dataframe\">\n",
       "  <thead>\n",
       "    <tr style=\"text-align: right;\">\n",
       "      <th></th>\n",
       "      <th>CS-317</th>\n",
       "      <th>CS-215</th>\n",
       "      <th>CS-210</th>\n",
       "      <th>EL-332</th>\n",
       "      <th>CS-306</th>\n",
       "      <th>CS-214</th>\n",
       "      <th>CS-301</th>\n",
       "      <th>EE-217</th>\n",
       "      <th>MT-222</th>\n",
       "      <th>MT-224</th>\n",
       "      <th>CGPA</th>\n",
       "    </tr>\n",
       "  </thead>\n",
       "  <tbody>\n",
       "    <tr>\n",
       "      <th>410</th>\n",
       "      <td>12</td>\n",
       "      <td>13</td>\n",
       "      <td>14</td>\n",
       "      <td>15</td>\n",
       "      <td>14</td>\n",
       "      <td>13</td>\n",
       "      <td>13</td>\n",
       "      <td>14</td>\n",
       "      <td>15</td>\n",
       "      <td>14</td>\n",
       "      <td>3.290</td>\n",
       "    </tr>\n",
       "    <tr>\n",
       "      <th>486</th>\n",
       "      <td>17</td>\n",
       "      <td>17</td>\n",
       "      <td>17</td>\n",
       "      <td>17</td>\n",
       "      <td>17</td>\n",
       "      <td>16</td>\n",
       "      <td>17</td>\n",
       "      <td>16</td>\n",
       "      <td>17</td>\n",
       "      <td>16</td>\n",
       "      <td>3.970</td>\n",
       "    </tr>\n",
       "    <tr>\n",
       "      <th>45</th>\n",
       "      <td>8</td>\n",
       "      <td>7</td>\n",
       "      <td>7</td>\n",
       "      <td>7</td>\n",
       "      <td>7</td>\n",
       "      <td>8</td>\n",
       "      <td>11</td>\n",
       "      <td>8</td>\n",
       "      <td>7</td>\n",
       "      <td>7</td>\n",
       "      <td>1.996</td>\n",
       "    </tr>\n",
       "    <tr>\n",
       "      <th>64</th>\n",
       "      <td>11</td>\n",
       "      <td>10</td>\n",
       "      <td>14</td>\n",
       "      <td>15</td>\n",
       "      <td>13</td>\n",
       "      <td>13</td>\n",
       "      <td>11</td>\n",
       "      <td>15</td>\n",
       "      <td>10</td>\n",
       "      <td>9</td>\n",
       "      <td>2.822</td>\n",
       "    </tr>\n",
       "    <tr>\n",
       "      <th>94</th>\n",
       "      <td>16</td>\n",
       "      <td>16</td>\n",
       "      <td>17</td>\n",
       "      <td>17</td>\n",
       "      <td>16</td>\n",
       "      <td>15</td>\n",
       "      <td>16</td>\n",
       "      <td>17</td>\n",
       "      <td>17</td>\n",
       "      <td>17</td>\n",
       "      <td>3.963</td>\n",
       "    </tr>\n",
       "    <tr>\n",
       "      <th>359</th>\n",
       "      <td>13</td>\n",
       "      <td>11</td>\n",
       "      <td>16</td>\n",
       "      <td>16</td>\n",
       "      <td>16</td>\n",
       "      <td>15</td>\n",
       "      <td>16</td>\n",
       "      <td>16</td>\n",
       "      <td>12</td>\n",
       "      <td>15</td>\n",
       "      <td>3.618</td>\n",
       "    </tr>\n",
       "    <tr>\n",
       "      <th>146</th>\n",
       "      <td>10</td>\n",
       "      <td>12</td>\n",
       "      <td>12</td>\n",
       "      <td>14</td>\n",
       "      <td>15</td>\n",
       "      <td>12</td>\n",
       "      <td>12</td>\n",
       "      <td>14</td>\n",
       "      <td>11</td>\n",
       "      <td>11</td>\n",
       "      <td>2.936</td>\n",
       "    </tr>\n",
       "    <tr>\n",
       "      <th>292</th>\n",
       "      <td>12</td>\n",
       "      <td>13</td>\n",
       "      <td>14</td>\n",
       "      <td>12</td>\n",
       "      <td>13</td>\n",
       "      <td>13</td>\n",
       "      <td>13</td>\n",
       "      <td>15</td>\n",
       "      <td>8</td>\n",
       "      <td>12</td>\n",
       "      <td>2.736</td>\n",
       "    </tr>\n",
       "    <tr>\n",
       "      <th>501</th>\n",
       "      <td>10</td>\n",
       "      <td>16</td>\n",
       "      <td>15</td>\n",
       "      <td>10</td>\n",
       "      <td>9</td>\n",
       "      <td>8</td>\n",
       "      <td>12</td>\n",
       "      <td>11</td>\n",
       "      <td>16</td>\n",
       "      <td>11</td>\n",
       "      <td>2.489</td>\n",
       "    </tr>\n",
       "    <tr>\n",
       "      <th>416</th>\n",
       "      <td>17</td>\n",
       "      <td>17</td>\n",
       "      <td>17</td>\n",
       "      <td>17</td>\n",
       "      <td>16</td>\n",
       "      <td>16</td>\n",
       "      <td>17</td>\n",
       "      <td>16</td>\n",
       "      <td>16</td>\n",
       "      <td>16</td>\n",
       "      <td>3.985</td>\n",
       "    </tr>\n",
       "  </tbody>\n",
       "</table>\n",
       "</div>"
      ],
      "text/plain": [
       "     CS-317  CS-215  CS-210  EL-332  CS-306  CS-214  CS-301  EE-217  MT-222  \\\n",
       "410      12      13      14      15      14      13      13      14      15   \n",
       "486      17      17      17      17      17      16      17      16      17   \n",
       "45        8       7       7       7       7       8      11       8       7   \n",
       "64       11      10      14      15      13      13      11      15      10   \n",
       "94       16      16      17      17      16      15      16      17      17   \n",
       "359      13      11      16      16      16      15      16      16      12   \n",
       "146      10      12      12      14      15      12      12      14      11   \n",
       "292      12      13      14      12      13      13      13      15       8   \n",
       "501      10      16      15      10       9       8      12      11      16   \n",
       "416      17      17      17      17      16      16      17      16      16   \n",
       "\n",
       "     MT-224   CGPA  \n",
       "410      14  3.290  \n",
       "486      16  3.970  \n",
       "45        7  1.996  \n",
       "64        9  2.822  \n",
       "94       17  3.963  \n",
       "359      15  3.618  \n",
       "146      11  2.936  \n",
       "292      12  2.736  \n",
       "501      11  2.489  \n",
       "416      16  3.985  "
      ]
     },
     "execution_count": 243,
     "metadata": {},
     "output_type": "execute_result"
    }
   ],
   "source": [
    "n_df.sample(10)"
   ]
  }
 ],
 "metadata": {
  "kernelspec": {
   "display_name": "Python 3 (ipykernel)",
   "language": "python",
   "name": "python3"
  },
  "language_info": {
   "codemirror_mode": {
    "name": "ipython",
    "version": 3
   },
   "file_extension": ".py",
   "mimetype": "text/x-python",
   "name": "python",
   "nbconvert_exporter": "python",
   "pygments_lexer": "ipython3",
   "version": "3.11.5"
  }
 },
 "nbformat": 4,
 "nbformat_minor": 5
}
