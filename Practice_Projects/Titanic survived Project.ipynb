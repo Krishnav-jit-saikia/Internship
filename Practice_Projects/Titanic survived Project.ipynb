{
 "cells": [
  {
   "cell_type": "markdown",
   "id": "c3ae3867",
   "metadata": {},
   "source": [
    "# Titanic survived Project"
   ]
  },
  {
   "cell_type": "code",
   "execution_count": 120,
   "id": "fef84548",
   "metadata": {},
   "outputs": [],
   "source": [
    "# 1st step : I import all the important Libaries\n",
    "import numpy as np\n",
    "import pandas as pd\n",
    "import matplotlib.pyplot as plt\n",
    "import seaborn as sns\n",
    "from scipy.stats import zscore\n",
    "from sklearn.model_selection import train_test_split\n",
    "from sklearn.metrics import accuracy_score , confusion_matrix , classification_report\n",
    "from sklearn.model_selection import cross_val_score\n",
    "from sklearn.model_selection import GridSearchCV\n",
    "import warnings\n",
    "warnings.filterwarnings(\"ignore\")"
   ]
  },
  {
   "cell_type": "code",
   "execution_count": 136,
   "id": "83cc0dde",
   "metadata": {
    "scrolled": true
   },
   "outputs": [
    {
     "data": {
      "text/html": [
       "<div>\n",
       "<style scoped>\n",
       "    .dataframe tbody tr th:only-of-type {\n",
       "        vertical-align: middle;\n",
       "    }\n",
       "\n",
       "    .dataframe tbody tr th {\n",
       "        vertical-align: top;\n",
       "    }\n",
       "\n",
       "    .dataframe thead th {\n",
       "        text-align: right;\n",
       "    }\n",
       "</style>\n",
       "<table border=\"1\" class=\"dataframe\">\n",
       "  <thead>\n",
       "    <tr style=\"text-align: right;\">\n",
       "      <th></th>\n",
       "      <th>PassengerId</th>\n",
       "      <th>Survived</th>\n",
       "      <th>Pclass</th>\n",
       "      <th>Name</th>\n",
       "      <th>Sex</th>\n",
       "      <th>Age</th>\n",
       "      <th>SibSp</th>\n",
       "      <th>Parch</th>\n",
       "      <th>Ticket</th>\n",
       "      <th>Fare</th>\n",
       "      <th>Cabin</th>\n",
       "      <th>Embarked</th>\n",
       "    </tr>\n",
       "  </thead>\n",
       "  <tbody>\n",
       "    <tr>\n",
       "      <th>0</th>\n",
       "      <td>1</td>\n",
       "      <td>0</td>\n",
       "      <td>3</td>\n",
       "      <td>Braund, Mr. Owen Harris</td>\n",
       "      <td>male</td>\n",
       "      <td>22.0</td>\n",
       "      <td>1</td>\n",
       "      <td>0</td>\n",
       "      <td>A/5 21171</td>\n",
       "      <td>7.2500</td>\n",
       "      <td>NaN</td>\n",
       "      <td>S</td>\n",
       "    </tr>\n",
       "    <tr>\n",
       "      <th>1</th>\n",
       "      <td>2</td>\n",
       "      <td>1</td>\n",
       "      <td>1</td>\n",
       "      <td>Cumings, Mrs. John Bradley (Florence Briggs Th...</td>\n",
       "      <td>female</td>\n",
       "      <td>38.0</td>\n",
       "      <td>1</td>\n",
       "      <td>0</td>\n",
       "      <td>PC 17599</td>\n",
       "      <td>71.2833</td>\n",
       "      <td>C85</td>\n",
       "      <td>C</td>\n",
       "    </tr>\n",
       "    <tr>\n",
       "      <th>2</th>\n",
       "      <td>3</td>\n",
       "      <td>1</td>\n",
       "      <td>3</td>\n",
       "      <td>Heikkinen, Miss. Laina</td>\n",
       "      <td>female</td>\n",
       "      <td>26.0</td>\n",
       "      <td>0</td>\n",
       "      <td>0</td>\n",
       "      <td>STON/O2. 3101282</td>\n",
       "      <td>7.9250</td>\n",
       "      <td>NaN</td>\n",
       "      <td>S</td>\n",
       "    </tr>\n",
       "    <tr>\n",
       "      <th>3</th>\n",
       "      <td>4</td>\n",
       "      <td>1</td>\n",
       "      <td>1</td>\n",
       "      <td>Futrelle, Mrs. Jacques Heath (Lily May Peel)</td>\n",
       "      <td>female</td>\n",
       "      <td>35.0</td>\n",
       "      <td>1</td>\n",
       "      <td>0</td>\n",
       "      <td>113803</td>\n",
       "      <td>53.1000</td>\n",
       "      <td>C123</td>\n",
       "      <td>S</td>\n",
       "    </tr>\n",
       "    <tr>\n",
       "      <th>4</th>\n",
       "      <td>5</td>\n",
       "      <td>0</td>\n",
       "      <td>3</td>\n",
       "      <td>Allen, Mr. William Henry</td>\n",
       "      <td>male</td>\n",
       "      <td>35.0</td>\n",
       "      <td>0</td>\n",
       "      <td>0</td>\n",
       "      <td>373450</td>\n",
       "      <td>8.0500</td>\n",
       "      <td>NaN</td>\n",
       "      <td>S</td>\n",
       "    </tr>\n",
       "    <tr>\n",
       "      <th>...</th>\n",
       "      <td>...</td>\n",
       "      <td>...</td>\n",
       "      <td>...</td>\n",
       "      <td>...</td>\n",
       "      <td>...</td>\n",
       "      <td>...</td>\n",
       "      <td>...</td>\n",
       "      <td>...</td>\n",
       "      <td>...</td>\n",
       "      <td>...</td>\n",
       "      <td>...</td>\n",
       "      <td>...</td>\n",
       "    </tr>\n",
       "    <tr>\n",
       "      <th>886</th>\n",
       "      <td>887</td>\n",
       "      <td>0</td>\n",
       "      <td>2</td>\n",
       "      <td>Montvila, Rev. Juozas</td>\n",
       "      <td>male</td>\n",
       "      <td>27.0</td>\n",
       "      <td>0</td>\n",
       "      <td>0</td>\n",
       "      <td>211536</td>\n",
       "      <td>13.0000</td>\n",
       "      <td>NaN</td>\n",
       "      <td>S</td>\n",
       "    </tr>\n",
       "    <tr>\n",
       "      <th>887</th>\n",
       "      <td>888</td>\n",
       "      <td>1</td>\n",
       "      <td>1</td>\n",
       "      <td>Graham, Miss. Margaret Edith</td>\n",
       "      <td>female</td>\n",
       "      <td>19.0</td>\n",
       "      <td>0</td>\n",
       "      <td>0</td>\n",
       "      <td>112053</td>\n",
       "      <td>30.0000</td>\n",
       "      <td>B42</td>\n",
       "      <td>S</td>\n",
       "    </tr>\n",
       "    <tr>\n",
       "      <th>888</th>\n",
       "      <td>889</td>\n",
       "      <td>0</td>\n",
       "      <td>3</td>\n",
       "      <td>Johnston, Miss. Catherine Helen \"Carrie\"</td>\n",
       "      <td>female</td>\n",
       "      <td>NaN</td>\n",
       "      <td>1</td>\n",
       "      <td>2</td>\n",
       "      <td>W./C. 6607</td>\n",
       "      <td>23.4500</td>\n",
       "      <td>NaN</td>\n",
       "      <td>S</td>\n",
       "    </tr>\n",
       "    <tr>\n",
       "      <th>889</th>\n",
       "      <td>890</td>\n",
       "      <td>1</td>\n",
       "      <td>1</td>\n",
       "      <td>Behr, Mr. Karl Howell</td>\n",
       "      <td>male</td>\n",
       "      <td>26.0</td>\n",
       "      <td>0</td>\n",
       "      <td>0</td>\n",
       "      <td>111369</td>\n",
       "      <td>30.0000</td>\n",
       "      <td>C148</td>\n",
       "      <td>C</td>\n",
       "    </tr>\n",
       "    <tr>\n",
       "      <th>890</th>\n",
       "      <td>891</td>\n",
       "      <td>0</td>\n",
       "      <td>3</td>\n",
       "      <td>Dooley, Mr. Patrick</td>\n",
       "      <td>male</td>\n",
       "      <td>32.0</td>\n",
       "      <td>0</td>\n",
       "      <td>0</td>\n",
       "      <td>370376</td>\n",
       "      <td>7.7500</td>\n",
       "      <td>NaN</td>\n",
       "      <td>Q</td>\n",
       "    </tr>\n",
       "  </tbody>\n",
       "</table>\n",
       "<p>891 rows × 12 columns</p>\n",
       "</div>"
      ],
      "text/plain": [
       "     PassengerId  Survived  Pclass  \\\n",
       "0              1         0       3   \n",
       "1              2         1       1   \n",
       "2              3         1       3   \n",
       "3              4         1       1   \n",
       "4              5         0       3   \n",
       "..           ...       ...     ...   \n",
       "886          887         0       2   \n",
       "887          888         1       1   \n",
       "888          889         0       3   \n",
       "889          890         1       1   \n",
       "890          891         0       3   \n",
       "\n",
       "                                                  Name     Sex   Age  SibSp  \\\n",
       "0                              Braund, Mr. Owen Harris    male  22.0      1   \n",
       "1    Cumings, Mrs. John Bradley (Florence Briggs Th...  female  38.0      1   \n",
       "2                               Heikkinen, Miss. Laina  female  26.0      0   \n",
       "3         Futrelle, Mrs. Jacques Heath (Lily May Peel)  female  35.0      1   \n",
       "4                             Allen, Mr. William Henry    male  35.0      0   \n",
       "..                                                 ...     ...   ...    ...   \n",
       "886                              Montvila, Rev. Juozas    male  27.0      0   \n",
       "887                       Graham, Miss. Margaret Edith  female  19.0      0   \n",
       "888           Johnston, Miss. Catherine Helen \"Carrie\"  female   NaN      1   \n",
       "889                              Behr, Mr. Karl Howell    male  26.0      0   \n",
       "890                                Dooley, Mr. Patrick    male  32.0      0   \n",
       "\n",
       "     Parch            Ticket     Fare Cabin Embarked  \n",
       "0        0         A/5 21171   7.2500   NaN        S  \n",
       "1        0          PC 17599  71.2833   C85        C  \n",
       "2        0  STON/O2. 3101282   7.9250   NaN        S  \n",
       "3        0            113803  53.1000  C123        S  \n",
       "4        0            373450   8.0500   NaN        S  \n",
       "..     ...               ...      ...   ...      ...  \n",
       "886      0            211536  13.0000   NaN        S  \n",
       "887      0            112053  30.0000   B42        S  \n",
       "888      2        W./C. 6607  23.4500   NaN        S  \n",
       "889      0            111369  30.0000  C148        C  \n",
       "890      0            370376   7.7500   NaN        Q  \n",
       "\n",
       "[891 rows x 12 columns]"
      ]
     },
     "execution_count": 136,
     "metadata": {},
     "output_type": "execute_result"
    }
   ],
   "source": [
    "# 2nd step : Getting the titanic csv file\n",
    "df = pd.read_csv('titanic_train.csv')\n",
    "df"
   ]
  },
  {
   "cell_type": "markdown",
   "id": "9fffb6aa",
   "metadata": {},
   "source": [
    "# Data Visualization :"
   ]
  },
  {
   "cell_type": "code",
   "execution_count": 122,
   "id": "cde015b3",
   "metadata": {
    "scrolled": true
   },
   "outputs": [
    {
     "data": {
      "image/png": "[encoded data removed]",
      "text/plain": [
       "<Figure size 640x480 with 1 Axes>"
      ]
     },
     "metadata": {},
     "output_type": "display_data"
    }
   ],
   "source": [
    "# How many male and female survived ?\n",
    "survived_df = df[df['Survived'] == 1]\n",
    "survived_by_sex = survived_df['Sex'].value_counts()\n",
    "\n",
    "sns.barplot(x=survived_by_sex.index, y=survived_by_sex.values)\n",
    "plt.title(\"Survivors by Sex on the Titanic\")\n",
    "plt.xlabel(\"Sex\")\n",
    "plt.ylabel(\"Number of Survivors\")\n",
    "plt.show()\n",
    "\n",
    "# My Observation :\n",
    "#   1. Female srvived more in titanic accident"
   ]
  },
  {
   "cell_type": "code",
   "execution_count": 123,
   "id": "2310f7a2",
   "metadata": {},
   "outputs": [
    {
     "data": {
      "text/plain": [
       "'\\n Pclass 1 is most expensive , then Pclass 2 and then Pclass 3\\n'"
      ]
     },
     "execution_count": 123,
     "metadata": {},
     "output_type": "execute_result"
    },
    {
     "data": {
      "image/png": "[encoded data removed]",
      "text/plain": [
       "<Figure size 640x480 with 1 Axes>"
      ]
     },
     "metadata": {},
     "output_type": "display_data"
    }
   ],
   "source": [
    "# Which class is most expensive\n",
    "sns.barplot(x = \"Pclass\", y = \"Fare\", data = df )\n",
    "\n",
    "# My Observation :\n",
    "\"\"\"\n",
    " Pclass 1 is most expensive , then Pclass 2 and then Pclass 3\n",
    "\"\"\""
   ]
  },
  {
   "cell_type": "code",
   "execution_count": 124,
   "id": "68526ac2",
   "metadata": {
    "scrolled": true
   },
   "outputs": [
    {
     "data": {
      "image/png": "[encoded data removed]",
      "text/plain": [
       "<Figure size 640x480 with 1 Axes>"
      ]
     },
     "metadata": {},
     "output_type": "display_data"
    }
   ],
   "source": [
    "# From which Pclass people survived the most\n",
    "survived_df = df[df['Survived'] == 1]\n",
    "survived_by_pclass = survived_df['Pclass'].value_counts()\n",
    "\n",
    "sns.barplot(x=survived_by_pclass.index, y=survived_by_pclass.values)\n",
    "plt.title(\"Survivors by pclass on the Titanic\")\n",
    "plt.xlabel(\"pclass\")\n",
    "plt.ylabel(\"Number of Survivors\")\n",
    "plt.show()"
   ]
  },
  {
   "cell_type": "code",
   "execution_count": 130,
   "id": "a9ab7e02",
   "metadata": {
    "scrolled": false
   },
   "outputs": [
    {
     "data": {
      "text/plain": [
       "'\\n* In all the classes , male are more than female\\n* In pclass 1, male are in the range of 130-150 , female are below 100\\n* In pclass 2, male are almost in the range of 120 - 100 and female are less than 90\\n* In pclass 3 , male are above 300 and female are almost 150\\n'"
      ]
     },
     "execution_count": 130,
     "metadata": {},
     "output_type": "execute_result"
    },
    {
     "data": {
      "image/png": "[encoded data removed]",
      "text/plain": [
       "<Figure size 640x480 with 2 Axes>"
      ]
     },
     "metadata": {},
     "output_type": "display_data"
    }
   ],
   "source": [
    "# How many male and female are there in each class :\n",
    "sns.heatmap(pd.crosstab(df['Pclass'],df['Sex']))\n",
    "\n",
    "# My observation :\n",
    "\"\"\"\n",
    "* In all the classes , male are more than female\n",
    "* In pclass 1, male are in the range of 130-150 , female are below 100\n",
    "* In pclass 2, male are almost in the range of 120 - 100 and female are less than 90\n",
    "* In pclass 3 , male are above 300 and female are almost 150\n",
    "\"\"\""
   ]
  },
  {
   "cell_type": "code",
   "execution_count": 131,
   "id": "e3281c5c",
   "metadata": {
    "scrolled": false
   },
   "outputs": [
    {
     "data": {
      "text/plain": [
       "<Axes: xlabel='SibSp', ylabel='Survived'>"
      ]
     },
     "execution_count": 131,
     "metadata": {},
     "output_type": "execute_result"
    },
    {
     "data": {
      "image/png": "[encoded data removed]",
      "text/plain": [
       "<Figure size 640x480 with 2 Axes>"
      ]
     },
     "metadata": {},
     "output_type": "display_data"
    }
   ],
   "source": [
    "# Is there any relation between Survived and SibSp\n",
    "sns.heatmap(pd.crosstab(df['Survived'],df['SibSp']) )"
   ]
  },
  {
   "cell_type": "code",
   "execution_count": 132,
   "id": "6123e18c",
   "metadata": {},
   "outputs": [
    {
     "data": {
      "text/plain": [
       "'\\n1. in Pclass 1, average age is high, then  inn Pclass 2 , then in Pclass 3\\n\\n'"
      ]
     },
     "execution_count": 132,
     "metadata": {},
     "output_type": "execute_result"
    },
    {
     "data": {
      "image/png": "[encoded data removed]",
      "text/plain": [
       "<Figure size 640x480 with 1 Axes>"
      ]
     },
     "metadata": {},
     "output_type": "display_data"
    }
   ],
   "source": [
    "sns.barplot(x = \"Pclass\", y = \"Age\", data = df , hue = 'Sex')\n",
    "\n",
    "# My observation :\n",
    "\"\"\"\n",
    "1. in Pclass 1, average age is high, then  inn Pclass 2 , then in Pclass 3\n",
    "\n",
    "\"\"\""
   ]
  },
  {
   "cell_type": "code",
   "execution_count": 133,
   "id": "80ff85de",
   "metadata": {},
   "outputs": [
    {
     "data": {
      "text/plain": [
       "\"\\nThe columns 'PassengerId','Name','Ticket','Cabin','Fare' are not important\\n\""
      ]
     },
     "execution_count": 133,
     "metadata": {},
     "output_type": "execute_result"
    },
    {
     "data": {
      "image/png": "[encoded data removed]",
      "text/plain": [
       "<Figure size 640x480 with 2 Axes>"
      ]
     },
     "metadata": {},
     "output_type": "display_data"
    }
   ],
   "source": [
    "# Checking correlation\n",
    "sns.heatmap(df.corr())\n",
    "# My Observation :\n",
    "\"\"\"\n",
    "The columns 'PassengerId','Name','Ticket','Cabin','Fare' are not important\n",
    "\"\"\""
   ]
  },
  {
   "cell_type": "markdown",
   "id": "d620deaf",
   "metadata": {},
   "source": [
    "# Data Preprocessing :"
   ]
  },
  {
   "cell_type": "code",
   "execution_count": 137,
   "id": "4ce76698",
   "metadata": {},
   "outputs": [
    {
     "data": {
      "text/html": [
       "<div>\n",
       "<style scoped>\n",
       "    .dataframe tbody tr th:only-of-type {\n",
       "        vertical-align: middle;\n",
       "    }\n",
       "\n",
       "    .dataframe tbody tr th {\n",
       "        vertical-align: top;\n",
       "    }\n",
       "\n",
       "    .dataframe thead th {\n",
       "        text-align: right;\n",
       "    }\n",
       "</style>\n",
       "<table border=\"1\" class=\"dataframe\">\n",
       "  <thead>\n",
       "    <tr style=\"text-align: right;\">\n",
       "      <th></th>\n",
       "      <th>Survived</th>\n",
       "      <th>Pclass</th>\n",
       "      <th>Sex</th>\n",
       "      <th>Age</th>\n",
       "      <th>SibSp</th>\n",
       "      <th>Parch</th>\n",
       "    </tr>\n",
       "  </thead>\n",
       "  <tbody>\n",
       "    <tr>\n",
       "      <th>0</th>\n",
       "      <td>0</td>\n",
       "      <td>3</td>\n",
       "      <td>male</td>\n",
       "      <td>22.0</td>\n",
       "      <td>1</td>\n",
       "      <td>0</td>\n",
       "    </tr>\n",
       "    <tr>\n",
       "      <th>1</th>\n",
       "      <td>1</td>\n",
       "      <td>1</td>\n",
       "      <td>female</td>\n",
       "      <td>38.0</td>\n",
       "      <td>1</td>\n",
       "      <td>0</td>\n",
       "    </tr>\n",
       "    <tr>\n",
       "      <th>2</th>\n",
       "      <td>1</td>\n",
       "      <td>3</td>\n",
       "      <td>female</td>\n",
       "      <td>26.0</td>\n",
       "      <td>0</td>\n",
       "      <td>0</td>\n",
       "    </tr>\n",
       "    <tr>\n",
       "      <th>3</th>\n",
       "      <td>1</td>\n",
       "      <td>1</td>\n",
       "      <td>female</td>\n",
       "      <td>35.0</td>\n",
       "      <td>1</td>\n",
       "      <td>0</td>\n",
       "    </tr>\n",
       "    <tr>\n",
       "      <th>4</th>\n",
       "      <td>0</td>\n",
       "      <td>3</td>\n",
       "      <td>male</td>\n",
       "      <td>35.0</td>\n",
       "      <td>0</td>\n",
       "      <td>0</td>\n",
       "    </tr>\n",
       "    <tr>\n",
       "      <th>...</th>\n",
       "      <td>...</td>\n",
       "      <td>...</td>\n",
       "      <td>...</td>\n",
       "      <td>...</td>\n",
       "      <td>...</td>\n",
       "      <td>...</td>\n",
       "    </tr>\n",
       "    <tr>\n",
       "      <th>886</th>\n",
       "      <td>0</td>\n",
       "      <td>2</td>\n",
       "      <td>male</td>\n",
       "      <td>27.0</td>\n",
       "      <td>0</td>\n",
       "      <td>0</td>\n",
       "    </tr>\n",
       "    <tr>\n",
       "      <th>887</th>\n",
       "      <td>1</td>\n",
       "      <td>1</td>\n",
       "      <td>female</td>\n",
       "      <td>19.0</td>\n",
       "      <td>0</td>\n",
       "      <td>0</td>\n",
       "    </tr>\n",
       "    <tr>\n",
       "      <th>888</th>\n",
       "      <td>0</td>\n",
       "      <td>3</td>\n",
       "      <td>female</td>\n",
       "      <td>NaN</td>\n",
       "      <td>1</td>\n",
       "      <td>2</td>\n",
       "    </tr>\n",
       "    <tr>\n",
       "      <th>889</th>\n",
       "      <td>1</td>\n",
       "      <td>1</td>\n",
       "      <td>male</td>\n",
       "      <td>26.0</td>\n",
       "      <td>0</td>\n",
       "      <td>0</td>\n",
       "    </tr>\n",
       "    <tr>\n",
       "      <th>890</th>\n",
       "      <td>0</td>\n",
       "      <td>3</td>\n",
       "      <td>male</td>\n",
       "      <td>32.0</td>\n",
       "      <td>0</td>\n",
       "      <td>0</td>\n",
       "    </tr>\n",
       "  </tbody>\n",
       "</table>\n",
       "<p>891 rows × 6 columns</p>\n",
       "</div>"
      ],
      "text/plain": [
       "     Survived  Pclass     Sex   Age  SibSp  Parch\n",
       "0           0       3    male  22.0      1      0\n",
       "1           1       1  female  38.0      1      0\n",
       "2           1       3  female  26.0      0      0\n",
       "3           1       1  female  35.0      1      0\n",
       "4           0       3    male  35.0      0      0\n",
       "..        ...     ...     ...   ...    ...    ...\n",
       "886         0       2    male  27.0      0      0\n",
       "887         1       1  female  19.0      0      0\n",
       "888         0       3  female   NaN      1      2\n",
       "889         1       1    male  26.0      0      0\n",
       "890         0       3    male  32.0      0      0\n",
       "\n",
       "[891 rows x 6 columns]"
      ]
     },
     "execution_count": 137,
     "metadata": {},
     "output_type": "execute_result"
    }
   ],
   "source": [
    "# Deleting un-important columns :\n",
    "df  = df.drop(columns = ['PassengerId','Name','Ticket','Cabin','Fare','Embarked'])\n",
    "df"
   ]
  },
  {
   "cell_type": "code",
   "execution_count": 139,
   "id": "9cde46aa",
   "metadata": {
    "scrolled": true
   },
   "outputs": [
    {
     "data": {
      "text/html": [
       "<div>\n",
       "<style scoped>\n",
       "    .dataframe tbody tr th:only-of-type {\n",
       "        vertical-align: middle;\n",
       "    }\n",
       "\n",
       "    .dataframe tbody tr th {\n",
       "        vertical-align: top;\n",
       "    }\n",
       "\n",
       "    .dataframe thead th {\n",
       "        text-align: right;\n",
       "    }\n",
       "</style>\n",
       "<table border=\"1\" class=\"dataframe\">\n",
       "  <thead>\n",
       "    <tr style=\"text-align: right;\">\n",
       "      <th></th>\n",
       "      <th>Survived</th>\n",
       "      <th>Pclass</th>\n",
       "      <th>Age</th>\n",
       "      <th>SibSp</th>\n",
       "      <th>Parch</th>\n",
       "      <th>sex</th>\n",
       "    </tr>\n",
       "  </thead>\n",
       "  <tbody>\n",
       "    <tr>\n",
       "      <th>0</th>\n",
       "      <td>0</td>\n",
       "      <td>3</td>\n",
       "      <td>22.0</td>\n",
       "      <td>1</td>\n",
       "      <td>0</td>\n",
       "      <td>1</td>\n",
       "    </tr>\n",
       "    <tr>\n",
       "      <th>1</th>\n",
       "      <td>1</td>\n",
       "      <td>1</td>\n",
       "      <td>38.0</td>\n",
       "      <td>1</td>\n",
       "      <td>0</td>\n",
       "      <td>0</td>\n",
       "    </tr>\n",
       "    <tr>\n",
       "      <th>2</th>\n",
       "      <td>1</td>\n",
       "      <td>3</td>\n",
       "      <td>26.0</td>\n",
       "      <td>0</td>\n",
       "      <td>0</td>\n",
       "      <td>0</td>\n",
       "    </tr>\n",
       "    <tr>\n",
       "      <th>3</th>\n",
       "      <td>1</td>\n",
       "      <td>1</td>\n",
       "      <td>35.0</td>\n",
       "      <td>1</td>\n",
       "      <td>0</td>\n",
       "      <td>0</td>\n",
       "    </tr>\n",
       "    <tr>\n",
       "      <th>4</th>\n",
       "      <td>0</td>\n",
       "      <td>3</td>\n",
       "      <td>35.0</td>\n",
       "      <td>0</td>\n",
       "      <td>0</td>\n",
       "      <td>1</td>\n",
       "    </tr>\n",
       "    <tr>\n",
       "      <th>...</th>\n",
       "      <td>...</td>\n",
       "      <td>...</td>\n",
       "      <td>...</td>\n",
       "      <td>...</td>\n",
       "      <td>...</td>\n",
       "      <td>...</td>\n",
       "    </tr>\n",
       "    <tr>\n",
       "      <th>886</th>\n",
       "      <td>0</td>\n",
       "      <td>2</td>\n",
       "      <td>27.0</td>\n",
       "      <td>0</td>\n",
       "      <td>0</td>\n",
       "      <td>1</td>\n",
       "    </tr>\n",
       "    <tr>\n",
       "      <th>887</th>\n",
       "      <td>1</td>\n",
       "      <td>1</td>\n",
       "      <td>19.0</td>\n",
       "      <td>0</td>\n",
       "      <td>0</td>\n",
       "      <td>0</td>\n",
       "    </tr>\n",
       "    <tr>\n",
       "      <th>888</th>\n",
       "      <td>0</td>\n",
       "      <td>3</td>\n",
       "      <td>NaN</td>\n",
       "      <td>1</td>\n",
       "      <td>2</td>\n",
       "      <td>0</td>\n",
       "    </tr>\n",
       "    <tr>\n",
       "      <th>889</th>\n",
       "      <td>1</td>\n",
       "      <td>1</td>\n",
       "      <td>26.0</td>\n",
       "      <td>0</td>\n",
       "      <td>0</td>\n",
       "      <td>1</td>\n",
       "    </tr>\n",
       "    <tr>\n",
       "      <th>890</th>\n",
       "      <td>0</td>\n",
       "      <td>3</td>\n",
       "      <td>32.0</td>\n",
       "      <td>0</td>\n",
       "      <td>0</td>\n",
       "      <td>1</td>\n",
       "    </tr>\n",
       "  </tbody>\n",
       "</table>\n",
       "<p>891 rows × 6 columns</p>\n",
       "</div>"
      ],
      "text/plain": [
       "     Survived  Pclass   Age  SibSp  Parch  sex\n",
       "0           0       3  22.0      1      0    1\n",
       "1           1       1  38.0      1      0    0\n",
       "2           1       3  26.0      0      0    0\n",
       "3           1       1  35.0      1      0    0\n",
       "4           0       3  35.0      0      0    1\n",
       "..        ...     ...   ...    ...    ...  ...\n",
       "886         0       2  27.0      0      0    1\n",
       "887         1       1  19.0      0      0    0\n",
       "888         0       3   NaN      1      2    0\n",
       "889         1       1  26.0      0      0    1\n",
       "890         0       3  32.0      0      0    1\n",
       "\n",
       "[891 rows x 6 columns]"
      ]
     },
     "execution_count": 139,
     "metadata": {},
     "output_type": "execute_result"
    }
   ],
   "source": [
    "#Encoding Catagorical column 'Sex'\n",
    "from sklearn.preprocessing import LabelEncoder\n",
    "le = LabelEncoder()\n",
    "new_df = df\n",
    "new_df['sex'] = le.fit_transform(new_df['Sex'])\n",
    "new_df = new_df.drop(columns = ['Sex'])\n",
    "new_df"
   ]
  },
  {
   "cell_type": "markdown",
   "id": "ccc74bd2",
   "metadata": {},
   "source": [
    "# Handling Missing Values :"
   ]
  },
  {
   "cell_type": "code",
   "execution_count": 141,
   "id": "89d45b2c",
   "metadata": {},
   "outputs": [
    {
     "name": "stdout",
     "output_type": "stream",
     "text": [
      "<class 'pandas.core.frame.DataFrame'>\n",
      "RangeIndex: 891 entries, 0 to 890\n",
      "Data columns (total 6 columns):\n",
      " #   Column    Non-Null Count  Dtype  \n",
      "---  ------    --------------  -----  \n",
      " 0   Survived  891 non-null    int64  \n",
      " 1   Pclass    891 non-null    int64  \n",
      " 2   Age       714 non-null    float64\n",
      " 3   SibSp     891 non-null    int64  \n",
      " 4   Parch     891 non-null    int64  \n",
      " 5   sex       891 non-null    int32  \n",
      "dtypes: float64(1), int32(1), int64(4)\n",
      "memory usage: 38.4 KB\n"
     ]
    }
   ],
   "source": [
    "# Checking the information of the columns :\n",
    "new_df.info()"
   ]
  },
  {
   "cell_type": "code",
   "execution_count": 142,
   "id": "a31d288a",
   "metadata": {},
   "outputs": [
    {
     "data": {
      "text/plain": [
       "Survived      0\n",
       "Pclass        0\n",
       "Age         177\n",
       "SibSp         0\n",
       "Parch         0\n",
       "sex           0\n",
       "dtype: int64"
      ]
     },
     "execution_count": 142,
     "metadata": {},
     "output_type": "execute_result"
    }
   ],
   "source": [
    "# Checking if there any null value is there in the columns :\n",
    "new_df.isnull().sum()"
   ]
  },
  {
   "cell_type": "code",
   "execution_count": 143,
   "id": "594b9603",
   "metadata": {},
   "outputs": [
    {
     "data": {
      "text/plain": [
       "Survived    0\n",
       "Pclass      0\n",
       "Age         0\n",
       "SibSp       0\n",
       "Parch       0\n",
       "sex         0\n",
       "dtype: int64"
      ]
     },
     "execution_count": 143,
     "metadata": {},
     "output_type": "execute_result"
    }
   ],
   "source": [
    "# The 'Age' column has the null values\n",
    "# I will replace the null values with average Age\n",
    "new_df['Age'] = new_df['Age'].fillna(new_df['Age'].mean())\n",
    "new_df.isnull().sum()"
   ]
  },
  {
   "cell_type": "markdown",
   "id": "7546cfb8",
   "metadata": {},
   "source": [
    "# Handling Outliers :"
   ]
  },
  {
   "cell_type": "code",
   "execution_count": 144,
   "id": "1d9b8db2",
   "metadata": {
    "scrolled": true
   },
   "outputs": [
    {
     "name": "stdout",
     "output_type": "stream",
     "text": [
      "<class 'pandas.core.frame.DataFrame'>\n",
      "RangeIndex: 891 entries, 0 to 890\n",
      "Data columns (total 6 columns):\n",
      " #   Column    Non-Null Count  Dtype\n",
      "---  ------    --------------  -----\n",
      " 0   Survived  891 non-null    int64\n",
      " 1   Pclass    891 non-null    int64\n",
      " 2   Age       891 non-null    int32\n",
      " 3   SibSp     891 non-null    int64\n",
      " 4   Parch     891 non-null    int64\n",
      " 5   sex       891 non-null    int32\n",
      "dtypes: int32(2), int64(4)\n",
      "memory usage: 34.9 KB\n"
     ]
    }
   ],
   "source": [
    "# First converting 'Age' column's datatype to int\n",
    "new_df['Age'] = new_df['Age'].astype(int)\n",
    "new_df.info()"
   ]
  },
  {
   "cell_type": "code",
   "execution_count": 146,
   "id": "898eba3b",
   "metadata": {},
   "outputs": [
    {
     "data": {
      "text/html": [
       "<div>\n",
       "<style scoped>\n",
       "    .dataframe tbody tr th:only-of-type {\n",
       "        vertical-align: middle;\n",
       "    }\n",
       "\n",
       "    .dataframe tbody tr th {\n",
       "        vertical-align: top;\n",
       "    }\n",
       "\n",
       "    .dataframe thead th {\n",
       "        text-align: right;\n",
       "    }\n",
       "</style>\n",
       "<table border=\"1\" class=\"dataframe\">\n",
       "  <thead>\n",
       "    <tr style=\"text-align: right;\">\n",
       "      <th></th>\n",
       "      <th>Survived</th>\n",
       "      <th>Pclass</th>\n",
       "      <th>Age</th>\n",
       "      <th>SibSp</th>\n",
       "      <th>Parch</th>\n",
       "      <th>sex</th>\n",
       "    </tr>\n",
       "  </thead>\n",
       "  <tbody>\n",
       "    <tr>\n",
       "      <th>count</th>\n",
       "      <td>891.000000</td>\n",
       "      <td>891.000000</td>\n",
       "      <td>891.000000</td>\n",
       "      <td>891.000000</td>\n",
       "      <td>891.000000</td>\n",
       "      <td>891.000000</td>\n",
       "    </tr>\n",
       "    <tr>\n",
       "      <th>mean</th>\n",
       "      <td>0.383838</td>\n",
       "      <td>2.308642</td>\n",
       "      <td>29.544332</td>\n",
       "      <td>0.523008</td>\n",
       "      <td>0.381594</td>\n",
       "      <td>0.647587</td>\n",
       "    </tr>\n",
       "    <tr>\n",
       "      <th>std</th>\n",
       "      <td>0.486592</td>\n",
       "      <td>0.836071</td>\n",
       "      <td>13.013778</td>\n",
       "      <td>1.102743</td>\n",
       "      <td>0.806057</td>\n",
       "      <td>0.477990</td>\n",
       "    </tr>\n",
       "    <tr>\n",
       "      <th>min</th>\n",
       "      <td>0.000000</td>\n",
       "      <td>1.000000</td>\n",
       "      <td>0.000000</td>\n",
       "      <td>0.000000</td>\n",
       "      <td>0.000000</td>\n",
       "      <td>0.000000</td>\n",
       "    </tr>\n",
       "    <tr>\n",
       "      <th>25%</th>\n",
       "      <td>0.000000</td>\n",
       "      <td>2.000000</td>\n",
       "      <td>22.000000</td>\n",
       "      <td>0.000000</td>\n",
       "      <td>0.000000</td>\n",
       "      <td>0.000000</td>\n",
       "    </tr>\n",
       "    <tr>\n",
       "      <th>50%</th>\n",
       "      <td>0.000000</td>\n",
       "      <td>3.000000</td>\n",
       "      <td>29.000000</td>\n",
       "      <td>0.000000</td>\n",
       "      <td>0.000000</td>\n",
       "      <td>1.000000</td>\n",
       "    </tr>\n",
       "    <tr>\n",
       "      <th>75%</th>\n",
       "      <td>1.000000</td>\n",
       "      <td>3.000000</td>\n",
       "      <td>35.000000</td>\n",
       "      <td>1.000000</td>\n",
       "      <td>0.000000</td>\n",
       "      <td>1.000000</td>\n",
       "    </tr>\n",
       "    <tr>\n",
       "      <th>max</th>\n",
       "      <td>1.000000</td>\n",
       "      <td>3.000000</td>\n",
       "      <td>80.000000</td>\n",
       "      <td>8.000000</td>\n",
       "      <td>6.000000</td>\n",
       "      <td>1.000000</td>\n",
       "    </tr>\n",
       "  </tbody>\n",
       "</table>\n",
       "</div>"
      ],
      "text/plain": [
       "         Survived      Pclass         Age       SibSp       Parch         sex\n",
       "count  891.000000  891.000000  891.000000  891.000000  891.000000  891.000000\n",
       "mean     0.383838    2.308642   29.544332    0.523008    0.381594    0.647587\n",
       "std      0.486592    0.836071   13.013778    1.102743    0.806057    0.477990\n",
       "min      0.000000    1.000000    0.000000    0.000000    0.000000    0.000000\n",
       "25%      0.000000    2.000000   22.000000    0.000000    0.000000    0.000000\n",
       "50%      0.000000    3.000000   29.000000    0.000000    0.000000    1.000000\n",
       "75%      1.000000    3.000000   35.000000    1.000000    0.000000    1.000000\n",
       "max      1.000000    3.000000   80.000000    8.000000    6.000000    1.000000"
      ]
     },
     "execution_count": 146,
     "metadata": {},
     "output_type": "execute_result"
    }
   ],
   "source": [
    "# Seeing the details of the dataset\n",
    "new_df.describe()\n",
    "# From here , I can conclude that the outliers of 'Age' column is important"
   ]
  },
  {
   "cell_type": "code",
   "execution_count": 147,
   "id": "60666f8a",
   "metadata": {},
   "outputs": [
    {
     "data": {
      "image/png": "[encoded data removed]",
      "text/plain": [
       "<Figure size 640x480 with 1 Axes>"
      ]
     },
     "metadata": {},
     "output_type": "display_data"
    }
   ],
   "source": [
    "# Checking the 'Age' column's Outliers\n",
    "plt.boxplot(new_df['Age'])\n",
    "plt.show()"
   ]
  },
  {
   "cell_type": "code",
   "execution_count": 148,
   "id": "e441e316",
   "metadata": {},
   "outputs": [
    {
     "data": {
      "text/html": [
       "<div>\n",
       "<style scoped>\n",
       "    .dataframe tbody tr th:only-of-type {\n",
       "        vertical-align: middle;\n",
       "    }\n",
       "\n",
       "    .dataframe tbody tr th {\n",
       "        vertical-align: top;\n",
       "    }\n",
       "\n",
       "    .dataframe thead th {\n",
       "        text-align: right;\n",
       "    }\n",
       "</style>\n",
       "<table border=\"1\" class=\"dataframe\">\n",
       "  <thead>\n",
       "    <tr style=\"text-align: right;\">\n",
       "      <th></th>\n",
       "      <th>Survived</th>\n",
       "      <th>Pclass</th>\n",
       "      <th>Age</th>\n",
       "      <th>SibSp</th>\n",
       "      <th>Parch</th>\n",
       "      <th>sex</th>\n",
       "    </tr>\n",
       "  </thead>\n",
       "  <tbody>\n",
       "    <tr>\n",
       "      <th>0</th>\n",
       "      <td>0.789272</td>\n",
       "      <td>0.827377</td>\n",
       "      <td>0.580044</td>\n",
       "      <td>0.432793</td>\n",
       "      <td>0.473674</td>\n",
       "      <td>0.737695</td>\n",
       "    </tr>\n",
       "    <tr>\n",
       "      <th>1</th>\n",
       "      <td>1.266990</td>\n",
       "      <td>1.566107</td>\n",
       "      <td>0.650112</td>\n",
       "      <td>0.432793</td>\n",
       "      <td>0.473674</td>\n",
       "      <td>1.355574</td>\n",
       "    </tr>\n",
       "    <tr>\n",
       "      <th>2</th>\n",
       "      <td>1.266990</td>\n",
       "      <td>0.827377</td>\n",
       "      <td>0.272505</td>\n",
       "      <td>0.474545</td>\n",
       "      <td>0.473674</td>\n",
       "      <td>1.355574</td>\n",
       "    </tr>\n",
       "    <tr>\n",
       "      <th>3</th>\n",
       "      <td>1.266990</td>\n",
       "      <td>1.566107</td>\n",
       "      <td>0.419458</td>\n",
       "      <td>0.432793</td>\n",
       "      <td>0.473674</td>\n",
       "      <td>1.355574</td>\n",
       "    </tr>\n",
       "    <tr>\n",
       "      <th>4</th>\n",
       "      <td>0.789272</td>\n",
       "      <td>0.827377</td>\n",
       "      <td>0.419458</td>\n",
       "      <td>0.474545</td>\n",
       "      <td>0.473674</td>\n",
       "      <td>0.737695</td>\n",
       "    </tr>\n",
       "    <tr>\n",
       "      <th>...</th>\n",
       "      <td>...</td>\n",
       "      <td>...</td>\n",
       "      <td>...</td>\n",
       "      <td>...</td>\n",
       "      <td>...</td>\n",
       "      <td>...</td>\n",
       "    </tr>\n",
       "    <tr>\n",
       "      <th>886</th>\n",
       "      <td>0.789272</td>\n",
       "      <td>0.369365</td>\n",
       "      <td>0.195620</td>\n",
       "      <td>0.474545</td>\n",
       "      <td>0.473674</td>\n",
       "      <td>0.737695</td>\n",
       "    </tr>\n",
       "    <tr>\n",
       "      <th>887</th>\n",
       "      <td>1.266990</td>\n",
       "      <td>1.566107</td>\n",
       "      <td>0.810699</td>\n",
       "      <td>0.474545</td>\n",
       "      <td>0.473674</td>\n",
       "      <td>1.355574</td>\n",
       "    </tr>\n",
       "    <tr>\n",
       "      <th>888</th>\n",
       "      <td>0.789272</td>\n",
       "      <td>0.827377</td>\n",
       "      <td>0.041851</td>\n",
       "      <td>0.432793</td>\n",
       "      <td>2.008933</td>\n",
       "      <td>1.355574</td>\n",
       "    </tr>\n",
       "    <tr>\n",
       "      <th>889</th>\n",
       "      <td>1.266990</td>\n",
       "      <td>1.566107</td>\n",
       "      <td>0.272505</td>\n",
       "      <td>0.474545</td>\n",
       "      <td>0.473674</td>\n",
       "      <td>0.737695</td>\n",
       "    </tr>\n",
       "    <tr>\n",
       "      <th>890</th>\n",
       "      <td>0.789272</td>\n",
       "      <td>0.827377</td>\n",
       "      <td>0.188804</td>\n",
       "      <td>0.474545</td>\n",
       "      <td>0.473674</td>\n",
       "      <td>0.737695</td>\n",
       "    </tr>\n",
       "  </tbody>\n",
       "</table>\n",
       "<p>891 rows × 6 columns</p>\n",
       "</div>"
      ],
      "text/plain": [
       "     Survived    Pclass       Age     SibSp     Parch       sex\n",
       "0    0.789272  0.827377  0.580044  0.432793  0.473674  0.737695\n",
       "1    1.266990  1.566107  0.650112  0.432793  0.473674  1.355574\n",
       "2    1.266990  0.827377  0.272505  0.474545  0.473674  1.355574\n",
       "3    1.266990  1.566107  0.419458  0.432793  0.473674  1.355574\n",
       "4    0.789272  0.827377  0.419458  0.474545  0.473674  0.737695\n",
       "..        ...       ...       ...       ...       ...       ...\n",
       "886  0.789272  0.369365  0.195620  0.474545  0.473674  0.737695\n",
       "887  1.266990  1.566107  0.810699  0.474545  0.473674  1.355574\n",
       "888  0.789272  0.827377  0.041851  0.432793  2.008933  1.355574\n",
       "889  1.266990  1.566107  0.272505  0.474545  0.473674  0.737695\n",
       "890  0.789272  0.827377  0.188804  0.474545  0.473674  0.737695\n",
       "\n",
       "[891 rows x 6 columns]"
      ]
     },
     "execution_count": 148,
     "metadata": {},
     "output_type": "execute_result"
    }
   ],
   "source": [
    "# Checking the z-score value\n",
    "z = np.abs(zscore(new_df))\n",
    "z"
   ]
  },
  {
   "cell_type": "code",
   "execution_count": 149,
   "id": "58c07a84",
   "metadata": {},
   "outputs": [
    {
     "name": "stdout",
     "output_type": "stream",
     "text": [
      "(array([ 13,  16,  25,  50,  59,  68,  71,  86,  96, 116, 119, 159, 164,\n",
      "       167, 171, 180, 182, 201, 233, 261, 266, 278, 324, 360, 386, 437,\n",
      "       438, 480, 493, 541, 542, 567, 610, 630, 638, 672, 678, 683, 686,\n",
      "       736, 745, 774, 787, 792, 813, 824, 846, 850, 851, 858, 863, 885],\n",
      "      dtype=int64), array([4, 3, 4, 3, 3, 3, 3, 4, 2, 2, 3, 3, 3, 4, 3, 3, 3, 3, 3, 3, 3, 3,\n",
      "       3, 4, 3, 4, 4, 3, 2, 3, 3, 4, 4, 2, 4, 2, 4, 3, 3, 4, 2, 4, 3, 3,\n",
      "       3, 3, 3, 3, 2, 4, 3, 4], dtype=int64))\n"
     ]
    }
   ],
   "source": [
    "# Checking which rows has  z-score value greater than 3\n",
    "threshold = 3\n",
    "print(np.where(z>3))"
   ]
  },
  {
   "cell_type": "code",
   "execution_count": 150,
   "id": "d690bceb",
   "metadata": {},
   "outputs": [
    {
     "data": {
      "text/html": [
       "<div>\n",
       "<style scoped>\n",
       "    .dataframe tbody tr th:only-of-type {\n",
       "        vertical-align: middle;\n",
       "    }\n",
       "\n",
       "    .dataframe tbody tr th {\n",
       "        vertical-align: top;\n",
       "    }\n",
       "\n",
       "    .dataframe thead th {\n",
       "        text-align: right;\n",
       "    }\n",
       "</style>\n",
       "<table border=\"1\" class=\"dataframe\">\n",
       "  <thead>\n",
       "    <tr style=\"text-align: right;\">\n",
       "      <th></th>\n",
       "      <th>Survived</th>\n",
       "      <th>Pclass</th>\n",
       "      <th>Age</th>\n",
       "      <th>SibSp</th>\n",
       "      <th>Parch</th>\n",
       "      <th>sex</th>\n",
       "    </tr>\n",
       "  </thead>\n",
       "  <tbody>\n",
       "    <tr>\n",
       "      <th>0</th>\n",
       "      <td>0</td>\n",
       "      <td>3</td>\n",
       "      <td>22</td>\n",
       "      <td>1</td>\n",
       "      <td>0</td>\n",
       "      <td>1</td>\n",
       "    </tr>\n",
       "    <tr>\n",
       "      <th>1</th>\n",
       "      <td>1</td>\n",
       "      <td>1</td>\n",
       "      <td>38</td>\n",
       "      <td>1</td>\n",
       "      <td>0</td>\n",
       "      <td>0</td>\n",
       "    </tr>\n",
       "    <tr>\n",
       "      <th>2</th>\n",
       "      <td>1</td>\n",
       "      <td>3</td>\n",
       "      <td>26</td>\n",
       "      <td>0</td>\n",
       "      <td>0</td>\n",
       "      <td>0</td>\n",
       "    </tr>\n",
       "    <tr>\n",
       "      <th>3</th>\n",
       "      <td>1</td>\n",
       "      <td>1</td>\n",
       "      <td>35</td>\n",
       "      <td>1</td>\n",
       "      <td>0</td>\n",
       "      <td>0</td>\n",
       "    </tr>\n",
       "    <tr>\n",
       "      <th>4</th>\n",
       "      <td>0</td>\n",
       "      <td>3</td>\n",
       "      <td>35</td>\n",
       "      <td>0</td>\n",
       "      <td>0</td>\n",
       "      <td>1</td>\n",
       "    </tr>\n",
       "    <tr>\n",
       "      <th>...</th>\n",
       "      <td>...</td>\n",
       "      <td>...</td>\n",
       "      <td>...</td>\n",
       "      <td>...</td>\n",
       "      <td>...</td>\n",
       "      <td>...</td>\n",
       "    </tr>\n",
       "    <tr>\n",
       "      <th>886</th>\n",
       "      <td>0</td>\n",
       "      <td>2</td>\n",
       "      <td>27</td>\n",
       "      <td>0</td>\n",
       "      <td>0</td>\n",
       "      <td>1</td>\n",
       "    </tr>\n",
       "    <tr>\n",
       "      <th>887</th>\n",
       "      <td>1</td>\n",
       "      <td>1</td>\n",
       "      <td>19</td>\n",
       "      <td>0</td>\n",
       "      <td>0</td>\n",
       "      <td>0</td>\n",
       "    </tr>\n",
       "    <tr>\n",
       "      <th>888</th>\n",
       "      <td>0</td>\n",
       "      <td>3</td>\n",
       "      <td>29</td>\n",
       "      <td>1</td>\n",
       "      <td>2</td>\n",
       "      <td>0</td>\n",
       "    </tr>\n",
       "    <tr>\n",
       "      <th>889</th>\n",
       "      <td>1</td>\n",
       "      <td>1</td>\n",
       "      <td>26</td>\n",
       "      <td>0</td>\n",
       "      <td>0</td>\n",
       "      <td>1</td>\n",
       "    </tr>\n",
       "    <tr>\n",
       "      <th>890</th>\n",
       "      <td>0</td>\n",
       "      <td>3</td>\n",
       "      <td>32</td>\n",
       "      <td>0</td>\n",
       "      <td>0</td>\n",
       "      <td>1</td>\n",
       "    </tr>\n",
       "  </tbody>\n",
       "</table>\n",
       "<p>839 rows × 6 columns</p>\n",
       "</div>"
      ],
      "text/plain": [
       "     Survived  Pclass  Age  SibSp  Parch  sex\n",
       "0           0       3   22      1      0    1\n",
       "1           1       1   38      1      0    0\n",
       "2           1       3   26      0      0    0\n",
       "3           1       1   35      1      0    0\n",
       "4           0       3   35      0      0    1\n",
       "..        ...     ...  ...    ...    ...  ...\n",
       "886         0       2   27      0      0    1\n",
       "887         1       1   19      0      0    0\n",
       "888         0       3   29      1      2    0\n",
       "889         1       1   26      0      0    1\n",
       "890         0       3   32      0      0    1\n",
       "\n",
       "[839 rows x 6 columns]"
      ]
     },
     "execution_count": 150,
     "metadata": {},
     "output_type": "execute_result"
    }
   ],
   "source": [
    "# Getting only those rows which has z_score value less than 3 . Thus we get a new dataset with no outlier\n",
    "Modified_df = new_df[(z<3).all(axis = 1)]\n",
    "Modified_df"
   ]
  },
  {
   "cell_type": "code",
   "execution_count": 151,
   "id": "0404722e",
   "metadata": {},
   "outputs": [
    {
     "data": {
      "text/html": [
       "<div>\n",
       "<style scoped>\n",
       "    .dataframe tbody tr th:only-of-type {\n",
       "        vertical-align: middle;\n",
       "    }\n",
       "\n",
       "    .dataframe tbody tr th {\n",
       "        vertical-align: top;\n",
       "    }\n",
       "\n",
       "    .dataframe thead th {\n",
       "        text-align: right;\n",
       "    }\n",
       "</style>\n",
       "<table border=\"1\" class=\"dataframe\">\n",
       "  <thead>\n",
       "    <tr style=\"text-align: right;\">\n",
       "      <th></th>\n",
       "      <th>Survived</th>\n",
       "      <th>Pclass</th>\n",
       "      <th>Age</th>\n",
       "      <th>SibSp</th>\n",
       "      <th>Parch</th>\n",
       "      <th>sex</th>\n",
       "    </tr>\n",
       "  </thead>\n",
       "  <tbody>\n",
       "    <tr>\n",
       "      <th>count</th>\n",
       "      <td>839.000000</td>\n",
       "      <td>839.000000</td>\n",
       "      <td>839.000000</td>\n",
       "      <td>839.000000</td>\n",
       "      <td>839.000000</td>\n",
       "      <td>839.000000</td>\n",
       "    </tr>\n",
       "    <tr>\n",
       "      <th>mean</th>\n",
       "      <td>0.398093</td>\n",
       "      <td>2.281287</td>\n",
       "      <td>29.623361</td>\n",
       "      <td>0.357569</td>\n",
       "      <td>0.269368</td>\n",
       "      <td>0.650775</td>\n",
       "    </tr>\n",
       "    <tr>\n",
       "      <th>std</th>\n",
       "      <td>0.489797</td>\n",
       "      <td>0.840230</td>\n",
       "      <td>12.113573</td>\n",
       "      <td>0.639519</td>\n",
       "      <td>0.581253</td>\n",
       "      <td>0.477010</td>\n",
       "    </tr>\n",
       "    <tr>\n",
       "      <th>min</th>\n",
       "      <td>0.000000</td>\n",
       "      <td>1.000000</td>\n",
       "      <td>0.000000</td>\n",
       "      <td>0.000000</td>\n",
       "      <td>0.000000</td>\n",
       "      <td>0.000000</td>\n",
       "    </tr>\n",
       "    <tr>\n",
       "      <th>25%</th>\n",
       "      <td>0.000000</td>\n",
       "      <td>1.000000</td>\n",
       "      <td>23.000000</td>\n",
       "      <td>0.000000</td>\n",
       "      <td>0.000000</td>\n",
       "      <td>0.000000</td>\n",
       "    </tr>\n",
       "    <tr>\n",
       "      <th>50%</th>\n",
       "      <td>0.000000</td>\n",
       "      <td>3.000000</td>\n",
       "      <td>29.000000</td>\n",
       "      <td>0.000000</td>\n",
       "      <td>0.000000</td>\n",
       "      <td>1.000000</td>\n",
       "    </tr>\n",
       "    <tr>\n",
       "      <th>75%</th>\n",
       "      <td>1.000000</td>\n",
       "      <td>3.000000</td>\n",
       "      <td>35.000000</td>\n",
       "      <td>1.000000</td>\n",
       "      <td>0.000000</td>\n",
       "      <td>1.000000</td>\n",
       "    </tr>\n",
       "    <tr>\n",
       "      <th>max</th>\n",
       "      <td>1.000000</td>\n",
       "      <td>3.000000</td>\n",
       "      <td>66.000000</td>\n",
       "      <td>3.000000</td>\n",
       "      <td>2.000000</td>\n",
       "      <td>1.000000</td>\n",
       "    </tr>\n",
       "  </tbody>\n",
       "</table>\n",
       "</div>"
      ],
      "text/plain": [
       "         Survived      Pclass         Age       SibSp       Parch         sex\n",
       "count  839.000000  839.000000  839.000000  839.000000  839.000000  839.000000\n",
       "mean     0.398093    2.281287   29.623361    0.357569    0.269368    0.650775\n",
       "std      0.489797    0.840230   12.113573    0.639519    0.581253    0.477010\n",
       "min      0.000000    1.000000    0.000000    0.000000    0.000000    0.000000\n",
       "25%      0.000000    1.000000   23.000000    0.000000    0.000000    0.000000\n",
       "50%      0.000000    3.000000   29.000000    0.000000    0.000000    1.000000\n",
       "75%      1.000000    3.000000   35.000000    1.000000    0.000000    1.000000\n",
       "max      1.000000    3.000000   66.000000    3.000000    2.000000    1.000000"
      ]
     },
     "execution_count": 151,
     "metadata": {},
     "output_type": "execute_result"
    }
   ],
   "source": [
    "Modified_df.describe()"
   ]
  },
  {
   "cell_type": "markdown",
   "id": "c3b41fff",
   "metadata": {},
   "source": [
    "# Using Different Models :"
   ]
  },
  {
   "cell_type": "code",
   "execution_count": 153,
   "id": "a0a467b7",
   "metadata": {},
   "outputs": [],
   "source": [
    "X = Modified_df.drop(columns = ['Survived'])\n",
    "y = Modified_df['Survived']"
   ]
  },
  {
   "cell_type": "code",
   "execution_count": 154,
   "id": "732205d3",
   "metadata": {},
   "outputs": [],
   "source": [
    "X_train , X_test , y_train , y_test = train_test_split(X,y,test_size = 0.30 , random_state = 42)"
   ]
  },
  {
   "cell_type": "markdown",
   "id": "8bbd5f08",
   "metadata": {},
   "source": [
    "# 1. Using Logistic Regression :"
   ]
  },
  {
   "cell_type": "code",
   "execution_count": 155,
   "id": "0fa5c388",
   "metadata": {},
   "outputs": [],
   "source": [
    "from sklearn.linear_model import LogisticRegression"
   ]
  },
  {
   "cell_type": "code",
   "execution_count": 156,
   "id": "dac84218",
   "metadata": {},
   "outputs": [],
   "source": [
    "lr =LogisticRegression()"
   ]
  },
  {
   "cell_type": "code",
   "execution_count": 157,
   "id": "504ab5b3",
   "metadata": {},
   "outputs": [
    {
     "name": "stdout",
     "output_type": "stream",
     "text": [
      "Accuracy score of Logistic Regression : 0.7976190476190477\n",
      "best parameters : {'penalty': 'l2', 'solver': 'lbfgs'}\n"
     ]
    }
   ],
   "source": [
    "param_grid = {\n",
    "    'penalty': ['l1', 'l2', 'elasticnet'],\n",
    "    'solver': ['lbfgs','newton-cg','sag'],\n",
    "}\n",
    "\n",
    "grid_search = GridSearchCV(lr, param_grid, cv=5)\n",
    "grid_search.fit(X_train, y_train)\n",
    "\n",
    "y_pred_lr = grid_search.best_estimator_.predict(X_test)\n",
    "\n",
    "accuracy = accuracy_score(y_test, y_pred_lr)\n",
    "print(\"Accuracy score of Logistic Regression :\", accuracy)\n",
    "print('best parameters :',grid_search.best_params_)"
   ]
  },
  {
   "cell_type": "code",
   "execution_count": 158,
   "id": "9d058ecd",
   "metadata": {},
   "outputs": [
    {
     "name": "stdout",
     "output_type": "stream",
     "text": [
      "cross validation score of Logistic Regression : 0.7950086058519793\n"
     ]
    }
   ],
   "source": [
    "print('cross validation score of Logistic Regression :',np.mean(cross_val_score(grid_search,X,y,cv  = 10 , scoring = 'accuracy')))"
   ]
  },
  {
   "cell_type": "code",
   "execution_count": 159,
   "id": "e898b948",
   "metadata": {},
   "outputs": [
    {
     "name": "stdout",
     "output_type": "stream",
     "text": [
      "[[138  15]\n",
      " [ 36  63]]\n"
     ]
    }
   ],
   "source": [
    "print(confusion_matrix(y_test , y_pred_lr))"
   ]
  },
  {
   "cell_type": "code",
   "execution_count": 160,
   "id": "a44fc682",
   "metadata": {},
   "outputs": [
    {
     "name": "stdout",
     "output_type": "stream",
     "text": [
      "              precision    recall  f1-score   support\n",
      "\n",
      "           0       0.79      0.90      0.84       153\n",
      "           1       0.81      0.64      0.71        99\n",
      "\n",
      "    accuracy                           0.80       252\n",
      "   macro avg       0.80      0.77      0.78       252\n",
      "weighted avg       0.80      0.80      0.79       252\n",
      "\n"
     ]
    }
   ],
   "source": [
    "print(classification_report(y_test , y_pred_lr))"
   ]
  },
  {
   "cell_type": "code",
   "execution_count": 161,
   "id": "e7c91e0f",
   "metadata": {},
   "outputs": [
    {
     "data": {
      "text/plain": [
       "'\\n* I think Precision (Type 1)error is more important in this dataset . Because , If someone has survived\\n  and the model says he has not , then that is more dangerous\\n  \\n  LogisticRegression is Performing quite Good !\\n\\n'"
      ]
     },
     "execution_count": 161,
     "metadata": {},
     "output_type": "execute_result"
    }
   ],
   "source": [
    "\"\"\"\n",
    "* I think Precision (Type 1)error is more important in this dataset . Because , If someone has survived\n",
    "  and the model says he has not , then that is more dangerous\n",
    "  \n",
    "  LogisticRegression is Performing quite Good !\n",
    "\n",
    "\"\"\""
   ]
  },
  {
   "cell_type": "markdown",
   "id": "91fed383",
   "metadata": {},
   "source": [
    "# 2. Using Support Vactor Machine :"
   ]
  },
  {
   "cell_type": "code",
   "execution_count": 162,
   "id": "8002d38b",
   "metadata": {},
   "outputs": [],
   "source": [
    "from sklearn.svm import SVC"
   ]
  },
  {
   "cell_type": "code",
   "execution_count": 163,
   "id": "e7976185",
   "metadata": {},
   "outputs": [
    {
     "name": "stdout",
     "output_type": "stream",
     "text": [
      "accuracy score of Support Vactor Classification : 0.6150793650793651\n"
     ]
    }
   ],
   "source": [
    "svc = SVC()\n",
    "svc.fit(X_train , y_train)\n",
    "y_pred_svc = svc.predict(X_test)\n",
    "print('accuracy score of Support Vactor Classification :', accuracy_score( y_test , y_pred_svc))"
   ]
  },
  {
   "cell_type": "code",
   "execution_count": 164,
   "id": "5b3a45a0",
   "metadata": {},
   "outputs": [
    {
     "name": "stdout",
     "output_type": "stream",
     "text": [
      "cross validation score of Support Vactor Classification : 0.6329173838209983\n"
     ]
    }
   ],
   "source": [
    "print('cross validation score of Support Vactor Classification :',np.mean(cross_val_score(svc,X,y,cv  = 10 , scoring = 'accuracy')))"
   ]
  },
  {
   "cell_type": "code",
   "execution_count": 165,
   "id": "a75227d6",
   "metadata": {},
   "outputs": [
    {
     "name": "stdout",
     "output_type": "stream",
     "text": [
      "[[149   4]\n",
      " [ 93   6]]\n"
     ]
    }
   ],
   "source": [
    "print(confusion_matrix(y_test , y_pred_svc))"
   ]
  },
  {
   "cell_type": "code",
   "execution_count": 166,
   "id": "9a0136c3",
   "metadata": {
    "scrolled": true
   },
   "outputs": [
    {
     "name": "stdout",
     "output_type": "stream",
     "text": [
      "              precision    recall  f1-score   support\n",
      "\n",
      "           0       0.62      0.97      0.75       153\n",
      "           1       0.60      0.06      0.11        99\n",
      "\n",
      "    accuracy                           0.62       252\n",
      "   macro avg       0.61      0.52      0.43       252\n",
      "weighted avg       0.61      0.62      0.50       252\n",
      "\n"
     ]
    }
   ],
   "source": [
    "print(classification_report(y_test , y_pred_svc))"
   ]
  },
  {
   "cell_type": "code",
   "execution_count": 167,
   "id": "c4e30840",
   "metadata": {},
   "outputs": [
    {
     "data": {
      "text/plain": [
       "'\\n    Support Vactor Classifier is not performing well !\\n'"
      ]
     },
     "execution_count": 167,
     "metadata": {},
     "output_type": "execute_result"
    }
   ],
   "source": [
    "\"\"\"\n",
    "    Support Vactor Classifier is not performing well !\n",
    "\"\"\""
   ]
  },
  {
   "cell_type": "markdown",
   "id": "0b4e9ae2",
   "metadata": {},
   "source": [
    "# 3. Using KNeighbors Classifier"
   ]
  },
  {
   "cell_type": "code",
   "execution_count": 168,
   "id": "1cbd420b",
   "metadata": {},
   "outputs": [],
   "source": [
    "from sklearn.neighbors import KNeighborsClassifier"
   ]
  },
  {
   "cell_type": "code",
   "execution_count": 169,
   "id": "95ff7e1e",
   "metadata": {},
   "outputs": [
    {
     "name": "stdout",
     "output_type": "stream",
     "text": [
      "Accuracy score of KNeighborsClassifier : 0.7301587301587301\n",
      "best parameters : {'n_neighbors': 7, 'weights': 'uniform'}\n"
     ]
    }
   ],
   "source": [
    "knn = KNeighborsClassifier()\n",
    "param_grid = {\n",
    "    'n_neighbors': [3,5,7,10,15 , 20 , 25 , 30],\n",
    "    'weights': ['uniform','distance'],\n",
    "}\n",
    "\n",
    "grid_search_knn = GridSearchCV(knn, param_grid, cv=5)\n",
    "grid_search_knn.fit(X_train, y_train)\n",
    "\n",
    "y_pred_knn = grid_search_knn.best_estimator_.predict(X_test)\n",
    "\n",
    "accuracy = accuracy_score(y_test, y_pred_knn)\n",
    "print(\"Accuracy score of KNeighborsClassifier :\", accuracy)\n",
    "print('best parameters :',grid_search_knn.best_params_)"
   ]
  },
  {
   "cell_type": "code",
   "execution_count": 170,
   "id": "5479bcab",
   "metadata": {},
   "outputs": [
    {
     "name": "stdout",
     "output_type": "stream",
     "text": [
      "cross validation score of KNeighborsClassifier : 0.7866465863453815\n"
     ]
    }
   ],
   "source": [
    "print('cross validation score of KNeighborsClassifier :',np.mean(cross_val_score(grid_search_knn,X,y,cv  = 10 , scoring = 'accuracy')))"
   ]
  },
  {
   "cell_type": "code",
   "execution_count": 171,
   "id": "93a4be4c",
   "metadata": {},
   "outputs": [
    {
     "name": "stdout",
     "output_type": "stream",
     "text": [
      "[[131  22]\n",
      " [ 46  53]]\n"
     ]
    }
   ],
   "source": [
    "print(confusion_matrix(y_test , y_pred_knn))"
   ]
  },
  {
   "cell_type": "code",
   "execution_count": 172,
   "id": "ffe4d876",
   "metadata": {},
   "outputs": [
    {
     "name": "stdout",
     "output_type": "stream",
     "text": [
      "              precision    recall  f1-score   support\n",
      "\n",
      "           0       0.74      0.86      0.79       153\n",
      "           1       0.71      0.54      0.61        99\n",
      "\n",
      "    accuracy                           0.73       252\n",
      "   macro avg       0.72      0.70      0.70       252\n",
      "weighted avg       0.73      0.73      0.72       252\n",
      "\n"
     ]
    }
   ],
   "source": [
    "print(classification_report(y_test , y_pred_knn))"
   ]
  },
  {
   "cell_type": "code",
   "execution_count": 173,
   "id": "ab1c92a0",
   "metadata": {},
   "outputs": [
    {
     "data": {
      "text/plain": [
       "'\\nK Neighbours Classifiers is quite OK ! Not better than Logistic Regression in  terms of Precision also .\\n'"
      ]
     },
     "execution_count": 173,
     "metadata": {},
     "output_type": "execute_result"
    }
   ],
   "source": [
    "\"\"\"\n",
    "K Neighbours Classifiers is quite OK ! Not better than Logistic Regression in  terms of Precision also .\n",
    "\"\"\""
   ]
  },
  {
   "cell_type": "markdown",
   "id": "4f112fd4",
   "metadata": {},
   "source": [
    "# 4. Using Naive Bayes classifier :¶"
   ]
  },
  {
   "cell_type": "code",
   "execution_count": 174,
   "id": "1f464802",
   "metadata": {},
   "outputs": [],
   "source": [
    "from sklearn.naive_bayes import MultinomialNB"
   ]
  },
  {
   "cell_type": "code",
   "execution_count": 175,
   "id": "e087f2b9",
   "metadata": {},
   "outputs": [
    {
     "name": "stdout",
     "output_type": "stream",
     "text": [
      "Accuracy score of KNeighborsClassifier : 0.6865079365079365\n"
     ]
    }
   ],
   "source": [
    "mnb = MultinomialNB()\n",
    "mnb.fit(X_train , y_train)\n",
    "y_pred_mnb = mnb.predict(X_test)\n",
    "print(\"Accuracy score of KNeighborsClassifier :\", accuracy_score(y_test ,y_pred_mnb))"
   ]
  },
  {
   "cell_type": "code",
   "execution_count": 176,
   "id": "3061c8ca",
   "metadata": {},
   "outputs": [
    {
     "name": "stdout",
     "output_type": "stream",
     "text": [
      "cross validation score of KNeighborsClassifier : 0.6949512335054504\n"
     ]
    }
   ],
   "source": [
    "print('cross validation score of KNeighborsClassifier :',np.mean(cross_val_score(mnb,X,y,cv  = 10 , scoring = 'accuracy')))"
   ]
  },
  {
   "cell_type": "code",
   "execution_count": 177,
   "id": "219acb15",
   "metadata": {},
   "outputs": [
    {
     "name": "stdout",
     "output_type": "stream",
     "text": [
      "[[136  17]\n",
      " [ 62  37]]\n"
     ]
    }
   ],
   "source": [
    "print(confusion_matrix(y_test , y_pred_mnb))"
   ]
  },
  {
   "cell_type": "code",
   "execution_count": 178,
   "id": "08ea3639",
   "metadata": {},
   "outputs": [
    {
     "name": "stdout",
     "output_type": "stream",
     "text": [
      "              precision    recall  f1-score   support\n",
      "\n",
      "           0       0.69      0.89      0.77       153\n",
      "           1       0.69      0.37      0.48        99\n",
      "\n",
      "    accuracy                           0.69       252\n",
      "   macro avg       0.69      0.63      0.63       252\n",
      "weighted avg       0.69      0.69      0.66       252\n",
      "\n"
     ]
    }
   ],
   "source": [
    "print(classification_report(y_test , y_pred_mnb))"
   ]
  },
  {
   "cell_type": "code",
   "execution_count": 179,
   "id": "abd2a771",
   "metadata": {},
   "outputs": [
    {
     "data": {
      "text/plain": [
       "'\\nNaive Bayes Classifier is not acceptable !\\n'"
      ]
     },
     "execution_count": 179,
     "metadata": {},
     "output_type": "execute_result"
    }
   ],
   "source": [
    "\"\"\"\n",
    "Naive Bayes Classifier is not acceptable !\n",
    "\"\"\""
   ]
  },
  {
   "cell_type": "markdown",
   "id": "0c6e41b7",
   "metadata": {},
   "source": [
    "# 5. Using Decision Tree Classifier :"
   ]
  },
  {
   "cell_type": "code",
   "execution_count": 180,
   "id": "1ba4966c",
   "metadata": {},
   "outputs": [],
   "source": [
    "from sklearn.tree import DecisionTreeClassifier"
   ]
  },
  {
   "cell_type": "code",
   "execution_count": 182,
   "id": "fff3e48d",
   "metadata": {},
   "outputs": [
    {
     "name": "stdout",
     "output_type": "stream",
     "text": [
      "Accuracy score of Decision Tree Classifier : 0.7976190476190477\n",
      "best parameters : {'criterion': 'entropy', 'max_depth': 3, 'min_samples_split': 3, 'splitter': 'best'}\n"
     ]
    }
   ],
   "source": [
    "dtc = DecisionTreeClassifier()\n",
    "param_grid = {\n",
    "    'criterion': ['gini','entropy'],\n",
    "    'splitter':['best','random'],\n",
    "    'max_depth': [3,5,7,10],\n",
    "    'min_samples_split': [3,5,6,8],\n",
    "\n",
    "}\n",
    "\n",
    "grid_search_dtc = GridSearchCV(dtc, param_grid, cv=5)\n",
    "grid_search_dtc.fit(X_train, y_train)\n",
    "\n",
    "y_pred_dtc = grid_search_dtc.best_estimator_.predict(X_test)\n",
    "\n",
    "accuracy = accuracy_score(y_test, y_pred_dtc)\n",
    "print(\"Accuracy score of Decision Tree Classifier :\", accuracy)\n",
    "print('best parameters :',grid_search_dtc.best_params_)"
   ]
  },
  {
   "cell_type": "code",
   "execution_count": 183,
   "id": "e1ac7522",
   "metadata": {},
   "outputs": [
    {
     "name": "stdout",
     "output_type": "stream",
     "text": [
      "[[136  17]\n",
      " [ 34  65]]\n"
     ]
    }
   ],
   "source": [
    "print(confusion_matrix(y_test , y_pred_dtc))"
   ]
  },
  {
   "cell_type": "code",
   "execution_count": 184,
   "id": "a6539f08",
   "metadata": {
    "scrolled": true
   },
   "outputs": [
    {
     "name": "stdout",
     "output_type": "stream",
     "text": [
      "              precision    recall  f1-score   support\n",
      "\n",
      "           0       0.80      0.89      0.84       153\n",
      "           1       0.79      0.66      0.72        99\n",
      "\n",
      "    accuracy                           0.80       252\n",
      "   macro avg       0.80      0.77      0.78       252\n",
      "weighted avg       0.80      0.80      0.79       252\n",
      "\n"
     ]
    }
   ],
   "source": [
    "print(classification_report(y_test , y_pred_dtc))"
   ]
  },
  {
   "cell_type": "code",
   "execution_count": 186,
   "id": "c1da7d4a",
   "metadata": {},
   "outputs": [
    {
     "name": "stdout",
     "output_type": "stream",
     "text": [
      "0.7857142857142857\n"
     ]
    }
   ],
   "source": [
    "dt = DecisionTreeClassifier(max_depth = 10)\n",
    "dt.fit(X_train , y_train)\n",
    "pred_dt  = dt.predict(X_test)\n",
    "print(accuracy_score(y_test , pred_dt))"
   ]
  },
  {
   "cell_type": "code",
   "execution_count": 187,
   "id": "4bd1bfe8",
   "metadata": {},
   "outputs": [
    {
     "name": "stdout",
     "output_type": "stream",
     "text": [
      "[[135  18]\n",
      " [ 36  63]]\n"
     ]
    }
   ],
   "source": [
    "print(confusion_matrix(y_test ,pred_dt))"
   ]
  },
  {
   "cell_type": "code",
   "execution_count": null,
   "id": "f23494cd",
   "metadata": {},
   "outputs": [],
   "source": [
    "\"\"\"\n",
    "Decision Tree Classifier is quite Good . But in Precision, It is performing bad as compared to Logistic Regression \n",
    "\"\"\""
   ]
  },
  {
   "cell_type": "markdown",
   "id": "0baed9ce",
   "metadata": {},
   "source": [
    "# 6. Using Random Forest Classifier :"
   ]
  },
  {
   "cell_type": "code",
   "execution_count": 188,
   "id": "58fef155",
   "metadata": {},
   "outputs": [],
   "source": [
    "from sklearn.ensemble import RandomForestClassifier"
   ]
  },
  {
   "cell_type": "code",
   "execution_count": 189,
   "id": "f0971619",
   "metadata": {},
   "outputs": [
    {
     "name": "stdout",
     "output_type": "stream",
     "text": [
      "Accuracy score of Random Forest Classifier : 0.8055555555555556\n"
     ]
    }
   ],
   "source": [
    "rfc = RandomForestClassifier(n_estimators = 500 , criterion = 'gini' ,max_depth = 10)\n",
    "rfc.fit(X_train , y_train)\n",
    "y_pred_rfc = rfc.predict(X_test)\n",
    "accuracy = accuracy_score(y_test, y_pred_rfc)\n",
    "print(\"Accuracy score of Random Forest Classifier :\", accuracy)"
   ]
  },
  {
   "cell_type": "code",
   "execution_count": 190,
   "id": "90159f4e",
   "metadata": {},
   "outputs": [
    {
     "name": "stdout",
     "output_type": "stream",
     "text": [
      "[[135  18]\n",
      " [ 31  68]]\n"
     ]
    }
   ],
   "source": [
    "print(confusion_matrix(y_test , y_pred_rfc))"
   ]
  },
  {
   "cell_type": "code",
   "execution_count": 191,
   "id": "2fcdc714",
   "metadata": {},
   "outputs": [
    {
     "name": "stdout",
     "output_type": "stream",
     "text": [
      "              precision    recall  f1-score   support\n",
      "\n",
      "           0       0.81      0.88      0.85       153\n",
      "           1       0.79      0.69      0.74        99\n",
      "\n",
      "    accuracy                           0.81       252\n",
      "   macro avg       0.80      0.78      0.79       252\n",
      "weighted avg       0.80      0.81      0.80       252\n",
      "\n"
     ]
    }
   ],
   "source": [
    "print(classification_report(y_test , y_pred_rfc))"
   ]
  },
  {
   "cell_type": "code",
   "execution_count": 192,
   "id": "a270ff6d",
   "metadata": {},
   "outputs": [
    {
     "data": {
      "text/plain": [
       "'\\nRandom Forest Classifier is also Performing Well !!\\n'"
      ]
     },
     "execution_count": 192,
     "metadata": {},
     "output_type": "execute_result"
    }
   ],
   "source": [
    "\"\"\"\n",
    "Random Forest Classifier is also Performing Well !!\n",
    "\"\"\""
   ]
  },
  {
   "cell_type": "markdown",
   "id": "543576af",
   "metadata": {},
   "source": [
    "# 7. Using Gradiant Boosting Classifier :"
   ]
  },
  {
   "cell_type": "code",
   "execution_count": 193,
   "id": "893285f2",
   "metadata": {},
   "outputs": [],
   "source": [
    "from sklearn.ensemble import GradientBoostingClassifier"
   ]
  },
  {
   "cell_type": "code",
   "execution_count": 197,
   "id": "d7a1a5c1",
   "metadata": {},
   "outputs": [
    {
     "name": "stdout",
     "output_type": "stream",
     "text": [
      "Accuracy score of Gradient Boosting Classifier : 0.8055555555555556\n"
     ]
    }
   ],
   "source": [
    "gbc = GradientBoostingClassifier(n_estimators = 500 , max_depth = 1 )\n",
    "gbc.fit(X_train , y_train)\n",
    "y_pred_gbc = gbc.predict(X_test)\n",
    "accuracy = accuracy_score(y_test, y_pred_gbc)\n",
    "print(\"Accuracy score of Gradient Boosting Classifier :\", accuracy)"
   ]
  },
  {
   "cell_type": "code",
   "execution_count": 198,
   "id": "e1ae2810",
   "metadata": {},
   "outputs": [
    {
     "name": "stdout",
     "output_type": "stream",
     "text": [
      "[[138  15]\n",
      " [ 34  65]]\n"
     ]
    }
   ],
   "source": [
    "print(confusion_matrix(y_test , y_pred_gbc))"
   ]
  },
  {
   "cell_type": "code",
   "execution_count": 199,
   "id": "f73a6313",
   "metadata": {},
   "outputs": [
    {
     "name": "stdout",
     "output_type": "stream",
     "text": [
      "              precision    recall  f1-score   support\n",
      "\n",
      "           0       0.80      0.90      0.85       153\n",
      "           1       0.81      0.66      0.73        99\n",
      "\n",
      "    accuracy                           0.81       252\n",
      "   macro avg       0.81      0.78      0.79       252\n",
      "weighted avg       0.81      0.81      0.80       252\n",
      "\n"
     ]
    }
   ],
   "source": [
    "print(classification_report(y_test , y_pred_gbc))"
   ]
  },
  {
   "cell_type": "code",
   "execution_count": 200,
   "id": "94b70071",
   "metadata": {},
   "outputs": [
    {
     "data": {
      "text/plain": [
       "'\\nGradient Boosting Classifier is performing better as compared to all the above models\\n'"
      ]
     },
     "execution_count": 200,
     "metadata": {},
     "output_type": "execute_result"
    }
   ],
   "source": [
    "\"\"\"\n",
    "Gradient Boosting Classifier is performing better as compared to all the above models\n",
    "\"\"\""
   ]
  },
  {
   "cell_type": "markdown",
   "id": "5ba73a49",
   "metadata": {},
   "source": [
    "# Using XGBoost :"
   ]
  },
  {
   "cell_type": "code",
   "execution_count": 201,
   "id": "03517da4",
   "metadata": {},
   "outputs": [],
   "source": [
    "import xgboost as xgb\n",
    "dtrain = xgb.DMatrix( X_train, label= y_train)\n",
    "params = {\n",
    "    'eta': 0.1,\n",
    "    'max_depth': 8,\n",
    "    'subsample': 0.8,\n",
    "    'colsample_bytree': 0.7,\n",
    "    'silent': 1\n",
    "}\n",
    "\n",
    "# Train the model\n",
    "model = xgb.train(params,dtrain , num_boost_round=100)"
   ]
  },
  {
   "cell_type": "code",
   "execution_count": 202,
   "id": "424e1ea4",
   "metadata": {},
   "outputs": [
    {
     "data": {
      "text/plain": [
       "0.7976190476190477"
      ]
     },
     "execution_count": 202,
     "metadata": {},
     "output_type": "execute_result"
    }
   ],
   "source": [
    "y_pred_xgb = model.predict(xgb.DMatrix( X_test, label= y_test))\n",
    "accuracy_score(y_test , y_pred_xgb.round())"
   ]
  },
  {
   "cell_type": "code",
   "execution_count": 203,
   "id": "35e69d6f",
   "metadata": {},
   "outputs": [
    {
     "name": "stdout",
     "output_type": "stream",
     "text": [
      "[[135  18]\n",
      " [ 33  66]]\n"
     ]
    }
   ],
   "source": [
    "print(confusion_matrix(y_test , y_pred_xgb.round()))"
   ]
  },
  {
   "cell_type": "code",
   "execution_count": 204,
   "id": "2f5a034f",
   "metadata": {},
   "outputs": [
    {
     "name": "stdout",
     "output_type": "stream",
     "text": [
      "              precision    recall  f1-score   support\n",
      "\n",
      "           0       0.80      0.88      0.84       153\n",
      "           1       0.79      0.67      0.72        99\n",
      "\n",
      "    accuracy                           0.80       252\n",
      "   macro avg       0.79      0.77      0.78       252\n",
      "weighted avg       0.80      0.80      0.79       252\n",
      "\n"
     ]
    }
   ],
   "source": [
    "print(classification_report(y_test , y_pred_xgb.round()))"
   ]
  },
  {
   "cell_type": "code",
   "execution_count": 205,
   "id": "1aece316",
   "metadata": {},
   "outputs": [
    {
     "data": {
      "text/plain": [
       "'\\nXGBoost is performing very good in Precision .\\n'"
      ]
     },
     "execution_count": 205,
     "metadata": {},
     "output_type": "execute_result"
    }
   ],
   "source": [
    "\"\"\"\n",
    "XGBoost is performing very good in Precision .\n",
    "\"\"\""
   ]
  },
  {
   "cell_type": "markdown",
   "id": "58c46d3f",
   "metadata": {},
   "source": [
    "# 9. Using Voting Classifier :"
   ]
  },
  {
   "cell_type": "code",
   "execution_count": 206,
   "id": "1396ef34",
   "metadata": {},
   "outputs": [],
   "source": [
    "from sklearn.ensemble import VotingClassifier"
   ]
  },
  {
   "cell_type": "code",
   "execution_count": 207,
   "id": "01f17951",
   "metadata": {},
   "outputs": [
    {
     "name": "stdout",
     "output_type": "stream",
     "text": [
      "Accuracy score of Voting Classifier : 0.8015873015873016\n"
     ]
    }
   ],
   "source": [
    "voting_clf = VotingClassifier(\n",
    "   estimators = [\n",
    "       ('dtc', DecisionTreeClassifier(criterion = 'gini', max_depth = 10)),\n",
    "       ('rfc',RandomForestClassifier(n_estimators = 500 , criterion = 'gini' ,max_depth = 10  )),\n",
    "       ('gbc',GradientBoostingClassifier(n_estimators = 500 , max_depth = 1))\n",
    "   ])\n",
    "voting_clf.fit(X_train , y_train)\n",
    "voting_pred = voting_clf.predict(X_test)\n",
    "accuracy = accuracy_score(y_test, voting_pred)\n",
    "print(\"Accuracy score of Voting Classifier :\", accuracy)\n"
   ]
  },
  {
   "cell_type": "code",
   "execution_count": 208,
   "id": "c3192bd0",
   "metadata": {},
   "outputs": [
    {
     "name": "stdout",
     "output_type": "stream",
     "text": [
      "[[137  16]\n",
      " [ 34  65]]\n"
     ]
    }
   ],
   "source": [
    "print(confusion_matrix(y_test , voting_pred))"
   ]
  },
  {
   "cell_type": "code",
   "execution_count": 209,
   "id": "05e2e27e",
   "metadata": {},
   "outputs": [
    {
     "name": "stdout",
     "output_type": "stream",
     "text": [
      "              precision    recall  f1-score   support\n",
      "\n",
      "           0       0.80      0.90      0.85       153\n",
      "           1       0.80      0.66      0.72        99\n",
      "\n",
      "    accuracy                           0.80       252\n",
      "   macro avg       0.80      0.78      0.78       252\n",
      "weighted avg       0.80      0.80      0.80       252\n",
      "\n"
     ]
    }
   ],
   "source": [
    "print(classification_report(y_test , voting_pred))"
   ]
  },
  {
   "cell_type": "markdown",
   "id": "2e1773d1",
   "metadata": {},
   "source": [
    "# 10 . Using Stacking Classifier :"
   ]
  },
  {
   "cell_type": "code",
   "execution_count": 210,
   "id": "082ae1f6",
   "metadata": {},
   "outputs": [],
   "source": [
    "from sklearn.ensemble import StackingClassifier"
   ]
  },
  {
   "cell_type": "code",
   "execution_count": 211,
   "id": "62976200",
   "metadata": {},
   "outputs": [],
   "source": [
    "stacking_clf = StackingClassifier(\n",
    "   estimators = [\n",
    "       ('lr', LogisticRegression()),\n",
    "       ('dtc', DecisionTreeClassifier(criterion = 'gini', max_depth = 10)),\n",
    "       ('rfc',RandomForestClassifier(n_estimators = 500 , criterion = 'gini' ,max_depth = 10 , max_leaf_nodes = 16 )),\n",
    "       ('gbc',GradientBoostingClassifier(learning_rate = 0.1 ,n_estimators = 500 , max_depth = 1))\n",
    "   ],\n",
    "   final_estimator = RandomForestClassifier(n_estimators = 500 , max_depth = 15),\n",
    "   cv = 5\n",
    ")\n"
   ]
  },
  {
   "cell_type": "code",
   "execution_count": 212,
   "id": "743c1a93",
   "metadata": {},
   "outputs": [
    {
     "name": "stdout",
     "output_type": "stream",
     "text": [
      "Accuracy score of Stacking Classifier : 0.7936507936507936\n"
     ]
    }
   ],
   "source": [
    "stacking_clf.fit(X_train , y_train)\n",
    "stacking_pred = stacking_clf.predict(X_test)\n",
    "accuracy = accuracy_score(y_test, stacking_pred)\n",
    "print(\"Accuracy score of Stacking Classifier :\", accuracy)"
   ]
  },
  {
   "cell_type": "code",
   "execution_count": 213,
   "id": "2bdd4587",
   "metadata": {},
   "outputs": [
    {
     "data": {
      "text/plain": [
       "'\\nSo , after checking all the models , I would go for RandomForestClassifier \\n'"
      ]
     },
     "execution_count": 213,
     "metadata": {},
     "output_type": "execute_result"
    }
   ],
   "source": [
    "\"\"\"\n",
    "So , after checking all the models , I would go for RandomForestClassifier \n",
    "\"\"\""
   ]
  },
  {
   "cell_type": "markdown",
   "id": "ea35d040",
   "metadata": {},
   "source": [
    "# Creating a prediction function :"
   ]
  },
  {
   "cell_type": "code",
   "execution_count": 216,
   "id": "3d02fc6f",
   "metadata": {},
   "outputs": [],
   "source": [
    "def Titanic_Survived_Prediction(p):\n",
    "    p = p.reshape(1,-1)\n",
    "    pred = rfc.predict(p)\n",
    "    if pred == 1 :\n",
    "        print(\"Survived !\")\n",
    "    else :\n",
    "        print(\"Not Survived !\")"
   ]
  },
  {
   "cell_type": "code",
   "execution_count": 218,
   "id": "61fae754",
   "metadata": {},
   "outputs": [
    {
     "name": "stdout",
     "output_type": "stream",
     "text": [
      "Not Survived !\n"
     ]
    }
   ],
   "source": [
    "p = np.array([3,\t30,\t0,\t0,\t0])\n",
    "Titanic_Survived_Prediction(p)"
   ]
  }
 ],
 "metadata": {
  "kernelspec": {
   "display_name": "Python 3 (ipykernel)",
   "language": "python",
   "name": "python3"
  },
  "language_info": {
   "codemirror_mode": {
    "name": "ipython",
    "version": 3
   },
   "file_extension": ".py",
   "mimetype": "text/x-python",
   "name": "python",
   "nbconvert_exporter": "python",
   "pygments_lexer": "ipython3",
   "version": "3.11.5"
  }
 },
 "nbformat": 4,
 "nbformat_minor": 5
}
